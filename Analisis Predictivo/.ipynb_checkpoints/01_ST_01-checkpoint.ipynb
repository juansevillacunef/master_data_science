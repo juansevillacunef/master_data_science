{
 "cells": [
  {
   "cell_type": "code",
   "execution_count": 1,
   "metadata": {},
   "outputs": [
    {
     "ename": "FileNotFoundError",
     "evalue": "[Errno 2] No such file or directory: 'style.css'",
     "output_type": "error",
     "traceback": [
      "\u001b[0;31m---------------------------------------------------------------------------\u001b[0m",
      "\u001b[0;31mFileNotFoundError\u001b[0m                         Traceback (most recent call last)",
      "\u001b[0;32m/var/folders/41/_wb9xl2j5mx33x3_7jr_cvx00000gp/T/ipykernel_85928/1203365268.py\u001b[0m in \u001b[0;36m<module>\u001b[0;34m\u001b[0m\n\u001b[1;32m      4\u001b[0m     \u001b[0mstyles\u001b[0m \u001b[0;34m=\u001b[0m \u001b[0mopen\u001b[0m\u001b[0;34m(\u001b[0m\u001b[0;34m\"style.css\"\u001b[0m\u001b[0;34m,\u001b[0m \u001b[0;34m\"r\"\u001b[0m\u001b[0;34m)\u001b[0m\u001b[0;34m.\u001b[0m\u001b[0mread\u001b[0m\u001b[0;34m(\u001b[0m\u001b[0;34m)\u001b[0m\u001b[0;34m\u001b[0m\u001b[0;34m\u001b[0m\u001b[0m\n\u001b[1;32m      5\u001b[0m     \u001b[0;32mreturn\u001b[0m \u001b[0mHTML\u001b[0m\u001b[0;34m(\u001b[0m\u001b[0mstyles\u001b[0m\u001b[0;34m)\u001b[0m\u001b[0;34m\u001b[0m\u001b[0;34m\u001b[0m\u001b[0m\n\u001b[0;32m----> 6\u001b[0;31m \u001b[0mcss_styling\u001b[0m\u001b[0;34m(\u001b[0m\u001b[0;34m)\u001b[0m\u001b[0;34m\u001b[0m\u001b[0;34m\u001b[0m\u001b[0m\n\u001b[0m",
      "\u001b[0;32m/var/folders/41/_wb9xl2j5mx33x3_7jr_cvx00000gp/T/ipykernel_85928/1203365268.py\u001b[0m in \u001b[0;36mcss_styling\u001b[0;34m()\u001b[0m\n\u001b[1;32m      2\u001b[0m \u001b[0;32mfrom\u001b[0m \u001b[0mIPython\u001b[0m\u001b[0;34m.\u001b[0m\u001b[0mcore\u001b[0m\u001b[0;34m.\u001b[0m\u001b[0mdisplay\u001b[0m \u001b[0;32mimport\u001b[0m \u001b[0mHTML\u001b[0m\u001b[0;34m\u001b[0m\u001b[0;34m\u001b[0m\u001b[0m\n\u001b[1;32m      3\u001b[0m \u001b[0;32mdef\u001b[0m \u001b[0mcss_styling\u001b[0m\u001b[0;34m(\u001b[0m\u001b[0;34m)\u001b[0m\u001b[0;34m:\u001b[0m\u001b[0;34m\u001b[0m\u001b[0;34m\u001b[0m\u001b[0m\n\u001b[0;32m----> 4\u001b[0;31m     \u001b[0mstyles\u001b[0m \u001b[0;34m=\u001b[0m \u001b[0mopen\u001b[0m\u001b[0;34m(\u001b[0m\u001b[0;34m\"style.css\"\u001b[0m\u001b[0;34m,\u001b[0m \u001b[0;34m\"r\"\u001b[0m\u001b[0;34m)\u001b[0m\u001b[0;34m.\u001b[0m\u001b[0mread\u001b[0m\u001b[0;34m(\u001b[0m\u001b[0;34m)\u001b[0m\u001b[0;34m\u001b[0m\u001b[0;34m\u001b[0m\u001b[0m\n\u001b[0m\u001b[1;32m      5\u001b[0m     \u001b[0;32mreturn\u001b[0m \u001b[0mHTML\u001b[0m\u001b[0;34m(\u001b[0m\u001b[0mstyles\u001b[0m\u001b[0;34m)\u001b[0m\u001b[0;34m\u001b[0m\u001b[0;34m\u001b[0m\u001b[0m\n\u001b[1;32m      6\u001b[0m \u001b[0mcss_styling\u001b[0m\u001b[0;34m(\u001b[0m\u001b[0;34m)\u001b[0m\u001b[0;34m\u001b[0m\u001b[0;34m\u001b[0m\u001b[0m\n",
      "\u001b[0;31mFileNotFoundError\u001b[0m: [Errno 2] No such file or directory: 'style.css'"
     ]
    }
   ],
   "source": [
    "\n",
    "# Styling notebook\n",
    "from IPython.core.display import HTML\n",
    "def css_styling():\n",
    "    styles = open(\"style.css\", \"r\").read()\n",
    "    return HTML(styles)\n",
    "css_styling()"
   ]
  },
  {
   "cell_type": "markdown",
   "metadata": {},
   "source": [
    "# INTRODUCCIÓN\n",
    "\n",
    "## Bibliografía\n",
    "<div class=\"exercise\">\n",
    "https://otexts.com/fpp3/intro.html\n",
    "</div>\n",
    "\n",
    "# 1. Predicción, objetivos y planificación\n",
    "\n",
    "<div class=\"redcuadro\">\n",
    "La predicción es una tarea estadística común en los negocios, donde ayuda a la toma de las decisiones sobre la programación de la producción, el transporte y el personal, y proporciona una guía para la planificación estratégica a largo plazo. Sin embargo, la predicción empresarial a menudo se realiza de forma deficiente y, con frecuencia, se confunde con la planificación y los objetivos. Son tres cosas distintas.\n",
    "</div>\n",
    "\n",
    "\n",
    "\n",
    "## Predicción\n",
    "<div class=\"exercise\">\n",
    "se trata de predecir el futuro con la mayor precisión posible, dada toda la información disponible, incluidos los datos históricos y el conocimiento de cualquier evento futuro que pueda afectar los pronósticos.\n",
    "</div>\n",
    "\n",
    "## Objetivos\n",
    "<div class=\"exercise\">\n",
    "son lo que le gustaría que sucediera. Los objetivos (metas) deben estar vinculados a las predicciones y planes, pero esto no siempre ocurre. Con demasiada frecuencia, los objetivos se establecen sin ningún plan sobre cómo alcanzarlos y sin predicciones sobre si son realistas.\n",
    "</div>\n",
    "\n",
    "## Planificación\n",
    "<div class=\"exercise\">\n",
    "es una respuesta a las predicciones y metas. La planificación implica determinar las acciones apropiadas que se requieren para que sus predicciones coincidan con sus objetivos.\n",
    "</div>\n",
    "\n",
    "## Tipos de Predicción\n",
    "- Predicciones a corto plazo\n",
    "- Predicciones a medio plazo\n",
    "- Predicciones a largo plazo\n",
    "\n",
    "\n",
    "# 2. Determinar qué predecir\n",
    "\n",
    "En las primeras etapas de un proyecto de predicción, se deben tomar decisiones sobre lo que se debe predicción. Por ejemplo, si se requieren predicciones para artículos en un entorno de fabricación, es necesario preguntar si las predcciones son necesarios para:\n",
    "\n",
    "- cada línea de productos, o para grupos de productos?\n",
    "- todos los puntos de venta, o para los puntos de venta agrupados por región, o solo para las ventas totales?\n",
    "- datos semanales, datos mensuales o datos anuales?\n",
    "  \n",
    "También es necesario considerar el **horizonte de predicción**. \n",
    "- ¿Se requerirán predicción con un mes de anticipación, con 6 meses o con diez años?: Serán necesarios diferentes tipos de modelos, dependiendo del horizonte de predicción más importante.\n",
    "- ¿Con qué frecuencia se requieren las predicción? Las predicciones que deben realizarse con frecuencia es mejor utilizar un sistema automatizado que métodos que requieran un trabajo manual cuidadoso.\n",
    "\n",
    "Vale la pena dedicar tiempo a **hablar con las personas** que utilizarán las predicciones para asegurarse de que comprendemos sus necesidades y cómo se utilizarán las predicciones antes de embarcarse en un trabajo extenso para generar las predicciones\n",
    "\n",
    "El siguiente paso es encontrar o **recopilar los datos** en los que se basarán las predicciones.  Una gran parte del tiempo  puede dedicarse a localizar y verificar los datos disponibles antes de desarrollar métodos de predicción adecuados.\n",
    "\n",
    "\n",
    "# 3. Los pasos básicos en una tarea de pronóstico\n",
    "\n",
    "Una **tarea de predicción generalmente implica cinco pasos básicos:**\n",
    "\n",
    "## Paso 1: Definición del problema.\n",
    "A menudo, esta es la parte más difícil de la previsión. Definir el problema con cuidado requiere una comprensión de la forma en que se utilizarán las predicciones, quién requiere las predicciones y cómo encaja dentro de la organización que requiere las predicciones. Un Cientifico de Datos debe dedicar tiempo a hablar con todos los que participarán en la recopilación de datos, el mantenimiento de bases de datos y el uso de las predicciones para la planificación futura.\n",
    "\n",
    "## Paso 2: recopilación de información.\n",
    "Siempre se requieren al menos dos tipos de información: (a) datos estadísticos y (b) la experiencia acumulada de las personas que recopilan los datos y utilizan los pronósticos. \n",
    "\n",
    "## Paso 3: Análisis preliminar (exploratorio).\n",
    "Empiece siempre por graficar los datos. ¿Existen patrones consistentes? ¿Existe una tendencia significativa? ¿Es importante la estacionalidad? ¿Existe evidencia de la presencia de ciclos económicos? ¿Existen valores atípicos en los datos que deban ser explicados por aquellos con conocimientos expertos? ¿Qué tan fuertes son las relaciones entre las variables disponibles para el análisis?\n",
    "\n",
    "## Paso 4: Elección y ajuste de modelos.\n",
    "El mejor modelo a utilizar depende de la disponibilidad de datos históricos, la fuerza de las relaciones entre la variable de pronóstico y cualquier variable explicativa, y la forma en que se utilizarán las predicciones. Es común comparar dos o tres modelos potenciales. \n",
    "\n",
    "## Paso 5: Usar y evaluar el modelo de predicción.\n",
    "Una vez que se ha seleccionado un modelo y se han estimado sus parámetros, el modelo se utiliza para hacer predicciones. El rendimiento del modelo solo se puede evaluar correctamente después de que los datos para el período de predicción estén disponibles. Se han desarrollado varios métodos para ayudar a evaluar la precisión de las predicciones. \n",
    "\n",
    "\n",
    "# 4. La perspectiva de la previsión estadística\n",
    "\n",
    "Lo que estamos tratando de predecir es desconocido (o no lo estaríamos pronosticando), por lo que podemos pensar en ello como una **variable aleatoria**. Por ejemplo, las ventas totales para el próximo mes podrían tomar un rango de valores posibles, y hasta que sumemos las ventas reales al final del mes, no sabremos cuál será el valor. Entonces, hasta que sepamos las ventas del próximo mes, es una cantidad aleatoria.\n",
    "\n",
    "Debido a que el próximo mes está relativamente cerca, generalmente tenemos una buena idea de cuáles podrían ser los valores de ventas probables. Por otro lado, si estamos pronosticando las ventas para el mismo mes del próximo año, los posibles valores que podría tomar son mucho más variables. En la mayoría de las situaciones de predicción, la variación asociada con lo que estamos pronosticando se reducirá a medida que se acerque el evento. En otras palabras, cuanto más adelante prevemos, más inciertos somos.\n",
    "\n",
    "Cuando obtenemos una predicción, estamos estimando **la media del rango de valores posibles que podría tomar la variable aleatoria**. A menudo, una predicción va acompañada de un intervalo de predicción que proporciona un rango de valores que la variable aleatoria podría tomar con una probabilidad relativamente alta. Por ejemplo, un intervalo de predicción del 95% contiene un rango de valores que deben incluir el valor futuro real con una probabilidad del 95%.\n",
    "\n",
    "![0101](img/01/01_img_01.png)\n",
    "\n",
    "\n",
    "\n",
    "\n"
   ]
  }
 ],
 "metadata": {
  "interpreter": {
   "hash": "b38529f6ab6f0e1b6ef2cb807b727755c3d40785d2d300e8b64c1e3d9e13ac5e"
  },
  "kernelspec": {
   "display_name": "Python 3 (ipykernel)",
   "language": "python",
   "name": "python3"
  },
  "language_info": {
   "codemirror_mode": {
    "name": "ipython",
    "version": 3
   },
   "file_extension": ".py",
   "mimetype": "text/x-python",
   "name": "python",
   "nbconvert_exporter": "python",
   "pygments_lexer": "ipython3",
   "version": "3.9.7"
  }
 },
 "nbformat": 4,
 "nbformat_minor": 2
}
