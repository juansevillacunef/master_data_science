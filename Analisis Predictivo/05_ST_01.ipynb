{
 "cells": [
  {
   "cell_type": "markdown",
   "metadata": {},
   "source": [
    " Predicción de Series Temporales\n",
    " Modelos de Intervención y Outliers"
   ]
  },
  {
   "cell_type": "code",
   "execution_count": 1,
   "metadata": {},
   "outputs": [
    {
     "data": {
      "text/html": [
       "<style>\n",
       "/* =========\n",
       "CSS quant.css\n",
       "Para usar en rmarkdown\n",
       "(c) Ricardo A. Queralt\n",
       "====== */\n",
       "\n",
       "p {line-height: 1.5em;}\n",
       "b {color: rgba(255, 69, 0, 0.7)}\n",
       "\n",
       "mytag {\n",
       "    font-weight: bold;\n",
       "    color: red;\n",
       "    background-color: yellow;\n",
       "}\n",
       "\n",
       "\n",
       "@font-face {\n",
       "  font-family: 'Muli';\n",
       "  font-style: normal;\n",
       "  font-weight: 300;\n",
       "  src: url(https://fonts.gstatic.com/s/muli/v22/7Aulp_0qiz-aVz7u3PJLcUMYOFnOkEk30e6fwniDtzM.woff) format('woff');\n",
       "  unicode-range: U+0000-00FF, U+0131, U+0152-0153, U+02BB-02BC, U+02C6, U+02DA, U+02DC, U+2000-206F, U+2074, U+20AC, U+2122, U+2191, U+2193, U+2212, U+2215, U+FEFF, U+FFFD;\n",
       "}\n",
       "\n",
       "body {\n",
       "  font-family: 'Muli';\n",
       "  font-weight: 300;\n",
       "}\n",
       "p{\n",
       "    font-family: 'Muli';\n",
       "    margin-bottom: 30px;\n",
       "}\n",
       "\n",
       "ul{\n",
       "    font-family: 'Muli';\n",
       "    margin-bottom: 30px;\n",
       "}\n",
       "\n",
       "li{\n",
       "    font-family: 'Muli';\n",
       "      margin-bottom: 10px;\n",
       "}\n",
       "\n",
       "ol{\n",
       "    font-family: 'Muli';\n",
       "    margin-bottom: 30px;\n",
       "}\n",
       "\n",
       "h1, h2, h3,h4 {\n",
       "    font-family: 'Whitney';\n",
       "    font-variant: small-caps;\n",
       "}\n",
       "\n",
       "\n",
       "\n",
       "\n",
       "\n",
       "\n",
       "h1 {\n",
       "  color: rgba(255, 69, 0, 0.7);\n",
       "}\n",
       "\n",
       "strong {\n",
       "     color: rgba(255, 69, 0, 0.7);\n",
       "     font-weight: 400;\n",
       "}\n",
       "\n",
       "h2 {\n",
       "  color: rgba(49, 199, 58, 0.5);\n",
       "  font-weight: bold;\n",
       "  font-variant: small-caps;\n",
       "}\n",
       "\n",
       "h3 {\n",
       "  color: rgba(49, 199, 58, 0.5);\n",
       "  font-weight: bold;\n",
       "  text-decoration: underline;\n",
       "}\n",
       "\n",
       "\n",
       "h4 {\n",
       "  color: rgba(49, 199, 58, 0.5);\n",
       "  \n",
       "}\n",
       "\n",
       ".redbox {\n",
       "  border: 1px solid rgb(0, 102, 102);\n",
       "  padding: 10px 10px;\n",
       "  background-color: #ffbbbb;\n",
       "    border-radius: 5px;\n",
       "}\n",
       "\n",
       ".instructions { \n",
       "    margin-top: 30px;\n",
       "    margin-bottom: 30px;\n",
       "    padding: 10px 10px;\n",
       "    border: 1px solid rgb(0, 102, 102);\n",
       "    border: 1px solid rgba(0, 102, 102, 0.2);\n",
       "    border-radius: 5px;\n",
       "    color: rgb(0, 102, 102);\n",
       "    color: rgba(0, 102, 102, 0.8);\n",
       "    background: rgb(204, 255, 255) !important;\n",
       "    background: rgba(204, 255, 255, 0.1) !important;\n",
       "}\n",
       "\n",
       ".exercise {\n",
       "    position: relative; /* Create a positioning context */\n",
       "    margin: 0 0 10px 0; /* Give each list item a left margin to make room for the numbers */\n",
       "    padding: 10px 30px; /* Add some spacing around the content */\n",
       "    border-top: 2px solid #35CD4B;\n",
       "    background: rgb(49, 199, 58) !important;\n",
       "    background: rgba(49, 199, 58, 0.1)!important;\n",
       "}\n",
       "\n",
       ".redcuadro {\n",
       "    position: relative; /* Create a positioning context */\n",
       "    margin: 0 0 10px 0; /* Give each list item a left margin to make room for the numbers */\n",
       "    padding: 10px 30px; /* Add some spacing around the content */\n",
       "    border-top: 2px solid rgba(240, 7, 58, 0.66);\n",
       "    background: #ffbbbb !important;\n",
       "   /* background: rgba(240, 7, 58, 0.66)!important; */\n",
       "}\n",
       "\n",
       ".imagen {\n",
       "    position: relative; /* Create a positioning context */\n",
       "    margin: 0 0 10px 0; /* Give each list item a left margin to make room for the numbers */\n",
       "    padding: 10px 30px; /* Add some spacing around the content */\n",
       "    border-top: 2px solid rgb(0, 102, 102);\n",
       "    background: rgb(204, 255, 255) !important;\n",
       "    background: rgba(204, 255, 255, 0.3) !important;\n",
       "}\n",
       "\n",
       "\n",
       "\n",
       ".center {\n",
       "  text-align: center;\n",
       "}\n",
       ".azul{\n",
       "  color: rgb(49, 199, 58);\n",
       "}\n",
       ".infobox {\n",
       "  padding: 1em 1em 1em 4em;\n",
       "  margin-bottom: 10px;\n",
       "  border: 2px solid orange;\n",
       "  border-radius: 10px;\n",
       "  background: #f5f5f5 5px center/3em no-repeat;\n",
       "}\n",
       "\n",
       "ol {\n",
       "  list-style: none;\n",
       "  counter-reset: my-awesome-counter;\n",
       "}\n",
       "ol li {\n",
       "  counter-increment: my-awesome-counter;\n",
       "}\n",
       "\n",
       "ol li::before {\n",
       "  content: counter(my-awesome-counter) \". \";\n",
       "  color: rgba(255, 69, 0, 0.7);\n",
       "  font-weight: bold;\n",
       "}\n",
       "\n",
       "ul {list-style: none}\n",
       "\n",
       "ul {\n",
       "    list-style: none; /* Remove default bullets */\n",
       "  }\n",
       "  \n",
       "\n",
       "ul li::before {content: \"★\"; \n",
       "  color: rgba(255, 69, 0, 0.7);  \n",
       "  display: inline-block; \n",
       "  width: 1em;\n",
       "  margin-left: -0.45em;\n",
       "  text-indent: -1em;\n",
       "  }\n",
       "\n",
       "\n",
       ".hr1 {\n",
       "    display: block;\n",
       "    height: 6px;\n",
       "    border: 0;\n",
       "    border-top: 4px solid rgba(255, 69, 0, 0.7);\n",
       "    margin: 1em 0;\n",
       "    padding: 0;\n",
       "}\n",
       "\n",
       "\n",
       ".hr2 {\n",
       "    display: block;\n",
       "    height: 6px;\n",
       "    border: 0;\n",
       "    border-top: 4px solid rgba(49, 199, 58, 0.5);\n",
       "    margin: 1em 0;\n",
       "    padding: 0;\n",
       "}\n",
       "\n",
       "\n",
       ".hr2d {\n",
       "    display: block;\n",
       "    height: 6px;\n",
       "    border: 0;\n",
       "    border-top: 2px dotted rgba(49, 199, 58, 0.5);\n",
       "    margin: 1em 0;\n",
       "    padding: 0;\n",
       "}\n",
       "\n",
       "\n",
       ".hr2b {\n",
       "    position: relative; /* Create a positioning context */\n",
       "    margin: 0 0 10px 0; /* Give each list item a left margin to make room for the numbers */\n",
       "    padding: 10px 30px; /* Add some spacing around the content */\n",
       "    border-top: 2px dotted rgba(49, 199, 58, 0.5);\n",
       "}\n",
       "\n",
       "</style>"
      ],
      "text/plain": [
       "<IPython.core.display.HTML object>"
      ]
     },
     "execution_count": 1,
     "metadata": {},
     "output_type": "execute_result"
    }
   ],
   "source": [
    "# Styling notebook\n",
    "from IPython.core.display import HTML\n",
    "def css_styling():\n",
    "    styles = open(\"style.css\", \"r\",encoding=\"utf-8\").read()\n",
    "    return HTML(styles)\n",
    "css_styling()"
   ]
  },
  {
   "cell_type": "code",
   "execution_count": 2,
   "metadata": {},
   "outputs": [],
   "source": [
    "import warnings\n",
    "warnings.filterwarnings('ignore')"
   ]
  },
  {
   "cell_type": "code",
   "execution_count": 3,
   "metadata": {},
   "outputs": [],
   "source": [
    "# Packages\n",
    "import pandas as pd\n",
    "import numpy as np\n",
    "import matplotlib.pyplot as plt"
   ]
  },
  {
   "cell_type": "code",
   "execution_count": 4,
   "metadata": {},
   "outputs": [],
   "source": [
    "# Importamos la libreria de gráficos Seaborn\n",
    "import seaborn as sns\n",
    "sns.set(rc={'figure.figsize':(11, 4)})"
   ]
  },
  {
   "cell_type": "markdown",
   "metadata": {},
   "source": [
    " Tipos de modelos de intervención\n",
    " Simulacion\n",
    " Impulso"
   ]
  },
  {
   "cell_type": "markdown",
   "metadata": {},
   "source": [
    " Crear una data frame temporal"
   ]
  },
  {
   "cell_type": "code",
   "execution_count": 5,
   "metadata": {},
   "outputs": [
    {
     "data": {
      "text/html": [
       "<div>\n",
       "<style scoped>\n",
       "    .dataframe tbody tr th:only-of-type {\n",
       "        vertical-align: middle;\n",
       "    }\n",
       "\n",
       "    .dataframe tbody tr th {\n",
       "        vertical-align: top;\n",
       "    }\n",
       "\n",
       "    .dataframe thead th {\n",
       "        text-align: right;\n",
       "    }\n",
       "</style>\n",
       "<table border=\"1\" class=\"dataframe\">\n",
       "  <thead>\n",
       "    <tr style=\"text-align: right;\">\n",
       "      <th></th>\n",
       "      <th>data</th>\n",
       "    </tr>\n",
       "    <tr>\n",
       "      <th>date</th>\n",
       "      <th></th>\n",
       "    </tr>\n",
       "  </thead>\n",
       "  <tbody>\n",
       "    <tr>\n",
       "      <th>2015-07-31</th>\n",
       "      <td>0.0</td>\n",
       "    </tr>\n",
       "    <tr>\n",
       "      <th>2015-08-31</th>\n",
       "      <td>0.0</td>\n",
       "    </tr>\n",
       "    <tr>\n",
       "      <th>2015-09-30</th>\n",
       "      <td>0.0</td>\n",
       "    </tr>\n",
       "    <tr>\n",
       "      <th>2015-10-31</th>\n",
       "      <td>0.0</td>\n",
       "    </tr>\n",
       "    <tr>\n",
       "      <th>2015-11-30</th>\n",
       "      <td>0.0</td>\n",
       "    </tr>\n",
       "  </tbody>\n",
       "</table>\n",
       "</div>"
      ],
      "text/plain": [
       "            data\n",
       "date            \n",
       "2015-07-31   0.0\n",
       "2015-08-31   0.0\n",
       "2015-09-30   0.0\n",
       "2015-10-31   0.0\n",
       "2015-11-30   0.0"
      ]
     },
     "execution_count": 5,
     "metadata": {},
     "output_type": "execute_result"
    }
   ],
   "source": [
    "#\n",
    "date_rng = pd.date_range(start='2015/07/01', end='2021/11/15', freq='m')\n",
    "ts_imp = pd.DataFrame(date_rng, columns=['date']).set_index('date')\n",
    "ts_imp['data'] = np.zeros(len(date_rng))\n",
    "ts_imp.head(5)"
   ]
  },
  {
   "cell_type": "code",
   "execution_count": 6,
   "metadata": {},
   "outputs": [
    {
     "data": {
      "text/html": [
       "<div>\n",
       "<style scoped>\n",
       "    .dataframe tbody tr th:only-of-type {\n",
       "        vertical-align: middle;\n",
       "    }\n",
       "\n",
       "    .dataframe tbody tr th {\n",
       "        vertical-align: top;\n",
       "    }\n",
       "\n",
       "    .dataframe thead th {\n",
       "        text-align: right;\n",
       "    }\n",
       "</style>\n",
       "<table border=\"1\" class=\"dataframe\">\n",
       "  <thead>\n",
       "    <tr style=\"text-align: right;\">\n",
       "      <th></th>\n",
       "      <th>data</th>\n",
       "    </tr>\n",
       "    <tr>\n",
       "      <th>date</th>\n",
       "      <th></th>\n",
       "    </tr>\n",
       "  </thead>\n",
       "  <tbody>\n",
       "    <tr>\n",
       "      <th>2020-01-31</th>\n",
       "      <td>0.0</td>\n",
       "    </tr>\n",
       "    <tr>\n",
       "      <th>2020-02-29</th>\n",
       "      <td>0.0</td>\n",
       "    </tr>\n",
       "    <tr>\n",
       "      <th>2020-03-31</th>\n",
       "      <td>0.0</td>\n",
       "    </tr>\n",
       "    <tr>\n",
       "      <th>2020-04-30</th>\n",
       "      <td>0.0</td>\n",
       "    </tr>\n",
       "    <tr>\n",
       "      <th>2020-05-31</th>\n",
       "      <td>0.0</td>\n",
       "    </tr>\n",
       "    <tr>\n",
       "      <th>2020-06-30</th>\n",
       "      <td>0.0</td>\n",
       "    </tr>\n",
       "    <tr>\n",
       "      <th>2020-07-31</th>\n",
       "      <td>0.0</td>\n",
       "    </tr>\n",
       "    <tr>\n",
       "      <th>2020-08-31</th>\n",
       "      <td>0.0</td>\n",
       "    </tr>\n",
       "    <tr>\n",
       "      <th>2020-09-30</th>\n",
       "      <td>0.0</td>\n",
       "    </tr>\n",
       "    <tr>\n",
       "      <th>2020-10-31</th>\n",
       "      <td>0.0</td>\n",
       "    </tr>\n",
       "    <tr>\n",
       "      <th>2020-11-30</th>\n",
       "      <td>0.0</td>\n",
       "    </tr>\n",
       "    <tr>\n",
       "      <th>2020-12-31</th>\n",
       "      <td>0.0</td>\n",
       "    </tr>\n",
       "  </tbody>\n",
       "</table>\n",
       "</div>"
      ],
      "text/plain": [
       "            data\n",
       "date            \n",
       "2020-01-31   0.0\n",
       "2020-02-29   0.0\n",
       "2020-03-31   0.0\n",
       "2020-04-30   0.0\n",
       "2020-05-31   0.0\n",
       "2020-06-30   0.0\n",
       "2020-07-31   0.0\n",
       "2020-08-31   0.0\n",
       "2020-09-30   0.0\n",
       "2020-10-31   0.0\n",
       "2020-11-30   0.0\n",
       "2020-12-31   0.0"
      ]
     },
     "execution_count": 6,
     "metadata": {},
     "output_type": "execute_result"
    }
   ],
   "source": [
    "ts_imp.loc[\"2020\"]"
   ]
  },
  {
   "cell_type": "code",
   "execution_count": 7,
   "metadata": {},
   "outputs": [
    {
     "data": {
      "text/html": [
       "<div>\n",
       "<style scoped>\n",
       "    .dataframe tbody tr th:only-of-type {\n",
       "        vertical-align: middle;\n",
       "    }\n",
       "\n",
       "    .dataframe tbody tr th {\n",
       "        vertical-align: top;\n",
       "    }\n",
       "\n",
       "    .dataframe thead th {\n",
       "        text-align: right;\n",
       "    }\n",
       "</style>\n",
       "<table border=\"1\" class=\"dataframe\">\n",
       "  <thead>\n",
       "    <tr style=\"text-align: right;\">\n",
       "      <th></th>\n",
       "      <th>data</th>\n",
       "    </tr>\n",
       "    <tr>\n",
       "      <th>date</th>\n",
       "      <th></th>\n",
       "    </tr>\n",
       "  </thead>\n",
       "  <tbody>\n",
       "    <tr>\n",
       "      <th>2020-01-31</th>\n",
       "      <td>0.0</td>\n",
       "    </tr>\n",
       "    <tr>\n",
       "      <th>2020-02-29</th>\n",
       "      <td>0.0</td>\n",
       "    </tr>\n",
       "    <tr>\n",
       "      <th>2020-03-31</th>\n",
       "      <td>1.0</td>\n",
       "    </tr>\n",
       "    <tr>\n",
       "      <th>2020-04-30</th>\n",
       "      <td>0.0</td>\n",
       "    </tr>\n",
       "    <tr>\n",
       "      <th>2020-05-31</th>\n",
       "      <td>0.0</td>\n",
       "    </tr>\n",
       "    <tr>\n",
       "      <th>2020-06-30</th>\n",
       "      <td>0.0</td>\n",
       "    </tr>\n",
       "    <tr>\n",
       "      <th>2020-07-31</th>\n",
       "      <td>0.0</td>\n",
       "    </tr>\n",
       "    <tr>\n",
       "      <th>2020-08-31</th>\n",
       "      <td>0.0</td>\n",
       "    </tr>\n",
       "    <tr>\n",
       "      <th>2020-09-30</th>\n",
       "      <td>0.0</td>\n",
       "    </tr>\n",
       "    <tr>\n",
       "      <th>2020-10-31</th>\n",
       "      <td>0.0</td>\n",
       "    </tr>\n",
       "    <tr>\n",
       "      <th>2020-11-30</th>\n",
       "      <td>0.0</td>\n",
       "    </tr>\n",
       "    <tr>\n",
       "      <th>2020-12-31</th>\n",
       "      <td>0.0</td>\n",
       "    </tr>\n",
       "  </tbody>\n",
       "</table>\n",
       "</div>"
      ],
      "text/plain": [
       "            data\n",
       "date            \n",
       "2020-01-31   0.0\n",
       "2020-02-29   0.0\n",
       "2020-03-31   1.0\n",
       "2020-04-30   0.0\n",
       "2020-05-31   0.0\n",
       "2020-06-30   0.0\n",
       "2020-07-31   0.0\n",
       "2020-08-31   0.0\n",
       "2020-09-30   0.0\n",
       "2020-10-31   0.0\n",
       "2020-11-30   0.0\n",
       "2020-12-31   0.0"
      ]
     },
     "execution_count": 7,
     "metadata": {},
     "output_type": "execute_result"
    }
   ],
   "source": [
    "# Impulso en Marzo\n",
    "\n",
    "ts_imp.loc[\"2020-03-31\"]=1\n",
    "ts_imp.loc[\"2020\"]"
   ]
  },
  {
   "cell_type": "code",
   "execution_count": 8,
   "metadata": {},
   "outputs": [
    {
     "data": {
      "text/plain": [
       "<AxesSubplot:xlabel='date'>"
      ]
     },
     "execution_count": 8,
     "metadata": {},
     "output_type": "execute_result"
    },
    {
     "data": {
      "image/png": "[encoded data removed]",
      "text/plain": [
       "<Figure size 792x288 with 1 Axes>"
      ]
     },
     "metadata": {},
     "output_type": "display_data"
    }
   ],
   "source": [
    "#\n",
    "ts_imp.plot()"
   ]
  },
  {
   "cell_type": "markdown",
   "metadata": {},
   "source": [
    " Tipos de modelos de intervenció\n",
    " Simulacion\n",
    " Escalon"
   ]
  },
  {
   "cell_type": "markdown",
   "metadata": {},
   "source": [
    " Crear una data frame temporal"
   ]
  },
  {
   "cell_type": "code",
   "execution_count": 9,
   "metadata": {},
   "outputs": [
    {
     "data": {
      "text/html": [
       "<div>\n",
       "<style scoped>\n",
       "    .dataframe tbody tr th:only-of-type {\n",
       "        vertical-align: middle;\n",
       "    }\n",
       "\n",
       "    .dataframe tbody tr th {\n",
       "        vertical-align: top;\n",
       "    }\n",
       "\n",
       "    .dataframe thead th {\n",
       "        text-align: right;\n",
       "    }\n",
       "</style>\n",
       "<table border=\"1\" class=\"dataframe\">\n",
       "  <thead>\n",
       "    <tr style=\"text-align: right;\">\n",
       "      <th></th>\n",
       "      <th>data</th>\n",
       "    </tr>\n",
       "    <tr>\n",
       "      <th>date</th>\n",
       "      <th></th>\n",
       "    </tr>\n",
       "  </thead>\n",
       "  <tbody>\n",
       "    <tr>\n",
       "      <th>2015-07-31</th>\n",
       "      <td>0.0</td>\n",
       "    </tr>\n",
       "    <tr>\n",
       "      <th>2015-08-31</th>\n",
       "      <td>0.0</td>\n",
       "    </tr>\n",
       "    <tr>\n",
       "      <th>2015-09-30</th>\n",
       "      <td>0.0</td>\n",
       "    </tr>\n",
       "    <tr>\n",
       "      <th>2015-10-31</th>\n",
       "      <td>0.0</td>\n",
       "    </tr>\n",
       "    <tr>\n",
       "      <th>2015-11-30</th>\n",
       "      <td>0.0</td>\n",
       "    </tr>\n",
       "  </tbody>\n",
       "</table>\n",
       "</div>"
      ],
      "text/plain": [
       "            data\n",
       "date            \n",
       "2015-07-31   0.0\n",
       "2015-08-31   0.0\n",
       "2015-09-30   0.0\n",
       "2015-10-31   0.0\n",
       "2015-11-30   0.0"
      ]
     },
     "execution_count": 9,
     "metadata": {},
     "output_type": "execute_result"
    }
   ],
   "source": [
    "#\n",
    "ts_esc = pd.DataFrame(date_rng, columns=['date']).set_index('date')\n",
    "ts_esc['data'] = np.zeros(len(date_rng))\n",
    "ts_esc.head(5)"
   ]
  },
  {
   "cell_type": "code",
   "execution_count": 10,
   "metadata": {},
   "outputs": [
    {
     "data": {
      "text/html": [
       "<div>\n",
       "<style scoped>\n",
       "    .dataframe tbody tr th:only-of-type {\n",
       "        vertical-align: middle;\n",
       "    }\n",
       "\n",
       "    .dataframe tbody tr th {\n",
       "        vertical-align: top;\n",
       "    }\n",
       "\n",
       "    .dataframe thead th {\n",
       "        text-align: right;\n",
       "    }\n",
       "</style>\n",
       "<table border=\"1\" class=\"dataframe\">\n",
       "  <thead>\n",
       "    <tr style=\"text-align: right;\">\n",
       "      <th></th>\n",
       "      <th>data</th>\n",
       "    </tr>\n",
       "    <tr>\n",
       "      <th>date</th>\n",
       "      <th></th>\n",
       "    </tr>\n",
       "  </thead>\n",
       "  <tbody>\n",
       "    <tr>\n",
       "      <th>2020-01-31</th>\n",
       "      <td>0.0</td>\n",
       "    </tr>\n",
       "    <tr>\n",
       "      <th>2020-02-29</th>\n",
       "      <td>0.0</td>\n",
       "    </tr>\n",
       "    <tr>\n",
       "      <th>2020-03-31</th>\n",
       "      <td>0.0</td>\n",
       "    </tr>\n",
       "    <tr>\n",
       "      <th>2020-04-30</th>\n",
       "      <td>0.0</td>\n",
       "    </tr>\n",
       "    <tr>\n",
       "      <th>2020-05-31</th>\n",
       "      <td>0.0</td>\n",
       "    </tr>\n",
       "    <tr>\n",
       "      <th>2020-06-30</th>\n",
       "      <td>0.0</td>\n",
       "    </tr>\n",
       "    <tr>\n",
       "      <th>2020-07-31</th>\n",
       "      <td>0.0</td>\n",
       "    </tr>\n",
       "    <tr>\n",
       "      <th>2020-08-31</th>\n",
       "      <td>0.0</td>\n",
       "    </tr>\n",
       "    <tr>\n",
       "      <th>2020-09-30</th>\n",
       "      <td>0.0</td>\n",
       "    </tr>\n",
       "    <tr>\n",
       "      <th>2020-10-31</th>\n",
       "      <td>0.0</td>\n",
       "    </tr>\n",
       "    <tr>\n",
       "      <th>2020-11-30</th>\n",
       "      <td>0.0</td>\n",
       "    </tr>\n",
       "    <tr>\n",
       "      <th>2020-12-31</th>\n",
       "      <td>0.0</td>\n",
       "    </tr>\n",
       "  </tbody>\n",
       "</table>\n",
       "</div>"
      ],
      "text/plain": [
       "            data\n",
       "date            \n",
       "2020-01-31   0.0\n",
       "2020-02-29   0.0\n",
       "2020-03-31   0.0\n",
       "2020-04-30   0.0\n",
       "2020-05-31   0.0\n",
       "2020-06-30   0.0\n",
       "2020-07-31   0.0\n",
       "2020-08-31   0.0\n",
       "2020-09-30   0.0\n",
       "2020-10-31   0.0\n",
       "2020-11-30   0.0\n",
       "2020-12-31   0.0"
      ]
     },
     "execution_count": 10,
     "metadata": {},
     "output_type": "execute_result"
    }
   ],
   "source": [
    "#\n",
    "ts_esc.loc[\"2020\"]"
   ]
  },
  {
   "cell_type": "code",
   "execution_count": 11,
   "metadata": {},
   "outputs": [
    {
     "data": {
      "text/html": [
       "<div>\n",
       "<style scoped>\n",
       "    .dataframe tbody tr th:only-of-type {\n",
       "        vertical-align: middle;\n",
       "    }\n",
       "\n",
       "    .dataframe tbody tr th {\n",
       "        vertical-align: top;\n",
       "    }\n",
       "\n",
       "    .dataframe thead th {\n",
       "        text-align: right;\n",
       "    }\n",
       "</style>\n",
       "<table border=\"1\" class=\"dataframe\">\n",
       "  <thead>\n",
       "    <tr style=\"text-align: right;\">\n",
       "      <th></th>\n",
       "      <th>data</th>\n",
       "    </tr>\n",
       "    <tr>\n",
       "      <th>date</th>\n",
       "      <th></th>\n",
       "    </tr>\n",
       "  </thead>\n",
       "  <tbody>\n",
       "    <tr>\n",
       "      <th>2020-01-31</th>\n",
       "      <td>0.0</td>\n",
       "    </tr>\n",
       "    <tr>\n",
       "      <th>2020-02-29</th>\n",
       "      <td>0.0</td>\n",
       "    </tr>\n",
       "    <tr>\n",
       "      <th>2020-03-31</th>\n",
       "      <td>1.0</td>\n",
       "    </tr>\n",
       "    <tr>\n",
       "      <th>2020-04-30</th>\n",
       "      <td>1.0</td>\n",
       "    </tr>\n",
       "    <tr>\n",
       "      <th>2020-05-31</th>\n",
       "      <td>1.0</td>\n",
       "    </tr>\n",
       "    <tr>\n",
       "      <th>2020-06-30</th>\n",
       "      <td>1.0</td>\n",
       "    </tr>\n",
       "    <tr>\n",
       "      <th>2020-07-31</th>\n",
       "      <td>1.0</td>\n",
       "    </tr>\n",
       "    <tr>\n",
       "      <th>2020-08-31</th>\n",
       "      <td>1.0</td>\n",
       "    </tr>\n",
       "    <tr>\n",
       "      <th>2020-09-30</th>\n",
       "      <td>1.0</td>\n",
       "    </tr>\n",
       "    <tr>\n",
       "      <th>2020-10-31</th>\n",
       "      <td>1.0</td>\n",
       "    </tr>\n",
       "    <tr>\n",
       "      <th>2020-11-30</th>\n",
       "      <td>1.0</td>\n",
       "    </tr>\n",
       "    <tr>\n",
       "      <th>2020-12-31</th>\n",
       "      <td>1.0</td>\n",
       "    </tr>\n",
       "    <tr>\n",
       "      <th>2021-01-31</th>\n",
       "      <td>1.0</td>\n",
       "    </tr>\n",
       "    <tr>\n",
       "      <th>2021-02-28</th>\n",
       "      <td>1.0</td>\n",
       "    </tr>\n",
       "    <tr>\n",
       "      <th>2021-03-31</th>\n",
       "      <td>1.0</td>\n",
       "    </tr>\n",
       "    <tr>\n",
       "      <th>2021-04-30</th>\n",
       "      <td>1.0</td>\n",
       "    </tr>\n",
       "    <tr>\n",
       "      <th>2021-05-31</th>\n",
       "      <td>1.0</td>\n",
       "    </tr>\n",
       "    <tr>\n",
       "      <th>2021-06-30</th>\n",
       "      <td>1.0</td>\n",
       "    </tr>\n",
       "    <tr>\n",
       "      <th>2021-07-31</th>\n",
       "      <td>1.0</td>\n",
       "    </tr>\n",
       "    <tr>\n",
       "      <th>2021-08-31</th>\n",
       "      <td>1.0</td>\n",
       "    </tr>\n",
       "    <tr>\n",
       "      <th>2021-09-30</th>\n",
       "      <td>1.0</td>\n",
       "    </tr>\n",
       "    <tr>\n",
       "      <th>2021-10-31</th>\n",
       "      <td>1.0</td>\n",
       "    </tr>\n",
       "  </tbody>\n",
       "</table>\n",
       "</div>"
      ],
      "text/plain": [
       "            data\n",
       "date            \n",
       "2020-01-31   0.0\n",
       "2020-02-29   0.0\n",
       "2020-03-31   1.0\n",
       "2020-04-30   1.0\n",
       "2020-05-31   1.0\n",
       "2020-06-30   1.0\n",
       "2020-07-31   1.0\n",
       "2020-08-31   1.0\n",
       "2020-09-30   1.0\n",
       "2020-10-31   1.0\n",
       "2020-11-30   1.0\n",
       "2020-12-31   1.0\n",
       "2021-01-31   1.0\n",
       "2021-02-28   1.0\n",
       "2021-03-31   1.0\n",
       "2021-04-30   1.0\n",
       "2021-05-31   1.0\n",
       "2021-06-30   1.0\n",
       "2021-07-31   1.0\n",
       "2021-08-31   1.0\n",
       "2021-09-30   1.0\n",
       "2021-10-31   1.0"
      ]
     },
     "execution_count": 11,
     "metadata": {},
     "output_type": "execute_result"
    }
   ],
   "source": [
    "#\n",
    "ts_esc.loc[\"2020-03-31\":]=1\n",
    "ts_esc.loc[\"2020\":\"2021\"]"
   ]
  },
  {
   "cell_type": "code",
   "execution_count": 12,
   "metadata": {},
   "outputs": [
    {
     "data": {
      "text/plain": [
       "<AxesSubplot:xlabel='date'>"
      ]
     },
     "execution_count": 12,
     "metadata": {},
     "output_type": "execute_result"
    },
    {
     "data": {
      "image/png": "[encoded data removed]",
      "text/plain": [
       "<Figure size 792x288 with 1 Axes>"
      ]
     },
     "metadata": {},
     "output_type": "display_data"
    }
   ],
   "source": [
    "#\n",
    "ts_esc.plot()"
   ]
  },
  {
   "cell_type": "markdown",
   "metadata": {},
   "source": [
    " Tipos de modelos de intervención\n",
    " Simulacion\n",
    " Rampa"
   ]
  },
  {
   "cell_type": "markdown",
   "metadata": {},
   "source": [
    " Crear una data frame temporal"
   ]
  },
  {
   "cell_type": "code",
   "execution_count": 13,
   "metadata": {},
   "outputs": [],
   "source": [
    "#\n",
    "import statsmodels.api as sm"
   ]
  },
  {
   "cell_type": "code",
   "execution_count": 14,
   "metadata": {},
   "outputs": [
    {
     "data": {
      "text/plain": [
       "<AxesSubplot:xlabel='date'>"
      ]
     },
     "execution_count": 14,
     "metadata": {},
     "output_type": "execute_result"
    },
    {
     "data": {
      "image/png": "[encoded data removed]",
      "text/plain": [
       "<Figure size 792x288 with 1 Axes>"
      ]
     },
     "metadata": {},
     "output_type": "display_data"
    }
   ],
   "source": [
    "# Rampa con escalon\n",
    "# delta=1\n",
    "delta=1\n",
    "ts_rampa=sm.tsa.filters.recursive_filter(ts_esc, np.r_[delta])\n",
    "ts_rampa.plot()"
   ]
  },
  {
   "cell_type": "code",
   "execution_count": 15,
   "metadata": {},
   "outputs": [
    {
     "data": {
      "text/plain": [
       "<AxesSubplot:xlabel='date'>"
      ]
     },
     "execution_count": 15,
     "metadata": {},
     "output_type": "execute_result"
    },
    {
     "data": {
      "image/png": "[encoded data removed]",
      "text/plain": [
       "<Figure size 792x288 with 1 Axes>"
      ]
     },
     "metadata": {},
     "output_type": "display_data"
    }
   ],
   "source": [
    "# Rampa con escalon\n",
    "# delta=0.8\n",
    "delta=0.8\n",
    "ts_rampa=sm.tsa.filters.recursive_filter(ts_esc, np.r_[delta])\n",
    "ts_rampa.plot()"
   ]
  },
  {
   "cell_type": "code",
   "execution_count": 16,
   "metadata": {},
   "outputs": [
    {
     "data": {
      "text/plain": [
       "<AxesSubplot:xlabel='date'>"
      ]
     },
     "execution_count": 16,
     "metadata": {},
     "output_type": "execute_result"
    },
    {
     "data": {
      "image/png": "[encoded data removed]",
      "text/plain": [
       "<Figure size 792x288 with 1 Axes>"
      ]
     },
     "metadata": {},
     "output_type": "display_data"
    }
   ],
   "source": [
    "# Rampa con impulso\n",
    "# delta=0.8\n",
    "delta=0.8\n",
    "ts_rampa=sm.tsa.filters.recursive_filter(ts_imp, np.r_[delta])\n",
    "ts_rampa.plot()"
   ]
  },
  {
   "cell_type": "code",
   "execution_count": 17,
   "metadata": {},
   "outputs": [
    {
     "data": {
      "text/plain": [
       "<AxesSubplot:xlabel='date'>"
      ]
     },
     "execution_count": 17,
     "metadata": {},
     "output_type": "execute_result"
    },
    {
     "data": {
      "image/png": "[encoded data removed]",
      "text/plain": [
       "<Figure size 792x288 with 1 Axes>"
      ]
     },
     "metadata": {},
     "output_type": "display_data"
    }
   ],
   "source": [
    "# Rampa con impulso\n",
    "# delta1=0.8\n",
    "# delta2=1\n",
    "# w1=3\n",
    "# w2=0.5\n",
    "delta1=0.8\n",
    "delta2=1\n",
    "w1=3\n",
    "w2=0.5\n",
    "ts_rampa=w1*sm.tsa.filters.recursive_filter(ts_imp, np.r_[delta1])+w2*sm.tsa.filters.recursive_filter(ts_imp, np.r_[delta2])\n",
    "ts_rampa.plot()"
   ]
  },
  {
   "cell_type": "code",
   "execution_count": 18,
   "metadata": {},
   "outputs": [
    {
     "data": {
      "text/plain": [
       "<AxesSubplot:xlabel='date'>"
      ]
     },
     "execution_count": 18,
     "metadata": {},
     "output_type": "execute_result"
    },
    {
     "data": {
      "image/png": "[encoded data removed]",
      "text/plain": [
       "<Figure size 792x288 with 1 Axes>"
      ]
     },
     "metadata": {},
     "output_type": "display_data"
    }
   ],
   "source": [
    "# Rampa con impulso\n",
    "# delta1=0.8\n",
    "# delta2=1\n",
    "# w0=4\n",
    "# w1=-3\n",
    "# w2=-0.5\n",
    "delta1=0.8\n",
    "delta2=1\n",
    "w0=4\n",
    "w1=-3\n",
    "w2=-0.5\n",
    "ts_rampa=w0*sm.tsa.filters.recursive_filter(ts_imp, np.r_[0])+w1*sm.tsa.filters.recursive_filter(ts_imp, np.r_[delta1])+w2*sm.tsa.filters.recursive_filter(ts_imp, np.r_[delta2])\n",
    "ts_rampa.plot()"
   ]
  }
 ],
 "metadata": {
  "kernelspec": {
   "display_name": "Python 3 (ipykernel)",
   "language": "python",
   "name": "python3"
  },
  "language_info": {
   "codemirror_mode": {
    "name": "ipython",
    "version": 3
   },
   "file_extension": ".py",
   "mimetype": "text/x-python",
   "name": "python",
   "nbconvert_exporter": "python",
   "pygments_lexer": "ipython3",
   "version": "3.10.4"
  }
 },
 "nbformat": 4,
 "nbformat_minor": 2
}
