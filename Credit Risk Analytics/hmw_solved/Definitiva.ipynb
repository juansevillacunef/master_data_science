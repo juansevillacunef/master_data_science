{
 "cells": [
  {
   "cell_type": "markdown",
   "metadata": {
    "ExecuteTime": {
     "end_time": "2019-05-15T21:29:00.770627Z",
     "start_time": "2019-05-15T21:28:59.068546Z"
    }
   },
   "source": [
    "# HW 6"
   ]
  },
  {
   "cell_type": "markdown",
   "metadata": {},
   "source": [
    "Miembros del grupo:\n",
    "- Francisco Javier Concejo\n",
    "- Juan Sevilla\n",
    "- Álvaro Cabrerizo\n",
    "- Borja Casasnovas\n",
    "- Yago Carbo"
   ]
  },
  {
   "cell_type": "code",
   "execution_count": 6,
   "metadata": {},
   "outputs": [],
   "source": [
    "import pandas as pd\n",
    "import numpy as np\n",
    "import matplotlib.pyplot as plt\n",
    "import seaborn as sns\n",
    "%matplotlib inline"
   ]
  },
  {
   "cell_type": "code",
   "execution_count": 7,
   "metadata": {},
   "outputs": [],
   "source": [
    "# !pip install fastparquet"
   ]
  },
  {
   "cell_type": "markdown",
   "metadata": {},
   "source": [
    "### Read data"
   ]
  },
  {
   "cell_type": "code",
   "execution_count": 8,
   "metadata": {
    "ExecuteTime": {
     "end_time": "2019-05-15T21:29:01.825376Z",
     "start_time": "2019-05-15T21:29:00.778620Z"
    }
   },
   "outputs": [],
   "source": [
    "df_train = pd.read_parquet(\"/Users/juan/Documents/Juan's MacBook Pro/CUNEF/Quinto/Credit Risk Analytics/data_solved/prosperLoanData_processed_train.parquet\")\n",
    "df_val = pd.read_parquet(\"/Users/juan/Documents/Juan's MacBook Pro/CUNEF/Quinto/Credit Risk Analytics/data_solved/prosperLoanData_processed_val.parquet\")\n",
    "df_oot = pd.read_parquet(\"/Users/juan/Documents/Juan's MacBook Pro/CUNEF/Quinto/Credit Risk Analytics/data_solved/prosperLoanData_processed_oot.parquet\")"
   ]
  },
  {
   "cell_type": "code",
   "execution_count": 9,
   "metadata": {
    "ExecuteTime": {
     "end_time": "2019-05-15T21:29:01.860313Z",
     "start_time": "2019-05-15T21:29:01.832970Z"
    }
   },
   "outputs": [],
   "source": [
    "#drop indeterminates\n",
    "df_train = df_train.loc[df_train.indeterm==False]\n",
    "df_val = df_val.loc[df_val.indeterm==False]\n",
    "df_oot = df_oot.loc[df_oot.indeterm==False]"
   ]
  },
  {
   "cell_type": "code",
   "execution_count": 10,
   "metadata": {
    "ExecuteTime": {
     "end_time": "2019-05-15T21:29:02.411374Z",
     "start_time": "2019-05-15T21:29:02.361592Z"
    }
   },
   "outputs": [],
   "source": [
    "#get the serialized data from previous session\n",
    "import pickle\n",
    "input_d2  = pickle.load(open(\"/Users/juan/Documents/Juan's MacBook Pro/CUNEF/Quinto/Credit Risk Analytics/data_solved/output_HW5.pkl\", 'rb'))\n",
    "corr_data, features = input_d2['corr_data'], input_d2['features']\n",
    "df_iv, df_psi = input_d2['iv_df'], input_d2['psi_df']"
   ]
  },
  {
   "cell_type": "markdown",
   "metadata": {},
   "source": [
    "## Filter out features"
   ]
  },
  {
   "cell_type": "markdown",
   "metadata": {},
   "source": [
    "### Drop highly correlated features"
   ]
  },
  {
   "cell_type": "code",
   "execution_count": 11,
   "metadata": {
    "ExecuteTime": {
     "end_time": "2019-05-15T21:29:04.428722Z",
     "start_time": "2019-05-15T21:29:04.326572Z"
    }
   },
   "outputs": [
    {
     "data": {
      "text/plain": [
       "[('CreditScoreRangeLower',\n",
       "  1,\n",
       "  CreditScoreRangeUpper    1.0\n",
       "  Name: CreditScoreRangeLower, dtype: float64),\n",
       " ('CreditScoreRangeUpper',\n",
       "  1,\n",
       "  CreditScoreRangeLower    1.0\n",
       "  Name: CreditScoreRangeUpper, dtype: float64),\n",
       " ('CurrentCreditLines',\n",
       "  2,\n",
       "  OpenCreditLines          0.957426\n",
       "  OpenRevolvingAccounts    0.853989\n",
       "  Name: CurrentCreditLines, dtype: float64),\n",
       " ('OpenCreditLines',\n",
       "  2,\n",
       "  CurrentCreditLines       0.957426\n",
       "  OpenRevolvingAccounts    0.888447\n",
       "  Name: OpenCreditLines, dtype: float64),\n",
       " ('TotalCreditLinespast7years',\n",
       "  1,\n",
       "  TotalTrades    0.942083\n",
       "  Name: TotalCreditLinespast7years, dtype: float64),\n",
       " ('OpenRevolvingAccounts',\n",
       "  2,\n",
       "  CurrentCreditLines    0.853989\n",
       "  OpenCreditLines       0.888447\n",
       "  Name: OpenRevolvingAccounts, dtype: float64),\n",
       " ('TotalTrades',\n",
       "  1,\n",
       "  TotalCreditLinespast7years    0.942083\n",
       "  Name: TotalTrades, dtype: float64),\n",
       " ('TotalProsperPaymentsBilled',\n",
       "  1,\n",
       "  OnTimeProsperPayments    0.988512\n",
       "  Name: TotalProsperPaymentsBilled, dtype: float64),\n",
       " ('OnTimeProsperPayments',\n",
       "  1,\n",
       "  TotalProsperPaymentsBilled    0.988512\n",
       "  Name: OnTimeProsperPayments, dtype: float64)]"
      ]
     },
     "execution_count": 11,
     "metadata": {},
     "output_type": "execute_result"
    }
   ],
   "source": [
    "corr_data"
   ]
  },
  {
   "cell_type": "code",
   "execution_count": 12,
   "metadata": {
    "ExecuteTime": {
     "end_time": "2019-05-15T21:29:05.932319Z",
     "start_time": "2019-05-15T21:29:05.864461Z"
    }
   },
   "outputs": [
    {
     "name": "stdout",
     "output_type": "stream",
     "text": [
      "Drop: TotalProsperPaymentsBilled\n",
      "Drop: CreditScoreRangeUpper\n",
      "Drop: OpenCreditLines\n",
      "Drop: OpenRevolvingAccounts\n",
      "Drop: TotalCreditLinespast7years\n"
     ]
    }
   ],
   "source": [
    "#run through the iv ranking, and drop features if they are correlated with any feature with better ranking\n",
    "feats_sorted = df_iv.feature.values.tolist()\n",
    "\n",
    "def get_uncorr_feats(corr_data, feats_sorted):\n",
    "    \"\"\"Handles the corr_data structure, to drop highlly correlated features\n",
    "    \n",
    "    Args:\n",
    "        corr_data: List of tuples containing the correlation info\n",
    "        feats_sorted: List, with the features to be sorted / dropped\n",
    "        \n",
    "    Returns:\n",
    "        List with the features that have no correlation\n",
    "    \"\"\"\n",
    "    features_keep = feats_sorted[:1]\n",
    "    for feat in feats_sorted[1:]:\n",
    "        #capture the correlation tuple\n",
    "        crr_data = [crr for crr in corr_data if crr[0] == feat]\n",
    "        if len(crr_data):\n",
    "            #if there is a 'hit' with a feature in features_keep, do not include it\n",
    "            hit = len(set(crr_data[0][2].index.tolist()) & set(features_keep)) > 0\n",
    "            if hit:\n",
    "                print ('Drop: ' + feat)\n",
    "            else:\n",
    "                features_keep.append(feat)    \n",
    "        else:\n",
    "            features_keep.append(feat)\n",
    "    return features_keep\n",
    "\n",
    "features_keep = get_uncorr_feats(corr_data, feats_sorted)"
   ]
  },
  {
   "cell_type": "code",
   "execution_count": 13,
   "metadata": {
    "ExecuteTime": {
     "end_time": "2019-05-15T21:29:08.949388Z",
     "start_time": "2019-05-15T21:29:08.926962Z"
    }
   },
   "outputs": [
    {
     "data": {
      "text/plain": [
       "(45, 40, 9)"
      ]
     },
     "execution_count": 13,
     "metadata": {},
     "output_type": "execute_result"
    }
   ],
   "source": [
    "len(features), len(features_keep), len(corr_data)"
   ]
  },
  {
   "cell_type": "markdown",
   "metadata": {},
   "source": [
    "### Drop features with low IV"
   ]
  },
  {
   "cell_type": "code",
   "execution_count": 14,
   "metadata": {
    "ExecuteTime": {
     "end_time": "2019-05-15T21:29:25.926972Z",
     "start_time": "2019-05-15T21:29:25.832601Z"
    }
   },
   "outputs": [
    {
     "data": {
      "text/html": [
       "<div>\n",
       "<style scoped>\n",
       "    .dataframe tbody tr th:only-of-type {\n",
       "        vertical-align: middle;\n",
       "    }\n",
       "\n",
       "    .dataframe tbody tr th {\n",
       "        vertical-align: top;\n",
       "    }\n",
       "\n",
       "    .dataframe thead th {\n",
       "        text-align: right;\n",
       "    }\n",
       "</style>\n",
       "<table border=\"1\" class=\"dataframe\">\n",
       "  <thead>\n",
       "    <tr style=\"text-align: right;\">\n",
       "      <th></th>\n",
       "      <th>feature</th>\n",
       "      <th>IV</th>\n",
       "    </tr>\n",
       "  </thead>\n",
       "  <tbody>\n",
       "    <tr>\n",
       "      <th>29</th>\n",
       "      <td>IncomeRange</td>\n",
       "      <td>0.145180</td>\n",
       "    </tr>\n",
       "    <tr>\n",
       "      <th>31</th>\n",
       "      <td>StatedMonthlyIncome</td>\n",
       "      <td>0.119612</td>\n",
       "    </tr>\n",
       "    <tr>\n",
       "      <th>34</th>\n",
       "      <td>OnTimeProsperPayments</td>\n",
       "      <td>0.113475</td>\n",
       "    </tr>\n",
       "    <tr>\n",
       "      <th>28</th>\n",
       "      <td>DebtToIncomeRatio</td>\n",
       "      <td>0.111675</td>\n",
       "    </tr>\n",
       "    <tr>\n",
       "      <th>39</th>\n",
       "      <td>ScorexChangeAtTimeOfListing</td>\n",
       "      <td>0.108946</td>\n",
       "    </tr>\n",
       "  </tbody>\n",
       "</table>\n",
       "</div>"
      ],
      "text/plain": [
       "                        feature        IV\n",
       "29                  IncomeRange  0.145180\n",
       "31          StatedMonthlyIncome  0.119612\n",
       "34        OnTimeProsperPayments  0.113475\n",
       "28            DebtToIncomeRatio  0.111675\n",
       "39  ScorexChangeAtTimeOfListing  0.108946"
      ]
     },
     "execution_count": 14,
     "metadata": {},
     "output_type": "execute_result"
    }
   ],
   "source": [
    "# IV filtering with this treshold\n",
    "df_iv.head()"
   ]
  },
  {
   "cell_type": "markdown",
   "metadata": {},
   "source": [
    "**TODO 1** Implementa una función que devuelva solo las columnas que tengan un IV inferior a un umbral dado"
   ]
  },
  {
   "cell_type": "code",
   "execution_count": 15,
   "metadata": {},
   "outputs": [],
   "source": [
    "def lowIVFeatures(df_iv, th=0.02):\n",
    "    \"\"\"Returns a list with the features that have an IV lower that th\n",
    "    \n",
    "    Args:\n",
    "        df_iv: Pandas Dataframe with the feature name and their corresponding IV\n",
    "        th: Threshold to be considered when filtering the features\n",
    "        \n",
    "    Returns:\n",
    "        List with features that have an IV lower than the threshold\n",
    "    \"\"\"\n",
    "    return df_iv.loc[df_iv[\"IV\"]<th].feature.tolist()"
   ]
  },
  {
   "cell_type": "code",
   "execution_count": 16,
   "metadata": {
    "ExecuteTime": {
     "end_time": "2019-05-15T21:29:40.198467Z",
     "start_time": "2019-05-15T21:29:40.168231Z"
    }
   },
   "outputs": [
    {
     "data": {
      "text/plain": [
       "(45, 40, 23)"
      ]
     },
     "execution_count": 16,
     "metadata": {},
     "output_type": "execute_result"
    }
   ],
   "source": [
    "# capture low IV features\n",
    "low_iv_feats = lowIVFeatures(df_iv)\n",
    "features_keep_iv = list(set(features_keep) - set(low_iv_feats))\n",
    "len(features), len(features_keep), len(features_keep_iv)"
   ]
  },
  {
   "cell_type": "markdown",
   "metadata": {},
   "source": [
    "### Drop unstable features"
   ]
  },
  {
   "cell_type": "code",
   "execution_count": 17,
   "metadata": {
    "ExecuteTime": {
     "end_time": "2019-05-15T21:30:20.993098Z",
     "start_time": "2019-05-15T21:30:20.903295Z"
    }
   },
   "outputs": [
    {
     "data": {
      "text/html": [
       "<div>\n",
       "<style scoped>\n",
       "    .dataframe tbody tr th:only-of-type {\n",
       "        vertical-align: middle;\n",
       "    }\n",
       "\n",
       "    .dataframe tbody tr th {\n",
       "        vertical-align: top;\n",
       "    }\n",
       "\n",
       "    .dataframe thead th {\n",
       "        text-align: right;\n",
       "    }\n",
       "</style>\n",
       "<table border=\"1\" class=\"dataframe\">\n",
       "  <thead>\n",
       "    <tr style=\"text-align: right;\">\n",
       "      <th></th>\n",
       "      <th>feature</th>\n",
       "      <th>PSI</th>\n",
       "    </tr>\n",
       "  </thead>\n",
       "  <tbody>\n",
       "    <tr>\n",
       "      <th>42</th>\n",
       "      <td>Recommendations</td>\n",
       "      <td>0.000000e+00</td>\n",
       "    </tr>\n",
       "    <tr>\n",
       "      <th>21</th>\n",
       "      <td>PublicRecordsLast12Months</td>\n",
       "      <td>5.352324e-09</td>\n",
       "    </tr>\n",
       "    <tr>\n",
       "      <th>41</th>\n",
       "      <td>PercentFunded</td>\n",
       "      <td>2.141008e-08</td>\n",
       "    </tr>\n",
       "    <tr>\n",
       "      <th>20</th>\n",
       "      <td>PublicRecordsLast10Years</td>\n",
       "      <td>2.724033e-05</td>\n",
       "    </tr>\n",
       "    <tr>\n",
       "      <th>18</th>\n",
       "      <td>AmountDelinquent</td>\n",
       "      <td>7.428038e-05</td>\n",
       "    </tr>\n",
       "  </tbody>\n",
       "</table>\n",
       "</div>"
      ],
      "text/plain": [
       "                      feature           PSI\n",
       "42            Recommendations  0.000000e+00\n",
       "21  PublicRecordsLast12Months  5.352324e-09\n",
       "41              PercentFunded  2.141008e-08\n",
       "20   PublicRecordsLast10Years  2.724033e-05\n",
       "18           AmountDelinquent  7.428038e-05"
      ]
     },
     "execution_count": 17,
     "metadata": {},
     "output_type": "execute_result"
    }
   ],
   "source": [
    "# PSI filtering with this treshold\n",
    "df_psi.head()"
   ]
  },
  {
   "cell_type": "markdown",
   "metadata": {},
   "source": [
    "**TODO 2** Implementa una función que devuelva solo las columnas que tengan un PSI mayor a un umbral dado"
   ]
  },
  {
   "cell_type": "code",
   "execution_count": 18,
   "metadata": {},
   "outputs": [],
   "source": [
    "def highPSIFeatures(df_psi, TH_PSI=0.25):\n",
    "    \"\"\"Returns a list with the features that have a PSI higher that th\n",
    "    \n",
    "    Args:\n",
    "        df_iv: Pandas Dataframe with the feature name and their corresponding IV\n",
    "        th: Threshold to be considered when filtering the features\n",
    "        \n",
    "    Returns:\n",
    "        List with features that have an IV lower than the threshold\n",
    "    \"\"\"\n",
    "    return df_psi.loc[df_psi[\"PSI\"] > TH_PSI].feature.tolist()"
   ]
  },
  {
   "cell_type": "code",
   "execution_count": 19,
   "metadata": {
    "ExecuteTime": {
     "end_time": "2019-05-15T21:30:21.189747Z",
     "start_time": "2019-05-15T21:30:21.156916Z"
    }
   },
   "outputs": [
    {
     "data": {
      "text/plain": [
       "(45, 40, 23, 21)"
      ]
     },
     "execution_count": 19,
     "metadata": {},
     "output_type": "execute_result"
    }
   ],
   "source": [
    "# capture high (unstable) features\n",
    "high_psi_features = highPSIFeatures(df_psi)\n",
    "features_keep_psi = list(set(features_keep_iv) - set(high_psi_features))\n",
    "len(features), len(features_keep), len(features_keep_iv), len(features_keep_psi)"
   ]
  },
  {
   "cell_type": "code",
   "execution_count": 20,
   "metadata": {},
   "outputs": [
    {
     "data": {
      "text/plain": [
       "['LoanOriginalAmount',\n",
       " 'CreditScoreRangeLower',\n",
       " 'InquiriesLast6Months',\n",
       " 'EmploymentStatus',\n",
       " 'CurrentlyInGroup',\n",
       " 'IsBorrowerHomeowner',\n",
       " 'StatedMonthlyIncome',\n",
       " 'DebtToIncomeRatio',\n",
       " 'Occupation',\n",
       " 'ProsperPaymentsLessThanOneMonthLate',\n",
       " 'ProsperPaymentsOneMonthPlusLate',\n",
       " 'BorrowerState',\n",
       " 'TotalTrades',\n",
       " 'IncomeVerifiable',\n",
       " 'TotalProsperLoans',\n",
       " 'CurrentCreditLines',\n",
       " 'ScorexChangeAtTimeOfListing',\n",
       " 'ProsperPrincipalBorrowed',\n",
       " 'OnTimeProsperPayments',\n",
       " 'AmountDelinquent',\n",
       " 'TradesOpenedLast6Months',\n",
       " 'ProsperPrincipalOutstanding',\n",
       " 'IncomeRange']"
      ]
     },
     "execution_count": 20,
     "metadata": {},
     "output_type": "execute_result"
    }
   ],
   "source": [
    "features_keep_iv"
   ]
  },
  {
   "cell_type": "code",
   "execution_count": 21,
   "metadata": {
    "ExecuteTime": {
     "end_time": "2019-05-15T21:30:23.068466Z",
     "start_time": "2019-05-15T21:30:23.042542Z"
    }
   },
   "outputs": [
    {
     "data": {
      "text/plain": [
       "['IncomeVerifiable',\n",
       " 'CreditScoreRangeLower',\n",
       " 'TotalProsperLoans',\n",
       " 'InquiriesLast6Months',\n",
       " 'CurrentCreditLines',\n",
       " 'ScorexChangeAtTimeOfListing',\n",
       " 'ProsperPrincipalBorrowed',\n",
       " 'OnTimeProsperPayments',\n",
       " 'CurrentlyInGroup',\n",
       " 'IsBorrowerHomeowner',\n",
       " 'AmountDelinquent',\n",
       " 'TradesOpenedLast6Months',\n",
       " 'StatedMonthlyIncome',\n",
       " 'DebtToIncomeRatio',\n",
       " 'Occupation',\n",
       " 'ProsperPaymentsLessThanOneMonthLate',\n",
       " 'ProsperPaymentsOneMonthPlusLate',\n",
       " 'BorrowerState',\n",
       " 'ProsperPrincipalOutstanding',\n",
       " 'TotalTrades',\n",
       " 'IncomeRange']"
      ]
     },
     "execution_count": 21,
     "metadata": {},
     "output_type": "execute_result"
    }
   ],
   "source": [
    "final_features = features_keep_psi\n",
    "final_features"
   ]
  },
  {
   "cell_type": "markdown",
   "metadata": {},
   "source": [
    "## Preprocessing - Set up bucketing - \"Trameado\""
   ]
  },
  {
   "cell_type": "markdown",
   "metadata": {},
   "source": [
    "#### For numerical features"
   ]
  },
  {
   "cell_type": "code",
   "execution_count": 22,
   "metadata": {
    "ExecuteTime": {
     "end_time": "2019-05-15T21:30:29.805950Z",
     "start_time": "2019-05-15T21:30:29.698613Z"
    }
   },
   "outputs": [],
   "source": [
    "def get_bucket_numfeature(df, feat_col, n_bins, input_slider=(0., 100.)):\n",
    "    \"\"\"Cuts a numeric feature in 'n_bins', balacing data in percentiles\n",
    "    \n",
    "    Args:\n",
    "        df: Pandas DataFrame with the input data\n",
    "        feat_col: Name of the column with the input feature\n",
    "        obj_col: Name of the column with the target \n",
    "        n_bins: Number of cuts expected\n",
    "        input_slider: Range considered for the bucketing\n",
    "        \n",
    "    Returns:\n",
    "        List with the cuts corresponding to this feature\n",
    "    \"\"\"\n",
    "    #get the numeric input from the dual slider\n",
    "    perc_sliders = [v/100. for v in input_slider]\n",
    "    var_lims = df[feat_col].quantile([perc_sliders[0], perc_sliders[1]]).values\n",
    "    v_min, v_max = var_lims[0], var_lims[1]\n",
    "    #filter the dataset using the slider input\n",
    "    df_cut = df.loc[(df[feat_col] <= v_max) & (df[feat_col] >= v_min)][[feat_col]]\n",
    "    cuts = df_cut[feat_col].quantile(np.linspace(perc_sliders[0], perc_sliders[1], n_bins + 1)).values.tolist()\n",
    "    cuts = sorted(list(set(cuts)))\n",
    "    return cuts\n",
    "\n",
    "def format_dummy_col(feat_col, dummy_col):\n",
    "    \"\"\"Handles column names for dummy data\n",
    "    \n",
    "    Args:\n",
    "        feat_col: Name of the column with the input feature\n",
    "        dummy_col: String of the dummy column \n",
    "        \n",
    "    Returns:\n",
    "        Dummy column with better formatting\n",
    "    \"\"\"\n",
    "    out = dummy_col.replace(\"(\", \"\")\\\n",
    "                   .replace(\"]\", \"\")\\\n",
    "                   .replace(\".0\", \"\")\\\n",
    "                   .replace(\", \", \"|\")\n",
    "    \n",
    "    return feat_col + '_' + out\n",
    "    \n",
    "def apply_bucketing_num(df, feat_col, cuts):\n",
    "    \"\"\"Applies bucketing to numerical feature\n",
    "    \n",
    "    Args:\n",
    "        df: Pandas Dataframe with the input data\n",
    "        feat_col: Name of the column with the input feature\n",
    "        cuts: Cuts that will be applied to the input data\n",
    "        \n",
    "    Returns:\n",
    "        Pandas dataframe with dummy columns\n",
    "    \"\"\"\n",
    "    cut_col = '{}_cut'.format(feat_col)\n",
    "    if len(cuts) == 2:\n",
    "        cuts = [cuts[0], np.mean(cuts), cuts[1]]\n",
    "    df[cut_col] = pd.cut(df[feat_col], cuts, include_lowest=True, precision=0)\n",
    "    if df[cut_col].isna().any():\n",
    "        df[cut_col] = df[cut_col].cat.add_categories([\"NA\"])\n",
    "        df[cut_col] = df[cut_col].fillna(\"NA\")\n",
    "        \n",
    "    dummies_df = pd.get_dummies(df[cut_col], drop_first=True)\n",
    "    dummies_df.columns = [format_dummy_col(feat_col, str(col)) for col in dummies_df.columns.values.tolist()]\n",
    "    \n",
    "    return dummies_df"
   ]
  },
  {
   "cell_type": "markdown",
   "metadata": {},
   "source": [
    "#### For categorical features"
   ]
  },
  {
   "cell_type": "code",
   "execution_count": 23,
   "metadata": {
    "ExecuteTime": {
     "end_time": "2019-05-15T21:30:31.225015Z",
     "start_time": "2019-05-15T21:30:31.182046Z"
    }
   },
   "outputs": [],
   "source": [
    "def get_bucket_catfeature(df, feat_col, n_bins):\n",
    "    \"\"\"Cuts a categorical feature in 'n_bins', keeping categories with highest volume\n",
    "    \n",
    "    Args:\n",
    "        df: Pandas DataFrame with the input data\n",
    "        feat_col: Name of the column with the input feature\n",
    "        n_bins: Number of cuts expected\n",
    "        \n",
    "    Returns:\n",
    "        List with the cuts corresponding to this feature\n",
    "    \"\"\"\n",
    "    cuts = df.groupby(feat_col)[feat_col].count().sort_values(ascending=False)[:int(n_bins)].index.values.tolist()\n",
    "    \n",
    "    return cuts\n",
    "\n",
    "def apply_bucketing_cat(df, feat_col, cuts):\n",
    "    \"\"\"Applies bucketing to categorical feature\n",
    "    \n",
    "    Args:\n",
    "        df: Pandas Dataframe with the input data\n",
    "        feat_col: Name of the column with the input feature\n",
    "        cuts: Cuts that will be applied to the input data\n",
    "        \n",
    "    Returns:\n",
    "        Pandas dataframe with dummy columns\n",
    "    \"\"\"\n",
    "    cut_col = '{}_cut'.format(feat_col)\n",
    "    df[cut_col] = df[feat_col]\n",
    "    df.loc[~df[cut_col].isin(cuts), cut_col] = 'Other'\n",
    "    if df[cut_col].isna().any():\n",
    "        df[cut_col] = df[cut_col].fillna(\"NA\")\n",
    "        \n",
    "    dummies_df = pd.get_dummies(df[cut_col], prefix=feat_col, drop_first=True)\n",
    "    \n",
    "    return dummies_df"
   ]
  },
  {
   "cell_type": "code",
   "execution_count": 24,
   "metadata": {
    "ExecuteTime": {
     "end_time": "2019-05-15T21:30:32.192798Z",
     "start_time": "2019-05-15T21:30:32.056734Z"
    }
   },
   "outputs": [
    {
     "data": {
      "text/html": [
       "<div>\n",
       "<style scoped>\n",
       "    .dataframe tbody tr th:only-of-type {\n",
       "        vertical-align: middle;\n",
       "    }\n",
       "\n",
       "    .dataframe tbody tr th {\n",
       "        vertical-align: top;\n",
       "    }\n",
       "\n",
       "    .dataframe thead th {\n",
       "        text-align: right;\n",
       "    }\n",
       "</style>\n",
       "<table border=\"1\" class=\"dataframe\">\n",
       "  <thead>\n",
       "    <tr style=\"text-align: right;\">\n",
       "      <th></th>\n",
       "      <th>CreditScoreRangeLower_640|680</th>\n",
       "      <th>CreditScoreRangeLower_680|700</th>\n",
       "      <th>CreditScoreRangeLower_700|720</th>\n",
       "      <th>CreditScoreRangeLower_720|760</th>\n",
       "      <th>CreditScoreRangeLower_760|880</th>\n",
       "    </tr>\n",
       "  </thead>\n",
       "  <tbody>\n",
       "    <tr>\n",
       "      <th>0</th>\n",
       "      <td>1</td>\n",
       "      <td>0</td>\n",
       "      <td>0</td>\n",
       "      <td>0</td>\n",
       "      <td>0</td>\n",
       "    </tr>\n",
       "    <tr>\n",
       "      <th>2</th>\n",
       "      <td>1</td>\n",
       "      <td>0</td>\n",
       "      <td>0</td>\n",
       "      <td>0</td>\n",
       "      <td>0</td>\n",
       "    </tr>\n",
       "    <tr>\n",
       "      <th>3</th>\n",
       "      <td>0</td>\n",
       "      <td>1</td>\n",
       "      <td>0</td>\n",
       "      <td>0</td>\n",
       "      <td>0</td>\n",
       "    </tr>\n",
       "    <tr>\n",
       "      <th>4</th>\n",
       "      <td>0</td>\n",
       "      <td>1</td>\n",
       "      <td>0</td>\n",
       "      <td>0</td>\n",
       "      <td>0</td>\n",
       "    </tr>\n",
       "    <tr>\n",
       "      <th>5</th>\n",
       "      <td>0</td>\n",
       "      <td>0</td>\n",
       "      <td>0</td>\n",
       "      <td>0</td>\n",
       "      <td>1</td>\n",
       "    </tr>\n",
       "    <tr>\n",
       "      <th>6</th>\n",
       "      <td>0</td>\n",
       "      <td>0</td>\n",
       "      <td>0</td>\n",
       "      <td>0</td>\n",
       "      <td>0</td>\n",
       "    </tr>\n",
       "    <tr>\n",
       "      <th>7</th>\n",
       "      <td>0</td>\n",
       "      <td>0</td>\n",
       "      <td>1</td>\n",
       "      <td>0</td>\n",
       "      <td>0</td>\n",
       "    </tr>\n",
       "    <tr>\n",
       "      <th>8</th>\n",
       "      <td>0</td>\n",
       "      <td>0</td>\n",
       "      <td>0</td>\n",
       "      <td>1</td>\n",
       "      <td>0</td>\n",
       "    </tr>\n",
       "    <tr>\n",
       "      <th>9</th>\n",
       "      <td>0</td>\n",
       "      <td>0</td>\n",
       "      <td>0</td>\n",
       "      <td>0</td>\n",
       "      <td>1</td>\n",
       "    </tr>\n",
       "    <tr>\n",
       "      <th>10</th>\n",
       "      <td>0</td>\n",
       "      <td>0</td>\n",
       "      <td>0</td>\n",
       "      <td>0</td>\n",
       "      <td>0</td>\n",
       "    </tr>\n",
       "  </tbody>\n",
       "</table>\n",
       "</div>"
      ],
      "text/plain": [
       "    CreditScoreRangeLower_640|680  CreditScoreRangeLower_680|700  \\\n",
       "0                               1                              0   \n",
       "2                               1                              0   \n",
       "3                               0                              1   \n",
       "4                               0                              1   \n",
       "5                               0                              0   \n",
       "6                               0                              0   \n",
       "7                               0                              0   \n",
       "8                               0                              0   \n",
       "9                               0                              0   \n",
       "10                              0                              0   \n",
       "\n",
       "    CreditScoreRangeLower_700|720  CreditScoreRangeLower_720|760  \\\n",
       "0                               0                              0   \n",
       "2                               0                              0   \n",
       "3                               0                              0   \n",
       "4                               0                              0   \n",
       "5                               0                              0   \n",
       "6                               0                              0   \n",
       "7                               1                              0   \n",
       "8                               0                              1   \n",
       "9                               0                              0   \n",
       "10                              0                              0   \n",
       "\n",
       "    CreditScoreRangeLower_760|880  \n",
       "0                               0  \n",
       "2                               0  \n",
       "3                               0  \n",
       "4                               0  \n",
       "5                               1  \n",
       "6                               0  \n",
       "7                               0  \n",
       "8                               0  \n",
       "9                               1  \n",
       "10                              0  "
      ]
     },
     "execution_count": 24,
     "metadata": {},
     "output_type": "execute_result"
    }
   ],
   "source": [
    "#example of numerical bucketing\n",
    "cuts_num = get_bucket_numfeature(df_train, 'CreditScoreRangeLower', 6)\n",
    "dumm_num = apply_bucketing_num(df_train, 'CreditScoreRangeLower', cuts_num)\n",
    "dumm_num[:10]"
   ]
  },
  {
   "cell_type": "code",
   "execution_count": 25,
   "metadata": {
    "ExecuteTime": {
     "end_time": "2019-05-15T21:30:33.717526Z",
     "start_time": "2019-05-15T21:30:33.599902Z"
    }
   },
   "outputs": [
    {
     "data": {
      "text/html": [
       "<div>\n",
       "<style scoped>\n",
       "    .dataframe tbody tr th:only-of-type {\n",
       "        vertical-align: middle;\n",
       "    }\n",
       "\n",
       "    .dataframe tbody tr th {\n",
       "        vertical-align: top;\n",
       "    }\n",
       "\n",
       "    .dataframe thead th {\n",
       "        text-align: right;\n",
       "    }\n",
       "</style>\n",
       "<table border=\"1\" class=\"dataframe\">\n",
       "  <thead>\n",
       "    <tr style=\"text-align: right;\">\n",
       "      <th></th>\n",
       "      <th>Occupation_Analyst</th>\n",
       "      <th>Occupation_Computer Programmer</th>\n",
       "      <th>Occupation_Executive</th>\n",
       "      <th>Occupation_Other</th>\n",
       "      <th>Occupation_Professional</th>\n",
       "    </tr>\n",
       "  </thead>\n",
       "  <tbody>\n",
       "    <tr>\n",
       "      <th>0</th>\n",
       "      <td>0</td>\n",
       "      <td>0</td>\n",
       "      <td>0</td>\n",
       "      <td>1</td>\n",
       "      <td>0</td>\n",
       "    </tr>\n",
       "    <tr>\n",
       "      <th>2</th>\n",
       "      <td>0</td>\n",
       "      <td>0</td>\n",
       "      <td>0</td>\n",
       "      <td>1</td>\n",
       "      <td>0</td>\n",
       "    </tr>\n",
       "    <tr>\n",
       "      <th>3</th>\n",
       "      <td>0</td>\n",
       "      <td>0</td>\n",
       "      <td>0</td>\n",
       "      <td>1</td>\n",
       "      <td>0</td>\n",
       "    </tr>\n",
       "    <tr>\n",
       "      <th>4</th>\n",
       "      <td>0</td>\n",
       "      <td>0</td>\n",
       "      <td>0</td>\n",
       "      <td>1</td>\n",
       "      <td>0</td>\n",
       "    </tr>\n",
       "    <tr>\n",
       "      <th>5</th>\n",
       "      <td>0</td>\n",
       "      <td>0</td>\n",
       "      <td>0</td>\n",
       "      <td>0</td>\n",
       "      <td>1</td>\n",
       "    </tr>\n",
       "    <tr>\n",
       "      <th>6</th>\n",
       "      <td>0</td>\n",
       "      <td>0</td>\n",
       "      <td>0</td>\n",
       "      <td>0</td>\n",
       "      <td>1</td>\n",
       "    </tr>\n",
       "    <tr>\n",
       "      <th>7</th>\n",
       "      <td>0</td>\n",
       "      <td>0</td>\n",
       "      <td>0</td>\n",
       "      <td>1</td>\n",
       "      <td>0</td>\n",
       "    </tr>\n",
       "    <tr>\n",
       "      <th>8</th>\n",
       "      <td>0</td>\n",
       "      <td>0</td>\n",
       "      <td>0</td>\n",
       "      <td>1</td>\n",
       "      <td>0</td>\n",
       "    </tr>\n",
       "    <tr>\n",
       "      <th>9</th>\n",
       "      <td>0</td>\n",
       "      <td>0</td>\n",
       "      <td>0</td>\n",
       "      <td>1</td>\n",
       "      <td>0</td>\n",
       "    </tr>\n",
       "    <tr>\n",
       "      <th>10</th>\n",
       "      <td>0</td>\n",
       "      <td>0</td>\n",
       "      <td>0</td>\n",
       "      <td>1</td>\n",
       "      <td>0</td>\n",
       "    </tr>\n",
       "  </tbody>\n",
       "</table>\n",
       "</div>"
      ],
      "text/plain": [
       "    Occupation_Analyst  Occupation_Computer Programmer  Occupation_Executive  \\\n",
       "0                    0                               0                     0   \n",
       "2                    0                               0                     0   \n",
       "3                    0                               0                     0   \n",
       "4                    0                               0                     0   \n",
       "5                    0                               0                     0   \n",
       "6                    0                               0                     0   \n",
       "7                    0                               0                     0   \n",
       "8                    0                               0                     0   \n",
       "9                    0                               0                     0   \n",
       "10                   0                               0                     0   \n",
       "\n",
       "    Occupation_Other  Occupation_Professional  \n",
       "0                  1                        0  \n",
       "2                  1                        0  \n",
       "3                  1                        0  \n",
       "4                  1                        0  \n",
       "5                  0                        1  \n",
       "6                  0                        1  \n",
       "7                  1                        0  \n",
       "8                  1                        0  \n",
       "9                  1                        0  \n",
       "10                 1                        0  "
      ]
     },
     "execution_count": 25,
     "metadata": {},
     "output_type": "execute_result"
    }
   ],
   "source": [
    "#example of categorical bucketing\n",
    "cuts_cat = get_bucket_catfeature(df_train, 'Occupation', 6)\n",
    "dumm_cat = apply_bucketing_cat(df_train, 'Occupation', cuts_cat)\n",
    "dumm_cat[:10]"
   ]
  },
  {
   "cell_type": "markdown",
   "metadata": {},
   "source": [
    "### Set up bucketing, then apply it"
   ]
  },
  {
   "cell_type": "code",
   "execution_count": 26,
   "metadata": {
    "ExecuteTime": {
     "end_time": "2019-05-15T21:30:48.438303Z",
     "start_time": "2019-05-15T21:30:48.393550Z"
    }
   },
   "outputs": [],
   "source": [
    "def get_bucket_feature(df, feat_col, n_bins=6):\n",
    "    \"\"\"Trains bucketing in a feature, whether if it is numerical\n",
    "    or categorical\n",
    "    \n",
    "    Args:\n",
    "        df: Pandas Dataframe with the input data\n",
    "        feat_col: Name of the column with the input feature\n",
    "        n_bins: Cuts that will be applied to the input data\n",
    "        \n",
    "    Returns:\n",
    "        List with the cuts learned from the data\n",
    "    \"\"\"\n",
    "    if df[feat_col].dtypes in (object, bool):\n",
    "        cuts = get_bucket_catfeature(df, feat_col, n_bins)\n",
    "    else:\n",
    "        cuts = get_bucket_numfeature(df, feat_col, n_bins)\n",
    "    return cuts\n",
    "\n",
    "def get_bucketing_allfeatures(df, features, n_bins=6):\n",
    "    \"\"\"Trains bucketing in all given features of a dataset\n",
    "    \n",
    "    Args:\n",
    "        df: Pandas Dataframe with the input data\n",
    "        features: Features which bucketing will be learnt\n",
    "        n_bins: Cuts that will be applied to the input data\n",
    "        \n",
    "    Returns:\n",
    "        Dict, containing all features and its corresponding\n",
    "        bucketing. For example:\n",
    "         {'feature1': cuts1,\n",
    "          'feature2': cuts2}  \n",
    "    \"\"\"\n",
    "    out_dict = {}\n",
    "    for feature in features:\n",
    "        print(feature)\n",
    "        cuts = get_bucket_feature(df, feature, n_bins)\n",
    "        out_dict[feature] = cuts\n",
    "    return out_dict"
   ]
  },
  {
   "cell_type": "code",
   "execution_count": 27,
   "metadata": {},
   "outputs": [
    {
     "data": {
      "text/plain": [
       "['IncomeVerifiable',\n",
       " 'CreditScoreRangeLower',\n",
       " 'TotalProsperLoans',\n",
       " 'InquiriesLast6Months',\n",
       " 'CurrentCreditLines',\n",
       " 'ScorexChangeAtTimeOfListing',\n",
       " 'ProsperPrincipalBorrowed',\n",
       " 'OnTimeProsperPayments',\n",
       " 'CurrentlyInGroup',\n",
       " 'IsBorrowerHomeowner',\n",
       " 'AmountDelinquent',\n",
       " 'TradesOpenedLast6Months',\n",
       " 'StatedMonthlyIncome',\n",
       " 'DebtToIncomeRatio',\n",
       " 'Occupation',\n",
       " 'ProsperPaymentsLessThanOneMonthLate',\n",
       " 'ProsperPaymentsOneMonthPlusLate',\n",
       " 'BorrowerState',\n",
       " 'ProsperPrincipalOutstanding',\n",
       " 'TotalTrades',\n",
       " 'IncomeRange']"
      ]
     },
     "execution_count": 27,
     "metadata": {},
     "output_type": "execute_result"
    }
   ],
   "source": [
    "final_features"
   ]
  },
  {
   "cell_type": "code",
   "execution_count": 28,
   "metadata": {
    "ExecuteTime": {
     "end_time": "2019-05-15T21:30:49.264311Z",
     "start_time": "2019-05-15T21:30:48.609506Z"
    }
   },
   "outputs": [
    {
     "name": "stdout",
     "output_type": "stream",
     "text": [
      "IncomeVerifiable\n",
      "CreditScoreRangeLower\n",
      "TotalProsperLoans\n",
      "InquiriesLast6Months\n",
      "CurrentCreditLines\n",
      "ScorexChangeAtTimeOfListing\n",
      "ProsperPrincipalBorrowed\n",
      "OnTimeProsperPayments\n",
      "CurrentlyInGroup\n",
      "IsBorrowerHomeowner\n",
      "AmountDelinquent\n",
      "TradesOpenedLast6Months\n",
      "StatedMonthlyIncome\n",
      "DebtToIncomeRatio\n",
      "Occupation\n",
      "ProsperPaymentsLessThanOneMonthLate\n",
      "ProsperPaymentsOneMonthPlusLate\n",
      "BorrowerState\n",
      "ProsperPrincipalOutstanding\n",
      "TotalTrades\n",
      "IncomeRange\n"
     ]
    },
    {
     "data": {
      "text/plain": [
       "{'IncomeVerifiable': [True, False],\n",
       " 'CreditScoreRangeLower': [600.0, 660.0, 700.0, 740.0, 880.0],\n",
       " 'TotalProsperLoans': [0.0, 1.0, 2.0, 7.0],\n",
       " 'InquiriesLast6Months': [0.0, 1.0, 2.0, 27.0],\n",
       " 'CurrentCreditLines': [0.0, 6.0, 9.0, 12.0, 38.0],\n",
       " 'ScorexChangeAtTimeOfListing': [-209.0, -32.0, -3.0, 30.0, 257.0],\n",
       " 'ProsperPrincipalBorrowed': [0.0, 3000.0, 5000.0, 9000.0, 57499.0],\n",
       " 'OnTimeProsperPayments': [0.0, 10.0, 19.0, 34.0, 103.0],\n",
       " 'CurrentlyInGroup': [False, True],\n",
       " 'IsBorrowerHomeowner': [True, False],\n",
       " 'AmountDelinquent': [0.0, 249209.0],\n",
       " 'TradesOpenedLast6Months': [0.0, 1.0, 20.0],\n",
       " 'StatedMonthlyIncome': [0.0,\n",
       "  3166.666667,\n",
       "  4666.666667,\n",
       "  6833.333333,\n",
       "  483333.333333],\n",
       " 'DebtToIncomeRatio': [0.0, 0.13, 0.19, 0.29, 10.01],\n",
       " 'Occupation': ['Other', 'Professional', 'Computer Programmer', 'Executive'],\n",
       " 'ProsperPaymentsLessThanOneMonthLate': [0.0, 28.0],\n",
       " 'ProsperPaymentsOneMonthPlusLate': [0.0, 21.0],\n",
       " 'BorrowerState': ['CA', 'FL', 'NY', 'TX'],\n",
       " 'ProsperPrincipalOutstanding': [0.0, 817.575, 3049.0924999999997, 21523.79],\n",
       " 'TotalTrades': [1.0, 14.0, 21.0, 30.0, 110.0],\n",
       " 'IncomeRange': ['$25,000-49,999',\n",
       "  '$50,000-74,999',\n",
       "  '$100,000+',\n",
       "  '$75,000-99,999']}"
      ]
     },
     "execution_count": 28,
     "metadata": {},
     "output_type": "execute_result"
    }
   ],
   "source": [
    "dict_bucketing = get_bucketing_allfeatures(df_train, final_features, n_bins=4)\n",
    "dict_bucketing"
   ]
  },
  {
   "cell_type": "code",
   "execution_count": 29,
   "metadata": {
    "ExecuteTime": {
     "end_time": "2019-05-15T21:30:50.002323Z",
     "start_time": "2019-05-15T21:30:49.981716Z"
    }
   },
   "outputs": [
    {
     "data": {
      "text/plain": [
       "(21, 21)"
      ]
     },
     "execution_count": 29,
     "metadata": {},
     "output_type": "execute_result"
    }
   ],
   "source": [
    "len(final_features), len(dict_bucketing.keys())"
   ]
  },
  {
   "cell_type": "code",
   "execution_count": 30,
   "metadata": {
    "ExecuteTime": {
     "end_time": "2019-05-15T21:30:51.874287Z",
     "start_time": "2019-05-15T21:30:51.851120Z"
    }
   },
   "outputs": [],
   "source": [
    "def apply_bucketing(df, feat_col, cuts):\n",
    "    \"\"\"Applies a bucketing schema\n",
    "    \n",
    "    Args:\n",
    "        df: Pandas Dataframe with the input data\n",
    "        feat_col: Name of the column with the input feature\n",
    "        cuts: Cuts that will be applied to the input data\n",
    "        \n",
    "    Returns:\n",
    "        Pandas DataFrame with columns dummy columns\n",
    "    \"\"\"\n",
    "    if df[feat_col].dtypes in (object, bool):\n",
    "        df_buck = apply_bucketing_cat(df, feat_col, cuts)\n",
    "    else:\n",
    "        df_buck = apply_bucketing_num(df, feat_col, cuts)\n",
    "    return df_buck"
   ]
  },
  {
   "cell_type": "code",
   "execution_count": 31,
   "metadata": {
    "ExecuteTime": {
     "end_time": "2019-05-15T21:30:52.982076Z",
     "start_time": "2019-05-15T21:30:52.914430Z"
    }
   },
   "outputs": [
    {
     "data": {
      "text/html": [
       "<div>\n",
       "<style scoped>\n",
       "    .dataframe tbody tr th:only-of-type {\n",
       "        vertical-align: middle;\n",
       "    }\n",
       "\n",
       "    .dataframe tbody tr th {\n",
       "        vertical-align: top;\n",
       "    }\n",
       "\n",
       "    .dataframe thead th {\n",
       "        text-align: right;\n",
       "    }\n",
       "</style>\n",
       "<table border=\"1\" class=\"dataframe\">\n",
       "  <thead>\n",
       "    <tr style=\"text-align: right;\">\n",
       "      <th></th>\n",
       "      <th>CreditScoreRangeLower_660|700</th>\n",
       "      <th>CreditScoreRangeLower_700|740</th>\n",
       "      <th>CreditScoreRangeLower_740|880</th>\n",
       "    </tr>\n",
       "  </thead>\n",
       "  <tbody>\n",
       "    <tr>\n",
       "      <th>0</th>\n",
       "      <td>0</td>\n",
       "      <td>0</td>\n",
       "      <td>0</td>\n",
       "    </tr>\n",
       "    <tr>\n",
       "      <th>2</th>\n",
       "      <td>0</td>\n",
       "      <td>0</td>\n",
       "      <td>0</td>\n",
       "    </tr>\n",
       "    <tr>\n",
       "      <th>3</th>\n",
       "      <td>1</td>\n",
       "      <td>0</td>\n",
       "      <td>0</td>\n",
       "    </tr>\n",
       "    <tr>\n",
       "      <th>4</th>\n",
       "      <td>1</td>\n",
       "      <td>0</td>\n",
       "      <td>0</td>\n",
       "    </tr>\n",
       "    <tr>\n",
       "      <th>5</th>\n",
       "      <td>0</td>\n",
       "      <td>0</td>\n",
       "      <td>1</td>\n",
       "    </tr>\n",
       "  </tbody>\n",
       "</table>\n",
       "</div>"
      ],
      "text/plain": [
       "   CreditScoreRangeLower_660|700  CreditScoreRangeLower_700|740  \\\n",
       "0                              0                              0   \n",
       "2                              0                              0   \n",
       "3                              1                              0   \n",
       "4                              1                              0   \n",
       "5                              0                              0   \n",
       "\n",
       "   CreditScoreRangeLower_740|880  \n",
       "0                              0  \n",
       "2                              0  \n",
       "3                              0  \n",
       "4                              0  \n",
       "5                              1  "
      ]
     },
     "execution_count": 31,
     "metadata": {},
     "output_type": "execute_result"
    }
   ],
   "source": [
    "apply_bucketing(df_train, 'CreditScoreRangeLower', dict_bucketing['CreditScoreRangeLower']).head()"
   ]
  },
  {
   "cell_type": "code",
   "execution_count": 32,
   "metadata": {
    "ExecuteTime": {
     "end_time": "2019-05-15T21:30:55.360172Z",
     "start_time": "2019-05-15T21:30:54.013602Z"
    }
   },
   "outputs": [],
   "source": [
    "# Apply the bucketing\n",
    "\n",
    "# Keep each column dummy columns in independent lists\n",
    "list_df_tr, list_df_val, list_df_oot = [], [], []\n",
    "for feat in final_features:\n",
    "    list_df_tr.append(apply_bucketing(df_train, feat, dict_bucketing[feat]))\n",
    "    list_df_val.append(apply_bucketing(df_val, feat, dict_bucketing[feat]))\n",
    "    list_df_oot.append(apply_bucketing(df_oot, feat, dict_bucketing[feat]))\n",
    "\n",
    "# Then 'vertically' combine them\n",
    "df_tr_preproc = pd.concat(list_df_tr, axis=1)\n",
    "df_val_preproc = pd.concat(list_df_val, axis=1)\n",
    "df_oot_preproc = pd.concat(list_df_oot, axis=1)\n",
    "\n",
    "# Capture the name of all buckets in our dataset\n",
    "keep_cols_buck = df_tr_preproc.columns"
   ]
  },
  {
   "cell_type": "code",
   "execution_count": 33,
   "metadata": {},
   "outputs": [
    {
     "data": {
      "text/plain": [
       "((15259, 56), (13220, 58))"
      ]
     },
     "execution_count": 33,
     "metadata": {},
     "output_type": "execute_result"
    }
   ],
   "source": [
    "df_tr_preproc.shape, df_oot_preproc.shape"
   ]
  },
  {
   "cell_type": "code",
   "execution_count": 34,
   "metadata": {
    "ExecuteTime": {
     "end_time": "2019-05-15T21:30:56.366797Z",
     "start_time": "2019-05-15T21:30:56.349901Z"
    }
   },
   "outputs": [],
   "source": [
    "# Capture the target in each subset\n",
    "y_tr, y_val, y_oot = df_train['bad'], df_val['bad'], df_oot['bad']"
   ]
  },
  {
   "cell_type": "markdown",
   "metadata": {},
   "source": [
    "## Modeling"
   ]
  },
  {
   "cell_type": "markdown",
   "metadata": {},
   "source": [
    "### Logistic Regression"
   ]
  },
  {
   "cell_type": "code",
   "execution_count": 35,
   "metadata": {
    "ExecuteTime": {
     "end_time": "2019-05-15T21:31:04.519348Z",
     "start_time": "2019-05-15T21:31:04.314414Z"
    }
   },
   "outputs": [],
   "source": [
    "from sklearn.linear_model import LogisticRegression\n",
    "from sklearn import metrics"
   ]
  },
  {
   "cell_type": "code",
   "execution_count": 36,
   "metadata": {
    "ExecuteTime": {
     "end_time": "2019-05-15T21:31:04.875031Z",
     "start_time": "2019-05-15T21:31:04.859449Z"
    }
   },
   "outputs": [],
   "source": [
    "def get_auc(y_true, y_pred):\n",
    "    fpr, tpr, thresholds = metrics.roc_curve(y_true, y_pred)\n",
    "    return metrics.auc(fpr, tpr)"
   ]
  },
  {
   "cell_type": "code",
   "execution_count": 37,
   "metadata": {
    "ExecuteTime": {
     "end_time": "2019-05-15T21:31:07.303874Z",
     "start_time": "2019-05-15T21:31:06.535789Z"
    }
   },
   "outputs": [
    {
     "data": {
      "text/plain": [
       "[('IncomeVerifiable_True',\n",
       "  1,\n",
       "  DebtToIncomeRatio_NA    0.999027\n",
       "  Name: IncomeVerifiable_True, dtype: float64),\n",
       " ('TotalProsperLoans_NA',\n",
       "  6,\n",
       "  ScorexChangeAtTimeOfListing_NA            0.996584\n",
       "  ProsperPrincipalBorrowed_NA               1.000000\n",
       "  OnTimeProsperPayments_NA                  1.000000\n",
       "  ProsperPaymentsLessThanOneMonthLate_NA    1.000000\n",
       "  ProsperPaymentsOneMonthPlusLate_NA        1.000000\n",
       "  ProsperPrincipalOutstanding_NA            1.000000\n",
       "  Name: TotalProsperLoans_NA, dtype: float64),\n",
       " ('ScorexChangeAtTimeOfListing_NA',\n",
       "  6,\n",
       "  TotalProsperLoans_NA                      0.996584\n",
       "  ProsperPrincipalBorrowed_NA               0.996584\n",
       "  OnTimeProsperPayments_NA                  0.996584\n",
       "  ProsperPaymentsLessThanOneMonthLate_NA    0.996584\n",
       "  ProsperPaymentsOneMonthPlusLate_NA        0.996584\n",
       "  ProsperPrincipalOutstanding_NA            0.996584\n",
       "  Name: ScorexChangeAtTimeOfListing_NA, dtype: float64),\n",
       " ('ProsperPrincipalBorrowed_NA',\n",
       "  6,\n",
       "  TotalProsperLoans_NA                      1.000000\n",
       "  ScorexChangeAtTimeOfListing_NA            0.996584\n",
       "  OnTimeProsperPayments_NA                  1.000000\n",
       "  ProsperPaymentsLessThanOneMonthLate_NA    1.000000\n",
       "  ProsperPaymentsOneMonthPlusLate_NA        1.000000\n",
       "  ProsperPrincipalOutstanding_NA            1.000000\n",
       "  Name: ProsperPrincipalBorrowed_NA, dtype: float64),\n",
       " ('OnTimeProsperPayments_NA',\n",
       "  6,\n",
       "  TotalProsperLoans_NA                      1.000000\n",
       "  ScorexChangeAtTimeOfListing_NA            0.996584\n",
       "  ProsperPrincipalBorrowed_NA               1.000000\n",
       "  ProsperPaymentsLessThanOneMonthLate_NA    1.000000\n",
       "  ProsperPaymentsOneMonthPlusLate_NA        1.000000\n",
       "  ProsperPrincipalOutstanding_NA            1.000000\n",
       "  Name: OnTimeProsperPayments_NA, dtype: float64),\n",
       " ('DebtToIncomeRatio_NA',\n",
       "  1,\n",
       "  IncomeVerifiable_True    0.999027\n",
       "  Name: DebtToIncomeRatio_NA, dtype: float64),\n",
       " ('ProsperPaymentsLessThanOneMonthLate_NA',\n",
       "  6,\n",
       "  TotalProsperLoans_NA                  1.000000\n",
       "  ScorexChangeAtTimeOfListing_NA        0.996584\n",
       "  ProsperPrincipalBorrowed_NA           1.000000\n",
       "  OnTimeProsperPayments_NA              1.000000\n",
       "  ProsperPaymentsOneMonthPlusLate_NA    1.000000\n",
       "  ProsperPrincipalOutstanding_NA        1.000000\n",
       "  Name: ProsperPaymentsLessThanOneMonthLate_NA, dtype: float64),\n",
       " ('ProsperPaymentsOneMonthPlusLate_NA',\n",
       "  6,\n",
       "  TotalProsperLoans_NA                      1.000000\n",
       "  ScorexChangeAtTimeOfListing_NA            0.996584\n",
       "  ProsperPrincipalBorrowed_NA               1.000000\n",
       "  OnTimeProsperPayments_NA                  1.000000\n",
       "  ProsperPaymentsLessThanOneMonthLate_NA    1.000000\n",
       "  ProsperPrincipalOutstanding_NA            1.000000\n",
       "  Name: ProsperPaymentsOneMonthPlusLate_NA, dtype: float64),\n",
       " ('ProsperPrincipalOutstanding_NA',\n",
       "  6,\n",
       "  TotalProsperLoans_NA                      1.000000\n",
       "  ScorexChangeAtTimeOfListing_NA            0.996584\n",
       "  ProsperPrincipalBorrowed_NA               1.000000\n",
       "  OnTimeProsperPayments_NA                  1.000000\n",
       "  ProsperPaymentsLessThanOneMonthLate_NA    1.000000\n",
       "  ProsperPaymentsOneMonthPlusLate_NA        1.000000\n",
       "  Name: ProsperPrincipalOutstanding_NA, dtype: float64)]"
      ]
     },
     "execution_count": 37,
     "metadata": {},
     "output_type": "execute_result"
    }
   ],
   "source": [
    "#check buckets correlations\n",
    "corr = df_tr_preproc[keep_cols_buck].corr()\n",
    "orig_features = keep_cols_buck.values.tolist()\n",
    "corr_TH = 0.75\n",
    "n_corr_list=[]\n",
    "corr_feats_list=[]\n",
    "for f in orig_features:\n",
    "    #get correlation entries for the feature\n",
    "    corr_f = corr[f][[col for col in orig_features if col!=f]]\n",
    "    #work with absolute value\n",
    "    corr_f_abs = corr_f.abs()\n",
    "    #get features above corr TH\n",
    "    corr_ht_th = corr_f_abs[corr_f_abs>corr_TH]\n",
    "    n_corr_list.append(corr_ht_th.shape[0])\n",
    "    corr_feats_list.append(corr_ht_th)\n",
    "\n",
    "corr_buckets = [(feat, n, feats_corr) for n, feats_corr, feat in zip(n_corr_list, corr_feats_list, orig_features) if n>0]\n",
    "corr_buckets"
   ]
  },
  {
   "cell_type": "code",
   "execution_count": 38,
   "metadata": {
    "ExecuteTime": {
     "end_time": "2019-05-15T21:31:07.807280Z",
     "start_time": "2019-05-15T21:31:07.782549Z"
    }
   },
   "outputs": [
    {
     "name": "stdout",
     "output_type": "stream",
     "text": [
      "Drop: ScorexChangeAtTimeOfListing_NA\n",
      "Drop: ProsperPrincipalBorrowed_NA\n",
      "Drop: OnTimeProsperPayments_NA\n",
      "Drop: DebtToIncomeRatio_NA\n",
      "Drop: ProsperPaymentsLessThanOneMonthLate_NA\n",
      "Drop: ProsperPaymentsOneMonthPlusLate_NA\n",
      "Drop: ProsperPrincipalOutstanding_NA\n"
     ]
    }
   ],
   "source": [
    "glm_cols = get_uncorr_feats(corr_buckets, orig_features)"
   ]
  },
  {
   "cell_type": "code",
   "execution_count": 39,
   "metadata": {},
   "outputs": [
    {
     "data": {
      "text/plain": [
       "['IncomeVerifiable_True',\n",
       " 'CreditScoreRangeLower_660|700',\n",
       " 'CreditScoreRangeLower_700|740',\n",
       " 'CreditScoreRangeLower_740|880',\n",
       " 'TotalProsperLoans_1|2',\n",
       " 'TotalProsperLoans_2|7',\n",
       " 'TotalProsperLoans_NA',\n",
       " 'InquiriesLast6Months_1|2',\n",
       " 'InquiriesLast6Months_2|27',\n",
       " 'CurrentCreditLines_6|9',\n",
       " 'CurrentCreditLines_9|12',\n",
       " 'CurrentCreditLines_12|38',\n",
       " 'ScorexChangeAtTimeOfListing_-32|-3',\n",
       " 'ScorexChangeAtTimeOfListing_-3|30',\n",
       " 'ScorexChangeAtTimeOfListing_30|257',\n",
       " 'ProsperPrincipalBorrowed_3000|5000',\n",
       " 'ProsperPrincipalBorrowed_5000|9000',\n",
       " 'ProsperPrincipalBorrowed_9000|57499',\n",
       " 'OnTimeProsperPayments_10|19',\n",
       " 'OnTimeProsperPayments_19|34',\n",
       " 'OnTimeProsperPayments_34|103',\n",
       " 'CurrentlyInGroup_True',\n",
       " 'IsBorrowerHomeowner_True',\n",
       " 'AmountDelinquent_124604|249209',\n",
       " 'TradesOpenedLast6Months_1|20',\n",
       " 'StatedMonthlyIncome_3167|4667',\n",
       " 'StatedMonthlyIncome_4667|6833',\n",
       " 'StatedMonthlyIncome_6833|483333',\n",
       " 'DebtToIncomeRatio_0.1|0.2',\n",
       " 'DebtToIncomeRatio_0.2|0.3',\n",
       " 'DebtToIncomeRatio_0.3|10',\n",
       " 'Occupation_Executive',\n",
       " 'Occupation_Other',\n",
       " 'Occupation_Professional',\n",
       " 'ProsperPaymentsLessThanOneMonthLate_14|28',\n",
       " 'ProsperPaymentsOneMonthPlusLate_10|21',\n",
       " 'BorrowerState_FL',\n",
       " 'BorrowerState_NY',\n",
       " 'BorrowerState_Other',\n",
       " 'BorrowerState_TX',\n",
       " 'ProsperPrincipalOutstanding_818|3049',\n",
       " 'ProsperPrincipalOutstanding_3049|21524',\n",
       " 'TotalTrades_14|21',\n",
       " 'TotalTrades_21|30',\n",
       " 'TotalTrades_30|110',\n",
       " 'IncomeRange_$25,000-49,999',\n",
       " 'IncomeRange_$50,000-74,999',\n",
       " 'IncomeRange_$75,000-99,999',\n",
       " 'IncomeRange_Other']"
      ]
     },
     "execution_count": 39,
     "metadata": {},
     "output_type": "execute_result"
    }
   ],
   "source": [
    "glm_cols"
   ]
  },
  {
   "cell_type": "code",
   "execution_count": 40,
   "metadata": {
    "ExecuteTime": {
     "end_time": "2019-05-15T21:31:09.862098Z",
     "start_time": "2019-05-15T21:31:09.186937Z"
    }
   },
   "outputs": [
    {
     "data": {
      "text/html": [
       "<style>#sk-container-id-1 {color: black;background-color: white;}#sk-container-id-1 pre{padding: 0;}#sk-container-id-1 div.sk-toggleable {background-color: white;}#sk-container-id-1 label.sk-toggleable__label {cursor: pointer;display: block;width: 100%;margin-bottom: 0;padding: 0.3em;box-sizing: border-box;text-align: center;}#sk-container-id-1 label.sk-toggleable__label-arrow:before {content: \"▸\";float: left;margin-right: 0.25em;color: #696969;}#sk-container-id-1 label.sk-toggleable__label-arrow:hover:before {color: black;}#sk-container-id-1 div.sk-estimator:hover label.sk-toggleable__label-arrow:before {color: black;}#sk-container-id-1 div.sk-toggleable__content {max-height: 0;max-width: 0;overflow: hidden;text-align: left;background-color: #f0f8ff;}#sk-container-id-1 div.sk-toggleable__content pre {margin: 0.2em;color: black;border-radius: 0.25em;background-color: #f0f8ff;}#sk-container-id-1 input.sk-toggleable__control:checked~div.sk-toggleable__content {max-height: 200px;max-width: 100%;overflow: auto;}#sk-container-id-1 input.sk-toggleable__control:checked~label.sk-toggleable__label-arrow:before {content: \"▾\";}#sk-container-id-1 div.sk-estimator input.sk-toggleable__control:checked~label.sk-toggleable__label {background-color: #d4ebff;}#sk-container-id-1 div.sk-label input.sk-toggleable__control:checked~label.sk-toggleable__label {background-color: #d4ebff;}#sk-container-id-1 input.sk-hidden--visually {border: 0;clip: rect(1px 1px 1px 1px);clip: rect(1px, 1px, 1px, 1px);height: 1px;margin: -1px;overflow: hidden;padding: 0;position: absolute;width: 1px;}#sk-container-id-1 div.sk-estimator {font-family: monospace;background-color: #f0f8ff;border: 1px dotted black;border-radius: 0.25em;box-sizing: border-box;margin-bottom: 0.5em;}#sk-container-id-1 div.sk-estimator:hover {background-color: #d4ebff;}#sk-container-id-1 div.sk-parallel-item::after {content: \"\";width: 100%;border-bottom: 1px solid gray;flex-grow: 1;}#sk-container-id-1 div.sk-label:hover label.sk-toggleable__label {background-color: #d4ebff;}#sk-container-id-1 div.sk-serial::before {content: \"\";position: absolute;border-left: 1px solid gray;box-sizing: border-box;top: 0;bottom: 0;left: 50%;z-index: 0;}#sk-container-id-1 div.sk-serial {display: flex;flex-direction: column;align-items: center;background-color: white;padding-right: 0.2em;padding-left: 0.2em;position: relative;}#sk-container-id-1 div.sk-item {position: relative;z-index: 1;}#sk-container-id-1 div.sk-parallel {display: flex;align-items: stretch;justify-content: center;background-color: white;position: relative;}#sk-container-id-1 div.sk-item::before, #sk-container-id-1 div.sk-parallel-item::before {content: \"\";position: absolute;border-left: 1px solid gray;box-sizing: border-box;top: 0;bottom: 0;left: 50%;z-index: -1;}#sk-container-id-1 div.sk-parallel-item {display: flex;flex-direction: column;z-index: 1;position: relative;background-color: white;}#sk-container-id-1 div.sk-parallel-item:first-child::after {align-self: flex-end;width: 50%;}#sk-container-id-1 div.sk-parallel-item:last-child::after {align-self: flex-start;width: 50%;}#sk-container-id-1 div.sk-parallel-item:only-child::after {width: 0;}#sk-container-id-1 div.sk-dashed-wrapped {border: 1px dashed gray;margin: 0 0.4em 0.5em 0.4em;box-sizing: border-box;padding-bottom: 0.4em;background-color: white;}#sk-container-id-1 div.sk-label label {font-family: monospace;font-weight: bold;display: inline-block;line-height: 1.2em;}#sk-container-id-1 div.sk-label-container {text-align: center;}#sk-container-id-1 div.sk-container {/* jupyter's `normalize.less` sets `[hidden] { display: none; }` but bootstrap.min.css set `[hidden] { display: none !important; }` so we also need the `!important` here to be able to override the default hidden behavior on the sphinx rendered scikit-learn.org. See: https://github.com/scikit-learn/scikit-learn/issues/21755 */display: inline-block !important;position: relative;}#sk-container-id-1 div.sk-text-repr-fallback {display: none;}</style><div id=\"sk-container-id-1\" class=\"sk-top-container\"><div class=\"sk-text-repr-fallback\"><pre>LogisticRegression(C=0.01)</pre><b>In a Jupyter environment, please rerun this cell to show the HTML representation or trust the notebook. <br />On GitHub, the HTML representation is unable to render, please try loading this page with nbviewer.org.</b></div><div class=\"sk-container\" hidden><div class=\"sk-item\"><div class=\"sk-estimator sk-toggleable\"><input class=\"sk-toggleable__control sk-hidden--visually\" id=\"sk-estimator-id-1\" type=\"checkbox\" checked><label for=\"sk-estimator-id-1\" class=\"sk-toggleable__label sk-toggleable__label-arrow\">LogisticRegression</label><div class=\"sk-toggleable__content\"><pre>LogisticRegression(C=0.01)</pre></div></div></div></div></div>"
      ],
      "text/plain": [
       "LogisticRegression(C=0.01)"
      ]
     },
     "execution_count": 40,
     "metadata": {},
     "output_type": "execute_result"
    }
   ],
   "source": [
    "#train first model\n",
    "lr = LogisticRegression(solver='lbfgs', C=0.01)\n",
    "lr.fit(df_tr_preproc[glm_cols], y_tr)"
   ]
  },
  {
   "cell_type": "code",
   "execution_count": 41,
   "metadata": {},
   "outputs": [
    {
     "data": {
      "text/html": [
       "<div>\n",
       "<style scoped>\n",
       "    .dataframe tbody tr th:only-of-type {\n",
       "        vertical-align: middle;\n",
       "    }\n",
       "\n",
       "    .dataframe tbody tr th {\n",
       "        vertical-align: top;\n",
       "    }\n",
       "\n",
       "    .dataframe thead th {\n",
       "        text-align: right;\n",
       "    }\n",
       "</style>\n",
       "<table border=\"1\" class=\"dataframe\">\n",
       "  <thead>\n",
       "    <tr style=\"text-align: right;\">\n",
       "      <th></th>\n",
       "      <th>IncomeVerifiable_True</th>\n",
       "      <th>CreditScoreRangeLower_660|700</th>\n",
       "      <th>CreditScoreRangeLower_700|740</th>\n",
       "      <th>CreditScoreRangeLower_740|880</th>\n",
       "      <th>TotalProsperLoans_1|2</th>\n",
       "      <th>TotalProsperLoans_2|7</th>\n",
       "      <th>TotalProsperLoans_NA</th>\n",
       "      <th>InquiriesLast6Months_1|2</th>\n",
       "      <th>InquiriesLast6Months_2|27</th>\n",
       "      <th>CurrentCreditLines_6|9</th>\n",
       "      <th>...</th>\n",
       "      <th>BorrowerState_TX</th>\n",
       "      <th>ProsperPrincipalOutstanding_818|3049</th>\n",
       "      <th>ProsperPrincipalOutstanding_3049|21524</th>\n",
       "      <th>TotalTrades_14|21</th>\n",
       "      <th>TotalTrades_21|30</th>\n",
       "      <th>TotalTrades_30|110</th>\n",
       "      <th>IncomeRange_$25,000-49,999</th>\n",
       "      <th>IncomeRange_$50,000-74,999</th>\n",
       "      <th>IncomeRange_$75,000-99,999</th>\n",
       "      <th>IncomeRange_Other</th>\n",
       "    </tr>\n",
       "  </thead>\n",
       "  <tbody>\n",
       "    <tr>\n",
       "      <th>0</th>\n",
       "      <td>1</td>\n",
       "      <td>0</td>\n",
       "      <td>0</td>\n",
       "      <td>0</td>\n",
       "      <td>0</td>\n",
       "      <td>0</td>\n",
       "      <td>1</td>\n",
       "      <td>1</td>\n",
       "      <td>0</td>\n",
       "      <td>1</td>\n",
       "      <td>...</td>\n",
       "      <td>0</td>\n",
       "      <td>0</td>\n",
       "      <td>0</td>\n",
       "      <td>1</td>\n",
       "      <td>0</td>\n",
       "      <td>0</td>\n",
       "      <td>1</td>\n",
       "      <td>0</td>\n",
       "      <td>0</td>\n",
       "      <td>0</td>\n",
       "    </tr>\n",
       "    <tr>\n",
       "      <th>2</th>\n",
       "      <td>1</td>\n",
       "      <td>0</td>\n",
       "      <td>0</td>\n",
       "      <td>0</td>\n",
       "      <td>0</td>\n",
       "      <td>0</td>\n",
       "      <td>0</td>\n",
       "      <td>0</td>\n",
       "      <td>0</td>\n",
       "      <td>0</td>\n",
       "      <td>...</td>\n",
       "      <td>0</td>\n",
       "      <td>1</td>\n",
       "      <td>0</td>\n",
       "      <td>1</td>\n",
       "      <td>0</td>\n",
       "      <td>0</td>\n",
       "      <td>1</td>\n",
       "      <td>0</td>\n",
       "      <td>0</td>\n",
       "      <td>0</td>\n",
       "    </tr>\n",
       "    <tr>\n",
       "      <th>3</th>\n",
       "      <td>0</td>\n",
       "      <td>1</td>\n",
       "      <td>0</td>\n",
       "      <td>0</td>\n",
       "      <td>0</td>\n",
       "      <td>0</td>\n",
       "      <td>1</td>\n",
       "      <td>0</td>\n",
       "      <td>0</td>\n",
       "      <td>0</td>\n",
       "      <td>...</td>\n",
       "      <td>0</td>\n",
       "      <td>0</td>\n",
       "      <td>0</td>\n",
       "      <td>0</td>\n",
       "      <td>1</td>\n",
       "      <td>0</td>\n",
       "      <td>0</td>\n",
       "      <td>0</td>\n",
       "      <td>1</td>\n",
       "      <td>0</td>\n",
       "    </tr>\n",
       "    <tr>\n",
       "      <th>4</th>\n",
       "      <td>1</td>\n",
       "      <td>1</td>\n",
       "      <td>0</td>\n",
       "      <td>0</td>\n",
       "      <td>0</td>\n",
       "      <td>0</td>\n",
       "      <td>1</td>\n",
       "      <td>0</td>\n",
       "      <td>0</td>\n",
       "      <td>1</td>\n",
       "      <td>...</td>\n",
       "      <td>0</td>\n",
       "      <td>0</td>\n",
       "      <td>0</td>\n",
       "      <td>1</td>\n",
       "      <td>0</td>\n",
       "      <td>0</td>\n",
       "      <td>1</td>\n",
       "      <td>0</td>\n",
       "      <td>0</td>\n",
       "      <td>0</td>\n",
       "    </tr>\n",
       "    <tr>\n",
       "      <th>5</th>\n",
       "      <td>1</td>\n",
       "      <td>0</td>\n",
       "      <td>0</td>\n",
       "      <td>1</td>\n",
       "      <td>0</td>\n",
       "      <td>0</td>\n",
       "      <td>1</td>\n",
       "      <td>0</td>\n",
       "      <td>0</td>\n",
       "      <td>0</td>\n",
       "      <td>...</td>\n",
       "      <td>0</td>\n",
       "      <td>0</td>\n",
       "      <td>0</td>\n",
       "      <td>1</td>\n",
       "      <td>0</td>\n",
       "      <td>0</td>\n",
       "      <td>0</td>\n",
       "      <td>1</td>\n",
       "      <td>0</td>\n",
       "      <td>0</td>\n",
       "    </tr>\n",
       "  </tbody>\n",
       "</table>\n",
       "<p>5 rows × 49 columns</p>\n",
       "</div>"
      ],
      "text/plain": [
       "   IncomeVerifiable_True  CreditScoreRangeLower_660|700  \\\n",
       "0                      1                              0   \n",
       "2                      1                              0   \n",
       "3                      0                              1   \n",
       "4                      1                              1   \n",
       "5                      1                              0   \n",
       "\n",
       "   CreditScoreRangeLower_700|740  CreditScoreRangeLower_740|880  \\\n",
       "0                              0                              0   \n",
       "2                              0                              0   \n",
       "3                              0                              0   \n",
       "4                              0                              0   \n",
       "5                              0                              1   \n",
       "\n",
       "   TotalProsperLoans_1|2  TotalProsperLoans_2|7  TotalProsperLoans_NA  \\\n",
       "0                      0                      0                     1   \n",
       "2                      0                      0                     0   \n",
       "3                      0                      0                     1   \n",
       "4                      0                      0                     1   \n",
       "5                      0                      0                     1   \n",
       "\n",
       "   InquiriesLast6Months_1|2  InquiriesLast6Months_2|27  \\\n",
       "0                         1                          0   \n",
       "2                         0                          0   \n",
       "3                         0                          0   \n",
       "4                         0                          0   \n",
       "5                         0                          0   \n",
       "\n",
       "   CurrentCreditLines_6|9  ...  BorrowerState_TX  \\\n",
       "0                       1  ...                 0   \n",
       "2                       0  ...                 0   \n",
       "3                       0  ...                 0   \n",
       "4                       1  ...                 0   \n",
       "5                       0  ...                 0   \n",
       "\n",
       "   ProsperPrincipalOutstanding_818|3049  \\\n",
       "0                                     0   \n",
       "2                                     1   \n",
       "3                                     0   \n",
       "4                                     0   \n",
       "5                                     0   \n",
       "\n",
       "   ProsperPrincipalOutstanding_3049|21524  TotalTrades_14|21  \\\n",
       "0                                       0                  1   \n",
       "2                                       0                  1   \n",
       "3                                       0                  0   \n",
       "4                                       0                  1   \n",
       "5                                       0                  1   \n",
       "\n",
       "   TotalTrades_21|30  TotalTrades_30|110  IncomeRange_$25,000-49,999  \\\n",
       "0                  0                   0                           1   \n",
       "2                  0                   0                           1   \n",
       "3                  1                   0                           0   \n",
       "4                  0                   0                           1   \n",
       "5                  0                   0                           0   \n",
       "\n",
       "   IncomeRange_$50,000-74,999  IncomeRange_$75,000-99,999  IncomeRange_Other  \n",
       "0                           0                           0                  0  \n",
       "2                           0                           0                  0  \n",
       "3                           0                           1                  0  \n",
       "4                           0                           0                  0  \n",
       "5                           1                           0                  0  \n",
       "\n",
       "[5 rows x 49 columns]"
      ]
     },
     "execution_count": 41,
     "metadata": {},
     "output_type": "execute_result"
    }
   ],
   "source": [
    "df_tr_preproc[glm_cols].head()"
   ]
  },
  {
   "cell_type": "code",
   "execution_count": 42,
   "metadata": {
    "ExecuteTime": {
     "end_time": "2019-05-15T21:31:18.382052Z",
     "start_time": "2019-05-15T21:31:18.298663Z"
    }
   },
   "outputs": [],
   "source": [
    "# Predict for all subsets\n",
    "pred_log1_tr = lr.predict_proba(df_tr_preproc[glm_cols])[:, 1]\n",
    "pred_log1_val = lr.predict_proba(df_val_preproc[glm_cols])[:, 1]\n",
    "pred_log1_oot = lr.predict_proba(df_oot_preproc[glm_cols])[:, 1]"
   ]
  },
  {
   "cell_type": "code",
   "execution_count": 43,
   "metadata": {
    "ExecuteTime": {
     "end_time": "2019-05-15T21:31:19.288402Z",
     "start_time": "2019-05-15T21:31:19.246779Z"
    }
   },
   "outputs": [
    {
     "data": {
      "text/plain": [
       "(0.7177330452450146, 0.6992758357261399, 0.6902114922516076)"
      ]
     },
     "execution_count": 43,
     "metadata": {},
     "output_type": "execute_result"
    }
   ],
   "source": [
    "Log1_aucs = get_auc(y_tr, pred_log1_tr), get_auc(y_val, pred_log1_val), get_auc(y_oot, pred_log1_oot)\n",
    "Log1_aucs"
   ]
  },
  {
   "cell_type": "code",
   "execution_count": 44,
   "metadata": {},
   "outputs": [],
   "source": [
    "# (0.7210401476585515, 0.7069444956666053, 0.6958697137169241)"
   ]
  },
  {
   "cell_type": "code",
   "execution_count": 45,
   "metadata": {
    "ExecuteTime": {
     "end_time": "2019-05-15T21:31:21.003963Z",
     "start_time": "2019-05-15T21:31:20.959005Z"
    }
   },
   "outputs": [],
   "source": [
    "# Get p-values\n",
    "# Mostly from: https://gist.github.com/rspeare/77061e6e317896be29c6de9a85db301d\n",
    "\n",
    "import scipy.stats as stat\n",
    "def get_p_vals(lr, X):\n",
    "    denom = (2.0*(1.0+np.cosh(lr.decision_function(X))))\n",
    "    denom = np.tile(denom,(X.shape[1],1)).T\n",
    "    F_ij = np.dot((X/denom).T,X) ## Fisher Information Matrix\n",
    "    Cramer_Rao = np.linalg.inv(F_ij) ## Inverse Information Matrix\n",
    "    sigma_estimates = np.sqrt(np.diagonal(Cramer_Rao))\n",
    "    z_scores = lr.coef_[0]/sigma_estimates # z-score for eaach model coefficient\n",
    "    p_values = [stat.norm.sf(abs(x))*2 for x in z_scores] ### two tailed test for p-values#        \n",
    "    return p_values\n",
    "\n",
    "def show_lr_summary(p_values, features, lr):\n",
    "    df_ret = pd.DataFrame({'feature': features,\n",
    "                           'p_val': p_values,\n",
    "                           'betas': lr.coef_.tolist()[0]})[['feature', 'betas', 'p_val']]\n",
    "    return df_ret"
   ]
  },
  {
   "cell_type": "code",
   "execution_count": 46,
   "metadata": {
    "ExecuteTime": {
     "end_time": "2019-05-15T21:31:26.263091Z",
     "start_time": "2019-05-15T21:31:25.754776Z"
    }
   },
   "outputs": [
    {
     "data": {
      "text/html": [
       "<div>\n",
       "<style scoped>\n",
       "    .dataframe tbody tr th:only-of-type {\n",
       "        vertical-align: middle;\n",
       "    }\n",
       "\n",
       "    .dataframe tbody tr th {\n",
       "        vertical-align: top;\n",
       "    }\n",
       "\n",
       "    .dataframe thead th {\n",
       "        text-align: right;\n",
       "    }\n",
       "</style>\n",
       "<table border=\"1\" class=\"dataframe\">\n",
       "  <thead>\n",
       "    <tr style=\"text-align: right;\">\n",
       "      <th></th>\n",
       "      <th>feature</th>\n",
       "      <th>betas</th>\n",
       "      <th>p_val</th>\n",
       "    </tr>\n",
       "  </thead>\n",
       "  <tbody>\n",
       "    <tr>\n",
       "      <th>0</th>\n",
       "      <td>IncomeVerifiable_True</td>\n",
       "      <td>-0.346004</td>\n",
       "      <td>0.002200</td>\n",
       "    </tr>\n",
       "    <tr>\n",
       "      <th>1</th>\n",
       "      <td>CreditScoreRangeLower_660|700</td>\n",
       "      <td>-0.026397</td>\n",
       "      <td>0.750309</td>\n",
       "    </tr>\n",
       "    <tr>\n",
       "      <th>2</th>\n",
       "      <td>CreditScoreRangeLower_700|740</td>\n",
       "      <td>-0.195621</td>\n",
       "      <td>0.036185</td>\n",
       "    </tr>\n",
       "    <tr>\n",
       "      <th>3</th>\n",
       "      <td>CreditScoreRangeLower_740|880</td>\n",
       "      <td>-0.376430</td>\n",
       "      <td>0.000515</td>\n",
       "    </tr>\n",
       "    <tr>\n",
       "      <th>4</th>\n",
       "      <td>TotalProsperLoans_1|2</td>\n",
       "      <td>-0.073837</td>\n",
       "      <td>0.718769</td>\n",
       "    </tr>\n",
       "    <tr>\n",
       "      <th>5</th>\n",
       "      <td>TotalProsperLoans_2|7</td>\n",
       "      <td>-0.077556</td>\n",
       "      <td>0.813193</td>\n",
       "    </tr>\n",
       "    <tr>\n",
       "      <th>6</th>\n",
       "      <td>TotalProsperLoans_NA</td>\n",
       "      <td>0.219102</td>\n",
       "      <td>0.205575</td>\n",
       "    </tr>\n",
       "    <tr>\n",
       "      <th>7</th>\n",
       "      <td>InquiriesLast6Months_1|2</td>\n",
       "      <td>0.213942</td>\n",
       "      <td>0.025239</td>\n",
       "    </tr>\n",
       "    <tr>\n",
       "      <th>8</th>\n",
       "      <td>InquiriesLast6Months_2|27</td>\n",
       "      <td>0.416485</td>\n",
       "      <td>0.000004</td>\n",
       "    </tr>\n",
       "    <tr>\n",
       "      <th>9</th>\n",
       "      <td>CurrentCreditLines_6|9</td>\n",
       "      <td>-0.127276</td>\n",
       "      <td>0.162538</td>\n",
       "    </tr>\n",
       "    <tr>\n",
       "      <th>10</th>\n",
       "      <td>CurrentCreditLines_9|12</td>\n",
       "      <td>-0.191924</td>\n",
       "      <td>0.086004</td>\n",
       "    </tr>\n",
       "    <tr>\n",
       "      <th>11</th>\n",
       "      <td>CurrentCreditLines_12|38</td>\n",
       "      <td>-0.098304</td>\n",
       "      <td>0.404761</td>\n",
       "    </tr>\n",
       "    <tr>\n",
       "      <th>12</th>\n",
       "      <td>ScorexChangeAtTimeOfListing_-32|-3</td>\n",
       "      <td>-0.115637</td>\n",
       "      <td>0.490576</td>\n",
       "    </tr>\n",
       "    <tr>\n",
       "      <th>13</th>\n",
       "      <td>ScorexChangeAtTimeOfListing_-3|30</td>\n",
       "      <td>-0.210838</td>\n",
       "      <td>0.240365</td>\n",
       "    </tr>\n",
       "    <tr>\n",
       "      <th>14</th>\n",
       "      <td>ScorexChangeAtTimeOfListing_30|257</td>\n",
       "      <td>-0.197568</td>\n",
       "      <td>0.310923</td>\n",
       "    </tr>\n",
       "    <tr>\n",
       "      <th>15</th>\n",
       "      <td>ProsperPrincipalBorrowed_3000|5000</td>\n",
       "      <td>-0.065714</td>\n",
       "      <td>0.715905</td>\n",
       "    </tr>\n",
       "    <tr>\n",
       "      <th>16</th>\n",
       "      <td>ProsperPrincipalBorrowed_5000|9000</td>\n",
       "      <td>-0.014372</td>\n",
       "      <td>0.941394</td>\n",
       "    </tr>\n",
       "    <tr>\n",
       "      <th>17</th>\n",
       "      <td>ProsperPrincipalBorrowed_9000|57499</td>\n",
       "      <td>-0.064059</td>\n",
       "      <td>0.776368</td>\n",
       "    </tr>\n",
       "    <tr>\n",
       "      <th>18</th>\n",
       "      <td>OnTimeProsperPayments_10|19</td>\n",
       "      <td>-0.215860</td>\n",
       "      <td>0.226097</td>\n",
       "    </tr>\n",
       "    <tr>\n",
       "      <th>19</th>\n",
       "      <td>OnTimeProsperPayments_19|34</td>\n",
       "      <td>-0.137822</td>\n",
       "      <td>0.461044</td>\n",
       "    </tr>\n",
       "    <tr>\n",
       "      <th>20</th>\n",
       "      <td>OnTimeProsperPayments_34|103</td>\n",
       "      <td>-0.175573</td>\n",
       "      <td>0.444598</td>\n",
       "    </tr>\n",
       "    <tr>\n",
       "      <th>21</th>\n",
       "      <td>CurrentlyInGroup_True</td>\n",
       "      <td>-0.139299</td>\n",
       "      <td>0.428699</td>\n",
       "    </tr>\n",
       "    <tr>\n",
       "      <th>22</th>\n",
       "      <td>IsBorrowerHomeowner_True</td>\n",
       "      <td>-0.040066</td>\n",
       "      <td>0.590019</td>\n",
       "    </tr>\n",
       "    <tr>\n",
       "      <th>23</th>\n",
       "      <td>AmountDelinquent_124604|249209</td>\n",
       "      <td>-0.003870</td>\n",
       "      <td>0.998144</td>\n",
       "    </tr>\n",
       "    <tr>\n",
       "      <th>24</th>\n",
       "      <td>TradesOpenedLast6Months_1|20</td>\n",
       "      <td>0.279568</td>\n",
       "      <td>0.000881</td>\n",
       "    </tr>\n",
       "    <tr>\n",
       "      <th>25</th>\n",
       "      <td>StatedMonthlyIncome_3167|4667</td>\n",
       "      <td>-0.079440</td>\n",
       "      <td>0.436085</td>\n",
       "    </tr>\n",
       "    <tr>\n",
       "      <th>26</th>\n",
       "      <td>StatedMonthlyIncome_4667|6833</td>\n",
       "      <td>-0.094483</td>\n",
       "      <td>0.540808</td>\n",
       "    </tr>\n",
       "    <tr>\n",
       "      <th>27</th>\n",
       "      <td>StatedMonthlyIncome_6833|483333</td>\n",
       "      <td>-0.362042</td>\n",
       "      <td>0.066995</td>\n",
       "    </tr>\n",
       "    <tr>\n",
       "      <th>28</th>\n",
       "      <td>DebtToIncomeRatio_0.1|0.2</td>\n",
       "      <td>-0.189628</td>\n",
       "      <td>0.078385</td>\n",
       "    </tr>\n",
       "    <tr>\n",
       "      <th>29</th>\n",
       "      <td>DebtToIncomeRatio_0.2|0.3</td>\n",
       "      <td>0.047270</td>\n",
       "      <td>0.655176</td>\n",
       "    </tr>\n",
       "    <tr>\n",
       "      <th>30</th>\n",
       "      <td>DebtToIncomeRatio_0.3|10</td>\n",
       "      <td>0.252475</td>\n",
       "      <td>0.023959</td>\n",
       "    </tr>\n",
       "    <tr>\n",
       "      <th>31</th>\n",
       "      <td>Occupation_Executive</td>\n",
       "      <td>-0.057105</td>\n",
       "      <td>0.820037</td>\n",
       "    </tr>\n",
       "    <tr>\n",
       "      <th>32</th>\n",
       "      <td>Occupation_Other</td>\n",
       "      <td>0.113346</td>\n",
       "      <td>0.478394</td>\n",
       "    </tr>\n",
       "    <tr>\n",
       "      <th>33</th>\n",
       "      <td>Occupation_Professional</td>\n",
       "      <td>0.000967</td>\n",
       "      <td>0.995808</td>\n",
       "    </tr>\n",
       "    <tr>\n",
       "      <th>34</th>\n",
       "      <td>ProsperPaymentsLessThanOneMonthLate_14|28</td>\n",
       "      <td>0.014545</td>\n",
       "      <td>0.986044</td>\n",
       "    </tr>\n",
       "    <tr>\n",
       "      <th>35</th>\n",
       "      <td>ProsperPaymentsOneMonthPlusLate_10|21</td>\n",
       "      <td>-0.001712</td>\n",
       "      <td>0.999454</td>\n",
       "    </tr>\n",
       "    <tr>\n",
       "      <th>36</th>\n",
       "      <td>BorrowerState_FL</td>\n",
       "      <td>0.101069</td>\n",
       "      <td>0.496449</td>\n",
       "    </tr>\n",
       "    <tr>\n",
       "      <th>37</th>\n",
       "      <td>BorrowerState_NY</td>\n",
       "      <td>-0.066742</td>\n",
       "      <td>0.679246</td>\n",
       "    </tr>\n",
       "    <tr>\n",
       "      <th>38</th>\n",
       "      <td>BorrowerState_Other</td>\n",
       "      <td>0.031363</td>\n",
       "      <td>0.752757</td>\n",
       "    </tr>\n",
       "    <tr>\n",
       "      <th>39</th>\n",
       "      <td>BorrowerState_TX</td>\n",
       "      <td>0.040339</td>\n",
       "      <td>0.800930</td>\n",
       "    </tr>\n",
       "    <tr>\n",
       "      <th>40</th>\n",
       "      <td>ProsperPrincipalOutstanding_818|3049</td>\n",
       "      <td>0.034263</td>\n",
       "      <td>0.833364</td>\n",
       "    </tr>\n",
       "    <tr>\n",
       "      <th>41</th>\n",
       "      <td>ProsperPrincipalOutstanding_3049|21524</td>\n",
       "      <td>0.196505</td>\n",
       "      <td>0.284974</td>\n",
       "    </tr>\n",
       "    <tr>\n",
       "      <th>42</th>\n",
       "      <td>TotalTrades_14|21</td>\n",
       "      <td>-0.047806</td>\n",
       "      <td>0.607649</td>\n",
       "    </tr>\n",
       "    <tr>\n",
       "      <th>43</th>\n",
       "      <td>TotalTrades_21|30</td>\n",
       "      <td>-0.077378</td>\n",
       "      <td>0.451698</td>\n",
       "    </tr>\n",
       "    <tr>\n",
       "      <th>44</th>\n",
       "      <td>TotalTrades_30|110</td>\n",
       "      <td>-0.070388</td>\n",
       "      <td>0.549634</td>\n",
       "    </tr>\n",
       "    <tr>\n",
       "      <th>45</th>\n",
       "      <td>IncomeRange_$25,000-49,999</td>\n",
       "      <td>0.212784</td>\n",
       "      <td>0.276293</td>\n",
       "    </tr>\n",
       "    <tr>\n",
       "      <th>46</th>\n",
       "      <td>IncomeRange_$50,000-74,999</td>\n",
       "      <td>-0.007154</td>\n",
       "      <td>0.969264</td>\n",
       "    </tr>\n",
       "    <tr>\n",
       "      <th>47</th>\n",
       "      <td>IncomeRange_$75,000-99,999</td>\n",
       "      <td>-0.038101</td>\n",
       "      <td>0.798819</td>\n",
       "    </tr>\n",
       "    <tr>\n",
       "      <th>48</th>\n",
       "      <td>IncomeRange_Other</td>\n",
       "      <td>0.181692</td>\n",
       "      <td>0.397380</td>\n",
       "    </tr>\n",
       "  </tbody>\n",
       "</table>\n",
       "</div>"
      ],
      "text/plain": [
       "                                      feature     betas     p_val\n",
       "0                       IncomeVerifiable_True -0.346004  0.002200\n",
       "1               CreditScoreRangeLower_660|700 -0.026397  0.750309\n",
       "2               CreditScoreRangeLower_700|740 -0.195621  0.036185\n",
       "3               CreditScoreRangeLower_740|880 -0.376430  0.000515\n",
       "4                       TotalProsperLoans_1|2 -0.073837  0.718769\n",
       "5                       TotalProsperLoans_2|7 -0.077556  0.813193\n",
       "6                        TotalProsperLoans_NA  0.219102  0.205575\n",
       "7                    InquiriesLast6Months_1|2  0.213942  0.025239\n",
       "8                   InquiriesLast6Months_2|27  0.416485  0.000004\n",
       "9                      CurrentCreditLines_6|9 -0.127276  0.162538\n",
       "10                    CurrentCreditLines_9|12 -0.191924  0.086004\n",
       "11                   CurrentCreditLines_12|38 -0.098304  0.404761\n",
       "12         ScorexChangeAtTimeOfListing_-32|-3 -0.115637  0.490576\n",
       "13          ScorexChangeAtTimeOfListing_-3|30 -0.210838  0.240365\n",
       "14         ScorexChangeAtTimeOfListing_30|257 -0.197568  0.310923\n",
       "15         ProsperPrincipalBorrowed_3000|5000 -0.065714  0.715905\n",
       "16         ProsperPrincipalBorrowed_5000|9000 -0.014372  0.941394\n",
       "17        ProsperPrincipalBorrowed_9000|57499 -0.064059  0.776368\n",
       "18                OnTimeProsperPayments_10|19 -0.215860  0.226097\n",
       "19                OnTimeProsperPayments_19|34 -0.137822  0.461044\n",
       "20               OnTimeProsperPayments_34|103 -0.175573  0.444598\n",
       "21                      CurrentlyInGroup_True -0.139299  0.428699\n",
       "22                   IsBorrowerHomeowner_True -0.040066  0.590019\n",
       "23             AmountDelinquent_124604|249209 -0.003870  0.998144\n",
       "24               TradesOpenedLast6Months_1|20  0.279568  0.000881\n",
       "25              StatedMonthlyIncome_3167|4667 -0.079440  0.436085\n",
       "26              StatedMonthlyIncome_4667|6833 -0.094483  0.540808\n",
       "27            StatedMonthlyIncome_6833|483333 -0.362042  0.066995\n",
       "28                  DebtToIncomeRatio_0.1|0.2 -0.189628  0.078385\n",
       "29                  DebtToIncomeRatio_0.2|0.3  0.047270  0.655176\n",
       "30                   DebtToIncomeRatio_0.3|10  0.252475  0.023959\n",
       "31                       Occupation_Executive -0.057105  0.820037\n",
       "32                           Occupation_Other  0.113346  0.478394\n",
       "33                    Occupation_Professional  0.000967  0.995808\n",
       "34  ProsperPaymentsLessThanOneMonthLate_14|28  0.014545  0.986044\n",
       "35      ProsperPaymentsOneMonthPlusLate_10|21 -0.001712  0.999454\n",
       "36                           BorrowerState_FL  0.101069  0.496449\n",
       "37                           BorrowerState_NY -0.066742  0.679246\n",
       "38                        BorrowerState_Other  0.031363  0.752757\n",
       "39                           BorrowerState_TX  0.040339  0.800930\n",
       "40       ProsperPrincipalOutstanding_818|3049  0.034263  0.833364\n",
       "41     ProsperPrincipalOutstanding_3049|21524  0.196505  0.284974\n",
       "42                          TotalTrades_14|21 -0.047806  0.607649\n",
       "43                          TotalTrades_21|30 -0.077378  0.451698\n",
       "44                         TotalTrades_30|110 -0.070388  0.549634\n",
       "45                 IncomeRange_$25,000-49,999  0.212784  0.276293\n",
       "46                 IncomeRange_$50,000-74,999 -0.007154  0.969264\n",
       "47                 IncomeRange_$75,000-99,999 -0.038101  0.798819\n",
       "48                          IncomeRange_Other  0.181692  0.397380"
      ]
     },
     "execution_count": 46,
     "metadata": {},
     "output_type": "execute_result"
    }
   ],
   "source": [
    "# If there was any issue with the data (high correlations...)\n",
    "# This would be messy, with NAs, or maybe not even able to run\n",
    "p_values = get_p_vals(lr, df_tr_preproc[glm_cols])\n",
    "show_lr_summary(p_values, glm_cols, lr)"
   ]
  },
  {
   "cell_type": "markdown",
   "metadata": {},
   "source": [
    "#### P-value based feature selection"
   ]
  },
  {
   "cell_type": "code",
   "execution_count": 47,
   "metadata": {
    "ExecuteTime": {
     "end_time": "2019-05-15T21:32:20.370604Z",
     "start_time": "2019-05-15T21:31:43.047359Z"
    }
   },
   "outputs": [],
   "source": [
    "# remove each bucket with the highest p-value N times\n",
    "# assess how the AUC changes\n",
    "N_iterations = len(glm_cols) - 3\n",
    "glm_cols_pvals = [c for c in glm_cols]\n",
    "\n",
    "# keep the AUCs in each interation \n",
    "auc_train, auc_val, auc_oot = [], [], []\n",
    "# List of tuples where all selected features status will \n",
    "# be stored per iteration\n",
    "features_it_pval = []\n",
    "\n",
    "# for each iteration\n",
    "for it in range(N_iterations):\n",
    "    #capture the feature to be dropped\n",
    "    #in the first iteration we are using the p_values from the model trained 'outside'\n",
    "    feat_drop = [feat for feat, p in zip(glm_cols_pvals, p_values) if p == max(p_values)][0]\n",
    "    glm_cols_pvals.remove(feat_drop)\n",
    "    #re-train the model\n",
    "    lr_it = LogisticRegression(solver='lbfgs', C=0.01)\n",
    "    lr_it.fit(df_tr_preproc[glm_cols_pvals], y_tr)\n",
    "    # Predict for all subsets\n",
    "    pred_tr = lr_it.predict_proba(df_tr_preproc[glm_cols_pvals])[:, 1]\n",
    "    pred_val = lr_it.predict_proba(df_val_preproc[glm_cols_pvals])[:, 1]\n",
    "    pred_oot = lr_it.predict_proba(df_oot_preproc[glm_cols_pvals])[:, 1]\n",
    "    #get aucs\n",
    "    auc_train.append(get_auc(y_tr, pred_tr))\n",
    "    auc_val.append(get_auc(y_val, pred_val)) \n",
    "    auc_oot.append(get_auc(y_oot, pred_oot))\n",
    "    #get p-values\n",
    "    p_values = get_p_vals(lr_it, df_tr_preproc[glm_cols_pvals])\n",
    "    #keep features status at iteration\n",
    "    features_it_pval.append((it, [c for c in glm_cols_pvals]))"
   ]
  },
  {
   "cell_type": "code",
   "execution_count": 48,
   "metadata": {
    "ExecuteTime": {
     "end_time": "2019-05-15T21:32:20.907606Z",
     "start_time": "2019-05-15T21:32:20.380909Z"
    }
   },
   "outputs": [
    {
     "data": {
      "text/plain": [
       "<matplotlib.legend.Legend at 0x7fe4a8778790>"
      ]
     },
     "execution_count": 48,
     "metadata": {},
     "output_type": "execute_result"
    },
    {
     "data": {
      "image/png": "[encoded data removed]",
      "text/plain": [
       "<Figure size 640x480 with 1 Axes>"
      ]
     },
     "metadata": {},
     "output_type": "display_data"
    }
   ],
   "source": [
    "# Plot AUCs in each iteration\n",
    "iterations = [i for i in range(N_iterations)]\n",
    "plt.plot(iterations, auc_train, label='Train')\n",
    "plt.plot(iterations, auc_val, label='Val')\n",
    "plt.plot(iterations, auc_oot, label='OOT')\n",
    "plt.legend()"
   ]
  },
  {
   "cell_type": "code",
   "execution_count": 49,
   "metadata": {
    "ExecuteTime": {
     "end_time": "2019-05-15T21:32:21.413331Z",
     "start_time": "2019-05-15T21:32:20.915613Z"
    }
   },
   "outputs": [
    {
     "data": {
      "text/html": [
       "<style>#sk-container-id-2 {color: black;background-color: white;}#sk-container-id-2 pre{padding: 0;}#sk-container-id-2 div.sk-toggleable {background-color: white;}#sk-container-id-2 label.sk-toggleable__label {cursor: pointer;display: block;width: 100%;margin-bottom: 0;padding: 0.3em;box-sizing: border-box;text-align: center;}#sk-container-id-2 label.sk-toggleable__label-arrow:before {content: \"▸\";float: left;margin-right: 0.25em;color: #696969;}#sk-container-id-2 label.sk-toggleable__label-arrow:hover:before {color: black;}#sk-container-id-2 div.sk-estimator:hover label.sk-toggleable__label-arrow:before {color: black;}#sk-container-id-2 div.sk-toggleable__content {max-height: 0;max-width: 0;overflow: hidden;text-align: left;background-color: #f0f8ff;}#sk-container-id-2 div.sk-toggleable__content pre {margin: 0.2em;color: black;border-radius: 0.25em;background-color: #f0f8ff;}#sk-container-id-2 input.sk-toggleable__control:checked~div.sk-toggleable__content {max-height: 200px;max-width: 100%;overflow: auto;}#sk-container-id-2 input.sk-toggleable__control:checked~label.sk-toggleable__label-arrow:before {content: \"▾\";}#sk-container-id-2 div.sk-estimator input.sk-toggleable__control:checked~label.sk-toggleable__label {background-color: #d4ebff;}#sk-container-id-2 div.sk-label input.sk-toggleable__control:checked~label.sk-toggleable__label {background-color: #d4ebff;}#sk-container-id-2 input.sk-hidden--visually {border: 0;clip: rect(1px 1px 1px 1px);clip: rect(1px, 1px, 1px, 1px);height: 1px;margin: -1px;overflow: hidden;padding: 0;position: absolute;width: 1px;}#sk-container-id-2 div.sk-estimator {font-family: monospace;background-color: #f0f8ff;border: 1px dotted black;border-radius: 0.25em;box-sizing: border-box;margin-bottom: 0.5em;}#sk-container-id-2 div.sk-estimator:hover {background-color: #d4ebff;}#sk-container-id-2 div.sk-parallel-item::after {content: \"\";width: 100%;border-bottom: 1px solid gray;flex-grow: 1;}#sk-container-id-2 div.sk-label:hover label.sk-toggleable__label {background-color: #d4ebff;}#sk-container-id-2 div.sk-serial::before {content: \"\";position: absolute;border-left: 1px solid gray;box-sizing: border-box;top: 0;bottom: 0;left: 50%;z-index: 0;}#sk-container-id-2 div.sk-serial {display: flex;flex-direction: column;align-items: center;background-color: white;padding-right: 0.2em;padding-left: 0.2em;position: relative;}#sk-container-id-2 div.sk-item {position: relative;z-index: 1;}#sk-container-id-2 div.sk-parallel {display: flex;align-items: stretch;justify-content: center;background-color: white;position: relative;}#sk-container-id-2 div.sk-item::before, #sk-container-id-2 div.sk-parallel-item::before {content: \"\";position: absolute;border-left: 1px solid gray;box-sizing: border-box;top: 0;bottom: 0;left: 50%;z-index: -1;}#sk-container-id-2 div.sk-parallel-item {display: flex;flex-direction: column;z-index: 1;position: relative;background-color: white;}#sk-container-id-2 div.sk-parallel-item:first-child::after {align-self: flex-end;width: 50%;}#sk-container-id-2 div.sk-parallel-item:last-child::after {align-self: flex-start;width: 50%;}#sk-container-id-2 div.sk-parallel-item:only-child::after {width: 0;}#sk-container-id-2 div.sk-dashed-wrapped {border: 1px dashed gray;margin: 0 0.4em 0.5em 0.4em;box-sizing: border-box;padding-bottom: 0.4em;background-color: white;}#sk-container-id-2 div.sk-label label {font-family: monospace;font-weight: bold;display: inline-block;line-height: 1.2em;}#sk-container-id-2 div.sk-label-container {text-align: center;}#sk-container-id-2 div.sk-container {/* jupyter's `normalize.less` sets `[hidden] { display: none; }` but bootstrap.min.css set `[hidden] { display: none !important; }` so we also need the `!important` here to be able to override the default hidden behavior on the sphinx rendered scikit-learn.org. See: https://github.com/scikit-learn/scikit-learn/issues/21755 */display: inline-block !important;position: relative;}#sk-container-id-2 div.sk-text-repr-fallback {display: none;}</style><div id=\"sk-container-id-2\" class=\"sk-top-container\"><div class=\"sk-text-repr-fallback\"><pre>LogisticRegression(C=0.01)</pre><b>In a Jupyter environment, please rerun this cell to show the HTML representation or trust the notebook. <br />On GitHub, the HTML representation is unable to render, please try loading this page with nbviewer.org.</b></div><div class=\"sk-container\" hidden><div class=\"sk-item\"><div class=\"sk-estimator sk-toggleable\"><input class=\"sk-toggleable__control sk-hidden--visually\" id=\"sk-estimator-id-2\" type=\"checkbox\" checked><label for=\"sk-estimator-id-2\" class=\"sk-toggleable__label sk-toggleable__label-arrow\">LogisticRegression</label><div class=\"sk-toggleable__content\"><pre>LogisticRegression(C=0.01)</pre></div></div></div></div></div>"
      ],
      "text/plain": [
       "LogisticRegression(C=0.01)"
      ]
     },
     "execution_count": 49,
     "metadata": {},
     "output_type": "execute_result"
    }
   ],
   "source": [
    "# At iteration 40 more or less it stays stable\n",
    "final_features_bucketing = [feats for it, feats in features_it_pval if it==26][0]\n",
    "# Train the final model with the interesting buckets\n",
    "lr_final = LogisticRegression(solver='lbfgs', C=0.01)\n",
    "lr_final.fit(df_tr_preproc[final_features_bucketing], y_tr)"
   ]
  },
  {
   "cell_type": "code",
   "execution_count": 50,
   "metadata": {},
   "outputs": [
    {
     "data": {
      "text/html": [
       "<div>\n",
       "<style scoped>\n",
       "    .dataframe tbody tr th:only-of-type {\n",
       "        vertical-align: middle;\n",
       "    }\n",
       "\n",
       "    .dataframe tbody tr th {\n",
       "        vertical-align: top;\n",
       "    }\n",
       "\n",
       "    .dataframe thead th {\n",
       "        text-align: right;\n",
       "    }\n",
       "</style>\n",
       "<table border=\"1\" class=\"dataframe\">\n",
       "  <thead>\n",
       "    <tr style=\"text-align: right;\">\n",
       "      <th></th>\n",
       "      <th>IncomeVerifiable_True</th>\n",
       "      <th>CreditScoreRangeLower_700|740</th>\n",
       "      <th>CreditScoreRangeLower_740|880</th>\n",
       "      <th>TotalProsperLoans_NA</th>\n",
       "      <th>InquiriesLast6Months_1|2</th>\n",
       "      <th>InquiriesLast6Months_2|27</th>\n",
       "      <th>CurrentCreditLines_6|9</th>\n",
       "      <th>CurrentCreditLines_9|12</th>\n",
       "      <th>CurrentCreditLines_12|38</th>\n",
       "      <th>ScorexChangeAtTimeOfListing_-3|30</th>\n",
       "      <th>...</th>\n",
       "      <th>OnTimeProsperPayments_19|34</th>\n",
       "      <th>OnTimeProsperPayments_34|103</th>\n",
       "      <th>TradesOpenedLast6Months_1|20</th>\n",
       "      <th>StatedMonthlyIncome_6833|483333</th>\n",
       "      <th>DebtToIncomeRatio_0.1|0.2</th>\n",
       "      <th>DebtToIncomeRatio_0.3|10</th>\n",
       "      <th>Occupation_Other</th>\n",
       "      <th>ProsperPrincipalOutstanding_3049|21524</th>\n",
       "      <th>IncomeRange_$25,000-49,999</th>\n",
       "      <th>IncomeRange_Other</th>\n",
       "    </tr>\n",
       "  </thead>\n",
       "  <tbody>\n",
       "    <tr>\n",
       "      <th>0</th>\n",
       "      <td>1</td>\n",
       "      <td>0</td>\n",
       "      <td>0</td>\n",
       "      <td>1</td>\n",
       "      <td>1</td>\n",
       "      <td>0</td>\n",
       "      <td>1</td>\n",
       "      <td>0</td>\n",
       "      <td>0</td>\n",
       "      <td>0</td>\n",
       "      <td>...</td>\n",
       "      <td>0</td>\n",
       "      <td>0</td>\n",
       "      <td>0</td>\n",
       "      <td>0</td>\n",
       "      <td>1</td>\n",
       "      <td>0</td>\n",
       "      <td>1</td>\n",
       "      <td>0</td>\n",
       "      <td>1</td>\n",
       "      <td>0</td>\n",
       "    </tr>\n",
       "    <tr>\n",
       "      <th>2</th>\n",
       "      <td>1</td>\n",
       "      <td>0</td>\n",
       "      <td>0</td>\n",
       "      <td>0</td>\n",
       "      <td>0</td>\n",
       "      <td>0</td>\n",
       "      <td>0</td>\n",
       "      <td>0</td>\n",
       "      <td>0</td>\n",
       "      <td>1</td>\n",
       "      <td>...</td>\n",
       "      <td>0</td>\n",
       "      <td>0</td>\n",
       "      <td>0</td>\n",
       "      <td>0</td>\n",
       "      <td>0</td>\n",
       "      <td>0</td>\n",
       "      <td>1</td>\n",
       "      <td>0</td>\n",
       "      <td>1</td>\n",
       "      <td>0</td>\n",
       "    </tr>\n",
       "    <tr>\n",
       "      <th>3</th>\n",
       "      <td>0</td>\n",
       "      <td>0</td>\n",
       "      <td>0</td>\n",
       "      <td>1</td>\n",
       "      <td>0</td>\n",
       "      <td>0</td>\n",
       "      <td>0</td>\n",
       "      <td>0</td>\n",
       "      <td>0</td>\n",
       "      <td>0</td>\n",
       "      <td>...</td>\n",
       "      <td>0</td>\n",
       "      <td>0</td>\n",
       "      <td>1</td>\n",
       "      <td>0</td>\n",
       "      <td>0</td>\n",
       "      <td>0</td>\n",
       "      <td>1</td>\n",
       "      <td>0</td>\n",
       "      <td>0</td>\n",
       "      <td>0</td>\n",
       "    </tr>\n",
       "    <tr>\n",
       "      <th>4</th>\n",
       "      <td>1</td>\n",
       "      <td>0</td>\n",
       "      <td>0</td>\n",
       "      <td>1</td>\n",
       "      <td>0</td>\n",
       "      <td>0</td>\n",
       "      <td>1</td>\n",
       "      <td>0</td>\n",
       "      <td>0</td>\n",
       "      <td>0</td>\n",
       "      <td>...</td>\n",
       "      <td>0</td>\n",
       "      <td>0</td>\n",
       "      <td>0</td>\n",
       "      <td>0</td>\n",
       "      <td>0</td>\n",
       "      <td>0</td>\n",
       "      <td>1</td>\n",
       "      <td>0</td>\n",
       "      <td>1</td>\n",
       "      <td>0</td>\n",
       "    </tr>\n",
       "    <tr>\n",
       "      <th>5</th>\n",
       "      <td>1</td>\n",
       "      <td>0</td>\n",
       "      <td>1</td>\n",
       "      <td>1</td>\n",
       "      <td>0</td>\n",
       "      <td>0</td>\n",
       "      <td>0</td>\n",
       "      <td>0</td>\n",
       "      <td>0</td>\n",
       "      <td>0</td>\n",
       "      <td>...</td>\n",
       "      <td>0</td>\n",
       "      <td>0</td>\n",
       "      <td>0</td>\n",
       "      <td>0</td>\n",
       "      <td>0</td>\n",
       "      <td>0</td>\n",
       "      <td>0</td>\n",
       "      <td>0</td>\n",
       "      <td>0</td>\n",
       "      <td>0</td>\n",
       "    </tr>\n",
       "  </tbody>\n",
       "</table>\n",
       "<p>5 rows × 22 columns</p>\n",
       "</div>"
      ],
      "text/plain": [
       "   IncomeVerifiable_True  CreditScoreRangeLower_700|740  \\\n",
       "0                      1                              0   \n",
       "2                      1                              0   \n",
       "3                      0                              0   \n",
       "4                      1                              0   \n",
       "5                      1                              0   \n",
       "\n",
       "   CreditScoreRangeLower_740|880  TotalProsperLoans_NA  \\\n",
       "0                              0                     1   \n",
       "2                              0                     0   \n",
       "3                              0                     1   \n",
       "4                              0                     1   \n",
       "5                              1                     1   \n",
       "\n",
       "   InquiriesLast6Months_1|2  InquiriesLast6Months_2|27  \\\n",
       "0                         1                          0   \n",
       "2                         0                          0   \n",
       "3                         0                          0   \n",
       "4                         0                          0   \n",
       "5                         0                          0   \n",
       "\n",
       "   CurrentCreditLines_6|9  CurrentCreditLines_9|12  CurrentCreditLines_12|38  \\\n",
       "0                       1                        0                         0   \n",
       "2                       0                        0                         0   \n",
       "3                       0                        0                         0   \n",
       "4                       1                        0                         0   \n",
       "5                       0                        0                         0   \n",
       "\n",
       "   ScorexChangeAtTimeOfListing_-3|30  ...  OnTimeProsperPayments_19|34  \\\n",
       "0                                  0  ...                            0   \n",
       "2                                  1  ...                            0   \n",
       "3                                  0  ...                            0   \n",
       "4                                  0  ...                            0   \n",
       "5                                  0  ...                            0   \n",
       "\n",
       "   OnTimeProsperPayments_34|103  TradesOpenedLast6Months_1|20  \\\n",
       "0                             0                             0   \n",
       "2                             0                             0   \n",
       "3                             0                             1   \n",
       "4                             0                             0   \n",
       "5                             0                             0   \n",
       "\n",
       "   StatedMonthlyIncome_6833|483333  DebtToIncomeRatio_0.1|0.2  \\\n",
       "0                                0                          1   \n",
       "2                                0                          0   \n",
       "3                                0                          0   \n",
       "4                                0                          0   \n",
       "5                                0                          0   \n",
       "\n",
       "   DebtToIncomeRatio_0.3|10  Occupation_Other  \\\n",
       "0                         0                 1   \n",
       "2                         0                 1   \n",
       "3                         0                 1   \n",
       "4                         0                 1   \n",
       "5                         0                 0   \n",
       "\n",
       "   ProsperPrincipalOutstanding_3049|21524  IncomeRange_$25,000-49,999  \\\n",
       "0                                       0                           1   \n",
       "2                                       0                           1   \n",
       "3                                       0                           0   \n",
       "4                                       0                           1   \n",
       "5                                       0                           0   \n",
       "\n",
       "   IncomeRange_Other  \n",
       "0                  0  \n",
       "2                  0  \n",
       "3                  0  \n",
       "4                  0  \n",
       "5                  0  \n",
       "\n",
       "[5 rows x 22 columns]"
      ]
     },
     "execution_count": 50,
     "metadata": {},
     "output_type": "execute_result"
    }
   ],
   "source": [
    "df_tr_preproc[final_features_bucketing].head()"
   ]
  },
  {
   "cell_type": "code",
   "execution_count": 51,
   "metadata": {
    "ExecuteTime": {
     "end_time": "2019-05-15T21:32:21.502326Z",
     "start_time": "2019-05-15T21:32:21.421221Z"
    }
   },
   "outputs": [],
   "source": [
    "# Predict for all subsets\n",
    "pred_tr = lr_final.predict_proba(df_tr_preproc[final_features_bucketing])[:, 1]\n",
    "pred_val = lr_final.predict_proba(df_val_preproc[final_features_bucketing])[:, 1]\n",
    "pred_oot = lr_final.predict_proba(df_oot_preproc[final_features_bucketing])[:, 1]\n",
    "\n",
    "Log2_aucs = get_auc(y_tr, pred_tr), get_auc(y_val, pred_val), get_auc(y_oot, pred_oot)"
   ]
  },
  {
   "cell_type": "code",
   "execution_count": 52,
   "metadata": {
    "ExecuteTime": {
     "end_time": "2019-05-15T21:32:21.698146Z",
     "start_time": "2019-05-15T21:32:21.509227Z"
    }
   },
   "outputs": [
    {
     "data": {
      "text/html": [
       "<div>\n",
       "<style scoped>\n",
       "    .dataframe tbody tr th:only-of-type {\n",
       "        vertical-align: middle;\n",
       "    }\n",
       "\n",
       "    .dataframe tbody tr th {\n",
       "        vertical-align: top;\n",
       "    }\n",
       "\n",
       "    .dataframe thead th {\n",
       "        text-align: right;\n",
       "    }\n",
       "</style>\n",
       "<table border=\"1\" class=\"dataframe\">\n",
       "  <thead>\n",
       "    <tr style=\"text-align: right;\">\n",
       "      <th></th>\n",
       "      <th>feature</th>\n",
       "      <th>betas</th>\n",
       "      <th>p_val</th>\n",
       "    </tr>\n",
       "  </thead>\n",
       "  <tbody>\n",
       "    <tr>\n",
       "      <th>0</th>\n",
       "      <td>IncomeVerifiable_True</td>\n",
       "      <td>-0.349414</td>\n",
       "      <td>0.000112</td>\n",
       "    </tr>\n",
       "    <tr>\n",
       "      <th>1</th>\n",
       "      <td>CreditScoreRangeLower_700|740</td>\n",
       "      <td>-0.190340</td>\n",
       "      <td>0.020177</td>\n",
       "    </tr>\n",
       "    <tr>\n",
       "      <th>2</th>\n",
       "      <td>CreditScoreRangeLower_740|880</td>\n",
       "      <td>-0.381990</td>\n",
       "      <td>0.000060</td>\n",
       "    </tr>\n",
       "    <tr>\n",
       "      <th>3</th>\n",
       "      <td>TotalProsperLoans_NA</td>\n",
       "      <td>0.268849</td>\n",
       "      <td>0.009795</td>\n",
       "    </tr>\n",
       "    <tr>\n",
       "      <th>4</th>\n",
       "      <td>InquiriesLast6Months_1|2</td>\n",
       "      <td>0.209286</td>\n",
       "      <td>0.027200</td>\n",
       "    </tr>\n",
       "    <tr>\n",
       "      <th>5</th>\n",
       "      <td>InquiriesLast6Months_2|27</td>\n",
       "      <td>0.407605</td>\n",
       "      <td>0.000004</td>\n",
       "    </tr>\n",
       "    <tr>\n",
       "      <th>6</th>\n",
       "      <td>CurrentCreditLines_6|9</td>\n",
       "      <td>-0.134475</td>\n",
       "      <td>0.114097</td>\n",
       "    </tr>\n",
       "    <tr>\n",
       "      <th>7</th>\n",
       "      <td>CurrentCreditLines_9|12</td>\n",
       "      <td>-0.211106</td>\n",
       "      <td>0.033632</td>\n",
       "    </tr>\n",
       "    <tr>\n",
       "      <th>8</th>\n",
       "      <td>CurrentCreditLines_12|38</td>\n",
       "      <td>-0.127157</td>\n",
       "      <td>0.184432</td>\n",
       "    </tr>\n",
       "    <tr>\n",
       "      <th>9</th>\n",
       "      <td>ScorexChangeAtTimeOfListing_-3|30</td>\n",
       "      <td>-0.207342</td>\n",
       "      <td>0.192185</td>\n",
       "    </tr>\n",
       "    <tr>\n",
       "      <th>10</th>\n",
       "      <td>ScorexChangeAtTimeOfListing_30|257</td>\n",
       "      <td>-0.195558</td>\n",
       "      <td>0.251644</td>\n",
       "    </tr>\n",
       "    <tr>\n",
       "      <th>11</th>\n",
       "      <td>OnTimeProsperPayments_10|19</td>\n",
       "      <td>-0.217184</td>\n",
       "      <td>0.190479</td>\n",
       "    </tr>\n",
       "    <tr>\n",
       "      <th>12</th>\n",
       "      <td>OnTimeProsperPayments_19|34</td>\n",
       "      <td>-0.148382</td>\n",
       "      <td>0.370631</td>\n",
       "    </tr>\n",
       "    <tr>\n",
       "      <th>13</th>\n",
       "      <td>OnTimeProsperPayments_34|103</td>\n",
       "      <td>-0.208319</td>\n",
       "      <td>0.209454</td>\n",
       "    </tr>\n",
       "    <tr>\n",
       "      <th>14</th>\n",
       "      <td>TradesOpenedLast6Months_1|20</td>\n",
       "      <td>0.277597</td>\n",
       "      <td>0.000884</td>\n",
       "    </tr>\n",
       "    <tr>\n",
       "      <th>15</th>\n",
       "      <td>StatedMonthlyIncome_6833|483333</td>\n",
       "      <td>-0.341570</td>\n",
       "      <td>0.000551</td>\n",
       "    </tr>\n",
       "    <tr>\n",
       "      <th>16</th>\n",
       "      <td>DebtToIncomeRatio_0.1|0.2</td>\n",
       "      <td>-0.200312</td>\n",
       "      <td>0.033802</td>\n",
       "    </tr>\n",
       "    <tr>\n",
       "      <th>17</th>\n",
       "      <td>DebtToIncomeRatio_0.3|10</td>\n",
       "      <td>0.239052</td>\n",
       "      <td>0.007186</td>\n",
       "    </tr>\n",
       "    <tr>\n",
       "      <th>18</th>\n",
       "      <td>Occupation_Other</td>\n",
       "      <td>0.124132</td>\n",
       "      <td>0.137118</td>\n",
       "    </tr>\n",
       "    <tr>\n",
       "      <th>19</th>\n",
       "      <td>ProsperPrincipalOutstanding_3049|21524</td>\n",
       "      <td>0.176892</td>\n",
       "      <td>0.200695</td>\n",
       "    </tr>\n",
       "    <tr>\n",
       "      <th>20</th>\n",
       "      <td>IncomeRange_$25,000-49,999</td>\n",
       "      <td>0.252369</td>\n",
       "      <td>0.001003</td>\n",
       "    </tr>\n",
       "    <tr>\n",
       "      <th>21</th>\n",
       "      <td>IncomeRange_Other</td>\n",
       "      <td>0.234515</td>\n",
       "      <td>0.037113</td>\n",
       "    </tr>\n",
       "  </tbody>\n",
       "</table>\n",
       "</div>"
      ],
      "text/plain": [
       "                                   feature     betas     p_val\n",
       "0                    IncomeVerifiable_True -0.349414  0.000112\n",
       "1            CreditScoreRangeLower_700|740 -0.190340  0.020177\n",
       "2            CreditScoreRangeLower_740|880 -0.381990  0.000060\n",
       "3                     TotalProsperLoans_NA  0.268849  0.009795\n",
       "4                 InquiriesLast6Months_1|2  0.209286  0.027200\n",
       "5                InquiriesLast6Months_2|27  0.407605  0.000004\n",
       "6                   CurrentCreditLines_6|9 -0.134475  0.114097\n",
       "7                  CurrentCreditLines_9|12 -0.211106  0.033632\n",
       "8                 CurrentCreditLines_12|38 -0.127157  0.184432\n",
       "9        ScorexChangeAtTimeOfListing_-3|30 -0.207342  0.192185\n",
       "10      ScorexChangeAtTimeOfListing_30|257 -0.195558  0.251644\n",
       "11             OnTimeProsperPayments_10|19 -0.217184  0.190479\n",
       "12             OnTimeProsperPayments_19|34 -0.148382  0.370631\n",
       "13            OnTimeProsperPayments_34|103 -0.208319  0.209454\n",
       "14            TradesOpenedLast6Months_1|20  0.277597  0.000884\n",
       "15         StatedMonthlyIncome_6833|483333 -0.341570  0.000551\n",
       "16               DebtToIncomeRatio_0.1|0.2 -0.200312  0.033802\n",
       "17                DebtToIncomeRatio_0.3|10  0.239052  0.007186\n",
       "18                        Occupation_Other  0.124132  0.137118\n",
       "19  ProsperPrincipalOutstanding_3049|21524  0.176892  0.200695\n",
       "20              IncomeRange_$25,000-49,999  0.252369  0.001003\n",
       "21                       IncomeRange_Other  0.234515  0.037113"
      ]
     },
     "execution_count": 52,
     "metadata": {},
     "output_type": "execute_result"
    }
   ],
   "source": [
    "p_values = get_p_vals(lr_final, df_tr_preproc[final_features_bucketing])\n",
    "show_lr_summary(p_values, final_features_bucketing, lr_final)"
   ]
  },
  {
   "cell_type": "markdown",
   "metadata": {
    "ExecuteTime": {
     "end_time": "2019-05-15T10:56:52.402451Z",
     "start_time": "2019-05-15T10:56:52.390838Z"
    }
   },
   "source": [
    "#### AUC based feature selection"
   ]
  },
  {
   "cell_type": "code",
   "execution_count": 53,
   "metadata": {
    "ExecuteTime": {
     "end_time": "2019-05-15T21:46:45.039235Z",
     "start_time": "2019-05-15T21:32:21.711350Z"
    }
   },
   "outputs": [
    {
     "name": "stdout",
     "output_type": "stream",
     "text": [
      "Working for iteration: 0\n",
      "Working for iteration: 1\n",
      "Working for iteration: 2\n",
      "Working for iteration: 3\n",
      "Working for iteration: 4\n",
      "Working for iteration: 5\n",
      "Working for iteration: 6\n",
      "Working for iteration: 7\n",
      "Working for iteration: 8\n",
      "Working for iteration: 9\n",
      "Working for iteration: 10\n",
      "Working for iteration: 11\n",
      "Working for iteration: 12\n",
      "Working for iteration: 13\n",
      "Working for iteration: 14\n",
      "Working for iteration: 15\n",
      "Working for iteration: 16\n",
      "Working for iteration: 17\n",
      "Working for iteration: 18\n",
      "Working for iteration: 19\n",
      "Working for iteration: 20\n",
      "Working for iteration: 21\n",
      "Working for iteration: 22\n",
      "Working for iteration: 23\n",
      "Working for iteration: 24\n",
      "Working for iteration: 25\n",
      "Working for iteration: 26\n",
      "Working for iteration: 27\n",
      "Working for iteration: 28\n",
      "Working for iteration: 29\n",
      "Working for iteration: 30\n",
      "Working for iteration: 31\n",
      "Working for iteration: 32\n",
      "Working for iteration: 33\n",
      "Working for iteration: 34\n",
      "Working for iteration: 35\n",
      "Working for iteration: 36\n",
      "Working for iteration: 37\n",
      "Working for iteration: 38\n",
      "Working for iteration: 39\n",
      "Working for iteration: 40\n",
      "Working for iteration: 41\n",
      "Working for iteration: 42\n",
      "Working for iteration: 43\n",
      "Working for iteration: 44\n",
      "Working for iteration: 45\n"
     ]
    }
   ],
   "source": [
    "# Try to remove all available features.\n",
    "# Remove the feature that has the lowest impact in AUC\n",
    "N_iterations = len(glm_cols) - 3\n",
    "glm_cols_auc = [c for c in glm_cols]\n",
    "\n",
    "auc_train, auc_val, auc_oot = [], [], []\n",
    "features_it_auc = []\n",
    "for it in range(N_iterations):\n",
    "    print('Working for iteration: {}'.format(str(it)))\n",
    "    #re-train the model\n",
    "    lr_it = LogisticRegression(solver='lbfgs', C=0.01)\n",
    "    lr_it.fit(df_tr_preproc[glm_cols_auc], y_tr)\n",
    "    # Predict for all subsets\n",
    "    pred_tr = lr_it.predict_proba(df_tr_preproc[glm_cols_auc])[:, 1]\n",
    "    pred_val = lr_it.predict_proba(df_val_preproc[glm_cols_auc])[:, 1]\n",
    "    pred_oot = lr_it.predict_proba(df_oot_preproc[glm_cols_auc])[:, 1]\n",
    "    #get base aucs\n",
    "    auc_train_it, auc_val_it, auc_oot_it = get_auc(y_tr, pred_tr), get_auc(y_val, pred_val), get_auc(y_oot, pred_oot)\n",
    "    auc_train.append(auc_train_it)\n",
    "    auc_val.append(auc_val_it) \n",
    "    auc_oot.append(auc_oot_it)\n",
    "    #set up minimum gap\n",
    "    min_gap = 500\n",
    "    for feat_eval in glm_cols_auc:\n",
    "        #use validation AUC only as evaluation metric\n",
    "        #keep features in iteration it, but the feature under evaluation\n",
    "        glm_cols_auc_ev = [c for c in glm_cols_auc if c!=feat_eval]\n",
    "        lr_it_ev = LogisticRegression(solver='lbfgs', C=0.01)\n",
    "        lr_it_ev.fit(df_tr_preproc[glm_cols_auc_ev], y_tr)\n",
    "        #predit @ val data\n",
    "        pred_val = lr_it_ev.predict_proba(df_val_preproc[glm_cols_auc_ev])[:, 1]\n",
    "        #get auc @ val\n",
    "        auc_val_it_ev = get_auc(y_val, pred_val)\n",
    "        #check gap\n",
    "        gap_val_auc = auc_val_it - auc_val_it_ev\n",
    "        #capture the feature that has the lowest AUC impact\n",
    "        if gap_val_auc < min_gap:\n",
    "            candidate_drop = feat_eval\n",
    "            min_gap = gap_val_auc\n",
    "    #remove from the feature set the selected feature\n",
    "    glm_cols_auc.remove(candidate_drop)\n",
    "    #keep features status at iteration\n",
    "    features_it_auc.append((it, [c for c in glm_cols_auc]))"
   ]
  },
  {
   "cell_type": "code",
   "execution_count": 54,
   "metadata": {
    "ExecuteTime": {
     "end_time": "2019-05-15T21:46:45.585036Z",
     "start_time": "2019-05-15T21:46:45.049170Z"
    }
   },
   "outputs": [
    {
     "data": {
      "text/plain": [
       "<matplotlib.legend.Legend at 0x7fe4a8602f80>"
      ]
     },
     "execution_count": 54,
     "metadata": {},
     "output_type": "execute_result"
    },
    {
     "data": {
      "image/png": "[encoded data removed]",
      "text/plain": [
       "<Figure size 640x480 with 1 Axes>"
      ]
     },
     "metadata": {},
     "output_type": "display_data"
    }
   ],
   "source": [
    "# Plot AUCs in each iteration\n",
    "iterations = [i for i in range(N_iterations)]\n",
    "plt.plot(iterations, auc_train, label='Train')\n",
    "plt.plot(iterations, auc_val, label='Val')\n",
    "plt.plot(iterations, auc_oot, label='OOT')\n",
    "plt.legend()"
   ]
  },
  {
   "cell_type": "code",
   "execution_count": 55,
   "metadata": {
    "ExecuteTime": {
     "end_time": "2019-05-15T21:46:45.889637Z",
     "start_time": "2019-05-15T21:46:45.592698Z"
    }
   },
   "outputs": [
    {
     "data": {
      "text/html": [
       "<style>#sk-container-id-3 {color: black;background-color: white;}#sk-container-id-3 pre{padding: 0;}#sk-container-id-3 div.sk-toggleable {background-color: white;}#sk-container-id-3 label.sk-toggleable__label {cursor: pointer;display: block;width: 100%;margin-bottom: 0;padding: 0.3em;box-sizing: border-box;text-align: center;}#sk-container-id-3 label.sk-toggleable__label-arrow:before {content: \"▸\";float: left;margin-right: 0.25em;color: #696969;}#sk-container-id-3 label.sk-toggleable__label-arrow:hover:before {color: black;}#sk-container-id-3 div.sk-estimator:hover label.sk-toggleable__label-arrow:before {color: black;}#sk-container-id-3 div.sk-toggleable__content {max-height: 0;max-width: 0;overflow: hidden;text-align: left;background-color: #f0f8ff;}#sk-container-id-3 div.sk-toggleable__content pre {margin: 0.2em;color: black;border-radius: 0.25em;background-color: #f0f8ff;}#sk-container-id-3 input.sk-toggleable__control:checked~div.sk-toggleable__content {max-height: 200px;max-width: 100%;overflow: auto;}#sk-container-id-3 input.sk-toggleable__control:checked~label.sk-toggleable__label-arrow:before {content: \"▾\";}#sk-container-id-3 div.sk-estimator input.sk-toggleable__control:checked~label.sk-toggleable__label {background-color: #d4ebff;}#sk-container-id-3 div.sk-label input.sk-toggleable__control:checked~label.sk-toggleable__label {background-color: #d4ebff;}#sk-container-id-3 input.sk-hidden--visually {border: 0;clip: rect(1px 1px 1px 1px);clip: rect(1px, 1px, 1px, 1px);height: 1px;margin: -1px;overflow: hidden;padding: 0;position: absolute;width: 1px;}#sk-container-id-3 div.sk-estimator {font-family: monospace;background-color: #f0f8ff;border: 1px dotted black;border-radius: 0.25em;box-sizing: border-box;margin-bottom: 0.5em;}#sk-container-id-3 div.sk-estimator:hover {background-color: #d4ebff;}#sk-container-id-3 div.sk-parallel-item::after {content: \"\";width: 100%;border-bottom: 1px solid gray;flex-grow: 1;}#sk-container-id-3 div.sk-label:hover label.sk-toggleable__label {background-color: #d4ebff;}#sk-container-id-3 div.sk-serial::before {content: \"\";position: absolute;border-left: 1px solid gray;box-sizing: border-box;top: 0;bottom: 0;left: 50%;z-index: 0;}#sk-container-id-3 div.sk-serial {display: flex;flex-direction: column;align-items: center;background-color: white;padding-right: 0.2em;padding-left: 0.2em;position: relative;}#sk-container-id-3 div.sk-item {position: relative;z-index: 1;}#sk-container-id-3 div.sk-parallel {display: flex;align-items: stretch;justify-content: center;background-color: white;position: relative;}#sk-container-id-3 div.sk-item::before, #sk-container-id-3 div.sk-parallel-item::before {content: \"\";position: absolute;border-left: 1px solid gray;box-sizing: border-box;top: 0;bottom: 0;left: 50%;z-index: -1;}#sk-container-id-3 div.sk-parallel-item {display: flex;flex-direction: column;z-index: 1;position: relative;background-color: white;}#sk-container-id-3 div.sk-parallel-item:first-child::after {align-self: flex-end;width: 50%;}#sk-container-id-3 div.sk-parallel-item:last-child::after {align-self: flex-start;width: 50%;}#sk-container-id-3 div.sk-parallel-item:only-child::after {width: 0;}#sk-container-id-3 div.sk-dashed-wrapped {border: 1px dashed gray;margin: 0 0.4em 0.5em 0.4em;box-sizing: border-box;padding-bottom: 0.4em;background-color: white;}#sk-container-id-3 div.sk-label label {font-family: monospace;font-weight: bold;display: inline-block;line-height: 1.2em;}#sk-container-id-3 div.sk-label-container {text-align: center;}#sk-container-id-3 div.sk-container {/* jupyter's `normalize.less` sets `[hidden] { display: none; }` but bootstrap.min.css set `[hidden] { display: none !important; }` so we also need the `!important` here to be able to override the default hidden behavior on the sphinx rendered scikit-learn.org. See: https://github.com/scikit-learn/scikit-learn/issues/21755 */display: inline-block !important;position: relative;}#sk-container-id-3 div.sk-text-repr-fallback {display: none;}</style><div id=\"sk-container-id-3\" class=\"sk-top-container\"><div class=\"sk-text-repr-fallback\"><pre>LogisticRegression(C=0.01)</pre><b>In a Jupyter environment, please rerun this cell to show the HTML representation or trust the notebook. <br />On GitHub, the HTML representation is unable to render, please try loading this page with nbviewer.org.</b></div><div class=\"sk-container\" hidden><div class=\"sk-item\"><div class=\"sk-estimator sk-toggleable\"><input class=\"sk-toggleable__control sk-hidden--visually\" id=\"sk-estimator-id-3\" type=\"checkbox\" checked><label for=\"sk-estimator-id-3\" class=\"sk-toggleable__label sk-toggleable__label-arrow\">LogisticRegression</label><div class=\"sk-toggleable__content\"><pre>LogisticRegression(C=0.01)</pre></div></div></div></div></div>"
      ],
      "text/plain": [
       "LogisticRegression(C=0.01)"
      ]
     },
     "execution_count": 55,
     "metadata": {},
     "output_type": "execute_result"
    }
   ],
   "source": [
    "# get the iteration where it stays stable\n",
    "final_features_bucketing_auc = [feats for it, feats in features_it_auc if it==26][0]\n",
    "# Train the final model with the interesting buckets\n",
    "lr_final_auc = LogisticRegression(solver='lbfgs', C=0.01)\n",
    "lr_final_auc.fit(df_tr_preproc[final_features_bucketing_auc], y_tr)"
   ]
  },
  {
   "cell_type": "code",
   "execution_count": 56,
   "metadata": {
    "ExecuteTime": {
     "end_time": "2019-05-15T21:46:45.967011Z",
     "start_time": "2019-05-15T21:46:45.897129Z"
    }
   },
   "outputs": [],
   "source": [
    "# Predict for all subsets\n",
    "pred_tr = lr_final_auc.predict_proba(df_tr_preproc[final_features_bucketing_auc])[:, 1]\n",
    "pred_val = lr_final_auc.predict_proba(df_val_preproc[final_features_bucketing_auc])[:, 1]\n",
    "pred_oot = lr_final_auc.predict_proba(df_oot_preproc[final_features_bucketing_auc])[:, 1]\n",
    "\n",
    "Log3_aucs = get_auc(y_tr, pred_tr), get_auc(y_val, pred_val), get_auc(y_oot, pred_oot)"
   ]
  },
  {
   "cell_type": "markdown",
   "metadata": {},
   "source": [
    "#### Gain Table"
   ]
  },
  {
   "cell_type": "markdown",
   "metadata": {},
   "source": [
    "**TODO3** Implementa una función que te calcule una gain table, con una fila for bucket de scores, y con las siguientes columnas:\n",
    " - avg_pred: El score medio en ese bucket\n",
    " - BR: La tasa de malos en ese bucket\n",
    " - N_bads: El número de malos en ese bucket\n",
    " - N: El número de muestras en ese bucket\n",
    " - N_goods: El número de buenos en ese bucket\n",
    " - pct_bad_acum: El porcentaje de malos acumulados en ese bucket\n",
    " - pct_approv_acum: El porcentaje de aprobación hasta ese bucket\n",
    " \n",
    "La tabla estará ordenada de scores más bajos (mejor perfil), a scores más altos (peor perfil)"
   ]
  },
  {
   "cell_type": "code",
   "execution_count": 57,
   "metadata": {},
   "outputs": [],
   "source": [
    "n_buckets=10\n",
    "df = df_oot\n",
    "pred = pred_oot\n",
    "\n",
    "df['pred'] = pred\n",
    "pred_cuts = df['pred'].quantile(np.linspace(0, 1, num = n_buckets + 1))\n",
    "df['pred_cut'] = pd.cut(df['pred'], pred_cuts, include_lowest=True, duplicates='drop')"
   ]
  },
  {
   "cell_type": "code",
   "execution_count": 58,
   "metadata": {},
   "outputs": [
    {
     "data": {
      "text/html": [
       "<div>\n",
       "<style scoped>\n",
       "    .dataframe tbody tr th:only-of-type {\n",
       "        vertical-align: middle;\n",
       "    }\n",
       "\n",
       "    .dataframe tbody tr th {\n",
       "        vertical-align: top;\n",
       "    }\n",
       "\n",
       "    .dataframe thead th {\n",
       "        text-align: right;\n",
       "    }\n",
       "</style>\n",
       "<table border=\"1\" class=\"dataframe\">\n",
       "  <thead>\n",
       "    <tr style=\"text-align: right;\">\n",
       "      <th></th>\n",
       "      <th>avg_pred</th>\n",
       "      <th>N_bad</th>\n",
       "      <th>BR</th>\n",
       "      <th>N</th>\n",
       "      <th>N_good</th>\n",
       "      <th>N_bad_acum</th>\n",
       "      <th>pct_bad_acum</th>\n",
       "      <th>pct_approv_acum</th>\n",
       "    </tr>\n",
       "    <tr>\n",
       "      <th>pred_cut</th>\n",
       "      <th></th>\n",
       "      <th></th>\n",
       "      <th></th>\n",
       "      <th></th>\n",
       "      <th></th>\n",
       "      <th></th>\n",
       "      <th></th>\n",
       "      <th></th>\n",
       "    </tr>\n",
       "  </thead>\n",
       "  <tbody>\n",
       "    <tr>\n",
       "      <th>(0.0138, 0.0395]</th>\n",
       "      <td>0.033270</td>\n",
       "      <td>17</td>\n",
       "      <td>0.012840</td>\n",
       "      <td>1324</td>\n",
       "      <td>1307</td>\n",
       "      <td>17</td>\n",
       "      <td>0.021628</td>\n",
       "      <td>0.100151</td>\n",
       "    </tr>\n",
       "    <tr>\n",
       "      <th>(0.0395, 0.0475]</th>\n",
       "      <td>0.043707</td>\n",
       "      <td>32</td>\n",
       "      <td>0.023863</td>\n",
       "      <td>1341</td>\n",
       "      <td>1309</td>\n",
       "      <td>49</td>\n",
       "      <td>0.062341</td>\n",
       "      <td>0.201589</td>\n",
       "    </tr>\n",
       "    <tr>\n",
       "      <th>(0.0475, 0.0535]</th>\n",
       "      <td>0.050758</td>\n",
       "      <td>45</td>\n",
       "      <td>0.034377</td>\n",
       "      <td>1309</td>\n",
       "      <td>1264</td>\n",
       "      <td>94</td>\n",
       "      <td>0.119593</td>\n",
       "      <td>0.300605</td>\n",
       "    </tr>\n",
       "    <tr>\n",
       "      <th>(0.0535, 0.0609]</th>\n",
       "      <td>0.057182</td>\n",
       "      <td>48</td>\n",
       "      <td>0.035982</td>\n",
       "      <td>1334</td>\n",
       "      <td>1286</td>\n",
       "      <td>142</td>\n",
       "      <td>0.180662</td>\n",
       "      <td>0.401513</td>\n",
       "    </tr>\n",
       "    <tr>\n",
       "      <th>(0.0609, 0.0668]</th>\n",
       "      <td>0.063540</td>\n",
       "      <td>59</td>\n",
       "      <td>0.044833</td>\n",
       "      <td>1316</td>\n",
       "      <td>1257</td>\n",
       "      <td>201</td>\n",
       "      <td>0.255725</td>\n",
       "      <td>0.501059</td>\n",
       "    </tr>\n",
       "    <tr>\n",
       "      <th>(0.0668, 0.0739]</th>\n",
       "      <td>0.070142</td>\n",
       "      <td>70</td>\n",
       "      <td>0.053476</td>\n",
       "      <td>1309</td>\n",
       "      <td>1239</td>\n",
       "      <td>271</td>\n",
       "      <td>0.344784</td>\n",
       "      <td>0.600076</td>\n",
       "    </tr>\n",
       "    <tr>\n",
       "      <th>(0.0739, 0.0815]</th>\n",
       "      <td>0.077341</td>\n",
       "      <td>78</td>\n",
       "      <td>0.058166</td>\n",
       "      <td>1341</td>\n",
       "      <td>1263</td>\n",
       "      <td>349</td>\n",
       "      <td>0.444020</td>\n",
       "      <td>0.701513</td>\n",
       "    </tr>\n",
       "    <tr>\n",
       "      <th>(0.0815, 0.0898]</th>\n",
       "      <td>0.085125</td>\n",
       "      <td>118</td>\n",
       "      <td>0.089802</td>\n",
       "      <td>1314</td>\n",
       "      <td>1196</td>\n",
       "      <td>467</td>\n",
       "      <td>0.594148</td>\n",
       "      <td>0.800908</td>\n",
       "    </tr>\n",
       "    <tr>\n",
       "      <th>(0.0898, 0.104]</th>\n",
       "      <td>0.096075</td>\n",
       "      <td>126</td>\n",
       "      <td>0.094808</td>\n",
       "      <td>1329</td>\n",
       "      <td>1203</td>\n",
       "      <td>593</td>\n",
       "      <td>0.754453</td>\n",
       "      <td>0.901437</td>\n",
       "    </tr>\n",
       "    <tr>\n",
       "      <th>(0.104, 0.223]</th>\n",
       "      <td>0.120962</td>\n",
       "      <td>193</td>\n",
       "      <td>0.148120</td>\n",
       "      <td>1303</td>\n",
       "      <td>1110</td>\n",
       "      <td>786</td>\n",
       "      <td>1.000000</td>\n",
       "      <td>1.000000</td>\n",
       "    </tr>\n",
       "  </tbody>\n",
       "</table>\n",
       "</div>"
      ],
      "text/plain": [
       "                  avg_pred  N_bad        BR     N  N_good  N_bad_acum  \\\n",
       "pred_cut                                                                \n",
       "(0.0138, 0.0395]  0.033270     17  0.012840  1324    1307          17   \n",
       "(0.0395, 0.0475]  0.043707     32  0.023863  1341    1309          49   \n",
       "(0.0475, 0.0535]  0.050758     45  0.034377  1309    1264          94   \n",
       "(0.0535, 0.0609]  0.057182     48  0.035982  1334    1286         142   \n",
       "(0.0609, 0.0668]  0.063540     59  0.044833  1316    1257         201   \n",
       "(0.0668, 0.0739]  0.070142     70  0.053476  1309    1239         271   \n",
       "(0.0739, 0.0815]  0.077341     78  0.058166  1341    1263         349   \n",
       "(0.0815, 0.0898]  0.085125    118  0.089802  1314    1196         467   \n",
       "(0.0898, 0.104]   0.096075    126  0.094808  1329    1203         593   \n",
       "(0.104, 0.223]    0.120962    193  0.148120  1303    1110         786   \n",
       "\n",
       "                  pct_bad_acum  pct_approv_acum  \n",
       "pred_cut                                         \n",
       "(0.0138, 0.0395]      0.021628         0.100151  \n",
       "(0.0395, 0.0475]      0.062341         0.201589  \n",
       "(0.0475, 0.0535]      0.119593         0.300605  \n",
       "(0.0535, 0.0609]      0.180662         0.401513  \n",
       "(0.0609, 0.0668]      0.255725         0.501059  \n",
       "(0.0668, 0.0739]      0.344784         0.600076  \n",
       "(0.0739, 0.0815]      0.444020         0.701513  \n",
       "(0.0815, 0.0898]      0.594148         0.800908  \n",
       "(0.0898, 0.104]       0.754453         0.901437  \n",
       "(0.104, 0.223]        1.000000         1.000000  "
      ]
     },
     "execution_count": 58,
     "metadata": {},
     "output_type": "execute_result"
    }
   ],
   "source": [
    "df_agg = df.groupby('pred_cut').agg({'pred': 'mean',\n",
    "                            'bad': ['sum', 'mean'],\n",
    "                            'pred_cut': 'count'})\n",
    "\n",
    "df_agg.columns = [\"avg_pred\", \"N_bad\", \"BR\", \"N\"]\n",
    "df_agg[\"N_good\"] = df_agg[\"N\"] - df_agg[\"N_bad\"]\n",
    "df_agg[\"N_bad_acum\"] = df_agg[\"N_bad\"].cumsum()\n",
    "df_agg[\"pct_bad_acum\"] = df_agg[\"N_bad_acum\"] / df_agg[\"N_bad\"].sum()\n",
    "df_agg[\"pct_approv_acum\"] = df_agg[\"N\"].cumsum() / df_agg[\"N\"].sum()\n",
    "df_agg"
   ]
  },
  {
   "cell_type": "code",
   "execution_count": 59,
   "metadata": {},
   "outputs": [
    {
     "data": {
      "text/html": [
       "<div>\n",
       "<style scoped>\n",
       "    .dataframe tbody tr th:only-of-type {\n",
       "        vertical-align: middle;\n",
       "    }\n",
       "\n",
       "    .dataframe tbody tr th {\n",
       "        vertical-align: top;\n",
       "    }\n",
       "\n",
       "    .dataframe thead th {\n",
       "        text-align: right;\n",
       "    }\n",
       "</style>\n",
       "<table border=\"1\" class=\"dataframe\">\n",
       "  <thead>\n",
       "    <tr style=\"text-align: right;\">\n",
       "      <th></th>\n",
       "      <th>avg_pred</th>\n",
       "      <th>BR</th>\n",
       "      <th>N_bads</th>\n",
       "      <th>N</th>\n",
       "      <th>N_goods</th>\n",
       "      <th>pct_bad_acum</th>\n",
       "      <th>pct_approv_acum</th>\n",
       "    </tr>\n",
       "    <tr>\n",
       "      <th>pred_cut</th>\n",
       "      <th></th>\n",
       "      <th></th>\n",
       "      <th></th>\n",
       "      <th></th>\n",
       "      <th></th>\n",
       "      <th></th>\n",
       "      <th></th>\n",
       "    </tr>\n",
       "  </thead>\n",
       "  <tbody>\n",
       "    <tr>\n",
       "      <th>(0.0138, 0.0395]</th>\n",
       "      <td>0.033270</td>\n",
       "      <td>0.012840</td>\n",
       "      <td>17</td>\n",
       "      <td>1324</td>\n",
       "      <td>1307</td>\n",
       "      <td>2.162850</td>\n",
       "      <td>10.015129</td>\n",
       "    </tr>\n",
       "    <tr>\n",
       "      <th>(0.0395, 0.0475]</th>\n",
       "      <td>0.043707</td>\n",
       "      <td>0.023863</td>\n",
       "      <td>32</td>\n",
       "      <td>1341</td>\n",
       "      <td>1309</td>\n",
       "      <td>6.234097</td>\n",
       "      <td>20.158850</td>\n",
       "    </tr>\n",
       "    <tr>\n",
       "      <th>(0.0475, 0.0535]</th>\n",
       "      <td>0.050758</td>\n",
       "      <td>0.034377</td>\n",
       "      <td>45</td>\n",
       "      <td>1309</td>\n",
       "      <td>1264</td>\n",
       "      <td>11.959288</td>\n",
       "      <td>30.060514</td>\n",
       "    </tr>\n",
       "    <tr>\n",
       "      <th>(0.0535, 0.0609]</th>\n",
       "      <td>0.057182</td>\n",
       "      <td>0.035982</td>\n",
       "      <td>48</td>\n",
       "      <td>1334</td>\n",
       "      <td>1286</td>\n",
       "      <td>18.066158</td>\n",
       "      <td>40.151286</td>\n",
       "    </tr>\n",
       "    <tr>\n",
       "      <th>(0.0609, 0.0668]</th>\n",
       "      <td>0.063540</td>\n",
       "      <td>0.044833</td>\n",
       "      <td>59</td>\n",
       "      <td>1316</td>\n",
       "      <td>1257</td>\n",
       "      <td>25.572519</td>\n",
       "      <td>50.105900</td>\n",
       "    </tr>\n",
       "    <tr>\n",
       "      <th>(0.0668, 0.0739]</th>\n",
       "      <td>0.070142</td>\n",
       "      <td>0.053476</td>\n",
       "      <td>70</td>\n",
       "      <td>1309</td>\n",
       "      <td>1239</td>\n",
       "      <td>34.478372</td>\n",
       "      <td>60.007564</td>\n",
       "    </tr>\n",
       "    <tr>\n",
       "      <th>(0.0739, 0.0815]</th>\n",
       "      <td>0.077341</td>\n",
       "      <td>0.058166</td>\n",
       "      <td>78</td>\n",
       "      <td>1341</td>\n",
       "      <td>1263</td>\n",
       "      <td>44.402036</td>\n",
       "      <td>70.151286</td>\n",
       "    </tr>\n",
       "    <tr>\n",
       "      <th>(0.0815, 0.0898]</th>\n",
       "      <td>0.085125</td>\n",
       "      <td>0.089802</td>\n",
       "      <td>118</td>\n",
       "      <td>1314</td>\n",
       "      <td>1196</td>\n",
       "      <td>59.414758</td>\n",
       "      <td>80.090772</td>\n",
       "    </tr>\n",
       "    <tr>\n",
       "      <th>(0.0898, 0.104]</th>\n",
       "      <td>0.096075</td>\n",
       "      <td>0.094808</td>\n",
       "      <td>126</td>\n",
       "      <td>1329</td>\n",
       "      <td>1203</td>\n",
       "      <td>75.445293</td>\n",
       "      <td>90.143722</td>\n",
       "    </tr>\n",
       "    <tr>\n",
       "      <th>(0.104, 0.223]</th>\n",
       "      <td>0.120962</td>\n",
       "      <td>0.148120</td>\n",
       "      <td>193</td>\n",
       "      <td>1303</td>\n",
       "      <td>1110</td>\n",
       "      <td>100.000000</td>\n",
       "      <td>100.000000</td>\n",
       "    </tr>\n",
       "  </tbody>\n",
       "</table>\n",
       "</div>"
      ],
      "text/plain": [
       "                  avg_pred        BR  N_bads     N  N_goods  pct_bad_acum  \\\n",
       "pred_cut                                                                    \n",
       "(0.0138, 0.0395]  0.033270  0.012840      17  1324     1307      2.162850   \n",
       "(0.0395, 0.0475]  0.043707  0.023863      32  1341     1309      6.234097   \n",
       "(0.0475, 0.0535]  0.050758  0.034377      45  1309     1264     11.959288   \n",
       "(0.0535, 0.0609]  0.057182  0.035982      48  1334     1286     18.066158   \n",
       "(0.0609, 0.0668]  0.063540  0.044833      59  1316     1257     25.572519   \n",
       "(0.0668, 0.0739]  0.070142  0.053476      70  1309     1239     34.478372   \n",
       "(0.0739, 0.0815]  0.077341  0.058166      78  1341     1263     44.402036   \n",
       "(0.0815, 0.0898]  0.085125  0.089802     118  1314     1196     59.414758   \n",
       "(0.0898, 0.104]   0.096075  0.094808     126  1329     1203     75.445293   \n",
       "(0.104, 0.223]    0.120962  0.148120     193  1303     1110    100.000000   \n",
       "\n",
       "                  pct_approv_acum  \n",
       "pred_cut                           \n",
       "(0.0138, 0.0395]        10.015129  \n",
       "(0.0395, 0.0475]        20.158850  \n",
       "(0.0475, 0.0535]        30.060514  \n",
       "(0.0535, 0.0609]        40.151286  \n",
       "(0.0609, 0.0668]        50.105900  \n",
       "(0.0668, 0.0739]        60.007564  \n",
       "(0.0739, 0.0815]        70.151286  \n",
       "(0.0815, 0.0898]        80.090772  \n",
       "(0.0898, 0.104]         90.143722  \n",
       "(0.104, 0.223]         100.000000  "
      ]
     },
     "execution_count": 59,
     "metadata": {},
     "output_type": "execute_result"
    }
   ],
   "source": [
    "# Tabla de eficiencia / Gain table\n",
    "def get_gain_table(pred, df, col_target='bad', n_buckets=10):\n",
    "    \"\"\"Generate the gain table given a population, and its predictions\n",
    "    \n",
    "    Args:\n",
    "        pred: np.array / pd.Series containing predictions\n",
    "        df: Pandas DataFrame containing the population to be assesed\n",
    "        col_target: Name of the target column\n",
    "        n_buckets: Number of buckets for the gain table\n",
    "        \n",
    "    Returns:\n",
    "        Pandas DataFrame representing the gain table\n",
    "    \"\"\"\n",
    "    df['pred'] = pred\n",
    "    pred_cuts = df['pred'].quantile(np.linspace(0, 1, num = n_buckets + 1))\n",
    "    df['pred_cut'] = pd.cut(df['pred'], pred_cuts, include_lowest=True, duplicates='drop')\n",
    "    \n",
    "    #df['pred_cut'] = pd.qcut(df['pred'], n_buckets + 1)\n",
    "\n",
    "    gain_table = df.groupby('pred_cut').agg({'pred': 'mean',\n",
    "                                              col_target: ['mean', 'sum'],\n",
    "                                             'pred_cut': 'size'})\n",
    "\n",
    "    gain_table.columns = ['avg_pred', 'BR', 'N_bads', 'N']\n",
    "    gain_table['N_goods'] = gain_table['N'] - gain_table['N_bads']\n",
    "    gain_table['pct_bad_acum'] = 100. * gain_table['N_bads'].cumsum() / gain_table['N_bads'].sum()\n",
    "    gain_table['pct_approv_acum'] = 100. * gain_table['N'].cumsum() / gain_table['N'].sum()\n",
    "    gain_table\n",
    "    \n",
    "    return gain_table\n",
    "# gain table for OOT sample\n",
    "get_gain_table(pred_oot, df_oot)"
   ]
  },
  {
   "cell_type": "markdown",
   "metadata": {},
   "source": [
    "**TODO 4** Comenta la gain table anterior (sobre el conjunto OOT). ¿Qué conclusiones podemos sacar con respecto al funcionamiento del modelo? "
   ]
  },
  {
   "cell_type": "markdown",
   "metadata": {},
   "source": [
    "Introduce tu comentario aquí."
   ]
  },
  {
   "cell_type": "code",
   "execution_count": 60,
   "metadata": {},
   "outputs": [
    {
     "data": {
      "text/html": [
       "<div>\n",
       "<style scoped>\n",
       "    .dataframe tbody tr th:only-of-type {\n",
       "        vertical-align: middle;\n",
       "    }\n",
       "\n",
       "    .dataframe tbody tr th {\n",
       "        vertical-align: top;\n",
       "    }\n",
       "\n",
       "    .dataframe thead th {\n",
       "        text-align: right;\n",
       "    }\n",
       "</style>\n",
       "<table border=\"1\" class=\"dataframe\">\n",
       "  <thead>\n",
       "    <tr style=\"text-align: right;\">\n",
       "      <th></th>\n",
       "      <th>avg_pred</th>\n",
       "      <th>BR</th>\n",
       "      <th>N_bads</th>\n",
       "      <th>N</th>\n",
       "      <th>N_goods</th>\n",
       "      <th>pct_bad_acum</th>\n",
       "      <th>pct_approv_acum</th>\n",
       "    </tr>\n",
       "    <tr>\n",
       "      <th>pred_cut</th>\n",
       "      <th></th>\n",
       "      <th></th>\n",
       "      <th></th>\n",
       "      <th></th>\n",
       "      <th></th>\n",
       "      <th></th>\n",
       "      <th></th>\n",
       "    </tr>\n",
       "  </thead>\n",
       "  <tbody>\n",
       "    <tr>\n",
       "      <th>(0.013500000000000002, 0.0377]</th>\n",
       "      <td>0.031250</td>\n",
       "      <td>0.005898</td>\n",
       "      <td>9</td>\n",
       "      <td>1526</td>\n",
       "      <td>1517</td>\n",
       "      <td>0.849057</td>\n",
       "      <td>10.000655</td>\n",
       "    </tr>\n",
       "    <tr>\n",
       "      <th>(0.0377, 0.0453]</th>\n",
       "      <td>0.041846</td>\n",
       "      <td>0.019595</td>\n",
       "      <td>30</td>\n",
       "      <td>1531</td>\n",
       "      <td>1501</td>\n",
       "      <td>3.679245</td>\n",
       "      <td>20.034078</td>\n",
       "    </tr>\n",
       "    <tr>\n",
       "      <th>(0.0453, 0.0522]</th>\n",
       "      <td>0.049176</td>\n",
       "      <td>0.030901</td>\n",
       "      <td>47</td>\n",
       "      <td>1521</td>\n",
       "      <td>1474</td>\n",
       "      <td>8.113208</td>\n",
       "      <td>30.001966</td>\n",
       "    </tr>\n",
       "    <tr>\n",
       "      <th>(0.0522, 0.0591]</th>\n",
       "      <td>0.055713</td>\n",
       "      <td>0.030124</td>\n",
       "      <td>46</td>\n",
       "      <td>1527</td>\n",
       "      <td>1481</td>\n",
       "      <td>12.452830</td>\n",
       "      <td>40.009175</td>\n",
       "    </tr>\n",
       "    <tr>\n",
       "      <th>(0.0591, 0.0659]</th>\n",
       "      <td>0.062404</td>\n",
       "      <td>0.058708</td>\n",
       "      <td>90</td>\n",
       "      <td>1533</td>\n",
       "      <td>1443</td>\n",
       "      <td>20.943396</td>\n",
       "      <td>50.055705</td>\n",
       "    </tr>\n",
       "    <tr>\n",
       "      <th>(0.0659, 0.0736]</th>\n",
       "      <td>0.069513</td>\n",
       "      <td>0.069737</td>\n",
       "      <td>106</td>\n",
       "      <td>1520</td>\n",
       "      <td>1414</td>\n",
       "      <td>30.943396</td>\n",
       "      <td>60.017039</td>\n",
       "    </tr>\n",
       "    <tr>\n",
       "      <th>(0.0736, 0.0816]</th>\n",
       "      <td>0.077061</td>\n",
       "      <td>0.080105</td>\n",
       "      <td>122</td>\n",
       "      <td>1523</td>\n",
       "      <td>1401</td>\n",
       "      <td>42.452830</td>\n",
       "      <td>69.998034</td>\n",
       "    </tr>\n",
       "    <tr>\n",
       "      <th>(0.0816, 0.0901]</th>\n",
       "      <td>0.084983</td>\n",
       "      <td>0.104194</td>\n",
       "      <td>159</td>\n",
       "      <td>1526</td>\n",
       "      <td>1367</td>\n",
       "      <td>57.452830</td>\n",
       "      <td>79.998689</td>\n",
       "    </tr>\n",
       "    <tr>\n",
       "      <th>(0.0901, 0.106]</th>\n",
       "      <td>0.098081</td>\n",
       "      <td>0.125320</td>\n",
       "      <td>196</td>\n",
       "      <td>1564</td>\n",
       "      <td>1368</td>\n",
       "      <td>75.943396</td>\n",
       "      <td>90.248378</td>\n",
       "    </tr>\n",
       "    <tr>\n",
       "      <th>(0.106, 0.223]</th>\n",
       "      <td>0.125377</td>\n",
       "      <td>0.171371</td>\n",
       "      <td>255</td>\n",
       "      <td>1488</td>\n",
       "      <td>1233</td>\n",
       "      <td>100.000000</td>\n",
       "      <td>100.000000</td>\n",
       "    </tr>\n",
       "  </tbody>\n",
       "</table>\n",
       "</div>"
      ],
      "text/plain": [
       "                                avg_pred        BR  N_bads     N  N_goods  \\\n",
       "pred_cut                                                                    \n",
       "(0.013500000000000002, 0.0377]  0.031250  0.005898       9  1526     1517   \n",
       "(0.0377, 0.0453]                0.041846  0.019595      30  1531     1501   \n",
       "(0.0453, 0.0522]                0.049176  0.030901      47  1521     1474   \n",
       "(0.0522, 0.0591]                0.055713  0.030124      46  1527     1481   \n",
       "(0.0591, 0.0659]                0.062404  0.058708      90  1533     1443   \n",
       "(0.0659, 0.0736]                0.069513  0.069737     106  1520     1414   \n",
       "(0.0736, 0.0816]                0.077061  0.080105     122  1523     1401   \n",
       "(0.0816, 0.0901]                0.084983  0.104194     159  1526     1367   \n",
       "(0.0901, 0.106]                 0.098081  0.125320     196  1564     1368   \n",
       "(0.106, 0.223]                  0.125377  0.171371     255  1488     1233   \n",
       "\n",
       "                                pct_bad_acum  pct_approv_acum  \n",
       "pred_cut                                                       \n",
       "(0.013500000000000002, 0.0377]      0.849057        10.000655  \n",
       "(0.0377, 0.0453]                    3.679245        20.034078  \n",
       "(0.0453, 0.0522]                    8.113208        30.001966  \n",
       "(0.0522, 0.0591]                   12.452830        40.009175  \n",
       "(0.0591, 0.0659]                   20.943396        50.055705  \n",
       "(0.0659, 0.0736]                   30.943396        60.017039  \n",
       "(0.0736, 0.0816]                   42.452830        69.998034  \n",
       "(0.0816, 0.0901]                   57.452830        79.998689  \n",
       "(0.0901, 0.106]                    75.943396        90.248378  \n",
       "(0.106, 0.223]                    100.000000       100.000000  "
      ]
     },
     "execution_count": 60,
     "metadata": {},
     "output_type": "execute_result"
    }
   ],
   "source": [
    "# gain table for training sample\n",
    "get_gain_table(pred_tr, df_train)"
   ]
  },
  {
   "cell_type": "markdown",
   "metadata": {},
   "source": [
    "### Random Forest"
   ]
  },
  {
   "cell_type": "code",
   "execution_count": 61,
   "metadata": {
    "ExecuteTime": {
     "end_time": "2019-05-15T21:46:46.359824Z",
     "start_time": "2019-05-15T21:46:46.300838Z"
    }
   },
   "outputs": [],
   "source": [
    "# Lighther preprocessing\n",
    "# Handle NAs @ numeric features\n",
    "# fill with a value lower than its minimum\n",
    "# We can reuse previopus categorical preprocessing\n",
    "\n",
    "dtypes = df_train[final_features].dtypes\n",
    "cat_features = df_train[final_features].select_dtypes(include=[\"bool\", \"object\"]).columns.tolist()\n",
    "num_feats = [f for f in final_features if f not in cat_features]\n",
    "\n",
    "def get_nafill_rf_num(df, num_features, gap_min=1e6):\n",
    "    \"\"\"Get a dictionary, that will store the value that will be used \n",
    "    to fill NAs in numeric data.\n",
    "    \n",
    "    Args:\n",
    "        df: Pandas Dataframe with the input data\n",
    "        num_features: List with the names of categorical features\n",
    "        gap_min: Gap between minimum value and filling value\n",
    "        \n",
    "    Returns:\n",
    "        Dictionary, with the following structure:\n",
    "        {feature1: fill_val1,\n",
    "         feature2: fill_val2}\n",
    "    \"\"\"\n",
    "    dict_fill = {}\n",
    "    for num_feat in num_features:\n",
    "        dict_fill[num_feat] = df[num_feat].min() - gap_min\n",
    "    return dict_fill\n",
    "    \n",
    "\n",
    "def apply_nafill_rf_num(df, dict_fillrf):\n",
    "    \"\"\"Given a dictionary with the values to be used in NA filling,\n",
    "    use it to fill NAs.\n",
    "    \n",
    "    Args:\n",
    "        df: Pandas Dataframe with the input data\n",
    "        dict_fillrf: Dictionary, that stores filling values\n",
    "        \n",
    "    Returns:\n",
    "        Pandas Dataframe with NA being filled\n",
    "    \"\"\"\n",
    "    df_out = df.copy()\n",
    "    for num_feat in dict_fillrf.keys():\n",
    "        df_out.loc[df_out[num_feat].isna(), num_feat] = dict_fillrf[num_feat]\n",
    "    return df_out"
   ]
  },
  {
   "cell_type": "code",
   "execution_count": 62,
   "metadata": {
    "ExecuteTime": {
     "end_time": "2019-05-15T21:46:47.050672Z",
     "start_time": "2019-05-15T21:46:46.369092Z"
    }
   },
   "outputs": [],
   "source": [
    "#get dictionary to fill values from train\n",
    "dict_nafill = get_nafill_rf_num(df_train, num_feats)\n",
    "#apply it to train, val and oot\n",
    "df_train_fill = apply_nafill_rf_num(df_train, dict_nafill)\n",
    "df_val_fill = apply_nafill_rf_num(df_val, dict_nafill)\n",
    "df_oot_fill = apply_nafill_rf_num(df_oot, dict_nafill)"
   ]
  },
  {
   "cell_type": "code",
   "execution_count": 63,
   "metadata": {},
   "outputs": [
    {
     "data": {
      "text/plain": [
       "['IncomeVerifiable',\n",
       " 'CurrentlyInGroup',\n",
       " 'IsBorrowerHomeowner',\n",
       " 'Occupation',\n",
       " 'BorrowerState',\n",
       " 'IncomeRange']"
      ]
     },
     "execution_count": 63,
     "metadata": {},
     "output_type": "execute_result"
    }
   ],
   "source": [
    "cat_features"
   ]
  },
  {
   "cell_type": "code",
   "execution_count": 64,
   "metadata": {
    "ExecuteTime": {
     "end_time": "2019-05-15T21:46:47.272707Z",
     "start_time": "2019-05-15T21:46:47.056863Z"
    }
   },
   "outputs": [],
   "source": [
    "# Keep each column dummy columns in independednt lists\n",
    "# Initialize with the numeric data already filled\n",
    "list_df_tr, list_df_val, list_df_oot = [df_train_fill[num_feats]], [df_val_fill[num_feats]], [df_oot_fill[num_feats]]\n",
    "# Add the bucketing results of categorical data\n",
    "for feat in cat_features:\n",
    "    list_df_tr.append(apply_bucketing(df_train, feat, dict_bucketing[feat]))\n",
    "    list_df_val.append(apply_bucketing(df_val, feat, dict_bucketing[feat]))\n",
    "    list_df_oot.append(apply_bucketing(df_oot, feat, dict_bucketing[feat]))\n",
    "\n",
    "# Then combine them column-wise\n",
    "df_tr_preproc_rf = pd.concat(list_df_tr, axis=1)\n",
    "df_val_preproc_rf = pd.concat(list_df_val, axis=1)\n",
    "df_oot_preproc_rf = pd.concat(list_df_oot, axis=1)\n",
    "\n",
    "# Keep the final column names\n",
    "keep_cols_rf = df_tr_preproc_rf.columns"
   ]
  },
  {
   "cell_type": "code",
   "execution_count": 65,
   "metadata": {},
   "outputs": [
    {
     "data": {
      "text/plain": [
       "Index(['CreditScoreRangeLower', 'TotalProsperLoans', 'InquiriesLast6Months',\n",
       "       'CurrentCreditLines', 'ScorexChangeAtTimeOfListing',\n",
       "       'ProsperPrincipalBorrowed', 'OnTimeProsperPayments', 'AmountDelinquent',\n",
       "       'TradesOpenedLast6Months', 'StatedMonthlyIncome', 'DebtToIncomeRatio',\n",
       "       'ProsperPaymentsLessThanOneMonthLate',\n",
       "       'ProsperPaymentsOneMonthPlusLate', 'ProsperPrincipalOutstanding',\n",
       "       'TotalTrades', 'IncomeVerifiable_True', 'CurrentlyInGroup_True',\n",
       "       'IsBorrowerHomeowner_True', 'Occupation_Executive', 'Occupation_Other',\n",
       "       'Occupation_Professional', 'BorrowerState_FL', 'BorrowerState_NY',\n",
       "       'BorrowerState_Other', 'BorrowerState_TX', 'IncomeRange_$25,000-49,999',\n",
       "       'IncomeRange_$50,000-74,999', 'IncomeRange_$75,000-99,999',\n",
       "       'IncomeRange_Other'],\n",
       "      dtype='object')"
      ]
     },
     "execution_count": 65,
     "metadata": {},
     "output_type": "execute_result"
    }
   ],
   "source": [
    "df_tr_preproc_rf.columns"
   ]
  },
  {
   "cell_type": "code",
   "execution_count": 66,
   "metadata": {},
   "outputs": [
    {
     "data": {
      "text/plain": [
       "29"
      ]
     },
     "execution_count": 66,
     "metadata": {},
     "output_type": "execute_result"
    }
   ],
   "source": [
    "len(keep_cols_rf)"
   ]
  },
  {
   "cell_type": "markdown",
   "metadata": {},
   "source": [
    "**TODO 5** Entrena un RandomForestClassifier, y evalua su rendimiento (AUC, gain table). Revisa la documentación del modelo, y elige parámetros razonables"
   ]
  },
  {
   "cell_type": "code",
   "execution_count": 67,
   "metadata": {
    "ExecuteTime": {
     "end_time": "2019-05-15T21:46:56.305079Z",
     "start_time": "2019-05-15T21:46:47.282728Z"
    }
   },
   "outputs": [
    {
     "data": {
      "text/plain": [
       "(0.7341568699363626, 0.7080366692131398, 0.7024665807985245)"
      ]
     },
     "execution_count": 67,
     "metadata": {},
     "output_type": "execute_result"
    }
   ],
   "source": [
    "# SOLUCION\n",
    "# Train a RF-Classifier\n",
    "from sklearn.ensemble import RandomForestClassifier\n",
    "\n",
    "X_tr = df_tr_preproc_rf[keep_cols_rf]\n",
    "X_val = df_val_preproc_rf[keep_cols_rf]\n",
    "X_oot = df_oot_preproc_rf[keep_cols_rf]\n",
    "\n",
    "rf = RandomForestClassifier(n_estimators=500, \n",
    "                            min_samples_leaf=300, \n",
    "                            max_depth=4, \n",
    "                            n_jobs=4)\n",
    "rf.fit(X_tr, y_tr)\n",
    "\n",
    "# Predict for all subsets\n",
    "pred_rf_tr = rf.predict_proba(X_tr)[:, 1]\n",
    "pred_rf_val = rf.predict_proba(X_val)[:, 1] \n",
    "pred_rf_oot = rf.predict_proba(X_oot)[:, 1]\n",
    "\n",
    "# Get AUC metrics in all subsets\n",
    "rf_aucs = get_auc(y_tr, pred_rf_tr), get_auc(y_val, pred_rf_val), get_auc(y_oot, pred_rf_oot)\n",
    "rf_aucs"
   ]
  },
  {
   "cell_type": "code",
   "execution_count": 68,
   "metadata": {
    "ExecuteTime": {
     "end_time": "2019-05-15T21:46:57.220867Z",
     "start_time": "2019-05-15T21:46:56.322066Z"
    }
   },
   "outputs": [
    {
     "data": {
      "text/html": [
       "<div>\n",
       "<style scoped>\n",
       "    .dataframe tbody tr th:only-of-type {\n",
       "        vertical-align: middle;\n",
       "    }\n",
       "\n",
       "    .dataframe tbody tr th {\n",
       "        vertical-align: top;\n",
       "    }\n",
       "\n",
       "    .dataframe thead th {\n",
       "        text-align: right;\n",
       "    }\n",
       "</style>\n",
       "<table border=\"1\" class=\"dataframe\">\n",
       "  <thead>\n",
       "    <tr style=\"text-align: right;\">\n",
       "      <th></th>\n",
       "      <th>feature</th>\n",
       "      <th>importance</th>\n",
       "    </tr>\n",
       "  </thead>\n",
       "  <tbody>\n",
       "    <tr>\n",
       "      <th>9</th>\n",
       "      <td>StatedMonthlyIncome</td>\n",
       "      <td>0.201969</td>\n",
       "    </tr>\n",
       "    <tr>\n",
       "      <th>2</th>\n",
       "      <td>InquiriesLast6Months</td>\n",
       "      <td>0.120667</td>\n",
       "    </tr>\n",
       "    <tr>\n",
       "      <th>4</th>\n",
       "      <td>ScorexChangeAtTimeOfListing</td>\n",
       "      <td>0.090352</td>\n",
       "    </tr>\n",
       "    <tr>\n",
       "      <th>10</th>\n",
       "      <td>DebtToIncomeRatio</td>\n",
       "      <td>0.087133</td>\n",
       "    </tr>\n",
       "    <tr>\n",
       "      <th>0</th>\n",
       "      <td>CreditScoreRangeLower</td>\n",
       "      <td>0.086462</td>\n",
       "    </tr>\n",
       "    <tr>\n",
       "      <th>3</th>\n",
       "      <td>CurrentCreditLines</td>\n",
       "      <td>0.084438</td>\n",
       "    </tr>\n",
       "    <tr>\n",
       "      <th>6</th>\n",
       "      <td>OnTimeProsperPayments</td>\n",
       "      <td>0.067059</td>\n",
       "    </tr>\n",
       "    <tr>\n",
       "      <th>15</th>\n",
       "      <td>IncomeVerifiable_True</td>\n",
       "      <td>0.037250</td>\n",
       "    </tr>\n",
       "    <tr>\n",
       "      <th>14</th>\n",
       "      <td>TotalTrades</td>\n",
       "      <td>0.036499</td>\n",
       "    </tr>\n",
       "    <tr>\n",
       "      <th>8</th>\n",
       "      <td>TradesOpenedLast6Months</td>\n",
       "      <td>0.034090</td>\n",
       "    </tr>\n",
       "    <tr>\n",
       "      <th>7</th>\n",
       "      <td>AmountDelinquent</td>\n",
       "      <td>0.034005</td>\n",
       "    </tr>\n",
       "    <tr>\n",
       "      <th>25</th>\n",
       "      <td>IncomeRange_$25,000-49,999</td>\n",
       "      <td>0.028870</td>\n",
       "    </tr>\n",
       "    <tr>\n",
       "      <th>13</th>\n",
       "      <td>ProsperPrincipalOutstanding</td>\n",
       "      <td>0.022389</td>\n",
       "    </tr>\n",
       "    <tr>\n",
       "      <th>28</th>\n",
       "      <td>IncomeRange_Other</td>\n",
       "      <td>0.012592</td>\n",
       "    </tr>\n",
       "    <tr>\n",
       "      <th>5</th>\n",
       "      <td>ProsperPrincipalBorrowed</td>\n",
       "      <td>0.011842</td>\n",
       "    </tr>\n",
       "    <tr>\n",
       "      <th>1</th>\n",
       "      <td>TotalProsperLoans</td>\n",
       "      <td>0.011305</td>\n",
       "    </tr>\n",
       "    <tr>\n",
       "      <th>11</th>\n",
       "      <td>ProsperPaymentsLessThanOneMonthLate</td>\n",
       "      <td>0.010514</td>\n",
       "    </tr>\n",
       "    <tr>\n",
       "      <th>12</th>\n",
       "      <td>ProsperPaymentsOneMonthPlusLate</td>\n",
       "      <td>0.009520</td>\n",
       "    </tr>\n",
       "    <tr>\n",
       "      <th>17</th>\n",
       "      <td>IsBorrowerHomeowner_True</td>\n",
       "      <td>0.004450</td>\n",
       "    </tr>\n",
       "    <tr>\n",
       "      <th>19</th>\n",
       "      <td>Occupation_Other</td>\n",
       "      <td>0.003938</td>\n",
       "    </tr>\n",
       "    <tr>\n",
       "      <th>27</th>\n",
       "      <td>IncomeRange_$75,000-99,999</td>\n",
       "      <td>0.001523</td>\n",
       "    </tr>\n",
       "    <tr>\n",
       "      <th>26</th>\n",
       "      <td>IncomeRange_$50,000-74,999</td>\n",
       "      <td>0.001458</td>\n",
       "    </tr>\n",
       "    <tr>\n",
       "      <th>23</th>\n",
       "      <td>BorrowerState_Other</td>\n",
       "      <td>0.000459</td>\n",
       "    </tr>\n",
       "    <tr>\n",
       "      <th>21</th>\n",
       "      <td>BorrowerState_FL</td>\n",
       "      <td>0.000423</td>\n",
       "    </tr>\n",
       "    <tr>\n",
       "      <th>16</th>\n",
       "      <td>CurrentlyInGroup_True</td>\n",
       "      <td>0.000332</td>\n",
       "    </tr>\n",
       "    <tr>\n",
       "      <th>20</th>\n",
       "      <td>Occupation_Professional</td>\n",
       "      <td>0.000207</td>\n",
       "    </tr>\n",
       "    <tr>\n",
       "      <th>18</th>\n",
       "      <td>Occupation_Executive</td>\n",
       "      <td>0.000103</td>\n",
       "    </tr>\n",
       "    <tr>\n",
       "      <th>22</th>\n",
       "      <td>BorrowerState_NY</td>\n",
       "      <td>0.000091</td>\n",
       "    </tr>\n",
       "    <tr>\n",
       "      <th>24</th>\n",
       "      <td>BorrowerState_TX</td>\n",
       "      <td>0.000060</td>\n",
       "    </tr>\n",
       "  </tbody>\n",
       "</table>\n",
       "</div>"
      ],
      "text/plain": [
       "                                feature  importance\n",
       "9                   StatedMonthlyIncome    0.201969\n",
       "2                  InquiriesLast6Months    0.120667\n",
       "4           ScorexChangeAtTimeOfListing    0.090352\n",
       "10                    DebtToIncomeRatio    0.087133\n",
       "0                 CreditScoreRangeLower    0.086462\n",
       "3                    CurrentCreditLines    0.084438\n",
       "6                 OnTimeProsperPayments    0.067059\n",
       "15                IncomeVerifiable_True    0.037250\n",
       "14                          TotalTrades    0.036499\n",
       "8               TradesOpenedLast6Months    0.034090\n",
       "7                      AmountDelinquent    0.034005\n",
       "25           IncomeRange_$25,000-49,999    0.028870\n",
       "13          ProsperPrincipalOutstanding    0.022389\n",
       "28                    IncomeRange_Other    0.012592\n",
       "5              ProsperPrincipalBorrowed    0.011842\n",
       "1                     TotalProsperLoans    0.011305\n",
       "11  ProsperPaymentsLessThanOneMonthLate    0.010514\n",
       "12      ProsperPaymentsOneMonthPlusLate    0.009520\n",
       "17             IsBorrowerHomeowner_True    0.004450\n",
       "19                     Occupation_Other    0.003938\n",
       "27           IncomeRange_$75,000-99,999    0.001523\n",
       "26           IncomeRange_$50,000-74,999    0.001458\n",
       "23                  BorrowerState_Other    0.000459\n",
       "21                     BorrowerState_FL    0.000423\n",
       "16                CurrentlyInGroup_True    0.000332\n",
       "20              Occupation_Professional    0.000207\n",
       "18                 Occupation_Executive    0.000103\n",
       "22                     BorrowerState_NY    0.000091\n",
       "24                     BorrowerState_TX    0.000060"
      ]
     },
     "execution_count": 68,
     "metadata": {},
     "output_type": "execute_result"
    }
   ],
   "source": [
    "# Show Feature importance\n",
    "imp_df = pd.DataFrame({'feature': keep_cols_rf,\n",
    "                       'importance': rf.feature_importances_})\n",
    "imp_df.sort_values(by='importance', ascending=False)"
   ]
  },
  {
   "cell_type": "markdown",
   "metadata": {},
   "source": [
    "**TODO 6** Entrena un XGBClassifier, y evalua su rendimiento (AUC, gain table). Revisa la documentación del modelo y elige parámetros razonables https://xgboost.readthedocs.io/en/stable/python/python_api.html#xgboost.XGBClassifier"
   ]
  },
  {
   "cell_type": "markdown",
   "metadata": {},
   "source": [
    "### XGBoost"
   ]
  },
  {
   "cell_type": "code",
   "execution_count": 69,
   "metadata": {
    "ExecuteTime": {
     "end_time": "2019-05-15T21:46:59.007214Z",
     "start_time": "2019-05-15T21:46:57.230792Z"
    }
   },
   "outputs": [
    {
     "data": {
      "text/plain": [
       "(0.7264709048072746, 0.6879442058955243, 0.6918682296469378)"
      ]
     },
     "execution_count": 69,
     "metadata": {},
     "output_type": "execute_result"
    }
   ],
   "source": [
    "# SOLUCION\n",
    "from xgboost import XGBClassifier\n",
    "# Train a XGBoost-Classifier\n",
    "xgb = XGBClassifier(max_depth=4,\n",
    "                    learning_rate=0.05, \n",
    "                    n_estimators=300, \n",
    "                    min_child_weight=250,\n",
    "                    n_jobs=4)\n",
    "xgb.fit(X_tr, y_tr)\n",
    "\n",
    "# Predict for all subsets\n",
    "pred_xgb_tr = xgb.predict_proba(X_tr)[:, 1]\n",
    "pred_xgb_val = xgb.predict_proba(X_val)[:, 1] \n",
    "pred_xgb_oot = xgb.predict_proba(X_oot)[:, 1]\n",
    "\n",
    "xgb_aucs = get_auc(y_tr, pred_xgb_tr), get_auc(y_val, pred_xgb_val), get_auc(y_oot, pred_xgb_oot)\n",
    "xgb_aucs"
   ]
  },
  {
   "cell_type": "code",
   "execution_count": 70,
   "metadata": {},
   "outputs": [
    {
     "data": {
      "text/plain": [
       "0.21"
      ]
     },
     "execution_count": 70,
     "metadata": {},
     "output_type": "execute_result"
    }
   ],
   "source": [
    "scale_pos_weight = round(255/1234, 2 )\n",
    "scale_pos_weight"
   ]
  },
  {
   "cell_type": "code",
   "execution_count": 71,
   "metadata": {},
   "outputs": [
    {
     "data": {
      "text/html": [
       "<div>\n",
       "<style scoped>\n",
       "    .dataframe tbody tr th:only-of-type {\n",
       "        vertical-align: middle;\n",
       "    }\n",
       "\n",
       "    .dataframe tbody tr th {\n",
       "        vertical-align: top;\n",
       "    }\n",
       "\n",
       "    .dataframe thead th {\n",
       "        text-align: right;\n",
       "    }\n",
       "</style>\n",
       "<table border=\"1\" class=\"dataframe\">\n",
       "  <thead>\n",
       "    <tr style=\"text-align: right;\">\n",
       "      <th></th>\n",
       "      <th>feature</th>\n",
       "      <th>importance</th>\n",
       "    </tr>\n",
       "  </thead>\n",
       "  <tbody>\n",
       "    <tr>\n",
       "      <th>4</th>\n",
       "      <td>ScorexChangeAtTimeOfListing</td>\n",
       "      <td>0.210563</td>\n",
       "    </tr>\n",
       "    <tr>\n",
       "      <th>6</th>\n",
       "      <td>OnTimeProsperPayments</td>\n",
       "      <td>0.142528</td>\n",
       "    </tr>\n",
       "    <tr>\n",
       "      <th>9</th>\n",
       "      <td>StatedMonthlyIncome</td>\n",
       "      <td>0.127812</td>\n",
       "    </tr>\n",
       "    <tr>\n",
       "      <th>2</th>\n",
       "      <td>InquiriesLast6Months</td>\n",
       "      <td>0.103255</td>\n",
       "    </tr>\n",
       "    <tr>\n",
       "      <th>0</th>\n",
       "      <td>CreditScoreRangeLower</td>\n",
       "      <td>0.082744</td>\n",
       "    </tr>\n",
       "    <tr>\n",
       "      <th>3</th>\n",
       "      <td>CurrentCreditLines</td>\n",
       "      <td>0.074549</td>\n",
       "    </tr>\n",
       "    <tr>\n",
       "      <th>8</th>\n",
       "      <td>TradesOpenedLast6Months</td>\n",
       "      <td>0.066953</td>\n",
       "    </tr>\n",
       "    <tr>\n",
       "      <th>1</th>\n",
       "      <td>TotalProsperLoans</td>\n",
       "      <td>0.060070</td>\n",
       "    </tr>\n",
       "    <tr>\n",
       "      <th>10</th>\n",
       "      <td>DebtToIncomeRatio</td>\n",
       "      <td>0.059240</td>\n",
       "    </tr>\n",
       "    <tr>\n",
       "      <th>17</th>\n",
       "      <td>IsBorrowerHomeowner_True</td>\n",
       "      <td>0.049785</td>\n",
       "    </tr>\n",
       "    <tr>\n",
       "      <th>14</th>\n",
       "      <td>TotalTrades</td>\n",
       "      <td>0.012563</td>\n",
       "    </tr>\n",
       "    <tr>\n",
       "      <th>26</th>\n",
       "      <td>IncomeRange_$50,000-74,999</td>\n",
       "      <td>0.009938</td>\n",
       "    </tr>\n",
       "    <tr>\n",
       "      <th>11</th>\n",
       "      <td>ProsperPaymentsLessThanOneMonthLate</td>\n",
       "      <td>0.000000</td>\n",
       "    </tr>\n",
       "    <tr>\n",
       "      <th>12</th>\n",
       "      <td>ProsperPaymentsOneMonthPlusLate</td>\n",
       "      <td>0.000000</td>\n",
       "    </tr>\n",
       "    <tr>\n",
       "      <th>27</th>\n",
       "      <td>IncomeRange_$75,000-99,999</td>\n",
       "      <td>0.000000</td>\n",
       "    </tr>\n",
       "    <tr>\n",
       "      <th>25</th>\n",
       "      <td>IncomeRange_$25,000-49,999</td>\n",
       "      <td>0.000000</td>\n",
       "    </tr>\n",
       "    <tr>\n",
       "      <th>24</th>\n",
       "      <td>BorrowerState_TX</td>\n",
       "      <td>0.000000</td>\n",
       "    </tr>\n",
       "    <tr>\n",
       "      <th>23</th>\n",
       "      <td>BorrowerState_Other</td>\n",
       "      <td>0.000000</td>\n",
       "    </tr>\n",
       "    <tr>\n",
       "      <th>22</th>\n",
       "      <td>BorrowerState_NY</td>\n",
       "      <td>0.000000</td>\n",
       "    </tr>\n",
       "    <tr>\n",
       "      <th>21</th>\n",
       "      <td>BorrowerState_FL</td>\n",
       "      <td>0.000000</td>\n",
       "    </tr>\n",
       "    <tr>\n",
       "      <th>20</th>\n",
       "      <td>Occupation_Professional</td>\n",
       "      <td>0.000000</td>\n",
       "    </tr>\n",
       "    <tr>\n",
       "      <th>19</th>\n",
       "      <td>Occupation_Other</td>\n",
       "      <td>0.000000</td>\n",
       "    </tr>\n",
       "    <tr>\n",
       "      <th>18</th>\n",
       "      <td>Occupation_Executive</td>\n",
       "      <td>0.000000</td>\n",
       "    </tr>\n",
       "    <tr>\n",
       "      <th>5</th>\n",
       "      <td>ProsperPrincipalBorrowed</td>\n",
       "      <td>0.000000</td>\n",
       "    </tr>\n",
       "    <tr>\n",
       "      <th>16</th>\n",
       "      <td>CurrentlyInGroup_True</td>\n",
       "      <td>0.000000</td>\n",
       "    </tr>\n",
       "    <tr>\n",
       "      <th>15</th>\n",
       "      <td>IncomeVerifiable_True</td>\n",
       "      <td>0.000000</td>\n",
       "    </tr>\n",
       "    <tr>\n",
       "      <th>7</th>\n",
       "      <td>AmountDelinquent</td>\n",
       "      <td>0.000000</td>\n",
       "    </tr>\n",
       "    <tr>\n",
       "      <th>13</th>\n",
       "      <td>ProsperPrincipalOutstanding</td>\n",
       "      <td>0.000000</td>\n",
       "    </tr>\n",
       "    <tr>\n",
       "      <th>28</th>\n",
       "      <td>IncomeRange_Other</td>\n",
       "      <td>0.000000</td>\n",
       "    </tr>\n",
       "  </tbody>\n",
       "</table>\n",
       "</div>"
      ],
      "text/plain": [
       "                                feature  importance\n",
       "4           ScorexChangeAtTimeOfListing    0.210563\n",
       "6                 OnTimeProsperPayments    0.142528\n",
       "9                   StatedMonthlyIncome    0.127812\n",
       "2                  InquiriesLast6Months    0.103255\n",
       "0                 CreditScoreRangeLower    0.082744\n",
       "3                    CurrentCreditLines    0.074549\n",
       "8               TradesOpenedLast6Months    0.066953\n",
       "1                     TotalProsperLoans    0.060070\n",
       "10                    DebtToIncomeRatio    0.059240\n",
       "17             IsBorrowerHomeowner_True    0.049785\n",
       "14                          TotalTrades    0.012563\n",
       "26           IncomeRange_$50,000-74,999    0.009938\n",
       "11  ProsperPaymentsLessThanOneMonthLate    0.000000\n",
       "12      ProsperPaymentsOneMonthPlusLate    0.000000\n",
       "27           IncomeRange_$75,000-99,999    0.000000\n",
       "25           IncomeRange_$25,000-49,999    0.000000\n",
       "24                     BorrowerState_TX    0.000000\n",
       "23                  BorrowerState_Other    0.000000\n",
       "22                     BorrowerState_NY    0.000000\n",
       "21                     BorrowerState_FL    0.000000\n",
       "20              Occupation_Professional    0.000000\n",
       "19                     Occupation_Other    0.000000\n",
       "18                 Occupation_Executive    0.000000\n",
       "5              ProsperPrincipalBorrowed    0.000000\n",
       "16                CurrentlyInGroup_True    0.000000\n",
       "15                IncomeVerifiable_True    0.000000\n",
       "7                      AmountDelinquent    0.000000\n",
       "13          ProsperPrincipalOutstanding    0.000000\n",
       "28                    IncomeRange_Other    0.000000"
      ]
     },
     "execution_count": 71,
     "metadata": {},
     "output_type": "execute_result"
    }
   ],
   "source": [
    "# Sow feature importance\n",
    "imp_df = pd.DataFrame({'feature': keep_cols_rf,\n",
    "                       'importance': xgb.feature_importances_})\n",
    "imp_df.sort_values(by='importance', ascending=False)"
   ]
  },
  {
   "cell_type": "markdown",
   "metadata": {},
   "source": [
    "## Compare model performances"
   ]
  },
  {
   "cell_type": "code",
   "execution_count": 72,
   "metadata": {},
   "outputs": [
    {
     "data": {
      "text/html": [
       "<div>\n",
       "<style scoped>\n",
       "    .dataframe tbody tr th:only-of-type {\n",
       "        vertical-align: middle;\n",
       "    }\n",
       "\n",
       "    .dataframe tbody tr th {\n",
       "        vertical-align: top;\n",
       "    }\n",
       "\n",
       "    .dataframe thead th {\n",
       "        text-align: right;\n",
       "    }\n",
       "</style>\n",
       "<table border=\"1\" class=\"dataframe\">\n",
       "  <thead>\n",
       "    <tr style=\"text-align: right;\">\n",
       "      <th></th>\n",
       "      <th>AUC_Train</th>\n",
       "      <th>AUC_Val</th>\n",
       "      <th>AUC_OOT</th>\n",
       "    </tr>\n",
       "  </thead>\n",
       "  <tbody>\n",
       "    <tr>\n",
       "      <th>Logistic</th>\n",
       "      <td>0.717733</td>\n",
       "      <td>0.699276</td>\n",
       "      <td>0.690211</td>\n",
       "    </tr>\n",
       "    <tr>\n",
       "      <th>Log_Pval</th>\n",
       "      <td>0.714289</td>\n",
       "      <td>0.699194</td>\n",
       "      <td>0.686737</td>\n",
       "    </tr>\n",
       "    <tr>\n",
       "      <th>Log_AUC</th>\n",
       "      <td>0.714535</td>\n",
       "      <td>0.708916</td>\n",
       "      <td>0.687270</td>\n",
       "    </tr>\n",
       "    <tr>\n",
       "      <th>RF</th>\n",
       "      <td>0.734157</td>\n",
       "      <td>0.708037</td>\n",
       "      <td>0.702467</td>\n",
       "    </tr>\n",
       "    <tr>\n",
       "      <th>XGBoost</th>\n",
       "      <td>0.726471</td>\n",
       "      <td>0.687944</td>\n",
       "      <td>0.691868</td>\n",
       "    </tr>\n",
       "  </tbody>\n",
       "</table>\n",
       "</div>"
      ],
      "text/plain": [
       "          AUC_Train   AUC_Val   AUC_OOT\n",
       "Logistic   0.717733  0.699276  0.690211\n",
       "Log_Pval   0.714289  0.699194  0.686737\n",
       "Log_AUC    0.714535  0.708916  0.687270\n",
       "RF         0.734157  0.708037  0.702467\n",
       "XGBoost    0.726471  0.687944  0.691868"
      ]
     },
     "execution_count": 72,
     "metadata": {},
     "output_type": "execute_result"
    }
   ],
   "source": [
    "df_aucs = pd.DataFrame([Log1_aucs, Log2_aucs, Log3_aucs, rf_aucs, xgb_aucs])\n",
    "df_aucs.columns = [\"AUC_Train\", \"AUC_Val\", \"AUC_OOT\"]\n",
    "df_aucs.index = [\"Logistic\", \"Log_Pval\", \"Log_AUC\", \"RF\", \"XGBoost\"]\n",
    "df_aucs"
   ]
  },
  {
   "cell_type": "markdown",
   "metadata": {},
   "source": [
    "## Optimizacion Hiperparametros"
   ]
  },
  {
   "cell_type": "markdown",
   "metadata": {},
   "source": [
    "La optimización de hiper-parámetros se realiza normalmente mediante la utilización de un proceso de búsqueda cuyo objetivo consiste en encontrar la mejor selección de valores para un conjunto finito de hiper-parámetros con el objetivo de generar el mejor modelo posible. En nuestro caso, hemos aplicado dicha optimización a dos modelos: regresión logística y XGBoost. Para este último, hemos aplicado 3 métodos de optimización: Grid Search, Randomized Search y el Parameter Grid."
   ]
  },
  {
   "cell_type": "markdown",
   "metadata": {},
   "source": [
    "### Regresion Logistica"
   ]
  },
  {
   "cell_type": "code",
   "execution_count": null,
   "metadata": {},
   "outputs": [],
   "source": [
    "from sklearn.model_selection import GridSearchCV\n",
    "\n",
    "import warnings\n",
    "warnings.filterwarnings(\"ignore\")\n",
    "\n",
    "grid={\n",
    "    \"penalty\" : [\"l1\",\"l2\", \"elasticnet\"],\n",
    "    \"dual\" : [True, False],\n",
    "    \"tol\" : [0.0001, 0.001, 0.01],\n",
    "    \"C\" : [0.01, 0.05, 0.1, 0.2, 0.5, 0.75, 1],\n",
    "    \"fit_intercept\" : [True, False],\n",
    "    \"class_weight\" : [None, \"balanced\"],\n",
    "    \"solver\" : ['newton-cg', 'lbfgs', 'liblinear', 'sag', 'saga'],\n",
    "    \"max_iter\" : [1000, 2000, 3000, 4000],\n",
    "    \"warm_start\" : [True, False]\n",
    "     }\n",
    "logreg=LogisticRegression()\n",
    "logreg_cv=GridSearchCV(logreg, grid, cv=3, n_jobs = -1, scoring = \"roc_auc\")\n",
    "logreg_cv.fit(df_tr_preproc[glm_cols], y_tr)"
   ]
  },
  {
   "cell_type": "code",
   "execution_count": 109,
   "metadata": {},
   "outputs": [
    {
     "data": {
      "text/plain": [
       "{'C': 0.05,\n",
       " 'class_weight': 'balanced',\n",
       " 'dual': False,\n",
       " 'fit_intercept': True,\n",
       " 'max_iter': 4000,\n",
       " 'penalty': 'l2',\n",
       " 'solver': 'sag',\n",
       " 'tol': 0.01,\n",
       " 'warm_start': False}"
      ]
     },
     "execution_count": 109,
     "metadata": {},
     "output_type": "execute_result"
    }
   ],
   "source": [
    "logreg_cv.best_params_"
   ]
  },
  {
   "cell_type": "code",
   "execution_count": 112,
   "metadata": {},
   "outputs": [
    {
     "name": "stdout",
     "output_type": "stream",
     "text": [
      "(0.7326401540368908, 0.7038249782671688, 0.6968001736189984)\n"
     ]
    }
   ],
   "source": [
    "# Predict for all subsets\n",
    "predRL_tr = logreg_cv.predict_proba(df_tr_preproc[glm_cols])[:, 1]\n",
    "predRL_val = logreg_cv.predict_proba(df_val_preproc[glm_cols])[:, 1]\n",
    "predRL_oot = logreg_cv.predict_proba(df_oot_preproc[glm_cols])[:, 1]\n",
    "\n",
    "LogGrid_aucs = get_auc(y_tr, predRL_tr), get_auc(y_val, predRL_val), get_auc(y_oot, predRL_oot)"
   ]
  },
  {
   "cell_type": "markdown",
   "metadata": {},
   "source": [
    "Para la regresión logísitca no hemos tenido problema a la hora de ejecutar dichos problemas ya que el número de hiperparámetros para este modelo no es muy grande. El número de fits total que ha hecho este modelo es de 60480. La documentación que hemos seguido para poder obtener dichos parámetros la hemos obtenido de la siguiente fuente: https://scikit-learn.org/stable/modules/generated/sklearn.linear_model.LogisticRegression.html\n",
    "\n",
    "Una vez identificado estos hiperparámetros, obtenemos los siguientes AUC:\n",
    "- Train: 0.7326\n",
    "- Val: 0.7038\n",
    "- OOT: 0.6968\n",
    "\n",
    "Los AUC sin esta optimización de hiperparámetros eran:\n",
    "- Train: 0.7177\n",
    "- Val: 0.7038\n",
    "- OOT: 0.6968\n",
    "\n",
    "0.699276\t0.690211\n",
    "\n",
    "La conclusión final que obtenemos es que no ha habido gran mejoría con estos hiperparámetros óptimos (sólo ha aumentado el AUC del train)."
   ]
  },
  {
   "cell_type": "markdown",
   "metadata": {},
   "source": [
    "### XGBoost"
   ]
  },
  {
   "cell_type": "markdown",
   "metadata": {},
   "source": [
    "La optimización de hiperparámetros para el XGBoost fue mucho más costosa ya que el número de hiperparámetros es mucho mayor que en la regresión logística y por lo tanto el número de iteraciones también. Inicialmente nos basamos en la siguiente documentación \n",
    "- https://xgboost.readthedocs.io/en/stable/parameter.html \n",
    "\n",
    "Utilizando esta documentación, fuimos por cada uno de los hiperparámetros para determinar cuales considerábamos interesantes para iterar. El número de hiperparámetros incial para realizar las iteraciones fue de 13. Sin embargo, tras estar más de 24 horas ejecutando código sin obtener resultados, tuvimos que buscar documentación para determinar cual de los hiperparámetros elegidos por nosotros eran más importantes y, por lo tanto, acortar en interaciones.\n",
    "\n",
    "Si alguna celda no tiene asociado su output se debe a que, para distribuir la carga computacional, repartimos la ejecucucion de estos algortimos entre los ordenadores de nuestro grupo para poder asi llegar antes a las conclusiones de nuestro analisis"
   ]
  },
  {
   "cell_type": "markdown",
   "metadata": {},
   "source": [
    "#### Grid Search"
   ]
  },
  {
   "cell_type": "code",
   "execution_count": null,
   "metadata": {},
   "outputs": [],
   "source": [
    "from sklearn.model_selection import GridSearchCV\n",
    "gridXGB={\n",
    "    \"colsample_bytree\" : [ 0.3, 0.5 , 0.8 ],\n",
    "    \"reg_alpha\" : [0, 0.5, 1, 5],\n",
    "    \"reg_lambda\" : [0, 0.5, 1, 5],\n",
    "    \"max_depth\" : [2, 4, 6, 8],\n",
    "    \"learning_rate\" : [0, 0.33, 0.66, 1],\n",
    "    \"subsample\" : [0.25, 0.5, 0.75, 1],\n",
    "    \"min_child_weight\" : [0, 1, 50, 100, 200, 500]\n",
    "}\n",
    "\n",
    "xgb=XGBClassifier()\n",
    "\n",
    "xgb_cv=GridSearchCV(xgb, gridXGB, cv=3, n_jobs = -1, verbose = 0, scoring = \"roc_auc\")\n",
    "xgb_cv.fit(X_tr, y_tr)"
   ]
  },
  {
   "cell_type": "code",
   "execution_count": null,
   "metadata": {},
   "outputs": [],
   "source": [
    "xgb_cv.best_params_"
   ]
  },
  {
   "cell_type": "code",
   "execution_count": null,
   "metadata": {},
   "outputs": [],
   "source": [
    "predGS_tr = xgb_cv.predict_proba(df_tr_preproc[glm_cols])[:, 1]\n",
    "predGS_val = xgb_cv.predict_proba(df_val_preproc[glm_cols])[:, 1]\n",
    "predGS_oot = xgb_cv.predict_proba(df_oot_preproc[glm_cols])[:, 1]\n",
    "\n",
    "LogGrid_aucs = get_auc(y_tr, predGS_tr), get_auc(y_val, predGS_val), get_auc(y_oot, predGS_oot)"
   ]
  },
  {
   "attachments": {
    "image.png": {
     "image/png": "[encoded data removed]"
    }
   },
   "cell_type": "markdown",
   "metadata": {},
   "source": [
    "Para determinar los hiperparámetros más importantes del Grid Search nos basamos en dos fuentes:\n",
    "- **Primera fuente:** https://blog.dataiku.com/narrowing-the-search-which-hyperparameters-really-matter\n",
    "![image.png](attachment:image.png)\n",
    "\n",
    "Esta imagen y fuente nos explican el método de selección de hiperparámetros más importantes. En primer lugar, recopilaba un conjunto de datos imparciales de evaluaciones de rendimiento con diferentes combinaciones de hiperparámetros haciendo una búsqueda aleatoria en muchos conjuntos de datos diferentes. A continuación, para cada conjunto de datos utiliza ANOVA funcional para descomponer la varianza en la métrica de rendimiento y atribuirla a cada uno de los hiperparámetros y sus interacciones. Esta es una medida cuantitativa de la importancia de cada hiperparámetro.\n",
    "\n",
    "- **Segunda fuente**: https://towardsdatascience.com/xgboost-fine-tune-and-optimize-your-model-23d996fab663\n",
    "Esta fuente nos sirvió para añadir más iteraciones de hiperparámetros ya que los establecidos en la primera fuente no nos parecían suficientes\n",
    "\n",
    "\n",
    "**Comentar AUCs**"
   ]
  },
  {
   "cell_type": "markdown",
   "metadata": {},
   "source": [
    "#### Randomized Search"
   ]
  },
  {
   "cell_type": "code",
   "execution_count": null,
   "metadata": {},
   "outputs": [],
   "source": [
    "from sklearn.model_selection import RandomizedSearchCV\n",
    "gridXGB={\n",
    "    \"n_estimators\" : [100, 200, 300],\n",
    "    \"max_depth\" : [2, 4, 6, 8],\n",
    "    \"grow_policy\" : ['depthwise', 'lossguide'],\n",
    "    \"learning_rate\" : [0, 0.33, 0.66, 1],\n",
    "    \"booster\" : [\"gbtree\"],\n",
    "    \"min_child_weight\" : [0, 1, 50, 100, 200, 500],\n",
    "    \"max_delta_step\" : [0, 5, 10],\n",
    "    \"subsample\" : [0.25, 0.5, 0.75],\n",
    "    \"colsample_bytree\" : [0.5, 0.75, 1],\n",
    "    \"colsample_bylevel\" : [0.5, 0.75, 1],\n",
    "    \"colsample_bynode\" : [0.5, 0.75, 1],\n",
    "    \"scale_pos_weight\" : [1, 0.21] #0.21 = sum (bads) / sum(goods)\n",
    "}\n",
    "\n",
    "xgb=XGBClassifier()\n",
    "\n",
    "xgb_cv = RandomizedSearchCV(estimator=xgb,\n",
    "                         param_distributions=gridXGB,\n",
    "                         scoring='roc_auc',\n",
    "                         n_iter=1000,\n",
    "                         verbose=0, cv=3, n_jobs = -1)\n",
    "\n",
    "# xgb_cv=GridSearchCV(xgb, gridXGB, cv=3, n_jobs = -1, verbose = 0, scoring = \"roc_auc\")\n",
    "xgb_cv.fit(X_tr, y_tr)"
   ]
  },
  {
   "cell_type": "code",
   "execution_count": 76,
   "metadata": {},
   "outputs": [
    {
     "data": {
      "text/plain": [
       "{'subsample': 0.75,\n",
       " 'scale_pos_weight': 1,\n",
       " 'n_estimators': 100,\n",
       " 'min_child_weight': 50,\n",
       " 'max_depth': 2,\n",
       " 'max_delta_step': 5,\n",
       " 'learning_rate': 0.33,\n",
       " 'grow_policy': 'lossguide',\n",
       " 'colsample_bytree': 0.75,\n",
       " 'colsample_bynode': 0.75,\n",
       " 'colsample_bylevel': 0.5,\n",
       " 'booster': 'gbtree'}"
      ]
     },
     "execution_count": 76,
     "metadata": {},
     "output_type": "execute_result"
    }
   ],
   "source": [
    "xgb_cv.best_params_"
   ]
  },
  {
   "cell_type": "code",
   "execution_count": 77,
   "metadata": {},
   "outputs": [
    {
     "data": {
      "text/plain": [
       "(0.7696665789645032, 0.7249521877716604, 0.7149635572003383)"
      ]
     },
     "execution_count": 77,
     "metadata": {},
     "output_type": "execute_result"
    }
   ],
   "source": [
    "# Predict for all subsets\n",
    "pred_xgb_cv_tr = xgb_cv.predict_proba(X_tr)[:, 1]\n",
    "pred_xgb_cv_val = xgb_cv.predict_proba(X_val)[:, 1] \n",
    "pred_xgb_cv_oot = xgb_cv.predict_proba(X_oot)[:, 1]\n",
    "\n",
    "xgb_cv_aucs = get_auc(y_tr, pred_xgb_cv_tr), get_auc(y_val, pred_xgb_cv_val), get_auc(y_oot, pred_xgb_cv_oot)\n",
    "xgb_cv_aucs"
   ]
  },
  {
   "cell_type": "markdown",
   "metadata": {},
   "source": [
    "Como alternativa al grid search, encontramos la funcion de randomized search. Esta funcion toma combinatorias aleatoias de los posibles hiperparametros dados y con el parametro n_iter se puede establecer el numero de combinatorias a probar. De este modo resolvemos el problema de tener que elegir solo los hiperparametros mas importantes como en el grid search, pero no vamos a poder probar todas las combinaciones por falta de capacidad computacional. \n",
    "\n",
    "Tras ejecutar el randomized search, obtenemos los siguientes AUC de entre las iteraciones realizadas:\n",
    "- Train: 0.7697\n",
    "- Val: 0.7250\n",
    "- OOT: 0.7150\n",
    "\n",
    "Los AUC del XGBoost sin esta optimización de hiperparámetros eran:\n",
    "- Train: 0.7264\n",
    "- Val: 0.6879\n",
    "- OOT: 0.6919\n",
    "\n",
    "En los tres casos, vemos un aumento del AUC, cabe destacar que el mayor incremento del AUC se encuentra en el conjunto de validacion. Esto es gracas al cross validation que se lleva a cabo en cada una de las iteraciones de los posibles parametros."
   ]
  },
  {
   "cell_type": "markdown",
   "metadata": {},
   "source": [
    "En **conlusion** el Random/Grid (poner el mejor) Search ha producido el mayor incremento en el AUC y ha conseguido que el XGBoost sea el mejor modelo de entre todos los probados. \n",
    "Esto demuestra la importancia de la optimizacion de hiperparametros a la hora de entrenar un modelo de machine learning, ya que de lo contrario podemos dejarnos fuera una alta capacidad predictiva."
   ]
  }
 ],
 "metadata": {
  "kernelspec": {
   "display_name": "Python 3 (ipykernel)",
   "language": "python",
   "name": "python3"
  },
  "language_info": {
   "codemirror_mode": {
    "name": "ipython",
    "version": 3
   },
   "file_extension": ".py",
   "mimetype": "text/x-python",
   "name": "python",
   "nbconvert_exporter": "python",
   "pygments_lexer": "ipython3",
   "version": "3.9.7"
  },
  "toc": {
   "base_numbering": 1,
   "nav_menu": {},
   "number_sections": true,
   "sideBar": true,
   "skip_h1_title": false,
   "title_cell": "Table of Contents",
   "title_sidebar": "Contents",
   "toc_cell": false,
   "toc_position": {},
   "toc_section_display": true,
   "toc_window_display": true
  }
 },
 "nbformat": 4,
 "nbformat_minor": 2
}
