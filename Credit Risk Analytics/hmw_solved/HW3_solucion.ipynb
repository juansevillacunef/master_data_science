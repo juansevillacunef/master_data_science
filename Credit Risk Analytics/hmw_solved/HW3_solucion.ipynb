{
 "cells": [
  {
   "cell_type": "markdown",
   "metadata": {},
   "source": [
    "# Data preparation"
   ]
  },
  {
   "cell_type": "markdown",
   "metadata": {},
   "source": [
    "<pre>\n",
    "Miembros del grupo:\n",
    "    Alumno1\n",
    "    Alumno2\n",
    "</pre>"
   ]
  },
  {
   "cell_type": "code",
   "execution_count": 6,
   "metadata": {
    "ExecuteTime": {
     "end_time": "2019-04-24T18:03:19.930654Z",
     "start_time": "2019-04-24T18:03:18.880355Z"
    }
   },
   "outputs": [],
   "source": [
    "# We will use pandas, a very widespread library in python\n",
    "# In case you have never used it, or want to review its documentation\n",
    "# These are some interesting docs:\n",
    "# http://pandas.pydata.org/pandas-docs/stable/\n",
    "# https://pandas.pydata.org/pandas-docs/stable/getting_started/tutorials.html\n",
    "# https://pandas.pydata.org/pandas-docs/stable/getting_started/10min.html\n",
    "# https://pandas.pydata.org/pandas-docs/stable/user_guide/cookbook.html\n",
    "import pandas as pd\n",
    "%matplotlib inline"
   ]
  },
  {
   "cell_type": "markdown",
   "metadata": {},
   "source": [
    "### read data"
   ]
  },
  {
   "cell_type": "code",
   "execution_count": 7,
   "metadata": {
    "ExecuteTime": {
     "end_time": "2019-04-24T18:03:41.805689Z",
     "start_time": "2019-04-24T18:03:41.794618Z"
    }
   },
   "outputs": [],
   "source": [
    "# read_csv is the function that reads csvs, it returns a Pandas dataframe\n",
    "df = pd.read_csv(\"/Users/juan/Documents/Juan's MacBook Pro/CUNEF/Quinto/Credit Risk Analytics/data/prosperLoanData.csv\")"
   ]
  },
  {
   "cell_type": "code",
   "execution_count": 8,
   "metadata": {
    "ExecuteTime": {
     "end_time": "2019-04-24T18:03:36.570037Z",
     "start_time": "2019-04-24T18:03:36.549891Z"
    }
   },
   "outputs": [
    {
     "name": "stdout",
     "output_type": "stream",
     "text": [
      "The DataSet has 113937 rows and 81 columns\n"
     ]
    }
   ],
   "source": [
    "# Check number of rows and columns\n",
    "print ('The DataSet has {} rows and {} columns'.format(df.shape[0], df.shape[1]))"
   ]
  },
  {
   "cell_type": "code",
   "execution_count": 9,
   "metadata": {
    "ExecuteTime": {
     "end_time": "2019-04-24T18:03:44.695455Z",
     "start_time": "2019-04-24T18:03:44.647390Z"
    }
   },
   "outputs": [
    {
     "data": {
      "text/plain": [
       "Index(['ListingKey', 'ListingNumber', 'ListingCreationDate', 'CreditGrade',\n",
       "       'Term', 'LoanStatus', 'ClosedDate', 'BorrowerAPR', 'BorrowerRate',\n",
       "       'LenderYield', 'EstimatedEffectiveYield', 'EstimatedLoss',\n",
       "       'EstimatedReturn', 'ProsperRating (numeric)', 'ProsperRating (Alpha)',\n",
       "       'ProsperScore', 'ListingCategory (numeric)', 'BorrowerState',\n",
       "       'Occupation', 'EmploymentStatus', 'EmploymentStatusDuration',\n",
       "       'IsBorrowerHomeowner', 'CurrentlyInGroup', 'GroupKey',\n",
       "       'DateCreditPulled', 'CreditScoreRangeLower', 'CreditScoreRangeUpper',\n",
       "       'FirstRecordedCreditLine', 'CurrentCreditLines', 'OpenCreditLines',\n",
       "       'TotalCreditLinespast7years', 'OpenRevolvingAccounts',\n",
       "       'OpenRevolvingMonthlyPayment', 'InquiriesLast6Months', 'TotalInquiries',\n",
       "       'CurrentDelinquencies', 'AmountDelinquent', 'DelinquenciesLast7Years',\n",
       "       'PublicRecordsLast10Years', 'PublicRecordsLast12Months',\n",
       "       'RevolvingCreditBalance', 'BankcardUtilization',\n",
       "       'AvailableBankcardCredit', 'TotalTrades',\n",
       "       'TradesNeverDelinquent (percentage)', 'TradesOpenedLast6Months',\n",
       "       'DebtToIncomeRatio', 'IncomeRange', 'IncomeVerifiable',\n",
       "       'StatedMonthlyIncome', 'LoanKey', 'TotalProsperLoans',\n",
       "       'TotalProsperPaymentsBilled', 'OnTimeProsperPayments',\n",
       "       'ProsperPaymentsLessThanOneMonthLate',\n",
       "       'ProsperPaymentsOneMonthPlusLate', 'ProsperPrincipalBorrowed',\n",
       "       'ProsperPrincipalOutstanding', 'ScorexChangeAtTimeOfListing',\n",
       "       'LoanCurrentDaysDelinquent', 'LoanFirstDefaultedCycleNumber',\n",
       "       'LoanMonthsSinceOrigination', 'LoanNumber', 'LoanOriginalAmount',\n",
       "       'LoanOriginationDate', 'LoanOriginationQuarter', 'MemberKey',\n",
       "       'MonthlyLoanPayment', 'LP_CustomerPayments',\n",
       "       'LP_CustomerPrincipalPayments', 'LP_InterestandFees', 'LP_ServiceFees',\n",
       "       'LP_CollectionFees', 'LP_GrossPrincipalLoss', 'LP_NetPrincipalLoss',\n",
       "       'LP_NonPrincipalRecoverypayments', 'PercentFunded', 'Recommendations',\n",
       "       'InvestmentFromFriendsCount', 'InvestmentFromFriendsAmount',\n",
       "       'Investors'],\n",
       "      dtype='object')"
      ]
     },
     "execution_count": 9,
     "metadata": {},
     "output_type": "execute_result"
    }
   ],
   "source": [
    "# Check the columns name\n",
    "df.columns"
   ]
  },
  {
   "cell_type": "markdown",
   "metadata": {},
   "source": [
    "Algunas de las columnas claves del dataset son:\n",
    "\n",
    "- **LoanStatus**: Esta variable representa el estado acual del prestamo. Puede tener las siguientes categorías: 'Cancelled', 'Chargedoff', 'Completed', 'Current', 'Default', 'FinalPaymentInProgress' y 'PastDue'. Hay que destacar que este último vendrá acompañado de un 'Delicuency bucket'\n",
    "\n",
    "\n",
    "- **LoanMonthsSinceOrigination**: Esta variable representa el número de meses transcurridos desde la fecha de originación.\n",
    "\n",
    "\n",
    "- **LoanFirstDefaultedCycleNumber**: Esta variable representa el ciclo del préstamo hasta que incurrió en Default.\n",
    "\n",
    "\n",
    "- **LoanCurrentDaysDelinquent**: Esta variable representa el número de días en las que el préstamo incurrío en mora\n"
   ]
  },
  {
   "cell_type": "markdown",
   "metadata": {},
   "source": [
    "# Performance & Sample Window"
   ]
  },
  {
   "cell_type": "code",
   "execution_count": 10,
   "metadata": {
    "ExecuteTime": {
     "end_time": "2019-04-24T18:03:47.228550Z",
     "start_time": "2019-04-24T18:03:46.288428Z"
    }
   },
   "outputs": [
    {
     "data": {
      "text/plain": [
       "<AxesSubplot: >"
      ]
     },
     "execution_count": 10,
     "metadata": {},
     "output_type": "execute_result"
    },
    {
     "data": {
      "image/png": "[encoded data removed]",
      "text/plain": [
       "<Figure size 640x480 with 1 Axes>"
      ]
     },
     "metadata": {},
     "output_type": "display_data"
    }
   ],
   "source": [
    "pd.to_datetime(df.LoanOriginationDate.str[:10]).hist()"
   ]
  },
  {
   "cell_type": "markdown",
   "metadata": {},
   "source": [
    "**TODO 1** Seleccionar y razonar la columna que debería ser usada como input para nuestra variable objetivo. Existen dos opciones:\n",
    "- Opción A: **LoanStatus** \n",
    "- Opción B: **LoanFirstDefaultedCycleNumber** "
   ]
  },
  {
   "cell_type": "markdown",
   "metadata": {},
   "source": [
    "Escribe tu respuesta aquí: LoanFirstDefaultedCycleNumber, indica el momento en el que el préstamo entró en default por primera vez. Loanstatus indica el estado del préstamo en el último momento"
   ]
  },
  {
   "cell_type": "markdown",
   "metadata": {},
   "source": [
    "## Vintage analysis"
   ]
  },
  {
   "cell_type": "markdown",
   "metadata": {},
   "source": [
    "El análisis Vintage nos permite entender el comportamiento de los prestamos con respecto al bad rate, para cada año de origen del préstamo, y para cada ventana en la que evaluamos si ha habido default."
   ]
  },
  {
   "cell_type": "code",
   "execution_count": 11,
   "metadata": {
    "ExecuteTime": {
     "end_time": "2019-04-24T16:52:36.160315Z",
     "start_time": "2019-04-24T16:52:35.802229Z"
    }
   },
   "outputs": [
    {
     "data": {
      "text/html": [
       "<div>\n",
       "<style scoped>\n",
       "    .dataframe tbody tr th:only-of-type {\n",
       "        vertical-align: middle;\n",
       "    }\n",
       "\n",
       "    .dataframe tbody tr th {\n",
       "        vertical-align: top;\n",
       "    }\n",
       "\n",
       "    .dataframe thead th {\n",
       "        text-align: right;\n",
       "    }\n",
       "</style>\n",
       "<table border=\"1\" class=\"dataframe\">\n",
       "  <thead>\n",
       "    <tr style=\"text-align: right;\">\n",
       "      <th></th>\n",
       "      <th>LoanMonthsSinceOriginationY</th>\n",
       "      <th>N_loans</th>\n",
       "      <th>LoanFirstDefaultedCycleNumberQ</th>\n",
       "      <th>N_bads</th>\n",
       "      <th>BR</th>\n",
       "    </tr>\n",
       "  </thead>\n",
       "  <tbody>\n",
       "    <tr>\n",
       "      <th>0</th>\n",
       "      <td>0.0</td>\n",
       "      <td>29808</td>\n",
       "      <td>4.0</td>\n",
       "      <td>1</td>\n",
       "      <td>0.003355</td>\n",
       "    </tr>\n",
       "    <tr>\n",
       "      <th>1</th>\n",
       "      <td>0.0</td>\n",
       "      <td>29808</td>\n",
       "      <td>8.0</td>\n",
       "      <td>3</td>\n",
       "      <td>0.010064</td>\n",
       "    </tr>\n",
       "    <tr>\n",
       "      <th>2</th>\n",
       "      <td>1.0</td>\n",
       "      <td>21134</td>\n",
       "      <td>0.0</td>\n",
       "      <td>3</td>\n",
       "      <td>0.014195</td>\n",
       "    </tr>\n",
       "    <tr>\n",
       "      <th>3</th>\n",
       "      <td>1.0</td>\n",
       "      <td>21134</td>\n",
       "      <td>4.0</td>\n",
       "      <td>18</td>\n",
       "      <td>0.085171</td>\n",
       "    </tr>\n",
       "    <tr>\n",
       "      <th>4</th>\n",
       "      <td>1.0</td>\n",
       "      <td>21134</td>\n",
       "      <td>8.0</td>\n",
       "      <td>462</td>\n",
       "      <td>2.186051</td>\n",
       "    </tr>\n",
       "  </tbody>\n",
       "</table>\n",
       "</div>"
      ],
      "text/plain": [
       "   LoanMonthsSinceOriginationY  N_loans  LoanFirstDefaultedCycleNumberQ  \\\n",
       "0                          0.0    29808                             4.0   \n",
       "1                          0.0    29808                             8.0   \n",
       "2                          1.0    21134                             0.0   \n",
       "3                          1.0    21134                             4.0   \n",
       "4                          1.0    21134                             8.0   \n",
       "\n",
       "   N_bads        BR  \n",
       "0       1  0.003355  \n",
       "1       3  0.010064  \n",
       "2       3  0.014195  \n",
       "3      18  0.085171  \n",
       "4     462  2.186051  "
      ]
     },
     "execution_count": 11,
     "metadata": {},
     "output_type": "execute_result"
    }
   ],
   "source": [
    "# Years since loan origination\n",
    "df['LoanMonthsSinceOriginationY'] = (df.LoanMonthsSinceOrigination / 12).round()\n",
    "# Quarter in which the Loan defaulted\n",
    "df['LoanFirstDefaultedCycleNumberQ'] = 4 * (df.LoanFirstDefaultedCycleNumber / 4).round()\n",
    "# Get the number of loans per origination year\n",
    "df_vintage = df.groupby('LoanMonthsSinceOriginationY').agg({'LoanMonthsSinceOriginationY': 'size'})\\\n",
    "                                                     .rename(columns={'LoanMonthsSinceOriginationY': 'N_loans'})\\\n",
    "                                                     .reset_index()\n",
    "\n",
    "\n",
    "# For each year, compute the cummulative sum of defaulted loans per quarter\n",
    "df['bad_aux'] = ~df['LoanFirstDefaultedCycleNumber'].isna()\n",
    "df_def_per_cycle = pd.DataFrame(df.groupby(['LoanMonthsSinceOriginationY', 'LoanFirstDefaultedCycleNumberQ'])['bad_aux'].sum().groupby(level=[0]).cumsum()).reset_index()\n",
    "df_def_per_cycle.columns = df_def_per_cycle.columns[:-1].tolist() +  ['N_bads']\n",
    "\n",
    "# Merge both data sources, compute the bad rate\n",
    "df_vintage = df_vintage.merge(df_def_per_cycle, on='LoanMonthsSinceOriginationY')\n",
    "df_vintage['BR'] = 100. * df_vintage['N_bads'] / df_vintage['N_loans']\n",
    "\n",
    "df_vintage.head()"
   ]
  },
  {
   "cell_type": "code",
   "execution_count": 12,
   "metadata": {
    "ExecuteTime": {
     "end_time": "2019-04-24T16:52:42.988383Z",
     "start_time": "2019-04-24T16:52:42.880718Z"
    }
   },
   "outputs": [
    {
     "data": {
      "text/html": [
       "<div>\n",
       "<style scoped>\n",
       "    .dataframe tbody tr th:only-of-type {\n",
       "        vertical-align: middle;\n",
       "    }\n",
       "\n",
       "    .dataframe tbody tr th {\n",
       "        vertical-align: top;\n",
       "    }\n",
       "\n",
       "    .dataframe thead th {\n",
       "        text-align: right;\n",
       "    }\n",
       "</style>\n",
       "<table border=\"1\" class=\"dataframe\">\n",
       "  <thead>\n",
       "    <tr style=\"text-align: right;\">\n",
       "      <th>LoanFirstDefaultedCycleNumberQ</th>\n",
       "      <th>0.0</th>\n",
       "      <th>4.0</th>\n",
       "      <th>8.0</th>\n",
       "      <th>12.0</th>\n",
       "      <th>16.0</th>\n",
       "      <th>20.0</th>\n",
       "      <th>24.0</th>\n",
       "      <th>28.0</th>\n",
       "      <th>32.0</th>\n",
       "      <th>36.0</th>\n",
       "      <th>40.0</th>\n",
       "      <th>44.0</th>\n",
       "    </tr>\n",
       "    <tr>\n",
       "      <th>LoanMonthsSinceOriginationY</th>\n",
       "      <th></th>\n",
       "      <th></th>\n",
       "      <th></th>\n",
       "      <th></th>\n",
       "      <th></th>\n",
       "      <th></th>\n",
       "      <th></th>\n",
       "      <th></th>\n",
       "      <th></th>\n",
       "      <th></th>\n",
       "      <th></th>\n",
       "      <th></th>\n",
       "    </tr>\n",
       "  </thead>\n",
       "  <tbody>\n",
       "    <tr>\n",
       "      <th>0.0</th>\n",
       "      <td>NaN</td>\n",
       "      <td>0.003355</td>\n",
       "      <td>0.010064</td>\n",
       "      <td>NaN</td>\n",
       "      <td>NaN</td>\n",
       "      <td>NaN</td>\n",
       "      <td>NaN</td>\n",
       "      <td>NaN</td>\n",
       "      <td>NaN</td>\n",
       "      <td>NaN</td>\n",
       "      <td>NaN</td>\n",
       "      <td>NaN</td>\n",
       "    </tr>\n",
       "    <tr>\n",
       "      <th>1.0</th>\n",
       "      <td>0.014195</td>\n",
       "      <td>0.085171</td>\n",
       "      <td>2.186051</td>\n",
       "      <td>2.943125</td>\n",
       "      <td>3.368979</td>\n",
       "      <td>NaN</td>\n",
       "      <td>NaN</td>\n",
       "      <td>NaN</td>\n",
       "      <td>NaN</td>\n",
       "      <td>NaN</td>\n",
       "      <td>NaN</td>\n",
       "      <td>NaN</td>\n",
       "    </tr>\n",
       "    <tr>\n",
       "      <th>2.0</th>\n",
       "      <td>0.039757</td>\n",
       "      <td>0.462181</td>\n",
       "      <td>5.342411</td>\n",
       "      <td>8.180101</td>\n",
       "      <td>12.160819</td>\n",
       "      <td>13.850512</td>\n",
       "      <td>15.132691</td>\n",
       "      <td>15.321539</td>\n",
       "      <td>15.326508</td>\n",
       "      <td>NaN</td>\n",
       "      <td>NaN</td>\n",
       "      <td>NaN</td>\n",
       "    </tr>\n",
       "    <tr>\n",
       "      <th>3.0</th>\n",
       "      <td>0.497830</td>\n",
       "      <td>0.931836</td>\n",
       "      <td>5.731427</td>\n",
       "      <td>8.424815</td>\n",
       "      <td>12.215982</td>\n",
       "      <td>14.003064</td>\n",
       "      <td>16.504978</td>\n",
       "      <td>17.870820</td>\n",
       "      <td>19.019658</td>\n",
       "      <td>19.211131</td>\n",
       "      <td>19.223896</td>\n",
       "      <td>NaN</td>\n",
       "    </tr>\n",
       "    <tr>\n",
       "      <th>4.0</th>\n",
       "      <td>1.117222</td>\n",
       "      <td>1.460983</td>\n",
       "      <td>4.417326</td>\n",
       "      <td>6.170505</td>\n",
       "      <td>8.765899</td>\n",
       "      <td>10.072190</td>\n",
       "      <td>12.220694</td>\n",
       "      <td>13.234789</td>\n",
       "      <td>14.575455</td>\n",
       "      <td>15.177037</td>\n",
       "      <td>15.830182</td>\n",
       "      <td>NaN</td>\n",
       "    </tr>\n",
       "    <tr>\n",
       "      <th>5.0</th>\n",
       "      <td>0.861009</td>\n",
       "      <td>NaN</td>\n",
       "      <td>6.150062</td>\n",
       "      <td>9.963100</td>\n",
       "      <td>14.022140</td>\n",
       "      <td>15.252153</td>\n",
       "      <td>17.958180</td>\n",
       "      <td>19.311193</td>\n",
       "      <td>20.541205</td>\n",
       "      <td>21.156212</td>\n",
       "      <td>22.017220</td>\n",
       "      <td>NaN</td>\n",
       "    </tr>\n",
       "    <tr>\n",
       "      <th>6.0</th>\n",
       "      <td>1.280445</td>\n",
       "      <td>1.851079</td>\n",
       "      <td>8.427279</td>\n",
       "      <td>12.985386</td>\n",
       "      <td>20.215727</td>\n",
       "      <td>23.291580</td>\n",
       "      <td>27.446068</td>\n",
       "      <td>29.485038</td>\n",
       "      <td>31.649269</td>\n",
       "      <td>32.713987</td>\n",
       "      <td>34.036186</td>\n",
       "      <td>34.043145</td>\n",
       "    </tr>\n",
       "    <tr>\n",
       "      <th>7.0</th>\n",
       "      <td>1.988015</td>\n",
       "      <td>2.872634</td>\n",
       "      <td>13.297822</td>\n",
       "      <td>18.814801</td>\n",
       "      <td>25.292495</td>\n",
       "      <td>28.659755</td>\n",
       "      <td>33.368211</td>\n",
       "      <td>35.708171</td>\n",
       "      <td>38.761533</td>\n",
       "      <td>40.017122</td>\n",
       "      <td>41.396366</td>\n",
       "      <td>NaN</td>\n",
       "    </tr>\n",
       "    <tr>\n",
       "      <th>8.0</th>\n",
       "      <td>1.276596</td>\n",
       "      <td>2.723404</td>\n",
       "      <td>11.177305</td>\n",
       "      <td>15.829787</td>\n",
       "      <td>22.978723</td>\n",
       "      <td>25.929078</td>\n",
       "      <td>29.900709</td>\n",
       "      <td>31.659574</td>\n",
       "      <td>34.269504</td>\n",
       "      <td>35.659574</td>\n",
       "      <td>36.964539</td>\n",
       "      <td>NaN</td>\n",
       "    </tr>\n",
       "  </tbody>\n",
       "</table>\n",
       "</div>"
      ],
      "text/plain": [
       "LoanFirstDefaultedCycleNumberQ      0.0       4.0        8.0        12.0  \\\n",
       "LoanMonthsSinceOriginationY                                                \n",
       "0.0                                  NaN  0.003355   0.010064        NaN   \n",
       "1.0                             0.014195  0.085171   2.186051   2.943125   \n",
       "2.0                             0.039757  0.462181   5.342411   8.180101   \n",
       "3.0                             0.497830  0.931836   5.731427   8.424815   \n",
       "4.0                             1.117222  1.460983   4.417326   6.170505   \n",
       "5.0                             0.861009       NaN   6.150062   9.963100   \n",
       "6.0                             1.280445  1.851079   8.427279  12.985386   \n",
       "7.0                             1.988015  2.872634  13.297822  18.814801   \n",
       "8.0                             1.276596  2.723404  11.177305  15.829787   \n",
       "\n",
       "LoanFirstDefaultedCycleNumberQ       16.0       20.0       24.0       28.0  \\\n",
       "LoanMonthsSinceOriginationY                                                  \n",
       "0.0                                   NaN        NaN        NaN        NaN   \n",
       "1.0                              3.368979        NaN        NaN        NaN   \n",
       "2.0                             12.160819  13.850512  15.132691  15.321539   \n",
       "3.0                             12.215982  14.003064  16.504978  17.870820   \n",
       "4.0                              8.765899  10.072190  12.220694  13.234789   \n",
       "5.0                             14.022140  15.252153  17.958180  19.311193   \n",
       "6.0                             20.215727  23.291580  27.446068  29.485038   \n",
       "7.0                             25.292495  28.659755  33.368211  35.708171   \n",
       "8.0                             22.978723  25.929078  29.900709  31.659574   \n",
       "\n",
       "LoanFirstDefaultedCycleNumberQ       32.0       36.0       40.0       44.0  \n",
       "LoanMonthsSinceOriginationY                                                 \n",
       "0.0                                   NaN        NaN        NaN        NaN  \n",
       "1.0                                   NaN        NaN        NaN        NaN  \n",
       "2.0                             15.326508        NaN        NaN        NaN  \n",
       "3.0                             19.019658  19.211131  19.223896        NaN  \n",
       "4.0                             14.575455  15.177037  15.830182        NaN  \n",
       "5.0                             20.541205  21.156212  22.017220        NaN  \n",
       "6.0                             31.649269  32.713987  34.036186  34.043145  \n",
       "7.0                             38.761533  40.017122  41.396366        NaN  \n",
       "8.0                             34.269504  35.659574  36.964539        NaN  "
      ]
     },
     "execution_count": 12,
     "metadata": {},
     "output_type": "execute_result"
    }
   ],
   "source": [
    "# Transform from long to wide format\n",
    "df_vin_pvt = df_vintage.pivot(index='LoanMonthsSinceOriginationY', columns='LoanFirstDefaultedCycleNumberQ', values='BR')\n",
    "df_vin_pvt"
   ]
  },
  {
   "cell_type": "code",
   "execution_count": 13,
   "metadata": {
    "ExecuteTime": {
     "end_time": "2019-04-24T16:52:44.813059Z",
     "start_time": "2019-04-24T16:52:43.693339Z"
    }
   },
   "outputs": [
    {
     "data": {
      "text/plain": [
       "<AxesSubplot: xlabel='LoanFirstDefaultedCycleNumberQ'>"
      ]
     },
     "execution_count": 13,
     "metadata": {},
     "output_type": "execute_result"
    },
    {
     "data": {
      "image/png": "[encoded data removed]",
      "text/plain": [
       "<Figure size 1000x500 with 1 Axes>"
      ]
     },
     "metadata": {},
     "output_type": "display_data"
    }
   ],
   "source": [
    "df_vin_pvt.transpose().plot(figsize=(10, 5))"
   ]
  },
  {
   "cell_type": "markdown",
   "metadata": {},
   "source": [
    "**TODO 2** Explica qué aprendizajes se pueden leer en la gráfica anterior. Razona si los prestamos originados hace 7 años tienen un comportamiento parecido o diferente con respecto a los prestamos originados hace 3 años."
   ]
  },
  {
   "cell_type": "markdown",
   "metadata": {},
   "source": [
    "Escribe tu respuesta aquí: Tienen comportamientos diferentes. Los prestamos entre 6 y 8 años tienen una mayor tasa de impago que los préstamos más recientes."
   ]
  },
  {
   "cell_type": "markdown",
   "metadata": {},
   "source": [
    "## Good, bad, indeterminate definition"
   ]
  },
  {
   "cell_type": "markdown",
   "metadata": {},
   "source": [
    "**TODO 3** Implementa una función, que añada las siguientes columnas a nuestro dataframe df:\n",
    "- **PW**: Captura si el préstamo tiene una madurez(LoanMonthsSinceOrigination) mayor que la PW (Performance window). La variable de entrada PW_size captura el número de meses de la PW.\n",
    "- **fraud.**: Captura si el préstamo puede considerarse como un caso de fraude. En nuestro caso, consideramos fraude los préstamos que hayan tenido un evento de impago antes de TH_fraud.\n",
    "- **bad.**: Captura si el préstamo cumple la condición de malo. En nuestro caso, que el evento de impago haya ocurrido después de TH_fraud, y antes del final de la PW\n",
    "- **indeterm**: Captura si el préstamo se considera indeterminado. Definiremos indeterminados aquellos prestamos que han caído en impago después de la Performance window"
   ]
  },
  {
   "cell_type": "code",
   "execution_count": 14,
   "metadata": {
    "ExecuteTime": {
     "end_time": "2019-04-20T18:00:50.801632Z",
     "start_time": "2019-04-20T18:00:50.791028Z"
    }
   },
   "outputs": [],
   "source": [
    "# Use fraud threshold = 4 months\n",
    "\n",
    "def generate_pop_flags(df, PW_size, TH_fraud=4):\n",
    "    \"\"\"Generates fraud, bad, and indeterminate columns\n",
    "    \n",
    "    Args:\n",
    "        df: Pandas DataFrame with the input data\n",
    "        PW_size: Int Performance window size (months)\n",
    "        TH_fraud: Int number of months used as treshold for fraud\n",
    "        \n",
    "    Returns:\n",
    "        Pandas DataFrame with the columns that capture\n",
    "        PW, fraud, bad and indeterminate\n",
    "    \"\"\"\n",
    "    ## Implement the function HERE ##\n",
    "    df_ = df.copy()\n",
    "    #PW maturity\n",
    "    df_['PW'] = df_.LoanMonthsSinceOrigination >= PW_size\n",
    "    #handle fraud \n",
    "    df_['fraud'] = df_.LoanFirstDefaultedCycleNumber <= TH_fraud\n",
    "    #bad definition\n",
    "    df_['bad'] = (df_.LoanFirstDefaultedCycleNumber > TH_fraud) & (df_.LoanFirstDefaultedCycleNumber <= PW_size)\n",
    "    #indeterminates\n",
    "    df_['indeterm'] = (df_.LoanFirstDefaultedCycleNumber > PW_size)\n",
    "    return df_"
   ]
  },
  {
   "cell_type": "markdown",
   "metadata": {},
   "source": [
    "**TODO 4** Para diferentes PW_size (se recomiendan evaluar los siguientes valores: 6, 9, 12, 15 y 18), evalúa el volumen y ratio de prestamos con madurez, prestamos fraudulentos, prestamos que cumplan la definición de bad, y préstamos que se consideren indeterminados. Por último, argumenta cuál es el valor de PW_size que se debería usar. La función se debe usar con el valor por defecto de  TH_fraud=4"
   ]
  },
  {
   "cell_type": "code",
   "execution_count": 15,
   "metadata": {},
   "outputs": [
    {
     "name": "stdout",
     "output_type": "stream",
     "text": [
      "Results for PW=6\n"
     ]
    },
    {
     "data": {
      "text/plain": [
       "PW          0.766345\n",
       "fraud       0.004933\n",
       "bad         0.009619\n",
       "indeterm    0.134232\n",
       "dtype: float64"
      ]
     },
     "metadata": {},
     "output_type": "display_data"
    },
    {
     "name": "stdout",
     "output_type": "stream",
     "text": [
      "Results for PW=9\n"
     ]
    },
    {
     "data": {
      "text/plain": [
       "PW          0.685774\n",
       "fraud       0.004933\n",
       "bad         0.033712\n",
       "indeterm    0.110140\n",
       "dtype: float64"
      ]
     },
     "metadata": {},
     "output_type": "display_data"
    },
    {
     "name": "stdout",
     "output_type": "stream",
     "text": [
      "Results for PW=12\n"
     ]
    },
    {
     "data": {
      "text/plain": [
       "PW          0.623467\n",
       "fraud       0.004933\n",
       "bad         0.056145\n",
       "indeterm    0.087706\n",
       "dtype: float64"
      ]
     },
     "metadata": {},
     "output_type": "display_data"
    },
    {
     "name": "stdout",
     "output_type": "stream",
     "text": [
      "Results for PW=15\n"
     ]
    },
    {
     "data": {
      "text/plain": [
       "PW          0.591731\n",
       "fraud       0.004933\n",
       "bad         0.075709\n",
       "indeterm    0.068143\n",
       "dtype: float64"
      ]
     },
     "metadata": {},
     "output_type": "display_data"
    },
    {
     "name": "stdout",
     "output_type": "stream",
     "text": [
      "Results for PW=18\n"
     ]
    },
    {
     "data": {
      "text/plain": [
       "PW          0.552893\n",
       "fraud       0.004933\n",
       "bad         0.092639\n",
       "indeterm    0.051213\n",
       "dtype: float64"
      ]
     },
     "metadata": {},
     "output_type": "display_data"
    }
   ],
   "source": [
    "for pw_eval in [6, 9, 12, 15, 18]:\n",
    "    print(f\"Results for PW={pw_eval}\")\n",
    "    df_eval = generate_pop_flags(df, pw_eval)\n",
    "    display(df_eval[[\"PW\", \"fraud\", \"bad\", \"indeterm\"]].sum() / len(df_eval))"
   ]
  },
  {
   "cell_type": "code",
   "execution_count": 16,
   "metadata": {},
   "outputs": [],
   "source": [
    "PW_size = 12# Aplica el valor determinado en el TODO anterior\n",
    "df = generate_pop_flags(df, PW_size)"
   ]
  },
  {
   "cell_type": "markdown",
   "metadata": {},
   "source": [
    "## First exclusion set"
   ]
  },
  {
   "cell_type": "markdown",
   "metadata": {},
   "source": [
    "**TODO 5** Implementa una función que ejecutará las exclusiones a nuestro dataframe. La función debe excluir los siguientes préstamos:\n",
    "- Préstamos que tengan una madurez menor que la PW\n",
    "- Préstamos que se consideren como fraude\n",
    "    "
   ]
  },
  {
   "cell_type": "code",
   "execution_count": 17,
   "metadata": {},
   "outputs": [
    {
     "data": {
      "text/plain": [
       "0          True\n",
       "1         False\n",
       "2          True\n",
       "3          True\n",
       "4         False\n",
       "          ...  \n",
       "113932    False\n",
       "113933     True\n",
       "113934    False\n",
       "113935     True\n",
       "113936    False\n",
       "Name: PW, Length: 113937, dtype: bool"
      ]
     },
     "execution_count": 17,
     "metadata": {},
     "output_type": "execute_result"
    }
   ],
   "source": [
    "df[\"PW\"]"
   ]
  },
  {
   "cell_type": "code",
   "execution_count": 18,
   "metadata": {
    "ExecuteTime": {
     "end_time": "2019-04-12T20:26:21.645224Z",
     "start_time": "2019-04-12T20:26:21.501445Z"
    }
   },
   "outputs": [],
   "source": [
    "def filter_exclusions(df):\n",
    "    \"\"\"Function that handles the population definition\n",
    "    \n",
    "    Args:\n",
    "        df: Pandas DataFrame with the in time input data\n",
    "        \n",
    "    Returns:\n",
    "        Pandas DataFrame with the population definition applied\n",
    "    \"\"\"\n",
    "    ## Implement the function HERE ##\n",
    "    return df.loc[df[\"PW\"]].loc[~df[\"fraud\"]]\n",
    "    "
   ]
  },
  {
   "cell_type": "code",
   "execution_count": 19,
   "metadata": {
    "ExecuteTime": {
     "end_time": "2019-04-12T20:26:21.669661Z",
     "start_time": "2019-04-12T20:26:21.654986Z"
    }
   },
   "outputs": [
    {
     "name": "stdout",
     "output_type": "stream",
     "text": [
      "The DataSet has 70475 rows and 88 columns\n"
     ]
    }
   ],
   "source": [
    "df = filter_exclusions(df)\n",
    "print ('The DataSet has {} rows and {} columns'.format(df.shape[0], df.shape[1]))"
   ]
  },
  {
   "cell_type": "markdown",
   "metadata": {},
   "source": [
    "## Bad rate"
   ]
  },
  {
   "cell_type": "code",
   "execution_count": 20,
   "metadata": {
    "ExecuteTime": {
     "end_time": "2019-04-12T20:26:21.701528Z",
     "start_time": "2019-04-12T20:26:21.677973Z"
    }
   },
   "outputs": [
    {
     "data": {
      "text/plain": [
       "False    64266\n",
       "True      6209\n",
       "Name: bad, dtype: int64"
      ]
     },
     "execution_count": 20,
     "metadata": {},
     "output_type": "execute_result"
    }
   ],
   "source": [
    "df.bad.value_counts()"
   ]
  },
  {
   "cell_type": "code",
   "execution_count": 21,
   "metadata": {
    "ExecuteTime": {
     "end_time": "2019-04-12T20:26:21.733641Z",
     "start_time": "2019-04-12T20:26:21.709742Z"
    }
   },
   "outputs": [
    {
     "data": {
      "text/plain": [
       "False    91.189784\n",
       "True      8.810216\n",
       "Name: bad, dtype: float64"
      ]
     },
     "execution_count": 21,
     "metadata": {},
     "output_type": "execute_result"
    }
   ],
   "source": [
    "100. * df.bad.value_counts() / df.shape[0]"
   ]
  },
  {
   "cell_type": "code",
   "execution_count": 22,
   "metadata": {
    "ExecuteTime": {
     "end_time": "2019-04-12T20:26:21.802128Z",
     "start_time": "2019-04-12T20:26:21.742727Z"
    }
   },
   "outputs": [
    {
     "data": {
      "text/html": [
       "<div>\n",
       "<style scoped>\n",
       "    .dataframe tbody tr th:only-of-type {\n",
       "        vertical-align: middle;\n",
       "    }\n",
       "\n",
       "    .dataframe tbody tr th {\n",
       "        vertical-align: top;\n",
       "    }\n",
       "\n",
       "    .dataframe thead th {\n",
       "        text-align: right;\n",
       "    }\n",
       "</style>\n",
       "<table border=\"1\" class=\"dataframe\">\n",
       "  <thead>\n",
       "    <tr style=\"text-align: right;\">\n",
       "      <th></th>\n",
       "      <th>ListingCreationDate</th>\n",
       "      <th>LoanOriginationDate</th>\n",
       "    </tr>\n",
       "  </thead>\n",
       "  <tbody>\n",
       "    <tr>\n",
       "      <th>0</th>\n",
       "      <td>2007-08-26 19:09:29.263000000</td>\n",
       "      <td>2007-09-12 00:00:00</td>\n",
       "    </tr>\n",
       "    <tr>\n",
       "      <th>2</th>\n",
       "      <td>2007-01-05 15:00:47.090000000</td>\n",
       "      <td>2007-01-17 00:00:00</td>\n",
       "    </tr>\n",
       "    <tr>\n",
       "      <th>3</th>\n",
       "      <td>2012-10-22 11:02:35.010000000</td>\n",
       "      <td>2012-11-01 00:00:00</td>\n",
       "    </tr>\n",
       "    <tr>\n",
       "      <th>10</th>\n",
       "      <td>2012-05-10 07:04:01.577000000</td>\n",
       "      <td>2012-05-17 00:00:00</td>\n",
       "    </tr>\n",
       "    <tr>\n",
       "      <th>11</th>\n",
       "      <td>2007-10-09 20:28:33.640000000</td>\n",
       "      <td>2007-10-18 00:00:00</td>\n",
       "    </tr>\n",
       "  </tbody>\n",
       "</table>\n",
       "</div>"
      ],
      "text/plain": [
       "              ListingCreationDate  LoanOriginationDate\n",
       "0   2007-08-26 19:09:29.263000000  2007-09-12 00:00:00\n",
       "2   2007-01-05 15:00:47.090000000  2007-01-17 00:00:00\n",
       "3   2012-10-22 11:02:35.010000000  2012-11-01 00:00:00\n",
       "10  2012-05-10 07:04:01.577000000  2012-05-17 00:00:00\n",
       "11  2007-10-09 20:28:33.640000000  2007-10-18 00:00:00"
      ]
     },
     "execution_count": 22,
     "metadata": {},
     "output_type": "execute_result"
    }
   ],
   "source": [
    "df[['ListingCreationDate', 'LoanOriginationDate']].head()"
   ]
  },
  {
   "cell_type": "code",
   "execution_count": 23,
   "metadata": {
    "ExecuteTime": {
     "end_time": "2019-04-12T20:26:22.116898Z",
     "start_time": "2019-04-12T20:26:21.812209Z"
    }
   },
   "outputs": [],
   "source": [
    "df['LoanOriginationDate'] = pd.to_datetime(df.LoanOriginationDate.str[:10])\n",
    "df['LoanOriginationYear'] = pd.to_datetime(df.LoanOriginationDate.values).year"
   ]
  },
  {
   "cell_type": "markdown",
   "metadata": {},
   "source": [
    "## Additional exclusions"
   ]
  },
  {
   "cell_type": "markdown",
   "metadata": {},
   "source": [
    "Una vez aplicadas las exclusiones anteriores, vamos a estudiar la tasa de malos por año de origen del préstamo."
   ]
  },
  {
   "cell_type": "markdown",
   "metadata": {},
   "source": [
    "**TODO 6** Implementa una función agregue los préstamos por año (LoanOriginationYear), y compute el número de prestamos, el número de \"malos\" y la tasa de malos."
   ]
  },
  {
   "cell_type": "code",
   "execution_count": 24,
   "metadata": {
    "ExecuteTime": {
     "end_time": "2019-04-12T20:26:22.318720Z",
     "start_time": "2019-04-12T20:26:22.125984Z"
    }
   },
   "outputs": [],
   "source": [
    "def describe_yearly_BR(df, col_year, col_target):\n",
    "    \"\"\"Describes the yearly number of loans, bad loans and bad rate of the portfolio\n",
    "    \n",
    "    Args:\n",
    "        df: Pandas DataFrame with the input data\n",
    "        col_year: Name of the column that captures the loan origination date\n",
    "        col_target: Name of the target column\n",
    "        \n",
    "    Returns:\n",
    "        Pandas DataFrame with the yearly number of loans, bad \n",
    "        loans and bad rate of the portfolio \n",
    "    \"\"\"\n",
    "    ## Implement the function HERE ##\n",
    "    return df.groupby(col_year)[col_target].mean()"
   ]
  },
  {
   "cell_type": "code",
   "execution_count": 25,
   "metadata": {
    "ExecuteTime": {
     "end_time": "2019-04-12T20:26:22.463225Z",
     "start_time": "2019-04-12T20:26:22.328225Z"
    }
   },
   "outputs": [
    {
     "data": {
      "text/plain": [
       "LoanOriginationYear\n",
       "2005    0.000000\n",
       "2006    0.154414\n",
       "2007    0.133808\n",
       "2008    0.102533\n",
       "2009    0.048228\n",
       "2010    0.044990\n",
       "2011    0.073073\n",
       "2012    0.068611\n",
       "2013    0.035122\n",
       "Name: bad, dtype: float64"
      ]
     },
     "execution_count": 25,
     "metadata": {},
     "output_type": "execute_result"
    }
   ],
   "source": [
    "describe_yearly_BR(df, \"LoanOriginationYear\", \"bad\")"
   ]
  },
  {
   "cell_type": "markdown",
   "metadata": {},
   "source": [
    "**TODO 7** Usando los resultados obtenidos por la función describe_yearly_BR, define cuál será la Sample Window (qué años se consideraran para capturar préstamos en la población). La Sample Window debe de cumplir las siguientes condiciones: \n",
    "- Debe de tener un ratio de positivos (malos, en nuestro caso) aproximadamente constante\n",
    "- Debe de capturar un periodo que en principio debería representar el entorno en que se usará el modelo\n",
    "- Debe de capturar un periodo lo más reciente posible\n",
    "\n",
    "Define también qué periodo temporal capturará la muestra IT (In Time), y la muestra OOT (Out of time)."
   ]
  },
  {
   "cell_type": "markdown",
   "metadata": {},
   "source": [
    "### Final output sampling:\n",
    "\n",
    "   \n",
    "\n",
    " - IT (In Time):\n",
    "     - Train\n",
    "     - Validation \n",
    "     - Reject Inference sample\n",
    " - OOT (Out of time)\n"
   ]
  },
  {
   "cell_type": "code",
   "execution_count": 32,
   "metadata": {},
   "outputs": [
    {
     "data": {
      "text/plain": [
       "0         False\n",
       "2         False\n",
       "3         False\n",
       "10        False\n",
       "11        False\n",
       "          ...  \n",
       "113926    False\n",
       "113927    False\n",
       "113928    False\n",
       "113933    False\n",
       "113935    False\n",
       "Name: bad, Length: 70475, dtype: bool"
      ]
     },
     "execution_count": 32,
     "metadata": {},
     "output_type": "execute_result"
    }
   ],
   "source": [
    "df[\"bad\"]"
   ]
  },
  {
   "cell_type": "code",
   "execution_count": 26,
   "metadata": {},
   "outputs": [],
   "source": [
    "import datetime as dt"
   ]
  },
  {
   "cell_type": "code",
   "execution_count": 27,
   "metadata": {
    "ExecuteTime": {
     "end_time": "2019-04-12T20:26:22.567872Z",
     "start_time": "2019-04-12T20:26:22.471404Z"
    }
   },
   "outputs": [],
   "source": [
    "filtro1 = df.LoanOriginationYear >= 2009\n",
    "filtro2 = df.LoanOriginationDate <= dt.datetime(2012, 6, 30)\n",
    "df_it = df[(filtro1 & filtro2)] # Keep the time period as defined in the previous TODO\n",
    "# Split randomly in train, validation and RI\n",
    "# - 60% Train, 20% val, 20% RI\n",
    "df_train = df_it.sample(frac=0.6, random_state=42)\n",
    "df_val_ri = df_it.loc[~df_it.index.isin(df_train.index)]\n",
    "df_val = df_val_ri.sample(frac=0.5, random_state=42)\n",
    "df_ri = df_val_ri.loc[~df_val_ri.index.isin(df_val.index)]"
   ]
  },
  {
   "cell_type": "code",
   "execution_count": 28,
   "metadata": {},
   "outputs": [],
   "source": [
    "df_oot = df.loc[df.LoanOriginationDate > dt.datetime(2012, 6, 30)] # Keep the time period as defined in the previous TODO"
   ]
  },
  {
   "cell_type": "code",
   "execution_count": 29,
   "metadata": {},
   "outputs": [
    {
     "data": {
      "text/plain": [
       "(28311, 16987, 5662, 5662, 13669)"
      ]
     },
     "execution_count": 29,
     "metadata": {},
     "output_type": "execute_result"
    }
   ],
   "source": [
    "len(df_it), len(df_train), len(df_val), len(df_ri), len(df_oot)"
   ]
  },
  {
   "cell_type": "code",
   "execution_count": 30,
   "metadata": {
    "ExecuteTime": {
     "end_time": "2019-04-12T20:26:24.972769Z",
     "start_time": "2019-04-12T20:26:22.660105Z"
    }
   },
   "outputs": [],
   "source": [
    "# Write everything\n",
    "\"/Users/juan/Documents/Juan's MacBook Pro/CUNEF/Quinto/Credit Risk Analytics/data/prosperLoanData_oot.csv\"\n",
    "df_train.to_csv(\"/Users/juan/Documents/Juan's MacBook Pro/CUNEF/Quinto/Credit Risk Analytics/data/prosperLoanData_train.csv\", index=False)\n",
    "df_val.to_csv(\"/Users/juan/Documents/Juan's MacBook Pro/CUNEF/Quinto/Credit Risk Analytics/data/prosperLoanData_val.csv\", index=False)\n",
    "df_ri.to_csv(\"/Users/juan/Documents/Juan's MacBook Pro/CUNEF/Quinto/Credit Risk Analytics/data/prosperLoanData_ri.csv\", index=False)\n",
    "df_oot.to_csv(\"/Users/juan/Documents/Juan's MacBook Pro/CUNEF/Quinto/Credit Risk Analytics/data/prosperLoanData_oot.csv\", index=False)"
   ]
  },
  {
   "cell_type": "code",
   "execution_count": null,
   "metadata": {},
   "outputs": [],
   "source": []
  }
 ],
 "metadata": {
  "kernelspec": {
   "display_name": "Python 3 (ipykernel)",
   "language": "python",
   "name": "python3"
  },
  "language_info": {
   "codemirror_mode": {
    "name": "ipython",
    "version": 3
   },
   "file_extension": ".py",
   "mimetype": "text/x-python",
   "name": "python",
   "nbconvert_exporter": "python",
   "pygments_lexer": "ipython3",
   "version": "3.9.13"
  }
 },
 "nbformat": 4,
 "nbformat_minor": 2
}
