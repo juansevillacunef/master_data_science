{
 "cells": [
  {
   "cell_type": "markdown",
   "id": "40e5e6fe",
   "metadata": {},
   "source": [
    "Group members:\n",
    "\n",
    "Juan Sevilla Fernández\n",
    "\n",
    "Álvaro Cabrerizo de Garnica"
   ]
  },
  {
   "cell_type": "code",
   "execution_count": 1,
   "id": "95465177",
   "metadata": {},
   "outputs": [],
   "source": [
    "import pandas as pd\n",
    "import numpy as np"
   ]
  },
  {
   "cell_type": "code",
   "execution_count": 2,
   "id": "5ba0a3bd",
   "metadata": {},
   "outputs": [],
   "source": [
    "# You can download the data from\n",
    "# https://github.com/joashxu/prosper-loan-data/blob/master/dataset/prosperLoanData.csv\n",
    "\n",
    "# Dataset description\n",
    "# https://github.com/joashxu/prosper-loan-data/tree/master/dataset\n",
    "\n",
    "# Read the Prosper Loan Data\n",
    "df = pd.read_csv(\"/Users/juan/Documents/Juan's MacBook Pro/CUNEF/Quinto/Credit Risk Analytics/data/prosperLoanData.csv\")"
   ]
  },
  {
   "cell_type": "code",
   "execution_count": 3,
   "id": "7ae797b4",
   "metadata": {},
   "outputs": [
    {
     "data": {
      "text/plain": [
       "Index(['ListingKey', 'ListingNumber', 'ListingCreationDate', 'CreditGrade',\n",
       "       'Term', 'LoanStatus', 'ClosedDate', 'BorrowerAPR', 'BorrowerRate',\n",
       "       'LenderYield', 'EstimatedEffectiveYield', 'EstimatedLoss',\n",
       "       'EstimatedReturn', 'ProsperRating (numeric)', 'ProsperRating (Alpha)',\n",
       "       'ProsperScore', 'ListingCategory (numeric)', 'BorrowerState',\n",
       "       'Occupation', 'EmploymentStatus', 'EmploymentStatusDuration',\n",
       "       'IsBorrowerHomeowner', 'CurrentlyInGroup', 'GroupKey',\n",
       "       'DateCreditPulled', 'CreditScoreRangeLower', 'CreditScoreRangeUpper',\n",
       "       'FirstRecordedCreditLine', 'CurrentCreditLines', 'OpenCreditLines',\n",
       "       'TotalCreditLinespast7years', 'OpenRevolvingAccounts',\n",
       "       'OpenRevolvingMonthlyPayment', 'InquiriesLast6Months', 'TotalInquiries',\n",
       "       'CurrentDelinquencies', 'AmountDelinquent', 'DelinquenciesLast7Years',\n",
       "       'PublicRecordsLast10Years', 'PublicRecordsLast12Months',\n",
       "       'RevolvingCreditBalance', 'BankcardUtilization',\n",
       "       'AvailableBankcardCredit', 'TotalTrades',\n",
       "       'TradesNeverDelinquent (percentage)', 'TradesOpenedLast6Months',\n",
       "       'DebtToIncomeRatio', 'IncomeRange', 'IncomeVerifiable',\n",
       "       'StatedMonthlyIncome', 'LoanKey', 'TotalProsperLoans',\n",
       "       'TotalProsperPaymentsBilled', 'OnTimeProsperPayments',\n",
       "       'ProsperPaymentsLessThanOneMonthLate',\n",
       "       'ProsperPaymentsOneMonthPlusLate', 'ProsperPrincipalBorrowed',\n",
       "       'ProsperPrincipalOutstanding', 'ScorexChangeAtTimeOfListing',\n",
       "       'LoanCurrentDaysDelinquent', 'LoanFirstDefaultedCycleNumber',\n",
       "       'LoanMonthsSinceOrigination', 'LoanNumber', 'LoanOriginalAmount',\n",
       "       'LoanOriginationDate', 'LoanOriginationQuarter', 'MemberKey',\n",
       "       'MonthlyLoanPayment', 'LP_CustomerPayments',\n",
       "       'LP_CustomerPrincipalPayments', 'LP_InterestandFees', 'LP_ServiceFees',\n",
       "       'LP_CollectionFees', 'LP_GrossPrincipalLoss', 'LP_NetPrincipalLoss',\n",
       "       'LP_NonPrincipalRecoverypayments', 'PercentFunded', 'Recommendations',\n",
       "       'InvestmentFromFriendsCount', 'InvestmentFromFriendsAmount',\n",
       "       'Investors'],\n",
       "      dtype='object')"
      ]
     },
     "execution_count": 3,
     "metadata": {},
     "output_type": "execute_result"
    }
   ],
   "source": [
    "df.columns"
   ]
  },
  {
   "cell_type": "code",
   "execution_count": 4,
   "id": "5a3656fb",
   "metadata": {},
   "outputs": [
    {
     "data": {
      "text/plain": [
       "(113937, 81)"
      ]
     },
     "execution_count": 4,
     "metadata": {},
     "output_type": "execute_result"
    }
   ],
   "source": [
    "df.shape"
   ]
  },
  {
   "cell_type": "code",
   "execution_count": 5,
   "id": "026efbef",
   "metadata": {},
   "outputs": [
    {
     "data": {
      "text/html": [
       "<div>\n",
       "<style scoped>\n",
       "    .dataframe tbody tr th:only-of-type {\n",
       "        vertical-align: middle;\n",
       "    }\n",
       "\n",
       "    .dataframe tbody tr th {\n",
       "        vertical-align: top;\n",
       "    }\n",
       "\n",
       "    .dataframe thead th {\n",
       "        text-align: right;\n",
       "    }\n",
       "</style>\n",
       "<table border=\"1\" class=\"dataframe\">\n",
       "  <thead>\n",
       "    <tr style=\"text-align: right;\">\n",
       "      <th></th>\n",
       "      <th>ListingKey</th>\n",
       "      <th>ListingNumber</th>\n",
       "      <th>ListingCreationDate</th>\n",
       "      <th>CreditGrade</th>\n",
       "      <th>Term</th>\n",
       "      <th>LoanStatus</th>\n",
       "      <th>ClosedDate</th>\n",
       "      <th>BorrowerAPR</th>\n",
       "      <th>BorrowerRate</th>\n",
       "      <th>LenderYield</th>\n",
       "      <th>...</th>\n",
       "      <th>LP_ServiceFees</th>\n",
       "      <th>LP_CollectionFees</th>\n",
       "      <th>LP_GrossPrincipalLoss</th>\n",
       "      <th>LP_NetPrincipalLoss</th>\n",
       "      <th>LP_NonPrincipalRecoverypayments</th>\n",
       "      <th>PercentFunded</th>\n",
       "      <th>Recommendations</th>\n",
       "      <th>InvestmentFromFriendsCount</th>\n",
       "      <th>InvestmentFromFriendsAmount</th>\n",
       "      <th>Investors</th>\n",
       "    </tr>\n",
       "  </thead>\n",
       "  <tbody>\n",
       "    <tr>\n",
       "      <th>0</th>\n",
       "      <td>1021339766868145413AB3B</td>\n",
       "      <td>193129</td>\n",
       "      <td>2007-08-26 19:09:29.263000000</td>\n",
       "      <td>C</td>\n",
       "      <td>36</td>\n",
       "      <td>Completed</td>\n",
       "      <td>2009-08-14 00:00:00</td>\n",
       "      <td>0.16516</td>\n",
       "      <td>0.1580</td>\n",
       "      <td>0.1380</td>\n",
       "      <td>...</td>\n",
       "      <td>-133.18</td>\n",
       "      <td>0.0</td>\n",
       "      <td>0.0</td>\n",
       "      <td>0.0</td>\n",
       "      <td>0.0</td>\n",
       "      <td>1.0</td>\n",
       "      <td>0</td>\n",
       "      <td>0</td>\n",
       "      <td>0.0</td>\n",
       "      <td>258</td>\n",
       "    </tr>\n",
       "    <tr>\n",
       "      <th>1</th>\n",
       "      <td>10273602499503308B223C1</td>\n",
       "      <td>1209647</td>\n",
       "      <td>2014-02-27 08:28:07.900000000</td>\n",
       "      <td>NaN</td>\n",
       "      <td>36</td>\n",
       "      <td>Current</td>\n",
       "      <td>NaN</td>\n",
       "      <td>0.12016</td>\n",
       "      <td>0.0920</td>\n",
       "      <td>0.0820</td>\n",
       "      <td>...</td>\n",
       "      <td>0.00</td>\n",
       "      <td>0.0</td>\n",
       "      <td>0.0</td>\n",
       "      <td>0.0</td>\n",
       "      <td>0.0</td>\n",
       "      <td>1.0</td>\n",
       "      <td>0</td>\n",
       "      <td>0</td>\n",
       "      <td>0.0</td>\n",
       "      <td>1</td>\n",
       "    </tr>\n",
       "    <tr>\n",
       "      <th>2</th>\n",
       "      <td>0EE9337825851032864889A</td>\n",
       "      <td>81716</td>\n",
       "      <td>2007-01-05 15:00:47.090000000</td>\n",
       "      <td>HR</td>\n",
       "      <td>36</td>\n",
       "      <td>Completed</td>\n",
       "      <td>2009-12-17 00:00:00</td>\n",
       "      <td>0.28269</td>\n",
       "      <td>0.2750</td>\n",
       "      <td>0.2400</td>\n",
       "      <td>...</td>\n",
       "      <td>-24.20</td>\n",
       "      <td>0.0</td>\n",
       "      <td>0.0</td>\n",
       "      <td>0.0</td>\n",
       "      <td>0.0</td>\n",
       "      <td>1.0</td>\n",
       "      <td>0</td>\n",
       "      <td>0</td>\n",
       "      <td>0.0</td>\n",
       "      <td>41</td>\n",
       "    </tr>\n",
       "    <tr>\n",
       "      <th>3</th>\n",
       "      <td>0EF5356002482715299901A</td>\n",
       "      <td>658116</td>\n",
       "      <td>2012-10-22 11:02:35.010000000</td>\n",
       "      <td>NaN</td>\n",
       "      <td>36</td>\n",
       "      <td>Current</td>\n",
       "      <td>NaN</td>\n",
       "      <td>0.12528</td>\n",
       "      <td>0.0974</td>\n",
       "      <td>0.0874</td>\n",
       "      <td>...</td>\n",
       "      <td>-108.01</td>\n",
       "      <td>0.0</td>\n",
       "      <td>0.0</td>\n",
       "      <td>0.0</td>\n",
       "      <td>0.0</td>\n",
       "      <td>1.0</td>\n",
       "      <td>0</td>\n",
       "      <td>0</td>\n",
       "      <td>0.0</td>\n",
       "      <td>158</td>\n",
       "    </tr>\n",
       "    <tr>\n",
       "      <th>4</th>\n",
       "      <td>0F023589499656230C5E3E2</td>\n",
       "      <td>909464</td>\n",
       "      <td>2013-09-14 18:38:39.097000000</td>\n",
       "      <td>NaN</td>\n",
       "      <td>36</td>\n",
       "      <td>Current</td>\n",
       "      <td>NaN</td>\n",
       "      <td>0.24614</td>\n",
       "      <td>0.2085</td>\n",
       "      <td>0.1985</td>\n",
       "      <td>...</td>\n",
       "      <td>-60.27</td>\n",
       "      <td>0.0</td>\n",
       "      <td>0.0</td>\n",
       "      <td>0.0</td>\n",
       "      <td>0.0</td>\n",
       "      <td>1.0</td>\n",
       "      <td>0</td>\n",
       "      <td>0</td>\n",
       "      <td>0.0</td>\n",
       "      <td>20</td>\n",
       "    </tr>\n",
       "  </tbody>\n",
       "</table>\n",
       "<p>5 rows × 81 columns</p>\n",
       "</div>"
      ],
      "text/plain": [
       "                ListingKey  ListingNumber            ListingCreationDate  \\\n",
       "0  1021339766868145413AB3B         193129  2007-08-26 19:09:29.263000000   \n",
       "1  10273602499503308B223C1        1209647  2014-02-27 08:28:07.900000000   \n",
       "2  0EE9337825851032864889A          81716  2007-01-05 15:00:47.090000000   \n",
       "3  0EF5356002482715299901A         658116  2012-10-22 11:02:35.010000000   \n",
       "4  0F023589499656230C5E3E2         909464  2013-09-14 18:38:39.097000000   \n",
       "\n",
       "  CreditGrade  Term LoanStatus           ClosedDate  BorrowerAPR  \\\n",
       "0           C    36  Completed  2009-08-14 00:00:00      0.16516   \n",
       "1         NaN    36    Current                  NaN      0.12016   \n",
       "2          HR    36  Completed  2009-12-17 00:00:00      0.28269   \n",
       "3         NaN    36    Current                  NaN      0.12528   \n",
       "4         NaN    36    Current                  NaN      0.24614   \n",
       "\n",
       "   BorrowerRate  LenderYield  ...  LP_ServiceFees  LP_CollectionFees  \\\n",
       "0        0.1580       0.1380  ...         -133.18                0.0   \n",
       "1        0.0920       0.0820  ...            0.00                0.0   \n",
       "2        0.2750       0.2400  ...          -24.20                0.0   \n",
       "3        0.0974       0.0874  ...         -108.01                0.0   \n",
       "4        0.2085       0.1985  ...          -60.27                0.0   \n",
       "\n",
       "   LP_GrossPrincipalLoss  LP_NetPrincipalLoss LP_NonPrincipalRecoverypayments  \\\n",
       "0                    0.0                  0.0                             0.0   \n",
       "1                    0.0                  0.0                             0.0   \n",
       "2                    0.0                  0.0                             0.0   \n",
       "3                    0.0                  0.0                             0.0   \n",
       "4                    0.0                  0.0                             0.0   \n",
       "\n",
       "   PercentFunded  Recommendations InvestmentFromFriendsCount  \\\n",
       "0            1.0                0                          0   \n",
       "1            1.0                0                          0   \n",
       "2            1.0                0                          0   \n",
       "3            1.0                0                          0   \n",
       "4            1.0                0                          0   \n",
       "\n",
       "  InvestmentFromFriendsAmount Investors  \n",
       "0                         0.0       258  \n",
       "1                         0.0         1  \n",
       "2                         0.0        41  \n",
       "3                         0.0       158  \n",
       "4                         0.0        20  \n",
       "\n",
       "[5 rows x 81 columns]"
      ]
     },
     "execution_count": 5,
     "metadata": {},
     "output_type": "execute_result"
    }
   ],
   "source": [
    "df.head()"
   ]
  },
  {
   "cell_type": "markdown",
   "id": "2e5d4eaa",
   "metadata": {},
   "source": [
    "## 1"
   ]
  },
  {
   "cell_type": "markdown",
   "id": "b5c07bb8",
   "metadata": {},
   "source": [
    "Display the \"LoanStatus\" and \"Investors\" columns for the row with \"ListingNumber\" = 816108"
   ]
  },
  {
   "cell_type": "code",
   "execution_count": 6,
   "id": "048f4830",
   "metadata": {},
   "outputs": [
    {
     "data": {
      "text/html": [
       "<div>\n",
       "<style scoped>\n",
       "    .dataframe tbody tr th:only-of-type {\n",
       "        vertical-align: middle;\n",
       "    }\n",
       "\n",
       "    .dataframe tbody tr th {\n",
       "        vertical-align: top;\n",
       "    }\n",
       "\n",
       "    .dataframe thead th {\n",
       "        text-align: right;\n",
       "    }\n",
       "</style>\n",
       "<table border=\"1\" class=\"dataframe\">\n",
       "  <thead>\n",
       "    <tr style=\"text-align: right;\">\n",
       "      <th></th>\n",
       "      <th>ListingNumber</th>\n",
       "      <th>LoanStatus</th>\n",
       "      <th>Investors</th>\n",
       "    </tr>\n",
       "  </thead>\n",
       "  <tbody>\n",
       "    <tr>\n",
       "      <th>44</th>\n",
       "      <td>816108</td>\n",
       "      <td>Current</td>\n",
       "      <td>1</td>\n",
       "    </tr>\n",
       "  </tbody>\n",
       "</table>\n",
       "</div>"
      ],
      "text/plain": [
       "    ListingNumber LoanStatus  Investors\n",
       "44         816108    Current          1"
      ]
     },
     "execution_count": 6,
     "metadata": {},
     "output_type": "execute_result"
    }
   ],
   "source": [
    "## WRITE YOUR CODE HERE ##\n",
    "df1 = df.loc[df['ListingNumber'] == 816108]\n",
    "df1[['ListingNumber',\"LoanStatus\", \"Investors\"]]"
   ]
  },
  {
   "cell_type": "markdown",
   "id": "2f02f203",
   "metadata": {},
   "source": [
    "## 2"
   ]
  },
  {
   "cell_type": "markdown",
   "id": "29628e55",
   "metadata": {},
   "source": [
    "Create a new column called \"SingleInvestor\" which takes the value True if the column \"Investors\" is 1, and takes the value False otherwise"
   ]
  },
  {
   "cell_type": "code",
   "execution_count": 7,
   "id": "2697d224",
   "metadata": {},
   "outputs": [
    {
     "data": {
      "text/html": [
       "<div>\n",
       "<style scoped>\n",
       "    .dataframe tbody tr th:only-of-type {\n",
       "        vertical-align: middle;\n",
       "    }\n",
       "\n",
       "    .dataframe tbody tr th {\n",
       "        vertical-align: top;\n",
       "    }\n",
       "\n",
       "    .dataframe thead th {\n",
       "        text-align: right;\n",
       "    }\n",
       "</style>\n",
       "<table border=\"1\" class=\"dataframe\">\n",
       "  <thead>\n",
       "    <tr style=\"text-align: right;\">\n",
       "      <th></th>\n",
       "      <th>Investors</th>\n",
       "      <th>SingleInvestor</th>\n",
       "    </tr>\n",
       "  </thead>\n",
       "  <tbody>\n",
       "    <tr>\n",
       "      <th>0</th>\n",
       "      <td>258</td>\n",
       "      <td>False</td>\n",
       "    </tr>\n",
       "    <tr>\n",
       "      <th>1</th>\n",
       "      <td>1</td>\n",
       "      <td>True</td>\n",
       "    </tr>\n",
       "    <tr>\n",
       "      <th>2</th>\n",
       "      <td>41</td>\n",
       "      <td>False</td>\n",
       "    </tr>\n",
       "    <tr>\n",
       "      <th>3</th>\n",
       "      <td>158</td>\n",
       "      <td>False</td>\n",
       "    </tr>\n",
       "    <tr>\n",
       "      <th>4</th>\n",
       "      <td>20</td>\n",
       "      <td>False</td>\n",
       "    </tr>\n",
       "    <tr>\n",
       "      <th>5</th>\n",
       "      <td>1</td>\n",
       "      <td>True</td>\n",
       "    </tr>\n",
       "    <tr>\n",
       "      <th>6</th>\n",
       "      <td>1</td>\n",
       "      <td>True</td>\n",
       "    </tr>\n",
       "    <tr>\n",
       "      <th>7</th>\n",
       "      <td>1</td>\n",
       "      <td>True</td>\n",
       "    </tr>\n",
       "    <tr>\n",
       "      <th>8</th>\n",
       "      <td>1</td>\n",
       "      <td>True</td>\n",
       "    </tr>\n",
       "    <tr>\n",
       "      <th>9</th>\n",
       "      <td>1</td>\n",
       "      <td>True</td>\n",
       "    </tr>\n",
       "  </tbody>\n",
       "</table>\n",
       "</div>"
      ],
      "text/plain": [
       "   Investors  SingleInvestor\n",
       "0        258           False\n",
       "1          1            True\n",
       "2         41           False\n",
       "3        158           False\n",
       "4         20           False\n",
       "5          1            True\n",
       "6          1            True\n",
       "7          1            True\n",
       "8          1            True\n",
       "9          1            True"
      ]
     },
     "execution_count": 7,
     "metadata": {},
     "output_type": "execute_result"
    }
   ],
   "source": [
    "## WRITE YOUR CODE HERE ##\n",
    "df['SingleInvestor'] = (df['Investors']== 1) & (df['Investors']>=1)\n",
    "df[['Investors',\"SingleInvestor\"]].head(10)"
   ]
  },
  {
   "cell_type": "markdown",
   "id": "5e9df93a",
   "metadata": {},
   "source": [
    "## 3"
   ]
  },
  {
   "cell_type": "markdown",
   "id": "aca64d26",
   "metadata": {},
   "source": [
    "Count how many rows have NA as ProsperScore, and count how many rows have a ProsperScore higher than 8"
   ]
  },
  {
   "cell_type": "code",
   "execution_count": 8,
   "id": "c76fdd2f",
   "metadata": {},
   "outputs": [
    {
     "name": "stdout",
     "output_type": "stream",
     "text": [
      "There are 29084 instances where ProsperScore is NA\n"
     ]
    }
   ],
   "source": [
    "## WRITE YOUR CODE HERE ##\n",
    "df3NAs = df[\"ProsperScore\"].isna().sum()\n",
    "print( \"There are \" + str(df3NAs)+ \" instances where ProsperScore is NA\")"
   ]
  },
  {
   "cell_type": "code",
   "execution_count": 9,
   "id": "a6a7ab4c",
   "metadata": {},
   "outputs": [
    {
     "name": "stdout",
     "output_type": "stream",
     "text": [
      "There are 13117 instances where ProsperScore is higher than 8\n"
     ]
    }
   ],
   "source": [
    "df3 = df[df[\"ProsperScore\"] > 8]\n",
    "print( \"There are \" + str(len(df3))+ \" instances where ProsperScore is higher than 8\")"
   ]
  },
  {
   "cell_type": "markdown",
   "id": "8807ff58",
   "metadata": {},
   "source": [
    "## 4"
   ]
  },
  {
   "cell_type": "markdown",
   "id": "909ccdc8",
   "metadata": {},
   "source": [
    "Display how many rows and mean \"Investors\" we have per CreditGrade"
   ]
  },
  {
   "cell_type": "code",
   "execution_count": 10,
   "id": "667d402f",
   "metadata": {},
   "outputs": [
    {
     "data": {
      "text/html": [
       "<div>\n",
       "<style scoped>\n",
       "    .dataframe tbody tr th:only-of-type {\n",
       "        vertical-align: middle;\n",
       "    }\n",
       "\n",
       "    .dataframe tbody tr th {\n",
       "        vertical-align: top;\n",
       "    }\n",
       "\n",
       "    .dataframe thead tr th {\n",
       "        text-align: left;\n",
       "    }\n",
       "\n",
       "    .dataframe thead tr:last-of-type th {\n",
       "        text-align: right;\n",
       "    }\n",
       "</style>\n",
       "<table border=\"1\" class=\"dataframe\">\n",
       "  <thead>\n",
       "    <tr>\n",
       "      <th></th>\n",
       "      <th colspan=\"2\" halign=\"left\">Investors</th>\n",
       "    </tr>\n",
       "    <tr>\n",
       "      <th></th>\n",
       "      <th>count</th>\n",
       "      <th>mean</th>\n",
       "    </tr>\n",
       "    <tr>\n",
       "      <th>CreditGrade</th>\n",
       "      <th></th>\n",
       "      <th></th>\n",
       "    </tr>\n",
       "  </thead>\n",
       "  <tbody>\n",
       "    <tr>\n",
       "      <th>A</th>\n",
       "      <td>3315</td>\n",
       "      <td>186.689291</td>\n",
       "    </tr>\n",
       "    <tr>\n",
       "      <th>AA</th>\n",
       "      <td>3509</td>\n",
       "      <td>188.102023</td>\n",
       "    </tr>\n",
       "    <tr>\n",
       "      <th>B</th>\n",
       "      <td>4389</td>\n",
       "      <td>168.241285</td>\n",
       "    </tr>\n",
       "    <tr>\n",
       "      <th>C</th>\n",
       "      <td>5649</td>\n",
       "      <td>111.960701</td>\n",
       "    </tr>\n",
       "    <tr>\n",
       "      <th>D</th>\n",
       "      <td>5153</td>\n",
       "      <td>84.656705</td>\n",
       "    </tr>\n",
       "    <tr>\n",
       "      <th>E</th>\n",
       "      <td>3289</td>\n",
       "      <td>48.395257</td>\n",
       "    </tr>\n",
       "    <tr>\n",
       "      <th>HR</th>\n",
       "      <td>3508</td>\n",
       "      <td>30.510547</td>\n",
       "    </tr>\n",
       "    <tr>\n",
       "      <th>NC</th>\n",
       "      <td>141</td>\n",
       "      <td>28.617021</td>\n",
       "    </tr>\n",
       "  </tbody>\n",
       "</table>\n",
       "</div>"
      ],
      "text/plain": [
       "            Investors            \n",
       "                count        mean\n",
       "CreditGrade                      \n",
       "A                3315  186.689291\n",
       "AA               3509  188.102023\n",
       "B                4389  168.241285\n",
       "C                5649  111.960701\n",
       "D                5153   84.656705\n",
       "E                3289   48.395257\n",
       "HR               3508   30.510547\n",
       "NC                141   28.617021"
      ]
     },
     "execution_count": 10,
     "metadata": {},
     "output_type": "execute_result"
    }
   ],
   "source": [
    "## WRITE YOUR CODE HERE ##\n",
    "df.groupby([\"CreditGrade\"])[[ \"Investors\"]].aggregate(['count', 'mean'])\n"
   ]
  },
  {
   "cell_type": "markdown",
   "id": "381049df",
   "metadata": {},
   "source": [
    "## 5"
   ]
  },
  {
   "cell_type": "markdown",
   "id": "fa8b0b89",
   "metadata": {},
   "source": [
    "The \"LoanFirstDefaultedCycleNumber\" column captures the month in which the loan first defaulted. Create a column called fraud, that will be True if the loan was defaulted in less than 4 months. Calculate what is the fraud rate in the portfolio based on that new column."
   ]
  },
  {
   "cell_type": "code",
   "execution_count": 11,
   "id": "32226738",
   "metadata": {},
   "outputs": [
    {
     "name": "stdout",
     "output_type": "stream",
     "text": [
      "The fraud rate in the porfolio is 0.49%\n"
     ]
    }
   ],
   "source": [
    "df['Fraud'] = False\n",
    "df.loc[df['LoanFirstDefaultedCycleNumber'] < 4, 'Fraud'] = True\n",
    "Fr_rate = df['Fraud'].mean()\n",
    "print(\"The fraud rate in the porfolio is \" + str(round(Fr_rate*100, 2))+ \"%\")"
   ]
  },
  {
   "cell_type": "markdown",
   "id": "fcd22306",
   "metadata": {},
   "source": [
    "## 6"
   ]
  },
  {
   "cell_type": "markdown",
   "id": "54a1ec62",
   "metadata": {},
   "source": [
    "Create a new column called is_student, which will be true if the column \"Occupation\" contains the text \"Student\". Count how many rows and what is the fraud rate based on the is_student column."
   ]
  },
  {
   "cell_type": "code",
   "execution_count": 12,
   "id": "bf188f3d",
   "metadata": {},
   "outputs": [
    {
     "name": "stdout",
     "output_type": "stream",
     "text": [
      "There are 699 rows where the loan is given to a Student\n",
      "The fraud rate for students in the protfolio is 0.43%\n"
     ]
    }
   ],
   "source": [
    "## WRITE YOUR CODE HERE ##\n",
    "df[\"is_student\"] = df['Occupation'].str.contains('Student', case=False, na=False)\n",
    "df6 = df[['Occupation',\"is_student\", \"Fraud\"]].loc[df['is_student'] == True]\n",
    "\n",
    "Fr_st = df6['Fraud'].mean()\n",
    "\n",
    "print(\"There are \" + str(len(df6)) + \" rows where the loan is given to a Student\")\n",
    "print(\"The fraud rate for students in the protfolio is \" + str(round(Fr_st*100, 2))+ \"%\")"
   ]
  },
  {
   "cell_type": "markdown",
   "id": "c090b317",
   "metadata": {},
   "source": [
    "## 7"
   ]
  },
  {
   "cell_type": "markdown",
   "id": "048f776f",
   "metadata": {},
   "source": [
    "Study the fraud rate versus the \"IncomeRange\" columns. Is there any insight we can learn from it?"
   ]
  },
  {
   "cell_type": "code",
   "execution_count": 13,
   "id": "e081cbc4",
   "metadata": {},
   "outputs": [
    {
     "data": {
      "text/html": [
       "<div>\n",
       "<style scoped>\n",
       "    .dataframe tbody tr th:only-of-type {\n",
       "        vertical-align: middle;\n",
       "    }\n",
       "\n",
       "    .dataframe tbody tr th {\n",
       "        vertical-align: top;\n",
       "    }\n",
       "\n",
       "    .dataframe thead th {\n",
       "        text-align: right;\n",
       "    }\n",
       "</style>\n",
       "<table border=\"1\" class=\"dataframe\">\n",
       "  <thead>\n",
       "    <tr style=\"text-align: right;\">\n",
       "      <th></th>\n",
       "      <th>Fraud</th>\n",
       "    </tr>\n",
       "    <tr>\n",
       "      <th>IncomeRange</th>\n",
       "      <th></th>\n",
       "    </tr>\n",
       "  </thead>\n",
       "  <tbody>\n",
       "    <tr>\n",
       "      <th>Not displayed</th>\n",
       "      <td>1.46</td>\n",
       "    </tr>\n",
       "    <tr>\n",
       "      <th>$0</th>\n",
       "      <td>1.13</td>\n",
       "    </tr>\n",
       "    <tr>\n",
       "      <th>Not employed</th>\n",
       "      <td>0.62</td>\n",
       "    </tr>\n",
       "    <tr>\n",
       "      <th>$1-24,999</th>\n",
       "      <td>0.56</td>\n",
       "    </tr>\n",
       "    <tr>\n",
       "      <th>$50,000-74,999</th>\n",
       "      <td>0.46</td>\n",
       "    </tr>\n",
       "    <tr>\n",
       "      <th>$25,000-49,999</th>\n",
       "      <td>0.45</td>\n",
       "    </tr>\n",
       "    <tr>\n",
       "      <th>$75,000-99,999</th>\n",
       "      <td>0.41</td>\n",
       "    </tr>\n",
       "    <tr>\n",
       "      <th>$100,000+</th>\n",
       "      <td>0.21</td>\n",
       "    </tr>\n",
       "  </tbody>\n",
       "</table>\n",
       "</div>"
      ],
      "text/plain": [
       "                Fraud\n",
       "IncomeRange          \n",
       "Not displayed    1.46\n",
       "$0               1.13\n",
       "Not employed     0.62\n",
       "$1-24,999        0.56\n",
       "$50,000-74,999   0.46\n",
       "$25,000-49,999   0.45\n",
       "$75,000-99,999   0.41\n",
       "$100,000+        0.21"
      ]
     },
     "execution_count": 13,
     "metadata": {},
     "output_type": "execute_result"
    }
   ],
   "source": [
    "## WRITE YOUR CODE HERE ##\n",
    "round(df.groupby([\"IncomeRange\"])[[\"Fraud\"]].mean()*100, 2).sort_values(by = \"Fraud\", ascending = False)"
   ]
  },
  {
   "cell_type": "markdown",
   "id": "328fbe5a",
   "metadata": {},
   "source": [
    "#### EXPLAIN YOUR INSIGHTS HERE \n",
    "Clearly there is a higher Fraud rate for lower or no incomes. <br> \n",
    "It is understanable that people with lower income will look to borrow money without the intention of ever paying it back.  <br> \n",
    "The only Income Range that does not follow the trend is the $50,000-74,999\tbucket as it has a slightly higher rate than the 25,000-49,999 bucket"
   ]
  },
  {
   "cell_type": "markdown",
   "id": "d1db83bb",
   "metadata": {},
   "source": [
    "## 8"
   ]
  },
  {
   "cell_type": "markdown",
   "id": "c257eeba",
   "metadata": {},
   "source": [
    "Compute the correlation between the features in the next cell. Is there any insight we can learn from the correlation?"
   ]
  },
  {
   "cell_type": "code",
   "execution_count": 14,
   "id": "9354b5d9",
   "metadata": {},
   "outputs": [],
   "source": [
    "feats = [\"EmploymentStatusDuration\",\n",
    "         \"OpenRevolvingAccounts\", \n",
    "         \"OpenCreditLines\", \n",
    "         \"CreditScoreRangeLower\", \n",
    "         \"CreditScoreRangeUpper\"]"
   ]
  },
  {
   "cell_type": "code",
   "execution_count": 15,
   "id": "eb0c7db2",
   "metadata": {},
   "outputs": [
    {
     "data": {
      "text/html": [
       "<div>\n",
       "<style scoped>\n",
       "    .dataframe tbody tr th:only-of-type {\n",
       "        vertical-align: middle;\n",
       "    }\n",
       "\n",
       "    .dataframe tbody tr th {\n",
       "        vertical-align: top;\n",
       "    }\n",
       "\n",
       "    .dataframe thead th {\n",
       "        text-align: right;\n",
       "    }\n",
       "</style>\n",
       "<table border=\"1\" class=\"dataframe\">\n",
       "  <thead>\n",
       "    <tr style=\"text-align: right;\">\n",
       "      <th></th>\n",
       "      <th>EmploymentStatusDuration</th>\n",
       "      <th>OpenRevolvingAccounts</th>\n",
       "      <th>OpenCreditLines</th>\n",
       "      <th>CreditScoreRangeLower</th>\n",
       "      <th>CreditScoreRangeUpper</th>\n",
       "    </tr>\n",
       "  </thead>\n",
       "  <tbody>\n",
       "    <tr>\n",
       "      <th>EmploymentStatusDuration</th>\n",
       "      <td>1.000000</td>\n",
       "      <td>0.154702</td>\n",
       "      <td>0.139730</td>\n",
       "      <td>0.081134</td>\n",
       "      <td>0.081134</td>\n",
       "    </tr>\n",
       "    <tr>\n",
       "      <th>OpenRevolvingAccounts</th>\n",
       "      <td>0.154702</td>\n",
       "      <td>1.000000</td>\n",
       "      <td>0.885448</td>\n",
       "      <td>0.210659</td>\n",
       "      <td>0.210659</td>\n",
       "    </tr>\n",
       "    <tr>\n",
       "      <th>OpenCreditLines</th>\n",
       "      <td>0.139730</td>\n",
       "      <td>0.885448</td>\n",
       "      <td>1.000000</td>\n",
       "      <td>0.148210</td>\n",
       "      <td>0.148210</td>\n",
       "    </tr>\n",
       "    <tr>\n",
       "      <th>CreditScoreRangeLower</th>\n",
       "      <td>0.081134</td>\n",
       "      <td>0.210659</td>\n",
       "      <td>0.148210</td>\n",
       "      <td>1.000000</td>\n",
       "      <td>1.000000</td>\n",
       "    </tr>\n",
       "    <tr>\n",
       "      <th>CreditScoreRangeUpper</th>\n",
       "      <td>0.081134</td>\n",
       "      <td>0.210659</td>\n",
       "      <td>0.148210</td>\n",
       "      <td>1.000000</td>\n",
       "      <td>1.000000</td>\n",
       "    </tr>\n",
       "  </tbody>\n",
       "</table>\n",
       "</div>"
      ],
      "text/plain": [
       "                          EmploymentStatusDuration  OpenRevolvingAccounts  \\\n",
       "EmploymentStatusDuration                  1.000000               0.154702   \n",
       "OpenRevolvingAccounts                     0.154702               1.000000   \n",
       "OpenCreditLines                           0.139730               0.885448   \n",
       "CreditScoreRangeLower                     0.081134               0.210659   \n",
       "CreditScoreRangeUpper                     0.081134               0.210659   \n",
       "\n",
       "                          OpenCreditLines  CreditScoreRangeLower  \\\n",
       "EmploymentStatusDuration         0.139730               0.081134   \n",
       "OpenRevolvingAccounts            0.885448               0.210659   \n",
       "OpenCreditLines                  1.000000               0.148210   \n",
       "CreditScoreRangeLower            0.148210               1.000000   \n",
       "CreditScoreRangeUpper            0.148210               1.000000   \n",
       "\n",
       "                          CreditScoreRangeUpper  \n",
       "EmploymentStatusDuration               0.081134  \n",
       "OpenRevolvingAccounts                  0.210659  \n",
       "OpenCreditLines                        0.148210  \n",
       "CreditScoreRangeLower                  1.000000  \n",
       "CreditScoreRangeUpper                  1.000000  "
      ]
     },
     "execution_count": 15,
     "metadata": {},
     "output_type": "execute_result"
    }
   ],
   "source": [
    "## WRITE YOUR CODE HERE ##\n",
    "df[feats].corr()"
   ]
  },
  {
   "cell_type": "markdown",
   "id": "5b4800ef",
   "metadata": {},
   "source": [
    "#### EXPLAIN YOUR INSIGHTS HERE \n",
    "\n",
    "There are only two correlations that exceed 80% in absolute value. These are: <ol>\n",
    "        <li> OpenCreditLines and OpenRevolvingAccounts, which means that the more credit lines the the account has, the more likely and more often it is for them to miss payment on these creidit lines or cards (this is known as revolving)</li>\n",
    "       <li>  There is a perfect correlation between CreditScoreRangeLower and CreditScoreRangeUpper, which means the the range for the credit score has a fixed width and these two limits go up or down in perfect parity and always by the same amount.</li></ol><br>\n",
    "      \n",
    "      \n",
    "The next strongest correlation is 21% which is between the nuber of OpenRevolvingAccounts and the CreditScoreRange. This is surpising as it suggests that, although to a lower degree,the higher the credit score, the higher the number of revolving lines (late payments on credit lines). It is surpising because a \"bad\" client factor should not positvely correlate with the credit score.\n",
    "        \n",
    "        "
   ]
  },
  {
   "cell_type": "code",
   "execution_count": null,
   "id": "b3eb29e2",
   "metadata": {},
   "outputs": [],
   "source": []
  }
 ],
 "metadata": {
  "kernelspec": {
   "display_name": "Python 3 (ipykernel)",
   "language": "python",
   "name": "python3"
  },
  "language_info": {
   "codemirror_mode": {
    "name": "ipython",
    "version": 3
   },
   "file_extension": ".py",
   "mimetype": "text/x-python",
   "name": "python",
   "nbconvert_exporter": "python",
   "pygments_lexer": "ipython3",
   "version": "3.9.13"
  }
 },
 "nbformat": 4,
 "nbformat_minor": 5
}
