{
 "cells": [
  {
   "cell_type": "markdown",
   "id": "43749ac0",
   "metadata": {},
   "source": [
    "# Práctica 1: Introducción a Python"
   ]
  },
  {
   "cell_type": "markdown",
   "id": "5d77e852",
   "metadata": {},
   "source": [
    "### Juan Sevilla Fernández y Álvaro Cabrerizo de Garnica "
   ]
  },
  {
   "cell_type": "markdown",
   "id": "1fa4843c",
   "metadata": {},
   "source": [
    "#### 1"
   ]
  },
  {
   "cell_type": "markdown",
   "id": "c9272c87",
   "metadata": {},
   "source": [
    "Write a function, that receives a string, and displays the characteres that are present at an even index number. Execute it with two different input strings."
   ]
  },
  {
   "cell_type": "code",
   "execution_count": 1,
   "id": "00a19e6d",
   "metadata": {},
   "outputs": [],
   "source": [
    "# EXAMPLE: get_evenidx(\"abcdef\") shoud return \"ace\""
   ]
  },
  {
   "cell_type": "code",
   "execution_count": 2,
   "id": "1d4906dd",
   "metadata": {},
   "outputs": [],
   "source": [
    "## DEFINE THE FUNCTION HERE ##\n",
    "def get_evenidx(string):\n",
    "    return string[::2]"
   ]
  },
  {
   "cell_type": "code",
   "execution_count": 3,
   "id": "1921d4ee",
   "metadata": {},
   "outputs": [
    {
     "data": {
      "text/plain": [
       "'Ilv rdtrs'"
      ]
     },
     "execution_count": 3,
     "metadata": {},
     "output_type": "execute_result"
    }
   ],
   "source": [
    "# execution 1. Input string = \"I love credit risk\"\n",
    "get_evenidx(\"I love credit risk\")"
   ]
  },
  {
   "cell_type": "code",
   "execution_count": 4,
   "id": "a3deddf2",
   "metadata": {},
   "outputs": [
    {
     "data": {
      "text/plain": [
       "'Pto  sfn'"
      ]
     },
     "execution_count": 4,
     "metadata": {},
     "output_type": "execute_result"
    }
   ],
   "source": [
    "# execution 2. Input string = \"Python 3 is fun\"\n",
    "get_evenidx(\"Python 3 is fun\")"
   ]
  },
  {
   "cell_type": "markdown",
   "id": "57709517",
   "metadata": {},
   "source": [
    "#### 2\n"
   ]
  },
  {
   "cell_type": "markdown",
   "id": "a2a50156",
   "metadata": {},
   "source": [
    "Write a function that will accept the base and height of a triangle and compute the area."
   ]
  },
  {
   "cell_type": "code",
   "execution_count": 5,
   "id": "c8f07218",
   "metadata": {},
   "outputs": [],
   "source": [
    "# EXAMPLE: area_triangle(base=3, height=2) should return 3. Area = 1/2 * base * height"
   ]
  },
  {
   "cell_type": "code",
   "execution_count": 6,
   "id": "03007d3f",
   "metadata": {},
   "outputs": [],
   "source": [
    "## DEFINE THE FUNCTION HERE ##\n",
    "def area_triangle(base=0, height=0):\n",
    "    return base*height*0.5"
   ]
  },
  {
   "cell_type": "code",
   "execution_count": 7,
   "id": "fa475121",
   "metadata": {},
   "outputs": [
    {
     "data": {
      "text/plain": [
       "2.5"
      ]
     },
     "execution_count": 7,
     "metadata": {},
     "output_type": "execute_result"
    }
   ],
   "source": [
    "# execution 1. Inputs: base=5, height=1\n",
    "\n",
    "## WRITE YOUR CODE HERE ##\n",
    "area_triangle(base=5, height=1)"
   ]
  },
  {
   "cell_type": "code",
   "execution_count": 8,
   "id": "8537cfd1",
   "metadata": {},
   "outputs": [
    {
     "data": {
      "text/plain": [
       "7.0"
      ]
     },
     "execution_count": 8,
     "metadata": {},
     "output_type": "execute_result"
    }
   ],
   "source": [
    "# execution 2. Inputs: base=2, height=7\n",
    "\n",
    "## WRITE YOUR CODE HERE ##\n",
    "area_triangle(base=2, height=7)"
   ]
  },
  {
   "cell_type": "markdown",
   "id": "463bf958",
   "metadata": {},
   "source": [
    "#### 3"
   ]
  },
  {
   "cell_type": "markdown",
   "id": "85ceb09f",
   "metadata": {},
   "source": [
    "Write a function that checks whether if the first and last element of a list is the same."
   ]
  },
  {
   "cell_type": "code",
   "execution_count": 9,
   "id": "8c1dc712",
   "metadata": {},
   "outputs": [],
   "source": [
    "# EXAMPLE: check_extremes([1, 2, 'a', 'z', 1]) should return True\n",
    "# EXAMPLE: check_extremes([1, 2, 'a', 'z', '@']) should return False"
   ]
  },
  {
   "cell_type": "code",
   "execution_count": 10,
   "id": "9f6561a5",
   "metadata": {},
   "outputs": [],
   "source": [
    "## DEFINE THE FUNCTION HERE ##\n",
    "def check_extremes(list1):\n",
    "    return True if list1[0]==list1[-1] else False"
   ]
  },
  {
   "cell_type": "code",
   "execution_count": 11,
   "id": "6fde678e",
   "metadata": {},
   "outputs": [
    {
     "data": {
      "text/plain": [
       "False"
      ]
     },
     "execution_count": 11,
     "metadata": {},
     "output_type": "execute_result"
    }
   ],
   "source": [
    "# Execution 1. Inputs: [1, 2, 3, 4, 5, 6, 7]\n",
    "\n",
    "## WRITE YOUR CODE HERE ##\n",
    "check_extremes([1, 2, 3, 4, 5, 6, 7])"
   ]
  },
  {
   "cell_type": "code",
   "execution_count": 12,
   "id": "041f20ce",
   "metadata": {},
   "outputs": [
    {
     "data": {
      "text/plain": [
       "True"
      ]
     },
     "execution_count": 12,
     "metadata": {},
     "output_type": "execute_result"
    }
   ],
   "source": [
    "# Execution 2. Inputs: [9, 'w', '3', 1, 9]\n",
    "\n",
    "## WRITE YOUR CODE HERE ##\n",
    "check_extremes([9, 'w', '3', 1, 9])"
   ]
  },
  {
   "cell_type": "markdown",
   "id": "d9fc29b4",
   "metadata": {},
   "source": [
    "#### 4"
   ]
  },
  {
   "cell_type": "markdown",
   "id": "ff806bbc",
   "metadata": {},
   "source": [
    "\n",
    "Write a function, which receives two lists, and returns the sorted unique elements of both lists."
   ]
  },
  {
   "cell_type": "code",
   "execution_count": 13,
   "id": "5cc54ec1",
   "metadata": {},
   "outputs": [],
   "source": [
    "# EXAMPLE: unique_sorted([1, 3, 2, 2], [0, 1, 0, -1]) should return [-1, 0, 1, 2, 3]"
   ]
  },
  {
   "cell_type": "code",
   "execution_count": 14,
   "id": "59e788e3",
   "metadata": {},
   "outputs": [],
   "source": [
    "## DEFINE THE FUNCTION HERE ##\n",
    "def unique_sorted(list1, list2):\n",
    "    return sorted(set(list1).union(set(list2)))"
   ]
  },
  {
   "cell_type": "code",
   "execution_count": 15,
   "id": "3856d9ec",
   "metadata": {},
   "outputs": [
    {
     "data": {
      "text/plain": [
       "[-1, 0, 1, 2, 3, 4, 5, 999]"
      ]
     },
     "execution_count": 15,
     "metadata": {},
     "output_type": "execute_result"
    }
   ],
   "source": [
    "# Execution 1. Inputs: [-1, 2, 3, 0, -1, 0, 5], [1, 2, 3, 4, 5, 999]\n",
    "\n",
    "## WRITE YOUR CODE HERE ##\n",
    "list1 = [-1, 2, 3, 0, -1, 0, 5]\n",
    "list2 = [1, 2, 3, 4, 5, 999]\n",
    "\n",
    "unique_sorted(list1, list2)"
   ]
  },
  {
   "cell_type": "code",
   "execution_count": 16,
   "id": "ddc08967",
   "metadata": {},
   "outputs": [
    {
     "data": {
      "text/plain": [
       "[-5, -4, 3.14, 4, 8, 9, 10, 44]"
      ]
     },
     "execution_count": 16,
     "metadata": {},
     "output_type": "execute_result"
    }
   ],
   "source": [
    "# Execution 1. Inputs: [10, -5, 3.14, 8, 9, 4], [44, 4, 9, -4, -5]\n",
    "\n",
    "## WRITE YOUR CODE HERE ##\n",
    "list3 = [10, -5, 3.14, 8, 9, 4]\n",
    "list4 = [44, 4, 9, -4, -5]\n",
    "\n",
    "unique_sorted(list3, list4)"
   ]
  },
  {
   "cell_type": "markdown",
   "id": "0e6a1f08",
   "metadata": {},
   "source": [
    "#### 5"
   ]
  },
  {
   "cell_type": "markdown",
   "id": "a245b614",
   "metadata": {},
   "source": [
    "Write a function that checks whether if a number is a Palindrome number."
   ]
  },
  {
   "cell_type": "code",
   "execution_count": 17,
   "id": "e712cbce",
   "metadata": {},
   "outputs": [],
   "source": [
    "# EXAMPLE: is_palindrome(141) should return True\n",
    "# EXAMPLE: is_palindrome(142) should return False"
   ]
  },
  {
   "cell_type": "code",
   "execution_count": 18,
   "id": "298152de",
   "metadata": {},
   "outputs": [],
   "source": [
    "## DEFINE THE FUNCTION HERE ##\n",
    "def is_palindrome(n):\n",
    "    return str(n) == str(n)[::-1]"
   ]
  },
  {
   "cell_type": "code",
   "execution_count": 19,
   "id": "5aff944f",
   "metadata": {},
   "outputs": [
    {
     "data": {
      "text/plain": [
       "True"
      ]
     },
     "execution_count": 19,
     "metadata": {},
     "output_type": "execute_result"
    }
   ],
   "source": [
    "# Execution 1. Input: 252\n",
    "\n",
    "## WRITE YOUR CODE HERE ##\n",
    "is_palindrome(252)"
   ]
  },
  {
   "cell_type": "code",
   "execution_count": 20,
   "id": "c7c4f69e",
   "metadata": {},
   "outputs": [
    {
     "data": {
      "text/plain": [
       "False"
      ]
     },
     "execution_count": 20,
     "metadata": {},
     "output_type": "execute_result"
    }
   ],
   "source": [
    "# Execution 2. Inputs: 1000\n",
    "\n",
    "## WRITE YOUR CODE HERE ##\n",
    "is_palindrome(1000)"
   ]
  },
  {
   "cell_type": "markdown",
   "id": "fe831b19",
   "metadata": {},
   "source": [
    "#### 6"
   ]
  },
  {
   "cell_type": "markdown",
   "id": "cfd709ec",
   "metadata": {},
   "source": [
    "Write a function that receives a dictionary and a list, and removes from the dictionary the keys contained in the input list"
   ]
  },
  {
   "cell_type": "code",
   "execution_count": 21,
   "id": "62d8f714",
   "metadata": {},
   "outputs": [],
   "source": [
    "# EXAMPLE: \n",
    "# input_dict = {\"name\": \"Sergio\",\n",
    "#               \"age\": 31,\n",
    "#               \"city\": \"Madrid\",\n",
    "#               \"salary\": 100}\n",
    "\n",
    "# remove_keys(input_dict, [\"age\", \"salary\"]) should return \n",
    "\n",
    "# {\"name\": \"Sergio\",\n",
    "#  \"city\": \"Madrid\"}"
   ]
  },
  {
   "cell_type": "code",
   "execution_count": 22,
   "id": "b897f280",
   "metadata": {},
   "outputs": [],
   "source": [
    "## DEFINE THE FUNCTION HERE ##\n",
    "def remove_keys(d, l):\n",
    "    for k in l: d.pop(k, None)\n",
    "    return d"
   ]
  },
  {
   "cell_type": "code",
   "execution_count": 23,
   "id": "3c483a80",
   "metadata": {},
   "outputs": [
    {
     "data": {
      "text/plain": [
       "{'age': 31, 'salary': 100}"
      ]
     },
     "execution_count": 23,
     "metadata": {},
     "output_type": "execute_result"
    }
   ],
   "source": [
    "# Execution 1. Inputs: \n",
    "\n",
    "# Input dictionry:\n",
    "#              {\"name\": \"Sergio\",\n",
    "#               \"age\": 31,\n",
    "#               \"city\": \"Madrid\",\n",
    "#               \"salary\": 100}\n",
    "\n",
    "# Input list: [\"name\", \"city\"]\n",
    "\n",
    "## WRITE YOUR CODE HERE ##\n",
    "input_dict = {\"name\": \"Sergio\",\n",
    "               \"age\": 31,\n",
    "               \"city\": \"Madrid\",\n",
    "               \"salary\": 100}\n",
    "input_list = [\"name\", \"city\"]\n",
    "\n",
    "remove_keys(input_dict, input_list)"
   ]
  },
  {
   "cell_type": "code",
   "execution_count": 24,
   "id": "ff1107b9",
   "metadata": {},
   "outputs": [
    {
     "data": {
      "text/plain": [
       "{'interests': ['Sports', 'Economy', 'Programming'],\n",
       " 'last_online': '2021-12-01'}"
      ]
     },
     "execution_count": 24,
     "metadata": {},
     "output_type": "execute_result"
    }
   ],
   "source": [
    "# Execution 2. Inputs: \n",
    "\n",
    "# Input dictionry:\n",
    "#              {\"interests\": [\"Sports\", \"Economy\", \"Programming\"],\n",
    "#               \"userid\": 8952589\n",
    "#               \"country\": \"Spain\",\n",
    "#               \"last_online\": \"2021-12-01\"}\n",
    "\n",
    "# Input list: [\"userid\", \"country\"] \n",
    "\n",
    "## WRITE YOUR CODE HERE ##\n",
    "input_dict = {\"interests\": [\"Sports\", \"Economy\", \"Programming\"],\n",
    "              \"userid\": 8952589,\n",
    "              \"country\": \"Spain\",\n",
    "              \"last_online\": \"2021-12-01\"}\n",
    "input_list = [\"userid\", \"country\"] \n",
    "\n",
    "remove_keys(input_dict, input_list)"
   ]
  }
 ],
 "metadata": {
  "kernelspec": {
   "display_name": "Python 3 (ipykernel)",
   "language": "python",
   "name": "python3"
  },
  "language_info": {
   "codemirror_mode": {
    "name": "ipython",
    "version": 3
   },
   "file_extension": ".py",
   "mimetype": "text/x-python",
   "name": "python",
   "nbconvert_exporter": "python",
   "pygments_lexer": "ipython3",
   "version": "3.9.7"
  }
 },
 "nbformat": 4,
 "nbformat_minor": 5
}
