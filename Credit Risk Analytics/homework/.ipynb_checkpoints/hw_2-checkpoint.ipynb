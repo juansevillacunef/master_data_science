{
 "cells": [
  {
   "cell_type": "markdown",
   "id": "40e5e6fe",
   "metadata": {},
   "source": [
    "Group members:\n",
    "* Juan Sevilla Fernández\n",
    "* Alvaro Caberizo Garnica"
   ]
  },
  {
   "cell_type": "code",
   "execution_count": 1,
   "id": "95465177",
   "metadata": {},
   "outputs": [],
   "source": [
    "import pandas as pd"
   ]
  },
  {
   "cell_type": "code",
   "execution_count": 5,
   "id": "5ba0a3bd",
   "metadata": {},
   "outputs": [],
   "source": [
    "# You can download the data from\n",
    "# https://github.com/joashxu/prosper-loan-data/blob/master/dataset/prosperLoanData.csv \n",
    "\n",
    "# Dataset description\n",
    "# https://github.com/joashxu/prosper-loan-data/tree/master/dataset\n",
    "\n",
    "# Read the Prosper Loan Data\n",
    "url = \"https://github.com/joashxu/prosper-loan-data/blob/master/dataset/prosperLoanData.csv?raw=true\"\n",
    "df = pd.read_csv(url)"
   ]
  },
  {
   "cell_type": "code",
   "execution_count": 3,
   "id": "7ae797b4",
   "metadata": {},
   "outputs": [
    {
     "data": {
      "text/plain": [
       "Index(['ListingKey', 'ListingNumber', 'ListingCreationDate', 'CreditGrade',\n",
       "       'Term', 'LoanStatus', 'ClosedDate', 'BorrowerAPR', 'BorrowerRate',\n",
       "       'LenderYield', 'EstimatedEffectiveYield', 'EstimatedLoss',\n",
       "       'EstimatedReturn', 'ProsperRating (numeric)', 'ProsperRating (Alpha)',\n",
       "       'ProsperScore', 'ListingCategory (numeric)', 'BorrowerState',\n",
       "       'Occupation', 'EmploymentStatus', 'EmploymentStatusDuration',\n",
       "       'IsBorrowerHomeowner', 'CurrentlyInGroup', 'GroupKey',\n",
       "       'DateCreditPulled', 'CreditScoreRangeLower', 'CreditScoreRangeUpper',\n",
       "       'FirstRecordedCreditLine', 'CurrentCreditLines', 'OpenCreditLines',\n",
       "       'TotalCreditLinespast7years', 'OpenRevolvingAccounts',\n",
       "       'OpenRevolvingMonthlyPayment', 'InquiriesLast6Months', 'TotalInquiries',\n",
       "       'CurrentDelinquencies', 'AmountDelinquent', 'DelinquenciesLast7Years',\n",
       "       'PublicRecordsLast10Years', 'PublicRecordsLast12Months',\n",
       "       'RevolvingCreditBalance', 'BankcardUtilization',\n",
       "       'AvailableBankcardCredit', 'TotalTrades',\n",
       "       'TradesNeverDelinquent (percentage)', 'TradesOpenedLast6Months',\n",
       "       'DebtToIncomeRatio', 'IncomeRange', 'IncomeVerifiable',\n",
       "       'StatedMonthlyIncome', 'LoanKey', 'TotalProsperLoans',\n",
       "       'TotalProsperPaymentsBilled', 'OnTimeProsperPayments',\n",
       "       'ProsperPaymentsLessThanOneMonthLate',\n",
       "       'ProsperPaymentsOneMonthPlusLate', 'ProsperPrincipalBorrowed',\n",
       "       'ProsperPrincipalOutstanding', 'ScorexChangeAtTimeOfListing',\n",
       "       'LoanCurrentDaysDelinquent', 'LoanFirstDefaultedCycleNumber',\n",
       "       'LoanMonthsSinceOrigination', 'LoanNumber', 'LoanOriginalAmount',\n",
       "       'LoanOriginationDate', 'LoanOriginationQuarter', 'MemberKey',\n",
       "       'MonthlyLoanPayment', 'LP_CustomerPayments',\n",
       "       'LP_CustomerPrincipalPayments', 'LP_InterestandFees', 'LP_ServiceFees',\n",
       "       'LP_CollectionFees', 'LP_GrossPrincipalLoss', 'LP_NetPrincipalLoss',\n",
       "       'LP_NonPrincipalRecoverypayments', 'PercentFunded', 'Recommendations',\n",
       "       'InvestmentFromFriendsCount', 'InvestmentFromFriendsAmount',\n",
       "       'Investors'],\n",
       "      dtype='object')"
      ]
     },
     "execution_count": 3,
     "metadata": {},
     "output_type": "execute_result"
    }
   ],
   "source": [
    "df.columns"
   ]
  },
  {
   "cell_type": "markdown",
   "id": "2e5d4eaa",
   "metadata": {},
   "source": [
    "## 1"
   ]
  },
  {
   "cell_type": "markdown",
   "id": "b5c07bb8",
   "metadata": {},
   "source": [
    "Display the \"LoanStatus\" and \"Investors\" columns for the row with \"ListingNumber\" = 816108"
   ]
  },
  {
   "cell_type": "code",
   "execution_count": 11,
   "id": "048f4830",
   "metadata": {},
   "outputs": [],
   "source": [
    "## WRITE YOUR CODE HERE ##"
   ]
  },
  {
   "cell_type": "markdown",
   "id": "2f02f203",
   "metadata": {},
   "source": [
    "## 2"
   ]
  },
  {
   "cell_type": "markdown",
   "id": "29628e55",
   "metadata": {},
   "source": [
    "Create a new column called \"SingleInvestor\" which takes the value True if the column \"Investors\" is 1, and takes the value False otherwise"
   ]
  },
  {
   "cell_type": "code",
   "execution_count": 13,
   "id": "2697d224",
   "metadata": {},
   "outputs": [],
   "source": [
    "## WRITE YOUR CODE HERE ##"
   ]
  },
  {
   "cell_type": "markdown",
   "id": "5e9df93a",
   "metadata": {},
   "source": [
    "## 3"
   ]
  },
  {
   "cell_type": "markdown",
   "id": "aca64d26",
   "metadata": {},
   "source": [
    "Count how many rows have NA as ProsperScore, and count how many rows have a ProsperScore higher than 8"
   ]
  },
  {
   "cell_type": "code",
   "execution_count": 16,
   "id": "c76fdd2f",
   "metadata": {},
   "outputs": [],
   "source": [
    "## WRITE YOUR CODE HERE ##"
   ]
  },
  {
   "cell_type": "markdown",
   "id": "8807ff58",
   "metadata": {},
   "source": [
    "## 4"
   ]
  },
  {
   "cell_type": "markdown",
   "id": "909ccdc8",
   "metadata": {},
   "source": [
    "Display how many rows and mean \"Investors\" we have per CreditGrade"
   ]
  },
  {
   "cell_type": "code",
   "execution_count": 20,
   "id": "83b651e5",
   "metadata": {},
   "outputs": [],
   "source": [
    "## WRITE YOUR CODE HERE ##"
   ]
  },
  {
   "cell_type": "markdown",
   "id": "381049df",
   "metadata": {},
   "source": [
    "## 5"
   ]
  },
  {
   "cell_type": "markdown",
   "id": "fa8b0b89",
   "metadata": {},
   "source": [
    "The \"LoanFirstDefaultedCycleNumber\" column captures the month in which the loan first defaulted. Create a column called fraud, that will be True if the loan was defaulted in less than 4 months. Calculate what is the fraud rate in the portfolio based on that new column."
   ]
  },
  {
   "cell_type": "markdown",
   "id": "fcd22306",
   "metadata": {},
   "source": [
    "## 6"
   ]
  },
  {
   "cell_type": "markdown",
   "id": "54a1ec62",
   "metadata": {},
   "source": [
    "Create a new column called is_student, which will be true if the column \"Occupation\" contains the text \"Student\". Count how many rows and what is the fraud rate based on the is_student column."
   ]
  },
  {
   "cell_type": "code",
   "execution_count": null,
   "id": "aa433f24",
   "metadata": {},
   "outputs": [],
   "source": [
    "## WRITE YOUR CODE HERE ##"
   ]
  },
  {
   "cell_type": "markdown",
   "id": "c090b317",
   "metadata": {},
   "source": [
    "## 7"
   ]
  },
  {
   "cell_type": "markdown",
   "id": "048f776f",
   "metadata": {},
   "source": [
    "Study the fraud rate versus the \"IncomeRange\" columns. Is there any insight we can learn from it?"
   ]
  },
  {
   "cell_type": "code",
   "execution_count": null,
   "id": "e081cbc4",
   "metadata": {},
   "outputs": [],
   "source": [
    "## WRITE YOUR CODE HERE ##"
   ]
  },
  {
   "cell_type": "code",
   "execution_count": null,
   "id": "17cad1ed",
   "metadata": {},
   "outputs": [],
   "source": [
    "## EXPLAIN YOUR INSIGHTS HERE ##"
   ]
  },
  {
   "cell_type": "markdown",
   "id": "d1db83bb",
   "metadata": {},
   "source": [
    "## 8"
   ]
  },
  {
   "cell_type": "markdown",
   "id": "c257eeba",
   "metadata": {},
   "source": [
    "Compute the correlation between the features in the next cell. Is there any insight we can learn from the correlation?"
   ]
  },
  {
   "cell_type": "code",
   "execution_count": 33,
   "id": "9354b5d9",
   "metadata": {},
   "outputs": [],
   "source": [
    "feats = [\"EmploymentStatusDuration\", \"OpenRevolvingAccounts\", \"OpenCreditLines\", \"CreditScoreRangeLower\", \"CreditScoreRangeUpper\"]"
   ]
  },
  {
   "cell_type": "code",
   "execution_count": null,
   "id": "eb0c7db2",
   "metadata": {},
   "outputs": [],
   "source": [
    "## WRITE YOUR CODE HERE ##"
   ]
  },
  {
   "cell_type": "code",
   "execution_count": null,
   "id": "a5c27cb2",
   "metadata": {},
   "outputs": [],
   "source": [
    "## EXPLAIN YOUR INSIGHTS HERE ##"
   ]
  }
 ],
 "metadata": {
  "kernelspec": {
   "display_name": "Python 3 (ipykernel)",
   "language": "python",
   "name": "python3"
  },
  "language_info": {
   "codemirror_mode": {
    "name": "ipython",
    "version": 3
   },
   "file_extension": ".py",
   "mimetype": "text/x-python",
   "name": "python",
   "nbconvert_exporter": "python",
   "pygments_lexer": "ipython3",
   "version": "3.9.7"
  }
 },
 "nbformat": 4,
 "nbformat_minor": 5
}
