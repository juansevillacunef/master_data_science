{
 "cells": [
  {
   "cell_type": "markdown",
   "metadata": {
    "ExecuteTime": {
     "end_time": "2019-05-15T21:29:00.770627Z",
     "start_time": "2019-05-15T21:28:59.068546Z"
    }
   },
   "source": [
    "# HW 6"
   ]
  },
  {
   "cell_type": "markdown",
   "metadata": {},
   "source": [
    "Miembros del grupo:\n",
    "- \n",
    "- ÁLVARO CABRERIZO DE GARNICA\n",
    "- JUAN SEVILLA FERNÁNDEZ"
   ]
  },
  {
   "cell_type": "code",
   "execution_count": 1,
   "metadata": {},
   "outputs": [],
   "source": [
    "import pandas as pd\n",
    "import numpy as np\n",
    "import matplotlib.pyplot as plt\n",
    "import seaborn as sns\n",
    "%matplotlib inline"
   ]
  },
  {
   "cell_type": "markdown",
   "metadata": {},
   "source": [
    "### Read data"
   ]
  },
  {
   "cell_type": "code",
   "execution_count": 2,
   "metadata": {
    "ExecuteTime": {
     "end_time": "2019-05-15T21:29:01.825376Z",
     "start_time": "2019-05-15T21:29:00.778620Z"
    }
   },
   "outputs": [],
   "source": [
    "df_train = pd.read_parquet(\"/Users/juan/Documents/Juan's MacBook Pro/CUNEF/Quinto/Credit Risk Analytics/data_solved/prosperLoanData_processed_train.parquet\")\n",
    "df_val = pd.read_parquet(\"/Users/juan/Documents/Juan's MacBook Pro/CUNEF/Quinto/Credit Risk Analytics/data_solved/prosperLoanData_processed_val.parquet\")\n",
    "df_oot = pd.read_parquet(\"/Users/juan/Documents/Juan's MacBook Pro/CUNEF/Quinto/Credit Risk Analytics/data_solved/prosperLoanData_processed_oot.parquet\")"
   ]
  },
  {
   "cell_type": "code",
   "execution_count": 3,
   "metadata": {
    "ExecuteTime": {
     "end_time": "2019-05-15T21:29:01.860313Z",
     "start_time": "2019-05-15T21:29:01.832970Z"
    }
   },
   "outputs": [],
   "source": [
    "#drop indeterminates\n",
    "df_train = df_train.loc[df_train.indeterm==False]\n",
    "df_val = df_val.loc[df_val.indeterm==False]\n",
    "df_oot = df_oot.loc[df_oot.indeterm==False]"
   ]
  },
  {
   "cell_type": "code",
   "execution_count": 4,
   "metadata": {
    "ExecuteTime": {
     "end_time": "2019-05-15T21:29:02.411374Z",
     "start_time": "2019-05-15T21:29:02.361592Z"
    }
   },
   "outputs": [],
   "source": [
    "#get the serialized data from previous session\n",
    "import pickle\n",
    "input_d2  = pickle.load(open(\"/Users/juan/Documents/Juan's MacBook Pro/CUNEF/Quinto/Credit Risk Analytics/data_solved/output_HW5.pkl\", 'rb'))\n",
    "corr_data, features = input_d2['corr_data'], input_d2['features']\n",
    "df_iv, df_psi = input_d2['iv_df'], input_d2['psi_df']\n"
   ]
  },
  {
   "cell_type": "markdown",
   "metadata": {},
   "source": [
    "## Filter out features"
   ]
  },
  {
   "cell_type": "markdown",
   "metadata": {},
   "source": [
    "### Drop highly correlated features"
   ]
  },
  {
   "cell_type": "code",
   "execution_count": 5,
   "metadata": {
    "ExecuteTime": {
     "end_time": "2019-05-15T21:29:04.428722Z",
     "start_time": "2019-05-15T21:29:04.326572Z"
    }
   },
   "outputs": [
    {
     "data": {
      "text/plain": [
       "[('CreditScoreRangeLower',\n",
       "  1,\n",
       "  CreditScoreRangeUpper    1.0\n",
       "  Name: CreditScoreRangeLower, dtype: float64),\n",
       " ('CreditScoreRangeUpper',\n",
       "  1,\n",
       "  CreditScoreRangeLower    1.0\n",
       "  Name: CreditScoreRangeUpper, dtype: float64),\n",
       " ('CurrentCreditLines',\n",
       "  2,\n",
       "  OpenCreditLines          0.957426\n",
       "  OpenRevolvingAccounts    0.853989\n",
       "  Name: CurrentCreditLines, dtype: float64),\n",
       " ('OpenCreditLines',\n",
       "  2,\n",
       "  CurrentCreditLines       0.957426\n",
       "  OpenRevolvingAccounts    0.888447\n",
       "  Name: OpenCreditLines, dtype: float64),\n",
       " ('TotalCreditLinespast7years',\n",
       "  1,\n",
       "  TotalTrades    0.942083\n",
       "  Name: TotalCreditLinespast7years, dtype: float64),\n",
       " ('OpenRevolvingAccounts',\n",
       "  2,\n",
       "  CurrentCreditLines    0.853989\n",
       "  OpenCreditLines       0.888447\n",
       "  Name: OpenRevolvingAccounts, dtype: float64),\n",
       " ('TotalTrades',\n",
       "  1,\n",
       "  TotalCreditLinespast7years    0.942083\n",
       "  Name: TotalTrades, dtype: float64),\n",
       " ('TotalProsperPaymentsBilled',\n",
       "  1,\n",
       "  OnTimeProsperPayments    0.988512\n",
       "  Name: TotalProsperPaymentsBilled, dtype: float64),\n",
       " ('OnTimeProsperPayments',\n",
       "  1,\n",
       "  TotalProsperPaymentsBilled    0.988512\n",
       "  Name: OnTimeProsperPayments, dtype: float64)]"
      ]
     },
     "execution_count": 5,
     "metadata": {},
     "output_type": "execute_result"
    }
   ],
   "source": [
    "corr_data"
   ]
  },
  {
   "cell_type": "code",
   "execution_count": 6,
   "metadata": {
    "ExecuteTime": {
     "end_time": "2019-05-15T21:29:05.932319Z",
     "start_time": "2019-05-15T21:29:05.864461Z"
    }
   },
   "outputs": [
    {
     "name": "stdout",
     "output_type": "stream",
     "text": [
      "Drop: TotalProsperPaymentsBilled\n",
      "Drop: CreditScoreRangeUpper\n",
      "Drop: OpenCreditLines\n",
      "Drop: OpenRevolvingAccounts\n",
      "Drop: TotalCreditLinespast7years\n"
     ]
    }
   ],
   "source": [
    "#run through the iv ranking, and drop features if they are correlated with any feature with better ranking\n",
    "feats_sorted = df_iv.feature.values.tolist()\n",
    "\n",
    "def get_uncorr_feats(corr_data, feats_sorted):\n",
    "    \"\"\"Handles the corr_data structure, to drop highlly correlated features\n",
    "    \n",
    "    Args:\n",
    "        corr_data: List of tuples containing the correlation info\n",
    "        feats_sorted: List, with the features to be sorted / dropped\n",
    "        \n",
    "    Returns:\n",
    "        List with the features that have no correlation\n",
    "    \"\"\"\n",
    "    features_keep = feats_sorted[:1]\n",
    "    for feat in feats_sorted[1:]:\n",
    "        #capture the correlation tuple\n",
    "        crr_data = [crr for crr in corr_data if crr[0] == feat]\n",
    "        if len(crr_data):\n",
    "            #if there is a 'hit' with a feature in features_keep, do not include it\n",
    "            hit = len(set(crr_data[0][2].index.tolist()) & set(features_keep)) > 0\n",
    "            if hit:\n",
    "                print ('Drop: ' + feat)\n",
    "            else:\n",
    "                features_keep.append(feat)    \n",
    "        else:\n",
    "            features_keep.append(feat)\n",
    "    return features_keep\n",
    "\n",
    "features_keep = get_uncorr_feats(corr_data, feats_sorted)"
   ]
  },
  {
   "cell_type": "code",
   "execution_count": 7,
   "metadata": {
    "ExecuteTime": {
     "end_time": "2019-05-15T21:29:08.949388Z",
     "start_time": "2019-05-15T21:29:08.926962Z"
    }
   },
   "outputs": [
    {
     "data": {
      "text/plain": [
       "(45, 40, 9)"
      ]
     },
     "execution_count": 7,
     "metadata": {},
     "output_type": "execute_result"
    }
   ],
   "source": [
    "len(features), len(features_keep), len(corr_data)"
   ]
  },
  {
   "cell_type": "markdown",
   "metadata": {},
   "source": [
    "### Drop features with low IV"
   ]
  },
  {
   "cell_type": "code",
   "execution_count": 8,
   "metadata": {
    "ExecuteTime": {
     "end_time": "2019-05-15T21:29:25.926972Z",
     "start_time": "2019-05-15T21:29:25.832601Z"
    }
   },
   "outputs": [
    {
     "data": {
      "text/html": [
       "<div>\n",
       "<style scoped>\n",
       "    .dataframe tbody tr th:only-of-type {\n",
       "        vertical-align: middle;\n",
       "    }\n",
       "\n",
       "    .dataframe tbody tr th {\n",
       "        vertical-align: top;\n",
       "    }\n",
       "\n",
       "    .dataframe thead th {\n",
       "        text-align: right;\n",
       "    }\n",
       "</style>\n",
       "<table border=\"1\" class=\"dataframe\">\n",
       "  <thead>\n",
       "    <tr style=\"text-align: right;\">\n",
       "      <th></th>\n",
       "      <th>feature</th>\n",
       "      <th>IV</th>\n",
       "    </tr>\n",
       "  </thead>\n",
       "  <tbody>\n",
       "    <tr>\n",
       "      <th>29</th>\n",
       "      <td>IncomeRange</td>\n",
       "      <td>0.145180</td>\n",
       "    </tr>\n",
       "    <tr>\n",
       "      <th>31</th>\n",
       "      <td>StatedMonthlyIncome</td>\n",
       "      <td>0.119612</td>\n",
       "    </tr>\n",
       "    <tr>\n",
       "      <th>34</th>\n",
       "      <td>OnTimeProsperPayments</td>\n",
       "      <td>0.113475</td>\n",
       "    </tr>\n",
       "    <tr>\n",
       "      <th>28</th>\n",
       "      <td>DebtToIncomeRatio</td>\n",
       "      <td>0.111675</td>\n",
       "    </tr>\n",
       "    <tr>\n",
       "      <th>39</th>\n",
       "      <td>ScorexChangeAtTimeOfListing</td>\n",
       "      <td>0.108946</td>\n",
       "    </tr>\n",
       "  </tbody>\n",
       "</table>\n",
       "</div>"
      ],
      "text/plain": [
       "                        feature        IV\n",
       "29                  IncomeRange  0.145180\n",
       "31          StatedMonthlyIncome  0.119612\n",
       "34        OnTimeProsperPayments  0.113475\n",
       "28            DebtToIncomeRatio  0.111675\n",
       "39  ScorexChangeAtTimeOfListing  0.108946"
      ]
     },
     "execution_count": 8,
     "metadata": {},
     "output_type": "execute_result"
    }
   ],
   "source": [
    "# IV filtering with this treshold\n",
    "df_iv.head()"
   ]
  },
  {
   "cell_type": "markdown",
   "metadata": {},
   "source": [
    "**TODO 1** Implementa una función que devuelva solo las columnas que tengan un IV inferior a un umbral dado. Usa el dataframe df_iv."
   ]
  },
  {
   "cell_type": "code",
   "execution_count": 9,
   "metadata": {},
   "outputs": [],
   "source": [
    "def lowIVFeatures(df_iv, th=0.02):\n",
    "    \"\"\"Returns a list with the features that have an IV lower that th\n",
    "    \n",
    "    Args:\n",
    "        df_iv: Pandas Dataframe with the feature name and their corresponding IV\n",
    "        th: Threshold to be considered when filtering the features\n",
    "        \n",
    "    Returns:\n",
    "        List with features that have an IV lower than the threshold\n",
    "    \"\"\"\n",
    "    # IMPLEMENT YOUR CODE HERE\n",
    "    df_iv.loc[df_iv[\"IV\"]<0.02]\n",
    "    \n",
    "    return df_iv.loc[df_iv[\"IV\"]<th][\"feature\"]"
   ]
  },
  {
   "cell_type": "code",
   "execution_count": 10,
   "metadata": {
    "ExecuteTime": {
     "end_time": "2019-05-15T21:29:40.198467Z",
     "start_time": "2019-05-15T21:29:40.168231Z"
    }
   },
   "outputs": [
    {
     "data": {
      "text/plain": [
       "(45, 40, 23)"
      ]
     },
     "execution_count": 10,
     "metadata": {},
     "output_type": "execute_result"
    }
   ],
   "source": [
    "# capture low IV features\n",
    "low_iv_feats = lowIVFeatures(df_iv)\n",
    "features_keep_iv = list(set(features_keep) - set(low_iv_feats))\n",
    "len(features), len(features_keep), len(features_keep_iv)"
   ]
  },
  {
   "cell_type": "markdown",
   "metadata": {},
   "source": [
    "### Drop unstable features"
   ]
  },
  {
   "cell_type": "code",
   "execution_count": 61,
   "metadata": {
    "ExecuteTime": {
     "end_time": "2019-05-15T21:30:20.993098Z",
     "start_time": "2019-05-15T21:30:20.903295Z"
    }
   },
   "outputs": [
    {
     "data": {
      "text/html": [
       "<div>\n",
       "<style scoped>\n",
       "    .dataframe tbody tr th:only-of-type {\n",
       "        vertical-align: middle;\n",
       "    }\n",
       "\n",
       "    .dataframe tbody tr th {\n",
       "        vertical-align: top;\n",
       "    }\n",
       "\n",
       "    .dataframe thead th {\n",
       "        text-align: right;\n",
       "    }\n",
       "</style>\n",
       "<table border=\"1\" class=\"dataframe\">\n",
       "  <thead>\n",
       "    <tr style=\"text-align: right;\">\n",
       "      <th></th>\n",
       "      <th>feature</th>\n",
       "      <th>PSI</th>\n",
       "    </tr>\n",
       "  </thead>\n",
       "  <tbody>\n",
       "    <tr>\n",
       "      <th>42</th>\n",
       "      <td>Recommendations</td>\n",
       "      <td>0.000000e+00</td>\n",
       "    </tr>\n",
       "    <tr>\n",
       "      <th>21</th>\n",
       "      <td>PublicRecordsLast12Months</td>\n",
       "      <td>5.352324e-09</td>\n",
       "    </tr>\n",
       "    <tr>\n",
       "      <th>41</th>\n",
       "      <td>PercentFunded</td>\n",
       "      <td>2.141008e-08</td>\n",
       "    </tr>\n",
       "    <tr>\n",
       "      <th>20</th>\n",
       "      <td>PublicRecordsLast10Years</td>\n",
       "      <td>2.724033e-05</td>\n",
       "    </tr>\n",
       "    <tr>\n",
       "      <th>18</th>\n",
       "      <td>AmountDelinquent</td>\n",
       "      <td>7.428038e-05</td>\n",
       "    </tr>\n",
       "  </tbody>\n",
       "</table>\n",
       "</div>"
      ],
      "text/plain": [
       "                      feature           PSI\n",
       "42            Recommendations  0.000000e+00\n",
       "21  PublicRecordsLast12Months  5.352324e-09\n",
       "41              PercentFunded  2.141008e-08\n",
       "20   PublicRecordsLast10Years  2.724033e-05\n",
       "18           AmountDelinquent  7.428038e-05"
      ]
     },
     "execution_count": 61,
     "metadata": {},
     "output_type": "execute_result"
    }
   ],
   "source": [
    "# PSI filtering with this treshold\n",
    "df_psi.head()"
   ]
  },
  {
   "cell_type": "markdown",
   "metadata": {},
   "source": [
    "**TODO 2** Implementa una función que devuelva solo las columnas que tengan un PSI mayor a un umbral dado. Usa el dataframe df_psi."
   ]
  },
  {
   "cell_type": "code",
   "execution_count": 12,
   "metadata": {},
   "outputs": [],
   "source": [
    "def highPSIFeatures(df_psi, TH_PSI=0.25):\n",
    "    \"\"\"Returns a list with the features that have a PSI higher that th\n",
    "    \n",
    "    Args:\n",
    "        df_iv: Pandas Dataframe with the feature name and their corresponding IV\n",
    "        th: Threshold to be considered when filtering the features\n",
    "        \n",
    "    Returns:\n",
    "        List with features that have an IV lower than the threshold\n",
    "    \"\"\"\n",
    "    # IMPLEMENT YOUR CODE HERE\n",
    "    \n",
    "    df_psi.loc[df_psi[\"PSI\"]>0.25]\n",
    "    \n",
    "    return df_psi.loc[df_psi[\"PSI\"]>TH_PSI][\"feature\"]"
   ]
  },
  {
   "cell_type": "code",
   "execution_count": 13,
   "metadata": {
    "ExecuteTime": {
     "end_time": "2019-05-15T21:30:21.189747Z",
     "start_time": "2019-05-15T21:30:21.156916Z"
    }
   },
   "outputs": [
    {
     "data": {
      "text/plain": [
       "(45, 40, 23, 21)"
      ]
     },
     "execution_count": 13,
     "metadata": {},
     "output_type": "execute_result"
    }
   ],
   "source": [
    "# capture high (unstable) features\n",
    "high_psi_features = highPSIFeatures(df_psi)\n",
    "features_keep_psi = list(set(features_keep_iv) - set(high_psi_features))\n",
    "len(features), len(features_keep), len(features_keep_iv), len(features_keep_psi)"
   ]
  },
  {
   "cell_type": "code",
   "execution_count": 14,
   "metadata": {
    "ExecuteTime": {
     "end_time": "2019-05-15T21:30:23.068466Z",
     "start_time": "2019-05-15T21:30:23.042542Z"
    }
   },
   "outputs": [
    {
     "data": {
      "text/plain": [
       "['TradesOpenedLast6Months',\n",
       " 'DebtToIncomeRatio',\n",
       " 'CurrentCreditLines',\n",
       " 'OnTimeProsperPayments',\n",
       " 'ProsperPaymentsOneMonthPlusLate',\n",
       " 'TotalTrades',\n",
       " 'IncomeRange',\n",
       " 'TotalProsperLoans',\n",
       " 'IsBorrowerHomeowner',\n",
       " 'IncomeVerifiable',\n",
       " 'ProsperPrincipalBorrowed',\n",
       " 'CurrentlyInGroup',\n",
       " 'CreditScoreRangeLower',\n",
       " 'BorrowerState',\n",
       " 'Occupation',\n",
       " 'ProsperPrincipalOutstanding',\n",
       " 'ScorexChangeAtTimeOfListing',\n",
       " 'AmountDelinquent',\n",
       " 'StatedMonthlyIncome',\n",
       " 'ProsperPaymentsLessThanOneMonthLate',\n",
       " 'InquiriesLast6Months']"
      ]
     },
     "execution_count": 14,
     "metadata": {},
     "output_type": "execute_result"
    }
   ],
   "source": [
    "final_features = features_keep_psi\n",
    "final_features"
   ]
  },
  {
   "cell_type": "markdown",
   "metadata": {},
   "source": [
    "## Preprocessing - Set up bucketing - \"Trameado\""
   ]
  },
  {
   "cell_type": "markdown",
   "metadata": {},
   "source": [
    "#### For numerical features"
   ]
  },
  {
   "cell_type": "code",
   "execution_count": 15,
   "metadata": {},
   "outputs": [],
   "source": [
    "# features"
   ]
  },
  {
   "cell_type": "code",
   "execution_count": 16,
   "metadata": {
    "ExecuteTime": {
     "end_time": "2019-05-15T21:30:29.805950Z",
     "start_time": "2019-05-15T21:30:29.698613Z"
    }
   },
   "outputs": [],
   "source": [
    "def get_bucket_numfeature(df, feat_col, n_bins, input_slider=(0., 100.)):\n",
    "    \"\"\"Cuts a numeric feature in 'n_bins', balacing data in percentiles\n",
    "    \n",
    "    Args:\n",
    "        df: Pandas DataFrame with the input data\n",
    "        feat_col: Name of the column with the input feature\n",
    "        obj_col: Name of the column with the target \n",
    "        n_bins: Number of cuts expected\n",
    "        input_slider: Range considered for the bucketing\n",
    "        \n",
    "    Returns:\n",
    "        List with the cuts corresponding to this feature\n",
    "    \"\"\"\n",
    "    #get the numeric input from the dual slider\n",
    "    # dividimos entre 100\n",
    "    perc_sliders = [v/100. for v in input_slider]\n",
    "    # calculamos los límites de la variable\n",
    "    var_lims = df[feat_col].quantile([perc_sliders[0], perc_sliders[1]]).values\n",
    "    v_min, v_max = var_lims[0], var_lims[1]\n",
    "    #filter the dataset using the slider input\n",
    "    df_cut = df.loc[(df[feat_col] <= v_max) & (df[feat_col] >= v_min)][[feat_col]]\n",
    "    cuts = df_cut[feat_col].quantile(np.linspace(perc_sliders[0], perc_sliders[1], n_bins + 1)).values.tolist()\n",
    "    cuts = sorted(list(set(cuts)))\n",
    "    return cuts\n",
    "\n",
    "def format_dummy_col(feat_col, dummy_col):\n",
    "    \"\"\"Handles column names for dummy data\n",
    "    \n",
    "    Args:\n",
    "        feat_col: Name of the column with the input feature\n",
    "        dummy_col: String of the dummy column \n",
    "        \n",
    "    Returns:\n",
    "        Dummy column with better formatting\n",
    "    \"\"\"\n",
    "    out = dummy_col.replace(\"(\", \"\")\\\n",
    "                   .replace(\"]\", \"\")\\\n",
    "                   .replace(\".0\", \"\")\\\n",
    "                   .replace(\", \", \"|\")\n",
    "    \n",
    "    return feat_col + '_' + out\n",
    "    \n",
    "def apply_bucketing_num(df, feat_col, cuts):\n",
    "    \"\"\"Applies bucketing to numerical feature\n",
    "    \n",
    "    Args:\n",
    "        df: Pandas Dataframe with the input data\n",
    "        feat_col: Name of the column with the input feature\n",
    "        cuts: Cuts that will be applied to the input data\n",
    "        \n",
    "    Returns:\n",
    "        Pandas dataframe with dummy columns\n",
    "    \"\"\"\n",
    "    cut_col = '{}_cut'.format(feat_col)\n",
    "    if len(cuts) == 2:\n",
    "        cuts = [cuts[0], np.mean(cuts), cuts[1]]\n",
    "    df[cut_col] = pd.cut(df[feat_col], cuts, include_lowest=True, precision=0)\n",
    "    if df[cut_col].isna().any():\n",
    "        df[cut_col] = df[cut_col].cat.add_categories([\"NA\"])\n",
    "        df[cut_col] = df[cut_col].fillna(\"NA\")\n",
    "        \n",
    "    dummies_df = pd.get_dummies(df[cut_col], drop_first=True)\n",
    "    dummies_df.columns = [format_dummy_col(feat_col, str(col)) for col in dummies_df.columns.values.tolist()]\n",
    "    \n",
    "    return dummies_df"
   ]
  },
  {
   "cell_type": "markdown",
   "metadata": {},
   "source": [
    "#### For categorical features"
   ]
  },
  {
   "cell_type": "code",
   "execution_count": 17,
   "metadata": {
    "ExecuteTime": {
     "end_time": "2019-05-15T21:30:31.225015Z",
     "start_time": "2019-05-15T21:30:31.182046Z"
    }
   },
   "outputs": [],
   "source": [
    "def get_bucket_catfeature(df, feat_col, n_bins):\n",
    "    \"\"\"Cuts a categorical feature in 'n_bins', keeping categories with highest volume\n",
    "    \n",
    "    Args:\n",
    "        df: Pandas DataFrame with the input data\n",
    "        feat_col: Name of the column with the input feature\n",
    "        n_bins: Number of cuts expected\n",
    "        \n",
    "    Returns:\n",
    "        List with the cuts corresponding to this feature\n",
    "    \"\"\"\n",
    "    cuts = df.groupby(feat_col)[feat_col].count().sort_values(ascending=False)[:int(n_bins)].index.values.tolist()\n",
    "    \n",
    "    return cuts\n",
    "\n",
    "def apply_bucketing_cat(df, feat_col, cuts):\n",
    "    \"\"\"Applies bucketing to categorical feature\n",
    "    \n",
    "    Args:\n",
    "        df: Pandas Dataframe with the input data\n",
    "        feat_col: Name of the column with the input feature\n",
    "        cuts: Cuts that will be applied to the input data\n",
    "        \n",
    "    Returns:\n",
    "        Pandas dataframe with dummy columns\n",
    "    \"\"\"\n",
    "    cut_col = '{}_cut'.format(feat_col)\n",
    "    df[cut_col] = df[feat_col]\n",
    "    df.loc[~df[cut_col].isin(cuts), cut_col] = 'Other'\n",
    "    if df[cut_col].isna().any():\n",
    "        df[cut_col] = df[cut_col].fillna(\"NA\")\n",
    "        \n",
    "    dummies_df = pd.get_dummies(df[cut_col], prefix=feat_col, drop_first=True)\n",
    "    \n",
    "    return dummies_df"
   ]
  },
  {
   "cell_type": "code",
   "execution_count": 18,
   "metadata": {
    "ExecuteTime": {
     "end_time": "2019-05-15T21:30:32.192798Z",
     "start_time": "2019-05-15T21:30:32.056734Z"
    }
   },
   "outputs": [
    {
     "data": {
      "text/html": [
       "<div>\n",
       "<style scoped>\n",
       "    .dataframe tbody tr th:only-of-type {\n",
       "        vertical-align: middle;\n",
       "    }\n",
       "\n",
       "    .dataframe tbody tr th {\n",
       "        vertical-align: top;\n",
       "    }\n",
       "\n",
       "    .dataframe thead th {\n",
       "        text-align: right;\n",
       "    }\n",
       "</style>\n",
       "<table border=\"1\" class=\"dataframe\">\n",
       "  <thead>\n",
       "    <tr style=\"text-align: right;\">\n",
       "      <th></th>\n",
       "      <th>CreditScoreRangeLower_640|680</th>\n",
       "      <th>CreditScoreRangeLower_680|700</th>\n",
       "      <th>CreditScoreRangeLower_700|720</th>\n",
       "      <th>CreditScoreRangeLower_720|760</th>\n",
       "      <th>CreditScoreRangeLower_760|880</th>\n",
       "    </tr>\n",
       "  </thead>\n",
       "  <tbody>\n",
       "    <tr>\n",
       "      <th>0</th>\n",
       "      <td>1</td>\n",
       "      <td>0</td>\n",
       "      <td>0</td>\n",
       "      <td>0</td>\n",
       "      <td>0</td>\n",
       "    </tr>\n",
       "    <tr>\n",
       "      <th>2</th>\n",
       "      <td>1</td>\n",
       "      <td>0</td>\n",
       "      <td>0</td>\n",
       "      <td>0</td>\n",
       "      <td>0</td>\n",
       "    </tr>\n",
       "    <tr>\n",
       "      <th>3</th>\n",
       "      <td>0</td>\n",
       "      <td>1</td>\n",
       "      <td>0</td>\n",
       "      <td>0</td>\n",
       "      <td>0</td>\n",
       "    </tr>\n",
       "    <tr>\n",
       "      <th>4</th>\n",
       "      <td>0</td>\n",
       "      <td>1</td>\n",
       "      <td>0</td>\n",
       "      <td>0</td>\n",
       "      <td>0</td>\n",
       "    </tr>\n",
       "    <tr>\n",
       "      <th>5</th>\n",
       "      <td>0</td>\n",
       "      <td>0</td>\n",
       "      <td>0</td>\n",
       "      <td>0</td>\n",
       "      <td>1</td>\n",
       "    </tr>\n",
       "    <tr>\n",
       "      <th>6</th>\n",
       "      <td>0</td>\n",
       "      <td>0</td>\n",
       "      <td>0</td>\n",
       "      <td>0</td>\n",
       "      <td>0</td>\n",
       "    </tr>\n",
       "    <tr>\n",
       "      <th>7</th>\n",
       "      <td>0</td>\n",
       "      <td>0</td>\n",
       "      <td>1</td>\n",
       "      <td>0</td>\n",
       "      <td>0</td>\n",
       "    </tr>\n",
       "    <tr>\n",
       "      <th>8</th>\n",
       "      <td>0</td>\n",
       "      <td>0</td>\n",
       "      <td>0</td>\n",
       "      <td>1</td>\n",
       "      <td>0</td>\n",
       "    </tr>\n",
       "    <tr>\n",
       "      <th>9</th>\n",
       "      <td>0</td>\n",
       "      <td>0</td>\n",
       "      <td>0</td>\n",
       "      <td>0</td>\n",
       "      <td>1</td>\n",
       "    </tr>\n",
       "    <tr>\n",
       "      <th>10</th>\n",
       "      <td>0</td>\n",
       "      <td>0</td>\n",
       "      <td>0</td>\n",
       "      <td>0</td>\n",
       "      <td>0</td>\n",
       "    </tr>\n",
       "  </tbody>\n",
       "</table>\n",
       "</div>"
      ],
      "text/plain": [
       "    CreditScoreRangeLower_640|680  CreditScoreRangeLower_680|700  \\\n",
       "0                               1                              0   \n",
       "2                               1                              0   \n",
       "3                               0                              1   \n",
       "4                               0                              1   \n",
       "5                               0                              0   \n",
       "6                               0                              0   \n",
       "7                               0                              0   \n",
       "8                               0                              0   \n",
       "9                               0                              0   \n",
       "10                              0                              0   \n",
       "\n",
       "    CreditScoreRangeLower_700|720  CreditScoreRangeLower_720|760  \\\n",
       "0                               0                              0   \n",
       "2                               0                              0   \n",
       "3                               0                              0   \n",
       "4                               0                              0   \n",
       "5                               0                              0   \n",
       "6                               0                              0   \n",
       "7                               1                              0   \n",
       "8                               0                              1   \n",
       "9                               0                              0   \n",
       "10                              0                              0   \n",
       "\n",
       "    CreditScoreRangeLower_760|880  \n",
       "0                               0  \n",
       "2                               0  \n",
       "3                               0  \n",
       "4                               0  \n",
       "5                               1  \n",
       "6                               0  \n",
       "7                               0  \n",
       "8                               0  \n",
       "9                               1  \n",
       "10                              0  "
      ]
     },
     "execution_count": 18,
     "metadata": {},
     "output_type": "execute_result"
    }
   ],
   "source": [
    "#example of numerical bucketing\n",
    "cuts_num = get_bucket_numfeature(df_train, 'CreditScoreRangeLower', 6)\n",
    "dumm_num = apply_bucketing_num(df_train, 'CreditScoreRangeLower', cuts_num)\n",
    "dumm_num[:10]"
   ]
  },
  {
   "cell_type": "code",
   "execution_count": 19,
   "metadata": {
    "ExecuteTime": {
     "end_time": "2019-05-15T21:30:33.717526Z",
     "start_time": "2019-05-15T21:30:33.599902Z"
    }
   },
   "outputs": [
    {
     "data": {
      "text/html": [
       "<div>\n",
       "<style scoped>\n",
       "    .dataframe tbody tr th:only-of-type {\n",
       "        vertical-align: middle;\n",
       "    }\n",
       "\n",
       "    .dataframe tbody tr th {\n",
       "        vertical-align: top;\n",
       "    }\n",
       "\n",
       "    .dataframe thead th {\n",
       "        text-align: right;\n",
       "    }\n",
       "</style>\n",
       "<table border=\"1\" class=\"dataframe\">\n",
       "  <thead>\n",
       "    <tr style=\"text-align: right;\">\n",
       "      <th></th>\n",
       "      <th>Occupation_Analyst</th>\n",
       "      <th>Occupation_Computer Programmer</th>\n",
       "      <th>Occupation_Executive</th>\n",
       "      <th>Occupation_Other</th>\n",
       "      <th>Occupation_Professional</th>\n",
       "    </tr>\n",
       "  </thead>\n",
       "  <tbody>\n",
       "    <tr>\n",
       "      <th>0</th>\n",
       "      <td>0</td>\n",
       "      <td>0</td>\n",
       "      <td>0</td>\n",
       "      <td>1</td>\n",
       "      <td>0</td>\n",
       "    </tr>\n",
       "    <tr>\n",
       "      <th>2</th>\n",
       "      <td>0</td>\n",
       "      <td>0</td>\n",
       "      <td>0</td>\n",
       "      <td>1</td>\n",
       "      <td>0</td>\n",
       "    </tr>\n",
       "    <tr>\n",
       "      <th>3</th>\n",
       "      <td>0</td>\n",
       "      <td>0</td>\n",
       "      <td>0</td>\n",
       "      <td>1</td>\n",
       "      <td>0</td>\n",
       "    </tr>\n",
       "    <tr>\n",
       "      <th>4</th>\n",
       "      <td>0</td>\n",
       "      <td>0</td>\n",
       "      <td>0</td>\n",
       "      <td>1</td>\n",
       "      <td>0</td>\n",
       "    </tr>\n",
       "    <tr>\n",
       "      <th>5</th>\n",
       "      <td>0</td>\n",
       "      <td>0</td>\n",
       "      <td>0</td>\n",
       "      <td>0</td>\n",
       "      <td>1</td>\n",
       "    </tr>\n",
       "    <tr>\n",
       "      <th>6</th>\n",
       "      <td>0</td>\n",
       "      <td>0</td>\n",
       "      <td>0</td>\n",
       "      <td>0</td>\n",
       "      <td>1</td>\n",
       "    </tr>\n",
       "    <tr>\n",
       "      <th>7</th>\n",
       "      <td>0</td>\n",
       "      <td>0</td>\n",
       "      <td>0</td>\n",
       "      <td>1</td>\n",
       "      <td>0</td>\n",
       "    </tr>\n",
       "    <tr>\n",
       "      <th>8</th>\n",
       "      <td>0</td>\n",
       "      <td>0</td>\n",
       "      <td>0</td>\n",
       "      <td>1</td>\n",
       "      <td>0</td>\n",
       "    </tr>\n",
       "    <tr>\n",
       "      <th>9</th>\n",
       "      <td>0</td>\n",
       "      <td>0</td>\n",
       "      <td>0</td>\n",
       "      <td>1</td>\n",
       "      <td>0</td>\n",
       "    </tr>\n",
       "    <tr>\n",
       "      <th>10</th>\n",
       "      <td>0</td>\n",
       "      <td>0</td>\n",
       "      <td>0</td>\n",
       "      <td>1</td>\n",
       "      <td>0</td>\n",
       "    </tr>\n",
       "  </tbody>\n",
       "</table>\n",
       "</div>"
      ],
      "text/plain": [
       "    Occupation_Analyst  Occupation_Computer Programmer  Occupation_Executive  \\\n",
       "0                    0                               0                     0   \n",
       "2                    0                               0                     0   \n",
       "3                    0                               0                     0   \n",
       "4                    0                               0                     0   \n",
       "5                    0                               0                     0   \n",
       "6                    0                               0                     0   \n",
       "7                    0                               0                     0   \n",
       "8                    0                               0                     0   \n",
       "9                    0                               0                     0   \n",
       "10                   0                               0                     0   \n",
       "\n",
       "    Occupation_Other  Occupation_Professional  \n",
       "0                  1                        0  \n",
       "2                  1                        0  \n",
       "3                  1                        0  \n",
       "4                  1                        0  \n",
       "5                  0                        1  \n",
       "6                  0                        1  \n",
       "7                  1                        0  \n",
       "8                  1                        0  \n",
       "9                  1                        0  \n",
       "10                 1                        0  "
      ]
     },
     "execution_count": 19,
     "metadata": {},
     "output_type": "execute_result"
    }
   ],
   "source": [
    "#example of categorical bucketing\n",
    "cuts_cat = get_bucket_catfeature(df_train, 'Occupation', 6)\n",
    "dumm_cat = apply_bucketing_cat(df_train, 'Occupation', cuts_cat)\n",
    "dumm_cat[:10]"
   ]
  },
  {
   "cell_type": "markdown",
   "metadata": {},
   "source": [
    "### Set up bucketing, then apply it"
   ]
  },
  {
   "cell_type": "code",
   "execution_count": 20,
   "metadata": {
    "ExecuteTime": {
     "end_time": "2019-05-15T21:30:48.438303Z",
     "start_time": "2019-05-15T21:30:48.393550Z"
    }
   },
   "outputs": [],
   "source": [
    "def get_bucket_feature(df, feat_col, n_bins=6):\n",
    "    \"\"\"Trains bucketing in a feature, whether if it is numerical\n",
    "    or categorical\n",
    "    \n",
    "    Args:\n",
    "        df: Pandas Dataframe with the input data\n",
    "        feat_col: Name of the column with the input feature\n",
    "        n_bins: Cuts that will be applied to the input data\n",
    "        \n",
    "    Returns:\n",
    "        List with the cuts learned from the data\n",
    "    \"\"\"\n",
    "    if df[feat_col].dtypes in (object, bool):\n",
    "        cuts = get_bucket_catfeature(df, feat_col, n_bins)\n",
    "    else:\n",
    "        cuts = get_bucket_numfeature(df, feat_col, n_bins)\n",
    "    return cuts\n",
    "\n",
    "def get_bucketing_allfeatures(df, features, n_bins=6):\n",
    "    \"\"\"Trains bucketing in all given features of a dataset\n",
    "    \n",
    "    Args:\n",
    "        df: Pandas Dataframe with the input data\n",
    "        features: Features which bucketing will be learnt\n",
    "        n_bins: Cuts that will be applied to the input data\n",
    "        \n",
    "    Returns:\n",
    "        Dict, containing all features and its corresponding\n",
    "        bucketing. For example:\n",
    "         {'feature1': cuts1,\n",
    "          'feature2': cuts2}  \n",
    "    \"\"\"\n",
    "    out_dict = {}\n",
    "    for feature in features:\n",
    "        print(feature)\n",
    "        cuts = get_bucket_feature(df, feature, n_bins)\n",
    "        out_dict[feature] = cuts\n",
    "    return out_dict"
   ]
  },
  {
   "cell_type": "code",
   "execution_count": 21,
   "metadata": {
    "ExecuteTime": {
     "end_time": "2019-05-15T21:30:49.264311Z",
     "start_time": "2019-05-15T21:30:48.609506Z"
    }
   },
   "outputs": [
    {
     "name": "stdout",
     "output_type": "stream",
     "text": [
      "TradesOpenedLast6Months\n",
      "DebtToIncomeRatio\n",
      "CurrentCreditLines\n",
      "OnTimeProsperPayments\n",
      "ProsperPaymentsOneMonthPlusLate\n",
      "TotalTrades\n",
      "IncomeRange\n",
      "TotalProsperLoans\n",
      "IsBorrowerHomeowner\n",
      "IncomeVerifiable\n",
      "ProsperPrincipalBorrowed\n",
      "CurrentlyInGroup\n",
      "CreditScoreRangeLower\n",
      "BorrowerState\n",
      "Occupation\n",
      "ProsperPrincipalOutstanding\n",
      "ScorexChangeAtTimeOfListing\n",
      "AmountDelinquent\n",
      "StatedMonthlyIncome\n",
      "ProsperPaymentsLessThanOneMonthLate\n",
      "InquiriesLast6Months\n"
     ]
    },
    {
     "data": {
      "text/plain": [
       "{'TradesOpenedLast6Months': [0.0, 1.0, 20.0],\n",
       " 'DebtToIncomeRatio': [0.0, 0.13, 0.19, 0.29, 10.01],\n",
       " 'CurrentCreditLines': [0.0, 6.0, 9.0, 12.0, 38.0],\n",
       " 'OnTimeProsperPayments': [0.0, 10.0, 19.0, 34.0, 103.0],\n",
       " 'ProsperPaymentsOneMonthPlusLate': [0.0, 21.0],\n",
       " 'TotalTrades': [1.0, 14.0, 21.0, 30.0, 110.0],\n",
       " 'IncomeRange': ['$25,000-49,999',\n",
       "  '$50,000-74,999',\n",
       "  '$100,000+',\n",
       "  '$75,000-99,999'],\n",
       " 'TotalProsperLoans': [0.0, 1.0, 2.0, 7.0],\n",
       " 'IsBorrowerHomeowner': [True, False],\n",
       " 'IncomeVerifiable': [True, False],\n",
       " 'ProsperPrincipalBorrowed': [0.0, 3000.0, 5000.0, 9000.0, 57499.0],\n",
       " 'CurrentlyInGroup': [False, True],\n",
       " 'CreditScoreRangeLower': [600.0, 660.0, 700.0, 740.0, 880.0],\n",
       " 'BorrowerState': ['CA', 'FL', 'NY', 'TX'],\n",
       " 'Occupation': ['Other', 'Professional', 'Computer Programmer', 'Executive'],\n",
       " 'ProsperPrincipalOutstanding': [0.0, 817.575, 3049.0924999999997, 21523.79],\n",
       " 'ScorexChangeAtTimeOfListing': [-209.0, -32.0, -3.0, 30.0, 257.0],\n",
       " 'AmountDelinquent': [0.0, 249209.0],\n",
       " 'StatedMonthlyIncome': [0.0,\n",
       "  3166.666667,\n",
       "  4666.666667,\n",
       "  6833.333333,\n",
       "  483333.333333],\n",
       " 'ProsperPaymentsLessThanOneMonthLate': [0.0, 28.0],\n",
       " 'InquiriesLast6Months': [0.0, 1.0, 2.0, 27.0]}"
      ]
     },
     "execution_count": 21,
     "metadata": {},
     "output_type": "execute_result"
    }
   ],
   "source": [
    "dict_bucketing = get_bucketing_allfeatures(df_train, final_features, n_bins=4)\n",
    "dict_bucketing"
   ]
  },
  {
   "cell_type": "code",
   "execution_count": 22,
   "metadata": {
    "ExecuteTime": {
     "end_time": "2019-05-15T21:30:50.002323Z",
     "start_time": "2019-05-15T21:30:49.981716Z"
    }
   },
   "outputs": [
    {
     "data": {
      "text/plain": [
       "(21, 21)"
      ]
     },
     "execution_count": 22,
     "metadata": {},
     "output_type": "execute_result"
    }
   ],
   "source": [
    "len(final_features), len(dict_bucketing.keys())"
   ]
  },
  {
   "cell_type": "code",
   "execution_count": 23,
   "metadata": {
    "ExecuteTime": {
     "end_time": "2019-05-15T21:30:51.874287Z",
     "start_time": "2019-05-15T21:30:51.851120Z"
    }
   },
   "outputs": [],
   "source": [
    "def apply_bucketing(df, feat_col, cuts):\n",
    "    \"\"\"Applies a bucketing schema\n",
    "    \n",
    "    Args:\n",
    "        df: Pandas Dataframe with the input data\n",
    "        feat_col: Name of the column with the input feature\n",
    "        cuts: Cuts that will be applied to the input data\n",
    "        \n",
    "    Returns:\n",
    "        Pandas DataFrame with columns dummy columns\n",
    "    \"\"\"\n",
    "    if df[feat_col].dtypes in (object, bool):\n",
    "        df_buck = apply_bucketing_cat(df, feat_col, cuts)\n",
    "    else:\n",
    "        df_buck = apply_bucketing_num(df, feat_col, cuts)\n",
    "    return df_buck"
   ]
  },
  {
   "cell_type": "code",
   "execution_count": 24,
   "metadata": {
    "ExecuteTime": {
     "end_time": "2019-05-15T21:30:52.982076Z",
     "start_time": "2019-05-15T21:30:52.914430Z"
    }
   },
   "outputs": [
    {
     "data": {
      "text/html": [
       "<div>\n",
       "<style scoped>\n",
       "    .dataframe tbody tr th:only-of-type {\n",
       "        vertical-align: middle;\n",
       "    }\n",
       "\n",
       "    .dataframe tbody tr th {\n",
       "        vertical-align: top;\n",
       "    }\n",
       "\n",
       "    .dataframe thead th {\n",
       "        text-align: right;\n",
       "    }\n",
       "</style>\n",
       "<table border=\"1\" class=\"dataframe\">\n",
       "  <thead>\n",
       "    <tr style=\"text-align: right;\">\n",
       "      <th></th>\n",
       "      <th>CreditScoreRangeLower_660|700</th>\n",
       "      <th>CreditScoreRangeLower_700|740</th>\n",
       "      <th>CreditScoreRangeLower_740|880</th>\n",
       "    </tr>\n",
       "  </thead>\n",
       "  <tbody>\n",
       "    <tr>\n",
       "      <th>0</th>\n",
       "      <td>0</td>\n",
       "      <td>0</td>\n",
       "      <td>0</td>\n",
       "    </tr>\n",
       "    <tr>\n",
       "      <th>2</th>\n",
       "      <td>0</td>\n",
       "      <td>0</td>\n",
       "      <td>0</td>\n",
       "    </tr>\n",
       "    <tr>\n",
       "      <th>3</th>\n",
       "      <td>1</td>\n",
       "      <td>0</td>\n",
       "      <td>0</td>\n",
       "    </tr>\n",
       "    <tr>\n",
       "      <th>4</th>\n",
       "      <td>1</td>\n",
       "      <td>0</td>\n",
       "      <td>0</td>\n",
       "    </tr>\n",
       "    <tr>\n",
       "      <th>5</th>\n",
       "      <td>0</td>\n",
       "      <td>0</td>\n",
       "      <td>1</td>\n",
       "    </tr>\n",
       "  </tbody>\n",
       "</table>\n",
       "</div>"
      ],
      "text/plain": [
       "   CreditScoreRangeLower_660|700  CreditScoreRangeLower_700|740  \\\n",
       "0                              0                              0   \n",
       "2                              0                              0   \n",
       "3                              1                              0   \n",
       "4                              1                              0   \n",
       "5                              0                              0   \n",
       "\n",
       "   CreditScoreRangeLower_740|880  \n",
       "0                              0  \n",
       "2                              0  \n",
       "3                              0  \n",
       "4                              0  \n",
       "5                              1  "
      ]
     },
     "execution_count": 24,
     "metadata": {},
     "output_type": "execute_result"
    }
   ],
   "source": [
    "apply_bucketing(df_train, 'CreditScoreRangeLower', dict_bucketing['CreditScoreRangeLower']).head()"
   ]
  },
  {
   "cell_type": "code",
   "execution_count": 25,
   "metadata": {
    "ExecuteTime": {
     "end_time": "2019-05-15T21:30:55.360172Z",
     "start_time": "2019-05-15T21:30:54.013602Z"
    }
   },
   "outputs": [],
   "source": [
    "# Apply the bucketing\n",
    "\n",
    "# Keep each column dummy columns in independent lists\n",
    "list_df_tr, list_df_val, list_df_oot = [], [], []\n",
    "for feat in final_features:\n",
    "    list_df_tr.append(apply_bucketing(df_train, feat, dict_bucketing[feat]))\n",
    "    list_df_val.append(apply_bucketing(df_val, feat, dict_bucketing[feat]))\n",
    "    list_df_oot.append(apply_bucketing(df_oot, feat, dict_bucketing[feat]))\n",
    "\n",
    "# Then 'vertically' combine them\n",
    "df_tr_preproc = pd.concat(list_df_tr, axis=1)\n",
    "df_val_preproc = pd.concat(list_df_val, axis=1)\n",
    "df_oot_preproc = pd.concat(list_df_oot, axis=1)\n",
    "\n",
    "# Capture the name of all buckets in our dataset\n",
    "keep_cols_buck = df_tr_preproc.columns"
   ]
  },
  {
   "cell_type": "code",
   "execution_count": 26,
   "metadata": {},
   "outputs": [
    {
     "data": {
      "text/plain": [
       "((15259, 56), (13220, 58))"
      ]
     },
     "execution_count": 26,
     "metadata": {},
     "output_type": "execute_result"
    }
   ],
   "source": [
    "df_tr_preproc.shape, df_oot_preproc.shape"
   ]
  },
  {
   "cell_type": "code",
   "execution_count": 27,
   "metadata": {
    "ExecuteTime": {
     "end_time": "2019-05-15T21:30:56.366797Z",
     "start_time": "2019-05-15T21:30:56.349901Z"
    }
   },
   "outputs": [],
   "source": [
    "# Capture the target in each subset\n",
    "y_tr, y_val, y_oot = df_train['bad'], df_val['bad'], df_oot['bad']"
   ]
  },
  {
   "cell_type": "markdown",
   "metadata": {},
   "source": [
    "## Modeling"
   ]
  },
  {
   "cell_type": "markdown",
   "metadata": {},
   "source": [
    "### Logistic Regression"
   ]
  },
  {
   "cell_type": "code",
   "execution_count": 28,
   "metadata": {
    "ExecuteTime": {
     "end_time": "2019-05-15T21:31:04.519348Z",
     "start_time": "2019-05-15T21:31:04.314414Z"
    }
   },
   "outputs": [],
   "source": [
    "from sklearn.linear_model import LogisticRegression\n",
    "from sklearn import metrics"
   ]
  },
  {
   "cell_type": "code",
   "execution_count": 29,
   "metadata": {
    "ExecuteTime": {
     "end_time": "2019-05-15T21:31:04.875031Z",
     "start_time": "2019-05-15T21:31:04.859449Z"
    }
   },
   "outputs": [],
   "source": [
    "def get_auc(y_true, y_pred):\n",
    "    fpr, tpr, thresholds = metrics.roc_curve(y_true, y_pred)\n",
    "    return metrics.auc(fpr, tpr)"
   ]
  },
  {
   "cell_type": "code",
   "execution_count": 30,
   "metadata": {
    "ExecuteTime": {
     "end_time": "2019-05-15T21:31:07.303874Z",
     "start_time": "2019-05-15T21:31:06.535789Z"
    }
   },
   "outputs": [
    {
     "data": {
      "text/plain": [
       "[('DebtToIncomeRatio_NA',\n",
       "  1,\n",
       "  IncomeVerifiable_True    0.999027\n",
       "  Name: DebtToIncomeRatio_NA, dtype: float64),\n",
       " ('OnTimeProsperPayments_NA',\n",
       "  6,\n",
       "  ProsperPaymentsOneMonthPlusLate_NA        1.000000\n",
       "  TotalProsperLoans_NA                      1.000000\n",
       "  ProsperPrincipalBorrowed_NA               1.000000\n",
       "  ProsperPrincipalOutstanding_NA            1.000000\n",
       "  ScorexChangeAtTimeOfListing_NA            0.996584\n",
       "  ProsperPaymentsLessThanOneMonthLate_NA    1.000000\n",
       "  Name: OnTimeProsperPayments_NA, dtype: float64),\n",
       " ('ProsperPaymentsOneMonthPlusLate_NA',\n",
       "  6,\n",
       "  OnTimeProsperPayments_NA                  1.000000\n",
       "  TotalProsperLoans_NA                      1.000000\n",
       "  ProsperPrincipalBorrowed_NA               1.000000\n",
       "  ProsperPrincipalOutstanding_NA            1.000000\n",
       "  ScorexChangeAtTimeOfListing_NA            0.996584\n",
       "  ProsperPaymentsLessThanOneMonthLate_NA    1.000000\n",
       "  Name: ProsperPaymentsOneMonthPlusLate_NA, dtype: float64),\n",
       " ('TotalProsperLoans_NA',\n",
       "  6,\n",
       "  OnTimeProsperPayments_NA                  1.000000\n",
       "  ProsperPaymentsOneMonthPlusLate_NA        1.000000\n",
       "  ProsperPrincipalBorrowed_NA               1.000000\n",
       "  ProsperPrincipalOutstanding_NA            1.000000\n",
       "  ScorexChangeAtTimeOfListing_NA            0.996584\n",
       "  ProsperPaymentsLessThanOneMonthLate_NA    1.000000\n",
       "  Name: TotalProsperLoans_NA, dtype: float64),\n",
       " ('IncomeVerifiable_True',\n",
       "  1,\n",
       "  DebtToIncomeRatio_NA    0.999027\n",
       "  Name: IncomeVerifiable_True, dtype: float64),\n",
       " ('ProsperPrincipalBorrowed_NA',\n",
       "  6,\n",
       "  OnTimeProsperPayments_NA                  1.000000\n",
       "  ProsperPaymentsOneMonthPlusLate_NA        1.000000\n",
       "  TotalProsperLoans_NA                      1.000000\n",
       "  ProsperPrincipalOutstanding_NA            1.000000\n",
       "  ScorexChangeAtTimeOfListing_NA            0.996584\n",
       "  ProsperPaymentsLessThanOneMonthLate_NA    1.000000\n",
       "  Name: ProsperPrincipalBorrowed_NA, dtype: float64),\n",
       " ('ProsperPrincipalOutstanding_NA',\n",
       "  6,\n",
       "  OnTimeProsperPayments_NA                  1.000000\n",
       "  ProsperPaymentsOneMonthPlusLate_NA        1.000000\n",
       "  TotalProsperLoans_NA                      1.000000\n",
       "  ProsperPrincipalBorrowed_NA               1.000000\n",
       "  ScorexChangeAtTimeOfListing_NA            0.996584\n",
       "  ProsperPaymentsLessThanOneMonthLate_NA    1.000000\n",
       "  Name: ProsperPrincipalOutstanding_NA, dtype: float64),\n",
       " ('ScorexChangeAtTimeOfListing_NA',\n",
       "  6,\n",
       "  OnTimeProsperPayments_NA                  0.996584\n",
       "  ProsperPaymentsOneMonthPlusLate_NA        0.996584\n",
       "  TotalProsperLoans_NA                      0.996584\n",
       "  ProsperPrincipalBorrowed_NA               0.996584\n",
       "  ProsperPrincipalOutstanding_NA            0.996584\n",
       "  ProsperPaymentsLessThanOneMonthLate_NA    0.996584\n",
       "  Name: ScorexChangeAtTimeOfListing_NA, dtype: float64),\n",
       " ('ProsperPaymentsLessThanOneMonthLate_NA',\n",
       "  6,\n",
       "  OnTimeProsperPayments_NA              1.000000\n",
       "  ProsperPaymentsOneMonthPlusLate_NA    1.000000\n",
       "  TotalProsperLoans_NA                  1.000000\n",
       "  ProsperPrincipalBorrowed_NA           1.000000\n",
       "  ProsperPrincipalOutstanding_NA        1.000000\n",
       "  ScorexChangeAtTimeOfListing_NA        0.996584\n",
       "  Name: ProsperPaymentsLessThanOneMonthLate_NA, dtype: float64)]"
      ]
     },
     "execution_count": 30,
     "metadata": {},
     "output_type": "execute_result"
    }
   ],
   "source": [
    "#check buckets correlations\n",
    "corr = df_tr_preproc[keep_cols_buck].corr()\n",
    "orig_features = keep_cols_buck.values.tolist()\n",
    "corr_TH = 0.75\n",
    "n_corr_list=[]\n",
    "corr_feats_list=[]\n",
    "for f in orig_features:\n",
    "    #get correlation entries for the feature\n",
    "    corr_f = corr[f][[col for col in orig_features if col!=f]]\n",
    "    #work with absolute value\n",
    "    corr_f_abs = corr_f.abs()\n",
    "    #get features above corr TH\n",
    "    corr_ht_th = corr_f_abs[corr_f_abs>corr_TH]\n",
    "    n_corr_list.append(corr_ht_th.shape[0])\n",
    "    corr_feats_list.append(corr_ht_th)\n",
    "\n",
    "corr_buckets = [(feat, n, feats_corr) for n, feats_corr, feat in zip(n_corr_list, corr_feats_list, orig_features) if n>0]\n",
    "corr_buckets"
   ]
  },
  {
   "cell_type": "code",
   "execution_count": 31,
   "metadata": {
    "ExecuteTime": {
     "end_time": "2019-05-15T21:31:07.807280Z",
     "start_time": "2019-05-15T21:31:07.782549Z"
    }
   },
   "outputs": [
    {
     "name": "stdout",
     "output_type": "stream",
     "text": [
      "Drop: ProsperPaymentsOneMonthPlusLate_NA\n",
      "Drop: TotalProsperLoans_NA\n",
      "Drop: IncomeVerifiable_True\n",
      "Drop: ProsperPrincipalBorrowed_NA\n",
      "Drop: ProsperPrincipalOutstanding_NA\n",
      "Drop: ScorexChangeAtTimeOfListing_NA\n",
      "Drop: ProsperPaymentsLessThanOneMonthLate_NA\n"
     ]
    }
   ],
   "source": [
    "glm_cols = get_uncorr_feats(corr_buckets, orig_features)"
   ]
  },
  {
   "cell_type": "code",
   "execution_count": 32,
   "metadata": {},
   "outputs": [
    {
     "data": {
      "text/plain": [
       "['TradesOpenedLast6Months_1|20',\n",
       " 'DebtToIncomeRatio_0.1|0.2',\n",
       " 'DebtToIncomeRatio_0.2|0.3',\n",
       " 'DebtToIncomeRatio_0.3|10',\n",
       " 'DebtToIncomeRatio_NA',\n",
       " 'CurrentCreditLines_6|9',\n",
       " 'CurrentCreditLines_9|12',\n",
       " 'CurrentCreditLines_12|38',\n",
       " 'OnTimeProsperPayments_10|19',\n",
       " 'OnTimeProsperPayments_19|34',\n",
       " 'OnTimeProsperPayments_34|103',\n",
       " 'OnTimeProsperPayments_NA',\n",
       " 'ProsperPaymentsOneMonthPlusLate_10|21',\n",
       " 'TotalTrades_14|21',\n",
       " 'TotalTrades_21|30',\n",
       " 'TotalTrades_30|110',\n",
       " 'IncomeRange_$25,000-49,999',\n",
       " 'IncomeRange_$50,000-74,999',\n",
       " 'IncomeRange_$75,000-99,999',\n",
       " 'IncomeRange_Other',\n",
       " 'TotalProsperLoans_1|2',\n",
       " 'TotalProsperLoans_2|7',\n",
       " 'IsBorrowerHomeowner_True',\n",
       " 'ProsperPrincipalBorrowed_3000|5000',\n",
       " 'ProsperPrincipalBorrowed_5000|9000',\n",
       " 'ProsperPrincipalBorrowed_9000|57499',\n",
       " 'CurrentlyInGroup_True',\n",
       " 'CreditScoreRangeLower_660|700',\n",
       " 'CreditScoreRangeLower_700|740',\n",
       " 'CreditScoreRangeLower_740|880',\n",
       " 'BorrowerState_FL',\n",
       " 'BorrowerState_NY',\n",
       " 'BorrowerState_Other',\n",
       " 'BorrowerState_TX',\n",
       " 'Occupation_Executive',\n",
       " 'Occupation_Other',\n",
       " 'Occupation_Professional',\n",
       " 'ProsperPrincipalOutstanding_818|3049',\n",
       " 'ProsperPrincipalOutstanding_3049|21524',\n",
       " 'ScorexChangeAtTimeOfListing_-32|-3',\n",
       " 'ScorexChangeAtTimeOfListing_-3|30',\n",
       " 'ScorexChangeAtTimeOfListing_30|257',\n",
       " 'AmountDelinquent_124604|249209',\n",
       " 'StatedMonthlyIncome_3167|4667',\n",
       " 'StatedMonthlyIncome_4667|6833',\n",
       " 'StatedMonthlyIncome_6833|483333',\n",
       " 'ProsperPaymentsLessThanOneMonthLate_14|28',\n",
       " 'InquiriesLast6Months_1|2',\n",
       " 'InquiriesLast6Months_2|27']"
      ]
     },
     "execution_count": 32,
     "metadata": {},
     "output_type": "execute_result"
    }
   ],
   "source": [
    "glm_cols"
   ]
  },
  {
   "cell_type": "code",
   "execution_count": 33,
   "metadata": {
    "ExecuteTime": {
     "end_time": "2019-05-15T21:31:09.862098Z",
     "start_time": "2019-05-15T21:31:09.186937Z"
    }
   },
   "outputs": [
    {
     "data": {
      "text/html": [
       "<style>#sk-container-id-1 {color: black;background-color: white;}#sk-container-id-1 pre{padding: 0;}#sk-container-id-1 div.sk-toggleable {background-color: white;}#sk-container-id-1 label.sk-toggleable__label {cursor: pointer;display: block;width: 100%;margin-bottom: 0;padding: 0.3em;box-sizing: border-box;text-align: center;}#sk-container-id-1 label.sk-toggleable__label-arrow:before {content: \"▸\";float: left;margin-right: 0.25em;color: #696969;}#sk-container-id-1 label.sk-toggleable__label-arrow:hover:before {color: black;}#sk-container-id-1 div.sk-estimator:hover label.sk-toggleable__label-arrow:before {color: black;}#sk-container-id-1 div.sk-toggleable__content {max-height: 0;max-width: 0;overflow: hidden;text-align: left;background-color: #f0f8ff;}#sk-container-id-1 div.sk-toggleable__content pre {margin: 0.2em;color: black;border-radius: 0.25em;background-color: #f0f8ff;}#sk-container-id-1 input.sk-toggleable__control:checked~div.sk-toggleable__content {max-height: 200px;max-width: 100%;overflow: auto;}#sk-container-id-1 input.sk-toggleable__control:checked~label.sk-toggleable__label-arrow:before {content: \"▾\";}#sk-container-id-1 div.sk-estimator input.sk-toggleable__control:checked~label.sk-toggleable__label {background-color: #d4ebff;}#sk-container-id-1 div.sk-label input.sk-toggleable__control:checked~label.sk-toggleable__label {background-color: #d4ebff;}#sk-container-id-1 input.sk-hidden--visually {border: 0;clip: rect(1px 1px 1px 1px);clip: rect(1px, 1px, 1px, 1px);height: 1px;margin: -1px;overflow: hidden;padding: 0;position: absolute;width: 1px;}#sk-container-id-1 div.sk-estimator {font-family: monospace;background-color: #f0f8ff;border: 1px dotted black;border-radius: 0.25em;box-sizing: border-box;margin-bottom: 0.5em;}#sk-container-id-1 div.sk-estimator:hover {background-color: #d4ebff;}#sk-container-id-1 div.sk-parallel-item::after {content: \"\";width: 100%;border-bottom: 1px solid gray;flex-grow: 1;}#sk-container-id-1 div.sk-label:hover label.sk-toggleable__label {background-color: #d4ebff;}#sk-container-id-1 div.sk-serial::before {content: \"\";position: absolute;border-left: 1px solid gray;box-sizing: border-box;top: 0;bottom: 0;left: 50%;z-index: 0;}#sk-container-id-1 div.sk-serial {display: flex;flex-direction: column;align-items: center;background-color: white;padding-right: 0.2em;padding-left: 0.2em;position: relative;}#sk-container-id-1 div.sk-item {position: relative;z-index: 1;}#sk-container-id-1 div.sk-parallel {display: flex;align-items: stretch;justify-content: center;background-color: white;position: relative;}#sk-container-id-1 div.sk-item::before, #sk-container-id-1 div.sk-parallel-item::before {content: \"\";position: absolute;border-left: 1px solid gray;box-sizing: border-box;top: 0;bottom: 0;left: 50%;z-index: -1;}#sk-container-id-1 div.sk-parallel-item {display: flex;flex-direction: column;z-index: 1;position: relative;background-color: white;}#sk-container-id-1 div.sk-parallel-item:first-child::after {align-self: flex-end;width: 50%;}#sk-container-id-1 div.sk-parallel-item:last-child::after {align-self: flex-start;width: 50%;}#sk-container-id-1 div.sk-parallel-item:only-child::after {width: 0;}#sk-container-id-1 div.sk-dashed-wrapped {border: 1px dashed gray;margin: 0 0.4em 0.5em 0.4em;box-sizing: border-box;padding-bottom: 0.4em;background-color: white;}#sk-container-id-1 div.sk-label label {font-family: monospace;font-weight: bold;display: inline-block;line-height: 1.2em;}#sk-container-id-1 div.sk-label-container {text-align: center;}#sk-container-id-1 div.sk-container {/* jupyter's `normalize.less` sets `[hidden] { display: none; }` but bootstrap.min.css set `[hidden] { display: none !important; }` so we also need the `!important` here to be able to override the default hidden behavior on the sphinx rendered scikit-learn.org. See: https://github.com/scikit-learn/scikit-learn/issues/21755 */display: inline-block !important;position: relative;}#sk-container-id-1 div.sk-text-repr-fallback {display: none;}</style><div id=\"sk-container-id-1\" class=\"sk-top-container\"><div class=\"sk-text-repr-fallback\"><pre>LogisticRegression(C=0.01)</pre><b>In a Jupyter environment, please rerun this cell to show the HTML representation or trust the notebook. <br />On GitHub, the HTML representation is unable to render, please try loading this page with nbviewer.org.</b></div><div class=\"sk-container\" hidden><div class=\"sk-item\"><div class=\"sk-estimator sk-toggleable\"><input class=\"sk-toggleable__control sk-hidden--visually\" id=\"sk-estimator-id-1\" type=\"checkbox\" checked><label for=\"sk-estimator-id-1\" class=\"sk-toggleable__label sk-toggleable__label-arrow\">LogisticRegression</label><div class=\"sk-toggleable__content\"><pre>LogisticRegression(C=0.01)</pre></div></div></div></div></div>"
      ],
      "text/plain": [
       "LogisticRegression(C=0.01)"
      ]
     },
     "execution_count": 33,
     "metadata": {},
     "output_type": "execute_result"
    }
   ],
   "source": [
    "#train first model\n",
    "lr = LogisticRegression(solver='lbfgs', C=0.01)\n",
    "lr.fit(df_tr_preproc[glm_cols], y_tr)"
   ]
  },
  {
   "cell_type": "code",
   "execution_count": 34,
   "metadata": {},
   "outputs": [
    {
     "data": {
      "text/html": [
       "<div>\n",
       "<style scoped>\n",
       "    .dataframe tbody tr th:only-of-type {\n",
       "        vertical-align: middle;\n",
       "    }\n",
       "\n",
       "    .dataframe tbody tr th {\n",
       "        vertical-align: top;\n",
       "    }\n",
       "\n",
       "    .dataframe thead th {\n",
       "        text-align: right;\n",
       "    }\n",
       "</style>\n",
       "<table border=\"1\" class=\"dataframe\">\n",
       "  <thead>\n",
       "    <tr style=\"text-align: right;\">\n",
       "      <th></th>\n",
       "      <th>TradesOpenedLast6Months_1|20</th>\n",
       "      <th>DebtToIncomeRatio_0.1|0.2</th>\n",
       "      <th>DebtToIncomeRatio_0.2|0.3</th>\n",
       "      <th>DebtToIncomeRatio_0.3|10</th>\n",
       "      <th>DebtToIncomeRatio_NA</th>\n",
       "      <th>CurrentCreditLines_6|9</th>\n",
       "      <th>CurrentCreditLines_9|12</th>\n",
       "      <th>CurrentCreditLines_12|38</th>\n",
       "      <th>OnTimeProsperPayments_10|19</th>\n",
       "      <th>OnTimeProsperPayments_19|34</th>\n",
       "      <th>...</th>\n",
       "      <th>ScorexChangeAtTimeOfListing_-32|-3</th>\n",
       "      <th>ScorexChangeAtTimeOfListing_-3|30</th>\n",
       "      <th>ScorexChangeAtTimeOfListing_30|257</th>\n",
       "      <th>AmountDelinquent_124604|249209</th>\n",
       "      <th>StatedMonthlyIncome_3167|4667</th>\n",
       "      <th>StatedMonthlyIncome_4667|6833</th>\n",
       "      <th>StatedMonthlyIncome_6833|483333</th>\n",
       "      <th>ProsperPaymentsLessThanOneMonthLate_14|28</th>\n",
       "      <th>InquiriesLast6Months_1|2</th>\n",
       "      <th>InquiriesLast6Months_2|27</th>\n",
       "    </tr>\n",
       "  </thead>\n",
       "  <tbody>\n",
       "    <tr>\n",
       "      <th>0</th>\n",
       "      <td>0</td>\n",
       "      <td>1</td>\n",
       "      <td>0</td>\n",
       "      <td>0</td>\n",
       "      <td>0</td>\n",
       "      <td>1</td>\n",
       "      <td>0</td>\n",
       "      <td>0</td>\n",
       "      <td>0</td>\n",
       "      <td>0</td>\n",
       "      <td>...</td>\n",
       "      <td>0</td>\n",
       "      <td>0</td>\n",
       "      <td>0</td>\n",
       "      <td>0</td>\n",
       "      <td>1</td>\n",
       "      <td>0</td>\n",
       "      <td>0</td>\n",
       "      <td>0</td>\n",
       "      <td>1</td>\n",
       "      <td>0</td>\n",
       "    </tr>\n",
       "    <tr>\n",
       "      <th>2</th>\n",
       "      <td>0</td>\n",
       "      <td>0</td>\n",
       "      <td>0</td>\n",
       "      <td>0</td>\n",
       "      <td>0</td>\n",
       "      <td>0</td>\n",
       "      <td>0</td>\n",
       "      <td>0</td>\n",
       "      <td>1</td>\n",
       "      <td>0</td>\n",
       "      <td>...</td>\n",
       "      <td>0</td>\n",
       "      <td>1</td>\n",
       "      <td>0</td>\n",
       "      <td>0</td>\n",
       "      <td>0</td>\n",
       "      <td>0</td>\n",
       "      <td>0</td>\n",
       "      <td>0</td>\n",
       "      <td>0</td>\n",
       "      <td>0</td>\n",
       "    </tr>\n",
       "    <tr>\n",
       "      <th>3</th>\n",
       "      <td>1</td>\n",
       "      <td>0</td>\n",
       "      <td>0</td>\n",
       "      <td>0</td>\n",
       "      <td>1</td>\n",
       "      <td>0</td>\n",
       "      <td>0</td>\n",
       "      <td>0</td>\n",
       "      <td>0</td>\n",
       "      <td>0</td>\n",
       "      <td>...</td>\n",
       "      <td>0</td>\n",
       "      <td>0</td>\n",
       "      <td>0</td>\n",
       "      <td>0</td>\n",
       "      <td>0</td>\n",
       "      <td>1</td>\n",
       "      <td>0</td>\n",
       "      <td>0</td>\n",
       "      <td>0</td>\n",
       "      <td>0</td>\n",
       "    </tr>\n",
       "    <tr>\n",
       "      <th>4</th>\n",
       "      <td>0</td>\n",
       "      <td>0</td>\n",
       "      <td>0</td>\n",
       "      <td>0</td>\n",
       "      <td>0</td>\n",
       "      <td>1</td>\n",
       "      <td>0</td>\n",
       "      <td>0</td>\n",
       "      <td>0</td>\n",
       "      <td>0</td>\n",
       "      <td>...</td>\n",
       "      <td>0</td>\n",
       "      <td>0</td>\n",
       "      <td>0</td>\n",
       "      <td>0</td>\n",
       "      <td>0</td>\n",
       "      <td>0</td>\n",
       "      <td>0</td>\n",
       "      <td>0</td>\n",
       "      <td>0</td>\n",
       "      <td>0</td>\n",
       "    </tr>\n",
       "    <tr>\n",
       "      <th>5</th>\n",
       "      <td>0</td>\n",
       "      <td>0</td>\n",
       "      <td>1</td>\n",
       "      <td>0</td>\n",
       "      <td>0</td>\n",
       "      <td>0</td>\n",
       "      <td>0</td>\n",
       "      <td>0</td>\n",
       "      <td>0</td>\n",
       "      <td>0</td>\n",
       "      <td>...</td>\n",
       "      <td>0</td>\n",
       "      <td>0</td>\n",
       "      <td>0</td>\n",
       "      <td>0</td>\n",
       "      <td>0</td>\n",
       "      <td>1</td>\n",
       "      <td>0</td>\n",
       "      <td>0</td>\n",
       "      <td>0</td>\n",
       "      <td>0</td>\n",
       "    </tr>\n",
       "  </tbody>\n",
       "</table>\n",
       "<p>5 rows × 49 columns</p>\n",
       "</div>"
      ],
      "text/plain": [
       "   TradesOpenedLast6Months_1|20  DebtToIncomeRatio_0.1|0.2  \\\n",
       "0                             0                          1   \n",
       "2                             0                          0   \n",
       "3                             1                          0   \n",
       "4                             0                          0   \n",
       "5                             0                          0   \n",
       "\n",
       "   DebtToIncomeRatio_0.2|0.3  DebtToIncomeRatio_0.3|10  DebtToIncomeRatio_NA  \\\n",
       "0                          0                         0                     0   \n",
       "2                          0                         0                     0   \n",
       "3                          0                         0                     1   \n",
       "4                          0                         0                     0   \n",
       "5                          1                         0                     0   \n",
       "\n",
       "   CurrentCreditLines_6|9  CurrentCreditLines_9|12  CurrentCreditLines_12|38  \\\n",
       "0                       1                        0                         0   \n",
       "2                       0                        0                         0   \n",
       "3                       0                        0                         0   \n",
       "4                       1                        0                         0   \n",
       "5                       0                        0                         0   \n",
       "\n",
       "   OnTimeProsperPayments_10|19  OnTimeProsperPayments_19|34  ...  \\\n",
       "0                            0                            0  ...   \n",
       "2                            1                            0  ...   \n",
       "3                            0                            0  ...   \n",
       "4                            0                            0  ...   \n",
       "5                            0                            0  ...   \n",
       "\n",
       "   ScorexChangeAtTimeOfListing_-32|-3  ScorexChangeAtTimeOfListing_-3|30  \\\n",
       "0                                   0                                  0   \n",
       "2                                   0                                  1   \n",
       "3                                   0                                  0   \n",
       "4                                   0                                  0   \n",
       "5                                   0                                  0   \n",
       "\n",
       "   ScorexChangeAtTimeOfListing_30|257  AmountDelinquent_124604|249209  \\\n",
       "0                                   0                               0   \n",
       "2                                   0                               0   \n",
       "3                                   0                               0   \n",
       "4                                   0                               0   \n",
       "5                                   0                               0   \n",
       "\n",
       "   StatedMonthlyIncome_3167|4667  StatedMonthlyIncome_4667|6833  \\\n",
       "0                              1                              0   \n",
       "2                              0                              0   \n",
       "3                              0                              1   \n",
       "4                              0                              0   \n",
       "5                              0                              1   \n",
       "\n",
       "   StatedMonthlyIncome_6833|483333  ProsperPaymentsLessThanOneMonthLate_14|28  \\\n",
       "0                                0                                          0   \n",
       "2                                0                                          0   \n",
       "3                                0                                          0   \n",
       "4                                0                                          0   \n",
       "5                                0                                          0   \n",
       "\n",
       "   InquiriesLast6Months_1|2  InquiriesLast6Months_2|27  \n",
       "0                         1                          0  \n",
       "2                         0                          0  \n",
       "3                         0                          0  \n",
       "4                         0                          0  \n",
       "5                         0                          0  \n",
       "\n",
       "[5 rows x 49 columns]"
      ]
     },
     "execution_count": 34,
     "metadata": {},
     "output_type": "execute_result"
    }
   ],
   "source": [
    "df_tr_preproc[glm_cols].head()"
   ]
  },
  {
   "cell_type": "code",
   "execution_count": 35,
   "metadata": {
    "ExecuteTime": {
     "end_time": "2019-05-15T21:31:18.382052Z",
     "start_time": "2019-05-15T21:31:18.298663Z"
    }
   },
   "outputs": [],
   "source": [
    "# Predict for all subsets\n",
    "pred_log1_tr = lr.predict_proba(df_tr_preproc[glm_cols])[:, 1]\n",
    "pred_log1_val = lr.predict_proba(df_val_preproc[glm_cols])[:, 1]\n",
    "pred_log1_oot = lr.predict_proba(df_oot_preproc[glm_cols])[:, 1]"
   ]
  },
  {
   "cell_type": "code",
   "execution_count": 36,
   "metadata": {
    "ExecuteTime": {
     "end_time": "2019-05-15T21:31:19.288402Z",
     "start_time": "2019-05-15T21:31:19.246779Z"
    }
   },
   "outputs": [
    {
     "data": {
      "text/plain": [
       "(0.7179479819865071, 0.6992407997681831, 0.6901786470733411)"
      ]
     },
     "execution_count": 36,
     "metadata": {},
     "output_type": "execute_result"
    }
   ],
   "source": [
    "Log1_aucs = get_auc(y_tr, pred_log1_tr), get_auc(y_val, pred_log1_val), get_auc(y_oot, pred_log1_oot)\n",
    "Log1_aucs"
   ]
  },
  {
   "cell_type": "code",
   "execution_count": 37,
   "metadata": {
    "ExecuteTime": {
     "end_time": "2019-05-15T21:31:21.003963Z",
     "start_time": "2019-05-15T21:31:20.959005Z"
    }
   },
   "outputs": [],
   "source": [
    "# Get p-values\n",
    "# Mostly from: https://gist.github.com/rspeare/77061e6e317896be29c6de9a85db301d\n",
    "\n",
    "import scipy.stats as stat\n",
    "def get_p_vals(lr, X):\n",
    "    denom = (2.0*(1.0+np.cosh(lr.decision_function(X))))\n",
    "    denom = np.tile(denom,(X.shape[1],1)).T\n",
    "    F_ij = np.dot((X/denom).T,X) ## Fisher Information Matrix\n",
    "    Cramer_Rao = np.linalg.inv(F_ij) ## Inverse Information Matrix\n",
    "    sigma_estimates = np.sqrt(np.diagonal(Cramer_Rao))\n",
    "    z_scores = lr.coef_[0]/sigma_estimates # z-score for eaach model coefficient\n",
    "    p_values = [stat.norm.sf(abs(x))*2 for x in z_scores] ### two tailed test for p-values#        \n",
    "    return p_values\n",
    "\n",
    "def show_lr_summary(p_values, features, lr):\n",
    "    df_ret = pd.DataFrame({'feature': features,\n",
    "                           'p_val': p_values,\n",
    "                           'betas': lr.coef_.tolist()[0]})[['feature', 'betas', 'p_val']]\n",
    "    return df_ret"
   ]
  },
  {
   "cell_type": "code",
   "execution_count": 38,
   "metadata": {
    "ExecuteTime": {
     "end_time": "2019-05-15T21:31:26.263091Z",
     "start_time": "2019-05-15T21:31:25.754776Z"
    }
   },
   "outputs": [
    {
     "data": {
      "text/html": [
       "<div>\n",
       "<style scoped>\n",
       "    .dataframe tbody tr th:only-of-type {\n",
       "        vertical-align: middle;\n",
       "    }\n",
       "\n",
       "    .dataframe tbody tr th {\n",
       "        vertical-align: top;\n",
       "    }\n",
       "\n",
       "    .dataframe thead th {\n",
       "        text-align: right;\n",
       "    }\n",
       "</style>\n",
       "<table border=\"1\" class=\"dataframe\">\n",
       "  <thead>\n",
       "    <tr style=\"text-align: right;\">\n",
       "      <th></th>\n",
       "      <th>feature</th>\n",
       "      <th>betas</th>\n",
       "      <th>p_val</th>\n",
       "    </tr>\n",
       "  </thead>\n",
       "  <tbody>\n",
       "    <tr>\n",
       "      <th>0</th>\n",
       "      <td>TradesOpenedLast6Months_1|20</td>\n",
       "      <td>0.279671</td>\n",
       "      <td>0.000875</td>\n",
       "    </tr>\n",
       "    <tr>\n",
       "      <th>1</th>\n",
       "      <td>DebtToIncomeRatio_0.1|0.2</td>\n",
       "      <td>-0.189019</td>\n",
       "      <td>0.078805</td>\n",
       "    </tr>\n",
       "    <tr>\n",
       "      <th>2</th>\n",
       "      <td>DebtToIncomeRatio_0.2|0.3</td>\n",
       "      <td>0.047985</td>\n",
       "      <td>0.650278</td>\n",
       "    </tr>\n",
       "    <tr>\n",
       "      <th>3</th>\n",
       "      <td>DebtToIncomeRatio_0.3|10</td>\n",
       "      <td>0.253394</td>\n",
       "      <td>0.024095</td>\n",
       "    </tr>\n",
       "    <tr>\n",
       "      <th>4</th>\n",
       "      <td>DebtToIncomeRatio_NA</td>\n",
       "      <td>0.349738</td>\n",
       "      <td>0.002146</td>\n",
       "    </tr>\n",
       "    <tr>\n",
       "      <th>5</th>\n",
       "      <td>CurrentCreditLines_6|9</td>\n",
       "      <td>-0.127333</td>\n",
       "      <td>0.163463</td>\n",
       "    </tr>\n",
       "    <tr>\n",
       "      <th>6</th>\n",
       "      <td>CurrentCreditLines_9|12</td>\n",
       "      <td>-0.192076</td>\n",
       "      <td>0.086509</td>\n",
       "    </tr>\n",
       "    <tr>\n",
       "      <th>7</th>\n",
       "      <td>CurrentCreditLines_12|38</td>\n",
       "      <td>-0.098583</td>\n",
       "      <td>0.404284</td>\n",
       "    </tr>\n",
       "    <tr>\n",
       "      <th>8</th>\n",
       "      <td>OnTimeProsperPayments_10|19</td>\n",
       "      <td>-0.215896</td>\n",
       "      <td>0.225780</td>\n",
       "    </tr>\n",
       "    <tr>\n",
       "      <th>9</th>\n",
       "      <td>OnTimeProsperPayments_19|34</td>\n",
       "      <td>-0.137774</td>\n",
       "      <td>0.461083</td>\n",
       "    </tr>\n",
       "    <tr>\n",
       "      <th>10</th>\n",
       "      <td>OnTimeProsperPayments_34|103</td>\n",
       "      <td>-0.175545</td>\n",
       "      <td>0.444681</td>\n",
       "    </tr>\n",
       "    <tr>\n",
       "      <th>11</th>\n",
       "      <td>OnTimeProsperPayments_NA</td>\n",
       "      <td>0.219257</td>\n",
       "      <td>0.200587</td>\n",
       "    </tr>\n",
       "    <tr>\n",
       "      <th>12</th>\n",
       "      <td>ProsperPaymentsOneMonthPlusLate_10|21</td>\n",
       "      <td>-0.001713</td>\n",
       "      <td>0.999454</td>\n",
       "    </tr>\n",
       "    <tr>\n",
       "      <th>13</th>\n",
       "      <td>TotalTrades_14|21</td>\n",
       "      <td>-0.047776</td>\n",
       "      <td>0.607940</td>\n",
       "    </tr>\n",
       "    <tr>\n",
       "      <th>14</th>\n",
       "      <td>TotalTrades_21|30</td>\n",
       "      <td>-0.077390</td>\n",
       "      <td>0.451613</td>\n",
       "    </tr>\n",
       "    <tr>\n",
       "      <th>15</th>\n",
       "      <td>TotalTrades_30|110</td>\n",
       "      <td>-0.070372</td>\n",
       "      <td>0.549718</td>\n",
       "    </tr>\n",
       "    <tr>\n",
       "      <th>16</th>\n",
       "      <td>IncomeRange_$25,000-49,999</td>\n",
       "      <td>0.212844</td>\n",
       "      <td>0.276428</td>\n",
       "    </tr>\n",
       "    <tr>\n",
       "      <th>17</th>\n",
       "      <td>IncomeRange_$50,000-74,999</td>\n",
       "      <td>-0.007041</td>\n",
       "      <td>0.969733</td>\n",
       "    </tr>\n",
       "    <tr>\n",
       "      <th>18</th>\n",
       "      <td>IncomeRange_$75,000-99,999</td>\n",
       "      <td>-0.038020</td>\n",
       "      <td>0.799407</td>\n",
       "    </tr>\n",
       "    <tr>\n",
       "      <th>19</th>\n",
       "      <td>IncomeRange_Other</td>\n",
       "      <td>0.181010</td>\n",
       "      <td>0.409243</td>\n",
       "    </tr>\n",
       "    <tr>\n",
       "      <th>20</th>\n",
       "      <td>TotalProsperLoans_1|2</td>\n",
       "      <td>-0.073795</td>\n",
       "      <td>0.718951</td>\n",
       "    </tr>\n",
       "    <tr>\n",
       "      <th>21</th>\n",
       "      <td>TotalProsperLoans_2|7</td>\n",
       "      <td>-0.077536</td>\n",
       "      <td>0.813286</td>\n",
       "    </tr>\n",
       "    <tr>\n",
       "      <th>22</th>\n",
       "      <td>IsBorrowerHomeowner_True</td>\n",
       "      <td>-0.039924</td>\n",
       "      <td>0.591339</td>\n",
       "    </tr>\n",
       "    <tr>\n",
       "      <th>23</th>\n",
       "      <td>ProsperPrincipalBorrowed_3000|5000</td>\n",
       "      <td>-0.065847</td>\n",
       "      <td>0.715376</td>\n",
       "    </tr>\n",
       "    <tr>\n",
       "      <th>24</th>\n",
       "      <td>ProsperPrincipalBorrowed_5000|9000</td>\n",
       "      <td>-0.014362</td>\n",
       "      <td>0.941456</td>\n",
       "    </tr>\n",
       "    <tr>\n",
       "      <th>25</th>\n",
       "      <td>ProsperPrincipalBorrowed_9000|57499</td>\n",
       "      <td>-0.064067</td>\n",
       "      <td>0.776418</td>\n",
       "    </tr>\n",
       "    <tr>\n",
       "      <th>26</th>\n",
       "      <td>CurrentlyInGroup_True</td>\n",
       "      <td>-0.139279</td>\n",
       "      <td>0.428817</td>\n",
       "    </tr>\n",
       "    <tr>\n",
       "      <th>27</th>\n",
       "      <td>CreditScoreRangeLower_660|700</td>\n",
       "      <td>-0.026401</td>\n",
       "      <td>0.750485</td>\n",
       "    </tr>\n",
       "    <tr>\n",
       "      <th>28</th>\n",
       "      <td>CreditScoreRangeLower_700|740</td>\n",
       "      <td>-0.195710</td>\n",
       "      <td>0.036204</td>\n",
       "    </tr>\n",
       "    <tr>\n",
       "      <th>29</th>\n",
       "      <td>CreditScoreRangeLower_740|880</td>\n",
       "      <td>-0.376416</td>\n",
       "      <td>0.000516</td>\n",
       "    </tr>\n",
       "    <tr>\n",
       "      <th>30</th>\n",
       "      <td>BorrowerState_FL</td>\n",
       "      <td>0.101089</td>\n",
       "      <td>0.496418</td>\n",
       "    </tr>\n",
       "    <tr>\n",
       "      <th>31</th>\n",
       "      <td>BorrowerState_NY</td>\n",
       "      <td>-0.066703</td>\n",
       "      <td>0.679235</td>\n",
       "    </tr>\n",
       "    <tr>\n",
       "      <th>32</th>\n",
       "      <td>BorrowerState_Other</td>\n",
       "      <td>0.031342</td>\n",
       "      <td>0.752747</td>\n",
       "    </tr>\n",
       "    <tr>\n",
       "      <th>33</th>\n",
       "      <td>BorrowerState_TX</td>\n",
       "      <td>0.040347</td>\n",
       "      <td>0.801022</td>\n",
       "    </tr>\n",
       "    <tr>\n",
       "      <th>34</th>\n",
       "      <td>Occupation_Executive</td>\n",
       "      <td>-0.057101</td>\n",
       "      <td>0.820065</td>\n",
       "    </tr>\n",
       "    <tr>\n",
       "      <th>35</th>\n",
       "      <td>Occupation_Other</td>\n",
       "      <td>0.113251</td>\n",
       "      <td>0.478883</td>\n",
       "    </tr>\n",
       "    <tr>\n",
       "      <th>36</th>\n",
       "      <td>Occupation_Professional</td>\n",
       "      <td>0.001023</td>\n",
       "      <td>0.995559</td>\n",
       "    </tr>\n",
       "    <tr>\n",
       "      <th>37</th>\n",
       "      <td>ProsperPrincipalOutstanding_818|3049</td>\n",
       "      <td>0.034036</td>\n",
       "      <td>0.834425</td>\n",
       "    </tr>\n",
       "    <tr>\n",
       "      <th>38</th>\n",
       "      <td>ProsperPrincipalOutstanding_3049|21524</td>\n",
       "      <td>0.196534</td>\n",
       "      <td>0.285141</td>\n",
       "    </tr>\n",
       "    <tr>\n",
       "      <th>39</th>\n",
       "      <td>ScorexChangeAtTimeOfListing_-32|-3</td>\n",
       "      <td>-0.115661</td>\n",
       "      <td>0.489507</td>\n",
       "    </tr>\n",
       "    <tr>\n",
       "      <th>40</th>\n",
       "      <td>ScorexChangeAtTimeOfListing_-3|30</td>\n",
       "      <td>-0.210747</td>\n",
       "      <td>0.239379</td>\n",
       "    </tr>\n",
       "    <tr>\n",
       "      <th>41</th>\n",
       "      <td>ScorexChangeAtTimeOfListing_30|257</td>\n",
       "      <td>-0.197494</td>\n",
       "      <td>0.309481</td>\n",
       "    </tr>\n",
       "    <tr>\n",
       "      <th>42</th>\n",
       "      <td>AmountDelinquent_124604|249209</td>\n",
       "      <td>-0.003876</td>\n",
       "      <td>0.998141</td>\n",
       "    </tr>\n",
       "    <tr>\n",
       "      <th>43</th>\n",
       "      <td>StatedMonthlyIncome_3167|4667</td>\n",
       "      <td>-0.079310</td>\n",
       "      <td>0.434383</td>\n",
       "    </tr>\n",
       "    <tr>\n",
       "      <th>44</th>\n",
       "      <td>StatedMonthlyIncome_4667|6833</td>\n",
       "      <td>-0.094280</td>\n",
       "      <td>0.536648</td>\n",
       "    </tr>\n",
       "    <tr>\n",
       "      <th>45</th>\n",
       "      <td>StatedMonthlyIncome_6833|483333</td>\n",
       "      <td>-0.361826</td>\n",
       "      <td>0.059655</td>\n",
       "    </tr>\n",
       "    <tr>\n",
       "      <th>46</th>\n",
       "      <td>ProsperPaymentsLessThanOneMonthLate_14|28</td>\n",
       "      <td>0.014563</td>\n",
       "      <td>0.986028</td>\n",
       "    </tr>\n",
       "    <tr>\n",
       "      <th>47</th>\n",
       "      <td>InquiriesLast6Months_1|2</td>\n",
       "      <td>0.214071</td>\n",
       "      <td>0.025078</td>\n",
       "    </tr>\n",
       "    <tr>\n",
       "      <th>48</th>\n",
       "      <td>InquiriesLast6Months_2|27</td>\n",
       "      <td>0.416631</td>\n",
       "      <td>0.000004</td>\n",
       "    </tr>\n",
       "  </tbody>\n",
       "</table>\n",
       "</div>"
      ],
      "text/plain": [
       "                                      feature     betas     p_val\n",
       "0                TradesOpenedLast6Months_1|20  0.279671  0.000875\n",
       "1                   DebtToIncomeRatio_0.1|0.2 -0.189019  0.078805\n",
       "2                   DebtToIncomeRatio_0.2|0.3  0.047985  0.650278\n",
       "3                    DebtToIncomeRatio_0.3|10  0.253394  0.024095\n",
       "4                        DebtToIncomeRatio_NA  0.349738  0.002146\n",
       "5                      CurrentCreditLines_6|9 -0.127333  0.163463\n",
       "6                     CurrentCreditLines_9|12 -0.192076  0.086509\n",
       "7                    CurrentCreditLines_12|38 -0.098583  0.404284\n",
       "8                 OnTimeProsperPayments_10|19 -0.215896  0.225780\n",
       "9                 OnTimeProsperPayments_19|34 -0.137774  0.461083\n",
       "10               OnTimeProsperPayments_34|103 -0.175545  0.444681\n",
       "11                   OnTimeProsperPayments_NA  0.219257  0.200587\n",
       "12      ProsperPaymentsOneMonthPlusLate_10|21 -0.001713  0.999454\n",
       "13                          TotalTrades_14|21 -0.047776  0.607940\n",
       "14                          TotalTrades_21|30 -0.077390  0.451613\n",
       "15                         TotalTrades_30|110 -0.070372  0.549718\n",
       "16                 IncomeRange_$25,000-49,999  0.212844  0.276428\n",
       "17                 IncomeRange_$50,000-74,999 -0.007041  0.969733\n",
       "18                 IncomeRange_$75,000-99,999 -0.038020  0.799407\n",
       "19                          IncomeRange_Other  0.181010  0.409243\n",
       "20                      TotalProsperLoans_1|2 -0.073795  0.718951\n",
       "21                      TotalProsperLoans_2|7 -0.077536  0.813286\n",
       "22                   IsBorrowerHomeowner_True -0.039924  0.591339\n",
       "23         ProsperPrincipalBorrowed_3000|5000 -0.065847  0.715376\n",
       "24         ProsperPrincipalBorrowed_5000|9000 -0.014362  0.941456\n",
       "25        ProsperPrincipalBorrowed_9000|57499 -0.064067  0.776418\n",
       "26                      CurrentlyInGroup_True -0.139279  0.428817\n",
       "27              CreditScoreRangeLower_660|700 -0.026401  0.750485\n",
       "28              CreditScoreRangeLower_700|740 -0.195710  0.036204\n",
       "29              CreditScoreRangeLower_740|880 -0.376416  0.000516\n",
       "30                           BorrowerState_FL  0.101089  0.496418\n",
       "31                           BorrowerState_NY -0.066703  0.679235\n",
       "32                        BorrowerState_Other  0.031342  0.752747\n",
       "33                           BorrowerState_TX  0.040347  0.801022\n",
       "34                       Occupation_Executive -0.057101  0.820065\n",
       "35                           Occupation_Other  0.113251  0.478883\n",
       "36                    Occupation_Professional  0.001023  0.995559\n",
       "37       ProsperPrincipalOutstanding_818|3049  0.034036  0.834425\n",
       "38     ProsperPrincipalOutstanding_3049|21524  0.196534  0.285141\n",
       "39         ScorexChangeAtTimeOfListing_-32|-3 -0.115661  0.489507\n",
       "40          ScorexChangeAtTimeOfListing_-3|30 -0.210747  0.239379\n",
       "41         ScorexChangeAtTimeOfListing_30|257 -0.197494  0.309481\n",
       "42             AmountDelinquent_124604|249209 -0.003876  0.998141\n",
       "43              StatedMonthlyIncome_3167|4667 -0.079310  0.434383\n",
       "44              StatedMonthlyIncome_4667|6833 -0.094280  0.536648\n",
       "45            StatedMonthlyIncome_6833|483333 -0.361826  0.059655\n",
       "46  ProsperPaymentsLessThanOneMonthLate_14|28  0.014563  0.986028\n",
       "47                   InquiriesLast6Months_1|2  0.214071  0.025078\n",
       "48                  InquiriesLast6Months_2|27  0.416631  0.000004"
      ]
     },
     "execution_count": 38,
     "metadata": {},
     "output_type": "execute_result"
    }
   ],
   "source": [
    "# If there was any issue with the data (high correlations...)\n",
    "# This would be messy, with NAs, or maybe not even able to run\n",
    "p_values = get_p_vals(lr, df_tr_preproc[glm_cols])\n",
    "show_lr_summary(p_values, glm_cols, lr)"
   ]
  },
  {
   "cell_type": "markdown",
   "metadata": {},
   "source": [
    "#### P-value based feature selection"
   ]
  },
  {
   "cell_type": "code",
   "execution_count": 39,
   "metadata": {
    "ExecuteTime": {
     "end_time": "2019-05-15T21:32:20.370604Z",
     "start_time": "2019-05-15T21:31:43.047359Z"
    }
   },
   "outputs": [],
   "source": [
    "# remove each bucket with the highest p-value N times\n",
    "# assess how the AUC changes\n",
    "N_iterations = len(glm_cols) - 3\n",
    "glm_cols_pvals = [c for c in glm_cols]\n",
    "\n",
    "# keep the AUCs in each interation \n",
    "auc_train, auc_val, auc_oot = [], [], []\n",
    "# List of tuples where all selected features status will \n",
    "# be stored per iteration\n",
    "features_it_pval = []\n",
    "\n",
    "# for each iteration\n",
    "for it in range(N_iterations):\n",
    "    #capture the feature to be dropped\n",
    "    #in the first iteration we are using the p_values from the model trained 'outside'\n",
    "    feat_drop = [feat for feat, p in zip(glm_cols_pvals, p_values) if p == max(p_values)][0]\n",
    "    glm_cols_pvals.remove(feat_drop)\n",
    "    #re-train the model\n",
    "    lr_it = LogisticRegression(solver='lbfgs', C=0.01)\n",
    "    lr_it.fit(df_tr_preproc[glm_cols_pvals], y_tr)\n",
    "    # Predict for all subsets\n",
    "    pred_tr = lr_it.predict_proba(df_tr_preproc[glm_cols_pvals])[:, 1]\n",
    "    pred_val = lr_it.predict_proba(df_val_preproc[glm_cols_pvals])[:, 1]\n",
    "    pred_oot = lr_it.predict_proba(df_oot_preproc[glm_cols_pvals])[:, 1]\n",
    "    #get aucs\n",
    "    auc_train.append(get_auc(y_tr, pred_tr))\n",
    "    auc_val.append(get_auc(y_val, pred_val)) \n",
    "    auc_oot.append(get_auc(y_oot, pred_oot))\n",
    "    #get p-values\n",
    "    p_values = get_p_vals(lr_it, df_tr_preproc[glm_cols_pvals])\n",
    "    #keep features status at iteration\n",
    "    features_it_pval.append((it, [c for c in glm_cols_pvals]))"
   ]
  },
  {
   "cell_type": "code",
   "execution_count": 40,
   "metadata": {
    "ExecuteTime": {
     "end_time": "2019-05-15T21:32:20.907606Z",
     "start_time": "2019-05-15T21:32:20.380909Z"
    }
   },
   "outputs": [
    {
     "data": {
      "text/plain": [
       "<matplotlib.legend.Legend at 0x7fa7a9e1d910>"
      ]
     },
     "execution_count": 40,
     "metadata": {},
     "output_type": "execute_result"
    },
    {
     "data": {
      "image/png": "[encoded data removed]",
      "text/plain": [
       "<Figure size 640x480 with 1 Axes>"
      ]
     },
     "metadata": {},
     "output_type": "display_data"
    }
   ],
   "source": [
    "# Plot AUCs in each iteration\n",
    "iterations = [i for i in range(N_iterations)]\n",
    "plt.plot(iterations, auc_train, label='Train')\n",
    "plt.plot(iterations, auc_val, label='Val')\n",
    "plt.plot(iterations, auc_oot, label='OOT')\n",
    "plt.legend()"
   ]
  },
  {
   "cell_type": "code",
   "execution_count": 41,
   "metadata": {
    "ExecuteTime": {
     "end_time": "2019-05-15T21:32:21.413331Z",
     "start_time": "2019-05-15T21:32:20.915613Z"
    }
   },
   "outputs": [
    {
     "data": {
      "text/html": [
       "<style>#sk-container-id-2 {color: black;background-color: white;}#sk-container-id-2 pre{padding: 0;}#sk-container-id-2 div.sk-toggleable {background-color: white;}#sk-container-id-2 label.sk-toggleable__label {cursor: pointer;display: block;width: 100%;margin-bottom: 0;padding: 0.3em;box-sizing: border-box;text-align: center;}#sk-container-id-2 label.sk-toggleable__label-arrow:before {content: \"▸\";float: left;margin-right: 0.25em;color: #696969;}#sk-container-id-2 label.sk-toggleable__label-arrow:hover:before {color: black;}#sk-container-id-2 div.sk-estimator:hover label.sk-toggleable__label-arrow:before {color: black;}#sk-container-id-2 div.sk-toggleable__content {max-height: 0;max-width: 0;overflow: hidden;text-align: left;background-color: #f0f8ff;}#sk-container-id-2 div.sk-toggleable__content pre {margin: 0.2em;color: black;border-radius: 0.25em;background-color: #f0f8ff;}#sk-container-id-2 input.sk-toggleable__control:checked~div.sk-toggleable__content {max-height: 200px;max-width: 100%;overflow: auto;}#sk-container-id-2 input.sk-toggleable__control:checked~label.sk-toggleable__label-arrow:before {content: \"▾\";}#sk-container-id-2 div.sk-estimator input.sk-toggleable__control:checked~label.sk-toggleable__label {background-color: #d4ebff;}#sk-container-id-2 div.sk-label input.sk-toggleable__control:checked~label.sk-toggleable__label {background-color: #d4ebff;}#sk-container-id-2 input.sk-hidden--visually {border: 0;clip: rect(1px 1px 1px 1px);clip: rect(1px, 1px, 1px, 1px);height: 1px;margin: -1px;overflow: hidden;padding: 0;position: absolute;width: 1px;}#sk-container-id-2 div.sk-estimator {font-family: monospace;background-color: #f0f8ff;border: 1px dotted black;border-radius: 0.25em;box-sizing: border-box;margin-bottom: 0.5em;}#sk-container-id-2 div.sk-estimator:hover {background-color: #d4ebff;}#sk-container-id-2 div.sk-parallel-item::after {content: \"\";width: 100%;border-bottom: 1px solid gray;flex-grow: 1;}#sk-container-id-2 div.sk-label:hover label.sk-toggleable__label {background-color: #d4ebff;}#sk-container-id-2 div.sk-serial::before {content: \"\";position: absolute;border-left: 1px solid gray;box-sizing: border-box;top: 0;bottom: 0;left: 50%;z-index: 0;}#sk-container-id-2 div.sk-serial {display: flex;flex-direction: column;align-items: center;background-color: white;padding-right: 0.2em;padding-left: 0.2em;position: relative;}#sk-container-id-2 div.sk-item {position: relative;z-index: 1;}#sk-container-id-2 div.sk-parallel {display: flex;align-items: stretch;justify-content: center;background-color: white;position: relative;}#sk-container-id-2 div.sk-item::before, #sk-container-id-2 div.sk-parallel-item::before {content: \"\";position: absolute;border-left: 1px solid gray;box-sizing: border-box;top: 0;bottom: 0;left: 50%;z-index: -1;}#sk-container-id-2 div.sk-parallel-item {display: flex;flex-direction: column;z-index: 1;position: relative;background-color: white;}#sk-container-id-2 div.sk-parallel-item:first-child::after {align-self: flex-end;width: 50%;}#sk-container-id-2 div.sk-parallel-item:last-child::after {align-self: flex-start;width: 50%;}#sk-container-id-2 div.sk-parallel-item:only-child::after {width: 0;}#sk-container-id-2 div.sk-dashed-wrapped {border: 1px dashed gray;margin: 0 0.4em 0.5em 0.4em;box-sizing: border-box;padding-bottom: 0.4em;background-color: white;}#sk-container-id-2 div.sk-label label {font-family: monospace;font-weight: bold;display: inline-block;line-height: 1.2em;}#sk-container-id-2 div.sk-label-container {text-align: center;}#sk-container-id-2 div.sk-container {/* jupyter's `normalize.less` sets `[hidden] { display: none; }` but bootstrap.min.css set `[hidden] { display: none !important; }` so we also need the `!important` here to be able to override the default hidden behavior on the sphinx rendered scikit-learn.org. See: https://github.com/scikit-learn/scikit-learn/issues/21755 */display: inline-block !important;position: relative;}#sk-container-id-2 div.sk-text-repr-fallback {display: none;}</style><div id=\"sk-container-id-2\" class=\"sk-top-container\"><div class=\"sk-text-repr-fallback\"><pre>LogisticRegression(C=0.01)</pre><b>In a Jupyter environment, please rerun this cell to show the HTML representation or trust the notebook. <br />On GitHub, the HTML representation is unable to render, please try loading this page with nbviewer.org.</b></div><div class=\"sk-container\" hidden><div class=\"sk-item\"><div class=\"sk-estimator sk-toggleable\"><input class=\"sk-toggleable__control sk-hidden--visually\" id=\"sk-estimator-id-2\" type=\"checkbox\" checked><label for=\"sk-estimator-id-2\" class=\"sk-toggleable__label sk-toggleable__label-arrow\">LogisticRegression</label><div class=\"sk-toggleable__content\"><pre>LogisticRegression(C=0.01)</pre></div></div></div></div></div>"
      ],
      "text/plain": [
       "LogisticRegression(C=0.01)"
      ]
     },
     "execution_count": 41,
     "metadata": {},
     "output_type": "execute_result"
    }
   ],
   "source": [
    "# At iteration 40 more or less it stays stable\n",
    "final_features_bucketing = [feats for it, feats in features_it_pval if it==26][0]\n",
    "# Train the final model with the interesting buckets\n",
    "lr_final = LogisticRegression(solver='lbfgs', C=0.01)\n",
    "lr_final.fit(df_tr_preproc[final_features_bucketing], y_tr)"
   ]
  },
  {
   "cell_type": "code",
   "execution_count": 42,
   "metadata": {
    "ExecuteTime": {
     "end_time": "2019-05-15T21:32:21.502326Z",
     "start_time": "2019-05-15T21:32:21.421221Z"
    }
   },
   "outputs": [],
   "source": [
    "# Predict for all subsets\n",
    "pred_tr = lr_final.predict_proba(df_tr_preproc[final_features_bucketing])[:, 1]\n",
    "pred_val = lr_final.predict_proba(df_val_preproc[final_features_bucketing])[:, 1]\n",
    "pred_oot = lr_final.predict_proba(df_oot_preproc[final_features_bucketing])[:, 1]\n",
    "\n",
    "Log2_aucs = get_auc(y_tr, pred_tr), get_auc(y_val, pred_val), get_auc(y_oot, pred_oot)"
   ]
  },
  {
   "cell_type": "code",
   "execution_count": 43,
   "metadata": {
    "ExecuteTime": {
     "end_time": "2019-05-15T21:32:21.698146Z",
     "start_time": "2019-05-15T21:32:21.509227Z"
    }
   },
   "outputs": [
    {
     "data": {
      "text/html": [
       "<div>\n",
       "<style scoped>\n",
       "    .dataframe tbody tr th:only-of-type {\n",
       "        vertical-align: middle;\n",
       "    }\n",
       "\n",
       "    .dataframe tbody tr th {\n",
       "        vertical-align: top;\n",
       "    }\n",
       "\n",
       "    .dataframe thead th {\n",
       "        text-align: right;\n",
       "    }\n",
       "</style>\n",
       "<table border=\"1\" class=\"dataframe\">\n",
       "  <thead>\n",
       "    <tr style=\"text-align: right;\">\n",
       "      <th></th>\n",
       "      <th>feature</th>\n",
       "      <th>betas</th>\n",
       "      <th>p_val</th>\n",
       "    </tr>\n",
       "  </thead>\n",
       "  <tbody>\n",
       "    <tr>\n",
       "      <th>0</th>\n",
       "      <td>TradesOpenedLast6Months_1|20</td>\n",
       "      <td>0.277750</td>\n",
       "      <td>0.000865</td>\n",
       "    </tr>\n",
       "    <tr>\n",
       "      <th>1</th>\n",
       "      <td>DebtToIncomeRatio_0.1|0.2</td>\n",
       "      <td>-0.199809</td>\n",
       "      <td>0.032869</td>\n",
       "    </tr>\n",
       "    <tr>\n",
       "      <th>2</th>\n",
       "      <td>DebtToIncomeRatio_0.3|10</td>\n",
       "      <td>0.239762</td>\n",
       "      <td>0.007339</td>\n",
       "    </tr>\n",
       "    <tr>\n",
       "      <th>3</th>\n",
       "      <td>DebtToIncomeRatio_NA</td>\n",
       "      <td>0.352955</td>\n",
       "      <td>0.000371</td>\n",
       "    </tr>\n",
       "    <tr>\n",
       "      <th>4</th>\n",
       "      <td>CurrentCreditLines_6|9</td>\n",
       "      <td>-0.134440</td>\n",
       "      <td>0.114667</td>\n",
       "    </tr>\n",
       "    <tr>\n",
       "      <th>5</th>\n",
       "      <td>CurrentCreditLines_9|12</td>\n",
       "      <td>-0.211180</td>\n",
       "      <td>0.034110</td>\n",
       "    </tr>\n",
       "    <tr>\n",
       "      <th>6</th>\n",
       "      <td>CurrentCreditLines_12|38</td>\n",
       "      <td>-0.127372</td>\n",
       "      <td>0.185924</td>\n",
       "    </tr>\n",
       "    <tr>\n",
       "      <th>7</th>\n",
       "      <td>OnTimeProsperPayments_10|19</td>\n",
       "      <td>-0.217252</td>\n",
       "      <td>0.183019</td>\n",
       "    </tr>\n",
       "    <tr>\n",
       "      <th>8</th>\n",
       "      <td>OnTimeProsperPayments_19|34</td>\n",
       "      <td>-0.148270</td>\n",
       "      <td>0.361752</td>\n",
       "    </tr>\n",
       "    <tr>\n",
       "      <th>9</th>\n",
       "      <td>OnTimeProsperPayments_34|103</td>\n",
       "      <td>-0.208240</td>\n",
       "      <td>0.201186</td>\n",
       "    </tr>\n",
       "    <tr>\n",
       "      <th>10</th>\n",
       "      <td>OnTimeProsperPayments_NA</td>\n",
       "      <td>0.269022</td>\n",
       "      <td>0.003718</td>\n",
       "    </tr>\n",
       "    <tr>\n",
       "      <th>11</th>\n",
       "      <td>IncomeRange_$25,000-49,999</td>\n",
       "      <td>0.252373</td>\n",
       "      <td>0.001109</td>\n",
       "    </tr>\n",
       "    <tr>\n",
       "      <th>12</th>\n",
       "      <td>IncomeRange_Other</td>\n",
       "      <td>0.233761</td>\n",
       "      <td>0.043137</td>\n",
       "    </tr>\n",
       "    <tr>\n",
       "      <th>13</th>\n",
       "      <td>CreditScoreRangeLower_700|740</td>\n",
       "      <td>-0.190400</td>\n",
       "      <td>0.020267</td>\n",
       "    </tr>\n",
       "    <tr>\n",
       "      <th>14</th>\n",
       "      <td>CreditScoreRangeLower_740|880</td>\n",
       "      <td>-0.381905</td>\n",
       "      <td>0.000060</td>\n",
       "    </tr>\n",
       "    <tr>\n",
       "      <th>15</th>\n",
       "      <td>Occupation_Other</td>\n",
       "      <td>0.124037</td>\n",
       "      <td>0.132561</td>\n",
       "    </tr>\n",
       "    <tr>\n",
       "      <th>16</th>\n",
       "      <td>ProsperPrincipalOutstanding_3049|21524</td>\n",
       "      <td>0.176966</td>\n",
       "      <td>0.195179</td>\n",
       "    </tr>\n",
       "    <tr>\n",
       "      <th>17</th>\n",
       "      <td>ScorexChangeAtTimeOfListing_-3|30</td>\n",
       "      <td>-0.207295</td>\n",
       "      <td>0.189314</td>\n",
       "    </tr>\n",
       "    <tr>\n",
       "      <th>18</th>\n",
       "      <td>ScorexChangeAtTimeOfListing_30|257</td>\n",
       "      <td>-0.195496</td>\n",
       "      <td>0.248610</td>\n",
       "    </tr>\n",
       "    <tr>\n",
       "      <th>19</th>\n",
       "      <td>StatedMonthlyIncome_6833|483333</td>\n",
       "      <td>-0.341406</td>\n",
       "      <td>0.000503</td>\n",
       "    </tr>\n",
       "    <tr>\n",
       "      <th>20</th>\n",
       "      <td>InquiriesLast6Months_1|2</td>\n",
       "      <td>0.209342</td>\n",
       "      <td>0.026888</td>\n",
       "    </tr>\n",
       "    <tr>\n",
       "      <th>21</th>\n",
       "      <td>InquiriesLast6Months_2|27</td>\n",
       "      <td>0.407720</td>\n",
       "      <td>0.000004</td>\n",
       "    </tr>\n",
       "  </tbody>\n",
       "</table>\n",
       "</div>"
      ],
      "text/plain": [
       "                                   feature     betas     p_val\n",
       "0             TradesOpenedLast6Months_1|20  0.277750  0.000865\n",
       "1                DebtToIncomeRatio_0.1|0.2 -0.199809  0.032869\n",
       "2                 DebtToIncomeRatio_0.3|10  0.239762  0.007339\n",
       "3                     DebtToIncomeRatio_NA  0.352955  0.000371\n",
       "4                   CurrentCreditLines_6|9 -0.134440  0.114667\n",
       "5                  CurrentCreditLines_9|12 -0.211180  0.034110\n",
       "6                 CurrentCreditLines_12|38 -0.127372  0.185924\n",
       "7              OnTimeProsperPayments_10|19 -0.217252  0.183019\n",
       "8              OnTimeProsperPayments_19|34 -0.148270  0.361752\n",
       "9             OnTimeProsperPayments_34|103 -0.208240  0.201186\n",
       "10                OnTimeProsperPayments_NA  0.269022  0.003718\n",
       "11              IncomeRange_$25,000-49,999  0.252373  0.001109\n",
       "12                       IncomeRange_Other  0.233761  0.043137\n",
       "13           CreditScoreRangeLower_700|740 -0.190400  0.020267\n",
       "14           CreditScoreRangeLower_740|880 -0.381905  0.000060\n",
       "15                        Occupation_Other  0.124037  0.132561\n",
       "16  ProsperPrincipalOutstanding_3049|21524  0.176966  0.195179\n",
       "17       ScorexChangeAtTimeOfListing_-3|30 -0.207295  0.189314\n",
       "18      ScorexChangeAtTimeOfListing_30|257 -0.195496  0.248610\n",
       "19         StatedMonthlyIncome_6833|483333 -0.341406  0.000503\n",
       "20                InquiriesLast6Months_1|2  0.209342  0.026888\n",
       "21               InquiriesLast6Months_2|27  0.407720  0.000004"
      ]
     },
     "execution_count": 43,
     "metadata": {},
     "output_type": "execute_result"
    }
   ],
   "source": [
    "p_values = get_p_vals(lr_final, df_tr_preproc[final_features_bucketing])\n",
    "show_lr_summary(p_values, final_features_bucketing, lr_final)"
   ]
  },
  {
   "cell_type": "markdown",
   "metadata": {
    "ExecuteTime": {
     "end_time": "2019-05-15T10:56:52.402451Z",
     "start_time": "2019-05-15T10:56:52.390838Z"
    }
   },
   "source": [
    "#### AUC based feature selection"
   ]
  },
  {
   "cell_type": "code",
   "execution_count": 44,
   "metadata": {
    "ExecuteTime": {
     "end_time": "2019-05-15T21:46:45.039235Z",
     "start_time": "2019-05-15T21:32:21.711350Z"
    }
   },
   "outputs": [
    {
     "name": "stdout",
     "output_type": "stream",
     "text": [
      "Working for iteration: 0\n",
      "Working for iteration: 1\n",
      "Working for iteration: 2\n",
      "Working for iteration: 3\n",
      "Working for iteration: 4\n",
      "Working for iteration: 5\n",
      "Working for iteration: 6\n",
      "Working for iteration: 7\n",
      "Working for iteration: 8\n",
      "Working for iteration: 9\n",
      "Working for iteration: 10\n",
      "Working for iteration: 11\n",
      "Working for iteration: 12\n",
      "Working for iteration: 13\n",
      "Working for iteration: 14\n",
      "Working for iteration: 15\n",
      "Working for iteration: 16\n",
      "Working for iteration: 17\n",
      "Working for iteration: 18\n",
      "Working for iteration: 19\n",
      "Working for iteration: 20\n",
      "Working for iteration: 21\n",
      "Working for iteration: 22\n",
      "Working for iteration: 23\n",
      "Working for iteration: 24\n",
      "Working for iteration: 25\n",
      "Working for iteration: 26\n",
      "Working for iteration: 27\n",
      "Working for iteration: 28\n",
      "Working for iteration: 29\n",
      "Working for iteration: 30\n",
      "Working for iteration: 31\n",
      "Working for iteration: 32\n",
      "Working for iteration: 33\n",
      "Working for iteration: 34\n",
      "Working for iteration: 35\n",
      "Working for iteration: 36\n",
      "Working for iteration: 37\n",
      "Working for iteration: 38\n",
      "Working for iteration: 39\n",
      "Working for iteration: 40\n",
      "Working for iteration: 41\n",
      "Working for iteration: 42\n",
      "Working for iteration: 43\n",
      "Working for iteration: 44\n",
      "Working for iteration: 45\n"
     ]
    }
   ],
   "source": [
    "# Try to remove all available features.\n",
    "# Remove the feature that has the lowest impact in AUC\n",
    "N_iterations = len(glm_cols) - 3\n",
    "glm_cols_auc = [c for c in glm_cols]\n",
    "\n",
    "auc_train, auc_val, auc_oot = [], [], []\n",
    "features_it_auc = []\n",
    "for it in range(N_iterations):\n",
    "    print('Working for iteration: {}'.format(str(it)))\n",
    "    #re-train the model\n",
    "    lr_it = LogisticRegression(solver='lbfgs', C=0.01)\n",
    "    lr_it.fit(df_tr_preproc[glm_cols_auc], y_tr)\n",
    "    # Predict for all subsets\n",
    "    pred_tr = lr_it.predict_proba(df_tr_preproc[glm_cols_auc])[:, 1]\n",
    "    pred_val = lr_it.predict_proba(df_val_preproc[glm_cols_auc])[:, 1]\n",
    "    pred_oot = lr_it.predict_proba(df_oot_preproc[glm_cols_auc])[:, 1]\n",
    "    #get base aucs\n",
    "    auc_train_it, auc_val_it, auc_oot_it = get_auc(y_tr, pred_tr), get_auc(y_val, pred_val), get_auc(y_oot, pred_oot)\n",
    "    auc_train.append(auc_train_it)\n",
    "    auc_val.append(auc_val_it) \n",
    "    auc_oot.append(auc_oot_it)\n",
    "    #set up minimum gap\n",
    "    min_gap = 500\n",
    "    for feat_eval in glm_cols_auc:\n",
    "        #use validation AUC only as evaluation metric\n",
    "        #keep features in iteration it, but the feature under evaluation\n",
    "        glm_cols_auc_ev = [c for c in glm_cols_auc if c!=feat_eval]\n",
    "        lr_it_ev = LogisticRegression(solver='lbfgs', C=0.01)\n",
    "        lr_it_ev.fit(df_tr_preproc[glm_cols_auc_ev], y_tr)\n",
    "        #predit @ val data\n",
    "        pred_val = lr_it_ev.predict_proba(df_val_preproc[glm_cols_auc_ev])[:, 1]\n",
    "        #get auc @ val\n",
    "        auc_val_it_ev = get_auc(y_val, pred_val)\n",
    "        #check gap\n",
    "        gap_val_auc = auc_val_it - auc_val_it_ev\n",
    "        #capture the feature that has the lowest AUC impact\n",
    "        if gap_val_auc < min_gap:\n",
    "            candidate_drop = feat_eval\n",
    "            min_gap = gap_val_auc\n",
    "    #remove from the feature set the selected feature\n",
    "    glm_cols_auc.remove(candidate_drop)\n",
    "    #keep features status at iteration\n",
    "    features_it_auc.append((it, [c for c in glm_cols_auc]))"
   ]
  },
  {
   "cell_type": "code",
   "execution_count": 45,
   "metadata": {
    "ExecuteTime": {
     "end_time": "2019-05-15T21:46:45.585036Z",
     "start_time": "2019-05-15T21:46:45.049170Z"
    }
   },
   "outputs": [
    {
     "data": {
      "text/plain": [
       "<matplotlib.legend.Legend at 0x7fa78ee3f0d0>"
      ]
     },
     "execution_count": 45,
     "metadata": {},
     "output_type": "execute_result"
    },
    {
     "data": {
      "image/png": "[encoded data removed]",
      "text/plain": [
       "<Figure size 640x480 with 1 Axes>"
      ]
     },
     "metadata": {},
     "output_type": "display_data"
    }
   ],
   "source": [
    "# Plot AUCs in each iteration\n",
    "iterations = [i for i in range(N_iterations)]\n",
    "plt.plot(iterations, auc_train, label='Train')\n",
    "plt.plot(iterations, auc_val, label='Val')\n",
    "plt.plot(iterations, auc_oot, label='OOT')\n",
    "plt.legend()"
   ]
  },
  {
   "cell_type": "code",
   "execution_count": 46,
   "metadata": {
    "ExecuteTime": {
     "end_time": "2019-05-15T21:46:45.889637Z",
     "start_time": "2019-05-15T21:46:45.592698Z"
    }
   },
   "outputs": [
    {
     "data": {
      "text/html": [
       "<style>#sk-container-id-3 {color: black;background-color: white;}#sk-container-id-3 pre{padding: 0;}#sk-container-id-3 div.sk-toggleable {background-color: white;}#sk-container-id-3 label.sk-toggleable__label {cursor: pointer;display: block;width: 100%;margin-bottom: 0;padding: 0.3em;box-sizing: border-box;text-align: center;}#sk-container-id-3 label.sk-toggleable__label-arrow:before {content: \"▸\";float: left;margin-right: 0.25em;color: #696969;}#sk-container-id-3 label.sk-toggleable__label-arrow:hover:before {color: black;}#sk-container-id-3 div.sk-estimator:hover label.sk-toggleable__label-arrow:before {color: black;}#sk-container-id-3 div.sk-toggleable__content {max-height: 0;max-width: 0;overflow: hidden;text-align: left;background-color: #f0f8ff;}#sk-container-id-3 div.sk-toggleable__content pre {margin: 0.2em;color: black;border-radius: 0.25em;background-color: #f0f8ff;}#sk-container-id-3 input.sk-toggleable__control:checked~div.sk-toggleable__content {max-height: 200px;max-width: 100%;overflow: auto;}#sk-container-id-3 input.sk-toggleable__control:checked~label.sk-toggleable__label-arrow:before {content: \"▾\";}#sk-container-id-3 div.sk-estimator input.sk-toggleable__control:checked~label.sk-toggleable__label {background-color: #d4ebff;}#sk-container-id-3 div.sk-label input.sk-toggleable__control:checked~label.sk-toggleable__label {background-color: #d4ebff;}#sk-container-id-3 input.sk-hidden--visually {border: 0;clip: rect(1px 1px 1px 1px);clip: rect(1px, 1px, 1px, 1px);height: 1px;margin: -1px;overflow: hidden;padding: 0;position: absolute;width: 1px;}#sk-container-id-3 div.sk-estimator {font-family: monospace;background-color: #f0f8ff;border: 1px dotted black;border-radius: 0.25em;box-sizing: border-box;margin-bottom: 0.5em;}#sk-container-id-3 div.sk-estimator:hover {background-color: #d4ebff;}#sk-container-id-3 div.sk-parallel-item::after {content: \"\";width: 100%;border-bottom: 1px solid gray;flex-grow: 1;}#sk-container-id-3 div.sk-label:hover label.sk-toggleable__label {background-color: #d4ebff;}#sk-container-id-3 div.sk-serial::before {content: \"\";position: absolute;border-left: 1px solid gray;box-sizing: border-box;top: 0;bottom: 0;left: 50%;z-index: 0;}#sk-container-id-3 div.sk-serial {display: flex;flex-direction: column;align-items: center;background-color: white;padding-right: 0.2em;padding-left: 0.2em;position: relative;}#sk-container-id-3 div.sk-item {position: relative;z-index: 1;}#sk-container-id-3 div.sk-parallel {display: flex;align-items: stretch;justify-content: center;background-color: white;position: relative;}#sk-container-id-3 div.sk-item::before, #sk-container-id-3 div.sk-parallel-item::before {content: \"\";position: absolute;border-left: 1px solid gray;box-sizing: border-box;top: 0;bottom: 0;left: 50%;z-index: -1;}#sk-container-id-3 div.sk-parallel-item {display: flex;flex-direction: column;z-index: 1;position: relative;background-color: white;}#sk-container-id-3 div.sk-parallel-item:first-child::after {align-self: flex-end;width: 50%;}#sk-container-id-3 div.sk-parallel-item:last-child::after {align-self: flex-start;width: 50%;}#sk-container-id-3 div.sk-parallel-item:only-child::after {width: 0;}#sk-container-id-3 div.sk-dashed-wrapped {border: 1px dashed gray;margin: 0 0.4em 0.5em 0.4em;box-sizing: border-box;padding-bottom: 0.4em;background-color: white;}#sk-container-id-3 div.sk-label label {font-family: monospace;font-weight: bold;display: inline-block;line-height: 1.2em;}#sk-container-id-3 div.sk-label-container {text-align: center;}#sk-container-id-3 div.sk-container {/* jupyter's `normalize.less` sets `[hidden] { display: none; }` but bootstrap.min.css set `[hidden] { display: none !important; }` so we also need the `!important` here to be able to override the default hidden behavior on the sphinx rendered scikit-learn.org. See: https://github.com/scikit-learn/scikit-learn/issues/21755 */display: inline-block !important;position: relative;}#sk-container-id-3 div.sk-text-repr-fallback {display: none;}</style><div id=\"sk-container-id-3\" class=\"sk-top-container\"><div class=\"sk-text-repr-fallback\"><pre>LogisticRegression(C=0.01)</pre><b>In a Jupyter environment, please rerun this cell to show the HTML representation or trust the notebook. <br />On GitHub, the HTML representation is unable to render, please try loading this page with nbviewer.org.</b></div><div class=\"sk-container\" hidden><div class=\"sk-item\"><div class=\"sk-estimator sk-toggleable\"><input class=\"sk-toggleable__control sk-hidden--visually\" id=\"sk-estimator-id-3\" type=\"checkbox\" checked><label for=\"sk-estimator-id-3\" class=\"sk-toggleable__label sk-toggleable__label-arrow\">LogisticRegression</label><div class=\"sk-toggleable__content\"><pre>LogisticRegression(C=0.01)</pre></div></div></div></div></div>"
      ],
      "text/plain": [
       "LogisticRegression(C=0.01)"
      ]
     },
     "execution_count": 46,
     "metadata": {},
     "output_type": "execute_result"
    }
   ],
   "source": [
    "# get the iteration where it stays stable\n",
    "final_features_bucketing_auc = [feats for it, feats in features_it_auc if it==26][0]\n",
    "# Train the final model with the interesting buckets\n",
    "lr_final_auc = LogisticRegression(solver='lbfgs', C=0.01)\n",
    "lr_final_auc.fit(df_tr_preproc[final_features_bucketing_auc], y_tr)"
   ]
  },
  {
   "cell_type": "code",
   "execution_count": 47,
   "metadata": {
    "ExecuteTime": {
     "end_time": "2019-05-15T21:46:45.967011Z",
     "start_time": "2019-05-15T21:46:45.897129Z"
    }
   },
   "outputs": [],
   "source": [
    "# Predict for all subsets\n",
    "pred_tr = lr_final_auc.predict_proba(df_tr_preproc[final_features_bucketing_auc])[:, 1]\n",
    "pred_val = lr_final_auc.predict_proba(df_val_preproc[final_features_bucketing_auc])[:, 1]\n",
    "pred_oot = lr_final_auc.predict_proba(df_oot_preproc[final_features_bucketing_auc])[:, 1]\n",
    "\n",
    "Log3_aucs = get_auc(y_tr, pred_tr), get_auc(y_val, pred_val), get_auc(y_oot, pred_oot)"
   ]
  },
  {
   "cell_type": "markdown",
   "metadata": {},
   "source": [
    "#### Gain Table"
   ]
  },
  {
   "cell_type": "markdown",
   "metadata": {},
   "source": [
    "**TODO3** Implementa una función que te calcule una gain table, con una fila for bucket de scores, y con las siguientes columnas:\n",
    " - avg_pred: El score medio en ese bucket\n",
    " - BR: La tasa de malos en ese bucket\n",
    " - N_bads: El número de malos en ese bucket\n",
    " - N: El número de muestras en ese bucket\n",
    " - N_goods: El número de buenos en ese bucket\n",
    " - pct_bad_acum: El porcentaje de malos acumulados en ese bucket\n",
    " - pct_approv_acum: El porcentae de aprobación hasta ese bucket\n",
    " \n",
    "La tabla estará ordenada de scores más bajos (mejor perfil), a scores más altos (peor perfil)"
   ]
  },
  {
   "cell_type": "code",
   "execution_count": 48,
   "metadata": {},
   "outputs": [],
   "source": [
    "# Tabla de eficiencia / Gain table\n",
    "def get_gain_table(pred, df, col_target='bad', n_buckets=10):\n",
    "    \"\"\"Generate the gain table given a population, and its predictions\n",
    "    \n",
    "    Args:\n",
    "        pred: np.array / pd.Series containing predictions\n",
    "        df: Pandas DataFrame containing the population to be assesed\n",
    "        col_target: Name of the target column\n",
    "        n_buckets: Number of buckets for the gain table\n",
    "        \n",
    "    Returns:\n",
    "        Pandas DataFrame representing the gain table\n",
    "    \"\"\"\n",
    "    df['pred'] = pred\n",
    "    pred_cuts = df['pred'].quantile(np.linspace(0, 1, num = n_buckets + 1))\n",
    "    df['pred_cut'] = pd.cut(df['pred'], bins = pred_cuts)\n",
    "    df_group = df.groupby(df[\"pred_cut\"]).agg(\n",
    "    avg_pred=pd.NamedAgg(column=\"pred\", aggfunc=\"mean\"),\n",
    "    BR=pd.NamedAgg(column=\"bad\", aggfunc=\"mean\"),\n",
    "    N_bads=pd.NamedAgg(column=\"bad\", aggfunc=\"sum\"),\n",
    "    N=pd.NamedAgg(column=\"pred\", aggfunc=\"count\"))\n",
    "    \n",
    "    df_group[\"N_goods\"] = df_group[\"N\"] - df_group[\"N_bads\"]\n",
    "    df_group[\"pct_bad_acum\"] = (df_group[\"N_bads\"].cumsum()/len(df))*100\n",
    "    df_group[\"pct_approv_acum\"] = (df_group[\"N_goods\"].cumsum()/len(df))*100 \n",
    "\n",
    "    return df_group\n",
    "\n",
    "# Use the pd.cut() function\n"
   ]
  },
  {
   "cell_type": "code",
   "execution_count": 49,
   "metadata": {},
   "outputs": [
    {
     "data": {
      "text/html": [
       "<div>\n",
       "<style scoped>\n",
       "    .dataframe tbody tr th:only-of-type {\n",
       "        vertical-align: middle;\n",
       "    }\n",
       "\n",
       "    .dataframe tbody tr th {\n",
       "        vertical-align: top;\n",
       "    }\n",
       "\n",
       "    .dataframe thead th {\n",
       "        text-align: right;\n",
       "    }\n",
       "</style>\n",
       "<table border=\"1\" class=\"dataframe\">\n",
       "  <thead>\n",
       "    <tr style=\"text-align: right;\">\n",
       "      <th></th>\n",
       "      <th>avg_pred</th>\n",
       "      <th>BR</th>\n",
       "      <th>N_bads</th>\n",
       "      <th>N</th>\n",
       "      <th>N_goods</th>\n",
       "      <th>pct_bad_acum</th>\n",
       "      <th>pct_approv_acum</th>\n",
       "    </tr>\n",
       "    <tr>\n",
       "      <th>pred_cut</th>\n",
       "      <th></th>\n",
       "      <th></th>\n",
       "      <th></th>\n",
       "      <th></th>\n",
       "      <th></th>\n",
       "      <th></th>\n",
       "      <th></th>\n",
       "    </tr>\n",
       "  </thead>\n",
       "  <tbody>\n",
       "    <tr>\n",
       "      <th>(0.0148, 0.0396]</th>\n",
       "      <td>0.033261</td>\n",
       "      <td>0.012869</td>\n",
       "      <td>17</td>\n",
       "      <td>1321</td>\n",
       "      <td>1304</td>\n",
       "      <td>0.128593</td>\n",
       "      <td>9.863843</td>\n",
       "    </tr>\n",
       "    <tr>\n",
       "      <th>(0.0396, 0.0475]</th>\n",
       "      <td>0.043683</td>\n",
       "      <td>0.023845</td>\n",
       "      <td>32</td>\n",
       "      <td>1342</td>\n",
       "      <td>1310</td>\n",
       "      <td>0.370651</td>\n",
       "      <td>19.773071</td>\n",
       "    </tr>\n",
       "    <tr>\n",
       "      <th>(0.0475, 0.0534]</th>\n",
       "      <td>0.050729</td>\n",
       "      <td>0.034456</td>\n",
       "      <td>45</td>\n",
       "      <td>1306</td>\n",
       "      <td>1261</td>\n",
       "      <td>0.711044</td>\n",
       "      <td>29.311649</td>\n",
       "    </tr>\n",
       "    <tr>\n",
       "      <th>(0.0534, 0.0609]</th>\n",
       "      <td>0.057150</td>\n",
       "      <td>0.036009</td>\n",
       "      <td>48</td>\n",
       "      <td>1333</td>\n",
       "      <td>1285</td>\n",
       "      <td>1.074130</td>\n",
       "      <td>39.031770</td>\n",
       "    </tr>\n",
       "    <tr>\n",
       "      <th>(0.0609, 0.0668]</th>\n",
       "      <td>0.063523</td>\n",
       "      <td>0.044697</td>\n",
       "      <td>59</td>\n",
       "      <td>1320</td>\n",
       "      <td>1261</td>\n",
       "      <td>1.520424</td>\n",
       "      <td>48.570348</td>\n",
       "    </tr>\n",
       "    <tr>\n",
       "      <th>(0.0668, 0.074]</th>\n",
       "      <td>0.070240</td>\n",
       "      <td>0.052710</td>\n",
       "      <td>71</td>\n",
       "      <td>1347</td>\n",
       "      <td>1276</td>\n",
       "      <td>2.057489</td>\n",
       "      <td>58.222390</td>\n",
       "    </tr>\n",
       "    <tr>\n",
       "      <th>(0.074, 0.0815]</th>\n",
       "      <td>0.077424</td>\n",
       "      <td>0.059094</td>\n",
       "      <td>77</td>\n",
       "      <td>1303</td>\n",
       "      <td>1226</td>\n",
       "      <td>2.639939</td>\n",
       "      <td>67.496218</td>\n",
       "    </tr>\n",
       "    <tr>\n",
       "      <th>(0.0815, 0.0898]</th>\n",
       "      <td>0.085109</td>\n",
       "      <td>0.090426</td>\n",
       "      <td>119</td>\n",
       "      <td>1316</td>\n",
       "      <td>1197</td>\n",
       "      <td>3.540091</td>\n",
       "      <td>76.550681</td>\n",
       "    </tr>\n",
       "    <tr>\n",
       "      <th>(0.0898, 0.104]</th>\n",
       "      <td>0.095973</td>\n",
       "      <td>0.091603</td>\n",
       "      <td>120</td>\n",
       "      <td>1310</td>\n",
       "      <td>1190</td>\n",
       "      <td>4.447806</td>\n",
       "      <td>85.552194</td>\n",
       "    </tr>\n",
       "    <tr>\n",
       "      <th>(0.104, 0.224]</th>\n",
       "      <td>0.120791</td>\n",
       "      <td>0.149886</td>\n",
       "      <td>198</td>\n",
       "      <td>1321</td>\n",
       "      <td>1123</td>\n",
       "      <td>5.945537</td>\n",
       "      <td>94.046899</td>\n",
       "    </tr>\n",
       "  </tbody>\n",
       "</table>\n",
       "</div>"
      ],
      "text/plain": [
       "                  avg_pred        BR  N_bads     N  N_goods  pct_bad_acum  \\\n",
       "pred_cut                                                                    \n",
       "(0.0148, 0.0396]  0.033261  0.012869      17  1321     1304      0.128593   \n",
       "(0.0396, 0.0475]  0.043683  0.023845      32  1342     1310      0.370651   \n",
       "(0.0475, 0.0534]  0.050729  0.034456      45  1306     1261      0.711044   \n",
       "(0.0534, 0.0609]  0.057150  0.036009      48  1333     1285      1.074130   \n",
       "(0.0609, 0.0668]  0.063523  0.044697      59  1320     1261      1.520424   \n",
       "(0.0668, 0.074]   0.070240  0.052710      71  1347     1276      2.057489   \n",
       "(0.074, 0.0815]   0.077424  0.059094      77  1303     1226      2.639939   \n",
       "(0.0815, 0.0898]  0.085109  0.090426     119  1316     1197      3.540091   \n",
       "(0.0898, 0.104]   0.095973  0.091603     120  1310     1190      4.447806   \n",
       "(0.104, 0.224]    0.120791  0.149886     198  1321     1123      5.945537   \n",
       "\n",
       "                  pct_approv_acum  \n",
       "pred_cut                           \n",
       "(0.0148, 0.0396]         9.863843  \n",
       "(0.0396, 0.0475]        19.773071  \n",
       "(0.0475, 0.0534]        29.311649  \n",
       "(0.0534, 0.0609]        39.031770  \n",
       "(0.0609, 0.0668]        48.570348  \n",
       "(0.0668, 0.074]         58.222390  \n",
       "(0.074, 0.0815]         67.496218  \n",
       "(0.0815, 0.0898]        76.550681  \n",
       "(0.0898, 0.104]         85.552194  \n",
       "(0.104, 0.224]          94.046899  "
      ]
     },
     "execution_count": 49,
     "metadata": {},
     "output_type": "execute_result"
    }
   ],
   "source": [
    "# usa la función get_gain_table en el conjunto oot\n",
    "get_gain_table(pred_oot, df_oot)"
   ]
  },
  {
   "cell_type": "markdown",
   "metadata": {},
   "source": [
    "**TODO 4** Comenta la gain table anterior (sobre el conjunto OOT). ¿Qué conclusiones podemos sacar con respecto al funcionamiento del modelo? "
   ]
  },
  {
   "cell_type": "markdown",
   "metadata": {},
   "source": [
    "Introduce tu comentario aquí. \n",
    "no hay un descenso de bads cuando desciende el bucket. Al contrario de goods.\n",
    "el numero es constanste para cada bucket\n"
   ]
  },
  {
   "cell_type": "code",
   "execution_count": 50,
   "metadata": {},
   "outputs": [
    {
     "data": {
      "text/html": [
       "<div>\n",
       "<style scoped>\n",
       "    .dataframe tbody tr th:only-of-type {\n",
       "        vertical-align: middle;\n",
       "    }\n",
       "\n",
       "    .dataframe tbody tr th {\n",
       "        vertical-align: top;\n",
       "    }\n",
       "\n",
       "    .dataframe thead th {\n",
       "        text-align: right;\n",
       "    }\n",
       "</style>\n",
       "<table border=\"1\" class=\"dataframe\">\n",
       "  <thead>\n",
       "    <tr style=\"text-align: right;\">\n",
       "      <th></th>\n",
       "      <th>avg_pred</th>\n",
       "      <th>BR</th>\n",
       "      <th>N_bads</th>\n",
       "      <th>N</th>\n",
       "      <th>N_goods</th>\n",
       "      <th>pct_bad_acum</th>\n",
       "      <th>pct_approv_acum</th>\n",
       "    </tr>\n",
       "    <tr>\n",
       "      <th>pred_cut</th>\n",
       "      <th></th>\n",
       "      <th></th>\n",
       "      <th></th>\n",
       "      <th></th>\n",
       "      <th></th>\n",
       "      <th></th>\n",
       "      <th></th>\n",
       "    </tr>\n",
       "  </thead>\n",
       "  <tbody>\n",
       "    <tr>\n",
       "      <th>(0.0145, 0.0377]</th>\n",
       "      <td>0.031246</td>\n",
       "      <td>0.005902</td>\n",
       "      <td>9</td>\n",
       "      <td>1525</td>\n",
       "      <td>1516</td>\n",
       "      <td>0.058982</td>\n",
       "      <td>9.935120</td>\n",
       "    </tr>\n",
       "    <tr>\n",
       "      <th>(0.0377, 0.0453]</th>\n",
       "      <td>0.041828</td>\n",
       "      <td>0.019595</td>\n",
       "      <td>30</td>\n",
       "      <td>1531</td>\n",
       "      <td>1501</td>\n",
       "      <td>0.255587</td>\n",
       "      <td>19.771938</td>\n",
       "    </tr>\n",
       "    <tr>\n",
       "      <th>(0.0453, 0.0523]</th>\n",
       "      <td>0.049209</td>\n",
       "      <td>0.030460</td>\n",
       "      <td>47</td>\n",
       "      <td>1543</td>\n",
       "      <td>1496</td>\n",
       "      <td>0.563602</td>\n",
       "      <td>29.575988</td>\n",
       "    </tr>\n",
       "    <tr>\n",
       "      <th>(0.0523, 0.0591]</th>\n",
       "      <td>0.055747</td>\n",
       "      <td>0.030585</td>\n",
       "      <td>46</td>\n",
       "      <td>1504</td>\n",
       "      <td>1458</td>\n",
       "      <td>0.865063</td>\n",
       "      <td>39.131005</td>\n",
       "    </tr>\n",
       "    <tr>\n",
       "      <th>(0.0591, 0.0658]</th>\n",
       "      <td>0.062384</td>\n",
       "      <td>0.058785</td>\n",
       "      <td>90</td>\n",
       "      <td>1531</td>\n",
       "      <td>1441</td>\n",
       "      <td>1.454879</td>\n",
       "      <td>48.574612</td>\n",
       "    </tr>\n",
       "    <tr>\n",
       "      <th>(0.0658, 0.0736]</th>\n",
       "      <td>0.069483</td>\n",
       "      <td>0.069737</td>\n",
       "      <td>106</td>\n",
       "      <td>1520</td>\n",
       "      <td>1414</td>\n",
       "      <td>2.149551</td>\n",
       "      <td>57.841274</td>\n",
       "    </tr>\n",
       "    <tr>\n",
       "      <th>(0.0736, 0.0817]</th>\n",
       "      <td>0.077056</td>\n",
       "      <td>0.079292</td>\n",
       "      <td>121</td>\n",
       "      <td>1526</td>\n",
       "      <td>1405</td>\n",
       "      <td>2.942526</td>\n",
       "      <td>67.048955</td>\n",
       "    </tr>\n",
       "    <tr>\n",
       "      <th>(0.0817, 0.0903]</th>\n",
       "      <td>0.084992</td>\n",
       "      <td>0.104644</td>\n",
       "      <td>160</td>\n",
       "      <td>1529</td>\n",
       "      <td>1369</td>\n",
       "      <td>3.991087</td>\n",
       "      <td>76.020709</td>\n",
       "    </tr>\n",
       "    <tr>\n",
       "      <th>(0.0903, 0.106]</th>\n",
       "      <td>0.098123</td>\n",
       "      <td>0.125641</td>\n",
       "      <td>196</td>\n",
       "      <td>1560</td>\n",
       "      <td>1364</td>\n",
       "      <td>5.275575</td>\n",
       "      <td>84.959696</td>\n",
       "    </tr>\n",
       "    <tr>\n",
       "      <th>(0.106, 0.224]</th>\n",
       "      <td>0.125448</td>\n",
       "      <td>0.171256</td>\n",
       "      <td>255</td>\n",
       "      <td>1489</td>\n",
       "      <td>1234</td>\n",
       "      <td>6.946720</td>\n",
       "      <td>93.046727</td>\n",
       "    </tr>\n",
       "  </tbody>\n",
       "</table>\n",
       "</div>"
      ],
      "text/plain": [
       "                  avg_pred        BR  N_bads     N  N_goods  pct_bad_acum  \\\n",
       "pred_cut                                                                    \n",
       "(0.0145, 0.0377]  0.031246  0.005902       9  1525     1516      0.058982   \n",
       "(0.0377, 0.0453]  0.041828  0.019595      30  1531     1501      0.255587   \n",
       "(0.0453, 0.0523]  0.049209  0.030460      47  1543     1496      0.563602   \n",
       "(0.0523, 0.0591]  0.055747  0.030585      46  1504     1458      0.865063   \n",
       "(0.0591, 0.0658]  0.062384  0.058785      90  1531     1441      1.454879   \n",
       "(0.0658, 0.0736]  0.069483  0.069737     106  1520     1414      2.149551   \n",
       "(0.0736, 0.0817]  0.077056  0.079292     121  1526     1405      2.942526   \n",
       "(0.0817, 0.0903]  0.084992  0.104644     160  1529     1369      3.991087   \n",
       "(0.0903, 0.106]   0.098123  0.125641     196  1560     1364      5.275575   \n",
       "(0.106, 0.224]    0.125448  0.171256     255  1489     1234      6.946720   \n",
       "\n",
       "                  pct_approv_acum  \n",
       "pred_cut                           \n",
       "(0.0145, 0.0377]         9.935120  \n",
       "(0.0377, 0.0453]        19.771938  \n",
       "(0.0453, 0.0523]        29.575988  \n",
       "(0.0523, 0.0591]        39.131005  \n",
       "(0.0591, 0.0658]        48.574612  \n",
       "(0.0658, 0.0736]        57.841274  \n",
       "(0.0736, 0.0817]        67.048955  \n",
       "(0.0817, 0.0903]        76.020709  \n",
       "(0.0903, 0.106]         84.959696  \n",
       "(0.106, 0.224]          93.046727  "
      ]
     },
     "execution_count": 50,
     "metadata": {},
     "output_type": "execute_result"
    }
   ],
   "source": [
    "# gain table for training sample\n",
    "get_gain_table(pred_tr, df_train)"
   ]
  },
  {
   "cell_type": "markdown",
   "metadata": {},
   "source": [
    "### Random Forest"
   ]
  },
  {
   "cell_type": "code",
   "execution_count": 63,
   "metadata": {
    "ExecuteTime": {
     "end_time": "2019-05-15T21:46:46.359824Z",
     "start_time": "2019-05-15T21:46:46.300838Z"
    }
   },
   "outputs": [],
   "source": [
    "# Lighther preprocessing\n",
    "# Handle NAs @ numeric features\n",
    "# fill with a value lower than its minimum\n",
    "# We can reuse previopus categorical preprocessing\n",
    "\n",
    "dtypes = df_train[final_features].dtypes\n",
    "cat_features = df_train[final_features].select_dtypes(include=[\"bool\", \"object\"]).columns.tolist()\n",
    "num_feats = [f for f in final_features if f not in cat_features]\n",
    "\n",
    "def get_nafill_rf_num(df, num_features, gap_min=1e6):\n",
    "    \"\"\"Get a dictionary, that will store the value that will be used \n",
    "    to fill NAs in numeric data.\n",
    "    \n",
    "    Args:\n",
    "        df: Pandas Dataframe with the input data\n",
    "        num_features: List with the names of categorical features\n",
    "        gap_min: Gap between minimum value and filling value\n",
    "        \n",
    "    Returns:\n",
    "        Dictionary, with the following structure:\n",
    "        {feature1: fill_val1,\n",
    "         feature2: fill_val2}\n",
    "    \"\"\"\n",
    "    dict_fill = {}\n",
    "    for num_feat in num_features:\n",
    "        dict_fill[num_feat] = df[num_feat].min() - gap_min\n",
    "    return dict_fill\n",
    "    \n",
    "\n",
    "def apply_nafill_rf_num(df, dict_fillrf):\n",
    "    \"\"\"Given a dictionary with the values to be used in NA filling,\n",
    "    use it to fill NAs.\n",
    "    \n",
    "    Args:\n",
    "        df: Pandas Dataframe with the input data\n",
    "        dict_fillrf: Dictionary, that stores filling values\n",
    "        \n",
    "    Returns:\n",
    "        Pandas Dataframe with NA being filled\n",
    "    \"\"\"\n",
    "    df_out = df.copy()\n",
    "    for num_feat in dict_fillrf.keys():\n",
    "        df_out.loc[df_out[num_feat].isna(), num_feat] = dict_fillrf[num_feat]\n",
    "    return df_out"
   ]
  },
  {
   "cell_type": "code",
   "execution_count": 64,
   "metadata": {
    "ExecuteTime": {
     "end_time": "2019-05-15T21:46:47.050672Z",
     "start_time": "2019-05-15T21:46:46.369092Z"
    }
   },
   "outputs": [],
   "source": [
    "#get dictionary to fill values from train\n",
    "dict_nafill = get_nafill_rf_num(df_train, num_feats)\n",
    "#apply it to train, val and oot\n",
    "df_train_fill = apply_nafill_rf_num(df_train, dict_nafill)\n",
    "df_val_fill = apply_nafill_rf_num(df_val, dict_nafill)\n",
    "df_oot_fill = apply_nafill_rf_num(df_oot, dict_nafill)"
   ]
  },
  {
   "cell_type": "code",
   "execution_count": 67,
   "metadata": {
    "ExecuteTime": {
     "end_time": "2019-05-15T21:46:47.272707Z",
     "start_time": "2019-05-15T21:46:47.056863Z"
    }
   },
   "outputs": [],
   "source": [
    "# Keep each column dummy columns in independednt lists\n",
    "# Initialize with the numeric data already filled\n",
    "list_df_tr, list_df_val, list_df_oot = [df_train_fill[num_feats]], [df_val_fill[num_feats]], [df_oot_fill[num_feats]]\n",
    "# Add the bucketing results of categorical data\n",
    "for feat in cat_features:\n",
    "    list_df_tr.append(apply_bucketing(df_train, feat, dict_bucketing[feat]))\n",
    "    list_df_val.append(apply_bucketing(df_val, feat, dict_bucketing[feat]))\n",
    "    list_df_oot.append(apply_bucketing(df_oot, feat, dict_bucketing[feat]))\n",
    "\n",
    "# Then combine them column-wise\n",
    "df_tr_preproc_rf = pd.concat(list_df_tr, axis=1)\n",
    "df_val_preproc_rf = pd.concat(list_df_val, axis=1)\n",
    "df_oot_preproc_rf = pd.concat(list_df_oot, axis=1)\n",
    "\n",
    "# Keep the final column names\n",
    "keep_cols_rf = df_tr_preproc_rf.columns"
   ]
  },
  {
   "cell_type": "markdown",
   "metadata": {},
   "source": [
    "**TODO 5** Entrena un RandomForestClassifier, y evalua su rendimiento (AUC, gain table). Revisa la documentación del modelo, y elige parámetros razonables"
   ]
  },
  {
   "cell_type": "code",
   "execution_count": 68,
   "metadata": {},
   "outputs": [],
   "source": [
    "# forest = RandomForestClassifier(criterion='gini',\n",
    "   #n_estimators=5,\n",
    "    #random_state=1,\n",
    "    #n_jobs=2)\n",
    "#\n",
    "# Fit the model\n",
    "#\n",
    "#forest.fit(X_train, y_train)\n",
    " \n",
    "#\n",
    "# Measure model performance\n",
    "#\n",
    "#y_pred = forest.predict(X_test)\n",
    "#print('Accuracy: %.3f' % accuracy_score(y_test, y_pred))"
   ]
  },
  {
   "cell_type": "code",
   "execution_count": 75,
   "metadata": {},
   "outputs": [
    {
     "data": {
      "text/plain": [
       "Index(['TradesOpenedLast6Months', 'DebtToIncomeRatio', 'CurrentCreditLines',\n",
       "       'OnTimeProsperPayments', 'ProsperPaymentsOneMonthPlusLate',\n",
       "       'TotalTrades', 'TotalProsperLoans', 'ProsperPrincipalBorrowed',\n",
       "       'CreditScoreRangeLower', 'ProsperPrincipalOutstanding',\n",
       "       'ScorexChangeAtTimeOfListing', 'AmountDelinquent',\n",
       "       'StatedMonthlyIncome', 'ProsperPaymentsLessThanOneMonthLate',\n",
       "       'InquiriesLast6Months', 'IncomeRange_$25,000-49,999',\n",
       "       'IncomeRange_$50,000-74,999', 'IncomeRange_$75,000-99,999',\n",
       "       'IncomeRange_Other', 'IsBorrowerHomeowner_True',\n",
       "       'IncomeVerifiable_True', 'CurrentlyInGroup_True', 'BorrowerState_FL',\n",
       "       'BorrowerState_NY', 'BorrowerState_Other', 'BorrowerState_TX',\n",
       "       'Occupation_Executive', 'Occupation_Other', 'Occupation_Professional'],\n",
       "      dtype='object')"
      ]
     },
     "execution_count": 75,
     "metadata": {},
     "output_type": "execute_result"
    }
   ],
   "source": [
    "df_tr_preproc_rf[keep_cols_rf].columns"
   ]
  },
  {
   "cell_type": "code",
   "execution_count": 76,
   "metadata": {},
   "outputs": [
    {
     "data": {
      "text/plain": [
       "15259"
      ]
     },
     "execution_count": 76,
     "metadata": {},
     "output_type": "execute_result"
    }
   ],
   "source": [
    "len(df_tr_preproc_rf)"
   ]
  },
  {
   "cell_type": "code",
   "execution_count": 77,
   "metadata": {},
   "outputs": [
    {
     "data": {
      "text/plain": [
       "15259"
      ]
     },
     "execution_count": 77,
     "metadata": {},
     "output_type": "execute_result"
    }
   ],
   "source": [
    "len(df_train)"
   ]
  },
  {
   "cell_type": "code",
   "execution_count": 78,
   "metadata": {},
   "outputs": [
    {
     "data": {
      "text/html": [
       "<style>#sk-container-id-4 {color: black;background-color: white;}#sk-container-id-4 pre{padding: 0;}#sk-container-id-4 div.sk-toggleable {background-color: white;}#sk-container-id-4 label.sk-toggleable__label {cursor: pointer;display: block;width: 100%;margin-bottom: 0;padding: 0.3em;box-sizing: border-box;text-align: center;}#sk-container-id-4 label.sk-toggleable__label-arrow:before {content: \"▸\";float: left;margin-right: 0.25em;color: #696969;}#sk-container-id-4 label.sk-toggleable__label-arrow:hover:before {color: black;}#sk-container-id-4 div.sk-estimator:hover label.sk-toggleable__label-arrow:before {color: black;}#sk-container-id-4 div.sk-toggleable__content {max-height: 0;max-width: 0;overflow: hidden;text-align: left;background-color: #f0f8ff;}#sk-container-id-4 div.sk-toggleable__content pre {margin: 0.2em;color: black;border-radius: 0.25em;background-color: #f0f8ff;}#sk-container-id-4 input.sk-toggleable__control:checked~div.sk-toggleable__content {max-height: 200px;max-width: 100%;overflow: auto;}#sk-container-id-4 input.sk-toggleable__control:checked~label.sk-toggleable__label-arrow:before {content: \"▾\";}#sk-container-id-4 div.sk-estimator input.sk-toggleable__control:checked~label.sk-toggleable__label {background-color: #d4ebff;}#sk-container-id-4 div.sk-label input.sk-toggleable__control:checked~label.sk-toggleable__label {background-color: #d4ebff;}#sk-container-id-4 input.sk-hidden--visually {border: 0;clip: rect(1px 1px 1px 1px);clip: rect(1px, 1px, 1px, 1px);height: 1px;margin: -1px;overflow: hidden;padding: 0;position: absolute;width: 1px;}#sk-container-id-4 div.sk-estimator {font-family: monospace;background-color: #f0f8ff;border: 1px dotted black;border-radius: 0.25em;box-sizing: border-box;margin-bottom: 0.5em;}#sk-container-id-4 div.sk-estimator:hover {background-color: #d4ebff;}#sk-container-id-4 div.sk-parallel-item::after {content: \"\";width: 100%;border-bottom: 1px solid gray;flex-grow: 1;}#sk-container-id-4 div.sk-label:hover label.sk-toggleable__label {background-color: #d4ebff;}#sk-container-id-4 div.sk-serial::before {content: \"\";position: absolute;border-left: 1px solid gray;box-sizing: border-box;top: 0;bottom: 0;left: 50%;z-index: 0;}#sk-container-id-4 div.sk-serial {display: flex;flex-direction: column;align-items: center;background-color: white;padding-right: 0.2em;padding-left: 0.2em;position: relative;}#sk-container-id-4 div.sk-item {position: relative;z-index: 1;}#sk-container-id-4 div.sk-parallel {display: flex;align-items: stretch;justify-content: center;background-color: white;position: relative;}#sk-container-id-4 div.sk-item::before, #sk-container-id-4 div.sk-parallel-item::before {content: \"\";position: absolute;border-left: 1px solid gray;box-sizing: border-box;top: 0;bottom: 0;left: 50%;z-index: -1;}#sk-container-id-4 div.sk-parallel-item {display: flex;flex-direction: column;z-index: 1;position: relative;background-color: white;}#sk-container-id-4 div.sk-parallel-item:first-child::after {align-self: flex-end;width: 50%;}#sk-container-id-4 div.sk-parallel-item:last-child::after {align-self: flex-start;width: 50%;}#sk-container-id-4 div.sk-parallel-item:only-child::after {width: 0;}#sk-container-id-4 div.sk-dashed-wrapped {border: 1px dashed gray;margin: 0 0.4em 0.5em 0.4em;box-sizing: border-box;padding-bottom: 0.4em;background-color: white;}#sk-container-id-4 div.sk-label label {font-family: monospace;font-weight: bold;display: inline-block;line-height: 1.2em;}#sk-container-id-4 div.sk-label-container {text-align: center;}#sk-container-id-4 div.sk-container {/* jupyter's `normalize.less` sets `[hidden] { display: none; }` but bootstrap.min.css set `[hidden] { display: none !important; }` so we also need the `!important` here to be able to override the default hidden behavior on the sphinx rendered scikit-learn.org. See: https://github.com/scikit-learn/scikit-learn/issues/21755 */display: inline-block !important;position: relative;}#sk-container-id-4 div.sk-text-repr-fallback {display: none;}</style><div id=\"sk-container-id-4\" class=\"sk-top-container\"><div class=\"sk-text-repr-fallback\"><pre>RandomForestClassifier(n_estimators=5, n_jobs=-1, random_state=1)</pre><b>In a Jupyter environment, please rerun this cell to show the HTML representation or trust the notebook. <br />On GitHub, the HTML representation is unable to render, please try loading this page with nbviewer.org.</b></div><div class=\"sk-container\" hidden><div class=\"sk-item\"><div class=\"sk-estimator sk-toggleable\"><input class=\"sk-toggleable__control sk-hidden--visually\" id=\"sk-estimator-id-4\" type=\"checkbox\" checked><label for=\"sk-estimator-id-4\" class=\"sk-toggleable__label sk-toggleable__label-arrow\">RandomForestClassifier</label><div class=\"sk-toggleable__content\"><pre>RandomForestClassifier(n_estimators=5, n_jobs=-1, random_state=1)</pre></div></div></div></div></div>"
      ],
      "text/plain": [
       "RandomForestClassifier(n_estimators=5, n_jobs=-1, random_state=1)"
      ]
     },
     "execution_count": 78,
     "metadata": {},
     "output_type": "execute_result"
    }
   ],
   "source": [
    "# Train a RF-Classifier\n",
    "from sklearn.ensemble import RandomForestClassifier\n",
    "\n",
    "X_tr = df_tr_preproc_rf[keep_cols_rf]\n",
    "X_val = df_val_preproc_rf[keep_cols_rf]\n",
    "X_oot = df_oot_preproc_rf[keep_cols_rf]\n",
    "\n",
    "# Train your model\n",
    "rf = RandomForestClassifier(criterion='gini',\n",
    "                            n_estimators=5,\n",
    "                            random_state=1,\n",
    "                            n_jobs=-1)\n",
    "\n",
    "\n",
    "\n",
    "# rf is the RandomForestClassifier object you will work with\n",
    "rf.fit(X_tr,df_train[\"bad\"])\n",
    "\n",
    "# # Predict for all subsets\n",
    "# pred_rf_tr = #\n",
    "# pred_rf_val = # \n",
    "# pred_rf_oot = #\n",
    "\n",
    "# # Get AUC metrics in all subsets\n",
    "                       \n",
    "# # Compute the gain table for the OOT set\n",
    "# rf_aucs = ..."
   ]
  },
  {
   "cell_type": "code",
   "execution_count": null,
   "metadata": {
    "ExecuteTime": {
     "end_time": "2019-05-15T21:46:57.220867Z",
     "start_time": "2019-05-15T21:46:56.322066Z"
    }
   },
   "outputs": [],
   "source": [
    "# Show Feature importance\n",
    "imp_df = pd.DataFrame({'feature': keep_cols_rf,\n",
    "                       'importance': rf.feature_importances_})\n",
    "imp_df.sort_values(by='importance', ascending=False)"
   ]
  },
  {
   "cell_type": "markdown",
   "metadata": {},
   "source": [
    "**TODO 6** Entrena un XGBClassifier, y evalua su rendimiento (AUC, gain table). Revisa la documentación del modelo y elige parámetros razonables https://xgboost.readthedocs.io/en/stable/python/python_api.html#xgboost.XGBClassifier"
   ]
  },
  {
   "cell_type": "markdown",
   "metadata": {},
   "source": [
    "### XGBoost"
   ]
  },
  {
   "cell_type": "code",
   "execution_count": 80,
   "metadata": {},
   "outputs": [
    {
     "ename": "SyntaxError",
     "evalue": "invalid syntax (3553146315.py, line 5)",
     "output_type": "error",
     "traceback": [
      "\u001b[1;36m  Input \u001b[1;32mIn [80]\u001b[1;36m\u001b[0m\n\u001b[1;33m    xgb = # xgb is the RandomForestClassifier object you will work with\u001b[0m\n\u001b[1;37m          ^\u001b[0m\n\u001b[1;31mSyntaxError\u001b[0m\u001b[1;31m:\u001b[0m invalid syntax\n"
     ]
    }
   ],
   "source": [
    "# Train a XGBClassifier\n",
    "from xgboost import XGBClassifier\n",
    "\n",
    "# Train your model\n",
    "xgb = # xgb is the RandomForestClassifier object you will work with\n",
    "\n",
    "# Predict for all subsets\n",
    "pred_xgb_tr = #\n",
    "pred_xgb_val = # \n",
    "pred_xgb_oot = #\n",
    "# Get AUC metrics in all subsets\n",
    "                       \n",
    "                          \n",
    "# Compute the gain table for the OOT set\n",
    "xgb_aucs = # ..."
   ]
  },
  {
   "cell_type": "code",
   "execution_count": 81,
   "metadata": {},
   "outputs": [
    {
     "ename": "NameError",
     "evalue": "name 'keep_cols_rf' is not defined",
     "output_type": "error",
     "traceback": [
      "\u001b[1;31m---------------------------------------------------------------------------\u001b[0m",
      "\u001b[1;31mNameError\u001b[0m                                 Traceback (most recent call last)",
      "Input \u001b[1;32mIn [81]\u001b[0m, in \u001b[0;36m<cell line: 2>\u001b[1;34m()\u001b[0m\n\u001b[0;32m      1\u001b[0m \u001b[38;5;66;03m# Sow feature importance\u001b[39;00m\n\u001b[1;32m----> 2\u001b[0m imp_df \u001b[38;5;241m=\u001b[39m pd\u001b[38;5;241m.\u001b[39mDataFrame({\u001b[38;5;124m'\u001b[39m\u001b[38;5;124mfeature\u001b[39m\u001b[38;5;124m'\u001b[39m: \u001b[43mkeep_cols_rf\u001b[49m,\n\u001b[0;32m      3\u001b[0m                        \u001b[38;5;124m'\u001b[39m\u001b[38;5;124mimportance\u001b[39m\u001b[38;5;124m'\u001b[39m: xgb\u001b[38;5;241m.\u001b[39mfeature_importances_})\n\u001b[0;32m      4\u001b[0m imp_df\u001b[38;5;241m.\u001b[39msort_values(by\u001b[38;5;241m=\u001b[39m\u001b[38;5;124m'\u001b[39m\u001b[38;5;124mimportance\u001b[39m\u001b[38;5;124m'\u001b[39m, ascending\u001b[38;5;241m=\u001b[39m\u001b[38;5;28;01mFalse\u001b[39;00m)\n",
      "\u001b[1;31mNameError\u001b[0m: name 'keep_cols_rf' is not defined"
     ]
    }
   ],
   "source": [
    "# Sow feature importance\n",
    "imp_df = pd.DataFrame({'feature': keep_cols_rf,\n",
    "                       'importance': xgb.feature_importances_})\n",
    "imp_df.sort_values(by='importance', ascending=False)"
   ]
  },
  {
   "cell_type": "markdown",
   "metadata": {},
   "source": [
    "## Compare model performances"
   ]
  },
  {
   "cell_type": "code",
   "execution_count": null,
   "metadata": {},
   "outputs": [],
   "source": [
    "df_aucs = pd.DataFrame([Log1_aucs, Log2_aucs, Log3_aucs, rf_aucs, xgb_aucs])\n",
    "df_aucs.columns = [\"AUC_Train\", \"AUC_Val\", \"AUC_OOT\"]\n",
    "df_aucs.index = [\"Logistic\", \"Log_Pval\", \"Log_AUC\", \"RF\", \"XGBoost\"]\n",
    "df_aucs"
   ]
  },
  {
   "cell_type": "markdown",
   "metadata": {},
   "source": [
    "**TODO 7** Comenta el rendimiento de los modelos. ¿Qué modelo moverias a producción? "
   ]
  }
 ],
 "metadata": {
  "kernelspec": {
   "display_name": "Python 3 (ipykernel)",
   "language": "python",
   "name": "python3"
  },
  "language_info": {
   "codemirror_mode": {
    "name": "ipython",
    "version": 3
   },
   "file_extension": ".py",
   "mimetype": "text/x-python",
   "name": "python",
   "nbconvert_exporter": "python",
   "pygments_lexer": "ipython3",
   "version": "3.9.13"
  },
  "toc": {
   "base_numbering": 1,
   "nav_menu": {},
   "number_sections": true,
   "sideBar": true,
   "skip_h1_title": false,
   "title_cell": "Table of Contents",
   "title_sidebar": "Contents",
   "toc_cell": false,
   "toc_position": {},
   "toc_section_display": true,
   "toc_window_display": true
  }
 },
 "nbformat": 4,
 "nbformat_minor": 2
}
