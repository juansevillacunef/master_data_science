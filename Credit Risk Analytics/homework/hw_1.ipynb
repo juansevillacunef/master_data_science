{
 "cells": [
  {
   "cell_type": "markdown",
   "id": "6046db35",
   "metadata": {},
   "source": [
    "Group members:\n",
    "* Student 1\n",
    "* Student 2"
   ]
  },
  {
   "cell_type": "markdown",
   "id": "c65995f8",
   "metadata": {},
   "source": [
    "## 1"
   ]
  },
  {
   "cell_type": "markdown",
   "id": "8428925f",
   "metadata": {},
   "source": [
    "Write a function, that receives a string, and displays the characteres that are present at an even index number. Execute it with two different input strings."
   ]
  },
  {
   "cell_type": "code",
   "execution_count": null,
   "id": "b96d9b8d",
   "metadata": {},
   "outputs": [],
   "source": [
    "# EXAMPLE: get_evenidx(\"abcdef\") shoud return \"ace\""
   ]
  },
  {
   "cell_type": "code",
   "execution_count": 7,
   "id": "6c212c35",
   "metadata": {},
   "outputs": [],
   "source": [
    "## DEFINE THE FUNCTION HERE ##\n",
    "def get_evenidx(string):\n",
    "    evens = \"\"\n",
    "    for i in range(len(string)):\n",
    "        if i%2 == 0:\n",
    "            evens += string[i]\n",
    "    return evens\n"
   ]
  },
  {
   "cell_type": "code",
   "execution_count": 8,
   "id": "498deb4f",
   "metadata": {},
   "outputs": [
    {
     "data": {
      "text/plain": [
       "'Ilv rdtrs'"
      ]
     },
     "execution_count": 8,
     "metadata": {},
     "output_type": "execute_result"
    }
   ],
   "source": [
    "# execution 1. Input string = \"I love credit risk\"\n",
    "\n",
    "get_evenidx(\"I love credit risk\")"
   ]
  },
  {
   "cell_type": "code",
   "execution_count": 9,
   "id": "19a47583",
   "metadata": {},
   "outputs": [
    {
     "data": {
      "text/plain": [
       "'Pto  sfn'"
      ]
     },
     "execution_count": 9,
     "metadata": {},
     "output_type": "execute_result"
    }
   ],
   "source": [
    "# execution 2. Input string = \"Python 3 is fun\"\n",
    "\n",
    "get_evenidx(\"Python 3 is fun\")"
   ]
  },
  {
   "cell_type": "markdown",
   "id": "d56cd478",
   "metadata": {},
   "source": [
    "## 2"
   ]
  },
  {
   "cell_type": "markdown",
   "id": "ca0fd354",
   "metadata": {},
   "source": [
    "Write a function that will accept the base and height of a triangle and compute the area."
   ]
  },
  {
   "cell_type": "code",
   "execution_count": null,
   "id": "d38eaf94",
   "metadata": {},
   "outputs": [],
   "source": [
    "# EXAMPLE: area_triangle(base=3, height=2) should return 3. Area = 1/2 * base * height"
   ]
  },
  {
   "cell_type": "code",
   "execution_count": 12,
   "id": "bd457438",
   "metadata": {},
   "outputs": [],
   "source": [
    "## DEFINE THE FUNCTION HERE ##\n",
    "def area_triangle(base=0, height=0):\n",
    "    return base*height*0.5"
   ]
  },
  {
   "cell_type": "code",
   "execution_count": 14,
   "id": "ef587d63",
   "metadata": {},
   "outputs": [
    {
     "data": {
      "text/plain": [
       "2.5"
      ]
     },
     "execution_count": 14,
     "metadata": {},
     "output_type": "execute_result"
    }
   ],
   "source": [
    "# execution 1. Inputs: base=5, height=1\n",
    "\n",
    "area_triangle(base=5, height=1)"
   ]
  },
  {
   "cell_type": "code",
   "execution_count": 15,
   "id": "e9b7bb8a",
   "metadata": {},
   "outputs": [
    {
     "data": {
      "text/plain": [
       "7.0"
      ]
     },
     "execution_count": 15,
     "metadata": {},
     "output_type": "execute_result"
    }
   ],
   "source": [
    "# execution 2. Inputs: base=2, height=7\n",
    "\n",
    "area_triangle(base=2, height=7)"
   ]
  },
  {
   "cell_type": "markdown",
   "id": "09e23c7e",
   "metadata": {},
   "source": [
    "## 3"
   ]
  },
  {
   "cell_type": "markdown",
   "id": "7fce2cb8",
   "metadata": {},
   "source": [
    "Write a function that checks whether if the first and last element of a list is the same."
   ]
  },
  {
   "cell_type": "code",
   "execution_count": null,
   "id": "217828db",
   "metadata": {},
   "outputs": [],
   "source": [
    "# EXAMPLE: check_extremes([1, 2, 'a', 'z', 1]) should return True\n",
    "# EXAMPLE: check_extremes([1, 2, 'a', 'z', '@']) should return False"
   ]
  },
  {
   "cell_type": "code",
   "execution_count": 19,
   "id": "a87574b9",
   "metadata": {},
   "outputs": [],
   "source": [
    "## DEFINE THE FUNCTION HERE ##\n",
    "def check_extremes(list1):\n",
    "    return True if list1[0]==list1[-1] else False"
   ]
  },
  {
   "cell_type": "code",
   "execution_count": 20,
   "id": "a39e1b17",
   "metadata": {},
   "outputs": [
    {
     "data": {
      "text/plain": [
       "False"
      ]
     },
     "execution_count": 20,
     "metadata": {},
     "output_type": "execute_result"
    }
   ],
   "source": [
    "# Execution 1. Inputs: [1, 2, 3, 4, 5, 6, 7]\n",
    "\n",
    "## WRITE YOUR CODE HERE ##\n",
    "check_extremes([1, 2, 3, 4, 5, 6, 7])"
   ]
  },
  {
   "cell_type": "code",
   "execution_count": 21,
   "id": "894b2a3e",
   "metadata": {},
   "outputs": [
    {
     "data": {
      "text/plain": [
       "True"
      ]
     },
     "execution_count": 21,
     "metadata": {},
     "output_type": "execute_result"
    }
   ],
   "source": [
    "# Execution 2. Inputs: [9, 'w', '3', 1, 9]\n",
    "\n",
    "## WRITE YOUR CODE HERE ##\n",
    "check_extremes([9, 'w', '3', 1, 9])"
   ]
  },
  {
   "cell_type": "markdown",
   "id": "f488d0b5",
   "metadata": {},
   "source": [
    "## 4"
   ]
  },
  {
   "cell_type": "markdown",
   "id": "71227313",
   "metadata": {},
   "source": [
    "Write a function, which receives two lists, and returns the sorted unique elements of both lists."
   ]
  },
  {
   "cell_type": "code",
   "execution_count": null,
   "id": "5cc54ec1",
   "metadata": {},
   "outputs": [],
   "source": [
    "# EXAMPLE: unique_sorted([1, 3, 2, 2], [0, 1, 0, -1]) should return [-1, 0, 1, 2, 3]"
   ]
  },
  {
   "cell_type": "code",
   "execution_count": 24,
   "id": "59e788e3",
   "metadata": {},
   "outputs": [],
   "source": [
    "## DEFINE THE FUNCTION HERE ##\n",
    "def unique_sorted(list1, list2):"
   ]
  },
  {
   "cell_type": "code",
   "execution_count": 26,
   "id": "3856d9ec",
   "metadata": {},
   "outputs": [],
   "source": [
    "# Execution 1. Inputs: [-1, 2, 3, 0, -1, 0, 5], [1, 2, 3, 4, 5, 999]\n",
    "\n",
    "## WRITE YOUR CODE HERE ##\n"
   ]
  },
  {
   "cell_type": "code",
   "execution_count": null,
   "id": "ddc08967",
   "metadata": {},
   "outputs": [],
   "source": [
    "# Execution 1. Inputs: [10, -5, 3.14, 8, 9, 4], [44, 4, 9, -4, -5]\n",
    "\n",
    "## WRITE YOUR CODE HERE ##"
   ]
  },
  {
   "cell_type": "markdown",
   "id": "700444cd",
   "metadata": {},
   "source": [
    "## 5"
   ]
  },
  {
   "cell_type": "markdown",
   "id": "f36f840e",
   "metadata": {},
   "source": [
    "Write a function that checks whether if a number is a Palindrome number."
   ]
  },
  {
   "cell_type": "code",
   "execution_count": null,
   "id": "91ffb172",
   "metadata": {},
   "outputs": [],
   "source": [
    "# EXAMPLE: is_palindrome(141) should return True\n",
    "# EXAMPLE: is_palindrome(142) should return False"
   ]
  },
  {
   "cell_type": "code",
   "execution_count": null,
   "id": "b4ac3738",
   "metadata": {},
   "outputs": [],
   "source": [
    "## DEFINE THE FUNCTION HERE ##"
   ]
  },
  {
   "cell_type": "code",
   "execution_count": null,
   "id": "44d1efab",
   "metadata": {},
   "outputs": [],
   "source": [
    "# Execution 1. Input: 252\n",
    "\n",
    "## WRITE YOUR CODE HERE ##"
   ]
  },
  {
   "cell_type": "code",
   "execution_count": null,
   "id": "ad4f423b",
   "metadata": {},
   "outputs": [],
   "source": [
    "# Execution 2. Inputs: 1000\n",
    "\n",
    "## WRITE YOUR CODE HERE ##"
   ]
  },
  {
   "cell_type": "markdown",
   "id": "726c1ff3",
   "metadata": {},
   "source": [
    "## 6"
   ]
  },
  {
   "cell_type": "markdown",
   "id": "e5219d27",
   "metadata": {},
   "source": [
    "Write a function that receives a dictionary and a list, and removes from the dictionary the keys contained in the input list"
   ]
  },
  {
   "cell_type": "code",
   "execution_count": null,
   "id": "5a7b9ec2",
   "metadata": {},
   "outputs": [],
   "source": [
    "# EXAMPLE: \n",
    "# input_dict = {\"name\": \"Sergio\",\n",
    "#               \"age\": 31,\n",
    "#               \"city\": \"Madrid\",\n",
    "#               \"salary\": 100}\n",
    "\n",
    "# remove_keys(input_dict, [\"age\", \"salary\"]) should return \n",
    "\n",
    "# {\"name\": \"Sergio\",\n",
    "#  \"city\": \"Madrid\"}"
   ]
  },
  {
   "cell_type": "code",
   "execution_count": null,
   "id": "ee8f01b6",
   "metadata": {},
   "outputs": [],
   "source": [
    "## DEFINE THE FUNCTION HERE ##"
   ]
  },
  {
   "cell_type": "code",
   "execution_count": null,
   "id": "a2a5f091",
   "metadata": {},
   "outputs": [],
   "source": [
    "# Execution 1. Inputs: \n",
    "\n",
    "# Input dictionry:\n",
    "#              {\"name\": \"Sergio\",\n",
    "#               \"age\": 31,\n",
    "#               \"city\": \"Madrid\",\n",
    "#               \"salary\": 100}\n",
    "\n",
    "# Input list: [\"name\", \"city\"]\n",
    "\n",
    "## WRITE YOUR CODE HERE ##"
   ]
  },
  {
   "cell_type": "code",
   "execution_count": null,
   "id": "96211afa",
   "metadata": {},
   "outputs": [],
   "source": [
    "# Execution 2. Inputs: \n",
    "\n",
    "# Input dictionry:\n",
    "#              {\"interests\": [\"Sports\", \"Economy\", \"Programming\"],\n",
    "#               \"userid\": 8952589\n",
    "#               \"country\": \"Spain\",\n",
    "#               \"last_online\": \"2021-12-01\"}\n",
    "\n",
    "# Input list: [\"userid\", \"country\"]\n",
    "\n",
    "## WRITE YOUR CODE HERE ##"
   ]
  },
  {
   "cell_type": "code",
   "execution_count": null,
   "id": "fd027c11",
   "metadata": {},
   "outputs": [],
   "source": []
  }
 ],
 "metadata": {
  "kernelspec": {
   "display_name": "Python 3 (ipykernel)",
   "language": "python",
   "name": "python3"
  },
  "language_info": {
   "codemirror_mode": {
    "name": "ipython",
    "version": 3
   },
   "file_extension": ".py",
   "mimetype": "text/x-python",
   "name": "python",
   "nbconvert_exporter": "python",
   "pygments_lexer": "ipython3",
   "version": "3.9.7"
  }
 },
 "nbformat": 4,
 "nbformat_minor": 5
}
