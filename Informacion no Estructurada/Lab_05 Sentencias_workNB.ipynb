{
 "cells": [
  {
   "cell_type": "markdown",
   "metadata": {},
   "source": [
    "# División de un texto en frases: NLTK vs. Spacy\n",
    "\n",
    "NLTK y Spacy son dos librerías que se pueden utilizar para dividir por frases textos. En esta práctica se va a realizar una comparativa de ambas librerías para comparar tanto resultados como tiempos de ejecución. Rellena las líneas de código que se piden, y responde a las preguntas."
   ]
  },
  {
   "cell_type": "code",
   "execution_count": 9,
   "metadata": {},
   "outputs": [],
   "source": [
    "### Importación de librerías. Importa nltk y spacy\n",
    "import nltk\n",
    "import spacy\n",
    "import time\n",
    "\n",
    "# carga el modelo es_core_news_lg de spacy\n",
    "nlp = # -------------------"
   ]
  },
  {
   "cell_type": "code",
   "execution_count": 10,
   "metadata": {},
   "outputs": [],
   "source": [
    "### Lectura del fichero (ajusta el path a donde esté localizado tu archivo)\n",
    "filename = \"data/Lazarillo.txt\"\n",
    "text = open(filename, \"r\", encoding=\"utf-8\") .read()\n",
    "\n",
    "### Preprocesamiento en que eliminamos retornos de línea. Elimina el retorno de línea del texto. Se recomienda utilizar la función replace().\n",
    "# --------------------"
   ]
  },
  {
   "cell_type": "code",
   "execution_count": 15,
   "metadata": {},
   "outputs": [
    {
     "name": "stdout",
     "output_type": "stream",
     "text": [
      "CPU times: user 441 µs, sys: 1 µs, total: 442 µs\n",
      "Wall time: 445 µs\n"
     ]
    }
   ],
   "source": [
    "%%time\n",
    "### Divide en frases con NLTK. Se recomienda utilizar la funcion sent_tokenize, aunque hay más opciones que pueden ser utilizadas\n",
    "# -------------------"
   ]
  },
  {
   "cell_type": "code",
   "execution_count": 16,
   "metadata": {},
   "outputs": [
    {
     "name": "stdout",
     "output_type": "stream",
     "text": [
      "CPU times: user 183 ms, sys: 48.7 ms, total: 231 ms\n",
      "Wall time: 232 ms\n"
     ]
    }
   ],
   "source": [
    "%%time\n",
    "# División en frases con Spacy\n",
    "doc = nlp(text)\n",
    "sentences = [sentence.text for sentence in doc.sents]"
   ]
  },
  {
   "cell_type": "markdown",
   "metadata": {},
   "source": [
    "#### Conclusiones\n",
    "- ¿Qué observas del resultado? ¿Es igual utilizando ambas librerías?\n",
    "- Y respecto al tiempo de ejecución, ¿observas alguna diferencia?"
   ]
  },
  {
   "cell_type": "markdown",
   "metadata": {},
   "source": []
  }
 ],
 "metadata": {
  "kernelspec": {
   "display_name": "Python 3.8.5 ('base')",
   "language": "python",
   "name": "python3"
  },
  "language_info": {
   "codemirror_mode": {
    "name": "ipython",
    "version": 3
   },
   "file_extension": ".py",
   "mimetype": "text/x-python",
   "name": "python",
   "nbconvert_exporter": "python",
   "pygments_lexer": "ipython3",
   "version": "3.8.5"
  },
  "vscode": {
   "interpreter": {
    "hash": "107fb03afb2754bdb3cdbb13c1c83d7d6037442339c22e5ee8cf40869e8513c5"
   }
  }
 },
 "nbformat": 4,
 "nbformat_minor": 4
}
