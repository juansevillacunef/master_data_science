{
 "cells": [
  {
   "cell_type": "markdown",
   "metadata": {},
   "source": [
    "# Tokenización\n",
    "\n",
    "NLTK y Spacy son dos librerías que se pueden utilizar para tokenizar textos. En esta práctica se va a realizar una comparativa de ambas librerías para comparar tanto resultados como tiempos de ejecución. Rellena las líneas de código que se piden, y responde a las preguntas."
   ]
  },
  {
   "cell_type": "code",
   "execution_count": 1,
   "metadata": {},
   "outputs": [],
   "source": [
    "### Importación de librerías. Importa nltk y spacy\n",
    "\n",
    "import time\n",
    "import nltk\n",
    "import spacy\n",
    "\n",
    "### carga el modelo es_core_news_lg de spacy\n"
   ]
  },
  {
   "cell_type": "code",
   "execution_count": 2,
   "metadata": {},
   "outputs": [],
   "source": [
    "### Lectura del fichero\n",
    "\n",
    "def read_text_file(filename):\n",
    "    file = open(filename, \"r\", encoding=\"utf-8\") \n",
    "    return file.read()"
   ]
  },
  {
   "cell_type": "code",
   "execution_count": 3,
   "metadata": {},
   "outputs": [
    {
     "name": "stdout",
     "output_type": "stream",
     "text": [
      "Tokens - NLTK\n",
      "['Pues', 'sepa', 'V.M', '.', 'ante', 'todas', 'cosas', 'que', 'a', 'mí', 'llaman', 'Lázaro', 'de', 'Tormes', ',']\n",
      "Tokens - spaCy\n",
      "['Pues', 'sepa', 'V.M.', '\\n', 'ante', 'todas', 'cosas', 'que', 'a', 'mí', 'llaman', 'Lázaro', 'de', 'Tormes', ',']\n"
     ]
    }
   ],
   "source": [
    "### Utiliza la función read_text_file para leer el archivo Lazarillo.txt\n",
    "\n",
    "\n",
    "### Tokeniza el texto con NLTK. Se recomienda la función word_tokenize()\n",
    "\n",
    "\n",
    "### Construye el Doc de Spacy con el modelo previamente cargado (es_core_news_lg). Se recomienda revisar el Lab_05.\n",
    "print(\"Tokens - spaCy\")\n",
    "\n",
    "print([token.text for token in doc][:15])"
   ]
  },
  {
   "cell_type": "markdown",
   "metadata": {},
   "source": [
    "### Conclusiones\n",
    "- ¿Qué observas del resultado? ¿Es igual utilizando ambas librerías?\n",
    "\n",
    "### Ejercicio extra\n",
    "Convierte en función el tokenizador de NLTK y el tokenizador de Spacy, para optimizar el código."
   ]
  },
  {
   "cell_type": "code",
   "execution_count": 6,
   "metadata": {},
   "outputs": [],
   "source": [
    "### Análisis con spaCy\n",
    "\n",
    "def analyze_spacy(text):\n",
    "    #########"
   ]
  },
  {
   "cell_type": "code",
   "execution_count": 3,
   "metadata": {},
   "outputs": [],
   "source": [
    "## Tokenización - NLTK\n",
    "\n",
    "def tokenize_nltk(text):\n",
    "    ########"
   ]
  },
  {
   "cell_type": "code",
   "execution_count": null,
   "metadata": {},
   "outputs": [],
   "source": []
  }
 ],
 "metadata": {
  "kernelspec": {
   "display_name": "Python 3.8.5 ('base')",
   "language": "python",
   "name": "python3"
  },
  "language_info": {
   "codemirror_mode": {
    "name": "ipython",
    "version": 3
   },
   "file_extension": ".py",
   "mimetype": "text/x-python",
   "name": "python",
   "nbconvert_exporter": "python",
   "pygments_lexer": "ipython3",
   "version": "3.8.5"
  },
  "vscode": {
   "interpreter": {
    "hash": "107fb03afb2754bdb3cdbb13c1c83d7d6037442339c22e5ee8cf40869e8513c5"
   }
  }
 },
 "nbformat": 4,
 "nbformat_minor": 4
}
