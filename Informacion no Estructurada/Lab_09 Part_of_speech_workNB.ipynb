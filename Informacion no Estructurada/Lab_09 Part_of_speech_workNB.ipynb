{
 "cells": [
  {
   "cell_type": "markdown",
   "metadata": {},
   "source": [
    "# Part of Speech"
   ]
  },
  {
   "cell_type": "code",
   "execution_count": 19,
   "metadata": {},
   "outputs": [],
   "source": [
    "## Importación de librerías. Importa nltk y spacy\n",
    "\n",
    "import pandas as pd\n",
    "import nltk\n",
    "import spacy\n",
    "\n",
    "nlp = spacy.load(\"es_core_news_lg\")"
   ]
  },
  {
   "cell_type": "code",
   "execution_count": 2,
   "metadata": {},
   "outputs": [],
   "source": [
    "### Genera una función que lea un fichero txt\n",
    "def read_text_file(filename):\n",
    "    file = open(filename, \"r\", encoding=\"utf-8\") \n",
    "    return file.read()"
   ]
  },
  {
   "cell_type": "code",
   "execution_count": 3,
   "metadata": {},
   "outputs": [],
   "source": [
    "### Lee el archivo Lazarillo\n",
    "lazarillo_text = read_text_file(\"/Users/juan/Documents/GitHub/master_data_science/Informacion no Estructurada/Lazarillo.txt\")\n"
   ]
  },
  {
   "cell_type": "code",
   "execution_count": 16,
   "metadata": {},
   "outputs": [
    {
     "name": "stdout",
     "output_type": "stream",
     "text": [
      "POS - NLTK\n",
      "[('Pues', 'NNS'), ('sepa', 'VBP'), ('V.M', 'NNP'), ('.', '.'), ('ante', 'NN'), ('todas', 'JJ'), ('cosas', 'NN'), ('que', 'NN'), ('a', 'DT'), ('mí', 'NN'), ('llaman', 'JJ'), ('Lázaro', 'NNP'), ('de', 'FW'), ('Tormes', 'NNP'), (',', ',')]\n"
     ]
    }
   ],
   "source": [
    "### POS - NLTK\n",
    "print(\"POS - NLTK\")\n",
    "\n",
    "# genera la lista de tokens\n",
    "text_tokens = nltk.word_tokenize(lazarillo_text)\n",
    "\n",
    "# aplica a cada token la etiqueta POS_TAG correspondiente con .pos_tag()\n",
    "pos = nltk.pos_tag(text_tokens)\n",
    "\n",
    "print(pos[:15])"
   ]
  },
  {
   "cell_type": "code",
   "execution_count": 25,
   "metadata": {},
   "outputs": [
    {
     "name": "stdout",
     "output_type": "stream",
     "text": [
      "POS - spaCy\n",
      "{'Pues': 'SCONJ', 'sepa': 'PROPN', 'V.M.': 'PROPN', '\\n': 'SPACE', 'ante': 'ADP', 'todas': 'DET', 'cosas': 'NOUN', 'que': 'PRON', 'a': 'ADP', 'mí': 'PRON', 'llaman': 'VERB', 'Lázaro': 'PROPN', 'de': 'ADP', 'Tormes': 'PROPN', ',': 'PUNCT', 'hijo': 'NOUN', 'Tomé': 'PROPN', 'González': 'PROPN', 'y': 'CCONJ', 'Antona': 'PROPN', 'Pérez': 'PROPN', 'naturales': 'ADJ', 'Tejares': 'PROPN', 'aldea': 'NOUN', 'Salamanca': 'PROPN', '.': 'PUNCT', 'Mi': 'DET', 'nacimiento': 'NOUN', 'fue': 'AUX', 'dentro': 'ADV', 'del': 'ADP', 'río': 'NOUN', 'por': 'ADP', 'la': 'DET', 'cual': 'PRON', 'causa': 'VERB', 'tomé': 'VERB', 'el': 'DET', 'sobrenombre': 'NOUN', 'desta': 'VERB', 'manera': 'NOUN', 'padre': 'NOUN', 'Dios': 'PROPN', 'perdone': 'VERB', 'tenía': 'VERB', 'cargo': 'NOUN', 'proveer': 'VERB', 'una': 'DET', 'molienda': 'NOUN', 'aceña': 'NOUN', 'está': 'VERB', 'ribera': 'NOUN', 'aquel': 'DET', 'en': 'ADP', 'molinero': 'NOUN', 'más': 'ADV', 'quince': 'NUM', 'años': 'NOUN', ';': 'PUNCT', 'estando': 'VERB', 'mi': 'DET', 'madre': 'NOUN', 'noche': 'NOUN', 'preñada': 'ADJ', 'tomóle': 'VERB', 'parto': 'NOUN', 'parióme': 'VERB', 'allí': 'ADV', ':': 'PUNCT', 'con': 'ADP', 'verdad': 'NOUN', 'puedo': 'AUX', 'decir': 'VERB', 'nacido': 'ADJ', 'siendo': 'AUX', 'yo': 'PRON', 'niño': 'NOUN', 'ocho': 'NUM', 'achacaron': 'VERB', 'ciertas': 'DET', 'sangrías': 'NOUN', 'mal': 'ADV', 'hechas': 'ADJ', 'los': 'DET', 'costales': 'NOUN', 'moler': 'VERB', 'venían': 'VERB', 'lo': 'PRON', 'preso': 'ADJ', 'confesó': 'VERB', 'no': 'ADV', 'negó': 'VERB', 'padeció': 'VERB', 'persecución': 'NOUN', 'justicia': 'NOUN', 'Espero': 'VERB', 'Gloria': 'PROPN', 'pues': 'SCONJ', 'Evangelio': 'PROPN', 'llama': 'VERB', 'bienaventurados': 'PROPN', 'En': 'ADP', 'este': 'DET', 'tiempo': 'NOUN', 'se': 'PRON', 'hizo': 'VERB', 'cierta': 'DET', 'armada': 'NOUN', 'contra': 'ADP', 'moros': 'NOUN', 'entre': 'ADP', 'cuales': 'PRON', 'sazón': 'NOUN', 'estaba': 'AUX', 'desterrado': 'ADJ', 'desastre': 'NOUN', 'ya': 'ADV', 'dicho': 'ADJ', 'acemilero': 'PROPN', 'un': 'DET', 'caballero': 'NOUN', 'allá': 'ADV', 'su': 'DET', 'señor': 'NOUN', 'como': 'SCONJ', 'leal': 'NOUN', 'criado': 'ADJ', 'feneció': 'VERB', 'vida': 'NOUN'}\n"
     ]
    }
   ],
   "source": [
    "### POS - spaCy\n",
    "print(\"POS - spaCy\")\n",
    "\n",
    "# genera el doc\n",
    "doc = nlp(lazarillo_text)\n",
    "\n",
    "# aplica el POS_TAG a cada palabra\n",
    "pos = {token.text:token.pos_ for token in doc}\n",
    "print(pos)"
   ]
  },
  {
   "cell_type": "code",
   "execution_count": null,
   "metadata": {},
   "outputs": [],
   "source": []
  }
 ],
 "metadata": {
  "kernelspec": {
   "display_name": "Python 3 (ipykernel)",
   "language": "python",
   "name": "python3"
  },
  "language_info": {
   "codemirror_mode": {
    "name": "ipython",
    "version": 3
   },
   "file_extension": ".py",
   "mimetype": "text/x-python",
   "name": "python",
   "nbconvert_exporter": "python",
   "pygments_lexer": "ipython3",
   "version": "3.9.13"
  },
  "varInspector": {
   "cols": {
    "lenName": 16,
    "lenType": 16,
    "lenVar": 40
   },
   "kernels_config": {
    "python": {
     "delete_cmd_postfix": "",
     "delete_cmd_prefix": "del ",
     "library": "var_list.py",
     "varRefreshCmd": "print(var_dic_list())"
    },
    "r": {
     "delete_cmd_postfix": ") ",
     "delete_cmd_prefix": "rm(",
     "library": "var_list.r",
     "varRefreshCmd": "cat(var_dic_list()) "
    }
   },
   "position": {
    "height": "144.844px",
    "left": "935px",
    "right": "20px",
    "top": "18px",
    "width": "350px"
   },
   "types_to_exclude": [
    "module",
    "function",
    "builtin_function_or_method",
    "instance",
    "_Feature"
   ],
   "window_display": true
  },
  "vscode": {
   "interpreter": {
    "hash": "107fb03afb2754bdb3cdbb13c1c83d7d6037442339c22e5ee8cf40869e8513c5"
   }
  }
 },
 "nbformat": 4,
 "nbformat_minor": 4
}
