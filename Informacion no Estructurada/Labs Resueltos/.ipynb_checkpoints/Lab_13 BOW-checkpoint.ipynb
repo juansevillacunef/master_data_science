{
 "cells": [
  {
   "cell_type": "markdown",
   "metadata": {},
   "source": [
    "# Bag of Words"
   ]
  },
  {
   "cell_type": "code",
   "execution_count": 1,
   "metadata": {},
   "outputs": [],
   "source": [
    "### Importación de librerías\n",
    "\n",
    "import spacy\n",
    "import pandas as pd\n",
    "from sklearn.feature_extraction.text import CountVectorizer\n",
    "\n",
    "nlp = spacy.load(\"es_core_news_lg\")"
   ]
  },
  {
   "cell_type": "code",
   "execution_count": 6,
   "metadata": {},
   "outputs": [
    {
     "name": "stdout",
     "output_type": "stream",
     "text": [
      "Amsterdam es la capital de los Países Bajos, conocida por su patrimonio artístico, su elaborado sistema de canales y sus casas angostas con fachadas de dos aguas, herencias de la Edad de Oro de la ciudad durante el siglo XVII. \n",
      "\n",
      "El Distrito de Museos alberga el Museo van Gogh, obras de Rembrandt y Vermeer en el Rijksmuseum, y arte moderno en el Museo Stedelijk. \n",
      "\n",
      "El ciclismo es clave en la identidad de la ciudad y existen varios senderos para practicarlo. \n",
      "\n"
     ]
    }
   ],
   "source": [
    "### Separación en oraciones y construye una lista con las frases que vamos a vectorizar  con Spacy\n",
    "\n",
    "amsterdam_text = \"Amsterdam es la capital de los Países Bajos, conocida por su patrimonio artístico, su elaborado sistema de canales y sus casas angostas con fachadas de dos aguas, herencias de la Edad de Oro de la ciudad durante el siglo XVII. El Distrito de Museos alberga el Museo van Gogh, obras de Rembrandt y Vermeer en el Rijksmuseum, y arte moderno en el Museo Stedelijk. El ciclismo es clave en la identidad de la ciudad y existen varios senderos para practicarlo.\"\n",
    "doc = nlp(amsterdam_text)\n",
    "sentencias=[]\n",
    "\n",
    "for sent in doc.sents:\n",
    "    sentencias.append(sent.text)\n",
    "    print(sent, \"\\n\")"
   ]
  },
  {
   "cell_type": "code",
   "execution_count": 7,
   "metadata": {
    "scrolled": true
   },
   "outputs": [
    {
     "name": "stdout",
     "output_type": "stream",
     "text": [
      "<class 'scipy.sparse.csr.csr_matrix'>\n",
      "  (0, 5)\t1\n",
      "  (0, 6)\t3\n",
      "  (0, 2)\t6\n",
      "  (0, 7)\t1\n",
      "  (0, 19)\t2\n",
      "  (0, 14)\t1\n",
      "  (0, 0)\t1\n",
      "  (0, 12)\t1\n",
      "  (0, 1)\t1\n",
      "  (0, 3)\t1\n",
      "  (1, 2)\t2\n",
      "  (1, 3)\t4\n",
      "  (1, 10)\t1\n",
      "  (1, 9)\t2\n",
      "  (1, 11)\t1\n",
      "  (1, 16)\t1\n",
      "  (1, 4)\t2\n",
      "  (1, 17)\t1\n",
      "  (1, 8)\t1\n",
      "  (2, 5)\t1\n",
      "  (2, 6)\t2\n",
      "  (2, 2)\t1\n",
      "  (2, 1)\t1\n",
      "  (2, 3)\t1\n",
      "  (2, 4)\t1\n",
      "  (2, 18)\t1\n",
      "  (2, 13)\t1\n",
      "  (2, 15)\t1\n"
     ]
    }
   ],
   "source": [
    "###  Inicializa el CountVectorizer con el parametro max_features a 20, y aplícalo sobre las frases (fit_transform())\n",
    "\n",
    "vectorizer = CountVectorizer(max_features=20)\n",
    "\n",
    "BOW = vectorizer.fit_transform(sentencias)\n",
    "print(type(BOW))\n",
    "print(BOW)"
   ]
  },
  {
   "cell_type": "code",
   "execution_count": 8,
   "metadata": {},
   "outputs": [
    {
     "name": "stdout",
     "output_type": "stream",
     "text": [
      "<class 'numpy.matrix'>\n",
      "[[1 1 6 1 0 1 3 1 0 0 0 0 1 0 1 0 0 0 0 2]\n",
      " [0 0 2 4 2 0 0 0 1 2 1 1 0 0 0 0 1 1 0 0]\n",
      " [0 1 1 1 1 1 2 0 0 0 0 0 0 1 0 1 0 0 1 0]]\n"
     ]
    }
   ],
   "source": [
    "### fit_transform produce una matriz formato scipy.sparse.csr.csr_matrix, muy dificil de visualizar\n",
    "### Es más visual el tipo matriz densa. Utiliza to_dense()\n",
    "### En lugar de .todense() podríamos utilizar igualmente .toarray()\n",
    "\n",
    "BOW_densa=BOW.todense()\n",
    "print(type(BOW_densa))\n",
    "print(BOW_densa)"
   ]
  },
  {
   "cell_type": "code",
   "execution_count": 9,
   "metadata": {},
   "outputs": [
    {
     "data": {
      "text/html": [
       "<div>\n",
       "<style scoped>\n",
       "    .dataframe tbody tr th:only-of-type {\n",
       "        vertical-align: middle;\n",
       "    }\n",
       "\n",
       "    .dataframe tbody tr th {\n",
       "        vertical-align: top;\n",
       "    }\n",
       "\n",
       "    .dataframe thead th {\n",
       "        text-align: right;\n",
       "    }\n",
       "</style>\n",
       "<table border=\"1\" class=\"dataframe\">\n",
       "  <thead>\n",
       "    <tr style=\"text-align: right;\">\n",
       "      <th></th>\n",
       "      <th>aguas</th>\n",
       "      <th>ciudad</th>\n",
       "      <th>de</th>\n",
       "      <th>el</th>\n",
       "      <th>en</th>\n",
       "      <th>es</th>\n",
       "      <th>la</th>\n",
       "      <th>los</th>\n",
       "      <th>moderno</th>\n",
       "      <th>museo</th>\n",
       "      <th>museos</th>\n",
       "      <th>obras</th>\n",
       "      <th>oro</th>\n",
       "      <th>para</th>\n",
       "      <th>patrimonio</th>\n",
       "      <th>practicarlo</th>\n",
       "      <th>rembrandt</th>\n",
       "      <th>rijksmuseum</th>\n",
       "      <th>senderos</th>\n",
       "      <th>su</th>\n",
       "    </tr>\n",
       "  </thead>\n",
       "  <tbody>\n",
       "    <tr>\n",
       "      <th>0</th>\n",
       "      <td>1</td>\n",
       "      <td>1</td>\n",
       "      <td>6</td>\n",
       "      <td>1</td>\n",
       "      <td>0</td>\n",
       "      <td>1</td>\n",
       "      <td>3</td>\n",
       "      <td>1</td>\n",
       "      <td>0</td>\n",
       "      <td>0</td>\n",
       "      <td>0</td>\n",
       "      <td>0</td>\n",
       "      <td>1</td>\n",
       "      <td>0</td>\n",
       "      <td>1</td>\n",
       "      <td>0</td>\n",
       "      <td>0</td>\n",
       "      <td>0</td>\n",
       "      <td>0</td>\n",
       "      <td>2</td>\n",
       "    </tr>\n",
       "    <tr>\n",
       "      <th>1</th>\n",
       "      <td>0</td>\n",
       "      <td>0</td>\n",
       "      <td>2</td>\n",
       "      <td>4</td>\n",
       "      <td>2</td>\n",
       "      <td>0</td>\n",
       "      <td>0</td>\n",
       "      <td>0</td>\n",
       "      <td>1</td>\n",
       "      <td>2</td>\n",
       "      <td>1</td>\n",
       "      <td>1</td>\n",
       "      <td>0</td>\n",
       "      <td>0</td>\n",
       "      <td>0</td>\n",
       "      <td>0</td>\n",
       "      <td>1</td>\n",
       "      <td>1</td>\n",
       "      <td>0</td>\n",
       "      <td>0</td>\n",
       "    </tr>\n",
       "    <tr>\n",
       "      <th>2</th>\n",
       "      <td>0</td>\n",
       "      <td>1</td>\n",
       "      <td>1</td>\n",
       "      <td>1</td>\n",
       "      <td>1</td>\n",
       "      <td>1</td>\n",
       "      <td>2</td>\n",
       "      <td>0</td>\n",
       "      <td>0</td>\n",
       "      <td>0</td>\n",
       "      <td>0</td>\n",
       "      <td>0</td>\n",
       "      <td>0</td>\n",
       "      <td>1</td>\n",
       "      <td>0</td>\n",
       "      <td>1</td>\n",
       "      <td>0</td>\n",
       "      <td>0</td>\n",
       "      <td>1</td>\n",
       "      <td>0</td>\n",
       "    </tr>\n",
       "  </tbody>\n",
       "</table>\n",
       "</div>"
      ],
      "text/plain": [
       "   aguas  ciudad  de  el  en  es  la  los  moderno  museo  museos  obras  oro  \\\n",
       "0      1       1   6   1   0   1   3    1        0      0       0      0    1   \n",
       "1      0       0   2   4   2   0   0    0        1      2       1      1    0   \n",
       "2      0       1   1   1   1   1   2    0        0      0       0      0    0   \n",
       "\n",
       "   para  patrimonio  practicarlo  rembrandt  rijksmuseum  senderos  su  \n",
       "0     0           1            0          0            0         0   2  \n",
       "1     0           0            0          1            1         0   0  \n",
       "2     1           0            1          0            0         1   0  "
      ]
     },
     "execution_count": 9,
     "metadata": {},
     "output_type": "execute_result"
    }
   ],
   "source": [
    "# Visualización de la matriz\n",
    "\n",
    "# Obtén el vocabulario para poner las etiquetas de las columnaas\n",
    "vocab = vectorizer.get_feature_names()\n",
    "print(vocab)\n",
    "# Y construimos un dataframe para mostrar el resultado: por cada documento las ocurrencias de cada token\n",
    "pd.DataFrame(BOW.toarray(), columns=vocab)"
   ]
  },
  {
   "cell_type": "markdown",
   "metadata": {},
   "source": [
    "## Si quiero quitar las stopwords\n",
    "\n",
    "1. Cargo la lista de stopwords\n",
    "2. Filtro las columnas por aquellas que no esten en stopwords\n",
    "\n",
    "stopwords = [lista de stopwords]\n",
    "\n",
    "selected_columns = []\n",
    "for column in df: # df es el dataframe\n",
    "    if column not in stopwords:\n",
    "    selected_columns.append(columns)\n",
    "    \n",
    "nuevo_dataframe = df[[selected_columns]]\n",
    "\n",
    "df['nombrecolumna']\n",
    "df[['nombre1']]"
   ]
  },
  {
   "cell_type": "code",
   "execution_count": null,
   "metadata": {},
   "outputs": [],
   "source": []
  }
 ],
 "metadata": {
  "kernelspec": {
   "display_name": "Python 3 (ipykernel)",
   "language": "python",
   "name": "python3"
  },
  "language_info": {
   "codemirror_mode": {
    "name": "ipython",
    "version": 3
   },
   "file_extension": ".py",
   "mimetype": "text/x-python",
   "name": "python",
   "nbconvert_exporter": "python",
   "pygments_lexer": "ipython3",
   "version": "3.9.13"
  },
  "varInspector": {
   "cols": {
    "lenName": 16,
    "lenType": 16,
    "lenVar": 40
   },
   "kernels_config": {
    "python": {
     "delete_cmd_postfix": "",
     "delete_cmd_prefix": "del ",
     "library": "var_list.py",
     "varRefreshCmd": "print(var_dic_list())"
    },
    "r": {
     "delete_cmd_postfix": ") ",
     "delete_cmd_prefix": "rm(",
     "library": "var_list.r",
     "varRefreshCmd": "cat(var_dic_list()) "
    }
   },
   "types_to_exclude": [
    "module",
    "function",
    "builtin_function_or_method",
    "instance",
    "_Feature"
   ],
   "window_display": true
  },
  "vscode": {
   "interpreter": {
    "hash": "107fb03afb2754bdb3cdbb13c1c83d7d6037442339c22e5ee8cf40869e8513c5"
   }
  }
 },
 "nbformat": 4,
 "nbformat_minor": 4
}
