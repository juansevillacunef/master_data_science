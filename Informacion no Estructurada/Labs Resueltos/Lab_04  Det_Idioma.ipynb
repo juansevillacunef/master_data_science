{
 "cells": [
  {
   "cell_type": "markdown",
   "metadata": {},
   "source": [
    "# Lab 04. Detección del idioma y traducción\n",
    "### `textblob`: otro módulo para tareas de PLN (`NLTK` + `pattern`)\n",
    "\n",
    "[textblob](http://textblob.readthedocs.org/) es una librería de procesamiento del texto para Python que permite realizar tareas de Procesamiento del Lenguaje Natural como análisis morfológico, extracción de entidades, análisis de opinión, traducción automática, etc. \n",
    "\n",
    "Está construida sobre otras dos librerías muy famosas de Python: [NLTK](http://www.nltk.org/) y [pattern](http://www.clips.ua.ac.be/pages/pattern-en). La principal ventaja de [textblob](http://textblob.readthedocs.org/) es que permite combinar el uso de las dos herramientas anteriores en un interfaz más simple.\n",
    "\n",
    "Vamos a apoyarnos en [este tutorial](http://textblob.readthedocs.org/en/dev/quickstart.html) para aprender a utilizar algunas de sus funcionalidades más llamativas. \n",
    "\n",
    "Lo primero es instalar la librería si aún no está instalada, y después importar el objeto `TextBlob` que nos permite acceder a todas las herramentas que incluye.\n",
    "\n"
   ]
  },
  {
   "cell_type": "code",
   "execution_count": 7,
   "metadata": {},
   "outputs": [
    {
     "name": "stdout",
     "output_type": "stream",
     "text": [
      "Requirement already satisfied: TextBlob in /Users/irene/opt/anaconda3/lib/python3.8/site-packages (0.17.1)\n",
      "Requirement already satisfied: nltk>=3.1; python_version >= \"3\" in /Users/irene/opt/anaconda3/lib/python3.8/site-packages (from TextBlob) (3.5)\n",
      "Requirement already satisfied: tqdm in /Users/irene/opt/anaconda3/lib/python3.8/site-packages (from nltk>=3.1; python_version >= \"3\"->TextBlob) (4.50.2)\n",
      "Requirement already satisfied: click in /Users/irene/opt/anaconda3/lib/python3.8/site-packages (from nltk>=3.1; python_version >= \"3\"->TextBlob) (7.1.2)\n",
      "Requirement already satisfied: regex in /Users/irene/opt/anaconda3/lib/python3.8/site-packages (from nltk>=3.1; python_version >= \"3\"->TextBlob) (2020.10.15)\n",
      "Requirement already satisfied: joblib in /Users/irene/opt/anaconda3/lib/python3.8/site-packages (from nltk>=3.1; python_version >= \"3\"->TextBlob) (0.17.0)\n",
      "[nltk_data] Downloading package brown to /Users/irene/nltk_data...\n",
      "[nltk_data]   Package brown is already up-to-date!\n",
      "[nltk_data] Downloading package punkt to /Users/irene/nltk_data...\n",
      "[nltk_data]   Package punkt is already up-to-date!\n",
      "[nltk_data] Downloading package wordnet to /Users/irene/nltk_data...\n",
      "[nltk_data]   Package wordnet is already up-to-date!\n",
      "[nltk_data] Downloading package averaged_perceptron_tagger to\n",
      "[nltk_data]     /Users/irene/nltk_data...\n",
      "[nltk_data]   Package averaged_perceptron_tagger is already up-to-\n",
      "[nltk_data]       date!\n",
      "[nltk_data] Downloading package conll2000 to /Users/irene/nltk_data...\n",
      "[nltk_data]   Package conll2000 is already up-to-date!\n",
      "[nltk_data] Downloading package movie_reviews to\n",
      "[nltk_data]     /Users/irene/nltk_data...\n",
      "[nltk_data]   Package movie_reviews is already up-to-date!\n",
      "Finished.\n"
     ]
    }
   ],
   "source": [
    "# si no esta instalado TextBlob en el entorno, ejecutar las siguientes linea de codigo:\n",
    "!pip install TextBlob\n",
    "!python -m textblob.download_corpora\n",
    "\n",
    "from textblob import TextBlob"
   ]
  },
  {
   "cell_type": "markdown",
   "metadata": {},
   "source": [
    "Vamos a crear nuestro primer ejemplo de *textblob* a través del objeto `TextBlob`. Piensa en estos *textblobs* como una especie de cadenas de texto de Python, analaizadas y enriquecidas con algunas características extra. El objeto `t` se podría utilizar para aplicar: detección de idiomas, división en frases, palabras, extracción de entidades... etc, tal y como se ve en todas los métodos que se le pueden aplicar. Por el momento, el foco lo vamos a poner en la traducción automática de textos."
   ]
  },
  {
   "cell_type": "code",
   "execution_count": 29,
   "metadata": {},
   "outputs": [
    {
     "name": "stdout",
     "output_type": "stream",
     "text": [
      "['__add__', '__class__', '__contains__', '__delattr__', '__dir__', '__eq__', '__format__', '__ge__', '__getattribute__', '__getitem__', '__gt__', '__hash__', '__init__', '__init_subclass__', '__iter__', '__le__', '__len__', '__lt__', '__ne__', '__new__', '__reduce__', '__reduce_ex__', '__repr__', '__setattr__', '__sizeof__', '__str__', '__subclasshook__', '_cmpkey', '_compare', '_create_sentence_objects', '_strkey', 'classify', 'correct', 'detect_language', 'ends_with', 'endswith', 'find', 'format', 'index', 'join', 'lower', 'ngrams', 'parse', 'replace', 'rfind', 'rindex', 'split', 'starts_with', 'startswith', 'strip', 'title', 'to_json', 'tokenize', 'translate', 'upper']\n"
     ]
    }
   ],
   "source": [
    "texto = \"\"\"In new lawsuits brought against the ride-sharing companies Uber and Lyft, the top prosecutors in Los Angeles \n",
    "and San Francisco counties make an important point about the lightly regulated sharing economy. The consumers who \n",
    "participate deserve a very clear picture of the risks they're taking\"\"\"\n",
    "t = TextBlob(texto)\n",
    "print([method_name for method_name in dir(t)\n",
    "                  if callable(getattr(t, method_name))])"
   ]
  },
  {
   "cell_type": "markdown",
   "metadata": {},
   "source": [
    "## Traducción automática\n",
    "\n",
    "\n",
    "A partir de cualquier texto procesado con `TextBlob`, podemos acceder a un traductor automático de bastante calidad con el método `.translate()`.  Es obligatorio indicar la lengua de destino y la de origen. "
   ]
  },
  {
   "cell_type": "markdown",
   "metadata": {},
   "source": [
    "#### Ejercicio 1. Traduce estos textos de chino (código 'zh-CN') a inglés (código 'en'). Tradúcelos también a español (código 'es').\n",
    "\n",
    "- oracion_zh = \"中国探月工程 亦稱嫦娥工程，是中国启动的第一个探月工程，于2003年3月1日正式启动\"\n",
    "\n",
    "- oracion_zh2 = \"DALL-E 2是近几个月来人工智能领域最引人注目的。但谷歌还没有说最后一句话。今天，他们决定展示 IMAGE，他们的新 AI 能够从简短的描述中创建超逼真的图像 OpenAI 工具的替代品，已由 Google 测试和研究，以获得更准确的结果。\"\n"
   ]
  },
  {
   "cell_type": "code",
   "execution_count": 31,
   "metadata": {},
   "outputs": [
    {
     "name": "stdout",
     "output_type": "stream",
     "text": [
      "China Lunar Exploration Project is also known as Chang'e Project. It is the first lunar exploration project launched by China. It was officially launched on March 1, 2003\n",
      "Dall-E 2 is the most striking in the field of artificial intelligence in recent months. But Google has not said the last sentence yet. Today, they decided to show Image, and their new AI could create super -realistic images from a brief description. The replacement of the OpenAI tool has been tested and studied by Google to obtain more accurate results.\n",
      "El Proyecto de Exploración Lunar de China también se conoce como Proyecto Chang'e. Es el primer proyecto de exploración lunar lanzado por China. Se lanzó oficialmente el 1 de marzo de 2003\n",
      "Dall-E 2 es el más llamativo en el campo de la inteligencia artificial en los últimos meses. Pero Google aún no ha dicho la última oración. Hoy, decidieron mostrar imagen, y su nueva IA podría crear imágenes súper reales a partir de una breve descripción. Google ha probado y estudiado el reemplazo de la herramienta OpenAI para obtener resultados más precisos.\n",
      "In 1943, she was sent to the United States, where she spoke in defense of the British White Book, after which she worked in Canada and India.\n",
      "En 1943, fue enviada a los Estados Unidos, donde habló en defensa del libro blanco británico, después de lo cual trabajó en Canadá e India.\n",
      "--------------\n",
      "Το δημόσιο χρέος σημείωσε νέα αρχεία στην Ισπανία το τρίτο τρίμηνο\n",
      "Государственный долг отметил новые записи в Испании в третьем квартале\n",
      "Zor publikoak erregistro berriak markatu ditu Espainian hirugarren hiruhilekoan\n",
      "Julkinen velka on merkinnyt uusia tietueita Espanjassa kolmannella vuosineljänneksellä\n",
      "La dette publique a marqué de nouveaux records en Espagne au troisième trimestre\n",
      "De overheidsschuld heeft in het derde kwartaal nieuwe records gemarkeerd in Spanje\n",
      "A débeda pública marcou novos rexistros en España no terceiro trimestre\n",
      "El deute públic ha marcat nous registres a Espanya al tercer trimestre\n",
      "公共债务在第三季度标志着西班牙的新记录\n",
      "Public Debitum notatum novum records in Hispania in tertia quartam\n",
      "Ve třetím čtvrtletí ve Španělsku znamenal veřejný dluh ve Španělsku ve Španělsku\n"
     ]
    }
   ],
   "source": [
    "# de chino a inglés y español\n",
    "oracion_zh = \"中国探月工程 亦稱嫦娥工程，是中国启动的第一个探月工程，于2003年3月1日正式启动\"\n",
    "oracion_zh2 = \"DALL-E 2是近几个月来人工智能领域最引人注目的。但谷歌还没有说最后一句话。今天，他们决定展示 IMAGE，他们的新 AI 能够从简短的描述中创建超逼真的图像。 OpenAI 工具的替代品，已由 Google 测试和研究，以获得更准确的结果。\"\n",
    "\n",
    "t_zh = TextBlob(oracion_zh)\n",
    "t_zh2 = TextBlob(oracion_zh2)\n",
    "print(t_zh.translate(from_lang=\"zh-CN\", to=\"en\"))\n",
    "print(t_zh2.translate(from_lang=\"zh-CN\", to=\"en\"))\n",
    "print(t_zh.translate(from_lang=\"zh-CN\", to=\"es\"))\n",
    "print(t_zh2.translate(from_lang=\"zh-CN\", to=\"es\"))\n",
    "\n"
   ]
  },
  {
   "cell_type": "markdown",
   "metadata": {},
   "source": [
    "#### Ejercicio 2. Traduce esta oración del ruso (código 'ru') al inglés (código 'en') y al español (código 'es')"
   ]
  },
  {
   "cell_type": "code",
   "execution_count": 32,
   "metadata": {},
   "outputs": [
    {
     "name": "stdout",
     "output_type": "stream",
     "text": [
      "In 1943, she was sent to the United States, where she spoke in defense of the British White Book, after which she worked in Canada and India.\n",
      "En 1943, fue enviada a los Estados Unidos, donde habló en defensa del libro blanco británico, después de lo cual trabajó en Canadá e India.\n"
     ]
    }
   ],
   "source": [
    "oracion_ru = \"В 1943 году была отправлена в США, где выступала в защиту британской «белой книги», после чего работала в Канаде и Индии.\"\n",
    "t_ru = TextBlob(oracion_ru)\n",
    "print(t_ru.translate(from_lang=\"ru\", to=\"en\"))\n",
    "print(t_ru.translate(from_lang=\"ru\", to=\"es\"))"
   ]
  },
  {
   "cell_type": "markdown",
   "metadata": {},
   "source": [
    "#### Ejercicio extra. Traduce esta frase en español a sueco."
   ]
  },
  {
   "cell_type": "code",
   "execution_count": 33,
   "metadata": {},
   "outputs": [
    {
     "name": "stdout",
     "output_type": "stream",
     "text": [
      "Offentliga skulder har markerat nya poster i Spanien under det tredje kvartalet\n"
     ]
    }
   ],
   "source": [
    "\n",
    "t_es = TextBlob(\n",
    "    \"La deuda pública ha marcado nuevos récords en España en el tercer trimestre\"\n",
    ")\n",
    "print(t_es.translate(from_lang=\"es\", to=\"sv\"))\n"
   ]
  },
  {
   "cell_type": "markdown",
   "metadata": {},
   "source": [
    "#### Curiosidad: Corrección ortográfica"
   ]
  },
  {
   "cell_type": "code",
   "execution_count": 48,
   "metadata": {},
   "outputs": [
    {
     "name": "stdout",
     "output_type": "stream",
     "text": [
      "I have good spelling!\n",
      "Girls dont cry\n",
      "The exam was very difficult\n"
     ]
    }
   ],
   "source": [
    "#  corrección ortográfica\n",
    "b1 = TextBlob(\"I havv goood speling!\")\n",
    "print(b1.correct())\n",
    "\n",
    "b3 = TextBlob(\"Gyrls dont cri\")\n",
    "print(b3.correct())\n",
    "\n",
    "b4 = TextBlob(\"Thel examn wis veri dificul\")\n",
    "print(b4.correct())"
   ]
  },
  {
   "cell_type": "code",
   "execution_count": null,
   "metadata": {},
   "outputs": [],
   "source": []
  }
 ],
 "metadata": {
  "kernelspec": {
   "display_name": "Python 3.8.5 ('base')",
   "language": "python",
   "name": "python3"
  },
  "language_info": {
   "codemirror_mode": {
    "name": "ipython",
    "version": 3
   },
   "file_extension": ".py",
   "mimetype": "text/x-python",
   "name": "python",
   "nbconvert_exporter": "python",
   "pygments_lexer": "ipython3",
   "version": "3.8.5"
  },
  "varInspector": {
   "cols": {
    "lenName": 16,
    "lenType": 16,
    "lenVar": 40
   },
   "kernels_config": {
    "python": {
     "delete_cmd_postfix": "",
     "delete_cmd_prefix": "del ",
     "library": "var_list.py",
     "varRefreshCmd": "print(var_dic_list())"
    },
    "r": {
     "delete_cmd_postfix": ") ",
     "delete_cmd_prefix": "rm(",
     "library": "var_list.r",
     "varRefreshCmd": "cat(var_dic_list()) "
    }
   },
   "oldHeight": 122.852,
   "position": {
    "height": "40px",
    "left": "1010px",
    "right": "20px",
    "top": "120px",
    "width": "250px"
   },
   "types_to_exclude": [
    "module",
    "function",
    "builtin_function_or_method",
    "instance",
    "_Feature"
   ],
   "varInspector_section_display": "none",
   "window_display": true
  },
  "vscode": {
   "interpreter": {
    "hash": "107fb03afb2754bdb3cdbb13c1c83d7d6037442339c22e5ee8cf40869e8513c5"
   }
  }
 },
 "nbformat": 4,
 "nbformat_minor": 4
}
