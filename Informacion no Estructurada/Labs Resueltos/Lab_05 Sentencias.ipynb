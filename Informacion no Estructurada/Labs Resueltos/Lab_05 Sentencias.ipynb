{
 "cells": [
  {
   "cell_type": "markdown",
   "metadata": {},
   "source": [
    "# División de un texto en frases: NLTK vs. Spacy\n",
    "\n",
    "NLTK y Spacy son dos librerías que se pueden utilizar para dividir por frases textos. En esta práctica se va a realizar una comparativa de ambas librerías para comparar tanto resultados como tiempos de ejecución. Rellena las líneas de código que se piden, y responde a las preguntas."
   ]
  },
  {
   "cell_type": "code",
   "execution_count": 1,
   "metadata": {},
   "outputs": [],
   "source": [
    "### Importación de librerías. Importa nltk y spacy\n",
    "import nltk\n",
    "import spacy\n",
    "import time\n",
    "\n",
    "# carga el modelo es_core_news_lg de spacy\n",
    "nlp = spacy.load(\"es_core_news_lg\")"
   ]
  },
  {
   "cell_type": "code",
   "execution_count": 2,
   "metadata": {},
   "outputs": [],
   "source": [
    "### Lectura del fichero (ajusta el path a donde esté localizado tu archivo)\n",
    "filename = \"data/Lazarillo.txt\"\n",
    "text = open(filename, \"r\", encoding=\"utf-8\") .read()\n",
    "\n",
    "### Preprocesamiento en que eliminamos retornos de línea. Elimina el retorno de línea del texto. Se recomienda utilizar la función replace().\n",
    "text = text.replace(\"\\n\", \" \")"
   ]
  },
  {
   "cell_type": "code",
   "execution_count": 4,
   "metadata": {},
   "outputs": [
    {
     "name": "stdout",
     "output_type": "stream",
     "text": [
      "CPU times: user 966 µs, sys: 29 µs, total: 995 µs\n",
      "Wall time: 1.04 ms\n"
     ]
    },
    {
     "data": {
      "text/plain": [
       "['Pues sepa V.M.',\n",
       " 'ante todas cosas que a mí llaman Lázaro de Tormes, hijo de Tomé González y de Antona Pérez, naturales de Tejares, aldea de Salamanca.',\n",
       " 'Mi nacimiento fue dentro del río Tormes, por la cual causa tomé el sobrenombre, y fue desta manera.',\n",
       " 'Mi padre, que Dios perdone, tenía cargo de proveer una molienda de una aceña, que está ribera de aquel río, en la cual fue molinero más de quince años; y estando mi madre una noche en la aceña, preñada de mí, tomóle el parto y parióme allí: de manera que con verdad puedo decir nacido en el río.',\n",
       " 'Pues siendo yo niño de ocho años, achacaron a mi padre ciertas sangrías mal hechas en los costales de los que allí a moler venían, por lo que fue preso, y confesó y no negó y padeció persecución por justicia.',\n",
       " 'Espero en Dios que está en la Gloria, pues el Evangelio los llama bienaventurados.',\n",
       " 'En este tiempo se hizo cierta armada contra moros, entre los cuales fue mi padre, que a la sazón estaba desterrado por el desastre ya dicho, con cargo de acemilero de un caballero que allá fue, y con su señor, como leal criado, feneció su vida.',\n",
       " 'Tiempo spaCy:  0.08928084373474121 seg Pues sepa V.M.',\n",
       " 'ante todas cosas que a mí llaman Lázaro de Tormes, hijo de Tomé González y de Antona Pérez, naturales de Tejares, aldea de Salamanca.',\n",
       " 'Mi nacimiento fue dentro del río Tormes, por la cual causa tomé el sobrenombre, y fue desta manera.',\n",
       " 'Mi padre, que Dios perdone, tenía cargo de proveer una molienda de una aceña, que está ribera de aquel río, en la cual fue molinero más de quince años; y estando mi madre una noche en la aceña, preñada de mí, tomóle el parto y parióme allí: de manera que con verdad puedo decir nacido en el río.',\n",
       " 'Pues siendo yo niño de ocho años, achacaron a mi padre ciertas sangrías mal hechas en los costales de los que allí a moler venían, por lo que fue preso, y confesó y no negó y padeció persecución por justicia.',\n",
       " 'Espero en Dios que está en la Gloria, pues el Evangelio los llama bienaventurados.',\n",
       " 'En este tiempo se hizo cierta armada contra moros, entre los cuales fue mi padre, que a la sazón estaba desterrado por el desastre ya dicho, con cargo de acemilero de un caballero que allá fue, y con su señor, como leal criado, feneció su vida.']"
      ]
     },
     "execution_count": 4,
     "metadata": {},
     "output_type": "execute_result"
    }
   ],
   "source": [
    "%%time\n",
    "### Divide en frases con NLTK. Se recomienda utilizar la funcion sent_tokenize, aunque hay más opciones que pueden ser utilizadas\n",
    "sentences = nltk.sent_tokenize(text) \n",
    "sentences"
   ]
  },
  {
   "cell_type": "code",
   "execution_count": 16,
   "metadata": {},
   "outputs": [
    {
     "name": "stdout",
     "output_type": "stream",
     "text": [
      "CPU times: user 183 ms, sys: 48.7 ms, total: 231 ms\n",
      "Wall time: 232 ms\n"
     ]
    }
   ],
   "source": [
    "%%time\n",
    "\n",
    "doc = nlp(text)\n",
    "sentences = [sentence.text for sentence in doc.sents]"
   ]
  },
  {
   "cell_type": "markdown",
   "metadata": {},
   "source": [
    "#### Conclusiones\n",
    "- ¿Qué observas del resultado? ¿Es igual utilizando ambas librerías?\n",
    "- Y respecto al tiempo de ejecución, ¿observas alguna diferencia?"
   ]
  },
  {
   "cell_type": "markdown",
   "metadata": {},
   "source": []
  }
 ],
 "metadata": {
  "kernelspec": {
   "display_name": "Python 3.8.5 ('base')",
   "language": "python",
   "name": "python3"
  },
  "language_info": {
   "codemirror_mode": {
    "name": "ipython",
    "version": 3
   },
   "file_extension": ".py",
   "mimetype": "text/x-python",
   "name": "python",
   "nbconvert_exporter": "python",
   "pygments_lexer": "ipython3",
   "version": "3.8.5"
  },
  "vscode": {
   "interpreter": {
    "hash": "107fb03afb2754bdb3cdbb13c1c83d7d6037442339c22e5ee8cf40869e8513c5"
   }
  }
 },
 "nbformat": 4,
 "nbformat_minor": 4
}
