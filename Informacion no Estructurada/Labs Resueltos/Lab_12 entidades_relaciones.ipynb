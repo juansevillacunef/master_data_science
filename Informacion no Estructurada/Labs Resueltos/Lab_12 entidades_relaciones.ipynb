{
 "cells": [
  {
   "cell_type": "markdown",
   "metadata": {},
   "source": [
    "# Entidades y Relaciones"
   ]
  },
  {
   "cell_type": "code",
   "execution_count": 1,
   "metadata": {},
   "outputs": [],
   "source": [
    "# Importación de librerías\n",
    "\n",
    "import spacy\n",
    "import pandas as pd\n",
    "\n",
    "nlp = spacy.load('es_core_news_lg')"
   ]
  },
  {
   "cell_type": "markdown",
   "metadata": {},
   "source": [
    "## Ejercicio 1.\n",
    "Obten el objeto, sujeto y núcleo del predicado (verbo) de las siguientes oraciones:"
   ]
  },
  {
   "cell_type": "code",
   "execution_count": 2,
   "metadata": {},
   "outputs": [],
   "source": [
    "# Determinación sujeto\n",
    "\n",
    "def get_sujeto(doc):\n",
    "    for token in doc:\n",
    "        if (\"subj\" in token.dep_):\n",
    "            subtree = list(token.subtree)\n",
    "            start = subtree[0].i\n",
    "            end = subtree[-1].i + 1\n",
    "            return doc[start:end]"
   ]
  },
  {
   "cell_type": "code",
   "execution_count": 3,
   "metadata": {},
   "outputs": [],
   "source": [
    "# Determinación objeto\n",
    "\n",
    "def get_objeto(doc):\n",
    "    for token in doc:\n",
    "        if (\"obj\" in token.dep_):\n",
    "            subtree = list(token.subtree)\n",
    "            start = subtree[0].i\n",
    "            end = subtree[-1].i + 1\n",
    "            return doc[start:end]"
   ]
  },
  {
   "cell_type": "code",
   "execution_count": 4,
   "metadata": {},
   "outputs": [],
   "source": [
    "# Determinación verbo\n",
    "\n",
    "def get_verbo(doc):\n",
    "    for token in doc:\n",
    "        if (\"ROOT\" in token.dep_):\n",
    "            return token"
   ]
  },
  {
   "cell_type": "code",
   "execution_count": 5,
   "metadata": {},
   "outputs": [
    {
     "name": "stdout",
     "output_type": "stream",
     "text": [
      "Juan Hernandez es nombrado nuevo presidente de Iberia.\n",
      "Juan Hernandez  -  nombrar  -  nuevo presidente de Iberia \n",
      "\n",
      "Iberia paraliza su fusión con Air Europa.\n",
      "Iberia  -  paralizar  -  su fusión con Air Europa \n",
      "\n",
      "Lidl gana la batalla legal a Thermomix.\n",
      "Lidl  -  ganar  -  la batalla legal a Thermomix \n",
      "\n"
     ]
    }
   ],
   "source": [
    "# main\n",
    "\n",
    "oraciones = [\"Juan Hernandez es nombrado nuevo presidente de Iberia.\", \n",
    "             \"Iberia paraliza su fusión con Air Europa.\", \n",
    "             \"Lidl gana la batalla legal a Thermomix.\"]\n",
    "\n",
    "for oracion in oraciones:\n",
    "    doc = nlp(oracion)\n",
    "    sint_sujeto = get_sujeto(doc)\n",
    "    sint_objeto = get_objeto(doc)\n",
    "    verbo = get_verbo(doc)\n",
    "    print(oracion)\n",
    "    print(sint_sujeto, \" - \", verbo.lemma_, \" - \", sint_objeto, \"\\n\")"
   ]
  },
  {
   "cell_type": "code",
   "execution_count": null,
   "metadata": {},
   "outputs": [],
   "source": []
  },
  {
   "cell_type": "code",
   "execution_count": null,
   "metadata": {},
   "outputs": [],
   "source": []
  },
  {
   "cell_type": "code",
   "execution_count": null,
   "metadata": {},
   "outputs": [],
   "source": []
  }
 ],
 "metadata": {
  "kernelspec": {
   "display_name": "Python 3 (ipykernel)",
   "language": "python",
   "name": "python3"
  },
  "language_info": {
   "codemirror_mode": {
    "name": "ipython",
    "version": 3
   },
   "file_extension": ".py",
   "mimetype": "text/x-python",
   "name": "python",
   "nbconvert_exporter": "python",
   "pygments_lexer": "ipython3",
   "version": "3.9.13"
  },
  "vscode": {
   "interpreter": {
    "hash": "107fb03afb2754bdb3cdbb13c1c83d7d6037442339c22e5ee8cf40869e8513c5"
   }
  }
 },
 "nbformat": 4,
 "nbformat_minor": 4
}
