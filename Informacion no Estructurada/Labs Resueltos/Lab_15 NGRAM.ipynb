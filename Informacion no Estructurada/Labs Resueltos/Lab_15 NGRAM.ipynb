{
 "cells": [
  {
   "cell_type": "markdown",
   "metadata": {},
   "source": [
    "# N-gramas"
   ]
  },
  {
   "cell_type": "code",
   "execution_count": 1,
   "metadata": {},
   "outputs": [],
   "source": [
    "### Importación de librerías\n",
    "\n",
    "import spacy\n",
    "import pandas as pd\n",
    "from sklearn.feature_extraction.text import CountVectorizer\n",
    "\n",
    "nlp = spacy.load(\"es_core_news_lg\")"
   ]
  },
  {
   "cell_type": "code",
   "execution_count": 2,
   "metadata": {},
   "outputs": [
    {
     "name": "stdout",
     "output_type": "stream",
     "text": [
      "Amsterdam es la capital de los Países Bajos, conocida por su patrimonio artístico, su elaborado sistema de canales y sus casas angostas con fachadas de dos aguas, herencias de la Edad de Oro de la ciudad durante el siglo XVII. \n",
      "\n",
      "El Distrito de Museos alberga el Museo van Gogh, obras de Rembrandt y Vermeer en el Rijksmuseum, y arte moderno en el Museo Stedelijk. \n",
      "\n",
      "El ciclismo es clave en la identidad de la ciudad y existen varios senderos para practicarlo. \n",
      "\n"
     ]
    }
   ],
   "source": [
    "### Separa en oraciones y construye una lista con las frases que vamos a vectorizar con Spacy\n",
    "\n",
    "amsterdam_text = \"Amsterdam es la capital de los Países Bajos, conocida por su patrimonio artístico, su elaborado sistema de canales y sus casas angostas con fachadas de dos aguas, herencias de la Edad de Oro de la ciudad durante el siglo XVII. El Distrito de Museos alberga el Museo van Gogh, obras de Rembrandt y Vermeer en el Rijksmuseum, y arte moderno en el Museo Stedelijk. El ciclismo es clave en la identidad de la ciudad y existen varios senderos para practicarlo.\"\n",
    "doc = nlp(amsterdam_text)\n",
    "sentencias=[]\n",
    "\n",
    "for sent in doc.sents:\n",
    "    sentencias.append(sent.text)\n",
    "    print(sent, \"\\n\")"
   ]
  },
  {
   "cell_type": "code",
   "execution_count": 3,
   "metadata": {},
   "outputs": [],
   "source": [
    "### Inicializa el CountVectorizer con el parametro max_features a 20, y aplícalo sobre las frases (fit_transform()). \n",
    "### Utiliza el parámetro ngram_range para establecer la longitud del ngrama, en este caso, 2.\n",
    "\n",
    "ngram_vect = CountVectorizer(max_features=20, ngram_range=(2,2))\n",
    "\n",
    "bigramas = ngram_vect.fit_transform(sentencias)"
   ]
  },
  {
   "cell_type": "code",
   "execution_count": 4,
   "metadata": {},
   "outputs": [
    {
     "data": {
      "text/html": [
       "<div>\n",
       "<style scoped>\n",
       "    .dataframe tbody tr th:only-of-type {\n",
       "        vertical-align: middle;\n",
       "    }\n",
       "\n",
       "    .dataframe tbody tr th {\n",
       "        vertical-align: top;\n",
       "    }\n",
       "\n",
       "    .dataframe thead th {\n",
       "        text-align: right;\n",
       "    }\n",
       "</style>\n",
       "<table border=\"1\" class=\"dataframe\">\n",
       "  <thead>\n",
       "    <tr style=\"text-align: right;\">\n",
       "      <th></th>\n",
       "      <th>de la</th>\n",
       "      <th>el museo</th>\n",
       "      <th>en el</th>\n",
       "      <th>existen varios</th>\n",
       "      <th>fachadas de</th>\n",
       "      <th>gogh obras</th>\n",
       "      <th>herencias de</th>\n",
       "      <th>identidad de</th>\n",
       "      <th>la capital</th>\n",
       "      <th>la ciudad</th>\n",
       "      <th>la edad</th>\n",
       "      <th>la identidad</th>\n",
       "      <th>los países</th>\n",
       "      <th>moderno en</th>\n",
       "      <th>museo stedelijk</th>\n",
       "      <th>museo van</th>\n",
       "      <th>museos alberga</th>\n",
       "      <th>obras de</th>\n",
       "      <th>sus casas</th>\n",
       "      <th>van gogh</th>\n",
       "    </tr>\n",
       "  </thead>\n",
       "  <tbody>\n",
       "    <tr>\n",
       "      <th>0</th>\n",
       "      <td>2</td>\n",
       "      <td>0</td>\n",
       "      <td>0</td>\n",
       "      <td>0</td>\n",
       "      <td>1</td>\n",
       "      <td>0</td>\n",
       "      <td>1</td>\n",
       "      <td>0</td>\n",
       "      <td>1</td>\n",
       "      <td>1</td>\n",
       "      <td>1</td>\n",
       "      <td>0</td>\n",
       "      <td>1</td>\n",
       "      <td>0</td>\n",
       "      <td>0</td>\n",
       "      <td>0</td>\n",
       "      <td>0</td>\n",
       "      <td>0</td>\n",
       "      <td>1</td>\n",
       "      <td>0</td>\n",
       "    </tr>\n",
       "    <tr>\n",
       "      <th>1</th>\n",
       "      <td>0</td>\n",
       "      <td>2</td>\n",
       "      <td>2</td>\n",
       "      <td>0</td>\n",
       "      <td>0</td>\n",
       "      <td>1</td>\n",
       "      <td>0</td>\n",
       "      <td>0</td>\n",
       "      <td>0</td>\n",
       "      <td>0</td>\n",
       "      <td>0</td>\n",
       "      <td>0</td>\n",
       "      <td>0</td>\n",
       "      <td>1</td>\n",
       "      <td>1</td>\n",
       "      <td>1</td>\n",
       "      <td>1</td>\n",
       "      <td>1</td>\n",
       "      <td>0</td>\n",
       "      <td>1</td>\n",
       "    </tr>\n",
       "    <tr>\n",
       "      <th>2</th>\n",
       "      <td>1</td>\n",
       "      <td>0</td>\n",
       "      <td>0</td>\n",
       "      <td>1</td>\n",
       "      <td>0</td>\n",
       "      <td>0</td>\n",
       "      <td>0</td>\n",
       "      <td>1</td>\n",
       "      <td>0</td>\n",
       "      <td>1</td>\n",
       "      <td>0</td>\n",
       "      <td>1</td>\n",
       "      <td>0</td>\n",
       "      <td>0</td>\n",
       "      <td>0</td>\n",
       "      <td>0</td>\n",
       "      <td>0</td>\n",
       "      <td>0</td>\n",
       "      <td>0</td>\n",
       "      <td>0</td>\n",
       "    </tr>\n",
       "  </tbody>\n",
       "</table>\n",
       "</div>"
      ],
      "text/plain": [
       "   de la  el museo  en el  existen varios  fachadas de  gogh obras  \\\n",
       "0      2         0      0               0            1           0   \n",
       "1      0         2      2               0            0           1   \n",
       "2      1         0      0               1            0           0   \n",
       "\n",
       "   herencias de  identidad de  la capital  la ciudad  la edad  la identidad  \\\n",
       "0             1             0           1          1        1             0   \n",
       "1             0             0           0          0        0             0   \n",
       "2             0             1           0          1        0             1   \n",
       "\n",
       "   los países  moderno en  museo stedelijk  museo van  museos alberga  \\\n",
       "0           1           0                0          0               0   \n",
       "1           0           1                1          1               1   \n",
       "2           0           0                0          0               0   \n",
       "\n",
       "   obras de  sus casas  van gogh  \n",
       "0         0          1         0  \n",
       "1         1          0         1  \n",
       "2         0          0         0  "
      ]
     },
     "execution_count": 4,
     "metadata": {},
     "output_type": "execute_result"
    }
   ],
   "source": [
    "# Visualización de la matriz\n",
    "\n",
    "# Obtén el vocabulario para poner las etiquetas de las columnaas\n",
    "vocab = ngram_vect.get_feature_names()\n",
    "\n",
    "# Y construimos un dataframe para mostrar el resultado: por cada documento las ocurrencias de cada bigrama\n",
    "pd.DataFrame(bigramas.toarray(), columns=vocab)"
   ]
  },
  {
   "cell_type": "code",
   "execution_count": null,
   "metadata": {},
   "outputs": [],
   "source": []
  }
 ],
 "metadata": {
  "kernelspec": {
   "display_name": "Python 3",
   "language": "python",
   "name": "python3"
  },
  "language_info": {
   "codemirror_mode": {
    "name": "ipython",
    "version": 3
   },
   "file_extension": ".py",
   "mimetype": "text/x-python",
   "name": "python",
   "nbconvert_exporter": "python",
   "pygments_lexer": "ipython3",
   "version": "3.8.5"
  },
  "vscode": {
   "interpreter": {
    "hash": "107fb03afb2754bdb3cdbb13c1c83d7d6037442339c22e5ee8cf40869e8513c5"
   }
  }
 },
 "nbformat": 4,
 "nbformat_minor": 4
}
