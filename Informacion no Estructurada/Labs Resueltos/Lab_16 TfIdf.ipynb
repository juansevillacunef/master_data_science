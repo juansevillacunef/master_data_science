{
 "cells": [
  {
   "cell_type": "markdown",
   "metadata": {},
   "source": [
    "# Tf-idf"
   ]
  },
  {
   "cell_type": "code",
   "execution_count": 1,
   "metadata": {},
   "outputs": [],
   "source": [
    "### Importación de librerías\n",
    "\n",
    "import spacy\n",
    "import pandas as pd\n",
    "from sklearn.feature_extraction.text import TfidfVectorizer\n",
    "\n",
    "nlp = spacy.load(\"es_core_news_lg\")"
   ]
  },
  {
   "cell_type": "code",
   "execution_count": 2,
   "metadata": {},
   "outputs": [
    {
     "name": "stdout",
     "output_type": "stream",
     "text": [
      "Amsterdam es la capital de los Países Bajos, conocida por su patrimonio artístico, su elaborado sistema de canales y sus casas angostas con fachadas de dos aguas, herencias de la Edad de Oro de la ciudad durante el siglo XVII. \n",
      "\n",
      "El Distrito de Museos alberga el Museo van Gogh, obras de Rembrandt y Vermeer en el Rijksmuseum, y arte moderno en el Museo Stedelijk. \n",
      "\n",
      "El ciclismo es clave en la identidad de la ciudad y existen varios senderos para practicarlo. \n",
      "\n"
     ]
    }
   ],
   "source": [
    "### Separa en oraciones y construye una lista con las frases que vamos a vectorizar con Spacy\n",
    "\n",
    "amsterdam_text = \"Amsterdam es la capital de los Países Bajos, conocida por su patrimonio artístico, su elaborado sistema de canales y sus casas angostas con fachadas de dos aguas, herencias de la Edad de Oro de la ciudad durante el siglo XVII. El Distrito de Museos alberga el Museo van Gogh, obras de Rembrandt y Vermeer en el Rijksmuseum, y arte moderno en el Museo Stedelijk. El ciclismo es clave en la identidad de la ciudad y existen varios senderos para practicarlo.\"\n",
    "doc = nlp(amsterdam_text)\n",
    "sentencias=[]\n",
    "\n",
    "for sent in doc.sents:\n",
    "    sentencias.append(sent.text)\n",
    "    print(sent, \"\\n\")"
   ]
  },
  {
   "cell_type": "code",
   "execution_count": 3,
   "metadata": {},
   "outputs": [],
   "source": [
    "### Creación del vectorizador TfidfVectorizer y aplícalo sobre las frases\n",
    "\n",
    "tfifd_vec = TfidfVectorizer()\n",
    "\n",
    "TFIDF = tfifd_vec.fit_transform(sentencias)"
   ]
  },
  {
   "cell_type": "code",
   "execution_count": 4,
   "metadata": {},
   "outputs": [
    {
     "data": {
      "text/html": [
       "<div>\n",
       "<style scoped>\n",
       "    .dataframe tbody tr th:only-of-type {\n",
       "        vertical-align: middle;\n",
       "    }\n",
       "\n",
       "    .dataframe tbody tr th {\n",
       "        vertical-align: top;\n",
       "    }\n",
       "\n",
       "    .dataframe thead th {\n",
       "        text-align: right;\n",
       "    }\n",
       "</style>\n",
       "<table border=\"1\" class=\"dataframe\">\n",
       "  <thead>\n",
       "    <tr style=\"text-align: right;\">\n",
       "      <th></th>\n",
       "      <th>aguas</th>\n",
       "      <th>alberga</th>\n",
       "      <th>amsterdam</th>\n",
       "      <th>angostas</th>\n",
       "      <th>arte</th>\n",
       "      <th>artístico</th>\n",
       "      <th>bajos</th>\n",
       "      <th>canales</th>\n",
       "      <th>capital</th>\n",
       "      <th>casas</th>\n",
       "      <th>...</th>\n",
       "      <th>senderos</th>\n",
       "      <th>siglo</th>\n",
       "      <th>sistema</th>\n",
       "      <th>stedelijk</th>\n",
       "      <th>su</th>\n",
       "      <th>sus</th>\n",
       "      <th>van</th>\n",
       "      <th>varios</th>\n",
       "      <th>vermeer</th>\n",
       "      <th>xvii</th>\n",
       "    </tr>\n",
       "  </thead>\n",
       "  <tbody>\n",
       "    <tr>\n",
       "      <th>0</th>\n",
       "      <td>0.143935</td>\n",
       "      <td>0.000000</td>\n",
       "      <td>0.143935</td>\n",
       "      <td>0.143935</td>\n",
       "      <td>0.000000</td>\n",
       "      <td>0.143935</td>\n",
       "      <td>0.143935</td>\n",
       "      <td>0.143935</td>\n",
       "      <td>0.143935</td>\n",
       "      <td>0.143935</td>\n",
       "      <td>...</td>\n",
       "      <td>0.000000</td>\n",
       "      <td>0.143935</td>\n",
       "      <td>0.143935</td>\n",
       "      <td>0.000000</td>\n",
       "      <td>0.28787</td>\n",
       "      <td>0.143935</td>\n",
       "      <td>0.000000</td>\n",
       "      <td>0.000000</td>\n",
       "      <td>0.000000</td>\n",
       "      <td>0.143935</td>\n",
       "    </tr>\n",
       "    <tr>\n",
       "      <th>1</th>\n",
       "      <td>0.000000</td>\n",
       "      <td>0.198849</td>\n",
       "      <td>0.000000</td>\n",
       "      <td>0.000000</td>\n",
       "      <td>0.198849</td>\n",
       "      <td>0.000000</td>\n",
       "      <td>0.000000</td>\n",
       "      <td>0.000000</td>\n",
       "      <td>0.000000</td>\n",
       "      <td>0.000000</td>\n",
       "      <td>...</td>\n",
       "      <td>0.000000</td>\n",
       "      <td>0.000000</td>\n",
       "      <td>0.000000</td>\n",
       "      <td>0.198849</td>\n",
       "      <td>0.00000</td>\n",
       "      <td>0.000000</td>\n",
       "      <td>0.198849</td>\n",
       "      <td>0.000000</td>\n",
       "      <td>0.198849</td>\n",
       "      <td>0.000000</td>\n",
       "    </tr>\n",
       "    <tr>\n",
       "      <th>2</th>\n",
       "      <td>0.000000</td>\n",
       "      <td>0.000000</td>\n",
       "      <td>0.000000</td>\n",
       "      <td>0.000000</td>\n",
       "      <td>0.000000</td>\n",
       "      <td>0.000000</td>\n",
       "      <td>0.000000</td>\n",
       "      <td>0.000000</td>\n",
       "      <td>0.000000</td>\n",
       "      <td>0.000000</td>\n",
       "      <td>...</td>\n",
       "      <td>0.280095</td>\n",
       "      <td>0.000000</td>\n",
       "      <td>0.000000</td>\n",
       "      <td>0.000000</td>\n",
       "      <td>0.00000</td>\n",
       "      <td>0.000000</td>\n",
       "      <td>0.000000</td>\n",
       "      <td>0.280095</td>\n",
       "      <td>0.000000</td>\n",
       "      <td>0.000000</td>\n",
       "    </tr>\n",
       "  </tbody>\n",
       "</table>\n",
       "<p>3 rows × 53 columns</p>\n",
       "</div>"
      ],
      "text/plain": [
       "      aguas   alberga  amsterdam  angostas      arte  artístico     bajos  \\\n",
       "0  0.143935  0.000000   0.143935  0.143935  0.000000   0.143935  0.143935   \n",
       "1  0.000000  0.198849   0.000000  0.000000  0.198849   0.000000  0.000000   \n",
       "2  0.000000  0.000000   0.000000  0.000000  0.000000   0.000000  0.000000   \n",
       "\n",
       "    canales   capital     casas  ...  senderos     siglo   sistema  stedelijk  \\\n",
       "0  0.143935  0.143935  0.143935  ...  0.000000  0.143935  0.143935   0.000000   \n",
       "1  0.000000  0.000000  0.000000  ...  0.000000  0.000000  0.000000   0.198849   \n",
       "2  0.000000  0.000000  0.000000  ...  0.280095  0.000000  0.000000   0.000000   \n",
       "\n",
       "        su       sus       van    varios   vermeer      xvii  \n",
       "0  0.28787  0.143935  0.000000  0.000000  0.000000  0.143935  \n",
       "1  0.00000  0.000000  0.198849  0.000000  0.198849  0.000000  \n",
       "2  0.00000  0.000000  0.000000  0.280095  0.000000  0.000000  \n",
       "\n",
       "[3 rows x 53 columns]"
      ]
     },
     "execution_count": 4,
     "metadata": {},
     "output_type": "execute_result"
    }
   ],
   "source": [
    "# Visualización de la matriz\n",
    "\n",
    "# Obtén el vocabulario para poner las etiquetas de las columnaas\n",
    "vocab = tfifd_vec.get_feature_names()\n",
    "\n",
    "# Y construimos un dataframe para mostrar el resultado: por cada documento las ocurrencias de cada token\n",
    "pd.DataFrame(TFIDF.toarray(), columns=vocab)"
   ]
  },
  {
   "cell_type": "code",
   "execution_count": null,
   "metadata": {},
   "outputs": [],
   "source": []
  }
 ],
 "metadata": {
  "kernelspec": {
   "display_name": "Python 3",
   "language": "python",
   "name": "python3"
  },
  "language_info": {
   "codemirror_mode": {
    "name": "ipython",
    "version": 3
   },
   "file_extension": ".py",
   "mimetype": "text/x-python",
   "name": "python",
   "nbconvert_exporter": "python",
   "pygments_lexer": "ipython3",
   "version": "3.8.5"
  },
  "vscode": {
   "interpreter": {
    "hash": "107fb03afb2754bdb3cdbb13c1c83d7d6037442339c22e5ee8cf40869e8513c5"
   }
  }
 },
 "nbformat": 4,
 "nbformat_minor": 4
}
