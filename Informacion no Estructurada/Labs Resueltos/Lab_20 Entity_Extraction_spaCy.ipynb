{
 "cells": [
  {
   "cell_type": "markdown",
   "metadata": {},
   "source": [
    "# Extracción de entidades"
   ]
  },
  {
   "cell_type": "code",
   "execution_count": 9,
   "metadata": {},
   "outputs": [],
   "source": [
    "# Importamos las librerías que corresponda\n",
    "# Hay que añadir los modelos que se utilicen. Previamente cargados con python -m spacy download es_core_news_md\n",
    "\n",
    "import spacy\n",
    "from spacy import displacy\n",
    "import pandas as pd\n",
    "\n",
    "nlp_es = spacy.load('es_core_news_lg')"
   ]
  },
  {
   "cell_type": "code",
   "execution_count": 10,
   "metadata": {},
   "outputs": [
    {
     "name": "stdout",
     "output_type": "stream",
     "text": [
      "Fue Carmen Martín Gaite (1925-2000) quien le enseñó a bailar a Luis Landero (Alburquerque, Badajoz, 1948). Lo suyo eran los pasodobles, esos bailes 'agarraos' en los que convenía dejarse llevar por una buena pareja. Y 'Carmiña' lo era. Eso y una gran conversadora, capaz de deleitar a su interlocutor con cuantos temas pasaran por su cabeza. Landero se acuerda de ello mientras observa, en su casa del madrileño barrio de Chamberí, los ejemplares de su amiga que tiene en una de sus librerías, donde los libros están ordenados alfabéticamente.\n"
     ]
    }
   ],
   "source": [
    "espa=\"Fue Carmen Martín Gaite (1925-2000) quien le enseñó a bailar a Luis Landero (Alburquerque, Badajoz, 1948). Lo suyo eran los pasodobles, esos bailes 'agarraos' en los que convenía dejarse llevar por una buena pareja. Y 'Carmiña' lo era. Eso y una gran conversadora, capaz de deleitar a su interlocutor con cuantos temas pasaran por su cabeza. Landero se acuerda de ello mientras observa, en su casa del madrileño barrio de Chamberí, los ejemplares de su amiga que tiene en una de sus librerías, donde los libros están ordenados alfabéticamente.\"\n",
    "print(espa)"
   ]
  },
  {
   "cell_type": "code",
   "execution_count": 11,
   "metadata": {},
   "outputs": [],
   "source": [
    "# Ejecutamos la pipeline de análisis\n",
    "\n",
    "docum_analizado = nlp_es(espa)"
   ]
  },
  {
   "cell_type": "code",
   "execution_count": 12,
   "metadata": {},
   "outputs": [
    {
     "name": "stdout",
     "output_type": "stream",
     "text": [
      "Fue Carmen Martín Gaite (1925-2000) quien le enseñó a bailar a Luis Landero (Alburquerque, Badajoz, 1948).\n",
      "Lo suyo eran los pasodobles, esos bailes 'agarraos' en los que convenía dejarse llevar por una buena pareja.\n",
      "Y 'Carmiña' lo era.\n",
      "Eso y una gran conversadora, capaz de deleitar a su interlocutor con cuantos temas pasaran por su cabeza.\n",
      "Landero se acuerda de ello mientras observa, en su casa del madrileño barrio de Chamberí, los ejemplares de su amiga que tiene en una de sus librerías, donde los libros están ordenados alfabéticamente.\n"
     ]
    }
   ],
   "source": [
    "# Imprimimos frases\n",
    "\n",
    "for sent in docum_analizado.sents:\n",
    "    print(sent.text)"
   ]
  },
  {
   "cell_type": "code",
   "execution_count": 13,
   "metadata": {},
   "outputs": [
    {
     "data": {
      "text/html": [
       "<div>\n",
       "<style scoped>\n",
       "    .dataframe tbody tr th:only-of-type {\n",
       "        vertical-align: middle;\n",
       "    }\n",
       "\n",
       "    .dataframe tbody tr th {\n",
       "        vertical-align: top;\n",
       "    }\n",
       "\n",
       "    .dataframe thead th {\n",
       "        text-align: right;\n",
       "    }\n",
       "</style>\n",
       "<table border=\"1\" class=\"dataframe\">\n",
       "  <thead>\n",
       "    <tr style=\"text-align: right;\">\n",
       "      <th></th>\n",
       "      <th>0</th>\n",
       "      <th>1</th>\n",
       "      <th>2</th>\n",
       "      <th>3</th>\n",
       "      <th>4</th>\n",
       "      <th>5</th>\n",
       "      <th>6</th>\n",
       "      <th>7</th>\n",
       "      <th>8</th>\n",
       "      <th>9</th>\n",
       "      <th>...</th>\n",
       "      <th>99</th>\n",
       "      <th>100</th>\n",
       "      <th>101</th>\n",
       "      <th>102</th>\n",
       "      <th>103</th>\n",
       "      <th>104</th>\n",
       "      <th>105</th>\n",
       "      <th>106</th>\n",
       "      <th>107</th>\n",
       "      <th>108</th>\n",
       "    </tr>\n",
       "  </thead>\n",
       "  <tbody>\n",
       "    <tr>\n",
       "      <th>Palabra</th>\n",
       "      <td>Fue</td>\n",
       "      <td>Carmen</td>\n",
       "      <td>Martín</td>\n",
       "      <td>Gaite</td>\n",
       "      <td>(</td>\n",
       "      <td>1925-2000</td>\n",
       "      <td>)</td>\n",
       "      <td>quien</td>\n",
       "      <td>le</td>\n",
       "      <td>enseñó</td>\n",
       "      <td>...</td>\n",
       "      <td>sus</td>\n",
       "      <td>librerías</td>\n",
       "      <td>,</td>\n",
       "      <td>donde</td>\n",
       "      <td>los</td>\n",
       "      <td>libros</td>\n",
       "      <td>están</td>\n",
       "      <td>ordenados</td>\n",
       "      <td>alfabéticamente</td>\n",
       "      <td>.</td>\n",
       "    </tr>\n",
       "    <tr>\n",
       "      <th>F. Canónica</th>\n",
       "      <td>ser</td>\n",
       "      <td>Carmen</td>\n",
       "      <td>Martín</td>\n",
       "      <td>Gaite</td>\n",
       "      <td>(</td>\n",
       "      <td>1925-2000</td>\n",
       "      <td>)</td>\n",
       "      <td>quien</td>\n",
       "      <td>él</td>\n",
       "      <td>enseñar</td>\n",
       "      <td>...</td>\n",
       "      <td>su</td>\n",
       "      <td>librería</td>\n",
       "      <td>,</td>\n",
       "      <td>donde</td>\n",
       "      <td>el</td>\n",
       "      <td>libro</td>\n",
       "      <td>estar</td>\n",
       "      <td>ordenado</td>\n",
       "      <td>alfabéticamente</td>\n",
       "      <td>.</td>\n",
       "    </tr>\n",
       "    <tr>\n",
       "      <th>POS</th>\n",
       "      <td>AUX</td>\n",
       "      <td>PROPN</td>\n",
       "      <td>PROPN</td>\n",
       "      <td>PROPN</td>\n",
       "      <td>PUNCT</td>\n",
       "      <td>NOUN</td>\n",
       "      <td>PUNCT</td>\n",
       "      <td>PRON</td>\n",
       "      <td>PRON</td>\n",
       "      <td>VERB</td>\n",
       "      <td>...</td>\n",
       "      <td>DET</td>\n",
       "      <td>NOUN</td>\n",
       "      <td>PUNCT</td>\n",
       "      <td>PRON</td>\n",
       "      <td>DET</td>\n",
       "      <td>NOUN</td>\n",
       "      <td>AUX</td>\n",
       "      <td>ADJ</td>\n",
       "      <td>ADV</td>\n",
       "      <td>PUNCT</td>\n",
       "    </tr>\n",
       "  </tbody>\n",
       "</table>\n",
       "<p>3 rows × 109 columns</p>\n",
       "</div>"
      ],
      "text/plain": [
       "             0       1       2      3      4          5      6      7     8    \\\n",
       "Palabra      Fue  Carmen  Martín  Gaite      (  1925-2000      )  quien    le   \n",
       "F. Canónica  ser  Carmen  Martín  Gaite      (  1925-2000      )  quien    él   \n",
       "POS          AUX   PROPN   PROPN  PROPN  PUNCT       NOUN  PUNCT   PRON  PRON   \n",
       "\n",
       "                 9    ...  99         100    101    102  103     104    105  \\\n",
       "Palabra       enseñó  ...  sus  librerías      ,  donde  los  libros  están   \n",
       "F. Canónica  enseñar  ...   su   librería      ,  donde   el   libro  estar   \n",
       "POS             VERB  ...  DET       NOUN  PUNCT   PRON  DET    NOUN    AUX   \n",
       "\n",
       "                   106              107    108  \n",
       "Palabra      ordenados  alfabéticamente      .  \n",
       "F. Canónica   ordenado  alfabéticamente      .  \n",
       "POS                ADJ              ADV  PUNCT  \n",
       "\n",
       "[3 rows x 109 columns]"
      ]
     },
     "execution_count": 13,
     "metadata": {},
     "output_type": "execute_result"
    }
   ],
   "source": [
    "# Imprimimos tokens, formas canónicas y entidades reconocidas\n",
    "\n",
    "# POS tagging with Spacy \n",
    "spacy_pos_tagged = [(palabra.text, palabra.lemma_, palabra.pos_) for palabra in docum_analizado]\n",
    "pd.DataFrame(spacy_pos_tagged, columns=['Palabra', 'F. Canónica', 'POS']).T"
   ]
  },
  {
   "cell_type": "code",
   "execution_count": 14,
   "metadata": {},
   "outputs": [
    {
     "data": {
      "text/html": [
       "<div>\n",
       "<style scoped>\n",
       "    .dataframe tbody tr th:only-of-type {\n",
       "        vertical-align: middle;\n",
       "    }\n",
       "\n",
       "    .dataframe tbody tr th {\n",
       "        vertical-align: top;\n",
       "    }\n",
       "\n",
       "    .dataframe thead th {\n",
       "        text-align: right;\n",
       "    }\n",
       "</style>\n",
       "<table border=\"1\" class=\"dataframe\">\n",
       "  <thead>\n",
       "    <tr style=\"text-align: right;\">\n",
       "      <th></th>\n",
       "      <th>0</th>\n",
       "      <th>1</th>\n",
       "      <th>2</th>\n",
       "      <th>3</th>\n",
       "      <th>4</th>\n",
       "      <th>5</th>\n",
       "      <th>6</th>\n",
       "      <th>7</th>\n",
       "      <th>8</th>\n",
       "    </tr>\n",
       "  </thead>\n",
       "  <tbody>\n",
       "    <tr>\n",
       "      <th>Entidad</th>\n",
       "      <td>Carmen Martín Gaite</td>\n",
       "      <td>Luis Landero</td>\n",
       "      <td>Alburquerque</td>\n",
       "      <td>Badajoz</td>\n",
       "      <td>Lo suyo eran los pasodobles</td>\n",
       "      <td>Y 'Carmiña'</td>\n",
       "      <td>Eso y una gran conversadora</td>\n",
       "      <td>Landero</td>\n",
       "      <td>Chamberí</td>\n",
       "    </tr>\n",
       "    <tr>\n",
       "      <th>Tipo</th>\n",
       "      <td>PER</td>\n",
       "      <td>PER</td>\n",
       "      <td>LOC</td>\n",
       "      <td>LOC</td>\n",
       "      <td>MISC</td>\n",
       "      <td>MISC</td>\n",
       "      <td>MISC</td>\n",
       "      <td>PER</td>\n",
       "      <td>LOC</td>\n",
       "    </tr>\n",
       "  </tbody>\n",
       "</table>\n",
       "</div>"
      ],
      "text/plain": [
       "                           0             1             2        3  \\\n",
       "Entidad  Carmen Martín Gaite  Luis Landero  Alburquerque  Badajoz   \n",
       "Tipo                     PER           PER           LOC      LOC   \n",
       "\n",
       "                                   4            5  \\\n",
       "Entidad  Lo suyo eran los pasodobles  Y 'Carmiña'   \n",
       "Tipo                            MISC         MISC   \n",
       "\n",
       "                                   6        7         8  \n",
       "Entidad  Eso y una gran conversadora  Landero  Chamberí  \n",
       "Tipo                            MISC      PER       LOC  "
      ]
     },
     "execution_count": 14,
     "metadata": {},
     "output_type": "execute_result"
    }
   ],
   "source": [
    "# Imprimimos entidades\n",
    "\n",
    "ents_tagged = [(ent.text, ent.label_) for ent in docum_analizado.ents]\n",
    "\n",
    "ents_tagged = []\n",
    "for ent in docum_analizado.ents:\n",
    "    ents_tagged.append((ent.text, ent.label_))\n",
    "\n",
    "pd.DataFrame(ents_tagged, columns=['Entidad', 'Tipo']).T"
   ]
  },
  {
   "cell_type": "code",
   "execution_count": 15,
   "metadata": {},
   "outputs": [
    {
     "data": {
      "text/html": [
       "<span class=\"tex2jax_ignore\"><div class=\"entities\" style=\"line-height: 2.5; direction: ltr\">Fue \n",
       "<mark class=\"entity\" style=\"background: #ddd; padding: 0.45em 0.6em; margin: 0 0.25em; line-height: 1; border-radius: 0.35em;\">\n",
       "    Carmen Martín Gaite\n",
       "    <span style=\"font-size: 0.8em; font-weight: bold; line-height: 1; border-radius: 0.35em; vertical-align: middle; margin-left: 0.5rem\">PER</span>\n",
       "</mark>\n",
       " (1925-2000) quien le enseñó a bailar a \n",
       "<mark class=\"entity\" style=\"background: #ddd; padding: 0.45em 0.6em; margin: 0 0.25em; line-height: 1; border-radius: 0.35em;\">\n",
       "    Luis Landero\n",
       "    <span style=\"font-size: 0.8em; font-weight: bold; line-height: 1; border-radius: 0.35em; vertical-align: middle; margin-left: 0.5rem\">PER</span>\n",
       "</mark>\n",
       " (\n",
       "<mark class=\"entity\" style=\"background: #ff9561; padding: 0.45em 0.6em; margin: 0 0.25em; line-height: 1; border-radius: 0.35em;\">\n",
       "    Alburquerque\n",
       "    <span style=\"font-size: 0.8em; font-weight: bold; line-height: 1; border-radius: 0.35em; vertical-align: middle; margin-left: 0.5rem\">LOC</span>\n",
       "</mark>\n",
       ", \n",
       "<mark class=\"entity\" style=\"background: #ff9561; padding: 0.45em 0.6em; margin: 0 0.25em; line-height: 1; border-radius: 0.35em;\">\n",
       "    Badajoz\n",
       "    <span style=\"font-size: 0.8em; font-weight: bold; line-height: 1; border-radius: 0.35em; vertical-align: middle; margin-left: 0.5rem\">LOC</span>\n",
       "</mark>\n",
       ", 1948). </div></span>"
      ],
      "text/plain": [
       "<IPython.core.display.HTML object>"
      ]
     },
     "metadata": {},
     "output_type": "display_data"
    },
    {
     "data": {
      "text/html": [
       "<span class=\"tex2jax_ignore\"><div class=\"entities\" style=\"line-height: 2.5; direction: ltr\">\n",
       "<mark class=\"entity\" style=\"background: #ddd; padding: 0.45em 0.6em; margin: 0 0.25em; line-height: 1; border-radius: 0.35em;\">\n",
       "    Lo suyo eran los pasodobles\n",
       "    <span style=\"font-size: 0.8em; font-weight: bold; line-height: 1; border-radius: 0.35em; vertical-align: middle; margin-left: 0.5rem\">MISC</span>\n",
       "</mark>\n",
       ", esos bailes 'agarraos' en los que convenía dejarse llevar por una buena pareja. </div></span>"
      ],
      "text/plain": [
       "<IPython.core.display.HTML object>"
      ]
     },
     "metadata": {},
     "output_type": "display_data"
    },
    {
     "data": {
      "text/html": [
       "<span class=\"tex2jax_ignore\"><div class=\"entities\" style=\"line-height: 2.5; direction: ltr\">\n",
       "<mark class=\"entity\" style=\"background: #ddd; padding: 0.45em 0.6em; margin: 0 0.25em; line-height: 1; border-radius: 0.35em;\">\n",
       "    Y 'Carmiña'\n",
       "    <span style=\"font-size: 0.8em; font-weight: bold; line-height: 1; border-radius: 0.35em; vertical-align: middle; margin-left: 0.5rem\">MISC</span>\n",
       "</mark>\n",
       " lo era. </div></span>"
      ],
      "text/plain": [
       "<IPython.core.display.HTML object>"
      ]
     },
     "metadata": {},
     "output_type": "display_data"
    },
    {
     "data": {
      "text/html": [
       "<span class=\"tex2jax_ignore\"><div class=\"entities\" style=\"line-height: 2.5; direction: ltr\">\n",
       "<mark class=\"entity\" style=\"background: #ddd; padding: 0.45em 0.6em; margin: 0 0.25em; line-height: 1; border-radius: 0.35em;\">\n",
       "    Eso y una gran conversadora\n",
       "    <span style=\"font-size: 0.8em; font-weight: bold; line-height: 1; border-radius: 0.35em; vertical-align: middle; margin-left: 0.5rem\">MISC</span>\n",
       "</mark>\n",
       ", capaz de deleitar a su interlocutor con cuantos temas pasaran por su cabeza. </div></span>"
      ],
      "text/plain": [
       "<IPython.core.display.HTML object>"
      ]
     },
     "metadata": {},
     "output_type": "display_data"
    },
    {
     "data": {
      "text/html": [
       "<span class=\"tex2jax_ignore\"><div class=\"entities\" style=\"line-height: 2.5; direction: ltr\">\n",
       "<mark class=\"entity\" style=\"background: #ddd; padding: 0.45em 0.6em; margin: 0 0.25em; line-height: 1; border-radius: 0.35em;\">\n",
       "    Landero\n",
       "    <span style=\"font-size: 0.8em; font-weight: bold; line-height: 1; border-radius: 0.35em; vertical-align: middle; margin-left: 0.5rem\">PER</span>\n",
       "</mark>\n",
       " se acuerda de ello mientras observa, en su casa del madrileño barrio de \n",
       "<mark class=\"entity\" style=\"background: #ff9561; padding: 0.45em 0.6em; margin: 0 0.25em; line-height: 1; border-radius: 0.35em;\">\n",
       "    Chamberí\n",
       "    <span style=\"font-size: 0.8em; font-weight: bold; line-height: 1; border-radius: 0.35em; vertical-align: middle; margin-left: 0.5rem\">LOC</span>\n",
       "</mark>\n",
       ", los ejemplares de su amiga que tiene en una de sus librerías, donde los libros están ordenados alfabéticamente.</div></span>"
      ],
      "text/plain": [
       "<IPython.core.display.HTML object>"
      ]
     },
     "metadata": {},
     "output_type": "display_data"
    }
   ],
   "source": [
    "# Entidades en el texto\n",
    "\n",
    "for sent in docum_analizado.sents:\n",
    "    displacy.render(sent, style='ent', jupyter=True, options={'distance': 110,'arrow_stroke': 2,'arrow_width': 8})\n"
   ]
  },
  {
   "cell_type": "code",
   "execution_count": 1,
   "metadata": {},
   "outputs": [
    {
     "ename": "NameError",
     "evalue": "name 'docum_analizado' is not defined",
     "output_type": "error",
     "traceback": [
      "\u001b[0;31m---------------------------------------------------------------------------\u001b[0m",
      "\u001b[0;31mNameError\u001b[0m                                 Traceback (most recent call last)",
      "\u001b[0;32m<ipython-input-1-b8c220275594>\u001b[0m in \u001b[0;36m<module>\u001b[0;34m\u001b[0m\n\u001b[1;32m      1\u001b[0m \u001b[0;31m# Diagrama de Dependencias\u001b[0m\u001b[0;34m\u001b[0m\u001b[0;34m\u001b[0m\u001b[0;34m\u001b[0m\u001b[0m\n\u001b[1;32m      2\u001b[0m \u001b[0;34m\u001b[0m\u001b[0m\n\u001b[0;32m----> 3\u001b[0;31m \u001b[0;32mfor\u001b[0m \u001b[0msent\u001b[0m \u001b[0;32min\u001b[0m \u001b[0mdocum_analizado\u001b[0m\u001b[0;34m.\u001b[0m\u001b[0msents\u001b[0m\u001b[0;34m:\u001b[0m\u001b[0;34m\u001b[0m\u001b[0;34m\u001b[0m\u001b[0m\n\u001b[0m\u001b[1;32m      4\u001b[0m     \u001b[0mdisplacy\u001b[0m\u001b[0;34m.\u001b[0m\u001b[0mrender\u001b[0m\u001b[0;34m(\u001b[0m\u001b[0msent\u001b[0m\u001b[0;34m,\u001b[0m \u001b[0mjupyter\u001b[0m\u001b[0;34m=\u001b[0m\u001b[0;32mTrue\u001b[0m\u001b[0;34m,\u001b[0m \u001b[0moptions\u001b[0m\u001b[0;34m=\u001b[0m\u001b[0;34m{\u001b[0m\u001b[0;34m'distance'\u001b[0m\u001b[0;34m:\u001b[0m \u001b[0;36m110\u001b[0m\u001b[0;34m,\u001b[0m\u001b[0;34m'arrow_stroke'\u001b[0m\u001b[0;34m:\u001b[0m \u001b[0;36m2\u001b[0m\u001b[0;34m,\u001b[0m\u001b[0;34m'arrow_width'\u001b[0m\u001b[0;34m:\u001b[0m \u001b[0;36m8\u001b[0m\u001b[0;34m}\u001b[0m\u001b[0;34m)\u001b[0m\u001b[0;34m\u001b[0m\u001b[0;34m\u001b[0m\u001b[0m\n",
      "\u001b[0;31mNameError\u001b[0m: name 'docum_analizado' is not defined"
     ]
    }
   ],
   "source": [
    "# Diagrama de Dependencias\n",
    "\n",
    "for sent in docum_analizado.sents:\n",
    "    displacy.render(sent, jupyter=True, options={'distance': 110,'arrow_stroke': 2,'arrow_width': 8})"
   ]
  },
  {
   "cell_type": "code",
   "execution_count": null,
   "metadata": {},
   "outputs": [],
   "source": []
  }
 ],
 "metadata": {
  "kernelspec": {
   "display_name": "Python 3",
   "language": "python",
   "name": "python3"
  },
  "language_info": {
   "codemirror_mode": {
    "name": "ipython",
    "version": 3
   },
   "file_extension": ".py",
   "mimetype": "text/x-python",
   "name": "python",
   "nbconvert_exporter": "python",
   "pygments_lexer": "ipython3",
   "version": "3.8.5"
  },
  "varInspector": {
   "cols": {
    "lenName": 16,
    "lenType": 16,
    "lenVar": 40
   },
   "kernels_config": {
    "python": {
     "delete_cmd_postfix": "",
     "delete_cmd_prefix": "del ",
     "library": "var_list.py",
     "varRefreshCmd": "print(var_dic_list())"
    },
    "r": {
     "delete_cmd_postfix": ") ",
     "delete_cmd_prefix": "rm(",
     "library": "var_list.r",
     "varRefreshCmd": "cat(var_dic_list()) "
    }
   },
   "types_to_exclude": [
    "module",
    "function",
    "builtin_function_or_method",
    "instance",
    "_Feature"
   ],
   "window_display": true
  },
  "vscode": {
   "interpreter": {
    "hash": "107fb03afb2754bdb3cdbb13c1c83d7d6037442339c22e5ee8cf40869e8513c5"
   }
  }
 },
 "nbformat": 4,
 "nbformat_minor": 4
}
