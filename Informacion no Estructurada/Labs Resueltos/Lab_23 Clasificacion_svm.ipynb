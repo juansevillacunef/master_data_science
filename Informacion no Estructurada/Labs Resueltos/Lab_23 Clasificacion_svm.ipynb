{
 "cells": [
  {
   "cell_type": "markdown",
   "metadata": {},
   "source": [
    "# Clasificación supervisada"
   ]
  },
  {
   "cell_type": "code",
   "execution_count": 12,
   "metadata": {},
   "outputs": [],
   "source": [
    "## Importación de librerías\n",
    "\n",
    "import spacy\n",
    "import pandas as pd\n",
    "\n",
    "nlp_español = spacy.load('es_core_news_lg')  "
   ]
  },
  {
   "cell_type": "code",
   "execution_count": 13,
   "metadata": {},
   "outputs": [
    {
     "name": "stdout",
     "output_type": "stream",
     "text": [
      "                                                text  label\n",
      "0  Es un gran hotel; el mejor de Asunción. Buenas...      3\n",
      "1  hola. no suelo criticar jamas lo que paso pero...      3\n",
      "2  Escogi meses antes de mi boda una habitacion p...      3\n",
      "3  Voy a se Lo mas equitativo posible; porque soy...      3\n",
      "4  Esta es una experiencia de septiembre de 2016;...      3\n",
      "(200, 2)\n",
      "Index(['text', 'label'], dtype='object')\n"
     ]
    }
   ],
   "source": [
    "## Lectura de datos\n",
    "\n",
    "datos = pd.read_csv('hotel.csv')\n",
    "print(datos.head())\n",
    "print(datos.shape)\n",
    "print(datos.columns)"
   ]
  },
  {
   "cell_type": "code",
   "execution_count": 14,
   "metadata": {},
   "outputs": [],
   "source": [
    "### Preprocesamiento y normalización"
   ]
  },
  {
   "cell_type": "code",
   "execution_count": 15,
   "metadata": {},
   "outputs": [],
   "source": [
    "# Vamos a separar los documentos y sus categorías. \n",
    "# docs y categs son series de Pandas\n",
    "# Hay que separar las categorías de los documentos para usar \n",
    "# estos últimos y obtener la matriz BOW o Tf-idf\n",
    "\n",
    "docs = datos.iloc[:,0] # extract column with review\n",
    "categs = datos.iloc[:,-1] # extract column with sentiment"
   ]
  },
  {
   "cell_type": "code",
   "execution_count": 16,
   "metadata": {},
   "outputs": [
    {
     "name": "stdout",
     "output_type": "stream",
     "text": [
      "Datos es tipo:  <class 'pandas.core.frame.DataFrame'>\n",
      "Docs es tipo:  <class 'pandas.core.series.Series'>\n",
      "Categs es tipo:  <class 'pandas.core.series.Series'>\n"
     ]
    }
   ],
   "source": [
    "print(\"Datos es tipo: \", type(datos))\n",
    "print(\"Docs es tipo: \", type(docs))\n",
    "print(\"Categs es tipo: \", type(categs))"
   ]
  },
  {
   "cell_type": "markdown",
   "metadata": {},
   "source": [
    "## Obtención de las matrices BOW y Tf-idf"
   ]
  },
  {
   "cell_type": "code",
   "execution_count": 17,
   "metadata": {},
   "outputs": [
    {
     "data": {
      "text/plain": [
       "<200x2426 sparse matrix of type '<class 'numpy.int64'>'\n",
       "\twith 8710 stored elements in Compressed Sparse Row format>"
      ]
     },
     "execution_count": 17,
     "metadata": {},
     "output_type": "execute_result"
    }
   ],
   "source": [
    "# tokenizamos los documentos y convertimos en matriz BOW\n",
    "\n",
    "from sklearn.feature_extraction.text import CountVectorizer\n",
    "vectorizer = CountVectorizer()\n",
    "### vectorizer = CountVectorizer(max_features=20)\n",
    "docs_vec = vectorizer.fit_transform(docs)\n",
    "docs_vec"
   ]
  },
  {
   "cell_type": "code",
   "execution_count": 18,
   "metadata": {},
   "outputs": [
    {
     "data": {
      "text/plain": [
       "matrix([[0, 0, 0, ..., 0, 1, 0],\n",
       "        [1, 0, 0, ..., 0, 0, 0],\n",
       "        [0, 0, 0, ..., 0, 0, 0],\n",
       "        ...,\n",
       "        [0, 0, 0, ..., 0, 0, 0],\n",
       "        [0, 0, 0, ..., 0, 0, 0],\n",
       "        [0, 0, 0, ..., 0, 0, 0]])"
      ]
     },
     "execution_count": 18,
     "metadata": {},
     "output_type": "execute_result"
    }
   ],
   "source": [
    "docs_vec_densa = docs_vec.todense() # convierte la matriz en densa\n",
    "docs_vec_densa"
   ]
  },
  {
   "cell_type": "code",
   "execution_count": 19,
   "metadata": {},
   "outputs": [
    {
     "data": {
      "text/plain": [
       "matrix([[0.        , 0.        , 0.        , ..., 0.        , 0.11515974,\n",
       "         0.        ],\n",
       "        [0.04403155, 0.        , 0.        , ..., 0.        , 0.        ,\n",
       "         0.        ],\n",
       "        [0.        , 0.        , 0.        , ..., 0.        , 0.        ,\n",
       "         0.        ],\n",
       "        ...,\n",
       "        [0.        , 0.        , 0.        , ..., 0.        , 0.        ,\n",
       "         0.        ],\n",
       "        [0.        , 0.        , 0.        , ..., 0.        , 0.        ,\n",
       "         0.        ],\n",
       "        [0.        , 0.        , 0.        , ..., 0.        , 0.        ,\n",
       "         0.        ]])"
      ]
     },
     "execution_count": 19,
     "metadata": {},
     "output_type": "execute_result"
    }
   ],
   "source": [
    "# Construimos la matriz formato Tf-idf\n",
    "\n",
    "from sklearn.feature_extraction.text import TfidfTransformer\n",
    "tfidf = TfidfTransformer() \n",
    "docs_tfidf = tfidf.fit_transform(docs_vec)\n",
    "docs_tfidf_densa = docs_tfidf.todense()\n",
    "docs_tfidf_densa"
   ]
  },
  {
   "cell_type": "markdown",
   "metadata": {},
   "source": [
    "## Preparación de los subconjuntos de entrenamiento y test"
   ]
  },
  {
   "cell_type": "code",
   "execution_count": 20,
   "metadata": {},
   "outputs": [],
   "source": [
    "# División mediante train_test_split. Test de 25%\n",
    "\n",
    "from sklearn.model_selection import train_test_split\n",
    "docs_train, docs_test, categs_train, categs_test = train_test_split(docs_tfidf, categs, test_size = 0.25, \n",
    "                                                                    random_state = 50)"
   ]
  },
  {
   "cell_type": "code",
   "execution_count": 21,
   "metadata": {},
   "outputs": [
    {
     "name": "stdout",
     "output_type": "stream",
     "text": [
      "  (0, 2411)\t0.0547537283984435\n",
      "  (0, 2407)\t0.032281077018586145\n",
      "  (0, 2369)\t0.05079649092264503\n",
      "  (0, 2365)\t0.0547537283984435\n",
      "  (0, 2363)\t0.044031548775208415\n",
      "  (0, 2362)\t0.04798878625100688\n",
      "  (0, 2359)\t0.03648540993257896\n",
      "  (0, 2347)\t0.109507456796887\n",
      "  (0, 2344)\t0.03811581578278578\n",
      "  (0, 2319)\t0.04007431129940993\n",
      "  (0, 2318)\t0.24562147183157004\n",
      "  (0, 2313)\t0.040389711979148195\n",
      "  (0, 2312)\t0.06476233396107638\n",
      "  (0, 2310)\t0.0547537283984435\n",
      "  (0, 2309)\t0.05079649092264503\n",
      "  (0, 2288)\t0.045810961313459395\n",
      "  (0, 2281)\t0.0547537283984435\n",
      "  (0, 2262)\t0.04122384410357026\n",
      "  (0, 2255)\t0.0547537283984435\n",
      "  (0, 2248)\t0.0547537283984435\n",
      "  (0, 2245)\t0.020194855989574097\n",
      "  (0, 2238)\t0.0547537283984435\n",
      "  (0, 2237)\t0.04798878625100688\n",
      "  (0, 2231)\t0.0547537283984435\n",
      "  (0, 2230)\t0.0547537283984435\n",
      "  :\t:\n",
      "  (149, 1305)\t0.38101705377200434\n",
      "  (149, 1293)\t0.0889977050590928\n",
      "  (149, 1175)\t0.2928784826262668\n",
      "  (149, 1151)\t0.1464392413131334\n",
      "  (149, 1113)\t0.20534985683535834\n",
      "  (149, 1108)\t0.16513710575890536\n",
      "  (149, 958)\t0.06810592135350808\n",
      "  (149, 937)\t0.15460701458116463\n",
      "  (149, 929)\t0.1087518517275099\n",
      "  (149, 918)\t0.17181066244023027\n",
      "  (149, 897)\t0.17181066244023027\n",
      "  (149, 874)\t0.27741823991243364\n",
      "  (149, 828)\t0.09661042249833396\n",
      "  (149, 809)\t0.13764081056224595\n",
      "  (149, 771)\t0.1397656846318085\n",
      "  (149, 621)\t0.08854720242581088\n",
      "  (149, 545)\t0.20534985683535834\n",
      "  (149, 526)\t0.19050852688600217\n",
      "  (149, 486)\t0.20534985683535834\n",
      "  (149, 475)\t0.10622649023668042\n",
      "  (149, 343)\t0.20534985683535834\n",
      "  (149, 311)\t0.07965485589822355\n",
      "  (149, 282)\t0.20534985683535834\n",
      "  (149, 217)\t0.08680378579928005\n",
      "  (149, 209)\t0.10386417232697097\n"
     ]
    }
   ],
   "source": [
    "print(docs_train)"
   ]
  },
  {
   "cell_type": "markdown",
   "metadata": {},
   "source": [
    "## Support Vector Machine"
   ]
  },
  {
   "cell_type": "code",
   "execution_count": 23,
   "metadata": {},
   "outputs": [
    {
     "data": {
      "text/plain": [
       "SVC(kernel='linear')"
      ]
     },
     "execution_count": 23,
     "metadata": {},
     "output_type": "execute_result"
    }
   ],
   "source": [
    "# Entrenamiento del clasificador NB\n",
    "\n",
    "from sklearn.svm import SVC\n",
    "svm = SVC(kernel='linear')\n",
    "# svm = SVC(kernel='poly')\n",
    "# svm = SVC(kernel='rbf')\n",
    "# svm = SVC(kernel='sigmoid')\n",
    "\n",
    "\n",
    "svm.fit(docs_train, categs_train)"
   ]
  },
  {
   "cell_type": "markdown",
   "metadata": {},
   "source": [
    "## Evaluación del modelo"
   ]
  },
  {
   "cell_type": "code",
   "execution_count": 24,
   "metadata": {},
   "outputs": [],
   "source": [
    "# Predicción del set de test\n",
    "\n",
    "categs_pred = svm.predict(docs_test)"
   ]
  },
  {
   "cell_type": "code",
   "execution_count": 25,
   "metadata": {},
   "outputs": [
    {
     "data": {
      "text/plain": [
       "array([[18,  7],\n",
       "       [11, 14]])"
      ]
     },
     "execution_count": 25,
     "metadata": {},
     "output_type": "execute_result"
    }
   ],
   "source": [
    "# Confusion Matrix\n",
    "\n",
    "from sklearn.metrics import confusion_matrix\n",
    "cm = confusion_matrix(categs_test, categs_pred)\n",
    "cm"
   ]
  },
  {
   "cell_type": "code",
   "execution_count": 26,
   "metadata": {},
   "outputs": [
    {
     "name": "stdout",
     "output_type": "stream",
     "text": [
      "Accuracy entrenamiento:  0.9933333333333333\n",
      "Accuracy PRUEBA:  0.64\n",
      "Fiabilidad:  0.6442953020134229\n"
     ]
    }
   ],
   "source": [
    "acc_train = svm.score(docs_train, categs_train)\n",
    "acc_test = svm.score(docs_test, categs_test)\n",
    "\n",
    "print(\"Accuracy entrenamiento: \", acc_train)\n",
    "print(\"Accuracy PRUEBA: \", acc_test)\n",
    "print(\"Fiabilidad: \", acc_test / acc_train)  "
   ]
  },
  {
   "cell_type": "code",
   "execution_count": null,
   "metadata": {},
   "outputs": [],
   "source": []
  },
  {
   "cell_type": "code",
   "execution_count": null,
   "metadata": {},
   "outputs": [],
   "source": []
  }
 ],
 "metadata": {
  "kernelspec": {
   "display_name": "Python 3 (ipykernel)",
   "language": "python",
   "name": "python3"
  },
  "language_info": {
   "codemirror_mode": {
    "name": "ipython",
    "version": 3
   },
   "file_extension": ".py",
   "mimetype": "text/x-python",
   "name": "python",
   "nbconvert_exporter": "python",
   "pygments_lexer": "ipython3",
   "version": "3.9.13"
  },
  "varInspector": {
   "cols": {
    "lenName": 16,
    "lenType": 16,
    "lenVar": 40
   },
   "kernels_config": {
    "python": {
     "delete_cmd_postfix": "",
     "delete_cmd_prefix": "del ",
     "library": "var_list.py",
     "varRefreshCmd": "print(var_dic_list())"
    },
    "r": {
     "delete_cmd_postfix": ") ",
     "delete_cmd_prefix": "rm(",
     "library": "var_list.r",
     "varRefreshCmd": "cat(var_dic_list()) "
    }
   },
   "oldHeight": 122.84136400000001,
   "position": {
    "height": "222.841px",
    "left": "730.622px",
    "right": "20px",
    "top": "7.99999px",
    "width": "310px"
   },
   "types_to_exclude": [
    "module",
    "function",
    "builtin_function_or_method",
    "instance",
    "_Feature"
   ],
   "varInspector_section_display": "block",
   "window_display": true
  },
  "vscode": {
   "interpreter": {
    "hash": "107fb03afb2754bdb3cdbb13c1c83d7d6037442339c22e5ee8cf40869e8513c5"
   }
  }
 },
 "nbformat": 4,
 "nbformat_minor": 4
}
