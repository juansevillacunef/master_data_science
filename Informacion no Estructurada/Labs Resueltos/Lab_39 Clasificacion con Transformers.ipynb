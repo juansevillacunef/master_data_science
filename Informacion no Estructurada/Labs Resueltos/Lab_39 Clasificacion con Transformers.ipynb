{
 "cells": [
  {
   "cell_type": "markdown",
   "metadata": {},
   "source": [
    "# Clasificación con Transformers"
   ]
  },
  {
   "cell_type": "code",
   "execution_count": 1,
   "metadata": {},
   "outputs": [],
   "source": [
    "## Importación de las librerías\n",
    "\n",
    "from transformers import pipeline"
   ]
  },
  {
   "cell_type": "code",
   "execution_count": 2,
   "metadata": {},
   "outputs": [
    {
     "name": "stdout",
     "output_type": "stream",
     "text": [
      "[{'label': 'POS', 'score': 0.9958052635192871}, {'label': 'NEG', 'score': 0.9976462721824646}]\n"
     ]
    }
   ],
   "source": [
    "## Análisis de sentimientos\n",
    "\n",
    "model = \"finiteautomata/beto-sentiment-analysis\"\n",
    "\n",
    "sentiment_pipeline = pipeline(\"sentiment-analysis\", model=model)\n",
    "print(sentiment_pipeline([\"Un sensacional partido de baloncesto\", \"la peor película premiada en la gala\"]))"
   ]
  },
  {
   "cell_type": "code",
   "execution_count": 7,
   "metadata": {},
   "outputs": [
    {
     "name": "stdout",
     "output_type": "stream",
     "text": [
      "[0.99827707]\n"
     ]
    }
   ],
   "source": [
    "## Natural Language Inference (¿Está contenida la respuesta a esta pregunta??)\n",
    "\n",
    "from sentence_transformers import CrossEncoder\n",
    "\n",
    "model = CrossEncoder('cross-encoder/qnli-electra-base')\n",
    "\n",
    "score = model.predict([(\"Where is the capital of France?\",\"Paris is the capital of France.\")])\n",
    "print(score)"
   ]
  },
  {
   "cell_type": "code",
   "execution_count": 8,
   "metadata": {},
   "outputs": [
    {
     "name": "stdout",
     "output_type": "stream",
     "text": [
      "{'sequence': 'El IPC sube de golpe y se dispara hasta el 9,8% en marzo, su tasa más alta desde 1985', 'labels': ['economía', 'política', 'deportes'], 'scores': [0.7611711025238037, 0.15211112797260284, 0.08671778440475464]}\n"
     ]
    }
   ],
   "source": [
    "## Zero-Shot-Classification\n",
    "\n",
    "model = \"Recognai/zeroshot_selectra_medium\"\n",
    "\n",
    "clasif = pipeline(\"zero-shot-classification\", model=model)\n",
    "\n",
    "print(clasif(\n",
    "    \"El IPC sube de golpe y se dispara hasta el 9,8% en marzo, su tasa más alta desde 1985\",\n",
    "    candidate_labels=[\"política\", \"deportes\", \"economía\"]))"
   ]
  },
  {
   "cell_type": "code",
   "execution_count": null,
   "metadata": {},
   "outputs": [],
   "source": []
  }
 ],
 "metadata": {
  "kernelspec": {
   "display_name": "Python 3 (ipykernel)",
   "language": "python",
   "name": "python3"
  },
  "language_info": {
   "codemirror_mode": {
    "name": "ipython",
    "version": 3
   },
   "file_extension": ".py",
   "mimetype": "text/x-python",
   "name": "python",
   "nbconvert_exporter": "python",
   "pygments_lexer": "ipython3",
   "version": "3.9.13"
  },
  "varInspector": {
   "cols": {
    "lenName": 16,
    "lenType": 16,
    "lenVar": 40
   },
   "kernels_config": {
    "python": {
     "delete_cmd_postfix": "",
     "delete_cmd_prefix": "del ",
     "library": "var_list.py",
     "varRefreshCmd": "print(var_dic_list())"
    },
    "r": {
     "delete_cmd_postfix": ") ",
     "delete_cmd_prefix": "rm(",
     "library": "var_list.r",
     "varRefreshCmd": "cat(var_dic_list()) "
    }
   },
   "oldHeight": 122.855364,
   "position": {
    "height": "40px",
    "left": "893.636px",
    "right": "20px",
    "top": "120px",
    "width": "250px"
   },
   "types_to_exclude": [
    "module",
    "function",
    "builtin_function_or_method",
    "instance",
    "_Feature"
   ],
   "varInspector_section_display": "none",
   "window_display": true
  }
 },
 "nbformat": 4,
 "nbformat_minor": 4
}
