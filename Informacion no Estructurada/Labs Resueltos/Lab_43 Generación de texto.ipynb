{
 "cells": [
  {
   "cell_type": "markdown",
   "metadata": {},
   "source": [
    "# Generación de texto"
   ]
  },
  {
   "cell_type": "code",
   "execution_count": 1,
   "metadata": {},
   "outputs": [],
   "source": [
    "## Importación de las librerías\n",
    "\n",
    "from transformers import pipeline"
   ]
  },
  {
   "cell_type": "code",
   "execution_count": 2,
   "metadata": {},
   "outputs": [
    {
     "name": "stderr",
     "output_type": "stream",
     "text": [
      "Setting `pad_token_id` to `eos_token_id`:50256 for open-end generation.\n"
     ]
    },
    {
     "data": {
      "text/plain": [
       "[{'generated_text': 'Hace muchos años em las Tierras Altas de Escocia y algunas partes de las Tierras Altas de Escocia. Un movimiento por primera vez en el siglo XIX, lo que se conocería comúnmente como la Era de los Estados Unidos de América y el Reino Unido. El Reino'},\n",
       " {'generated_text': 'Hace muchos años em las Tierras Altas de Escocia. En la actualidad es un distrito histórico.\\n\\nSe pueden encontrar en la parte norte de Londres, tanto calles como la parte noroeste. Estos lugares están situados a lo largo del río Támesis (entre ambos'},\n",
       " {'generated_text': 'Hace muchos años em las Tierras Altas de Escocia como Tierras Altas y Tierras de Escocia, la gente de otras partes del reino tenía una identidad parecida a la de la de Escocia, y tenía una historia que la consideraba de una forma más bien definida de Escocia'}]"
      ]
     },
     "execution_count": 2,
     "metadata": {},
     "output_type": "execute_result"
    }
   ],
   "source": [
    "## Text Generation\n",
    "\n",
    "generator = pipeline('text-generation', model = 'datificate/gpt2-small-spanish')\n",
    "generator(\"Hace muchos años em las Tierras Altas de Escocia\", max_length = 50, num_return_sequences=3)"
   ]
  },
  {
   "cell_type": "code",
   "execution_count": null,
   "metadata": {},
   "outputs": [],
   "source": []
  }
 ],
 "metadata": {
  "kernelspec": {
   "display_name": "Python 3 (ipykernel)",
   "language": "python",
   "name": "python3"
  },
  "language_info": {
   "codemirror_mode": {
    "name": "ipython",
    "version": 3
   },
   "file_extension": ".py",
   "mimetype": "text/x-python",
   "name": "python",
   "nbconvert_exporter": "python",
   "pygments_lexer": "ipython3",
   "version": "3.9.13"
  },
  "varInspector": {
   "cols": {
    "lenName": 16,
    "lenType": 16,
    "lenVar": 40
   },
   "kernels_config": {
    "python": {
     "delete_cmd_postfix": "",
     "delete_cmd_prefix": "del ",
     "library": "var_list.py",
     "varRefreshCmd": "print(var_dic_list())"
    },
    "r": {
     "delete_cmd_postfix": ") ",
     "delete_cmd_prefix": "rm(",
     "library": "var_list.r",
     "varRefreshCmd": "cat(var_dic_list()) "
    }
   },
   "oldHeight": 122.855364,
   "position": {
    "height": "40px",
    "left": "893.636px",
    "right": "20px",
    "top": "120px",
    "width": "250px"
   },
   "types_to_exclude": [
    "module",
    "function",
    "builtin_function_or_method",
    "instance",
    "_Feature"
   ],
   "varInspector_section_display": "none",
   "window_display": true
  }
 },
 "nbformat": 4,
 "nbformat_minor": 4
}
