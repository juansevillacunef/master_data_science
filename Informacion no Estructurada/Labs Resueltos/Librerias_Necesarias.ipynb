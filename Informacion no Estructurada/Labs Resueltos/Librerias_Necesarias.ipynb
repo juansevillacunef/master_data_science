{
 "cells": [
  {
   "cell_type": "code",
   "execution_count": 1,
   "metadata": {},
   "outputs": [
    {
     "name": "stderr",
     "output_type": "stream",
     "text": [
      "/Users/juan/opt/anaconda3/envs/AINE/lib/python3.9/site-packages/transformers/convert_slow_tokenizer.py:446: UserWarning: The sentencepiece tokenizer that you are converting to a fast tokenizer uses the byte fallback option which is not implemented in the fast tokenizers. In practice this means that the fast version of the tokenizer can produce unknown tokens whereas the sentencepiece version would have converted these unknown tokens into a sequence of byte tokens matching the original piece of text.\n",
      "  warnings.warn(\n"
     ]
    }
   ],
   "source": [
    "import nltk\n",
    "import spacy\n",
    "import sklearn\n",
    "\n",
    "from transformers import pipeline\n",
    "from transformers import AutoTokenizer, AutoModelForSeq2SeqLM\n",
    "\n",
    "nlp_es = spacy.load('es_core_news_lg')\n",
    "\n",
    "stopwords = nltk.corpus.stopwords.words('spanish')\n",
    "\n",
    "model = \"mrm8488/distill-bert-base-spanish-wwm-cased-finetuned-spa-squad2-es\"\n",
    "qa_pipeline = pipeline(\"question-answering\", model=model)\n",
    "\n",
    "model = \"finiteautomata/beto-sentiment-analysis\"\n",
    "sentiment_pipeline = pipeline(\"sentiment-analysis\", model=model)\n",
    "\n",
    "model = \"Recognai/zeroshot_selectra_medium\"\n",
    "clasif = pipeline(\"zero-shot-classification\", model=model)\n",
    "\n",
    "model = \"Helsinki-NLP/opus-mt-en-es\"\n",
    "translator = pipeline(\"translation\", model=model)\n",
    "\n",
    "model = 'datificate/gpt2-small-spanish'\n",
    "generator = pipeline('text-generation', model = model)\n",
    "\n",
    "tokenizer = AutoTokenizer.from_pretrained(\"csebuetnlp/mT5_multilingual_XLSum\")\n",
    "model = AutoModelForSeq2SeqLM.from_pretrained(\"csebuetnlp/mT5_multilingual_XLSum\")\n",
    "summarizer = pipeline(\"summarization\", model=model, tokenizer = tokenizer)\n",
    "\n",
    "model = 'datificate/gpt2-small-spanish'\n",
    "generator = pipeline('text-generation', model = model)"
   ]
  }
 ],
 "metadata": {
  "kernelspec": {
   "display_name": "Python 3 (ipykernel)",
   "language": "python",
   "name": "python3"
  },
  "language_info": {
   "codemirror_mode": {
    "name": "ipython",
    "version": 3
   },
   "file_extension": ".py",
   "mimetype": "text/x-python",
   "name": "python",
   "nbconvert_exporter": "python",
   "pygments_lexer": "ipython3",
   "version": "3.9.13"
  },
  "vscode": {
   "interpreter": {
    "hash": "107fb03afb2754bdb3cdbb13c1c83d7d6037442339c22e5ee8cf40869e8513c5"
   }
  }
 },
 "nbformat": 4,
 "nbformat_minor": 2
}
