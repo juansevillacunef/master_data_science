{
 "cells": [
  {
   "cell_type": "markdown",
   "metadata": {},
   "source": [
    "# Tokenización\n",
    "\n",
    "NLTK y Spacy son dos librerías que se pueden utilizar para tokenizar textos. En esta práctica se va a realizar una comparativa de ambas librerías para comparar tanto resultados como tiempos de ejecución. Rellena las líneas de código que se piden, y responde a las preguntas."
   ]
  },
  {
   "cell_type": "code",
   "execution_count": null,
   "metadata": {},
   "outputs": [],
   "source": [
    "### Importación de librerías. Importa nltk y spacy\n",
    "\n",
    "import time\n",
    "import nltk\n",
    "import spacy\n",
    "\n",
    "### carga el modelo es_core_news_lg de spacy\n",
    "nlp = spacy.load(\"es_core_news_lg\")"
   ]
  },
  {
   "cell_type": "code",
   "execution_count": null,
   "metadata": {},
   "outputs": [],
   "source": [
    "### Lectura del fichero\n",
    "\n",
    "def read_text_file(filename):\n",
    "    file = open(filename, \"r\", encoding=\"utf-8\") \n",
    "    return file.read()"
   ]
  },
  {
   "cell_type": "code",
   "execution_count": null,
   "metadata": {},
   "outputs": [],
   "source": [
    "### Utiliza la función read_text_file para leer el archivo Lazarillo.txt\n",
    "text = read_text_file(\"/Users/juan/Documents/GitHub/master_data_science/Informacion no Estructurada/Lazarillo.txt\")\n",
    "\n",
    "### Tokeniza el texto con NLTK. Se recomienda la función word_tokenize()\n",
    "text_tokens = nltk.word_tokenize(text)\n",
    "\n",
    "print(\"Tokens - NLTK\")\n",
    "print(text_tokens[:15])\n",
    "\n",
    "### Construye el Doc de Spacy con el modelo previamente cargado (es_core_news_lg). Se recomienda revisar el Lab_05.\n",
    "doc = nlp(text)\n",
    "\n",
    "print(\"Tokens - spaCy\")\n",
    "\n",
    "print([token.text for token in doc][:15])"
   ]
  },
  {
   "cell_type": "markdown",
   "metadata": {},
   "source": [
    "### Conclusiones\n",
    "- ¿Qué observas del resultado? ¿Es igual utilizando ambas librerías?\n",
    "\n",
    "### Ejercicio extra\n",
    "Convierte en función el tokenizador de NLTK y el tokenizador de Spacy, para optimizar el código."
   ]
  },
  {
   "cell_type": "code",
   "execution_count": 9,
   "metadata": {},
   "outputs": [],
   "source": [
    "### Análisis con spaCy\n",
    "\n",
    "def analyze_spacy(text):\n",
    "    #########\n",
    "    doc = nlp(text)\n",
    "    print(\"Tokens - spaCy\")\n",
    "    print([token.text for token in doc][:15])"
   ]
  },
  {
   "cell_type": "code",
   "execution_count": 10,
   "metadata": {},
   "outputs": [
    {
     "name": "stdout",
     "output_type": "stream",
     "text": [
      "Tokens - spaCy\n",
      "['Pues', 'sepa', 'V.M.', '\\n', 'ante', 'todas', 'cosas', 'que', 'a', 'mí', 'llaman', 'Lázaro', 'de', 'Tormes', ',']\n"
     ]
    }
   ],
   "source": [
    "analyze_spacy(text)"
   ]
  },
  {
   "cell_type": "code",
   "execution_count": 11,
   "metadata": {},
   "outputs": [],
   "source": [
    "## Tokenización - NLTK\n",
    "\n",
    "def tokenize_nltk(text):\n",
    "    ########\n",
    "    text_tokens = nltk.word_tokenize(text)\n",
    "\n",
    "    print(\"Tokens - NLTK\")\n",
    "    print(text_tokens[:15])"
   ]
  },
  {
   "cell_type": "code",
   "execution_count": 12,
   "metadata": {},
   "outputs": [
    {
     "name": "stdout",
     "output_type": "stream",
     "text": [
      "Tokens - NLTK\n",
      "['Pues', 'sepa', 'V.M', '.', 'ante', 'todas', 'cosas', 'que', 'a', 'mí', 'llaman', 'Lázaro', 'de', 'Tormes', ',']\n"
     ]
    }
   ],
   "source": [
    "tokenize_nltk(text)"
   ]
  },
  {
   "cell_type": "code",
   "execution_count": null,
   "metadata": {},
   "outputs": [],
   "source": []
  }
 ],
 "metadata": {
  "kernelspec": {
   "display_name": "Python 3 (ipykernel)",
   "language": "python",
   "name": "python3"
  },
  "language_info": {
   "codemirror_mode": {
    "name": "ipython",
    "version": 3
   },
   "file_extension": ".py",
   "mimetype": "text/x-python",
   "name": "python",
   "nbconvert_exporter": "python",
   "pygments_lexer": "ipython3",
   "version": "3.9.7"
  },
  "vscode": {
   "interpreter": {
    "hash": "107fb03afb2754bdb3cdbb13c1c83d7d6037442339c22e5ee8cf40869e8513c5"
   }
  }
 },
 "nbformat": 4,
 "nbformat_minor": 4
}
