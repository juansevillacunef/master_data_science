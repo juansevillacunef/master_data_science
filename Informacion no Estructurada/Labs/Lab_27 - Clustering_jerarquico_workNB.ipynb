{
 "cells": [
  {
   "cell_type": "markdown",
   "metadata": {},
   "source": [
    "# Imports"
   ]
  },
  {
   "cell_type": "code",
   "execution_count": 1,
   "metadata": {},
   "outputs": [],
   "source": [
    "import pandas as pd\n",
    "import numpy as np\n",
    "import re\n",
    "import nltk\n",
    "import matplotlib.pyplot as plt\n"
   ]
  },
  {
   "cell_type": "code",
   "execution_count": 2,
   "metadata": {},
   "outputs": [
    {
     "data": {
      "text/html": [
       "<div>\n",
       "<style scoped>\n",
       "    .dataframe tbody tr th:only-of-type {\n",
       "        vertical-align: middle;\n",
       "    }\n",
       "\n",
       "    .dataframe tbody tr th {\n",
       "        vertical-align: top;\n",
       "    }\n",
       "\n",
       "    .dataframe thead th {\n",
       "        text-align: right;\n",
       "    }\n",
       "</style>\n",
       "<table border=\"1\" class=\"dataframe\">\n",
       "  <thead>\n",
       "    <tr style=\"text-align: right;\">\n",
       "      <th></th>\n",
       "      <th>Documento</th>\n",
       "      <th>Categoria</th>\n",
       "    </tr>\n",
       "  </thead>\n",
       "  <tbody>\n",
       "    <tr>\n",
       "      <th>0</th>\n",
       "      <td>El cielo es azul y luminoso.</td>\n",
       "      <td>tiempo</td>\n",
       "    </tr>\n",
       "    <tr>\n",
       "      <th>1</th>\n",
       "      <td>¡Me encanta este cielo azul y luminoso!</td>\n",
       "      <td>tiempo</td>\n",
       "    </tr>\n",
       "    <tr>\n",
       "      <th>2</th>\n",
       "      <td>El zorro marrón es rápido y salta sobre el perro que es dormilón.</td>\n",
       "      <td>animales</td>\n",
       "    </tr>\n",
       "    <tr>\n",
       "      <th>3</th>\n",
       "      <td>Un desayuno real tiene salchichas, jamón, bacon, huevos, tostadas y queso</td>\n",
       "      <td>alimentos</td>\n",
       "    </tr>\n",
       "    <tr>\n",
       "      <th>4</th>\n",
       "      <td>¡Me encanta el jamón, los huevos, las salchichas y el bacon!</td>\n",
       "      <td>alimentos</td>\n",
       "    </tr>\n",
       "    <tr>\n",
       "      <th>5</th>\n",
       "      <td>¡El zorro marrón es rápido, y el perro azul es un dormilón!</td>\n",
       "      <td>animales</td>\n",
       "    </tr>\n",
       "    <tr>\n",
       "      <th>6</th>\n",
       "      <td>El cielo es azul intenso y hoy está muy luminoso</td>\n",
       "      <td>tiempo</td>\n",
       "    </tr>\n",
       "    <tr>\n",
       "      <th>7</th>\n",
       "      <td>¡El perro es un dormilón, pero el zorro es mu rápido!</td>\n",
       "      <td>animales</td>\n",
       "    </tr>\n",
       "  </tbody>\n",
       "</table>\n",
       "</div>"
      ],
      "text/plain": [
       "                                                                   Documento  \\\n",
       "0                                               El cielo es azul y luminoso.   \n",
       "1                                    ¡Me encanta este cielo azul y luminoso!   \n",
       "2          El zorro marrón es rápido y salta sobre el perro que es dormilón.   \n",
       "3  Un desayuno real tiene salchichas, jamón, bacon, huevos, tostadas y queso   \n",
       "4               ¡Me encanta el jamón, los huevos, las salchichas y el bacon!   \n",
       "5                ¡El zorro marrón es rápido, y el perro azul es un dormilón!   \n",
       "6                           El cielo es azul intenso y hoy está muy luminoso   \n",
       "7                      ¡El perro es un dormilón, pero el zorro es mu rápido!   \n",
       "\n",
       "   Categoria  \n",
       "0     tiempo  \n",
       "1     tiempo  \n",
       "2   animales  \n",
       "3  alimentos  \n",
       "4  alimentos  \n",
       "5   animales  \n",
       "6     tiempo  \n",
       "7   animales  "
      ]
     },
     "execution_count": 2,
     "metadata": {},
     "output_type": "execute_result"
    }
   ],
   "source": [
    "corpus = ['El cielo es azul y luminoso.',\n",
    "          '¡Me encanta este cielo azul y luminoso!',\n",
    "          'El zorro marrón es rápido y salta sobre el perro que es dormilón.',\n",
    "          'Un desayuno real tiene salchichas, jamón, bacon, huevos, tostadas y queso',\n",
    "          '¡Me encanta el jamón, los huevos, las salchichas y el bacon!',\n",
    "          '¡El zorro marrón es rápido, y el perro azul es un dormilón!',\n",
    "          'El cielo es azul intenso y hoy está muy luminoso',\n",
    "          '¡El perro es un dormilón, pero el zorro es mu rápido!'\n",
    "]\n",
    "labels = ['tiempo', 'tiempo', 'animales', 'alimentos', 'alimentos', 'animales', 'tiempo', 'animales']\n",
    "\n",
    "corpus = np.array(corpus)\n",
    "corpus_df = pd.DataFrame({'Documento': corpus,\n",
    "                           'Categoria': labels}) \n",
    "corpus_df = corpus_df[['Documento', 'Categoria']]\n",
    "\n",
    "corpus_df"
   ]
  },
  {
   "cell_type": "markdown",
   "metadata": {},
   "source": [
    "# Pre-procesamiento\n",
    "\n",
    "Para poder clusterizar los textos con mayor facilidad, es necesario que se queden las palabras que contengan significado de cada texto. Por ello, preprocesa los textos para eliminar los caracteres especiales, unificarlo en minúsculas, eliminar espacios extra (utiliza `strip()` para esto) y eliminar las stopwords."
   ]
  },
  {
   "cell_type": "code",
   "execution_count": null,
   "metadata": {},
   "outputs": [],
   "source": []
  },
  {
   "cell_type": "markdown",
   "metadata": {},
   "source": [
    "# Generación de las matrices\n",
    "\n",
    "Genera BOW, TFIDF & Bag Of N-grams; se utilizarán para comparar los resultados."
   ]
  },
  {
   "cell_type": "code",
   "execution_count": 2,
   "metadata": {},
   "outputs": [],
   "source": [
    "#"
   ]
  },
  {
   "cell_type": "markdown",
   "metadata": {},
   "source": [
    "# Similitud entre documentos\n",
    "\n",
    "Calcula la similitud entre documentos con una de las matrices que has generado. Utiliza `cosine_similarity()`. Con este cálculo, se podrá lanzar un clustering jerárquico que, en función de estas distancias, localizará cada texto en uno de los clusters."
   ]
  },
  {
   "cell_type": "code",
   "execution_count": null,
   "metadata": {},
   "outputs": [],
   "source": []
  },
  {
   "cell_type": "markdown",
   "metadata": {},
   "source": [
    "# Clustering jerárquico\n",
    "\n",
    "Utiliza `AgglomerativeClustering()`para calcular a qué cluster pertenecería cada texto. Configura que el número de clusters sea 4.\n",
    "\n",
    "Representa en un dendograma los clusters jerárquicos obtenidos."
   ]
  },
  {
   "cell_type": "code",
   "execution_count": null,
   "metadata": {},
   "outputs": [],
   "source": []
  }
 ],
 "metadata": {
  "anaconda-cloud": {},
  "kernelspec": {
   "display_name": "Python 3.8.5 ('base')",
   "language": "python",
   "name": "python3"
  },
  "language_info": {
   "codemirror_mode": {
    "name": "ipython",
    "version": 3
   },
   "file_extension": ".py",
   "mimetype": "text/x-python",
   "name": "python",
   "nbconvert_exporter": "python",
   "pygments_lexer": "ipython3",
   "version": "3.8.5"
  },
  "varInspector": {
   "cols": {
    "lenName": 16,
    "lenType": 16,
    "lenVar": 40
   },
   "kernels_config": {
    "python": {
     "delete_cmd_postfix": "",
     "delete_cmd_prefix": "del ",
     "library": "var_list.py",
     "varRefreshCmd": "print(var_dic_list())"
    },
    "r": {
     "delete_cmd_postfix": ") ",
     "delete_cmd_prefix": "rm(",
     "library": "var_list.r",
     "varRefreshCmd": "cat(var_dic_list()) "
    }
   },
   "oldHeight": 122.855364,
   "position": {
    "height": "40px",
    "left": "906.636px",
    "right": "20px",
    "top": "43px",
    "width": "250px"
   },
   "types_to_exclude": [
    "module",
    "function",
    "builtin_function_or_method",
    "instance",
    "_Feature"
   ],
   "varInspector_section_display": "none",
   "window_display": true
  },
  "vscode": {
   "interpreter": {
    "hash": "107fb03afb2754bdb3cdbb13c1c83d7d6037442339c22e5ee8cf40869e8513c5"
   }
  }
 },
 "nbformat": 4,
 "nbformat_minor": 4
}
