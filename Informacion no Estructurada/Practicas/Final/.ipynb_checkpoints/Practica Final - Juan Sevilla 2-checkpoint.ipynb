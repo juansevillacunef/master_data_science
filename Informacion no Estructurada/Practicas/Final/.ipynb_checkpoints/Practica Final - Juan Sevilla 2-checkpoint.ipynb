{
 "cells": [
  {
   "cell_type": "code",
   "execution_count": 1,
   "id": "f8256e3a",
   "metadata": {},
   "outputs": [],
   "source": [
    "import spacy\n",
    "from spacy import displacy\n",
    "import pandas as pd\n",
    "import numpy as np\n",
    "from sklearn.feature_extraction.text import TfidfVectorizer\n",
    "\n",
    "import warnings\n",
    "warnings.filterwarnings(\"ignore\")"
   ]
  },
  {
   "cell_type": "code",
   "execution_count": 8,
   "id": "b0172955",
   "metadata": {},
   "outputs": [],
   "source": [
    "path_JuanSe = \"/Users/juan/Documents/Juan's MacBook Pro/CUNEF/Quinto/Informacion no Estructurada/Practica Final/Data_pacifico_vallecas_info_no_estruct.xlsx\"\n",
    "\n",
    "df = pd.read_excel(path_JuanSe)"
   ]
  },
  {
   "cell_type": "code",
   "execution_count": 9,
   "id": "f1b427bb",
   "metadata": {},
   "outputs": [
    {
     "data": {
      "text/html": [
       "<div>\n",
       "<style scoped>\n",
       "    .dataframe tbody tr th:only-of-type {\n",
       "        vertical-align: middle;\n",
       "    }\n",
       "\n",
       "    .dataframe tbody tr th {\n",
       "        vertical-align: top;\n",
       "    }\n",
       "\n",
       "    .dataframe thead th {\n",
       "        text-align: right;\n",
       "    }\n",
       "</style>\n",
       "<table border=\"1\" class=\"dataframe\">\n",
       "  <thead>\n",
       "    <tr style=\"text-align: right;\">\n",
       "      <th></th>\n",
       "      <th>title</th>\n",
       "      <th>price</th>\n",
       "      <th>info_features</th>\n",
       "      <th>comment</th>\n",
       "      <th>details</th>\n",
       "    </tr>\n",
       "  </thead>\n",
       "  <tbody>\n",
       "    <tr>\n",
       "      <th>0</th>\n",
       "      <td>Piso en venta en Palomeras Bajas\\nPuente de Va...</td>\n",
       "      <td>61.000 €</td>\n",
       "      <td>86 m²\\n3 hab.\\nPlanta -1 exterior sin ascensor</td>\n",
       "      <td>VENTA DE LA NUDA PROPIEDAD, SOLO PARA INVERSOR...</td>\n",
       "      <td>Características básicas\\n86 m² construidos, 81...</td>\n",
       "    </tr>\n",
       "    <tr>\n",
       "      <th>1</th>\n",
       "      <td>Piso en venta en calle de Josué Lillo s/n\\nSan...</td>\n",
       "      <td>112.000 €</td>\n",
       "      <td>86 m²\\n3 hab.\\nPlanta 1ª sin ascensor</td>\n",
       "      <td>Piso ocupado por persona sin justo título. Est...</td>\n",
       "      <td>Características básicas\\n86 m² construidos, 75...</td>\n",
       "    </tr>\n",
       "    <tr>\n",
       "      <th>2</th>\n",
       "      <td>Piso en venta en avenida Palomeras, 9\\nPalomer...</td>\n",
       "      <td>112.100 €</td>\n",
       "      <td>110 m²\\n2 hab.\\nPlanta 1ª exterior sin ascensor</td>\n",
       "      <td>Edificio situado en la ciudad de Madrid, provi...</td>\n",
       "      <td>Características básicas\\n110 m² construidos\\n2...</td>\n",
       "    </tr>\n",
       "    <tr>\n",
       "      <th>3</th>\n",
       "      <td>Piso en venta en calle de Peña Redonda\\nPalome...</td>\n",
       "      <td>119.000 €</td>\n",
       "      <td>91 m²\\n3 hab.\\nBajo exterior sin ascensor</td>\n",
       "      <td>SERVICHECK INMOBILIARIA VENDE PISO DE 3 HABITA...</td>\n",
       "      <td>Características básicas\\n91 m² construidos, 80...</td>\n",
       "    </tr>\n",
       "    <tr>\n",
       "      <th>4</th>\n",
       "      <td>Piso en venta en avenida de San Diego\\nSan Die...</td>\n",
       "      <td>120.000 €</td>\n",
       "      <td>87 m²\\n3 hab.\\nPlanta 1ª exterior sin ascensor</td>\n",
       "      <td>Vivienda situada en 1ªplanta, contamos con 87m...</td>\n",
       "      <td>Características básicas\\n87 m² construidos, 71...</td>\n",
       "    </tr>\n",
       "  </tbody>\n",
       "</table>\n",
       "</div>"
      ],
      "text/plain": [
       "                                               title      price  \\\n",
       "0  Piso en venta en Palomeras Bajas\\nPuente de Va...   61.000 €   \n",
       "1  Piso en venta en calle de Josué Lillo s/n\\nSan...  112.000 €   \n",
       "2  Piso en venta en avenida Palomeras, 9\\nPalomer...  112.100 €   \n",
       "3  Piso en venta en calle de Peña Redonda\\nPalome...  119.000 €   \n",
       "4  Piso en venta en avenida de San Diego\\nSan Die...  120.000 €   \n",
       "\n",
       "                                     info_features  \\\n",
       "0   86 m²\\n3 hab.\\nPlanta -1 exterior sin ascensor   \n",
       "1            86 m²\\n3 hab.\\nPlanta 1ª sin ascensor   \n",
       "2  110 m²\\n2 hab.\\nPlanta 1ª exterior sin ascensor   \n",
       "3        91 m²\\n3 hab.\\nBajo exterior sin ascensor   \n",
       "4   87 m²\\n3 hab.\\nPlanta 1ª exterior sin ascensor   \n",
       "\n",
       "                                             comment  \\\n",
       "0  VENTA DE LA NUDA PROPIEDAD, SOLO PARA INVERSOR...   \n",
       "1  Piso ocupado por persona sin justo título. Est...   \n",
       "2  Edificio situado en la ciudad de Madrid, provi...   \n",
       "3  SERVICHECK INMOBILIARIA VENDE PISO DE 3 HABITA...   \n",
       "4  Vivienda situada en 1ªplanta, contamos con 87m...   \n",
       "\n",
       "                                             details  \n",
       "0  Características básicas\\n86 m² construidos, 81...  \n",
       "1  Características básicas\\n86 m² construidos, 75...  \n",
       "2  Características básicas\\n110 m² construidos\\n2...  \n",
       "3  Características básicas\\n91 m² construidos, 80...  \n",
       "4  Características básicas\\n87 m² construidos, 71...  "
      ]
     },
     "execution_count": 9,
     "metadata": {},
     "output_type": "execute_result"
    }
   ],
   "source": [
    "df.head()"
   ]
  },
  {
   "cell_type": "code",
   "execution_count": 10,
   "id": "3cdfe13d",
   "metadata": {},
   "outputs": [],
   "source": [
    "def symbol_remover(col, symbollist, num = True):\n",
    "    \"\"\"\n",
    "    Esta funcion sirve para formatear columnas numericas que incluyen simbolos\n",
    "    \n",
    "    Input: \n",
    "    col : columna a formatear\n",
    "    symbollist : lista de simbolos a eliminar\n",
    "    \n",
    "    Output: columna convertida en numerica libre de simbolos\n",
    "    \"\"\"\n",
    "    \n",
    "    for s in symbollist:\n",
    "        col = col.str.replace(s, '')\n",
    "    if num == True: \n",
    "        col = col.astype(float)\n",
    "    \n",
    "    return col"
   ]
  },
  {
   "cell_type": "code",
   "execution_count": 11,
   "id": "8ef805e5",
   "metadata": {},
   "outputs": [],
   "source": [
    "df[\"info_features\"] = df[\"info_features\"].str.split('\\n')\n",
    "df[\"details\"] = df[\"details\"].str.split('\\n')\n"
   ]
  },
  {
   "cell_type": "code",
   "execution_count": 12,
   "id": "1196d440",
   "metadata": {},
   "outputs": [],
   "source": [
    "df[\"price\"] = symbol_remover(df[\"price\"], [\".\",\"€\"])"
   ]
  },
  {
   "cell_type": "code",
   "execution_count": 13,
   "id": "9923f2f6",
   "metadata": {},
   "outputs": [
    {
     "data": {
      "text/plain": [
       "0       [86 m², 3 hab., Planta -1 exterior sin ascensor]\n",
       "1                [86 m², 3 hab., Planta 1ª sin ascensor]\n",
       "2      [110 m², 2 hab., Planta 1ª exterior sin ascensor]\n",
       "3            [91 m², 3 hab., Bajo exterior sin ascensor]\n",
       "4       [87 m², 3 hab., Planta 1ª exterior sin ascensor]\n",
       "                             ...                        \n",
       "230    [104 m², 3 hab., Entreplanta exterior con asce...\n",
       "231    [106 m², 3 hab., Planta 9ª exterior con ascensor]\n",
       "232    [Obra nueva, 91 m², 3 hab., exterior con ascen...\n",
       "233    [Obra nueva, 92 m², 3 hab., exterior con ascen...\n",
       "234    [117 m², 3 hab., Planta 4ª exterior con ascensor]\n",
       "Name: info_features, Length: 235, dtype: object"
      ]
     },
     "execution_count": 13,
     "metadata": {},
     "output_type": "execute_result"
    }
   ],
   "source": [
    "df[\"info_features\"]"
   ]
  },
  {
   "cell_type": "code",
   "execution_count": 7,
   "id": "ada95f34",
   "metadata": {},
   "outputs": [
    {
     "ename": "ValueError",
     "evalue": "could not convert string to float: 'Obra nueva terminada'",
     "output_type": "error",
     "traceback": [
      "\u001b[0;31m---------------------------------------------------------------------------\u001b[0m",
      "\u001b[0;31mValueError\u001b[0m                                Traceback (most recent call last)",
      "Input \u001b[0;32mIn [7]\u001b[0m, in \u001b[0;36m<cell line: 2>\u001b[0;34m()\u001b[0m\n\u001b[1;32m      1\u001b[0m df[\u001b[38;5;124m\"\u001b[39m\u001b[38;5;124mm2\u001b[39m\u001b[38;5;124m\"\u001b[39m] \u001b[38;5;241m=\u001b[39m df[\u001b[38;5;124m\"\u001b[39m\u001b[38;5;124minfo_features\u001b[39m\u001b[38;5;124m\"\u001b[39m]\u001b[38;5;241m.\u001b[39mstr[\u001b[38;5;241m0\u001b[39m]\n\u001b[0;32m----> 2\u001b[0m df[\u001b[38;5;124m\"\u001b[39m\u001b[38;5;124mm2\u001b[39m\u001b[38;5;124m\"\u001b[39m] \u001b[38;5;241m=\u001b[39m \u001b[43msymbol_remover\u001b[49m\u001b[43m(\u001b[49m\u001b[43mdf\u001b[49m\u001b[43m[\u001b[49m\u001b[38;5;124;43m\"\u001b[39;49m\u001b[38;5;124;43mm2\u001b[39;49m\u001b[38;5;124;43m\"\u001b[39;49m\u001b[43m]\u001b[49m\u001b[43m,\u001b[49m\u001b[43m \u001b[49m\u001b[43m[\u001b[49m\u001b[38;5;124;43m\"\u001b[39;49m\u001b[38;5;124;43m m²\u001b[39;49m\u001b[38;5;124;43m\"\u001b[39;49m\u001b[43m]\u001b[49m\u001b[43m)\u001b[49m\n\u001b[1;32m      3\u001b[0m df[\u001b[38;5;124m\"\u001b[39m\u001b[38;5;124minfo_features\u001b[39m\u001b[38;5;124m\"\u001b[39m]\u001b[38;5;241m=\u001b[39mdf[\u001b[38;5;124m\"\u001b[39m\u001b[38;5;124minfo_features\u001b[39m\u001b[38;5;124m\"\u001b[39m]\u001b[38;5;241m.\u001b[39mstr[\u001b[38;5;241m1\u001b[39m:]\n",
      "Input \u001b[0;32mIn [4]\u001b[0m, in \u001b[0;36msymbol_remover\u001b[0;34m(col, symbollist, num)\u001b[0m\n\u001b[1;32m     13\u001b[0m     col \u001b[38;5;241m=\u001b[39m col\u001b[38;5;241m.\u001b[39mstr\u001b[38;5;241m.\u001b[39mreplace(s, \u001b[38;5;124m'\u001b[39m\u001b[38;5;124m'\u001b[39m)\n\u001b[1;32m     14\u001b[0m \u001b[38;5;28;01mif\u001b[39;00m num \u001b[38;5;241m==\u001b[39m \u001b[38;5;28;01mTrue\u001b[39;00m: \n\u001b[0;32m---> 15\u001b[0m     col \u001b[38;5;241m=\u001b[39m \u001b[43mcol\u001b[49m\u001b[38;5;241;43m.\u001b[39;49m\u001b[43mastype\u001b[49m\u001b[43m(\u001b[49m\u001b[38;5;28;43mfloat\u001b[39;49m\u001b[43m)\u001b[49m\n\u001b[1;32m     17\u001b[0m \u001b[38;5;28;01mreturn\u001b[39;00m col\n",
      "File \u001b[0;32m~/opt/anaconda3/envs/AINE/lib/python3.9/site-packages/pandas/core/generic.py:5912\u001b[0m, in \u001b[0;36mNDFrame.astype\u001b[0;34m(self, dtype, copy, errors)\u001b[0m\n\u001b[1;32m   5905\u001b[0m     results \u001b[38;5;241m=\u001b[39m [\n\u001b[1;32m   5906\u001b[0m         \u001b[38;5;28mself\u001b[39m\u001b[38;5;241m.\u001b[39miloc[:, i]\u001b[38;5;241m.\u001b[39mastype(dtype, copy\u001b[38;5;241m=\u001b[39mcopy)\n\u001b[1;32m   5907\u001b[0m         \u001b[38;5;28;01mfor\u001b[39;00m i \u001b[38;5;129;01min\u001b[39;00m \u001b[38;5;28mrange\u001b[39m(\u001b[38;5;28mlen\u001b[39m(\u001b[38;5;28mself\u001b[39m\u001b[38;5;241m.\u001b[39mcolumns))\n\u001b[1;32m   5908\u001b[0m     ]\n\u001b[1;32m   5910\u001b[0m \u001b[38;5;28;01melse\u001b[39;00m:\n\u001b[1;32m   5911\u001b[0m     \u001b[38;5;66;03m# else, only a single dtype is given\u001b[39;00m\n\u001b[0;32m-> 5912\u001b[0m     new_data \u001b[38;5;241m=\u001b[39m \u001b[38;5;28;43mself\u001b[39;49m\u001b[38;5;241;43m.\u001b[39;49m\u001b[43m_mgr\u001b[49m\u001b[38;5;241;43m.\u001b[39;49m\u001b[43mastype\u001b[49m\u001b[43m(\u001b[49m\u001b[43mdtype\u001b[49m\u001b[38;5;241;43m=\u001b[39;49m\u001b[43mdtype\u001b[49m\u001b[43m,\u001b[49m\u001b[43m \u001b[49m\u001b[43mcopy\u001b[49m\u001b[38;5;241;43m=\u001b[39;49m\u001b[43mcopy\u001b[49m\u001b[43m,\u001b[49m\u001b[43m \u001b[49m\u001b[43merrors\u001b[49m\u001b[38;5;241;43m=\u001b[39;49m\u001b[43merrors\u001b[49m\u001b[43m)\u001b[49m\n\u001b[1;32m   5913\u001b[0m     \u001b[38;5;28;01mreturn\u001b[39;00m \u001b[38;5;28mself\u001b[39m\u001b[38;5;241m.\u001b[39m_constructor(new_data)\u001b[38;5;241m.\u001b[39m__finalize__(\u001b[38;5;28mself\u001b[39m, method\u001b[38;5;241m=\u001b[39m\u001b[38;5;124m\"\u001b[39m\u001b[38;5;124mastype\u001b[39m\u001b[38;5;124m\"\u001b[39m)\n\u001b[1;32m   5915\u001b[0m \u001b[38;5;66;03m# GH 33113: handle empty frame or series\u001b[39;00m\n",
      "File \u001b[0;32m~/opt/anaconda3/envs/AINE/lib/python3.9/site-packages/pandas/core/internals/managers.py:419\u001b[0m, in \u001b[0;36mBaseBlockManager.astype\u001b[0;34m(self, dtype, copy, errors)\u001b[0m\n\u001b[1;32m    418\u001b[0m \u001b[38;5;28;01mdef\u001b[39;00m \u001b[38;5;21mastype\u001b[39m(\u001b[38;5;28mself\u001b[39m: T, dtype, copy: \u001b[38;5;28mbool\u001b[39m \u001b[38;5;241m=\u001b[39m \u001b[38;5;28;01mFalse\u001b[39;00m, errors: \u001b[38;5;28mstr\u001b[39m \u001b[38;5;241m=\u001b[39m \u001b[38;5;124m\"\u001b[39m\u001b[38;5;124mraise\u001b[39m\u001b[38;5;124m\"\u001b[39m) \u001b[38;5;241m-\u001b[39m\u001b[38;5;241m>\u001b[39m T:\n\u001b[0;32m--> 419\u001b[0m     \u001b[38;5;28;01mreturn\u001b[39;00m \u001b[38;5;28;43mself\u001b[39;49m\u001b[38;5;241;43m.\u001b[39;49m\u001b[43mapply\u001b[49m\u001b[43m(\u001b[49m\u001b[38;5;124;43m\"\u001b[39;49m\u001b[38;5;124;43mastype\u001b[39;49m\u001b[38;5;124;43m\"\u001b[39;49m\u001b[43m,\u001b[49m\u001b[43m \u001b[49m\u001b[43mdtype\u001b[49m\u001b[38;5;241;43m=\u001b[39;49m\u001b[43mdtype\u001b[49m\u001b[43m,\u001b[49m\u001b[43m \u001b[49m\u001b[43mcopy\u001b[49m\u001b[38;5;241;43m=\u001b[39;49m\u001b[43mcopy\u001b[49m\u001b[43m,\u001b[49m\u001b[43m \u001b[49m\u001b[43merrors\u001b[49m\u001b[38;5;241;43m=\u001b[39;49m\u001b[43merrors\u001b[49m\u001b[43m)\u001b[49m\n",
      "File \u001b[0;32m~/opt/anaconda3/envs/AINE/lib/python3.9/site-packages/pandas/core/internals/managers.py:304\u001b[0m, in \u001b[0;36mBaseBlockManager.apply\u001b[0;34m(self, f, align_keys, ignore_failures, **kwargs)\u001b[0m\n\u001b[1;32m    302\u001b[0m         applied \u001b[38;5;241m=\u001b[39m b\u001b[38;5;241m.\u001b[39mapply(f, \u001b[38;5;241m*\u001b[39m\u001b[38;5;241m*\u001b[39mkwargs)\n\u001b[1;32m    303\u001b[0m     \u001b[38;5;28;01melse\u001b[39;00m:\n\u001b[0;32m--> 304\u001b[0m         applied \u001b[38;5;241m=\u001b[39m \u001b[38;5;28;43mgetattr\u001b[39;49m\u001b[43m(\u001b[49m\u001b[43mb\u001b[49m\u001b[43m,\u001b[49m\u001b[43m \u001b[49m\u001b[43mf\u001b[49m\u001b[43m)\u001b[49m\u001b[43m(\u001b[49m\u001b[38;5;241;43m*\u001b[39;49m\u001b[38;5;241;43m*\u001b[39;49m\u001b[43mkwargs\u001b[49m\u001b[43m)\u001b[49m\n\u001b[1;32m    305\u001b[0m \u001b[38;5;28;01mexcept\u001b[39;00m (\u001b[38;5;167;01mTypeError\u001b[39;00m, \u001b[38;5;167;01mNotImplementedError\u001b[39;00m):\n\u001b[1;32m    306\u001b[0m     \u001b[38;5;28;01mif\u001b[39;00m \u001b[38;5;129;01mnot\u001b[39;00m ignore_failures:\n",
      "File \u001b[0;32m~/opt/anaconda3/envs/AINE/lib/python3.9/site-packages/pandas/core/internals/blocks.py:580\u001b[0m, in \u001b[0;36mBlock.astype\u001b[0;34m(self, dtype, copy, errors)\u001b[0m\n\u001b[1;32m    562\u001b[0m \u001b[38;5;124;03m\"\"\"\u001b[39;00m\n\u001b[1;32m    563\u001b[0m \u001b[38;5;124;03mCoerce to the new dtype.\u001b[39;00m\n\u001b[1;32m    564\u001b[0m \n\u001b[0;32m   (...)\u001b[0m\n\u001b[1;32m    576\u001b[0m \u001b[38;5;124;03mBlock\u001b[39;00m\n\u001b[1;32m    577\u001b[0m \u001b[38;5;124;03m\"\"\"\u001b[39;00m\n\u001b[1;32m    578\u001b[0m values \u001b[38;5;241m=\u001b[39m \u001b[38;5;28mself\u001b[39m\u001b[38;5;241m.\u001b[39mvalues\n\u001b[0;32m--> 580\u001b[0m new_values \u001b[38;5;241m=\u001b[39m \u001b[43mastype_array_safe\u001b[49m\u001b[43m(\u001b[49m\u001b[43mvalues\u001b[49m\u001b[43m,\u001b[49m\u001b[43m \u001b[49m\u001b[43mdtype\u001b[49m\u001b[43m,\u001b[49m\u001b[43m \u001b[49m\u001b[43mcopy\u001b[49m\u001b[38;5;241;43m=\u001b[39;49m\u001b[43mcopy\u001b[49m\u001b[43m,\u001b[49m\u001b[43m \u001b[49m\u001b[43merrors\u001b[49m\u001b[38;5;241;43m=\u001b[39;49m\u001b[43merrors\u001b[49m\u001b[43m)\u001b[49m\n\u001b[1;32m    582\u001b[0m new_values \u001b[38;5;241m=\u001b[39m maybe_coerce_values(new_values)\n\u001b[1;32m    583\u001b[0m newb \u001b[38;5;241m=\u001b[39m \u001b[38;5;28mself\u001b[39m\u001b[38;5;241m.\u001b[39mmake_block(new_values)\n",
      "File \u001b[0;32m~/opt/anaconda3/envs/AINE/lib/python3.9/site-packages/pandas/core/dtypes/cast.py:1292\u001b[0m, in \u001b[0;36mastype_array_safe\u001b[0;34m(values, dtype, copy, errors)\u001b[0m\n\u001b[1;32m   1289\u001b[0m     dtype \u001b[38;5;241m=\u001b[39m dtype\u001b[38;5;241m.\u001b[39mnumpy_dtype\n\u001b[1;32m   1291\u001b[0m \u001b[38;5;28;01mtry\u001b[39;00m:\n\u001b[0;32m-> 1292\u001b[0m     new_values \u001b[38;5;241m=\u001b[39m \u001b[43mastype_array\u001b[49m\u001b[43m(\u001b[49m\u001b[43mvalues\u001b[49m\u001b[43m,\u001b[49m\u001b[43m \u001b[49m\u001b[43mdtype\u001b[49m\u001b[43m,\u001b[49m\u001b[43m \u001b[49m\u001b[43mcopy\u001b[49m\u001b[38;5;241;43m=\u001b[39;49m\u001b[43mcopy\u001b[49m\u001b[43m)\u001b[49m\n\u001b[1;32m   1293\u001b[0m \u001b[38;5;28;01mexcept\u001b[39;00m (\u001b[38;5;167;01mValueError\u001b[39;00m, \u001b[38;5;167;01mTypeError\u001b[39;00m):\n\u001b[1;32m   1294\u001b[0m     \u001b[38;5;66;03m# e.g. astype_nansafe can fail on object-dtype of strings\u001b[39;00m\n\u001b[1;32m   1295\u001b[0m     \u001b[38;5;66;03m#  trying to convert to float\u001b[39;00m\n\u001b[1;32m   1296\u001b[0m     \u001b[38;5;28;01mif\u001b[39;00m errors \u001b[38;5;241m==\u001b[39m \u001b[38;5;124m\"\u001b[39m\u001b[38;5;124mignore\u001b[39m\u001b[38;5;124m\"\u001b[39m:\n",
      "File \u001b[0;32m~/opt/anaconda3/envs/AINE/lib/python3.9/site-packages/pandas/core/dtypes/cast.py:1237\u001b[0m, in \u001b[0;36mastype_array\u001b[0;34m(values, dtype, copy)\u001b[0m\n\u001b[1;32m   1234\u001b[0m     values \u001b[38;5;241m=\u001b[39m values\u001b[38;5;241m.\u001b[39mastype(dtype, copy\u001b[38;5;241m=\u001b[39mcopy)\n\u001b[1;32m   1236\u001b[0m \u001b[38;5;28;01melse\u001b[39;00m:\n\u001b[0;32m-> 1237\u001b[0m     values \u001b[38;5;241m=\u001b[39m \u001b[43mastype_nansafe\u001b[49m\u001b[43m(\u001b[49m\u001b[43mvalues\u001b[49m\u001b[43m,\u001b[49m\u001b[43m \u001b[49m\u001b[43mdtype\u001b[49m\u001b[43m,\u001b[49m\u001b[43m \u001b[49m\u001b[43mcopy\u001b[49m\u001b[38;5;241;43m=\u001b[39;49m\u001b[43mcopy\u001b[49m\u001b[43m)\u001b[49m\n\u001b[1;32m   1239\u001b[0m \u001b[38;5;66;03m# in pandas we don't store numpy str dtypes, so convert to object\u001b[39;00m\n\u001b[1;32m   1240\u001b[0m \u001b[38;5;28;01mif\u001b[39;00m \u001b[38;5;28misinstance\u001b[39m(dtype, np\u001b[38;5;241m.\u001b[39mdtype) \u001b[38;5;129;01mand\u001b[39;00m \u001b[38;5;28missubclass\u001b[39m(values\u001b[38;5;241m.\u001b[39mdtype\u001b[38;5;241m.\u001b[39mtype, \u001b[38;5;28mstr\u001b[39m):\n",
      "File \u001b[0;32m~/opt/anaconda3/envs/AINE/lib/python3.9/site-packages/pandas/core/dtypes/cast.py:1181\u001b[0m, in \u001b[0;36mastype_nansafe\u001b[0;34m(arr, dtype, copy, skipna)\u001b[0m\n\u001b[1;32m   1177\u001b[0m     \u001b[38;5;28;01mraise\u001b[39;00m \u001b[38;5;167;01mValueError\u001b[39;00m(msg)\n\u001b[1;32m   1179\u001b[0m \u001b[38;5;28;01mif\u001b[39;00m copy \u001b[38;5;129;01mor\u001b[39;00m is_object_dtype(arr\u001b[38;5;241m.\u001b[39mdtype) \u001b[38;5;129;01mor\u001b[39;00m is_object_dtype(dtype):\n\u001b[1;32m   1180\u001b[0m     \u001b[38;5;66;03m# Explicit copy, or required since NumPy can't view from / to object.\u001b[39;00m\n\u001b[0;32m-> 1181\u001b[0m     \u001b[38;5;28;01mreturn\u001b[39;00m \u001b[43marr\u001b[49m\u001b[38;5;241;43m.\u001b[39;49m\u001b[43mastype\u001b[49m\u001b[43m(\u001b[49m\u001b[43mdtype\u001b[49m\u001b[43m,\u001b[49m\u001b[43m \u001b[49m\u001b[43mcopy\u001b[49m\u001b[38;5;241;43m=\u001b[39;49m\u001b[38;5;28;43;01mTrue\u001b[39;49;00m\u001b[43m)\u001b[49m\n\u001b[1;32m   1183\u001b[0m \u001b[38;5;28;01mreturn\u001b[39;00m arr\u001b[38;5;241m.\u001b[39mastype(dtype, copy\u001b[38;5;241m=\u001b[39mcopy)\n",
      "\u001b[0;31mValueError\u001b[0m: could not convert string to float: 'Obra nueva terminada'"
     ]
    }
   ],
   "source": [
    "df[\"m2\"] = df[\"info_features\"].str[0]\n",
    "df[\"m2\"] = symbol_remover(df[\"m2\"], [\" m²\"])\n",
    "df[\"info_features\"]=df[\"info_features\"].str[1:]"
   ]
  },
  {
   "cell_type": "code",
   "execution_count": 8,
   "id": "f3166178",
   "metadata": {},
   "outputs": [],
   "source": [
    "blank = []\n",
    "for i in range(len(df)):\n",
    "        if df[\"info_features\"][i][0].endswith(\".\"):\n",
    "            blank.append(df[\"info_features\"][i][0])\n",
    "            del df[\"info_features\"][i][0]\n",
    "        else: blank.append(np.nan)\n",
    "\n",
    "df[\"hab\"] = blank\n",
    "df[\"hab\"] = symbol_remover(df[\"hab\"], [\" hab.\"])"
   ]
  },
  {
   "cell_type": "code",
   "execution_count": 9,
   "id": "28b607e3",
   "metadata": {},
   "outputs": [],
   "source": [
    "for i in range(len(df)):\n",
    "    df[\"info_features\"][i][0] = df[\"info_features\"][i][0].replace(\"Semi-sótano \", \"Planta -1 \")\n",
    "    df[\"info_features\"][i][0] = df[\"info_features\"][i][0].replace(\"Bajo \", \"Planta 0 \")\n",
    "    df[\"info_features\"][i][0] = df[\"info_features\"][i][0].replace(\"Entreplanta \", \"Planta 0 \")\n",
    "    if not df[\"info_features\"][i][0].startswith(\"Planta \"):\n",
    "        df[\"info_features\"][i][0] = df[\"info_features\"][i][0].replace(\"exterior \", \"Planta NA exterior \")"
   ]
  },
  {
   "cell_type": "code",
   "execution_count": 10,
   "id": "58c1d2bc",
   "metadata": {},
   "outputs": [],
   "source": [
    "df[\"planta\"] = df[\"info_features\"].str[0]\n",
    "df[\"planta\"] = symbol_remover(df[\"planta\"], [\"Planta \", \" ascensor\", \"ª\"], num=False)\n",
    "df[\"info_features\"]=df[\"info_features\"].str[1:]"
   ]
  },
  {
   "cell_type": "code",
   "execution_count": 11,
   "id": "b0ec9698",
   "metadata": {},
   "outputs": [],
   "source": [
    "df[\"exterior\"] = df[\"planta\"].str.contains('exterior')\n",
    "df[\"ascensor\"] = df[\"planta\"].str.contains('con')\n",
    "df[\"planta\"] = df[\"planta\"].str[:2]"
   ]
  },
  {
   "cell_type": "code",
   "execution_count": 12,
   "id": "1fcd0e68",
   "metadata": {},
   "outputs": [],
   "source": [
    "blank = []\n",
    "for i in range(len(df)):\n",
    "    \n",
    "    if len(df[\"info_features\"][i]) == 0:\n",
    "        blank.append(False)\n",
    "            \n",
    "    else: \n",
    "        if df[\"info_features\"][i][0].startswith(\"G\"):\n",
    "                blank.append(True)\n",
    "                del df[\"info_features\"][i][0]\n",
    "        else: blank.append(False)\n",
    "\n",
    "df[\"garaje\"] = blank\n"
   ]
  },
  {
   "cell_type": "code",
   "execution_count": 13,
   "id": "27b6ee45",
   "metadata": {},
   "outputs": [],
   "source": [
    "blank = []\n",
    "for i in range(len(df)):\n",
    "    if not len(df[\"info_features\"][i]) == 0:\n",
    "            if df[\"info_features\"][i][0].startswith(\"Lu\"):\n",
    "                blank.append(True)\n",
    "                del df[\"info_features\"][i][0]\n",
    "            else: blank.append(False)\n",
    "    else: blank.append(False)\n",
    "\n",
    "df[\"lujo\"] = blank\n"
   ]
  },
  {
   "cell_type": "code",
   "execution_count": 14,
   "id": "2da316b1",
   "metadata": {},
   "outputs": [],
   "source": [
    "blank = []\n",
    "for i in range(len(df)):\n",
    "    if not len(df[\"info_features\"][i]) == 0:\n",
    "            if df[\"info_features\"][i][0].startswith(\"Lo\"):\n",
    "                blank.append(True)\n",
    "                del df[\"info_features\"][i][0]\n",
    "            else: blank.append(False)\n",
    "    else: blank.append(False)\n",
    "\n",
    "df[\"loft\"] = blank\n"
   ]
  },
  {
   "cell_type": "code",
   "execution_count": 15,
   "id": "73f821fb",
   "metadata": {},
   "outputs": [],
   "source": [
    "del df[\"info_features\"]"
   ]
  },
  {
   "cell_type": "code",
   "execution_count": 18,
   "id": "cf0fc226",
   "metadata": {},
   "outputs": [
    {
     "data": {
      "text/html": [
       "<div>\n",
       "<style scoped>\n",
       "    .dataframe tbody tr th:only-of-type {\n",
       "        vertical-align: middle;\n",
       "    }\n",
       "\n",
       "    .dataframe tbody tr th {\n",
       "        vertical-align: top;\n",
       "    }\n",
       "\n",
       "    .dataframe thead th {\n",
       "        text-align: right;\n",
       "    }\n",
       "</style>\n",
       "<table border=\"1\" class=\"dataframe\">\n",
       "  <thead>\n",
       "    <tr style=\"text-align: right;\">\n",
       "      <th></th>\n",
       "      <th>title</th>\n",
       "      <th>price</th>\n",
       "      <th>comment</th>\n",
       "      <th>details</th>\n",
       "      <th>m2</th>\n",
       "      <th>hab</th>\n",
       "      <th>planta</th>\n",
       "      <th>exterior</th>\n",
       "      <th>ascensor</th>\n",
       "      <th>garaje</th>\n",
       "      <th>lujo</th>\n",
       "      <th>loft</th>\n",
       "    </tr>\n",
       "  </thead>\n",
       "  <tbody>\n",
       "    <tr>\n",
       "      <th>0</th>\n",
       "      <td>Piso en venta en calle de Don Ramón de la Cruz...</td>\n",
       "      <td>398000.0</td>\n",
       "      <td>¡Fantástica inversión! Descuento de aproximada...</td>\n",
       "      <td>[Características básicas, 109 m² construidos, ...</td>\n",
       "      <td>109.0</td>\n",
       "      <td>3.0</td>\n",
       "      <td>4</td>\n",
       "      <td>False</td>\n",
       "      <td>True</td>\n",
       "      <td>False</td>\n",
       "      <td>False</td>\n",
       "      <td>False</td>\n",
       "    </tr>\n",
       "    <tr>\n",
       "      <th>1</th>\n",
       "      <td>Dúplex en venta en Recoletos\\nBarrio de Salama...</td>\n",
       "      <td>745000.0</td>\n",
       "      <td>Excelente propiedad en Recoletos\\nEngel &amp; Völk...</td>\n",
       "      <td>[Características básicas, 115 m² construidos, ...</td>\n",
       "      <td>115.0</td>\n",
       "      <td>2.0</td>\n",
       "      <td>1</td>\n",
       "      <td>True</td>\n",
       "      <td>True</td>\n",
       "      <td>False</td>\n",
       "      <td>False</td>\n",
       "      <td>False</td>\n",
       "    </tr>\n",
       "    <tr>\n",
       "      <th>2</th>\n",
       "      <td>Piso en venta en Castellana\\nBarrio de Salaman...</td>\n",
       "      <td>850000.0</td>\n",
       "      <td>Propiedad en la mejor zona de Castellana\\nEnge...</td>\n",
       "      <td>[Características básicas, 161 m² construidos, ...</td>\n",
       "      <td>161.0</td>\n",
       "      <td>3.0</td>\n",
       "      <td>1</td>\n",
       "      <td>False</td>\n",
       "      <td>True</td>\n",
       "      <td>False</td>\n",
       "      <td>False</td>\n",
       "      <td>False</td>\n",
       "    </tr>\n",
       "    <tr>\n",
       "      <th>3</th>\n",
       "      <td>Piso en venta en General Pardiñas\\nGoya, Madri...</td>\n",
       "      <td>850000.0</td>\n",
       "      <td>Precioso piso exterior, muy luminoso, en barri...</td>\n",
       "      <td>[Características básicas, 112 m² construidos, ...</td>\n",
       "      <td>112.0</td>\n",
       "      <td>2.0</td>\n",
       "      <td>5</td>\n",
       "      <td>True</td>\n",
       "      <td>True</td>\n",
       "      <td>False</td>\n",
       "      <td>False</td>\n",
       "      <td>False</td>\n",
       "    </tr>\n",
       "    <tr>\n",
       "      <th>4</th>\n",
       "      <td>Piso en venta en calle de Lagasca\\nRecoletos, ...</td>\n",
       "      <td>890000.0</td>\n",
       "      <td>Grupo Marsapi vende en EXCLUSIVA este increíbl...</td>\n",
       "      <td>[Características básicas, 134 m² construidos, ...</td>\n",
       "      <td>134.0</td>\n",
       "      <td>2.0</td>\n",
       "      <td>-1</td>\n",
       "      <td>True</td>\n",
       "      <td>True</td>\n",
       "      <td>False</td>\n",
       "      <td>False</td>\n",
       "      <td>False</td>\n",
       "    </tr>\n",
       "  </tbody>\n",
       "</table>\n",
       "</div>"
      ],
      "text/plain": [
       "                                               title     price  \\\n",
       "0  Piso en venta en calle de Don Ramón de la Cruz...  398000.0   \n",
       "1  Dúplex en venta en Recoletos\\nBarrio de Salama...  745000.0   \n",
       "2  Piso en venta en Castellana\\nBarrio de Salaman...  850000.0   \n",
       "3  Piso en venta en General Pardiñas\\nGoya, Madri...  850000.0   \n",
       "4  Piso en venta en calle de Lagasca\\nRecoletos, ...  890000.0   \n",
       "\n",
       "                                             comment  \\\n",
       "0  ¡Fantástica inversión! Descuento de aproximada...   \n",
       "1  Excelente propiedad en Recoletos\\nEngel & Völk...   \n",
       "2  Propiedad en la mejor zona de Castellana\\nEnge...   \n",
       "3  Precioso piso exterior, muy luminoso, en barri...   \n",
       "4  Grupo Marsapi vende en EXCLUSIVA este increíbl...   \n",
       "\n",
       "                                             details     m2  hab planta  \\\n",
       "0  [Características básicas, 109 m² construidos, ...  109.0  3.0     4    \n",
       "1  [Características básicas, 115 m² construidos, ...  115.0  2.0     1    \n",
       "2  [Características básicas, 161 m² construidos, ...  161.0  3.0     1    \n",
       "3  [Características básicas, 112 m² construidos, ...  112.0  2.0     5    \n",
       "4  [Características básicas, 134 m² construidos, ...  134.0  2.0     -1   \n",
       "\n",
       "   exterior  ascensor  garaje   lujo   loft  \n",
       "0     False      True   False  False  False  \n",
       "1      True      True   False  False  False  \n",
       "2     False      True   False  False  False  \n",
       "3      True      True   False  False  False  \n",
       "4      True      True   False  False  False  "
      ]
     },
     "execution_count": 18,
     "metadata": {},
     "output_type": "execute_result"
    }
   ],
   "source": [
    "df.head()"
   ]
  },
  {
   "cell_type": "code",
   "execution_count": null,
   "id": "63646bb4",
   "metadata": {},
   "outputs": [],
   "source": []
  }
 ],
 "metadata": {
  "kernelspec": {
   "display_name": "Python 3 (ipykernel)",
   "language": "python",
   "name": "python3"
  },
  "language_info": {
   "codemirror_mode": {
    "name": "ipython",
    "version": 3
   },
   "file_extension": ".py",
   "mimetype": "text/x-python",
   "name": "python",
   "nbconvert_exporter": "python",
   "pygments_lexer": "ipython3",
   "version": "3.9.13"
  }
 },
 "nbformat": 4,
 "nbformat_minor": 5
}
