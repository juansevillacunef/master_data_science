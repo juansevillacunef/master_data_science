{
 "cells": [
  {
   "cell_type": "code",
   "execution_count": 73,
   "id": "f8256e3a",
   "metadata": {},
   "outputs": [],
   "source": [
    "import spacy\n",
    "from spacy import displacy\n",
    "import pandas as pd\n",
    "import numpy as np\n",
    "from sklearn.feature_extraction.text import TfidfVectorizer\n",
    "\n",
    "import warnings\n",
    "warnings.filterwarnings(\"ignore\")"
   ]
  },
  {
   "cell_type": "code",
   "execution_count": 74,
   "id": "b0172955",
   "metadata": {},
   "outputs": [],
   "source": [
    "path_JuanSe = \"/Users/juan/Documents/Juan's MacBook Pro/CUNEF/Quinto/Informacion no Estructurada/Practica Final/Data_pacifico_vallecas_info_no_estruct.xlsx\"\n",
    "\n",
    "df = pd.read_excel(path_JuanSe)"
   ]
  },
  {
   "cell_type": "code",
   "execution_count": 75,
   "id": "f1b427bb",
   "metadata": {},
   "outputs": [
    {
     "data": {
      "text/html": [
       "<div>\n",
       "<style scoped>\n",
       "    .dataframe tbody tr th:only-of-type {\n",
       "        vertical-align: middle;\n",
       "    }\n",
       "\n",
       "    .dataframe tbody tr th {\n",
       "        vertical-align: top;\n",
       "    }\n",
       "\n",
       "    .dataframe thead th {\n",
       "        text-align: right;\n",
       "    }\n",
       "</style>\n",
       "<table border=\"1\" class=\"dataframe\">\n",
       "  <thead>\n",
       "    <tr style=\"text-align: right;\">\n",
       "      <th></th>\n",
       "      <th>title</th>\n",
       "      <th>price</th>\n",
       "      <th>info_features</th>\n",
       "      <th>comment</th>\n",
       "      <th>details</th>\n",
       "    </tr>\n",
       "  </thead>\n",
       "  <tbody>\n",
       "    <tr>\n",
       "      <th>0</th>\n",
       "      <td>Piso en venta en Palomeras Bajas\\nPuente de Va...</td>\n",
       "      <td>61.000 €</td>\n",
       "      <td>86 m²\\n3 hab.\\nPlanta -1 exterior sin ascensor</td>\n",
       "      <td>VENTA DE LA NUDA PROPIEDAD, SOLO PARA INVERSOR...</td>\n",
       "      <td>Características básicas\\n86 m² construidos, 81...</td>\n",
       "    </tr>\n",
       "    <tr>\n",
       "      <th>1</th>\n",
       "      <td>Piso en venta en calle de Josué Lillo s/n\\nSan...</td>\n",
       "      <td>112.000 €</td>\n",
       "      <td>86 m²\\n3 hab.\\nPlanta 1ª sin ascensor</td>\n",
       "      <td>Piso ocupado por persona sin justo título. Est...</td>\n",
       "      <td>Características básicas\\n86 m² construidos, 75...</td>\n",
       "    </tr>\n",
       "    <tr>\n",
       "      <th>2</th>\n",
       "      <td>Piso en venta en avenida Palomeras, 9\\nPalomer...</td>\n",
       "      <td>112.100 €</td>\n",
       "      <td>110 m²\\n2 hab.\\nPlanta 1ª exterior sin ascensor</td>\n",
       "      <td>Edificio situado en la ciudad de Madrid, provi...</td>\n",
       "      <td>Características básicas\\n110 m² construidos\\n2...</td>\n",
       "    </tr>\n",
       "    <tr>\n",
       "      <th>3</th>\n",
       "      <td>Piso en venta en calle de Peña Redonda\\nPalome...</td>\n",
       "      <td>119.000 €</td>\n",
       "      <td>91 m²\\n3 hab.\\nBajo exterior sin ascensor</td>\n",
       "      <td>SERVICHECK INMOBILIARIA VENDE PISO DE 3 HABITA...</td>\n",
       "      <td>Características básicas\\n91 m² construidos, 80...</td>\n",
       "    </tr>\n",
       "    <tr>\n",
       "      <th>4</th>\n",
       "      <td>Piso en venta en avenida de San Diego\\nSan Die...</td>\n",
       "      <td>120.000 €</td>\n",
       "      <td>87 m²\\n3 hab.\\nPlanta 1ª exterior sin ascensor</td>\n",
       "      <td>Vivienda situada en 1ªplanta, contamos con 87m...</td>\n",
       "      <td>Características básicas\\n87 m² construidos, 71...</td>\n",
       "    </tr>\n",
       "  </tbody>\n",
       "</table>\n",
       "</div>"
      ],
      "text/plain": [
       "                                               title      price  \\\n",
       "0  Piso en venta en Palomeras Bajas\\nPuente de Va...   61.000 €   \n",
       "1  Piso en venta en calle de Josué Lillo s/n\\nSan...  112.000 €   \n",
       "2  Piso en venta en avenida Palomeras, 9\\nPalomer...  112.100 €   \n",
       "3  Piso en venta en calle de Peña Redonda\\nPalome...  119.000 €   \n",
       "4  Piso en venta en avenida de San Diego\\nSan Die...  120.000 €   \n",
       "\n",
       "                                     info_features  \\\n",
       "0   86 m²\\n3 hab.\\nPlanta -1 exterior sin ascensor   \n",
       "1            86 m²\\n3 hab.\\nPlanta 1ª sin ascensor   \n",
       "2  110 m²\\n2 hab.\\nPlanta 1ª exterior sin ascensor   \n",
       "3        91 m²\\n3 hab.\\nBajo exterior sin ascensor   \n",
       "4   87 m²\\n3 hab.\\nPlanta 1ª exterior sin ascensor   \n",
       "\n",
       "                                             comment  \\\n",
       "0  VENTA DE LA NUDA PROPIEDAD, SOLO PARA INVERSOR...   \n",
       "1  Piso ocupado por persona sin justo título. Est...   \n",
       "2  Edificio situado en la ciudad de Madrid, provi...   \n",
       "3  SERVICHECK INMOBILIARIA VENDE PISO DE 3 HABITA...   \n",
       "4  Vivienda situada en 1ªplanta, contamos con 87m...   \n",
       "\n",
       "                                             details  \n",
       "0  Características básicas\\n86 m² construidos, 81...  \n",
       "1  Características básicas\\n86 m² construidos, 75...  \n",
       "2  Características básicas\\n110 m² construidos\\n2...  \n",
       "3  Características básicas\\n91 m² construidos, 80...  \n",
       "4  Características básicas\\n87 m² construidos, 71...  "
      ]
     },
     "execution_count": 75,
     "metadata": {},
     "output_type": "execute_result"
    }
   ],
   "source": [
    "df.head()"
   ]
  },
  {
   "cell_type": "code",
   "execution_count": 76,
   "id": "3cdfe13d",
   "metadata": {},
   "outputs": [],
   "source": [
    "def symbol_remover(col, symbollist, num = True):\n",
    "    \"\"\"\n",
    "    Esta funcion sirve para formatear columnas numericas que incluyen simbolos\n",
    "    \n",
    "    Input: \n",
    "    col : columna a formatear\n",
    "    symbollist : lista de simbolos a eliminar\n",
    "    num : si la variable final se quiere convertir a numerica\n",
    "    \n",
    "    Output: columna con valores libre de simbolos y convertida en numerica si procede\n",
    "    \"\"\"\n",
    "    \n",
    "    for s in symbollist:\n",
    "        col = col.str.replace(s, '')\n",
    "    if num == True: \n",
    "        col = col.astype(float)\n",
    "    \n",
    "    return col"
   ]
  },
  {
   "cell_type": "code",
   "execution_count": 77,
   "id": "8ef805e5",
   "metadata": {},
   "outputs": [],
   "source": [
    "df[\"info_features\"] = df[\"info_features\"].str.split('\\n')\n",
    "df[\"details\"] = df[\"details\"].str.split('\\n')\n"
   ]
  },
  {
   "cell_type": "code",
   "execution_count": 78,
   "id": "1196d440",
   "metadata": {},
   "outputs": [],
   "source": [
    "df[\"price\"] = symbol_remover(df[\"price\"], [\".\",\"€\"])"
   ]
  },
  {
   "cell_type": "code",
   "execution_count": 79,
   "id": "58cf2a72",
   "metadata": {},
   "outputs": [],
   "source": [
    "for i in range(len(df)):\n",
    "    if not len(df[\"info_features\"][i]) == 0:\n",
    "            if df[\"info_features\"][i][0].startswith((\"Obra\",\"Urge\")):\n",
    "                del df[\"info_features\"][i][0]"
   ]
  },
  {
   "cell_type": "code",
   "execution_count": 82,
   "id": "81a707fd",
   "metadata": {},
   "outputs": [],
   "source": [
    "def feature_create(identifier, criteria = \"start\", value = \"bool\"):\n",
    "    \"\"\"\n",
    "    Esta funcion crea una columna con la informacion deseada de la columna info_features\n",
    "    \n",
    "    Imput:\n",
    "    identifier: en que string se basa para encontrar el dato\n",
    "    criteria: si el string lo busca al principio o al final del elemento\n",
    "    value: \"bool\"/\"value\" si se desea que el la funcion devuelva el valor encontrado \n",
    "            o un booleano si se encuentra el valor buscado\n",
    "            Por ejemplo en m2 busca el valor, mientras que para ascensor Bool de si hay en el piso.\n",
    "    \n",
    "    \"\"\"\n",
    "    blank = []\n",
    "\n",
    "    for i in range(len(df)):\n",
    "        if not len(df[\"info_features\"][i]) == 0:\n",
    "                if (criteria == \"start\" and df[\"info_features\"][i][0].startswith(identifier)) or \\\n",
    "                     (criteria == \"end\" and df[\"info_features\"][i][0].endswith(identifier)):\n",
    "                    if value == \"bool\":\n",
    "                        blank.append(True)\n",
    "                    if value == \"value\":\n",
    "                        blank.append(df[\"info_features\"][i][0])\n",
    "                    del df[\"info_features\"][i][0]\n",
    "                else: blank.append(False)\n",
    "        else: blank.append(False)\n",
    "    \n",
    "\n",
    "    return blank"
   ]
  },
  {
   "cell_type": "code",
   "execution_count": 83,
   "id": "ada95f34",
   "metadata": {},
   "outputs": [],
   "source": [
    "df[\"m2\"] = feature_create(identifier = \"m²\", criteria = \"end\", value = \"value\")\n",
    "df[\"m2\"] = symbol_remover(df[\"m2\"], [\" m²\"])"
   ]
  },
  {
   "cell_type": "code",
   "execution_count": 65,
   "id": "8252fdd5",
   "metadata": {},
   "outputs": [],
   "source": [
    "df[\"hab\"] = feature_create(identifier = \"hab.\", criteria = \"end\", value = \"value\")\n",
    "df[\"hab\"] = symbol_remover(df[\"hab\"], [\" hab.\"])"
   ]
  },
  {
   "cell_type": "code",
   "execution_count": 67,
   "id": "d6920841",
   "metadata": {},
   "outputs": [],
   "source": []
  },
  {
   "cell_type": "code",
   "execution_count": 69,
   "id": "e7024361",
   "metadata": {},
   "outputs": [
    {
     "data": {
      "text/plain": [
       "0                      [Planta -1 exterior sin ascensor]\n",
       "1                               [Planta 1ª sin ascensor]\n",
       "2                      [Planta 1ª exterior sin ascensor]\n",
       "3                           [Bajo exterior sin ascensor]\n",
       "4                      [Planta 1ª exterior sin ascensor]\n",
       "                             ...                        \n",
       "230    [Entreplanta exterior con ascensor, Garaje inc...\n",
       "231                    [Planta 9ª exterior con ascensor]\n",
       "232                              [exterior con ascensor]\n",
       "233                              [exterior con ascensor]\n",
       "234                    [Planta 4ª exterior con ascensor]\n",
       "Name: info_features, Length: 235, dtype: object"
      ]
     },
     "execution_count": 69,
     "metadata": {},
     "output_type": "execute_result"
    }
   ],
   "source": [
    "df[\"info_features\"]"
   ]
  },
  {
   "cell_type": "code",
   "execution_count": 9,
   "id": "28b607e3",
   "metadata": {},
   "outputs": [],
   "source": [
    "for i in range(len(df)):\n",
    "    df[\"info_features\"][i][0] = df[\"info_features\"][i][0].replace(\"Semi-sótano \", \"Planta -1 \")\n",
    "    df[\"info_features\"][i][0] = df[\"info_features\"][i][0].replace(\"Bajo \", \"Planta 0 \")\n",
    "    df[\"info_features\"][i][0] = df[\"info_features\"][i][0].replace(\"Entreplanta \", \"Planta 0 \")\n",
    "    if not df[\"info_features\"][i][0].startswith(\"Planta \"):\n",
    "        df[\"info_features\"][i][0] = df[\"info_features\"][i][0].replace(\"exterior \", \"Planta NA exterior \")"
   ]
  },
  {
   "cell_type": "code",
   "execution_count": 10,
   "id": "58c1d2bc",
   "metadata": {},
   "outputs": [],
   "source": [
    "df[\"planta\"] = df[\"info_features\"].str[0]\n",
    "df[\"planta\"] = symbol_remover(df[\"planta\"], [\"Planta \", \" ascensor\", \"ª\"], num=False)\n",
    "df[\"info_features\"]=df[\"info_features\"].str[1:]"
   ]
  },
  {
   "cell_type": "code",
   "execution_count": 11,
   "id": "b0ec9698",
   "metadata": {},
   "outputs": [],
   "source": [
    "df[\"exterior\"] = df[\"planta\"].str.contains('exterior')\n",
    "df[\"ascensor\"] = df[\"planta\"].str.contains('con')\n",
    "df[\"planta\"] = df[\"planta\"].str[:2]"
   ]
  },
  {
   "cell_type": "code",
   "execution_count": 12,
   "id": "1fcd0e68",
   "metadata": {},
   "outputs": [],
   "source": [
    "blank = []\n",
    "for i in range(len(df)):\n",
    "    \n",
    "    if len(df[\"info_features\"][i]) == 0:\n",
    "        blank.append(False)\n",
    "            \n",
    "    else: \n",
    "        if df[\"info_features\"][i][0].startswith(\"G\"):\n",
    "                blank.append(True)\n",
    "                del df[\"info_features\"][i][0]\n",
    "        else: blank.append(False)\n",
    "\n",
    "df[\"garaje\"] = blank\n"
   ]
  },
  {
   "cell_type": "code",
   "execution_count": 13,
   "id": "27b6ee45",
   "metadata": {},
   "outputs": [],
   "source": [
    "blank = []\n",
    "for i in range(len(df)):\n",
    "    if not len(df[\"info_features\"][i]) == 0:\n",
    "            if df[\"info_features\"][i][0].startswith(\"Lu\"):\n",
    "                blank.append(True)\n",
    "                del df[\"info_features\"][i][0]\n",
    "            else: blank.append(False)\n",
    "    else: blank.append(False)\n",
    "\n",
    "df[\"lujo\"] = blank\n"
   ]
  },
  {
   "cell_type": "code",
   "execution_count": 14,
   "id": "2da316b1",
   "metadata": {},
   "outputs": [],
   "source": [
    "blank = []\n",
    "for i in range(len(df)):\n",
    "    if not len(df[\"info_features\"][i]) == 0:\n",
    "            if df[\"info_features\"][i][0].startswith(\"Lo\"):\n",
    "                blank.append(True)\n",
    "                del df[\"info_features\"][i][0]\n",
    "            else: blank.append(False)\n",
    "    else: blank.append(False)\n",
    "\n",
    "df[\"loft\"] = blank\n"
   ]
  },
  {
   "cell_type": "code",
   "execution_count": 15,
   "id": "73f821fb",
   "metadata": {},
   "outputs": [],
   "source": [
    "del df[\"info_features\"]"
   ]
  },
  {
   "cell_type": "code",
   "execution_count": 70,
   "id": "cf0fc226",
   "metadata": {},
   "outputs": [
    {
     "data": {
      "text/html": [
       "<div>\n",
       "<style scoped>\n",
       "    .dataframe tbody tr th:only-of-type {\n",
       "        vertical-align: middle;\n",
       "    }\n",
       "\n",
       "    .dataframe tbody tr th {\n",
       "        vertical-align: top;\n",
       "    }\n",
       "\n",
       "    .dataframe thead th {\n",
       "        text-align: right;\n",
       "    }\n",
       "</style>\n",
       "<table border=\"1\" class=\"dataframe\">\n",
       "  <thead>\n",
       "    <tr style=\"text-align: right;\">\n",
       "      <th></th>\n",
       "      <th>title</th>\n",
       "      <th>price</th>\n",
       "      <th>info_features</th>\n",
       "      <th>comment</th>\n",
       "      <th>details</th>\n",
       "      <th>m2</th>\n",
       "      <th>hab</th>\n",
       "    </tr>\n",
       "  </thead>\n",
       "  <tbody>\n",
       "    <tr>\n",
       "      <th>0</th>\n",
       "      <td>Piso en venta en Palomeras Bajas\\nPuente de Va...</td>\n",
       "      <td>61000.0</td>\n",
       "      <td>[Planta -1 exterior sin ascensor]</td>\n",
       "      <td>VENTA DE LA NUDA PROPIEDAD, SOLO PARA INVERSOR...</td>\n",
       "      <td>[Características básicas, 86 m² construidos, 8...</td>\n",
       "      <td>86.0</td>\n",
       "      <td>3.0</td>\n",
       "    </tr>\n",
       "    <tr>\n",
       "      <th>1</th>\n",
       "      <td>Piso en venta en calle de Josué Lillo s/n\\nSan...</td>\n",
       "      <td>112000.0</td>\n",
       "      <td>[Planta 1ª sin ascensor]</td>\n",
       "      <td>Piso ocupado por persona sin justo título. Est...</td>\n",
       "      <td>[Características básicas, 86 m² construidos, 7...</td>\n",
       "      <td>86.0</td>\n",
       "      <td>3.0</td>\n",
       "    </tr>\n",
       "    <tr>\n",
       "      <th>2</th>\n",
       "      <td>Piso en venta en avenida Palomeras, 9\\nPalomer...</td>\n",
       "      <td>112100.0</td>\n",
       "      <td>[Planta 1ª exterior sin ascensor]</td>\n",
       "      <td>Edificio situado en la ciudad de Madrid, provi...</td>\n",
       "      <td>[Características básicas, 110 m² construidos, ...</td>\n",
       "      <td>110.0</td>\n",
       "      <td>2.0</td>\n",
       "    </tr>\n",
       "    <tr>\n",
       "      <th>3</th>\n",
       "      <td>Piso en venta en calle de Peña Redonda\\nPalome...</td>\n",
       "      <td>119000.0</td>\n",
       "      <td>[Bajo exterior sin ascensor]</td>\n",
       "      <td>SERVICHECK INMOBILIARIA VENDE PISO DE 3 HABITA...</td>\n",
       "      <td>[Características básicas, 91 m² construidos, 8...</td>\n",
       "      <td>91.0</td>\n",
       "      <td>3.0</td>\n",
       "    </tr>\n",
       "    <tr>\n",
       "      <th>4</th>\n",
       "      <td>Piso en venta en avenida de San Diego\\nSan Die...</td>\n",
       "      <td>120000.0</td>\n",
       "      <td>[Planta 1ª exterior sin ascensor]</td>\n",
       "      <td>Vivienda situada en 1ªplanta, contamos con 87m...</td>\n",
       "      <td>[Características básicas, 87 m² construidos, 7...</td>\n",
       "      <td>87.0</td>\n",
       "      <td>3.0</td>\n",
       "    </tr>\n",
       "  </tbody>\n",
       "</table>\n",
       "</div>"
      ],
      "text/plain": [
       "                                               title     price  \\\n",
       "0  Piso en venta en Palomeras Bajas\\nPuente de Va...   61000.0   \n",
       "1  Piso en venta en calle de Josué Lillo s/n\\nSan...  112000.0   \n",
       "2  Piso en venta en avenida Palomeras, 9\\nPalomer...  112100.0   \n",
       "3  Piso en venta en calle de Peña Redonda\\nPalome...  119000.0   \n",
       "4  Piso en venta en avenida de San Diego\\nSan Die...  120000.0   \n",
       "\n",
       "                       info_features  \\\n",
       "0  [Planta -1 exterior sin ascensor]   \n",
       "1           [Planta 1ª sin ascensor]   \n",
       "2  [Planta 1ª exterior sin ascensor]   \n",
       "3       [Bajo exterior sin ascensor]   \n",
       "4  [Planta 1ª exterior sin ascensor]   \n",
       "\n",
       "                                             comment  \\\n",
       "0  VENTA DE LA NUDA PROPIEDAD, SOLO PARA INVERSOR...   \n",
       "1  Piso ocupado por persona sin justo título. Est...   \n",
       "2  Edificio situado en la ciudad de Madrid, provi...   \n",
       "3  SERVICHECK INMOBILIARIA VENDE PISO DE 3 HABITA...   \n",
       "4  Vivienda situada en 1ªplanta, contamos con 87m...   \n",
       "\n",
       "                                             details     m2  hab  \n",
       "0  [Características básicas, 86 m² construidos, 8...   86.0  3.0  \n",
       "1  [Características básicas, 86 m² construidos, 7...   86.0  3.0  \n",
       "2  [Características básicas, 110 m² construidos, ...  110.0  2.0  \n",
       "3  [Características básicas, 91 m² construidos, 8...   91.0  3.0  \n",
       "4  [Características básicas, 87 m² construidos, 7...   87.0  3.0  "
      ]
     },
     "execution_count": 70,
     "metadata": {},
     "output_type": "execute_result"
    }
   ],
   "source": [
    "df.head()"
   ]
  },
  {
   "cell_type": "code",
   "execution_count": 71,
   "id": "63646bb4",
   "metadata": {},
   "outputs": [],
   "source": [
    "df.to_excel(\"/Users/juan/Documents/Juan's MacBook Pro/CUNEF/Quinto/Informacion no Estructurada/Practica Final/Data_pacifico_vallecas_info_no_estruct_PROC.xlsx\")"
   ]
  }
 ],
 "metadata": {
  "kernelspec": {
   "display_name": "Python 3 (ipykernel)",
   "language": "python",
   "name": "python3"
  },
  "language_info": {
   "codemirror_mode": {
    "name": "ipython",
    "version": 3
   },
   "file_extension": ".py",
   "mimetype": "text/x-python",
   "name": "python",
   "nbconvert_exporter": "python",
   "pygments_lexer": "ipython3",
   "version": "3.9.13"
  }
 },
 "nbformat": 4,
 "nbformat_minor": 5
}
