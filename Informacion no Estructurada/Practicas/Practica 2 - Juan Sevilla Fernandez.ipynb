{
 "cells": [
  {
   "cell_type": "code",
   "execution_count": 28,
   "id": "515f7e14",
   "metadata": {},
   "outputs": [],
   "source": [
    "import spacy\n",
    "from spacy import displacy\n",
    "import pandas as pd\n",
    "import numpy as np\n",
    "from sklearn.feature_extraction.text import TfidfVectorizer"
   ]
  },
  {
   "cell_type": "code",
   "execution_count": 29,
   "id": "78cbee5b",
   "metadata": {},
   "outputs": [],
   "source": [
    "### IMPORTANTE ###\n",
    "random_state = 100\n",
    "\n",
    "#este es el random seed para todos los modelos, para obtener siempre los mismos resultados "
   ]
  },
  {
   "cell_type": "markdown",
   "id": "7cde16fe",
   "metadata": {},
   "source": [
    "### 1. Lea el contenido del fichero csv en un DataFrame."
   ]
  },
  {
   "cell_type": "code",
   "execution_count": 30,
   "id": "0c67e9b6",
   "metadata": {},
   "outputs": [],
   "source": [
    "texto_spam = pd.read_csv(\"/Users/juan/Documents/Juan's MacBook Pro/CUNEF/Quinto/Informacion no Estructurada/Practica 2/spam.csv\") \n"
   ]
  },
  {
   "cell_type": "markdown",
   "id": "cef69ba3",
   "metadata": {},
   "source": [
    "### 2. Realice el pre-procesamiento que considere necesario. Puede utilizar funciones de la librería NLTK o spaCy, a su voluntad. Recomendamos una escritura modular del código, para poder hacer pruebas posteriormente, y contestar a las preguntas del punto 6."
   ]
  },
  {
   "cell_type": "code",
   "execution_count": 31,
   "id": "e7b5aaf1",
   "metadata": {},
   "outputs": [],
   "source": [
    "texto_spam['label_bin'] = np.where(texto_spam[\"label\"] == 'ham', 0, 1)"
   ]
  },
  {
   "cell_type": "markdown",
   "id": "114e2c56",
   "metadata": {},
   "source": [
    "Creo la variable label_bin para transormar en 1 si el label es \"spam\" y 0 si es \"ham\". Aunque hay muchos modelos que pueden tomar las clases directamente, el xgboost (que es el modelo tipo arbol que he elegido) funciona mejor con 0 y 1."
   ]
  },
  {
   "cell_type": "code",
   "execution_count": 32,
   "id": "5f7a30fd",
   "metadata": {},
   "outputs": [],
   "source": [
    "#Separamos de los datos los documentos y las categorias\n",
    "docs = texto_spam[\"text\"] # columna de documentos (texto del correo)\n",
    "categsbin = texto_spam[\"label_bin\"] # columna de categoría en fomra binaria (spam:1 y ham:0)"
   ]
  },
  {
   "cell_type": "markdown",
   "id": "a5650dff",
   "metadata": {},
   "source": [
    "El unico preprocesamiento que he hecho ha sido separar entre la columna de los documentos y los labels para luego poder generar la matriz tfidf de forma mas sencilla. <br>\n",
    "Gracias a que el TfidfVectorizer que utilizo a continuacion es capaz de calcular la mariz tfidf con texto en bruto, no necesitamos ni tokenizar, ni realizar previamente la matriz BOW. <br>\n",
    "La matriz tfidf será el cnjunto de caracteristicas o atributos que usaran nuestros modelos para predecir la etiqueta de spam o ham.\n"
   ]
  },
  {
   "cell_type": "markdown",
   "id": "26939e37",
   "metadata": {},
   "source": [
    "### 3. Divida el conjunto de documentos en un subconjunto de entrenamiento y otro de evaluación.\n",
    "### 4. Convierta el corpus de documentos en una matriz TF-idf."
   ]
  },
  {
   "cell_type": "markdown",
   "id": "f5e302f9",
   "metadata": {},
   "source": [
    "Debido a que es mas sencillo realizar la matriz tfidf y luego separar etre train y test, he invertido el orden de los pasos 3 y 4. <br>\n",
    "Esto se debe a que si separamos antes de hacer el tfidf podriamos cometer el error de luego calcular las frecuencias en base a cada sbconjunto y no a todo el corpus, lo que podria crear sesgos o errores de metodologia. Es decir, queremos que la frecuencia de cada token sea en base a todo el corpus y no de en base a la muestra train o test."
   ]
  },
  {
   "cell_type": "code",
   "execution_count": 33,
   "id": "d01688b3",
   "metadata": {},
   "outputs": [],
   "source": [
    "from sklearn.feature_extraction.text import TfidfVectorizer\n",
    "from sklearn.model_selection import train_test_split"
   ]
  },
  {
   "cell_type": "code",
   "execution_count": 34,
   "id": "15dffe62",
   "metadata": {},
   "outputs": [],
   "source": [
    "def data_prep(docs, categs, test_size = 0.25):\n",
    "    \"\"\"Esta funcion calcula la matriz TF-idf y despues divide el corpus en train y test.\n",
    "    Ademas, la division entre train y test se estratifica en base a la frequencia de las categorias.\n",
    "    \n",
    "    Input: \n",
    "        docs: lista de documentos\n",
    "        categs: lista de categorias\n",
    "        test_size: tamaño de muestra de test\n",
    "        \n",
    "    Output:\n",
    "        docs_train/_test: matriz Tf-idf de entrenmiento y test\n",
    "        categs_train/_test: lista de categorias asociadas a cada documento de train/test\n",
    "    \"\"\"\n",
    "    \n",
    "    vectorizer = TfidfVectorizer()\n",
    "    spam_tfidf = vectorizer.fit_transform(docs)\n",
    "    docs_train, docs_test, categs_train, categs_test = train_test_split(spam_tfidf, categsbin, test_size = test_size, \n",
    "                                                                        random_state = random_state, stratify=categs)\n",
    "    return docs_train, docs_test, categs_train, categs_test"
   ]
  },
  {
   "cell_type": "code",
   "execution_count": 35,
   "id": "a953fa0d",
   "metadata": {},
   "outputs": [],
   "source": [
    "docs_train, docs_test, categs_train, categs_test = data_prep(docs, categsbin)"
   ]
  },
  {
   "cell_type": "code",
   "execution_count": 36,
   "id": "e37563d4",
   "metadata": {},
   "outputs": [
    {
     "data": {
      "text/plain": [
       "0    0.865997\n",
       "1    0.134003\n",
       "Name: label_bin, dtype: float64"
      ]
     },
     "execution_count": 36,
     "metadata": {},
     "output_type": "execute_result"
    }
   ],
   "source": [
    "categs_train.value_counts(normalize=True)\n"
   ]
  },
  {
   "cell_type": "code",
   "execution_count": 37,
   "id": "42000ddc",
   "metadata": {},
   "outputs": [
    {
     "data": {
      "text/plain": [
       "0    0.865757\n",
       "1    0.134243\n",
       "Name: label_bin, dtype: float64"
      ]
     },
     "execution_count": 37,
     "metadata": {},
     "output_type": "execute_result"
    }
   ],
   "source": [
    "categs_test.value_counts(normalize=True)"
   ]
  },
  {
   "cell_type": "markdown",
   "id": "a3600265",
   "metadata": {},
   "source": [
    "Vemos que tanto para train como para test el porcentaje de spam (1) y ham (0) es constante entre ambas muestras. Esto se conoce como estratificar. "
   ]
  },
  {
   "cell_type": "markdown",
   "id": "7eed510c",
   "metadata": {},
   "source": [
    "### 5. Llegados a este punto, realice modelos de entrenamiento almenos con algoritmos de clasificador bayesiano ingenuo, máquinas SVM y un modelo basado en árbol de decisión. Obtenga resultados de accuracy de la clasificación, así como las matrices de confusión para los tres modelos.\n",
    "\n"
   ]
  },
  {
   "cell_type": "code",
   "execution_count": 38,
   "id": "8558ace3",
   "metadata": {},
   "outputs": [],
   "source": [
    "#Importmos todos los modelos\n",
    "from sklearn.naive_bayes import MultinomialNB\n",
    "from sklearn.svm import SVC\n",
    "from xgboost import XGBClassifier\n",
    "import matplotlib.pyplot as plt\n",
    "\n",
    "#Importamos matriz de confusion \n",
    "from sklearn.metrics import confusion_matrix\n",
    "from sklearn.metrics import ConfusionMatrixDisplay"
   ]
  },
  {
   "cell_type": "code",
   "execution_count": 39,
   "id": "f8d04cbf",
   "metadata": {},
   "outputs": [],
   "source": [
    "def run_models(modellist):\n",
    "    \"\"\" Este funcion entrena cada modelo definido en lista input, predice las clases para el conjunto test y\n",
    "        calcula el accuracy de entrenamiento y test, asi como la matriz de confusion par cada modelo.\n",
    "        \n",
    "        Input: \n",
    "            modellist: lista de strings con los modelos a entrenar\n",
    "            \n",
    "        Output:\n",
    "            matriz de confusion, accuacy de entrenaiento, test y fiabilidad para cada modelo entrenado\n",
    "        \"\"\"\n",
    "    plt.rcParams[\"figure.figsize\"] = (20,3)\n",
    "        \n",
    "    for name in modellist:\n",
    "        if name == \"Bayesiano Ingenuo\":\n",
    "            model = MultinomialNB()\n",
    "        if name == \"SVC\":\n",
    "            model = SVC(kernel='linear')\n",
    "        if name == \"XGBoost\":\n",
    "            model = XGBClassifier(n_jobs = -1, random_state = random_state)\n",
    "\n",
    "\n",
    "        model.fit(docs_train, categs_train)\n",
    "        categs_pred = model.predict(docs_test)\n",
    "        acc_train = model.score(docs_train, categs_train)\n",
    "        acc_test = model.score(docs_test, categs_test)\n",
    "        ConfusionMatrixDisplay.from_predictions(categs_test, categs_pred, display_labels = [\"ham\",\"spam\"]);\n",
    "        \n",
    "\n",
    "        # Confusion Matrix\n",
    "        print('Para el modelo','\\033[1m' + str(name) + '\\033[0m',\"matriz de confusion es:\")\n",
    "        plt.show()\n",
    "        print(\"Con un accuracy de train de:\", round(acc_train*100,2),\"%\")\n",
    "        print(\"Con un accuracy de test de:\", round(acc_test*100,2),\"%\")\n",
    "        print(\"Con una fiabilidad de:\", round(acc_test/acc_train*100,2),\"%\", \"\\n\")"
   ]
  },
  {
   "cell_type": "code",
   "execution_count": 40,
   "id": "0812cbc8",
   "metadata": {},
   "outputs": [
    {
     "name": "stdout",
     "output_type": "stream",
     "text": [
      "Para el modelo \u001b[1mBayesiano Ingenuo\u001b[0m matriz de confusion es:\n"
     ]
    },
    {
     "data": {
      "image/png": "[encoded data removed]",
      "text/plain": [
       "<Figure size 2000x300 with 2 Axes>"
      ]
     },
     "metadata": {},
     "output_type": "display_data"
    },
    {
     "name": "stdout",
     "output_type": "stream",
     "text": [
      "Con un accuracy de train de: 96.48 %\n",
      "Con un accuracy de test de: 96.7 %\n",
      "Con una fiabilidad de: 100.22 % \n",
      "\n",
      "Para el modelo \u001b[1mSVC\u001b[0m matriz de confusion es:\n"
     ]
    },
    {
     "data": {
      "image/png": "[encoded data removed]",
      "text/plain": [
       "<Figure size 2000x300 with 2 Axes>"
      ]
     },
     "metadata": {},
     "output_type": "display_data"
    },
    {
     "name": "stdout",
     "output_type": "stream",
     "text": [
      "Con un accuracy de train de: 99.69 %\n",
      "Con un accuracy de test de: 98.35 %\n",
      "Con una fiabilidad de: 98.66 % \n",
      "\n",
      "Para el modelo \u001b[1mXGBoost\u001b[0m matriz de confusion es:\n"
     ]
    },
    {
     "data": {
      "image/png": "[encoded data removed]",
      "text/plain": [
       "<Figure size 2000x300 with 2 Axes>"
      ]
     },
     "metadata": {},
     "output_type": "display_data"
    },
    {
     "name": "stdout",
     "output_type": "stream",
     "text": [
      "Con un accuracy de train de: 99.76 %\n",
      "Con un accuracy de test de: 98.35 %\n",
      "Con una fiabilidad de: 98.58 % \n",
      "\n"
     ]
    }
   ],
   "source": [
    "modellist = [\"Bayesiano Ingenuo\", \"SVC\", \"XGBoost\"]\n",
    "run_models(modellist)"
   ]
  },
  {
   "cell_type": "markdown",
   "id": "9074872f",
   "metadata": {},
   "source": [
    "### 6. (Pregunta convalidable por la actividad de topic modelling. Confirmar con la profesora si está convalidado). Conteste a las siguientes preguntas basándote en evidencias de código. ¿Tiene influencia en el resultado final el número máximo de features a utilizar? ¿Modifica el resultado si se eliminan las stop words? ¿Y si se utilizan las formas canónicas?\n",
    "\n"
   ]
  },
  {
   "cell_type": "markdown",
   "id": "de8da27c",
   "metadata": {},
   "source": [
    "Esta pregunta la he convalidado en clase por el topic modelling. De todos modos, el accuacy de los modelos es bastante alto hasta en el bayesiano ingnuo. \n",
    "A priori pensaria que eliminar stopwords no tiene sentido ya que por un lado si no tienen capacidad predictiva, el modelo ya los ignorará. De todos modos podria ser que los mensajes de spam tenga una estructura de stopwords diferente a la del los mensajes entre amigos.\n",
    "Por otro lado las formas canonicas creo que podrian hacer perder algo de capacidad predictiva ya que una gran diferencia en muchos casos es que la palabra este \"conjugada\" o en una forma slang o mas informal mientras que en caso de spam sea mas formal."
   ]
  },
  {
   "cell_type": "markdown",
   "id": "56b29e8f",
   "metadata": {},
   "source": [
    "### 7. Imagínese que este entregable es una labor que le han solicitado en un entorno profesional, y que tiene que entregar esta documentación para comentar lo que ha descubierto (datos de entrada, rendimiento de los modelos, o cualquier descubrimiento que pueda ser importante). Comente los resultados obtenidos."
   ]
  },
  {
   "cell_type": "markdown",
   "id": "399444de",
   "metadata": {},
   "source": [
    "Tras observar las matrices de confusion de todos los modelos, vemos que hasta el bayesiano ingenuo tiene un accuracy muy alto, pero vemos que tiene mas del doble de errores (falsos pasitivos/negativos) que los otros dos modelos.\n",
    "Los dos modelos probados a parte del bayesiano ingenuo han sido el SVC y el XGBoost.<br>\n",
    "En ambos casos, el accuracy de test es 99.35%. Ambos son muy precisos y serían muy buenos modelos de prediccion para discernir entre mensajes de spam y normales. <br>\n",
    "Un valor muy importante a tener en cuenta es que dede un punto de vista de negocio, un falso positivo es mas perjudicial que un falso negativo. Es decir, es peor esconder un mensaje en spam que no lo es (falso positivo), ya que se pueden omitir mensajes importantes, que dejar pasar a la bandeja de entrada un mensaje de spam (falso negativo), que es solo un pequeño inconveniente. <br>\n",
    "Tanto el SVC como el XGBoost tienen la mayor parte de su error en acumulado en FNs, por lo que en ambos casos estamos contentos en cuanto a conocimieno de negocio. Si tuviera que elegir entre estos dos, aun que sea por una minima diferencia, eligiría el XGBoost ya que tiene menos FPs (por uno) y una ligera mejor prediccion de train.\n"
   ]
  },
  {
   "cell_type": "code",
   "execution_count": null,
   "id": "2579ecff",
   "metadata": {},
   "outputs": [],
   "source": []
  },
  {
   "cell_type": "markdown",
   "id": "8c7d7098",
   "metadata": {},
   "source": [
    "### Bonus: Fun fact de los datos\n",
    "<br>\n",
    "El año pasado estuve en Singapur de intercambio. Aunque sea un pais con ingles como primera lengua, tiene muchas expresiones que derivan de Malasia, China, etc. <br>\n",
    "\n",
    "Al analizar los documentos me di cuenta de que los mensajes de texto tenían \"slang\" de Singapur y referencia a calles/ubicaciones de Singapur"
   ]
  },
  {
   "cell_type": "code",
   "execution_count": 78,
   "id": "3206344c",
   "metadata": {},
   "outputs": [
    {
     "name": "stdout",
     "output_type": "stream",
     "text": [
      "Go until jurong point, crazy.. Available only in bugis n great world la e buffet... Cine there got amore wat... \n",
      "\n"
     ]
    }
   ],
   "source": [
    "pd.options.display.max_colwidth = 100\n",
    "print(texto_spam[\"text\"][0], \"\\n\")"
   ]
  },
  {
   "cell_type": "markdown",
   "id": "602f9e2d",
   "metadata": {},
   "source": [
    "Jurong point y Bugis son lugares en Singapur."
   ]
  },
  {
   "cell_type": "code",
   "execution_count": 79,
   "id": "e9704f6b",
   "metadata": {},
   "outputs": [
    {
     "name": "stdout",
     "output_type": "stream",
     "text": [
      "Aiyah e rain like quite big leh. If drizzling i can at least run home.\n"
     ]
    }
   ],
   "source": [
    "print(texto_spam[\"text\"][2488])"
   ]
  },
  {
   "cell_type": "code",
   "execution_count": 87,
   "id": "470b53b6",
   "metadata": {},
   "outputs": [
    {
     "data": {
      "text/html": [
       "<div>\n",
       "<style scoped>\n",
       "    .dataframe tbody tr th:only-of-type {\n",
       "        vertical-align: middle;\n",
       "    }\n",
       "\n",
       "    .dataframe tbody tr th {\n",
       "        vertical-align: top;\n",
       "    }\n",
       "\n",
       "    .dataframe thead th {\n",
       "        text-align: right;\n",
       "    }\n",
       "</style>\n",
       "<table border=\"1\" class=\"dataframe\">\n",
       "  <thead>\n",
       "    <tr style=\"text-align: right;\">\n",
       "      <th></th>\n",
       "      <th>00</th>\n",
       "      <th>000</th>\n",
       "      <th>000pes</th>\n",
       "      <th>008704050406</th>\n",
       "      <th>0089</th>\n",
       "      <th>0121</th>\n",
       "      <th>01223585236</th>\n",
       "      <th>01223585334</th>\n",
       "      <th>0125698789</th>\n",
       "      <th>02</th>\n",
       "      <th>...</th>\n",
       "      <th>û_</th>\n",
       "      <th>û_thanks</th>\n",
       "      <th>ûªm</th>\n",
       "      <th>ûªt</th>\n",
       "      <th>ûªve</th>\n",
       "      <th>ûï</th>\n",
       "      <th>ûïharry</th>\n",
       "      <th>ûò</th>\n",
       "      <th>ûówell</th>\n",
       "      <th>žö</th>\n",
       "    </tr>\n",
       "  </thead>\n",
       "  <tbody>\n",
       "    <tr>\n",
       "      <th>0</th>\n",
       "      <td>0.0</td>\n",
       "      <td>0.0</td>\n",
       "      <td>0.0</td>\n",
       "      <td>0.0</td>\n",
       "      <td>0.0</td>\n",
       "      <td>0.0</td>\n",
       "      <td>0.0</td>\n",
       "      <td>0.0</td>\n",
       "      <td>0.0</td>\n",
       "      <td>0.0</td>\n",
       "      <td>...</td>\n",
       "      <td>0.0</td>\n",
       "      <td>0.0</td>\n",
       "      <td>0.0</td>\n",
       "      <td>0.0</td>\n",
       "      <td>0.0</td>\n",
       "      <td>0.0</td>\n",
       "      <td>0.0</td>\n",
       "      <td>0.0</td>\n",
       "      <td>0.0</td>\n",
       "      <td>0.0</td>\n",
       "    </tr>\n",
       "    <tr>\n",
       "      <th>1</th>\n",
       "      <td>0.0</td>\n",
       "      <td>0.0</td>\n",
       "      <td>0.0</td>\n",
       "      <td>0.0</td>\n",
       "      <td>0.0</td>\n",
       "      <td>0.0</td>\n",
       "      <td>0.0</td>\n",
       "      <td>0.0</td>\n",
       "      <td>0.0</td>\n",
       "      <td>0.0</td>\n",
       "      <td>...</td>\n",
       "      <td>0.0</td>\n",
       "      <td>0.0</td>\n",
       "      <td>0.0</td>\n",
       "      <td>0.0</td>\n",
       "      <td>0.0</td>\n",
       "      <td>0.0</td>\n",
       "      <td>0.0</td>\n",
       "      <td>0.0</td>\n",
       "      <td>0.0</td>\n",
       "      <td>0.0</td>\n",
       "    </tr>\n",
       "    <tr>\n",
       "      <th>2</th>\n",
       "      <td>0.0</td>\n",
       "      <td>0.0</td>\n",
       "      <td>0.0</td>\n",
       "      <td>0.0</td>\n",
       "      <td>0.0</td>\n",
       "      <td>0.0</td>\n",
       "      <td>0.0</td>\n",
       "      <td>0.0</td>\n",
       "      <td>0.0</td>\n",
       "      <td>0.0</td>\n",
       "      <td>...</td>\n",
       "      <td>0.0</td>\n",
       "      <td>0.0</td>\n",
       "      <td>0.0</td>\n",
       "      <td>0.0</td>\n",
       "      <td>0.0</td>\n",
       "      <td>0.0</td>\n",
       "      <td>0.0</td>\n",
       "      <td>0.0</td>\n",
       "      <td>0.0</td>\n",
       "      <td>0.0</td>\n",
       "    </tr>\n",
       "    <tr>\n",
       "      <th>3</th>\n",
       "      <td>0.0</td>\n",
       "      <td>0.0</td>\n",
       "      <td>0.0</td>\n",
       "      <td>0.0</td>\n",
       "      <td>0.0</td>\n",
       "      <td>0.0</td>\n",
       "      <td>0.0</td>\n",
       "      <td>0.0</td>\n",
       "      <td>0.0</td>\n",
       "      <td>0.0</td>\n",
       "      <td>...</td>\n",
       "      <td>0.0</td>\n",
       "      <td>0.0</td>\n",
       "      <td>0.0</td>\n",
       "      <td>0.0</td>\n",
       "      <td>0.0</td>\n",
       "      <td>0.0</td>\n",
       "      <td>0.0</td>\n",
       "      <td>0.0</td>\n",
       "      <td>0.0</td>\n",
       "      <td>0.0</td>\n",
       "    </tr>\n",
       "    <tr>\n",
       "      <th>4</th>\n",
       "      <td>0.0</td>\n",
       "      <td>0.0</td>\n",
       "      <td>0.0</td>\n",
       "      <td>0.0</td>\n",
       "      <td>0.0</td>\n",
       "      <td>0.0</td>\n",
       "      <td>0.0</td>\n",
       "      <td>0.0</td>\n",
       "      <td>0.0</td>\n",
       "      <td>0.0</td>\n",
       "      <td>...</td>\n",
       "      <td>0.0</td>\n",
       "      <td>0.0</td>\n",
       "      <td>0.0</td>\n",
       "      <td>0.0</td>\n",
       "      <td>0.0</td>\n",
       "      <td>0.0</td>\n",
       "      <td>0.0</td>\n",
       "      <td>0.0</td>\n",
       "      <td>0.0</td>\n",
       "      <td>0.0</td>\n",
       "    </tr>\n",
       "    <tr>\n",
       "      <th>...</th>\n",
       "      <td>...</td>\n",
       "      <td>...</td>\n",
       "      <td>...</td>\n",
       "      <td>...</td>\n",
       "      <td>...</td>\n",
       "      <td>...</td>\n",
       "      <td>...</td>\n",
       "      <td>...</td>\n",
       "      <td>...</td>\n",
       "      <td>...</td>\n",
       "      <td>...</td>\n",
       "      <td>...</td>\n",
       "      <td>...</td>\n",
       "      <td>...</td>\n",
       "      <td>...</td>\n",
       "      <td>...</td>\n",
       "      <td>...</td>\n",
       "      <td>...</td>\n",
       "      <td>...</td>\n",
       "      <td>...</td>\n",
       "      <td>...</td>\n",
       "    </tr>\n",
       "    <tr>\n",
       "      <th>5567</th>\n",
       "      <td>0.0</td>\n",
       "      <td>0.0</td>\n",
       "      <td>0.0</td>\n",
       "      <td>0.0</td>\n",
       "      <td>0.0</td>\n",
       "      <td>0.0</td>\n",
       "      <td>0.0</td>\n",
       "      <td>0.0</td>\n",
       "      <td>0.0</td>\n",
       "      <td>0.0</td>\n",
       "      <td>...</td>\n",
       "      <td>0.0</td>\n",
       "      <td>0.0</td>\n",
       "      <td>0.0</td>\n",
       "      <td>0.0</td>\n",
       "      <td>0.0</td>\n",
       "      <td>0.0</td>\n",
       "      <td>0.0</td>\n",
       "      <td>0.0</td>\n",
       "      <td>0.0</td>\n",
       "      <td>0.0</td>\n",
       "    </tr>\n",
       "    <tr>\n",
       "      <th>5568</th>\n",
       "      <td>0.0</td>\n",
       "      <td>0.0</td>\n",
       "      <td>0.0</td>\n",
       "      <td>0.0</td>\n",
       "      <td>0.0</td>\n",
       "      <td>0.0</td>\n",
       "      <td>0.0</td>\n",
       "      <td>0.0</td>\n",
       "      <td>0.0</td>\n",
       "      <td>0.0</td>\n",
       "      <td>...</td>\n",
       "      <td>0.0</td>\n",
       "      <td>0.0</td>\n",
       "      <td>0.0</td>\n",
       "      <td>0.0</td>\n",
       "      <td>0.0</td>\n",
       "      <td>0.0</td>\n",
       "      <td>0.0</td>\n",
       "      <td>0.0</td>\n",
       "      <td>0.0</td>\n",
       "      <td>0.0</td>\n",
       "    </tr>\n",
       "    <tr>\n",
       "      <th>5569</th>\n",
       "      <td>0.0</td>\n",
       "      <td>0.0</td>\n",
       "      <td>0.0</td>\n",
       "      <td>0.0</td>\n",
       "      <td>0.0</td>\n",
       "      <td>0.0</td>\n",
       "      <td>0.0</td>\n",
       "      <td>0.0</td>\n",
       "      <td>0.0</td>\n",
       "      <td>0.0</td>\n",
       "      <td>...</td>\n",
       "      <td>0.0</td>\n",
       "      <td>0.0</td>\n",
       "      <td>0.0</td>\n",
       "      <td>0.0</td>\n",
       "      <td>0.0</td>\n",
       "      <td>0.0</td>\n",
       "      <td>0.0</td>\n",
       "      <td>0.0</td>\n",
       "      <td>0.0</td>\n",
       "      <td>0.0</td>\n",
       "    </tr>\n",
       "    <tr>\n",
       "      <th>5570</th>\n",
       "      <td>0.0</td>\n",
       "      <td>0.0</td>\n",
       "      <td>0.0</td>\n",
       "      <td>0.0</td>\n",
       "      <td>0.0</td>\n",
       "      <td>0.0</td>\n",
       "      <td>0.0</td>\n",
       "      <td>0.0</td>\n",
       "      <td>0.0</td>\n",
       "      <td>0.0</td>\n",
       "      <td>...</td>\n",
       "      <td>0.0</td>\n",
       "      <td>0.0</td>\n",
       "      <td>0.0</td>\n",
       "      <td>0.0</td>\n",
       "      <td>0.0</td>\n",
       "      <td>0.0</td>\n",
       "      <td>0.0</td>\n",
       "      <td>0.0</td>\n",
       "      <td>0.0</td>\n",
       "      <td>0.0</td>\n",
       "    </tr>\n",
       "    <tr>\n",
       "      <th>5571</th>\n",
       "      <td>0.0</td>\n",
       "      <td>0.0</td>\n",
       "      <td>0.0</td>\n",
       "      <td>0.0</td>\n",
       "      <td>0.0</td>\n",
       "      <td>0.0</td>\n",
       "      <td>0.0</td>\n",
       "      <td>0.0</td>\n",
       "      <td>0.0</td>\n",
       "      <td>0.0</td>\n",
       "      <td>...</td>\n",
       "      <td>0.0</td>\n",
       "      <td>0.0</td>\n",
       "      <td>0.0</td>\n",
       "      <td>0.0</td>\n",
       "      <td>0.0</td>\n",
       "      <td>0.0</td>\n",
       "      <td>0.0</td>\n",
       "      <td>0.0</td>\n",
       "      <td>0.0</td>\n",
       "      <td>0.0</td>\n",
       "    </tr>\n",
       "  </tbody>\n",
       "</table>\n",
       "<p>5572 rows × 8673 columns</p>\n",
       "</div>"
      ],
      "text/plain": [
       "       00  000  000pes  008704050406  0089  0121  01223585236  01223585334  \\\n",
       "0     0.0  0.0     0.0           0.0   0.0   0.0          0.0          0.0   \n",
       "1     0.0  0.0     0.0           0.0   0.0   0.0          0.0          0.0   \n",
       "2     0.0  0.0     0.0           0.0   0.0   0.0          0.0          0.0   \n",
       "3     0.0  0.0     0.0           0.0   0.0   0.0          0.0          0.0   \n",
       "4     0.0  0.0     0.0           0.0   0.0   0.0          0.0          0.0   \n",
       "...   ...  ...     ...           ...   ...   ...          ...          ...   \n",
       "5567  0.0  0.0     0.0           0.0   0.0   0.0          0.0          0.0   \n",
       "5568  0.0  0.0     0.0           0.0   0.0   0.0          0.0          0.0   \n",
       "5569  0.0  0.0     0.0           0.0   0.0   0.0          0.0          0.0   \n",
       "5570  0.0  0.0     0.0           0.0   0.0   0.0          0.0          0.0   \n",
       "5571  0.0  0.0     0.0           0.0   0.0   0.0          0.0          0.0   \n",
       "\n",
       "      0125698789   02  ...   û_  û_thanks  ûªm  ûªt  ûªve   ûï  ûïharry   ûò  \\\n",
       "0            0.0  0.0  ...  0.0       0.0  0.0  0.0   0.0  0.0      0.0  0.0   \n",
       "1            0.0  0.0  ...  0.0       0.0  0.0  0.0   0.0  0.0      0.0  0.0   \n",
       "2            0.0  0.0  ...  0.0       0.0  0.0  0.0   0.0  0.0      0.0  0.0   \n",
       "3            0.0  0.0  ...  0.0       0.0  0.0  0.0   0.0  0.0      0.0  0.0   \n",
       "4            0.0  0.0  ...  0.0       0.0  0.0  0.0   0.0  0.0      0.0  0.0   \n",
       "...          ...  ...  ...  ...       ...  ...  ...   ...  ...      ...  ...   \n",
       "5567         0.0  0.0  ...  0.0       0.0  0.0  0.0   0.0  0.0      0.0  0.0   \n",
       "5568         0.0  0.0  ...  0.0       0.0  0.0  0.0   0.0  0.0      0.0  0.0   \n",
       "5569         0.0  0.0  ...  0.0       0.0  0.0  0.0   0.0  0.0      0.0  0.0   \n",
       "5570         0.0  0.0  ...  0.0       0.0  0.0  0.0   0.0  0.0      0.0  0.0   \n",
       "5571         0.0  0.0  ...  0.0       0.0  0.0  0.0   0.0  0.0      0.0  0.0   \n",
       "\n",
       "      ûówell   žö  \n",
       "0        0.0  0.0  \n",
       "1        0.0  0.0  \n",
       "2        0.0  0.0  \n",
       "3        0.0  0.0  \n",
       "4        0.0  0.0  \n",
       "...      ...  ...  \n",
       "5567     0.0  0.0  \n",
       "5568     0.0  0.0  \n",
       "5569     0.0  0.0  \n",
       "5570     0.0  0.0  \n",
       "5571     0.0  0.0  \n",
       "\n",
       "[5572 rows x 8673 columns]"
      ]
     },
     "execution_count": 87,
     "metadata": {},
     "output_type": "execute_result"
    }
   ],
   "source": [
    "vectorizer = TfidfVectorizer()\n",
    "spam_tfidf = vectorizer.fit_transform(docs)\n",
    "\n",
    "vocab = vectorizer.get_feature_names_out()\n",
    "TFIDFdf = pd.DataFrame(spam_tfidf.toarray(), columns=vocab)\n",
    "TFIDFdf"
   ]
  },
  {
   "cell_type": "code",
   "execution_count": 94,
   "id": "002d4093",
   "metadata": {},
   "outputs": [
    {
     "data": {
      "text/plain": [
       "213     0.496523\n",
       "3426    0.478422\n",
       "223     0.425065\n",
       "3902    0.375762\n",
       "3446    0.372585\n",
       "          ...   \n",
       "1860    0.000000\n",
       "1859    0.000000\n",
       "1858    0.000000\n",
       "1857    0.000000\n",
       "5571    0.000000\n",
       "Name: leh, Length: 5572, dtype: float64"
      ]
     },
     "execution_count": 94,
     "metadata": {},
     "output_type": "execute_result"
    }
   ],
   "source": [
    "TFIDFdf[\"leh\"].sort_values(ascending=False)"
   ]
  },
  {
   "cell_type": "code",
   "execution_count": 96,
   "id": "0d4dbe89",
   "metadata": {
    "scrolled": true
   },
   "outputs": [
    {
     "name": "stdout",
     "output_type": "stream",
     "text": [
      "Haha okay... Today weekend leh... \n"
     ]
    }
   ],
   "source": [
    "print(texto_spam[\"text\"][3426])"
   ]
  },
  {
   "cell_type": "code",
   "execution_count": 97,
   "id": "76179a22",
   "metadata": {},
   "outputs": [
    {
     "name": "stdout",
     "output_type": "stream",
     "text": [
      "Collecting transformers\n",
      "  Downloading transformers-4.24.0-py3-none-any.whl (5.5 MB)\n",
      "\u001b[2K     \u001b[90m━━━━━━━━━━━━━━━━━━━━━━━━━━━━━━━━━━━━━━━━\u001b[0m \u001b[32m5.5/5.5 MB\u001b[0m \u001b[31m1.2 MB/s\u001b[0m eta \u001b[36m0:00:00\u001b[0m00:01\u001b[0m00:01\u001b[0m\n",
      "\u001b[?25hRequirement already satisfied: regex!=2019.12.17 in /Users/juan/opt/anaconda3/envs/AINE/lib/python3.9/site-packages (from transformers) (2022.8.17)\n",
      "Requirement already satisfied: requests in /Users/juan/opt/anaconda3/envs/AINE/lib/python3.9/site-packages (from transformers) (2.28.1)\n",
      "Requirement already satisfied: numpy>=1.17 in /Users/juan/opt/anaconda3/envs/AINE/lib/python3.9/site-packages (from transformers) (1.23.3)\n",
      "Collecting tokenizers!=0.11.3,<0.14,>=0.11.1\n",
      "  Downloading tokenizers-0.13.2-cp39-cp39-macosx_10_11_x86_64.whl (3.8 MB)\n",
      "\u001b[2K     \u001b[90m━━━━━━━━━━━━━━━━━━━━━━━━━━━━━━━━━━━━━━━━\u001b[0m \u001b[32m3.8/3.8 MB\u001b[0m \u001b[31m1.2 MB/s\u001b[0m eta \u001b[36m0:00:00\u001b[0m00:01\u001b[0m00:01\u001b[0m\n",
      "\u001b[?25hRequirement already satisfied: pyyaml>=5.1 in /Users/juan/opt/anaconda3/envs/AINE/lib/python3.9/site-packages (from transformers) (6.0)\n",
      "Collecting filelock\n",
      "  Downloading filelock-3.8.0-py3-none-any.whl (10 kB)\n",
      "Requirement already satisfied: packaging>=20.0 in /Users/juan/opt/anaconda3/envs/AINE/lib/python3.9/site-packages (from transformers) (21.3)\n",
      "Requirement already satisfied: tqdm>=4.27 in /Users/juan/opt/anaconda3/envs/AINE/lib/python3.9/site-packages (from transformers) (4.64.1)\n",
      "Collecting huggingface-hub<1.0,>=0.10.0\n",
      "  Downloading huggingface_hub-0.11.0-py3-none-any.whl (182 kB)\n",
      "\u001b[2K     \u001b[90m━━━━━━━━━━━━━━━━━━━━━━━━━━━━━━━━━━━━━━━\u001b[0m \u001b[32m182.1/182.1 kB\u001b[0m \u001b[31m2.0 MB/s\u001b[0m eta \u001b[36m0:00:00\u001b[0ma \u001b[36m0:00:01\u001b[0m\n",
      "\u001b[?25hRequirement already satisfied: typing-extensions>=3.7.4.3 in /Users/juan/opt/anaconda3/envs/AINE/lib/python3.9/site-packages (from huggingface-hub<1.0,>=0.10.0->transformers) (4.3.0)\n",
      "Requirement already satisfied: pyparsing!=3.0.5,>=2.0.2 in /Users/juan/opt/anaconda3/envs/AINE/lib/python3.9/site-packages (from packaging>=20.0->transformers) (3.0.9)\n",
      "Requirement already satisfied: urllib3<1.27,>=1.21.1 in /Users/juan/opt/anaconda3/envs/AINE/lib/python3.9/site-packages (from requests->transformers) (1.26.12)\n",
      "Requirement already satisfied: certifi>=2017.4.17 in /Users/juan/opt/anaconda3/envs/AINE/lib/python3.9/site-packages (from requests->transformers) (2022.6.15)\n",
      "Requirement already satisfied: idna<4,>=2.5 in /Users/juan/opt/anaconda3/envs/AINE/lib/python3.9/site-packages (from requests->transformers) (3.4)\n",
      "Requirement already satisfied: charset-normalizer<3,>=2 in /Users/juan/opt/anaconda3/envs/AINE/lib/python3.9/site-packages (from requests->transformers) (2.1.1)\n",
      "Installing collected packages: tokenizers, filelock, huggingface-hub, transformers\n",
      "Successfully installed filelock-3.8.0 huggingface-hub-0.11.0 tokenizers-0.13.2 transformers-4.24.0\n"
     ]
    }
   ],
   "source": [
    "!pip install transformers"
   ]
  },
  {
   "cell_type": "code",
   "execution_count": 104,
   "id": "cf81ee56",
   "metadata": {},
   "outputs": [
    {
     "name": "stderr",
     "output_type": "stream",
     "text": [
      "None of PyTorch, TensorFlow >= 2.0, or Flax have been found. Models won't be available and only tokenizers, configuration and file/data utilities can be used.\n"
     ]
    }
   ],
   "source": [
    "import transformers"
   ]
  },
  {
   "cell_type": "code",
   "execution_count": null,
   "id": "972e7f72",
   "metadata": {},
   "outputs": [],
   "source": []
  }
 ],
 "metadata": {
  "kernelspec": {
   "display_name": "Python 3 (ipykernel)",
   "language": "python",
   "name": "python3"
  },
  "language_info": {
   "codemirror_mode": {
    "name": "ipython",
    "version": 3
   },
   "file_extension": ".py",
   "mimetype": "text/x-python",
   "name": "python",
   "nbconvert_exporter": "python",
   "pygments_lexer": "ipython3",
   "version": "3.9.13"
  }
 },
 "nbformat": 4,
 "nbformat_minor": 5
}
