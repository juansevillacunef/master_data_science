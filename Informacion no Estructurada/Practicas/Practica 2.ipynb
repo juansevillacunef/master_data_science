{
 "cells": [
  {
   "cell_type": "code",
   "execution_count": 83,
   "id": "515f7e14",
   "metadata": {},
   "outputs": [],
   "source": [
    "import spacy\n",
    "from spacy import displacy\n",
    "import pandas as pd\n",
    "import numpy as np\n",
    "from sklearn.feature_extraction.text import CountVectorizer\n",
    "from sklearn.feature_extraction.text import TfidfVectorizer"
   ]
  },
  {
   "cell_type": "code",
   "execution_count": 10,
   "id": "78cbee5b",
   "metadata": {},
   "outputs": [],
   "source": [
    "### IMPORTANTE ###\n",
    "random_state = 100\n",
    "\n",
    "#este es el random seed para todos los modelos, para obtener siempre los mismos resultados "
   ]
  },
  {
   "cell_type": "markdown",
   "id": "7cde16fe",
   "metadata": {},
   "source": [
    "### 1. Lea el contenido del fichero csv en un DataFrame."
   ]
  },
  {
   "cell_type": "code",
   "execution_count": 9,
   "id": "0c67e9b6",
   "metadata": {},
   "outputs": [],
   "source": [
    "texto_spam = pd.read_csv(\"/Users/juan/Documents/Juan's MacBook Pro/CUNEF/Quinto/Informacion no Estructurada/Practica 2/spam.csv\") \n"
   ]
  },
  {
   "cell_type": "code",
   "execution_count": 84,
   "id": "e7b5aaf1",
   "metadata": {},
   "outputs": [],
   "source": [
    "texto_spam['label_bin'] = np.where(texto_spam[\"label\"] == 'ham', 0, 1)"
   ]
  },
  {
   "cell_type": "markdown",
   "id": "cef69ba3",
   "metadata": {},
   "source": [
    "### 2. Realice el pre-procesamiento que considere necesario. Puede utilizar funciones de la librería NLTK o spaCy, a su voluntad. Recomendamos una escritura modular del código, para poder hacer pruebas posteriormente, y contestar a las preguntas del punto 6."
   ]
  },
  {
   "cell_type": "code",
   "execution_count": 86,
   "id": "5f7a30fd",
   "metadata": {},
   "outputs": [],
   "source": [
    "#Separamos de los datos los documentos y las categorias\n",
    "docs = texto_spam[\"text\"] # columna de documentos (texto del correo)\n",
    "categs = texto_spam[\"label\"] # columna de categoría (spam o ham)\n",
    "categsbin = texto_spam[\"label_bin\"] # columna de categoría en fomra binaria"
   ]
  },
  {
   "cell_type": "markdown",
   "id": "26939e37",
   "metadata": {},
   "source": [
    "### 3. Divida el conjunto de documentos en un subconjunto de entrenamiento y otro de evaluación.\n",
    "### 4. Convierta el corpus de documentos en una matriz TF-idf."
   ]
  },
  {
   "cell_type": "code",
   "execution_count": 87,
   "id": "15dffe62",
   "metadata": {},
   "outputs": [],
   "source": [
    "def data_prep(docs, categs):\n",
    "    from sklearn.feature_extraction.text import TfidfVectorizer\n",
    "    vectorizer = TfidfVectorizer()\n",
    "    spam_tfidf = vectorizer.fit_transform(docs)\n",
    "    from sklearn.model_selection import train_test_split\n",
    "    docs_train, docs_test, categs_train, categs_test = train_test_split(spam_tfidf, categsbin, test_size = 0.25, \n",
    "                                                                        random_state = random_state, stratify=categs)\n",
    "    return docs_train, docs_test, categs_train, categs_test"
   ]
  },
  {
   "cell_type": "code",
   "execution_count": 88,
   "id": "a953fa0d",
   "metadata": {},
   "outputs": [],
   "source": [
    "docs_train, docs_test, categs_train, categs_test = data_prep(docs, categs)"
   ]
  },
  {
   "cell_type": "code",
   "execution_count": 89,
   "id": "e37563d4",
   "metadata": {},
   "outputs": [
    {
     "data": {
      "text/plain": [
       "0    0.865997\n",
       "1    0.134003\n",
       "Name: label_bin, dtype: float64"
      ]
     },
     "execution_count": 89,
     "metadata": {},
     "output_type": "execute_result"
    }
   ],
   "source": [
    "categs_train.value_counts(normalize=True)\n"
   ]
  },
  {
   "cell_type": "code",
   "execution_count": 90,
   "id": "42000ddc",
   "metadata": {},
   "outputs": [
    {
     "data": {
      "text/plain": [
       "0    0.865757\n",
       "1    0.134243\n",
       "Name: label_bin, dtype: float64"
      ]
     },
     "execution_count": 90,
     "metadata": {},
     "output_type": "execute_result"
    }
   ],
   "source": [
    "categs_test.value_counts(normalize=True)"
   ]
  },
  {
   "cell_type": "markdown",
   "id": "7eed510c",
   "metadata": {},
   "source": [
    "### 5. Llegados a este punto, realice modelos de entrenamiento almenos con algoritmos de clasificador bayesiano ingenuo, máquinas SVM y un modelo basado en árbol de decisión. Obtenga resultados de accuracy de la clasificación, así como las matrices de confusión para los tres modelos.\n",
    "\n"
   ]
  },
  {
   "cell_type": "code",
   "execution_count": 91,
   "id": "8558ace3",
   "metadata": {},
   "outputs": [],
   "source": [
    "#Importmos todos los modelos\n",
    "from sklearn.naive_bayes import MultinomialNB\n",
    "from sklearn.svm import SVC\n",
    "from xgboost import XGBClassifier\n",
    "\n",
    "#Importamos matriz de confusion \n",
    "from sklearn.metrics import confusion_matrix"
   ]
  },
  {
   "cell_type": "code",
   "execution_count": 104,
   "id": "f8d04cbf",
   "metadata": {},
   "outputs": [],
   "source": [
    "def run_models(modellist):\n",
    "    for name in modellist:\n",
    "        if name == \"Bayesiano Ingenuo\":\n",
    "            model = MultinomialNB()\n",
    "        if name == \"SVC\":\n",
    "            model = SVC(kernel='linear')\n",
    "        if name == \"XGBoost\":\n",
    "            model = XGBClassifier(n_jobs = -1, random_state = random_state)\n",
    "\n",
    "\n",
    "        model.fit(docs_train, categs_train)\n",
    "        categs_pred = model.predict(docs_test)\n",
    "        acc_train = model.score(docs_train, categs_train)\n",
    "        acc_test = model.score(docs_test, categs_test)\n",
    "\n",
    "        # Confusion Matrix\n",
    "        print('Para el modelo',str(name),\"matriz de confusion es:\")\n",
    "        print(confusion_matrix(categs_test, categs_pred))\n",
    "        print(\"Con un accuracy de train de:\", round(acc_train*100,2),\"%\")\n",
    "        print(\"Con un accuracy de test de:\", round(acc_test*100,2),\"%\")\n",
    "        print(\"Con una fiabilidad de:\", round(acc_test/acc_train*100,2),\"%\", \"\\n\")"
   ]
  },
  {
   "cell_type": "code",
   "execution_count": 105,
   "id": "0812cbc8",
   "metadata": {},
   "outputs": [
    {
     "name": "stdout",
     "output_type": "stream",
     "text": [
      "Para el modelo Bayesiano Ingenuo matriz de confusion es:\n",
      "[[1206    0]\n",
      " [  46  141]]\n",
      "Con un accuracy de train de: 96.48 %\n",
      "Con un accuracy de test de: 96.7 %\n",
      "Con una fiabilidad de: 100.22 % \n",
      "\n",
      "Para el modelo SVC matriz de confusion es:\n",
      "[[1202    4]\n",
      " [  19  168]]\n",
      "Con un accuracy de train de: 99.69 %\n",
      "Con un accuracy de test de: 98.35 %\n",
      "Con una fiabilidad de: 98.66 % \n",
      "\n",
      "Para el modelo XGBoost matriz de confusion es:\n",
      "[[1203    3]\n",
      " [  20  167]]\n",
      "Con un accuracy de train de: 99.76 %\n",
      "Con un accuracy de test de: 98.35 %\n",
      "Con una fiabilidad de: 98.58 % \n",
      "\n"
     ]
    }
   ],
   "source": [
    "modellist = [\"Bayesiano Ingenuo\", \"SVC\", \"XGBoost\"]\n",
    "run_models(modellist)"
   ]
  },
  {
   "cell_type": "markdown",
   "id": "9074872f",
   "metadata": {},
   "source": [
    "### 6. (Pregunta convalidable por la actividad de topic modelling. Confirmar con la profesora si está convalidado). Conteste a las siguientes preguntas basándote en evidencias de código. ¿Tiene influencia en el resultado final el número máximo de features a utilizar? ¿Modifica el resultado si se eliminan las stop words? ¿Y si se utilizan las formas canónicas?\n",
    "\n"
   ]
  },
  {
   "cell_type": "markdown",
   "id": "56b29e8f",
   "metadata": {},
   "source": [
    "### 7. Imagínese que este entregable es una labor que le han solicitado en un entorno profesional, y que tiene que entregar esta documentación para comentar lo que ha descubierto (datos de entrada, rendimiento de los modelos, o cualquier descubrimiento que pueda ser importante). Comente los resultados obtenidos."
   ]
  },
  {
   "cell_type": "code",
   "execution_count": null,
   "id": "a3bba7b8",
   "metadata": {},
   "outputs": [],
   "source": []
  },
  {
   "cell_type": "code",
   "execution_count": null,
   "id": "dde3d98b",
   "metadata": {},
   "outputs": [],
   "source": []
  },
  {
   "cell_type": "code",
   "execution_count": null,
   "id": "ef38907e",
   "metadata": {},
   "outputs": [],
   "source": []
  },
  {
   "cell_type": "code",
   "execution_count": null,
   "id": "38241e59",
   "metadata": {},
   "outputs": [],
   "source": []
  },
  {
   "cell_type": "code",
   "execution_count": null,
   "id": "9b1f4256",
   "metadata": {},
   "outputs": [],
   "source": []
  }
 ],
 "metadata": {
  "kernelspec": {
   "display_name": "Python 3 (ipykernel)",
   "language": "python",
   "name": "python3"
  },
  "language_info": {
   "codemirror_mode": {
    "name": "ipython",
    "version": 3
   },
   "file_extension": ".py",
   "mimetype": "text/x-python",
   "name": "python",
   "nbconvert_exporter": "python",
   "pygments_lexer": "ipython3",
   "version": "3.9.13"
  }
 },
 "nbformat": 4,
 "nbformat_minor": 5
}
