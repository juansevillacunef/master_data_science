{
 "cells": [
  {
   "cell_type": "markdown",
   "id": "9ecad109",
   "metadata": {},
   "source": [
    "# NLP Question Answering - Marta Jimenez, Marta Gonzalez, Marta Onieva, Marta Delgado, Loreto Torres"
   ]
  },
  {
   "cell_type": "code",
   "execution_count": 10,
   "id": "ec750fc7",
   "metadata": {},
   "outputs": [],
   "source": [
    "# pip install transformers"
   ]
  },
  {
   "cell_type": "code",
   "execution_count": 5,
   "id": "4c74e100",
   "metadata": {},
   "outputs": [],
   "source": [
    "from transformers import pipeline"
   ]
  },
  {
   "cell_type": "code",
   "execution_count": 6,
   "id": "7b4a4b1c",
   "metadata": {},
   "outputs": [
    {
     "data": {
      "application/vnd.jupyter.widget-view+json": {
       "model_id": "967b78deb04a40f99402d4cf1df1aa2a",
       "version_major": 2,
       "version_minor": 0
      },
      "text/plain": [
       "Downloading:   0%|          | 0.00/590 [00:00<?, ?B/s]"
      ]
     },
     "metadata": {},
     "output_type": "display_data"
    },
    {
     "name": "stderr",
     "output_type": "stream",
     "text": [
      "C:\\Users\\rtssm\\anaconda3\\lib\\site-packages\\huggingface_hub\\file_download.py:127: UserWarning: `huggingface_hub` cache-system uses symlinks by default to efficiently store duplicated files but your machine does not support them in C:\\Users\\rtssm\\.cache\\huggingface\\hub. Caching files will still work but in a degraded version that might require more space on your disk. This warning can be disabled by setting the `HF_HUB_DISABLE_SYMLINKS_WARNING` environment variable. For more details, see https://huggingface.co/docs/huggingface_hub/how-to-cache#limitations.\n",
      "To support symlinks on Windows, you either need to activate Developer Mode or to run Python as an administrator. In order to see activate developer mode, see this article: https://docs.microsoft.com/en-us/windows/apps/get-started/enable-your-device-for-development\n",
      "  warnings.warn(message)\n"
     ]
    },
    {
     "data": {
      "application/vnd.jupyter.widget-view+json": {
       "model_id": "4fedc66ac76f4d2ead2a06bb2f3b7a1c",
       "version_major": 2,
       "version_minor": 0
      },
      "text/plain": [
       "Downloading:   0%|          | 0.00/53.7M [00:00<?, ?B/s]"
      ]
     },
     "metadata": {},
     "output_type": "display_data"
    },
    {
     "data": {
      "application/vnd.jupyter.widget-view+json": {
       "model_id": "f99beedd1dfc4162b929374844d0f6d2",
       "version_major": 2,
       "version_minor": 0
      },
      "text/plain": [
       "Downloading:   0%|          | 0.00/85.0 [00:00<?, ?B/s]"
      ]
     },
     "metadata": {},
     "output_type": "display_data"
    },
    {
     "data": {
      "application/vnd.jupyter.widget-view+json": {
       "model_id": "289ccd984ba44b22bcab7badb7574239",
       "version_major": 2,
       "version_minor": 0
      },
      "text/plain": [
       "Downloading:   0%|          | 0.00/228k [00:00<?, ?B/s]"
      ]
     },
     "metadata": {},
     "output_type": "display_data"
    },
    {
     "data": {
      "application/vnd.jupyter.widget-view+json": {
       "model_id": "3e988cbe50764887b9cd01a7172a48ed",
       "version_major": 2,
       "version_minor": 0
      },
      "text/plain": [
       "Downloading:   0%|          | 0.00/112 [00:00<?, ?B/s]"
      ]
     },
     "metadata": {},
     "output_type": "display_data"
    },
    {
     "name": "stdout",
     "output_type": "stream",
     "text": [
      "{'score': 0.14860010147094727, 'start': 98, 'end': 100, 'answer': '65'}\n",
      "{'score': 0.32258036732673645, 'start': 136, 'end': 141, 'answer': '50 MB'}\n",
      "{'score': 0.9687203764915466, 'start': 0, 'end': 6, 'answer': 'Manuel'}\n",
      "{'score': 0.23573525249958038, 'start': 10, 'end': 53, 'answer': 'creado una versión del modelo Electra small'}\n"
     ]
    }
   ],
   "source": [
    "qa_pipeline = pipeline(\n",
    "    \"question-answering\",\n",
    "    model=\"mrm8488/electricidad-small-finetuned-squadv1-es\",\n",
    "    tokenizer=\"mrm8488/electricidad-small-finetuned-squadv1-es\"\n",
    ")\n",
    "\n",
    "context = \"Manuel ha creado una versión del modelo Electra small en español que alcanza una puntuación F1 de 65 en el dataset SQUAD-es y sólo pesa 50 MB\"\n",
    "\n",
    "q1 = \"Cuál es su marcador F1?\"\n",
    "q2 = \"¿Cuál es el tamaño del modelo?\"\n",
    "q3 = \"¿Quién lo ha creado?\"\n",
    "q4 = \"¿Que es lo que ha hecho Manuel?\"\n",
    "\n",
    "\n",
    "questions = [q1, q2, q3, q4]\n",
    "\n",
    "for question in questions:\n",
    "  result = qa_pipeline({\n",
    "    'context': context,\n",
    "    'question': question})\n",
    "  print(result)"
   ]
  },
  {
   "cell_type": "markdown",
   "id": "0a043309",
   "metadata": {},
   "source": [
    "**EXPLICACIÓN OUTPUT**\n",
    "- Score: cuanto de seguro estoy yo de que la respuesta es correcta\n",
    "- Start: número de posición de la primera letra con la que comienza la respuesta en la frase de context\n",
    "- End: número de posición de la última letra con la que termina la respuesta de la frase de context\n",
    "- Answer: respuesta completa de la pregunta planteada"
   ]
  }
 ],
 "metadata": {
  "kernelspec": {
   "display_name": "Python 3 (ipykernel)",
   "language": "python",
   "name": "python3"
  },
  "language_info": {
   "codemirror_mode": {
    "name": "ipython",
    "version": 3
   },
   "file_extension": ".py",
   "mimetype": "text/x-python",
   "name": "python",
   "nbconvert_exporter": "python",
   "pygments_lexer": "ipython3",
   "version": "3.9.13"
  }
 },
 "nbformat": 4,
 "nbformat_minor": 5
}
