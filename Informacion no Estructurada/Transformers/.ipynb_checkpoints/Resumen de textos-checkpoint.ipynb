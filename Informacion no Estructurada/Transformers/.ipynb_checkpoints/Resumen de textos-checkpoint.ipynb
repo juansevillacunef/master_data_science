{
 "cells": [
  {
   "cell_type": "code",
   "execution_count": 1,
   "id": "3de2291c",
   "metadata": {},
   "outputs": [],
   "source": [
    "texto=\"Papi te habla Jadiel el incomparable. Directamente desde Marte Studio King. Con mi hermano Mc Manuel el ingeniero musical. Jadiel el incomparable, el Tsunami DJ Ricky. Alofoke. Y a mí me gusta el flow de la cucaracha. Cuando le echan fly, hace así. Y se emborracha. Y a mí me gusta el flow de la cucaracha. Cuando le echan fly, hace así. Y se emborracha (Jadiel). Ay que pena. Me da la cucaracha siempre esta en problemas. Tú la dejas ella siempre con el mismo tema. Tranquilo cucaracha, no te busques más problemas. O te va a dar flema. Y deja la sonrisa o viene el pana mío y de nuevo te culiza. O coge el martillo y los dedos te los hace triza. Te coge en la calle y te mete una paliza, una paliza. Es que tu bien te sabe pa' recibir bofetones. Si por eso tiene un premio tu tuvieras galardones. Es que tú eres el amo más grande de los lambones, de los lambones. Tú eres mi pana, tu solo un vacilón. Te salió en Punta Cana. Bebiendo mucho alcohol y fumando marihuana. Tranquilo tú sabes con mis panas, con mi flow. Y a mí me gusta el flow de la cucaracha. Cuando le echan fly, hace así. Y se emborracha\"\n",
    "texto1='El Campeonato Mundial de Fórmula 1 de la FIA, más conocido como Fórmula 1, F1 o Fórmula Uno, es la principal competición de automovilismo internacional y el campeonato de deportes de motor más popular y prestigioso del mundo. La entidad que la dirige es la Federación Internacional del Automóvil (FIA). Desde septiembre del 2016, tras la adquisición de Formula One Group, la empresa estadounidense Liberty Media es la responsable de gestionar y operar el campeonato'\n",
    "texto2='Históricamente  ha  existido  una  polémica  sobre  si  las  ciencias  sociales  ―dentro de la cual está la psicología― son ciencia (Bernal, 2006). Cuando se habla de ciencia y de hechos científicos, las personas asumen la existencia de fiabilidad, de verdad, y se otorga un alto valor a aquello que lleve estas etiquetas. Chalmers (2003) afirma que el sólo hecho de que algo sea denominado científico, hace que se le otorgue un lugar importante y una alta valoración.Según Bunge (1960), la ciencia es un grupo de ideas creadas por el ser humano que le permiten entender e interpretar el mundo en el que vive. Para crear un concepto de mundo, las personas que hacen ciencia recurren a la investigación científica, la cual genera un conocimiento racional, sistemático, exacto, verificable y fiable. Otra característica de la ciencia es que el conocimiento que genera, el conocimiento científico, parte de los hechos (Bunge, 1960). El método científico, inicia con la teoría y recolecta los datos para apoyar o refutar esta teoría (Creswell, 2002). Este proceso de recolección genera afirmaciones del mundo, que se verifican con el uso de los sentidos (ver, oír, tocar) de manera objetiva, y que no intervienen las opiniones personales (Chalmers, 2003) ni valores emocionales o comerciales (Bunge (1960)'"
   ]
  },
  {
   "cell_type": "code",
   "execution_count": 2,
   "id": "96f3a5dc",
   "metadata": {},
   "outputs": [
    {
     "name": "stderr",
     "output_type": "stream",
     "text": [
      "The following encoder weights were not tied to the decoder ['bert/pooler']\n",
      "The following encoder weights were not tied to the decoder ['bert/pooler']\n"
     ]
    }
   ],
   "source": [
    "import warnings\n",
    "warnings.filterwarnings(\"ignore\")\n",
    "import torch\n",
    "from transformers import BertTokenizerFast, EncoderDecoderModel\n",
    "device = 'cuda' if torch.cuda.is_available() else 'cpu'\n",
    "ckpt = 'mrm8488/bert2bert_shared-spanish-finetuned-summarization'\n",
    "tokenizer = BertTokenizerFast.from_pretrained(ckpt)\n",
    "model = EncoderDecoderModel.from_pretrained(ckpt).to(device)\n",
    "\n",
    "def generate_summary(text):\n",
    "    inputs = tokenizer([text], padding=\"max_length\", truncation=True, \n",
    "                       max_length=512, return_tensors=\"pt\")\n",
    "    input_ids = inputs.input_ids.to(device)\n",
    "    attention_mask = inputs.attention_mask.to(device)\n",
    "    output = model.generate(input_ids, attention_mask=attention_mask)\n",
    "    return tokenizer.decode(output[0], skip_special_tokens=True)"
   ]
  },
  {
   "cell_type": "code",
   "execution_count": 3,
   "id": "22353b56",
   "metadata": {},
   "outputs": [
    {
     "data": {
      "text/plain": [
       "'A mí me gusta el flow de la cucaracha siempre esta en problemas. Tú eres mi pana, tu solo un vacilón'"
      ]
     },
     "execution_count": 3,
     "metadata": {},
     "output_type": "execute_result"
    }
   ],
   "source": [
    "generate_summary(texto)"
   ]
  },
  {
   "cell_type": "code",
   "execution_count": 4,
   "id": "c419def9",
   "metadata": {},
   "outputs": [
    {
     "data": {
      "text/plain": [
       "'El campeonato mundial de Fórmula 1 es la principal competición de automovilismo internacional y el campeonato de deportes de motor más popular y prestigioso del mundo'"
      ]
     },
     "execution_count": 4,
     "metadata": {},
     "output_type": "execute_result"
    }
   ],
   "source": [
    "generate_summary(texto1)"
   ]
  },
  {
   "cell_type": "code",
   "execution_count": 5,
   "id": "d7cc466b",
   "metadata": {},
   "outputs": [
    {
     "data": {
      "text/plain": [
       "'Las personas asumen la existencia de fiabilidad, de verdad, y se otorga un alto valor a aquello que lleve estas etiquetas'"
      ]
     },
     "execution_count": 5,
     "metadata": {},
     "output_type": "execute_result"
    }
   ],
   "source": [
    "generate_summary(texto2)"
   ]
  }
 ],
 "metadata": {
  "kernelspec": {
   "display_name": "Python 3 (ipykernel)",
   "language": "python",
   "name": "python3"
  },
  "language_info": {
   "codemirror_mode": {
    "name": "ipython",
    "version": 3
   },
   "file_extension": ".py",
   "mimetype": "text/x-python",
   "name": "python",
   "nbconvert_exporter": "python",
   "pygments_lexer": "ipython3",
   "version": "3.9.13"
  }
 },
 "nbformat": 4,
 "nbformat_minor": 5
}
