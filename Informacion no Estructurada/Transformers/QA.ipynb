{
 "cells": [
  {
   "cell_type": "markdown",
   "id": "9ecad109",
   "metadata": {},
   "source": [
    "# NLP Question Answering - Marta Jimenez, Marta Gonzalez, Marta Onieva, Marta Delgado, Loreto Torres"
   ]
  },
  {
   "cell_type": "code",
   "execution_count": 1,
   "id": "ec750fc7",
   "metadata": {},
   "outputs": [],
   "source": [
    "# pip install transformers"
   ]
  },
  {
   "cell_type": "code",
   "execution_count": 2,
   "id": "4c74e100",
   "metadata": {},
   "outputs": [],
   "source": [
    "from transformers import pipeline"
   ]
  },
  {
   "cell_type": "code",
   "execution_count": 3,
   "id": "7b4a4b1c",
   "metadata": {},
   "outputs": [
    {
     "name": "stdout",
     "output_type": "stream",
     "text": [
      "{'score': 0.1486002653837204, 'start': 98, 'end': 100, 'answer': '65'}\n",
      "{'score': 0.32258033752441406, 'start': 136, 'end': 141, 'answer': '50 MB'}\n",
      "{'score': 0.9687203764915466, 'start': 0, 'end': 6, 'answer': 'Manuel'}\n",
      "{'score': 0.23573541641235352, 'start': 10, 'end': 53, 'answer': 'creado una versión del modelo Electra small'}\n"
     ]
    }
   ],
   "source": [
    "qa_pipeline = pipeline(\n",
    "    \"question-answering\",\n",
    "    model=\"mrm8488/electricidad-small-finetuned-squadv1-es\",\n",
    "    tokenizer=\"mrm8488/electricidad-small-finetuned-squadv1-es\"\n",
    ")\n",
    "\n",
    "context = \"Manuel ha creado una versión del modelo Electra small en español que alcanza una puntuación F1 de 65 en el dataset SQUAD-es y sólo pesa 50 MB\"\n",
    "\n",
    "q1 = \"Cuál es su marcador F1?\"\n",
    "q2 = \"¿Cuál es el tamaño del modelo?\"\n",
    "q3 = \"¿Quién lo ha creado?\"\n",
    "q4 = \"¿Que es lo que ha hecho Manuel?\"\n",
    "\n",
    "\n",
    "questions = [q1, q2, q3, q4]\n",
    "\n",
    "for question in questions:\n",
    "  result = qa_pipeline({\n",
    "    'context': context,\n",
    "    'question': question})\n",
    "  print(result)"
   ]
  },
  {
   "cell_type": "markdown",
   "id": "0a043309",
   "metadata": {},
   "source": [
    "**EXPLICACIÓN OUTPUT**\n",
    "- Score: cuanto de seguro estoy yo de que la respuesta es correcta\n",
    "- Start: número de posición de la primera letra con la que comienza la respuesta en la frase de context\n",
    "- End: número de posición de la última letra con la que termina la respuesta de la frase de context\n",
    "- Answer: respuesta completa de la pregunta planteada"
   ]
  }
 ],
 "metadata": {
  "kernelspec": {
   "display_name": "Python 3 (ipykernel)",
   "language": "python",
   "name": "python3"
  },
  "language_info": {
   "codemirror_mode": {
    "name": "ipython",
    "version": 3
   },
   "file_extension": ".py",
   "mimetype": "text/x-python",
   "name": "python",
   "nbconvert_exporter": "python",
   "pygments_lexer": "ipython3",
   "version": "3.9.13"
  }
 },
 "nbformat": 4,
 "nbformat_minor": 5
}
