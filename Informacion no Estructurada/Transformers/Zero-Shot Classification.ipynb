{
 "cells": [
  {
   "cell_type": "code",
   "execution_count": 1,
   "id": "fbe46127",
   "metadata": {
    "scrolled": true
   },
   "outputs": [
    {
     "data": {
      "application/vnd.jupyter.widget-view+json": {
       "model_id": "",
       "version_major": 2,
       "version_minor": 0
      },
      "text/plain": [
       "Downloading:   0%|          | 0.00/834 [00:00<?, ?B/s]"
      ]
     },
     "metadata": {},
     "output_type": "display_data"
    },
    {
     "data": {
      "application/vnd.jupyter.widget-view+json": {
       "model_id": "",
       "version_major": 2,
       "version_minor": 0
      },
      "text/plain": [
       "Downloading:   0%|          | 0.00/440M [00:00<?, ?B/s]"
      ]
     },
     "metadata": {},
     "output_type": "display_data"
    },
    {
     "data": {
      "application/vnd.jupyter.widget-view+json": {
       "model_id": "",
       "version_major": 2,
       "version_minor": 0
      },
      "text/plain": [
       "Downloading:   0%|          | 0.00/528 [00:00<?, ?B/s]"
      ]
     },
     "metadata": {},
     "output_type": "display_data"
    },
    {
     "data": {
      "application/vnd.jupyter.widget-view+json": {
       "model_id": "",
       "version_major": 2,
       "version_minor": 0
      },
      "text/plain": [
       "Downloading:   0%|          | 0.00/242k [00:00<?, ?B/s]"
      ]
     },
     "metadata": {},
     "output_type": "display_data"
    },
    {
     "data": {
      "application/vnd.jupyter.widget-view+json": {
       "model_id": "",
       "version_major": 2,
       "version_minor": 0
      },
      "text/plain": [
       "Downloading:   0%|          | 0.00/112 [00:00<?, ?B/s]"
      ]
     },
     "metadata": {},
     "output_type": "display_data"
    },
    {
     "data": {
      "text/plain": [
       "{'sequence': 'El autor se perfila, a los 50 años de su muerte, como uno de los grandes de su siglo',\n",
       " 'labels': ['cultura', 'sociedad', 'economia', 'deportes', 'salud'],\n",
       " 'scores': [0.29461371898651123,\n",
       "  0.2621484398841858,\n",
       "  0.17446866631507874,\n",
       "  0.13535554707050323,\n",
       "  0.13341361284255981]}"
      ]
     },
     "execution_count": 1,
     "metadata": {},
     "output_type": "execute_result"
    }
   ],
   "source": [
    "from transformers import pipeline\n",
    "classifier = pipeline(\"zero-shot-classification\", \n",
    "                       model=\"Recognai/bert-base-spanish-wwm-cased-xnli\")\n",
    "\n",
    "classifier(\n",
    "    \"El autor se perfila, a los 50 años de su muerte, como uno de los grandes de su siglo\",\n",
    "    candidate_labels=[\"cultura\", \"sociedad\", \"economia\", \"salud\", \"deportes\"],\n",
    "    hypothesis_template=\"Este ejemplo es {}.\"\n",
    ")"
   ]
  },
  {
   "cell_type": "code",
   "execution_count": 2,
   "id": "af1fca6a",
   "metadata": {},
   "outputs": [
    {
     "data": {
      "text/plain": [
       "{'sequence': 'Neymar se postula como jugador revelacion del mundial',\n",
       " 'labels': ['deportes', 'cultura', 'sociedad', 'salud', 'economia'],\n",
       " 'scores': [0.838095486164093,\n",
       "  0.05867622420191765,\n",
       "  0.04246542230248451,\n",
       "  0.03408130258321762,\n",
       "  0.02668151631951332]}"
      ]
     },
     "execution_count": 2,
     "metadata": {},
     "output_type": "execute_result"
    }
   ],
   "source": [
    "classifier(\n",
    "    \"Neymar se postula como jugador revelacion del mundial\",\n",
    "    candidate_labels=[\"cultura\", \"sociedad\", \"economia\", \"salud\", \"deportes\"],\n",
    "    hypothesis_template=\"Este ejemplo es {}.\"\n",
    ")"
   ]
  },
  {
   "cell_type": "code",
   "execution_count": 3,
   "id": "6edec22d",
   "metadata": {},
   "outputs": [
    {
     "data": {
      "text/plain": [
       "{'sequence': 'Ayuso anuncia el fin de la eventualidad en la Sanidad: en dos años, el 86% de los sanitarios tendrán trabajo fijo',\n",
       " 'labels': ['salud', 'economia', 'sociedad', 'cultura', 'deportes'],\n",
       " 'scores': [0.7214834094047546,\n",
       "  0.08895308524370193,\n",
       "  0.08717770874500275,\n",
       "  0.0667932778596878,\n",
       "  0.03559258580207825]}"
      ]
     },
     "execution_count": 3,
     "metadata": {},
     "output_type": "execute_result"
    }
   ],
   "source": [
    "classifier(\n",
    "    \"Ayuso anuncia el fin de la eventualidad en la Sanidad: en dos años, el 86% de los sanitarios tendrán trabajo fijo\",\n",
    "    candidate_labels=[\"cultura\", \"sociedad\", \"economia\", \"salud\", \"deportes\"],\n",
    "    hypothesis_template=\"Este ejemplo es {}.\"\n",
    ")"
   ]
  },
  {
   "cell_type": "code",
   "execution_count": 4,
   "id": "45bb053b",
   "metadata": {},
   "outputs": [
    {
     "data": {
      "text/plain": [
       "{'sequence': 'La inversión estrella en banca europea supera el 200% de rentabilidad',\n",
       " 'labels': ['economia',\n",
       "  'IBEX',\n",
       "  'controversia',\n",
       "  'sociedad',\n",
       "  'deportes',\n",
       "  'cultura',\n",
       "  'salud'],\n",
       " 'scores': [0.4094611704349518,\n",
       "  0.21837805211544037,\n",
       "  0.16133858263492584,\n",
       "  0.10210958868265152,\n",
       "  0.04224299266934395,\n",
       "  0.036145880818367004,\n",
       "  0.030323699116706848]}"
      ]
     },
     "execution_count": 4,
     "metadata": {},
     "output_type": "execute_result"
    }
   ],
   "source": [
    "classifier(\n",
    "    \"La inversión estrella en banca europea supera el 200% de rentabilidad\",\n",
    "    candidate_labels=[\"cultura\", \"sociedad\", \"economia\", \"salud\", \"deportes\",\"IBEX\",\"controversia\"],\n",
    "    hypothesis_template=\"Este ejemplo es {}.\"\n",
    ")"
   ]
  },
  {
   "cell_type": "code",
   "execution_count": 5,
   "id": "c6f7ad70",
   "metadata": {},
   "outputs": [
    {
     "data": {
      "text/plain": [
       "{'sequence': 'Hacienda gana la batalla legal a El Rubius',\n",
       " 'labels': ['economia',\n",
       "  'controversia',\n",
       "  'IBEX',\n",
       "  'Twitch',\n",
       "  'sociedad',\n",
       "  'cultura',\n",
       "  'salud',\n",
       "  'deportes'],\n",
       " 'scores': [0.43851685523986816,\n",
       "  0.43400469422340393,\n",
       "  0.06278079748153687,\n",
       "  0.02141871117055416,\n",
       "  0.01386096328496933,\n",
       "  0.010774829424917698,\n",
       "  0.009602255187928677,\n",
       "  0.009040898643434048]}"
      ]
     },
     "execution_count": 5,
     "metadata": {},
     "output_type": "execute_result"
    }
   ],
   "source": [
    "classifier(\n",
    "    \"Hacienda gana la batalla legal a El Rubius\",\n",
    "    candidate_labels=[\"cultura\", \"sociedad\", \"economia\", \"salud\", \"deportes\",\"IBEX\",\"controversia\",\"Twitch\"],\n",
    "    hypothesis_template=\"Este ejemplo es {}.\"\n",
    ")"
   ]
  },
  {
   "cell_type": "code",
   "execution_count": 6,
   "id": "b9d2c156",
   "metadata": {},
   "outputs": [
    {
     "data": {
      "text/plain": [
       "{'sequence': 'Goya pintó los fusilamientos del 2 de mayo en 1808',\n",
       " 'labels': ['arte',\n",
       "  'historia',\n",
       "  'cultura',\n",
       "  'sociedad',\n",
       "  'deportes',\n",
       "  'salud',\n",
       "  'economia'],\n",
       " 'scores': [0.6393439173698425,\n",
       "  0.1345202773809433,\n",
       "  0.06992129981517792,\n",
       "  0.04647787660360336,\n",
       "  0.042745884507894516,\n",
       "  0.03963654115796089,\n",
       "  0.0273541621863842]}"
      ]
     },
     "execution_count": 6,
     "metadata": {},
     "output_type": "execute_result"
    }
   ],
   "source": [
    "classifier(\n",
    "    \"Goya pintó los fusilamientos del 2 de mayo en 1808\",\n",
    "    candidate_labels=[\"cultura\", \"sociedad\", \"economia\", \"salud\", \"deportes\",\"arte\",\"historia\"],\n",
    "    hypothesis_template=\"Este ejemplo es {}.\"\n",
    ")"
   ]
  },
  {
   "cell_type": "code",
   "execution_count": 7,
   "id": "16f6b2bd",
   "metadata": {},
   "outputs": [
    {
     "data": {
      "text/plain": [
       "{'sequence': 'Qué es la cultura de la violación de la que habla Irene Montero',\n",
       " 'labels': ['machismo',\n",
       "  'politica',\n",
       "  'arte',\n",
       "  'sociedad',\n",
       "  'economia',\n",
       "  'salud',\n",
       "  'deportes'],\n",
       " 'scores': [0.45671722292900085,\n",
       "  0.1490524560213089,\n",
       "  0.12766337394714355,\n",
       "  0.07096993178129196,\n",
       "  0.06708768755197525,\n",
       "  0.06505325436592102,\n",
       "  0.06345607340335846]}"
      ]
     },
     "execution_count": 7,
     "metadata": {},
     "output_type": "execute_result"
    }
   ],
   "source": [
    "classifier(\n",
    "    \"Qué es la cultura de la violación de la que habla Irene Montero\",\n",
    "    candidate_labels=[\"sociedad\", \"economia\", \"salud\", \"deportes\",\"arte\",\"machismo\",\"politica\"],\n",
    "    hypothesis_template=\"Este ejemplo es {}.\"\n",
    ")"
   ]
  },
  {
   "cell_type": "code",
   "execution_count": 9,
   "id": "a78813f5",
   "metadata": {},
   "outputs": [
    {
     "data": {
      "text/plain": [
       "{'sequence': 'El roscon de reyes esta mejor sin relleno ni frutas',\n",
       " 'labels': ['economia', 'sociedad'],\n",
       " 'scores': [0.8100866079330444, 0.18991334736347198]}"
      ]
     },
     "execution_count": 9,
     "metadata": {},
     "output_type": "execute_result"
    }
   ],
   "source": [
    "classifier(\n",
    "    \"El roscon de reyes esta mejor sin relleno ni frutas\",\n",
    "    candidate_labels=[\"sociedad\", \"economia\"],\n",
    "    hypothesis_template=\"Este ejemplo es {}.\"\n",
    ")"
   ]
  },
  {
   "cell_type": "code",
   "execution_count": null,
   "id": "45413cbd",
   "metadata": {},
   "outputs": [],
   "source": []
  }
 ],
 "metadata": {
  "kernelspec": {
   "display_name": "Python 3 (ipykernel)",
   "language": "python",
   "name": "python3"
  },
  "language_info": {
   "codemirror_mode": {
    "name": "ipython",
    "version": 3
   },
   "file_extension": ".py",
   "mimetype": "text/x-python",
   "name": "python",
   "nbconvert_exporter": "python",
   "pygments_lexer": "ipython3",
   "version": "3.9.13"
  }
 },
 "nbformat": 4,
 "nbformat_minor": 5
}
