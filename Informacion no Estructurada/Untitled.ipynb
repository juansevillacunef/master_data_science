{
 "cells": [
  {
   "cell_type": "code",
   "execution_count": 1,
   "id": "c084d564",
   "metadata": {},
   "outputs": [],
   "source": [
    "import pandas as pd\n",
    "from sklearn.naive_bayes import MultinomialNB\n",
    "from sklearn.svm import SVC\n",
    "from xgboost import XGBClassifier\n",
    "from sklearn.metrics import ConfusionMatrixDisplay\n",
    "from sklearn.model_selection import train_test_split"
   ]
  },
  {
   "cell_type": "code",
   "execution_count": null,
   "id": "13280a87",
   "metadata": {},
   "outputs": [],
   "source": [
    "import pandas as pd\n",
    "from sklearn.naive_bayes import MultinomialNB\n",
    "from sklearn.svm import SVC\n",
    "from xgboost import XGBClassifier\n",
    "from sklearn.metrics import ConfusionMatrixDisplay\n",
    "from sklearn.model_selection import train_test_split\n",
    "\n",
    "def run_models(texto_tfidf, label, modellist, disp_labels = None):\n",
    "    \"\"\" \n",
    "        Este funcion entrena cada modelo definido en lista input, separa entre train y test,\n",
    "        predice las clases para el conjunto test y calcula el accuracy de entrenamiento y test,\n",
    "        asi como la matriz de confusion par cada modelo.\n",
    "        \n",
    "        Input: \n",
    "            texto_tfidf: matriz de TFIDF del Corpus\n",
    "            label: columna con el label de la clase de cada documento\n",
    "            modellist: lista de strings con los modelos a entrenar\n",
    "            disp_labels: labels de las clases para las matrices de confusion\n",
    "            \n",
    "        Output:\n",
    "            matriz de confusion, accuacy de entrenaiento, test y fiabilidad para cada modelo entrenado\n",
    "    \"\"\"\n",
    "    plt.rcParams[\"figure.figsize\"] = (20,3)\n",
    "    \n",
    "    texto_train, texto_test, label_train, label_test = train_test_split(texto_tfidf, label, train_size = 0.8,\\\n",
    "                                                                        random_state=100, stratify=label)\n",
    "    \n",
    "    for name in modellist:\n",
    "        if name == \"Bayesiano Ingenuo\":\n",
    "            model = MultinomialNB()\n",
    "        if name == \"SVC\":\n",
    "            model = SVC(kernel='linear')\n",
    "        if name == \"XGBoost\":\n",
    "            model = XGBClassifier(n_jobs = -1, random_state = 100)\n",
    "\n",
    "\n",
    "        model.fit(texto_train, label_train)\n",
    "        categs_pred = model.predict(texto_test)\n",
    "        acc_train = model.score(texto_train, label_train)\n",
    "        acc_test = model.score(texto_test, label_test)\n",
    "        ConfusionMatrixDisplay.from_predictions(label_test, categs_pred, display_labels = disp_labels);\n",
    "        \n",
    "\n",
    "        # Confusion Matrix\n",
    "        print('Para el modelo','\\033[1m' + str(name) + '\\033[0m',\"matriz de confusion es:\")\n",
    "        plt.show()\n",
    "        print(\"Con un accuracy de train de:\", round(acc_train*100,2),\"%\")\n",
    "        print(\"Con un accuracy de test de:\", round(acc_test*100,2),\"%\")\n",
    "        print(\"Con una fiabilidad de:\", round(acc_test/acc_train*100,2),\"%\", \"\\n\")"
   ]
  },
  {
   "cell_type": "code",
   "execution_count": null,
   "id": "d341de9f",
   "metadata": {},
   "outputs": [],
   "source": [
    "ConfusionMatrixDisplay.from_prediction"
   ]
  }
 ],
 "metadata": {
  "kernelspec": {
   "display_name": "Python 3 (ipykernel)",
   "language": "python",
   "name": "python3"
  },
  "language_info": {
   "codemirror_mode": {
    "name": "ipython",
    "version": 3
   },
   "file_extension": ".py",
   "mimetype": "text/x-python",
   "name": "python",
   "nbconvert_exporter": "python",
   "pygments_lexer": "ipython3",
   "version": "3.9.13"
  }
 },
 "nbformat": 4,
 "nbformat_minor": 5
}
