{
 "cells": [
  {
   "cell_type": "code",
   "execution_count": 1,
   "id": "b41b5b83",
   "metadata": {},
   "outputs": [],
   "source": [
    "from langchain.chains import RetrievalQA\n",
    "from langchain.llms import OpenAI\n",
    "from langchain.document_loaders import PyPDFLoader\n",
    "from langchain.indexes import VectorstoreIndexCreator\n",
    "import glob\n",
    "from langchain.embeddings.openai import OpenAIEmbeddings\n",
    "from langchain.vectorstores import Chroma\n",
    "from langchain.indexes.vectorstore import VectorStoreIndexWrapper\n",
    "from langchain.text_splitter import CharacterTextSplitter\n",
    "from langchain.chat_models import ChatOpenAI\n",
    "import os\n",
    "from PyPDF2 import PdfReader\n",
    "from langchain.embeddings.openai import OpenAIEmbeddings\n",
    "from langchain.text_splitter import TokenTextSplitter\n",
    "from langchain.vectorstores import Chroma\n",
    "from langchain.document_loaders import TextLoader\n",
    "from langchain.prompts import PromptTemplate\n",
    "from langchain.chains.qa_with_sources import load_qa_with_sources_chain"
   ]
  },
  {
   "cell_type": "code",
   "execution_count": 2,
   "id": "b8990d5d",
   "metadata": {},
   "outputs": [],
   "source": [
    "document_index = None\n",
    "persist_directory = \"/Users/juan/Documents/Econ_unidos\"\n",
    "pdf_folder=\"/Users/juan/Documents/Juan MacBook Pro/CUNEF/Quinto/TFM/Selectividad/Economia Unidos\""
   ]
  },
  {
   "cell_type": "code",
   "execution_count": 36,
   "id": "f7d818af",
   "metadata": {},
   "outputs": [],
   "source": [
    "def init_document_index():\n",
    "    global document_index \n",
    "    if document_index is None:\n",
    "        print('\\nInitializing Document Index')\n",
    "        files = glob.glob(pdf_folder+'/*.pdf', recursive=False)\n",
    "        text = ''\n",
    "        for file in files:\n",
    "            PyPDF2.PdfReader(file)\n",
    "            for page_num in range(len(reader.pages)):\n",
    "                page = pdf_reader.pages[page_num]\n",
    "                text += page.extract_text() # type: ignore\n",
    "        docs = re.split(r\"\\d\\.\\s\", text)\n",
    "        embedding = OpenAIEmbeddings()\n",
    "        print('\\nLoading to Chroma')\n",
    "        vectordb = Chroma.from_texts(texts=docs, embedding=embedding, persist_directory=persist_directory)\n",
    "        print('\\nPersisting')\n",
    "        vectordb.persist()\n",
    "        print('\\nPersisted')\n",
    "        document_index = VectorStoreIndexWrapper(vectorstore=vectordb)\n",
    "    return document_index"
   ]
  },
  {
   "cell_type": "code",
   "execution_count": 39,
   "id": "cacad5b4",
   "metadata": {},
   "outputs": [],
   "source": [
    "def get_document_index():\n",
    "    global document_index\n",
    "    if document_index is None:\n",
    "        print()\n",
    "        embedding = OpenAIEmbeddings() # type: ignore\n",
    "        vectordb = Chroma(persist_directory=persist_directory, embedding_function=embedding)\n",
    "        document_index = VectorStoreIndexWrapper(vectorstore=vectordb)\n",
    "    return document_index"
   ]
  },
  {
   "cell_type": "code",
   "execution_count": 40,
   "id": "7cd7cabc",
   "metadata": {},
   "outputs": [],
   "source": [
    "def get_document_vectordb():\n",
    "    embedding = OpenAIEmbeddings() # type: ignore\n",
    "    vectordb = Chroma(persist_directory=persist_directory, embedding_function=embedding)\n",
    "    return vectordb"
   ]
  },
  {
   "cell_type": "code",
   "execution_count": 41,
   "id": "ed416b33",
   "metadata": {},
   "outputs": [],
   "source": [
    "gpt4 = ChatOpenAI(model_name=\"gpt-4\", temperature=0) # type: ignore"
   ]
  },
  {
   "cell_type": "code",
   "execution_count": 37,
   "id": "c4e5e91e",
   "metadata": {},
   "outputs": [
    {
     "name": "stdout",
     "output_type": "stream",
     "text": [
      "\n",
      "Initializing Document Index\n"
     ]
    },
    {
     "name": "stderr",
     "output_type": "stream",
     "text": [
      "Using embedded DuckDB with persistence: data will be stored in: /Users/juan/Documents/Econ_unidos\n"
     ]
    },
    {
     "name": "stdout",
     "output_type": "stream",
     "text": [
      "\n",
      "Loading to Chroma\n",
      "\n",
      "Persisting\n",
      "\n",
      "Persisted\n"
     ]
    },
    {
     "data": {
      "text/plain": [
       "VectorStoreIndexWrapper(vectorstore=<langchain.vectorstores.chroma.Chroma object at 0x7faae944bbe0>)"
      ]
     },
     "execution_count": 37,
     "metadata": {},
     "output_type": "execute_result"
    }
   ],
   "source": [
    "init_document_index()"
   ]
  },
  {
   "cell_type": "code",
   "execution_count": 42,
   "id": "868eee95",
   "metadata": {},
   "outputs": [],
   "source": [
    "index=get_document_index()"
   ]
  },
  {
   "cell_type": "code",
   "execution_count": 84,
   "id": "ea3ad041",
   "metadata": {},
   "outputs": [],
   "source": [
    "template = \"\"\"Use the following pieces of context to answer the question at the end. \n",
    "In the context you will find a statement part which is the exam question, and a solution part which is the text between \"SOLUCIÓN:\" and the next question statement.\n",
    "You should only show the solution part if requested by the prompt.\n",
    "If you are asked to provide questions, print the question literally without changing the wording.\n",
    "\n",
    "Alternatively you may be asked to give feedback on an answer to a given question.\n",
    "In this case find the question being asked and compare the user respones to the solution part (text after \"SOLUCION:\")and correct whatever is wrong or incomplete.\n",
    "Give a score out of ten to the user solution.\n",
    "\n",
    "\n",
    "If you don't know the answer, just say that you don't know. Don't try to make up an answer.\n",
    "Respond in Spanish.\n",
    "\n",
    "\n",
    "{context}\n",
    "\n",
    "QUESTION: {question}\n",
    "=========\n",
    "FINAL ANSWER IN SPANISH:\"\"\"\n",
    "PROMPT = PromptTemplate(template=template, input_variables=[\"context\", \"question\"])\n"
   ]
  },
  {
   "cell_type": "code",
   "execution_count": 85,
   "id": "56b8511d",
   "metadata": {},
   "outputs": [
    {
     "name": "stderr",
     "output_type": "stream",
     "text": [
      "Using embedded DuckDB with persistence: data will be stored in: /Users/juan/Documents/Econ_unidos\n"
     ]
    }
   ],
   "source": [
    "chain_type_kwargs = {\"prompt\": PROMPT}\n",
    "qa = RetrievalQA.from_chain_type(gpt4, chain_type=\"stuff\",\n",
    "                                 retriever=get_document_vectordb().as_retriever(),\n",
    "                                 chain_type_kwargs=chain_type_kwargs, verbose = True)"
   ]
  },
  {
   "cell_type": "code",
   "execution_count": 78,
   "id": "52b05b41",
   "metadata": {},
   "outputs": [
    {
     "name": "stdout",
     "output_type": "stream",
     "text": [
      "\n",
      "\n",
      "\u001b[1m> Entering new RetrievalQA chain...\u001b[0m\n",
      "\n",
      "\u001b[1m> Finished chain.\u001b[0m\n",
      "Indique las dos ventajas competitivas que una empresa puede conseguir mediante la inversión en I+D+i (0,5 puntos) y exponga dos ejemplos (0,5 puntos).\n",
      "\n",
      "Teniendo en cuenta la información anterior, se pide:\n",
      "a) Calcule el resultado del ejercicio 2021 de esta empresa (0,25 puntos).\n",
      "b) Elabore el Balance de Situación de la empresa a 31 de diciembre de 2021, indicando las principales masas patrimoniales (1 punto).\n",
      "c) Calcule los valores de las siguientes ratios de la empresa e interprete su resultado (0,75 puntos):\n",
      "− Ratio de liquidez: activo corriente / pasivo corriente. Valor recomendado de referencia: entre 1,5 y\n"
     ]
    }
   ],
   "source": [
    "query = \"Dame dos preguntas\"\n",
    "print(qa.run(query))"
   ]
  },
  {
   "cell_type": "code",
   "execution_count": 79,
   "id": "9a646ac3",
   "metadata": {},
   "outputs": [
    {
     "name": "stdout",
     "output_type": "stream",
     "text": [
      "\n",
      "\n",
      "\u001b[1m> Entering new RetrievalQA chain...\u001b[0m\n",
      "\n",
      "\u001b[1m> Finished chain.\u001b[0m\n",
      "Primera pregunta: Señale a qué tipo de organización de la empresa, formal o informal, responde la siguiente situación, argumentando su respuesta: «La persona que se incorporó a comienzos de año al departamento de expansión tiene una especial habilidad para trasmitir entusiasmo y motivación, creando un excelente ambiente de trabajo, colaboración y camaradería entre la mayor parte de la plantilla».\n",
      "Respuesta: La situación expuesta responde a un tipo de organización informal, ya que ha surgido de una manera espontánea, al margen de los cauces de decisión de la empresa, no estando asociada a unidades organizativas de la misma y descansando, en cambio, sobre las relaciones que voluntariamente se gestan entre las personas que trabajan en la empresa y en los roles que estas adoptan, entre los que destaca el liderazgo de la persona del ejemplo.\n",
      "\n",
      "Segunda pregunta: ¿A qué tipo de organización respondería la siguiente decisión de la empresa?: «A la vista de ello, la dirección está pensando en reestructurar la empresa, reorganizar los departamentos y ofrecerle un cargo de elevada responsabilidad».\n",
      "Respuesta: Con la respuesta de la empresa, por el contrario, se estaría adoptando una decisión de organización formal de la empresa.\n"
     ]
    }
   ],
   "source": [
    "query = \"Dame dos preguntas y sus respuestas\"\n",
    "print(qa.run(query))"
   ]
  },
  {
   "cell_type": "code",
   "execution_count": 87,
   "id": "6e14192b",
   "metadata": {},
   "outputs": [
    {
     "name": "stdout",
     "output_type": "stream",
     "text": [
      "\n",
      "\n",
      "\u001b[1m> Entering new RetrievalQA chain...\u001b[0m\n",
      "\n",
      "\u001b[1m> Finished chain.\u001b[0m\n",
      "La respuesta es incorrecta. La situación descrita corresponde a una organización informal porque efectivamente surgió espontáneamente y se basa en las relaciones voluntarias entre las personas que trabajan en la empresa. Sin embargo, has mencionado que es una organización formal cuando en realidad es informal. Te daría un puntaje de 4/10 por reconocer el surgimiento espontáneo y las relaciones voluntarias, pero necesitas corregir la clasificación de la organización.\n"
     ]
    }
   ],
   "source": [
    "query = \"\"\" \n",
    "Estoy respondiendo a la pregunta:Señale a qué tipo de organización de la empresa, formal o informal, responde la siguiente situación, argumentando su respuesta: «La persona que se incorporó a comienzos de año al departamento de expansión tiene una especial habilidad para trasmitir entusiasmo y motivación, creando un excelente ambiente de trabajo, colaboración y camaradería entre la mayor parte de la plantilla»\n",
    "Y mi respuesta es:\n",
    "Es una organizacion formal porque surgio espontaneamente. ademas las relaciones se gestan voluntariamente\n",
    "\"\"\"\n",
    "print(qa.run(query))"
   ]
  },
  {
   "cell_type": "code",
   "execution_count": 88,
   "id": "ce3aae2a",
   "metadata": {},
   "outputs": [
    {
     "name": "stdout",
     "output_type": "stream",
     "text": [
      "\n",
      "\n",
      "\u001b[1m> Entering new RetrievalQA chain...\u001b[0m\n",
      "\n",
      "\u001b[1m> Finished chain.\u001b[0m\n",
      "Pregunta: Considerando una empresa que vende camisetas a 10 euros por unidad, con costes fijos mensuales de 5.000 euros y costes variables unitarios de 4 euros, ¿cuál es el punto muerto o umbral de ventas?\n",
      "\n",
      "Solución: Primero calculemos el punto muerto utilizando la fórmula:\n",
      "\n",
      "Umbral de rentabilidad = costes fijos / (precio de venta unitario - costes variables unitarios)\n",
      "\n",
      "Umbral de rentabilidad = 5.000 / (10 - 4) = 5.000 / 6 = 833,33 unidades.\n",
      "\n",
      "Por lo tanto, el punto muerto o umbral de ventas es de 833,33 unidades. Esto significa que la empresa necesita vender al menos 834 unidades para cubrir todos sus costes y comenzar a obtener beneficios.\n"
     ]
    }
   ],
   "source": [
    "query = \"\"\" \n",
    "Hazme una pregunta sobre el punto muerto pero cambia los datos y dame la respuesta ajustada a los nuevos datos \n",
    "\"\"\"\n",
    "print(qa.run(query))"
   ]
  },
  {
   "cell_type": "code",
   "execution_count": null,
   "id": "aa9110c8",
   "metadata": {},
   "outputs": [],
   "source": []
  }
 ],
 "metadata": {
  "kernelspec": {
   "display_name": "Python 3 (ipykernel)",
   "language": "python",
   "name": "python3"
  },
  "language_info": {
   "codemirror_mode": {
    "name": "ipython",
    "version": 3
   },
   "file_extension": ".py",
   "mimetype": "text/x-python",
   "name": "python",
   "nbconvert_exporter": "python",
   "pygments_lexer": "ipython3",
   "version": "3.9.7"
  }
 },
 "nbformat": 4,
 "nbformat_minor": 5
}
